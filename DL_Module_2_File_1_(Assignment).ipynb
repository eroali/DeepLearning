{
  "nbformat": 4,
  "nbformat_minor": 0,
  "metadata": {
    "kernelspec": {
      "display_name": "Python 3",
      "language": "python",
      "name": "python3"
    },
    "language_info": {
      "codemirror_mode": {
        "name": "ipython",
        "version": 3
      },
      "file_extension": ".py",
      "mimetype": "text/x-python",
      "name": "python",
      "nbconvert_exporter": "python",
      "pygments_lexer": "ipython3",
      "version": "3.8.3"
    },
    "colab": {
      "name": "DL Module 2 File 1 (Assignment).ipynb",
      "provenance": [],
      "collapsed_sections": [
        "CtJXmBQJ03i0",
        "29Jv5_-Q03i5",
        "UbYEzEF003i5",
        "bkgZ_lk-03i5",
        "YkFyKUOB03i5",
        "VUbSx-5l03i5",
        "RWYGPpUF03i5",
        "YgpcO6KF03i6",
        "V_UKt2DN03i-",
        "lQKJ4-Rz03i_",
        "YYfZBIFW03i_",
        "gst_059F03jD",
        "hkKI_rIp03jD",
        "wnD-X53803jD",
        "2zZnrp0-03jH",
        "LFZf0Zgr03jH",
        "Jxhq1g9R03jH",
        "jqrwL0PL03jI",
        "JSKuN4v803jI",
        "1GBiqqB603jI",
        "3tZKWjzB03jI",
        "6cugQEd-03jM",
        "S0Wj3hax03jM",
        "d0DitGDN03jP",
        "BqqFvVC303jQ",
        "Zkekv9Ho03jS",
        "iBQfFk2Z03jT",
        "MK6oa6MR03jT",
        "I8YkJI2r03jT",
        "8oKktbE303jW",
        "DxsI9xSD03jW",
        "7EKSJr6l03jY",
        "66R-h-6B03jZ",
        "sVZ4f0FB03jZ",
        "bNp85hDF03jZ",
        "oh4S6uuE03jZ",
        "dkWthAhg03jZ",
        "E3c1dlM-03ja",
        "ZInqVpA003jc",
        "oRIfQEiG03jd",
        "UPq2v4Qp03je",
        "wjUpyIlB03je",
        "h5IEkJQG03jf",
        "paVatr6103jg",
        "ATffE5Kq03jh",
        "D5SMuKT403jj",
        "OnakDd6F03jk",
        "PVyIyomC03jk"
      ],
      "include_colab_link": true
    },
    "accelerator": "GPU"
  },
  "cells": [
    {
      "cell_type": "markdown",
      "metadata": {
        "id": "view-in-github",
        "colab_type": "text"
      },
      "source": [
        "<a href=\"https://colab.research.google.com/github/eroali/DeepLearning/blob/main/DL_Module_2_File_1_(Assignment).ipynb\" target=\"_parent\"><img src=\"https://colab.research.google.com/assets/colab-badge.svg\" alt=\"Open In Colab\"/></a>"
      ]
    },
    {
      "cell_type": "markdown",
      "metadata": {
        "id": "xaJVHnwD03ig"
      },
      "source": [
        "# DL Module 2 File 1 (Assignment)"
      ]
    },
    {
      "cell_type": "markdown",
      "metadata": {
        "id": "-odS3fy003in"
      },
      "source": [
        "Tasks to be performed:\n",
        "\n",
        "Note: Please refer to the Demo file (Classifying Handwritten Digits from Tensorflow 2.x) of\n",
        "Module 2\n",
        "\n",
        ".docx file 1: Create a Word File and answer the following tasks"
      ]
    },
    {
      "cell_type": "markdown",
      "metadata": {
        "id": "zp9P-RW203io"
      },
      "source": [
        "Marks: 10\n",
        "\n",
        "        Do you get the exact same results if you run the Notebook multiple times without changing any parameters?\n",
        "        What is the effect of adding more neurons to each hidden layer?\n",
        "        What happens if we manipulate the value of dropout?\n",
        "        What is the effect of adding more hidden layer to the network?\n",
        "        What is the accuracy score if we use RMSprop for model 6?\n",
        "        Does manipulating the learning rate affect the model? Justify your answer.\n",
        "        What is the best parameter configuration for this project?\n",
        "\n"
      ]
    },
    {
      "cell_type": "markdown",
      "metadata": {
        "id": "EKBpoCea03iq"
      },
      "source": [
        "#### Q1: Do you get the exact same results if you run the Notebook multiple times without changing any parameters?"
      ]
    },
    {
      "cell_type": "code",
      "metadata": {
        "id": "-1JTQznh03iq"
      },
      "source": [
        "# Do you get the exact same results if you run the Notebook multiple times without changing any parameters?"
      ],
      "execution_count": null,
      "outputs": []
    },
    {
      "cell_type": "code",
      "metadata": {
        "id": "NTPKpEAN03ir"
      },
      "source": [
        "#import libraries\n",
        "import tensorflow as tf\n",
        "from tensorflow import keras \n",
        "from tensorflow.keras.layers import Dense\n",
        "from tensorflow.keras import Sequential\n",
        "import matplotlib.pyplot as plt\n",
        "%matplotlib inline\n",
        "\n",
        "import numpy as np\n",
        "import pandas as pd\n",
        "import seaborn as sns\n"
      ],
      "execution_count": null,
      "outputs": []
    },
    {
      "cell_type": "code",
      "metadata": {
        "colab": {
          "base_uri": "https://localhost:8080/"
        },
        "id": "JFN8rKFw03is",
        "outputId": "4735892b-3b54-4acb-9c8e-53d61c4d6ec3"
      },
      "source": [
        "# Loading MNIST dataset\n",
        "(X_train, y_train), (X_test, y_test) = keras.datasets.mnist.load_data()\n"
      ],
      "execution_count": null,
      "outputs": [
        {
          "output_type": "stream",
          "text": [
            "Downloading data from https://storage.googleapis.com/tensorflow/tf-keras-datasets/mnist.npz\n",
            "11493376/11490434 [==============================] - 0s 0us/step\n"
          ],
          "name": "stdout"
        }
      ]
    },
    {
      "cell_type": "code",
      "metadata": {
        "colab": {
          "base_uri": "https://localhost:8080/"
        },
        "id": "qS0JGBUy03is",
        "outputId": "7fb84ea0-fbcf-4c5c-96cf-4763ecc646a5"
      },
      "source": [
        "print(X_train.shape)\n",
        "print(X_test.shape)"
      ],
      "execution_count": null,
      "outputs": [
        {
          "output_type": "stream",
          "text": [
            "(60000, 28, 28)\n",
            "(10000, 28, 28)\n"
          ],
          "name": "stdout"
        }
      ]
    },
    {
      "cell_type": "code",
      "metadata": {
        "colab": {
          "base_uri": "https://localhost:8080/"
        },
        "id": "4ryv9zCYqrkC",
        "outputId": "ab74c520-850b-4227-f898-bf6275f4b739"
      },
      "source": [
        "28*28"
      ],
      "execution_count": null,
      "outputs": [
        {
          "output_type": "execute_result",
          "data": {
            "text/plain": [
              "784"
            ]
          },
          "metadata": {
            "tags": []
          },
          "execution_count": 1
        }
      ]
    },
    {
      "cell_type": "code",
      "metadata": {
        "id": "e-rBDwPB03iu"
      },
      "source": [
        "#X_train[0] # pixel values between 0 to 255, but outline of 5 is visible"
      ],
      "execution_count": null,
      "outputs": []
    },
    {
      "cell_type": "code",
      "metadata": {
        "colab": {
          "base_uri": "https://localhost:8080/"
        },
        "id": "JC-3DebI03iu",
        "outputId": "0a0424b8-b28f-4dbc-bbf9-75fc909e49c3"
      },
      "source": [
        "y_train[0]"
      ],
      "execution_count": null,
      "outputs": [
        {
          "output_type": "execute_result",
          "data": {
            "text/plain": [
              "5"
            ]
          },
          "metadata": {
            "tags": []
          },
          "execution_count": 5
        }
      ]
    },
    {
      "cell_type": "code",
      "metadata": {
        "colab": {
          "base_uri": "https://localhost:8080/",
          "height": 294
        },
        "id": "5YtvEAAA03iv",
        "outputId": "b8e0bbc5-5b71-4b8c-a3e8-09a7c7d13d0b"
      },
      "source": [
        "plt.matshow(X_train[0])\n",
        "# plt.imshow(X_train[0]) #<<<<<<<<<<<<< THIS ALSO IS GOOD"
      ],
      "execution_count": null,
      "outputs": [
        {
          "output_type": "execute_result",
          "data": {
            "text/plain": [
              "<matplotlib.image.AxesImage at 0x7f89825b2940>"
            ]
          },
          "metadata": {
            "tags": []
          },
          "execution_count": 6
        },
        {
          "output_type": "display_data",
          "data": {
            "image/png": "[encoded data removed]",
            "text/plain": [
              "<Figure size 288x288 with 1 Axes>"
            ]
          },
          "metadata": {
            "tags": [],
            "needs_background": "light"
          }
        }
      ]
    },
    {
      "cell_type": "code",
      "metadata": {
        "id": "RodZP-uy03iy"
      },
      "source": [
        "# Data Preprocessing\n",
        "# Each image is 28 x 28 pixel matrix (numpy array). There are 60,000 such images in X_train & 10,000 in X_test\n",
        "\n",
        "# For applying neural network, we need to have a vector of 28x28 pixels for eaxh image.\n",
        "\n",
        "X_train = X_train.reshape(60000, 28*28) \n",
        "X_test = X_test.reshape(10000, 28*28) \n"
      ],
      "execution_count": null,
      "outputs": []
    },
    {
      "cell_type": "code",
      "metadata": {
        "id": "UDkPtcSE03iy"
      },
      "source": [
        "# Data is converted into float32 to use 32-bit precision # when training a neural network \n",
        "X_train = X_train.astype('float32')\n",
        "X_test = X_test.astype('float32') \n"
      ],
      "execution_count": null,
      "outputs": []
    },
    {
      "cell_type": "code",
      "metadata": {
        "id": "idVTVZAk03iz"
      },
      "source": [
        "# Normalizing the input to be within the range [0,1]\n",
        "X_train /= 255\n",
        "#intensity of each pixel is divided by 255, the maximum intensity value\n",
        "X_test /= 255"
      ],
      "execution_count": null,
      "outputs": []
    },
    {
      "cell_type": "code",
      "metadata": {
        "id": "WCdvU4IK03iz"
      },
      "source": [
        "# One-hot encoding of the labels.\n",
        "y_train = tf.keras.utils.to_categorical(y_train, 10) \n",
        "y_test = tf.keras.utils.to_categorical(y_test, 10)\n"
      ],
      "execution_count": null,
      "outputs": []
    },
    {
      "cell_type": "code",
      "metadata": {
        "colab": {
          "base_uri": "https://localhost:8080/"
        },
        "id": "887-ok5-03iz",
        "outputId": "1bb25286-8641-4b37-b376-f1b4668f85d3"
      },
      "source": [
        "#print(y_train[0:3])\n",
        "y_train[0]"
      ],
      "execution_count": null,
      "outputs": [
        {
          "output_type": "execute_result",
          "data": {
            "text/plain": [
              "array([0., 0., 0., 0., 0., 1., 0., 0., 0., 0.], dtype=float32)"
            ]
          },
          "metadata": {
            "tags": []
          },
          "execution_count": 11
        }
      ]
    },
    {
      "cell_type": "code",
      "metadata": {
        "id": "8LVKQfub03i0"
      },
      "source": [
        "#y_train[0:10]"
      ],
      "execution_count": null,
      "outputs": []
    },
    {
      "cell_type": "markdown",
      "metadata": {
        "id": "CtJXmBQJ03i0"
      },
      "source": [
        "### Model building - no hidden layer"
      ]
    },
    {
      "cell_type": "markdown",
      "metadata": {
        "id": "6ppw4mPa03i0"
      },
      "source": [
        " Sequential model_0 with 0 hidden layers. Choose an optimizer and loss function for training:"
      ]
    },
    {
      "cell_type": "code",
      "metadata": {
        "colab": {
          "base_uri": "https://localhost:8080/"
        },
        "id": "GtUKmsLw03i1",
        "outputId": "ed117747-4df6-420c-a9c4-80ed7f17a436"
      },
      "source": [
        "# Build model with 0 hidden layers.\n",
        "\n",
        "import tensorflow as tf\n",
        "from tensorflow.keras.layers import Dense\n",
        "from tensorflow.keras import Sequential\n",
        "\n",
        "model_0 = Sequential()\n",
        "\n",
        "# Now the model will take as input arrays of shape (*, 784)# and output arrays of shape (*, 10)\n",
        "# outpou array [0,1,2,3,4,5,6,7,8,9]. They are the labels of the images.\n",
        "\n",
        "model_0.add(Dense(10,input_shape=(784,),name='dense_layer', activation='softmax')) \n",
        "\n",
        "model_0.summary()"
      ],
      "execution_count": null,
      "outputs": [
        {
          "output_type": "stream",
          "text": [
            "Model: \"sequential\"\n",
            "_________________________________________________________________\n",
            "Layer (type)                 Output Shape              Param #   \n",
            "=================================================================\n",
            "dense_layer (Dense)          (None, 10)                7850      \n",
            "=================================================================\n",
            "Total params: 7,850\n",
            "Trainable params: 7,850\n",
            "Non-trainable params: 0\n",
            "_________________________________________________________________\n"
          ],
          "name": "stdout"
        }
      ]
    },
    {
      "cell_type": "code",
      "metadata": {
        "id": "kOgWVnll03i1"
      },
      "source": [
        "# Compile model\n",
        "\n",
        "model_0.compile(optimizer='SGD', \n",
        "              loss='categorical_crossentropy',\n",
        "              metrics=['accuracy'])"
      ],
      "execution_count": null,
      "outputs": []
    },
    {
      "cell_type": "code",
      "metadata": {
        "colab": {
          "base_uri": "https://localhost:8080/"
        },
        "id": "M1W2q2aq03i1",
        "outputId": "2b18a4fd-0c5a-429d-d960-56808704f4fa"
      },
      "source": [
        "# Train model\n",
        "\n",
        "training = model_0.fit(X_train, y_train, batch_size=64, epochs=70, validation_split=0.2) \n",
        "\n"
      ],
      "execution_count": null,
      "outputs": [
        {
          "output_type": "stream",
          "text": [
            "Epoch 1/70\n",
            "750/750 [==============================] - 4s 2ms/step - loss: 1.4754 - accuracy: 0.6076 - val_loss: 0.6547 - val_accuracy: 0.8632\n",
            "Epoch 2/70\n",
            "750/750 [==============================] - 2s 2ms/step - loss: 0.6379 - accuracy: 0.8542 - val_loss: 0.5068 - val_accuracy: 0.8797\n",
            "Epoch 3/70\n",
            "750/750 [==============================] - 2s 2ms/step - loss: 0.5257 - accuracy: 0.8705 - val_loss: 0.4488 - val_accuracy: 0.8885\n",
            "Epoch 4/70\n",
            "750/750 [==============================] - 2s 2ms/step - loss: 0.4718 - accuracy: 0.8790 - val_loss: 0.4165 - val_accuracy: 0.8932\n",
            "Epoch 5/70\n",
            "750/750 [==============================] - 2s 2ms/step - loss: 0.4447 - accuracy: 0.8839 - val_loss: 0.3958 - val_accuracy: 0.8976\n",
            "Epoch 6/70\n",
            "750/750 [==============================] - 2s 2ms/step - loss: 0.4148 - accuracy: 0.8897 - val_loss: 0.3806 - val_accuracy: 0.9004\n",
            "Epoch 7/70\n",
            "750/750 [==============================] - 2s 2ms/step - loss: 0.4000 - accuracy: 0.8925 - val_loss: 0.3692 - val_accuracy: 0.9025\n",
            "Epoch 8/70\n",
            "750/750 [==============================] - 2s 2ms/step - loss: 0.4002 - accuracy: 0.8908 - val_loss: 0.3604 - val_accuracy: 0.9043\n",
            "Epoch 9/70\n",
            "750/750 [==============================] - 2s 2ms/step - loss: 0.3848 - accuracy: 0.8944 - val_loss: 0.3530 - val_accuracy: 0.9062\n",
            "Epoch 10/70\n",
            "750/750 [==============================] - 2s 2ms/step - loss: 0.3739 - accuracy: 0.8985 - val_loss: 0.3467 - val_accuracy: 0.9075\n",
            "Epoch 11/70\n",
            "750/750 [==============================] - 2s 2ms/step - loss: 0.3728 - accuracy: 0.8968 - val_loss: 0.3414 - val_accuracy: 0.9087\n",
            "Epoch 12/70\n",
            "750/750 [==============================] - 2s 2ms/step - loss: 0.3598 - accuracy: 0.9022 - val_loss: 0.3371 - val_accuracy: 0.9085\n",
            "Epoch 13/70\n",
            "750/750 [==============================] - 2s 2ms/step - loss: 0.3516 - accuracy: 0.9039 - val_loss: 0.3331 - val_accuracy: 0.9091\n",
            "Epoch 14/70\n",
            "750/750 [==============================] - 2s 2ms/step - loss: 0.3523 - accuracy: 0.9017 - val_loss: 0.3294 - val_accuracy: 0.9107\n",
            "Epoch 15/70\n",
            "750/750 [==============================] - 2s 2ms/step - loss: 0.3434 - accuracy: 0.9042 - val_loss: 0.3262 - val_accuracy: 0.9112\n",
            "Epoch 16/70\n",
            "750/750 [==============================] - 2s 2ms/step - loss: 0.3471 - accuracy: 0.9032 - val_loss: 0.3233 - val_accuracy: 0.9116\n",
            "Epoch 17/70\n",
            "750/750 [==============================] - 2s 2ms/step - loss: 0.3381 - accuracy: 0.9064 - val_loss: 0.3208 - val_accuracy: 0.9116\n",
            "Epoch 18/70\n",
            "750/750 [==============================] - 2s 2ms/step - loss: 0.3488 - accuracy: 0.9035 - val_loss: 0.3184 - val_accuracy: 0.9124\n",
            "Epoch 19/70\n",
            "750/750 [==============================] - 2s 2ms/step - loss: 0.3341 - accuracy: 0.9071 - val_loss: 0.3164 - val_accuracy: 0.9130\n",
            "Epoch 20/70\n",
            "750/750 [==============================] - 2s 2ms/step - loss: 0.3268 - accuracy: 0.9083 - val_loss: 0.3143 - val_accuracy: 0.9138\n",
            "Epoch 21/70\n",
            "750/750 [==============================] - 2s 2ms/step - loss: 0.3289 - accuracy: 0.9091 - val_loss: 0.3126 - val_accuracy: 0.9145\n",
            "Epoch 22/70\n",
            "750/750 [==============================] - 2s 2ms/step - loss: 0.3271 - accuracy: 0.9104 - val_loss: 0.3110 - val_accuracy: 0.9147\n",
            "Epoch 23/70\n",
            "750/750 [==============================] - 2s 2ms/step - loss: 0.3236 - accuracy: 0.9099 - val_loss: 0.3094 - val_accuracy: 0.9149\n",
            "Epoch 24/70\n",
            "750/750 [==============================] - 2s 2ms/step - loss: 0.3223 - accuracy: 0.9110 - val_loss: 0.3078 - val_accuracy: 0.9153\n",
            "Epoch 25/70\n",
            "750/750 [==============================] - 2s 2ms/step - loss: 0.3205 - accuracy: 0.9125 - val_loss: 0.3064 - val_accuracy: 0.9160\n",
            "Epoch 26/70\n",
            "750/750 [==============================] - 2s 2ms/step - loss: 0.3231 - accuracy: 0.9114 - val_loss: 0.3052 - val_accuracy: 0.9155\n",
            "Epoch 27/70\n",
            "750/750 [==============================] - 2s 2ms/step - loss: 0.3203 - accuracy: 0.9118 - val_loss: 0.3042 - val_accuracy: 0.9164\n",
            "Epoch 28/70\n",
            "750/750 [==============================] - 2s 2ms/step - loss: 0.3205 - accuracy: 0.9117 - val_loss: 0.3028 - val_accuracy: 0.9165\n",
            "Epoch 29/70\n",
            "750/750 [==============================] - 2s 2ms/step - loss: 0.3155 - accuracy: 0.9120 - val_loss: 0.3017 - val_accuracy: 0.9173\n",
            "Epoch 30/70\n",
            "750/750 [==============================] - 2s 2ms/step - loss: 0.3079 - accuracy: 0.9149 - val_loss: 0.3008 - val_accuracy: 0.9172\n",
            "Epoch 31/70\n",
            "750/750 [==============================] - 2s 2ms/step - loss: 0.3074 - accuracy: 0.9161 - val_loss: 0.2998 - val_accuracy: 0.9168\n",
            "Epoch 32/70\n",
            "750/750 [==============================] - 2s 2ms/step - loss: 0.3133 - accuracy: 0.9133 - val_loss: 0.2988 - val_accuracy: 0.9177\n",
            "Epoch 33/70\n",
            "750/750 [==============================] - 2s 2ms/step - loss: 0.3056 - accuracy: 0.9154 - val_loss: 0.2980 - val_accuracy: 0.9176\n",
            "Epoch 34/70\n",
            "750/750 [==============================] - 2s 2ms/step - loss: 0.3139 - accuracy: 0.9148 - val_loss: 0.2970 - val_accuracy: 0.9179\n",
            "Epoch 35/70\n",
            "750/750 [==============================] - 2s 2ms/step - loss: 0.3036 - accuracy: 0.9155 - val_loss: 0.2963 - val_accuracy: 0.9179\n",
            "Epoch 36/70\n",
            "750/750 [==============================] - 2s 2ms/step - loss: 0.3100 - accuracy: 0.9135 - val_loss: 0.2954 - val_accuracy: 0.9182\n",
            "Epoch 37/70\n",
            "750/750 [==============================] - 2s 2ms/step - loss: 0.3098 - accuracy: 0.9142 - val_loss: 0.2947 - val_accuracy: 0.9177\n",
            "Epoch 38/70\n",
            "750/750 [==============================] - 2s 2ms/step - loss: 0.3058 - accuracy: 0.9138 - val_loss: 0.2943 - val_accuracy: 0.9181\n",
            "Epoch 39/70\n",
            "750/750 [==============================] - 2s 2ms/step - loss: 0.3088 - accuracy: 0.9139 - val_loss: 0.2935 - val_accuracy: 0.9184\n",
            "Epoch 40/70\n",
            "750/750 [==============================] - 2s 2ms/step - loss: 0.3053 - accuracy: 0.9157 - val_loss: 0.2928 - val_accuracy: 0.9187\n",
            "Epoch 41/70\n",
            "750/750 [==============================] - 2s 2ms/step - loss: 0.2953 - accuracy: 0.9178 - val_loss: 0.2923 - val_accuracy: 0.9193\n",
            "Epoch 42/70\n",
            "750/750 [==============================] - 2s 2ms/step - loss: 0.3040 - accuracy: 0.9144 - val_loss: 0.2915 - val_accuracy: 0.9187\n",
            "Epoch 43/70\n",
            "750/750 [==============================] - 2s 2ms/step - loss: 0.2985 - accuracy: 0.9169 - val_loss: 0.2911 - val_accuracy: 0.9186\n",
            "Epoch 44/70\n",
            "750/750 [==============================] - 2s 2ms/step - loss: 0.3020 - accuracy: 0.9152 - val_loss: 0.2904 - val_accuracy: 0.9192\n",
            "Epoch 45/70\n",
            "750/750 [==============================] - 2s 2ms/step - loss: 0.3058 - accuracy: 0.9155 - val_loss: 0.2899 - val_accuracy: 0.9183\n",
            "Epoch 46/70\n",
            "750/750 [==============================] - 2s 2ms/step - loss: 0.2989 - accuracy: 0.9157 - val_loss: 0.2895 - val_accuracy: 0.9192\n",
            "Epoch 47/70\n",
            "750/750 [==============================] - 2s 2ms/step - loss: 0.2901 - accuracy: 0.9177 - val_loss: 0.2888 - val_accuracy: 0.9188\n",
            "Epoch 48/70\n",
            "750/750 [==============================] - 2s 2ms/step - loss: 0.2968 - accuracy: 0.9171 - val_loss: 0.2885 - val_accuracy: 0.9196\n",
            "Epoch 49/70\n",
            "750/750 [==============================] - 2s 2ms/step - loss: 0.2915 - accuracy: 0.9174 - val_loss: 0.2880 - val_accuracy: 0.9189\n",
            "Epoch 50/70\n",
            "750/750 [==============================] - 2s 2ms/step - loss: 0.2932 - accuracy: 0.9182 - val_loss: 0.2875 - val_accuracy: 0.9198\n",
            "Epoch 51/70\n",
            "750/750 [==============================] - 2s 2ms/step - loss: 0.2924 - accuracy: 0.9179 - val_loss: 0.2871 - val_accuracy: 0.9193\n",
            "Epoch 52/70\n",
            "750/750 [==============================] - 2s 2ms/step - loss: 0.2874 - accuracy: 0.9202 - val_loss: 0.2867 - val_accuracy: 0.9200\n",
            "Epoch 53/70\n",
            "750/750 [==============================] - 2s 2ms/step - loss: 0.2875 - accuracy: 0.9190 - val_loss: 0.2864 - val_accuracy: 0.9199\n",
            "Epoch 54/70\n",
            "750/750 [==============================] - 2s 2ms/step - loss: 0.2916 - accuracy: 0.9172 - val_loss: 0.2861 - val_accuracy: 0.9202\n",
            "Epoch 55/70\n",
            "750/750 [==============================] - 2s 2ms/step - loss: 0.2912 - accuracy: 0.9173 - val_loss: 0.2856 - val_accuracy: 0.9203\n",
            "Epoch 56/70\n",
            "750/750 [==============================] - 2s 2ms/step - loss: 0.2944 - accuracy: 0.9177 - val_loss: 0.2852 - val_accuracy: 0.9208\n",
            "Epoch 57/70\n",
            "750/750 [==============================] - 2s 2ms/step - loss: 0.2937 - accuracy: 0.9193 - val_loss: 0.2850 - val_accuracy: 0.9208\n",
            "Epoch 58/70\n",
            "750/750 [==============================] - 2s 2ms/step - loss: 0.2936 - accuracy: 0.9172 - val_loss: 0.2846 - val_accuracy: 0.9204\n",
            "Epoch 59/70\n",
            "750/750 [==============================] - 2s 2ms/step - loss: 0.2832 - accuracy: 0.9195 - val_loss: 0.2842 - val_accuracy: 0.9203\n",
            "Epoch 60/70\n",
            "750/750 [==============================] - 2s 2ms/step - loss: 0.2892 - accuracy: 0.9194 - val_loss: 0.2839 - val_accuracy: 0.9207\n",
            "Epoch 61/70\n",
            "750/750 [==============================] - 2s 2ms/step - loss: 0.2946 - accuracy: 0.9185 - val_loss: 0.2835 - val_accuracy: 0.9208\n",
            "Epoch 62/70\n",
            "750/750 [==============================] - 2s 2ms/step - loss: 0.2827 - accuracy: 0.9215 - val_loss: 0.2833 - val_accuracy: 0.9208\n",
            "Epoch 63/70\n",
            "750/750 [==============================] - 2s 2ms/step - loss: 0.2886 - accuracy: 0.9191 - val_loss: 0.2830 - val_accuracy: 0.9212\n",
            "Epoch 64/70\n",
            "750/750 [==============================] - 2s 2ms/step - loss: 0.2849 - accuracy: 0.9204 - val_loss: 0.2827 - val_accuracy: 0.9213\n",
            "Epoch 65/70\n",
            "750/750 [==============================] - 2s 2ms/step - loss: 0.2847 - accuracy: 0.9215 - val_loss: 0.2822 - val_accuracy: 0.9213\n",
            "Epoch 66/70\n",
            "750/750 [==============================] - 2s 2ms/step - loss: 0.2959 - accuracy: 0.9181 - val_loss: 0.2821 - val_accuracy: 0.9213\n",
            "Epoch 67/70\n",
            "750/750 [==============================] - 2s 2ms/step - loss: 0.2905 - accuracy: 0.9197 - val_loss: 0.2819 - val_accuracy: 0.9211\n",
            "Epoch 68/70\n",
            "750/750 [==============================] - 2s 2ms/step - loss: 0.2907 - accuracy: 0.9177 - val_loss: 0.2814 - val_accuracy: 0.9215\n",
            "Epoch 69/70\n",
            "750/750 [==============================] - 2s 2ms/step - loss: 0.2890 - accuracy: 0.9192 - val_loss: 0.2812 - val_accuracy: 0.9217\n",
            "Epoch 70/70\n",
            "750/750 [==============================] - 2s 2ms/step - loss: 0.2836 - accuracy: 0.9218 - val_loss: 0.2808 - val_accuracy: 0.9213\n"
          ],
          "name": "stdout"
        }
      ]
    },
    {
      "cell_type": "code",
      "metadata": {
        "colab": {
          "base_uri": "https://localhost:8080/"
        },
        "id": "r06O9cP203i2",
        "outputId": "cad0aad0-047b-4143-d633-288c19271549"
      },
      "source": [
        "# predict\n",
        "\n",
        "y_predicted = model_0.predict(X_test)\n",
        "y_predicted[1]"
      ],
      "execution_count": null,
      "outputs": [
        {
          "output_type": "execute_result",
          "data": {
            "text/plain": [
              "array([3.1357482e-03, 2.2536375e-05, 9.6647745e-01, 3.3667074e-03,\n",
              "       8.4797835e-10, 5.3075110e-03, 1.9787010e-02, 5.6204853e-11,\n",
              "       1.9028437e-03, 2.1577993e-08], dtype=float32)"
            ]
          },
          "metadata": {
            "tags": []
          },
          "execution_count": 15
        }
      ]
    },
    {
      "cell_type": "code",
      "metadata": {
        "colab": {
          "base_uri": "https://localhost:8080/",
          "height": 294
        },
        "id": "cgE-JC7A03i2",
        "outputId": "ba9b284c-030e-4af8-a8b0-b3d33f2d8d65"
      },
      "source": [
        "# cross check\n",
        "\n",
        "import matplotlib.pyplot as plt\n",
        "# Loading MNIST dataset\n",
        "mnist = keras.datasets.mnist \n",
        "(XX_train, YY_train), (XX_test, YY_test) = mnist.load_data()\n",
        "\n",
        "plt.matshow(XX_test[1])"
      ],
      "execution_count": null,
      "outputs": [
        {
          "output_type": "execute_result",
          "data": {
            "text/plain": [
              "<matplotlib.image.AxesImage at 0x7f892a28cf60>"
            ]
          },
          "metadata": {
            "tags": []
          },
          "execution_count": 16
        },
        {
          "output_type": "display_data",
          "data": {
            "image/png": "[encoded data removed]",
            "text/plain": [
              "<Figure size 288x288 with 1 Axes>"
            ]
          },
          "metadata": {
            "tags": [],
            "needs_background": "light"
          }
        }
      ]
    },
    {
      "cell_type": "code",
      "metadata": {
        "colab": {
          "base_uri": "https://localhost:8080/"
        },
        "id": "9nP0ngma03i3",
        "outputId": "13038f73-a830-4241-e684-defe8e832207"
      },
      "source": [
        "import numpy as np\n",
        "np.argmax(y_predicted[1])"
      ],
      "execution_count": null,
      "outputs": [
        {
          "output_type": "execute_result",
          "data": {
            "text/plain": [
              "2"
            ]
          },
          "metadata": {
            "tags": []
          },
          "execution_count": 17
        }
      ]
    },
    {
      "cell_type": "code",
      "metadata": {
        "colab": {
          "base_uri": "https://localhost:8080/",
          "height": 592
        },
        "id": "tTdSW1Qe03i3",
        "outputId": "65eebd3e-8e24-43a5-c837-a10eba65c5a8"
      },
      "source": [
        "import matplotlib.pyplot as plt\n",
        "%matplotlib inline\n",
        "# list all data in training\n",
        "print(training.history.keys())\n",
        "# summarize training for accuracy\n",
        "plt.plot(training.history['accuracy'])\n",
        "plt.plot(training.history['val_accuracy'])\n",
        "plt.title('model accuracy')\n",
        "plt.ylabel('accuracy')\n",
        "plt.xlabel('epoch')\n",
        "plt.legend(['train', 'test'], loc='upper left')\n",
        "plt.show()\n",
        "# summarize traning for loss\n",
        "plt.plot(training.history['loss'])\n",
        "plt.plot(training.history['val_loss'])\n",
        "plt.title('model loss')\n",
        "plt.ylabel('loss')\n",
        "plt.xlabel('epoch')\n",
        "plt.legend(['train', 'test'], loc='upper left')\n",
        "plt.show()"
      ],
      "execution_count": null,
      "outputs": [
        {
          "output_type": "stream",
          "text": [
            "dict_keys(['loss', 'accuracy', 'val_loss', 'val_accuracy'])\n"
          ],
          "name": "stdout"
        },
        {
          "output_type": "display_data",
          "data": {
            "image/png": "[encoded data removed]",
            "text/plain": [
              "<Figure size 432x288 with 1 Axes>"
            ]
          },
          "metadata": {
            "tags": [],
            "needs_background": "light"
          }
        },
        {
          "output_type": "display_data",
          "data": {
            "image/png": "[encoded data removed]",
            "text/plain": [
              "<Figure size 432x288 with 1 Axes>"
            ]
          },
          "metadata": {
            "tags": [],
            "needs_background": "light"
          }
        }
      ]
    },
    {
      "cell_type": "code",
      "metadata": {
        "colab": {
          "base_uri": "https://localhost:8080/"
        },
        "id": "E2ucYXuJ03i4",
        "outputId": "d0c7a0e8-229e-4a49-f4cc-60ab2d5e8e41"
      },
      "source": [
        "model_0.weights"
      ],
      "execution_count": null,
      "outputs": [
        {
          "output_type": "execute_result",
          "data": {
            "text/plain": [
              "[<tf.Variable 'dense_layer/kernel:0' shape=(784, 10) dtype=float32, numpy=\n",
              " array([[ 0.00955395, -0.01001571,  0.01971434, ..., -0.03216997,\n",
              "          0.07416361, -0.00240698],\n",
              "        [ 0.0428798 , -0.07244799,  0.04343046, ..., -0.01854801,\n",
              "          0.07335586, -0.00418051],\n",
              "        [-0.04501318, -0.03297648, -0.03283018, ..., -0.02268568,\n",
              "         -0.07886226, -0.04662892],\n",
              "        ...,\n",
              "        [ 0.07658445, -0.08107509, -0.04220182, ...,  0.07574206,\n",
              "          0.00027366,  0.00811788],\n",
              "        [ 0.08417843, -0.02756839, -0.054338  , ...,  0.05196504,\n",
              "          0.07492559, -0.02085561],\n",
              "        [-0.04702992, -0.06004055, -0.01687165, ..., -0.07095753,\n",
              "          0.06763422,  0.03598927]], dtype=float32)>,\n",
              " <tf.Variable 'dense_layer/bias:0' shape=(10,) dtype=float32, numpy=\n",
              " array([-0.3378962 ,  0.35512528,  0.07361957, -0.2618507 ,  0.03776706,\n",
              "         1.2823693 , -0.10222276,  0.64215785, -1.4310623 , -0.2580086 ],\n",
              "       dtype=float32)>]"
            ]
          },
          "metadata": {
            "tags": []
          },
          "execution_count": 19
        }
      ]
    },
    {
      "cell_type": "code",
      "metadata": {
        "colab": {
          "base_uri": "https://localhost:8080/"
        },
        "id": "M4vPKAl903i4",
        "outputId": "68b70992-50b5-400e-ab31-7a4738895473"
      },
      "source": [
        "#evaluate model\n",
        "\n",
        "test_loss, test_acc = model_0.evaluate(X_test, y_test)\n",
        "print('Test loss:', test_loss)\n",
        "print('Test accuracy:', test_acc)\n"
      ],
      "execution_count": null,
      "outputs": [
        {
          "output_type": "stream",
          "text": [
            "313/313 [==============================] - 1s 2ms/step - loss: 0.2826 - accuracy: 0.9222\n",
            "Test loss: 0.28262633085250854\n",
            "Test accuracy: 0.9222000241279602\n"
          ],
          "name": "stdout"
        }
      ]
    },
    {
      "cell_type": "markdown",
      "metadata": {
        "id": "29Jv5_-Q03i5"
      },
      "source": [
        "# Perceptron First Run without changing any parameter\n",
        "\n",
        "313/313 [==============================] - 0s 580us/step - loss: 0.2823 - accuracy: 0.9218\n",
        "\n",
        "Test loss: 0.2823309004306793\n",
        "\n",
        "Test accuracy: 0.9218000173568726"
      ]
    },
    {
      "cell_type": "markdown",
      "metadata": {
        "id": "UbYEzEF003i5"
      },
      "source": [
        "# Perceptron Second Run without changing any parameter\n",
        "\n",
        "313/313 [==============================] - 0s 576us/step - loss: 0.2822 - accuracy: 0.9214\n",
        "        \n",
        "Test loss: 0.28220921754837036\n",
        "    \n",
        "Test accuracy: 0.9214000105857849"
      ]
    },
    {
      "cell_type": "markdown",
      "metadata": {
        "id": "bkgZ_lk-03i5"
      },
      "source": [
        "# Perceptron Third Run without changing any parameter\n",
        "\n",
        "313/313 [==============================] - 0s 602us/step - loss: 0.2830 - accuracy: 0.9213\n",
        "\n",
        "Test loss: 0.28296253085136414\n",
        "    \n",
        "Test accuracy: 0.9212999939918518\n",
        "\n"
      ]
    },
    {
      "cell_type": "markdown",
      "metadata": {
        "id": "YkFyKUOB03i5"
      },
      "source": [
        "## Ans to Q1\n",
        "\n",
        "We do not get the exact same results if we run the Notebook multiple times without changing\n",
        "any parameters"
      ]
    },
    {
      "cell_type": "markdown",
      "metadata": {
        "id": "VUbSx-5l03i5"
      },
      "source": [
        "# End of Q1 - end of model_0"
      ]
    },
    {
      "cell_type": "markdown",
      "metadata": {
        "id": "RWYGPpUF03i5"
      },
      "source": [
        "## Q2: What is the effect of adding more neurons to each Conv2D layer?"
      ]
    },
    {
      "cell_type": "markdown",
      "metadata": {
        "id": "YgpcO6KF03i6"
      },
      "source": [
        "# CNN Model - model_1"
      ]
    },
    {
      "cell_type": "code",
      "metadata": {
        "id": "4tKqd8SX03i6"
      },
      "source": [
        "#import libraries\n",
        "import tensorflow as tf\n",
        "from tensorflow import keras \n",
        "from tensorflow.keras.layers import Dense\n",
        "from tensorflow.keras import Sequential\n",
        "\n",
        "import matplotlib.pyplot as plt\n",
        "%matplotlib inline\n",
        "\n",
        "import numpy as np\n",
        "import pandas as pd\n",
        "import seaborn as sns"
      ],
      "execution_count": null,
      "outputs": []
    },
    {
      "cell_type": "code",
      "metadata": {
        "id": "d3FXlBvO03i6"
      },
      "source": [
        "# Loading MNIST dataset\n",
        "(X_train, y_train), (X_test, y_test) = keras.datasets.mnist.load_data()\n",
        "\n",
        "# For applying neural network, we need to have a vector of 28x28 pixels for eaxh image.\n",
        "\n",
        "X_train = X_train.reshape(60000, 28,28,1) \n",
        "X_test = X_test.reshape(10000, 28,28,1)\n",
        "\n",
        "# One-hot encoding of the labels.\n",
        "y_train_one_hot = tf.keras.utils.to_categorical(y_train) \n",
        "y_test_one_hot = tf.keras.utils.to_categorical(y_test)\n"
      ],
      "execution_count": null,
      "outputs": []
    },
    {
      "cell_type": "code",
      "metadata": {
        "id": "9LMF5_CA03i7"
      },
      "source": [
        "# Build CNN Model\n",
        "model_1 = Sequential()"
      ],
      "execution_count": null,
      "outputs": []
    },
    {
      "cell_type": "code",
      "metadata": {
        "id": "GVPvsFfU03i7",
        "outputId": "523982e3-af64-436e-dba2-b068033f0a4c"
      },
      "source": [
        "# add first layer\n",
        "model_1.add(keras.layers.Conv2D(64,kernel_size=3, input_shape=(28,28,1), activation='relu'))\n",
        "\n",
        "# add another layer\n",
        "model_1.add(keras.layers.Conv2D(32, kernel_size=3, activation='relu'))\n",
        "\n",
        "\n",
        "model_1.add(keras.layers.Flatten())\n",
        "\n",
        "# Add an output layer with 10 output units (10 different classes):\n",
        "model_1.add(Dense(10, name='dense_layer', activation = 'softmax')) \n",
        "\n",
        "model_1.summary()"
      ],
      "execution_count": null,
      "outputs": [
        {
          "output_type": "stream",
          "text": [
            "Model: \"sequential_1\"\n",
            "_________________________________________________________________\n",
            "Layer (type)                 Output Shape              Param #   \n",
            "=================================================================\n",
            "conv2d (Conv2D)              (None, 26, 26, 64)        640       \n",
            "_________________________________________________________________\n",
            "conv2d_1 (Conv2D)            (None, 24, 24, 32)        18464     \n",
            "_________________________________________________________________\n",
            "flatten (Flatten)            (None, 18432)             0         \n",
            "_________________________________________________________________\n",
            "dense_layer (Dense)          (None, 10)                184330    \n",
            "=================================================================\n",
            "Total params: 203,434\n",
            "Trainable params: 203,434\n",
            "Non-trainable params: 0\n",
            "_________________________________________________________________\n"
          ],
          "name": "stdout"
        }
      ]
    },
    {
      "cell_type": "code",
      "metadata": {
        "id": "iUy5mvic03i8"
      },
      "source": [
        "# Compile model\n",
        "\n",
        "model_1.compile(optimizer='adam', \n",
        "              loss='categorical_crossentropy',\n",
        "              metrics=['accuracy'])"
      ],
      "execution_count": null,
      "outputs": []
    },
    {
      "cell_type": "code",
      "metadata": {
        "id": "QCg-O6b703i8",
        "outputId": "5bf1b377-2f3e-4986-b50d-d794e251d7d4"
      },
      "source": [
        "# Train model\n",
        "\n",
        "#training = model_1.fit(X_train, y_train_one_hot, batch_size=64, epochs=5, validation_split=0.2) \n",
        "\n",
        "training = model_1.fit(X_train, y_train_one_hot, epochs=3, validation_split=0.2) \n"
      ],
      "execution_count": null,
      "outputs": [
        {
          "output_type": "stream",
          "text": [
            "Epoch 1/3\n",
            "1500/1500 [==============================] - 69s 46ms/step - loss: 0.3006 - accuracy: 0.9416 - val_loss: 0.0997 - val_accuracy: 0.9722\n",
            "Epoch 2/3\n",
            "1500/1500 [==============================] - 72s 48ms/step - loss: 0.0835 - accuracy: 0.9739 - val_loss: 0.1143 - val_accuracy: 0.9733\n",
            "Epoch 3/3\n",
            "1500/1500 [==============================] - 72s 48ms/step - loss: 0.0575 - accuracy: 0.9812 - val_loss: 0.0943 - val_accuracy: 0.9734\n"
          ],
          "name": "stdout"
        }
      ]
    },
    {
      "cell_type": "code",
      "metadata": {
        "id": "Rc-IXJmt03i8",
        "outputId": "e273e3ea-9cd3-48be-e89d-18357e57fe7f"
      },
      "source": [
        "# predict\n",
        "\n",
        "y_predicted = model_1.predict(X_test)\n",
        "y_predicted"
      ],
      "execution_count": null,
      "outputs": [
        {
          "output_type": "execute_result",
          "data": {
            "text/plain": [
              "array([[5.17545047e-08, 1.91457505e-12, 1.44386025e-09, ...,\n",
              "        1.00000000e+00, 3.88718320e-08, 9.12575127e-10],\n",
              "       [1.00706573e-04, 4.23024976e-05, 9.99810278e-01, ...,\n",
              "        1.37000619e-10, 8.41867092e-08, 3.89346244e-09],\n",
              "       [1.22737601e-05, 9.94948268e-01, 9.75500327e-04, ...,\n",
              "        2.18667310e-06, 4.04099672e-04, 3.84398135e-07],\n",
              "       ...,\n",
              "       [1.15509954e-11, 6.49957302e-12, 2.01460701e-12, ...,\n",
              "        3.36003666e-07, 2.68139411e-06, 4.93845334e-07],\n",
              "       [1.26320356e-05, 5.06968287e-11, 6.23818719e-10, ...,\n",
              "        5.87576077e-09, 6.09675329e-03, 3.76410571e-06],\n",
              "       [2.15794847e-04, 5.77737524e-14, 6.18774543e-09, ...,\n",
              "        1.05989495e-10, 5.46027081e-07, 1.77222219e-07]], dtype=float32)"
            ]
          },
          "metadata": {
            "tags": []
          },
          "execution_count": 48
        }
      ]
    },
    {
      "cell_type": "code",
      "metadata": {
        "id": "hwbWXUj403i8",
        "outputId": "9dd0fe86-523a-465d-c6de-4d43145892ff"
      },
      "source": [
        "XX_test = X_test.reshape(10000,28*28)\n",
        "XX_test.shape"
      ],
      "execution_count": null,
      "outputs": [
        {
          "output_type": "execute_result",
          "data": {
            "text/plain": [
              "(10000, 784)"
            ]
          },
          "metadata": {
            "tags": []
          },
          "execution_count": 40
        }
      ]
    },
    {
      "cell_type": "code",
      "metadata": {
        "id": "DfrKHdVy03i8"
      },
      "source": [
        "#plt.matshow(XX_test[0])"
      ],
      "execution_count": null,
      "outputs": []
    },
    {
      "cell_type": "code",
      "metadata": {
        "id": "FuwDxRyv03i8",
        "outputId": "f706d8c0-8827-4173-8dae-ec888f089695"
      },
      "source": [
        "np.argmax(y_predicted[1])"
      ],
      "execution_count": null,
      "outputs": [
        {
          "output_type": "execute_result",
          "data": {
            "text/plain": [
              "2"
            ]
          },
          "metadata": {
            "tags": []
          },
          "execution_count": 33
        }
      ]
    },
    {
      "cell_type": "code",
      "metadata": {
        "id": "JPDMRiva03i9",
        "outputId": "9cb35a2c-94be-457c-f631-76e74767e139"
      },
      "source": [
        "model_1.weights"
      ],
      "execution_count": null,
      "outputs": [
        {
          "output_type": "execute_result",
          "data": {
            "text/plain": [
              "[<tf.Variable 'conv2d/kernel:0' shape=(3, 3, 1, 64) dtype=float32, numpy=\n",
              " array([[[[ 1.60317328e-02, -2.05157816e-01,  3.06320935e-02,\n",
              "           -1.41363768e-02, -3.29564735e-02, -5.72400726e-02,\n",
              "            2.66142283e-02, -8.20610300e-02,  4.02868316e-02,\n",
              "           -8.38366896e-02,  4.28532287e-02, -7.43114725e-02,\n",
              "            2.09911130e-02, -3.18673961e-02, -2.96401344e-02,\n",
              "           -1.28607731e-03, -3.53742950e-02, -4.58025932e-02,\n",
              "           -4.02537175e-02,  4.14936896e-03, -1.00088879e-01,\n",
              "           -1.42270243e-02, -1.20149506e-02, -9.09715742e-02,\n",
              "           -1.08917713e-01,  2.78532114e-02, -8.02420899e-02,\n",
              "            2.13555805e-03, -1.28599897e-01, -2.04435680e-02,\n",
              "           -1.20839896e-02, -7.58697838e-02, -3.50585952e-02,\n",
              "            5.36646647e-03,  2.63651256e-02, -3.39019150e-02,\n",
              "           -3.65305170e-02, -6.17796443e-02, -8.09330493e-02,\n",
              "            1.84068214e-02, -3.64353843e-02,  3.65493558e-02,\n",
              "           -1.06118970e-01, -8.48099031e-03, -1.25915408e-01,\n",
              "           -1.08504176e-01, -6.14870340e-03,  1.47599056e-02,\n",
              "            2.89820228e-02, -1.16868667e-01,  1.96440760e-02,\n",
              "           -6.89339340e-02, -1.79901868e-01,  2.17196625e-02,\n",
              "           -6.64014742e-02,  3.17939334e-02, -4.55314852e-02,\n",
              "           -1.31152004e-01, -2.90021654e-02, -2.03113258e-02,\n",
              "            1.92213990e-02,  3.71326581e-02, -8.14341083e-02,\n",
              "            2.77811419e-02]],\n",
              " \n",
              "         [[ 8.53060000e-03, -4.53528576e-02,  2.78861932e-02,\n",
              "           -4.85111540e-03, -1.36668712e-01, -3.38395759e-02,\n",
              "            7.50498623e-02,  3.42746302e-02, -7.87669420e-02,\n",
              "           -7.97225982e-02, -8.59414488e-02,  3.96815203e-02,\n",
              "           -9.54582915e-02,  1.10832520e-01, -7.85318539e-02,\n",
              "           -7.86955357e-02,  1.61523521e-02,  5.36922216e-02,\n",
              "           -7.16973543e-02,  5.26077449e-02,  1.00419015e-01,\n",
              "           -9.81789827e-02, -1.62117630e-02, -1.86411999e-02,\n",
              "           -9.84144956e-02, -9.54842716e-02, -1.33718736e-02,\n",
              "            3.35164927e-02,  4.92903963e-03,  9.26120020e-03,\n",
              "           -1.11604437e-01, -3.88489477e-02, -6.96381405e-02,\n",
              "            4.64923047e-02,  4.28396910e-02,  4.79576588e-02,\n",
              "           -1.24107808e-01, -3.68575230e-02,  8.56798664e-02,\n",
              "           -1.82137508e-02, -7.12139308e-02, -8.51481035e-02,\n",
              "           -2.48288531e-02, -6.93780407e-02, -1.14035472e-01,\n",
              "           -1.02814753e-02,  2.23425832e-02,  6.52130246e-02,\n",
              "           -2.83784363e-02, -1.51315019e-01, -1.07217701e-02,\n",
              "           -4.80272435e-02, -1.22055434e-01,  4.48993295e-02,\n",
              "            2.88828574e-02, -8.27284232e-02, -1.54326677e-01,\n",
              "           -6.82975650e-02, -7.88569450e-02, -1.39708752e-02,\n",
              "           -9.50970426e-02,  4.61417213e-02,  9.70519334e-03,\n",
              "           -4.02980670e-02]],\n",
              " \n",
              "         [[-1.17149064e-02, -5.89241795e-02, -8.82363394e-02,\n",
              "            9.91974119e-03,  3.96979824e-02,  7.46849645e-03,\n",
              "           -1.09887689e-01, -7.03344196e-02, -7.89474174e-02,\n",
              "            6.59539029e-02,  6.11113831e-02,  6.08162247e-02,\n",
              "           -5.52993715e-02, -7.53375590e-02, -4.07366408e-03,\n",
              "           -1.20557761e-02,  7.41818035e-03, -4.96517196e-02,\n",
              "            6.88114837e-02, -6.81956708e-02, -6.42918050e-02,\n",
              "           -4.41920236e-02, -7.00181304e-03, -7.56044313e-02,\n",
              "            2.70842034e-02,  1.80650726e-02, -2.66776737e-02,\n",
              "           -1.08085610e-01, -7.77895078e-02, -1.01222292e-01,\n",
              "           -3.79425846e-03, -4.63064015e-03, -4.05515507e-02,\n",
              "           -2.74880845e-02, -1.00242630e-01, -6.96486309e-02,\n",
              "           -3.45991179e-02, -5.98304160e-02,  3.29252370e-02,\n",
              "            4.57017712e-04, -6.10338664e-03, -1.08148977e-01,\n",
              "           -3.25949006e-02,  1.01243779e-02, -1.35595545e-01,\n",
              "           -1.96115579e-02, -4.05582748e-02, -6.62829727e-02,\n",
              "            4.78689596e-02, -3.98935340e-02, -2.96691642e-03,\n",
              "           -1.04876747e-02,  1.95787512e-02,  2.38604397e-02,\n",
              "           -9.12393723e-03,  4.68166396e-02,  3.14848386e-02,\n",
              "           -1.15859881e-03, -1.77475914e-01,  2.56383494e-02,\n",
              "            1.81581005e-02, -1.07792184e-01, -4.62855287e-02,\n",
              "           -8.35751891e-02]]],\n",
              " \n",
              " \n",
              "        [[[-1.28786772e-01, -1.81994922e-02, -3.99107747e-02,\n",
              "           -3.38651240e-02,  4.73149680e-02,  9.48425829e-02,\n",
              "           -5.78076430e-02,  8.11139941e-02,  7.46434852e-02,\n",
              "           -3.02163940e-02, -5.78689463e-02,  5.12866117e-02,\n",
              "            3.91747281e-02, -9.58971083e-02, -7.64474552e-03,\n",
              "           -5.37432684e-03,  5.18542379e-02, -4.06535603e-02,\n",
              "            5.16399229e-03, -4.33024615e-02, -1.20875813e-01,\n",
              "           -3.52925994e-02,  3.51640396e-02, -7.82086551e-02,\n",
              "            7.03038275e-02, -5.63503467e-02,  6.19220063e-02,\n",
              "           -1.14637136e-01, -4.80861077e-03,  2.38693841e-02,\n",
              "            6.07819669e-02, -5.63179180e-02, -3.14858370e-02,\n",
              "            1.28042549e-02,  4.43639830e-02,  2.65667494e-02,\n",
              "            2.33464260e-02, -2.58318614e-02,  1.07396338e-02,\n",
              "           -7.55250175e-03, -1.26458749e-01,  3.88867408e-02,\n",
              "            2.57654637e-02,  9.61022601e-02, -7.47247934e-02,\n",
              "            1.11789271e-01, -5.72176883e-03, -1.05793186e-01,\n",
              "           -6.98394477e-02, -6.19449988e-02,  3.35201137e-02,\n",
              "           -9.33728144e-02,  8.04601833e-02,  1.67476963e-02,\n",
              "           -2.07321700e-02, -4.34512049e-02, -7.20918924e-02,\n",
              "           -2.21736133e-02,  5.91896893e-03,  1.08752633e-02,\n",
              "           -4.08066027e-02,  2.83114482e-02, -4.16412875e-02,\n",
              "           -3.80378496e-03]],\n",
              " \n",
              "         [[-9.67172980e-02, -5.19376621e-02, -5.10727279e-02,\n",
              "            5.64564057e-02, -2.94196960e-02,  5.29903322e-02,\n",
              "           -3.09227295e-02,  1.02502219e-01, -9.12453309e-02,\n",
              "           -2.71730684e-03,  6.05859309e-02, -9.52285230e-02,\n",
              "           -1.27792712e-02, -8.83957148e-02, -2.87199374e-02,\n",
              "           -4.02045110e-03,  4.73961933e-03,  2.00962014e-02,\n",
              "           -1.28743336e-01, -1.02161784e-02, -8.48597661e-02,\n",
              "            2.94061210e-02, -6.88808337e-02,  3.38761583e-02,\n",
              "            6.08135164e-02,  7.24289194e-02,  3.30541730e-02,\n",
              "           -3.82630341e-02,  2.39837840e-02,  2.10334100e-02,\n",
              "           -7.13023171e-02, -2.79077590e-02, -2.26126891e-02,\n",
              "           -8.95850211e-02,  7.83610493e-02, -7.06696436e-02,\n",
              "           -3.52554843e-02, -5.08184619e-02,  9.68448147e-02,\n",
              "            9.73087735e-04,  7.40130544e-02, -6.38088211e-02,\n",
              "           -4.06174883e-02,  5.62254973e-02, -4.75007221e-02,\n",
              "           -7.32472574e-04,  5.38561642e-02,  3.57009061e-02,\n",
              "            6.13413975e-02,  5.83481044e-02,  1.24226294e-01,\n",
              "           -7.99538195e-02, -8.60529542e-02, -6.94828182e-02,\n",
              "           -4.44803648e-02, -5.76186366e-02,  2.35332511e-02,\n",
              "            2.46118126e-03, -1.52495019e-02,  8.27640593e-02,\n",
              "            2.77806856e-02,  4.05460708e-02, -8.44507292e-02,\n",
              "            6.82327747e-02]],\n",
              " \n",
              "         [[ 4.25235834e-03,  8.32800791e-02, -9.44872722e-02,\n",
              "            1.80438645e-02, -3.13303135e-02, -1.05058163e-01,\n",
              "           -1.45914946e-02, -3.41540575e-02, -7.50480313e-03,\n",
              "            1.35218101e-02, -2.49465965e-02, -7.03118965e-02,\n",
              "           -6.45728633e-02, -1.20486878e-01, -3.27552594e-02,\n",
              "            2.51950938e-02,  4.07046042e-02, -7.60835260e-02,\n",
              "           -3.69464122e-02, -3.09478957e-02, -6.79966584e-02,\n",
              "            3.04081906e-02, -4.29936685e-02,  5.23526967e-02,\n",
              "            1.43322684e-02, -6.98241666e-02,  1.47474641e-02,\n",
              "           -5.14706038e-02, -1.55408606e-01, -1.87359862e-02,\n",
              "           -6.11166246e-02, -9.62602347e-03, -1.76646486e-02,\n",
              "            3.48078199e-02,  5.66310510e-02,  6.98679984e-02,\n",
              "            2.95624584e-02,  7.25049153e-02, -6.50478899e-02,\n",
              "            6.42902926e-02, -9.04353242e-03,  4.90997396e-02,\n",
              "           -8.51362646e-02,  3.63966823e-02, -1.10110462e-01,\n",
              "            4.62606587e-02, -4.22718264e-02, -9.80925336e-02,\n",
              "            4.53788415e-02,  9.10966247e-02,  5.96437044e-03,\n",
              "           -4.61905599e-02, -9.47668329e-02, -7.02710822e-02,\n",
              "           -2.13461113e-03, -5.14610074e-02, -6.92621842e-02,\n",
              "           -7.02337921e-02, -1.29716247e-01, -1.01032749e-01,\n",
              "           -2.78192610e-02,  3.48819164e-03,  2.71265395e-02,\n",
              "            2.57005990e-02]]],\n",
              " \n",
              " \n",
              "        [[[-6.28620237e-02, -9.80019663e-03, -3.82194519e-02,\n",
              "           -8.94916803e-02,  5.71601912e-02, -9.12898183e-02,\n",
              "            3.89392823e-02,  1.11935465e-02,  3.85945328e-02,\n",
              "           -3.38371471e-02, -2.19098688e-03,  4.54088971e-02,\n",
              "            4.78342324e-02, -4.03903835e-02, -4.55953134e-03,\n",
              "            2.38521583e-02,  1.94045398e-02, -1.10582791e-01,\n",
              "           -9.84462649e-02, -1.31314211e-02, -4.44482043e-02,\n",
              "            3.20847072e-02, -3.83300073e-02,  4.42972854e-02,\n",
              "           -1.42255694e-01,  4.08914685e-02, -6.21370710e-02,\n",
              "           -1.47173449e-01, -5.00572566e-03, -1.01348899e-01,\n",
              "           -3.40355076e-02, -3.10108587e-02,  2.29213964e-02,\n",
              "           -7.10715428e-02,  1.90007256e-03, -5.07082976e-02,\n",
              "           -4.21450660e-02,  1.98484864e-02, -8.16161409e-02,\n",
              "           -6.12156652e-03, -1.18058182e-01, -1.34496391e-01,\n",
              "           -4.03397270e-02,  8.43279716e-03,  2.58871000e-02,\n",
              "           -8.98296833e-02, -2.70783361e-02,  4.49888706e-02,\n",
              "           -2.76028272e-02, -6.98927492e-02, -1.69460438e-02,\n",
              "           -1.09442912e-01, -2.49951743e-02, -1.06469626e-02,\n",
              "            2.73563899e-02, -1.39080640e-02, -1.17461560e-02,\n",
              "           -2.99095479e-03,  3.56615148e-02,  1.13030914e-02,\n",
              "           -8.66349001e-05,  4.59305681e-02, -2.47279136e-03,\n",
              "           -2.07590554e-02]],\n",
              " \n",
              "         [[ 6.78895414e-02,  6.15988597e-02,  5.52411005e-02,\n",
              "            6.24728249e-03, -4.61011752e-02,  1.13076549e-02,\n",
              "           -1.21233775e-03, -5.02525531e-02, -1.06754585e-03,\n",
              "           -1.24381867e-03,  2.49677077e-02, -1.52549827e-02,\n",
              "           -2.38414705e-02,  6.82012066e-02, -1.74394343e-03,\n",
              "           -7.80436993e-02,  5.21135069e-02, -4.36117575e-02,\n",
              "            1.17194407e-01,  1.50122587e-02, -1.00446992e-01,\n",
              "           -5.92764374e-03, -6.84278831e-02, -9.29866657e-02,\n",
              "            1.28816161e-02,  2.53720093e-03,  2.97473632e-02,\n",
              "           -7.02409372e-02, -1.49453223e-01,  7.34952316e-02,\n",
              "           -1.24309435e-01, -4.01311256e-02,  3.59357917e-03,\n",
              "           -7.98557177e-02, -9.37757920e-03,  1.73922777e-02,\n",
              "            4.64518666e-02, -4.95857894e-02, -4.57548127e-02,\n",
              "            1.31732235e-02, -7.86901787e-02, -8.51391628e-02,\n",
              "            9.98689421e-03,  4.46366379e-03,  1.34275239e-02,\n",
              "           -8.34512636e-02,  6.06544279e-02, -7.72711560e-02,\n",
              "           -7.09824339e-02, -2.94565223e-02,  1.32367676e-02,\n",
              "           -2.11319495e-02, -2.18821213e-01, -1.14349142e-01,\n",
              "           -1.31001081e-02, -1.36261424e-02, -8.26020166e-02,\n",
              "           -9.58010927e-02, -1.48145810e-01,  7.02355523e-03,\n",
              "           -8.99189385e-04,  2.72459835e-02, -2.69221384e-02,\n",
              "            8.11470225e-02]],\n",
              " \n",
              "         [[-1.23557180e-01, -4.62766066e-02, -5.71856648e-02,\n",
              "            4.19383459e-02, -8.90937820e-02,  4.79115993e-02,\n",
              "           -3.59703898e-02,  2.51344754e-04,  2.39470904e-03,\n",
              "            5.04471399e-02,  1.41609451e-02, -6.67594597e-02,\n",
              "            5.76658808e-02,  6.17438741e-02, -8.26815441e-02,\n",
              "           -6.11632410e-03, -1.31883934e-01,  2.92216055e-02,\n",
              "           -9.94437039e-02, -2.94720028e-02,  3.95773095e-05,\n",
              "            1.48296717e-03,  3.02714501e-02,  1.30090863e-02,\n",
              "            1.45463618e-02, -3.73108126e-02, -5.74870445e-02,\n",
              "           -1.75286159e-02,  1.61149148e-02, -2.39537260e-03,\n",
              "           -5.96430004e-02, -8.97640735e-02,  2.64242757e-02,\n",
              "            1.68137308e-02, -6.84184134e-02, -8.31591263e-02,\n",
              "           -6.60414398e-02, -9.05166380e-03, -8.58097300e-02,\n",
              "           -1.25978403e-02, -7.25235417e-03,  4.16398793e-02,\n",
              "           -1.03469752e-02, -4.46428619e-02, -5.48807066e-03,\n",
              "            5.16296886e-02, -6.06189370e-02,  2.26071831e-02,\n",
              "           -5.28847091e-02, -5.49911223e-02, -6.78219870e-02,\n",
              "            1.95237547e-02, -5.32944500e-03, -1.51897162e-01,\n",
              "            1.78019386e-02, -1.81405558e-04, -6.58253729e-02,\n",
              "            2.56407186e-02,  5.05128428e-02, -9.76572707e-02,\n",
              "           -9.38936230e-03, -2.38104910e-02, -1.01770116e-02,\n",
              "           -6.60848171e-02]]]], dtype=float32)>,\n",
              " <tf.Variable 'conv2d/bias:0' shape=(64,) dtype=float32, numpy=\n",
              " array([-0.05042883, -0.0171486 , -0.11224811, -0.06643957, -0.00779843,\n",
              "        -0.01295868, -0.00636994, -0.05380668, -0.03711828, -0.03172014,\n",
              "        -0.06818543, -0.01141776, -0.04173078, -0.00427411, -0.02237143,\n",
              "        -0.05607443, -0.12144693,  0.0284522 ,  0.01229147, -0.00814115,\n",
              "        -0.06247211, -0.09557367, -0.03162616, -0.04042655, -0.11567277,\n",
              "        -0.10747353, -0.08401553, -0.02075212,  0.01700446, -0.00287916,\n",
              "        -0.08701042,  0.        , -0.07148034, -0.01091849, -0.0097751 ,\n",
              "        -0.11302598,  0.01719158, -0.11113463, -0.04338035, -0.20830089,\n",
              "         0.01834018, -0.03276146, -0.02708085, -0.05154086, -0.08946048,\n",
              "         0.05452432, -0.08964574, -0.01769065, -0.12387393,  0.04976135,\n",
              "        -0.1354578 , -0.06770168, -0.03430539, -0.04936311, -0.09117848,\n",
              "        -0.0916093 , -0.00658012, -0.00435346,  0.02915557, -0.09509517,\n",
              "        -0.06769166, -0.10777707, -0.12517053, -0.10649408], dtype=float32)>,\n",
              " <tf.Variable 'conv2d_1/kernel:0' shape=(3, 3, 64, 32) dtype=float32, numpy=\n",
              " array([[[[ 4.37418334e-02, -6.46835640e-02,  1.68653987e-02, ...,\n",
              "           -8.59865397e-02, -1.69011563e-01,  2.60645542e-02],\n",
              "          [-3.50741297e-02, -1.82252973e-02, -1.40838474e-02, ...,\n",
              "            4.76354174e-02, -4.31214087e-02, -5.43554965e-03],\n",
              "          [-4.02812986e-03, -5.47374524e-02, -5.29605150e-02, ...,\n",
              "           -4.86781895e-02,  7.05668479e-02, -9.47203189e-02],\n",
              "          ...,\n",
              "          [ 4.75077257e-02,  2.07268335e-02, -7.59263709e-02, ...,\n",
              "           -5.37219644e-02,  6.17503375e-02,  5.08023761e-02],\n",
              "          [-2.20533870e-02, -6.67311698e-02,  1.18004000e-02, ...,\n",
              "            1.72728784e-02, -4.68618497e-02, -6.82724640e-02],\n",
              "          [ 7.33622238e-02, -3.13937366e-02,  1.81499589e-02, ...,\n",
              "            4.45545278e-02, -1.68912597e-02, -2.11728476e-02]],\n",
              " \n",
              "         [[-1.63747929e-02,  5.13783321e-02, -1.89831760e-02, ...,\n",
              "            8.50260481e-02,  7.08328858e-02,  4.22197282e-02],\n",
              "          [-5.25583699e-03, -7.99077004e-02, -6.14489168e-02, ...,\n",
              "           -8.16042721e-02,  5.19878194e-02, -4.65128087e-02],\n",
              "          [ 7.87819549e-03,  3.50300930e-02, -4.15201038e-02, ...,\n",
              "           -2.60638148e-02,  1.28921084e-02, -8.59594271e-02],\n",
              "          ...,\n",
              "          [ 3.99432890e-02,  2.23474987e-02,  2.05964968e-02, ...,\n",
              "           -7.28553236e-02,  4.89577465e-02, -4.90752631e-04],\n",
              "          [ 2.38258559e-02, -3.50500345e-02,  1.78474635e-02, ...,\n",
              "           -8.51235464e-02,  7.27127716e-02,  1.23435752e-02],\n",
              "          [ 3.96912731e-02,  3.28613408e-02,  9.66071617e-03, ...,\n",
              "            2.20635980e-02, -2.84485938e-03, -6.23963811e-02]],\n",
              " \n",
              "         [[ 4.94604670e-02,  1.90289859e-02, -5.94251603e-03, ...,\n",
              "            5.20118251e-02, -5.02265133e-02,  1.12619765e-01],\n",
              "          [ 3.41804954e-03, -7.89427534e-02, -9.29201394e-02, ...,\n",
              "           -8.22930112e-02,  2.06209663e-02, -7.23982379e-02],\n",
              "          [-9.08062756e-02,  5.64202741e-02, -4.40584831e-02, ...,\n",
              "           -2.28921846e-02, -9.03890282e-02, -4.91822548e-02],\n",
              "          ...,\n",
              "          [-6.90417513e-02,  5.21348463e-03, -4.83956933e-02, ...,\n",
              "           -6.17500814e-03,  1.33914510e-02, -9.87079740e-02],\n",
              "          [-7.05459490e-02,  8.79962090e-03, -3.46307494e-02, ...,\n",
              "           -4.12166752e-02,  9.73338820e-03,  3.53739932e-02],\n",
              "          [-4.52478379e-02, -3.57779451e-02, -3.67103033e-02, ...,\n",
              "            4.99998406e-02, -7.54271001e-02, -9.17457491e-02]]],\n",
              " \n",
              " \n",
              "        [[[-6.08522110e-02, -1.52275478e-02,  1.33233732e-02, ...,\n",
              "           -3.32872607e-02, -9.10532102e-02, -6.79256022e-02],\n",
              "          [-5.61515130e-02, -6.68771416e-02,  3.03493626e-02, ...,\n",
              "           -8.93175006e-02,  6.98713213e-02,  8.88342503e-03],\n",
              "          [-5.27348602e-03, -6.54977635e-02, -1.94020774e-02, ...,\n",
              "           -6.79739565e-02,  1.71474367e-02, -2.88101155e-02],\n",
              "          ...,\n",
              "          [-1.54204424e-02,  4.91323210e-02, -1.82003938e-02, ...,\n",
              "           -3.46213691e-02, -3.39319967e-02,  1.19493166e-02],\n",
              "          [-2.92249322e-02, -2.90527456e-02,  4.37998213e-02, ...,\n",
              "            1.26353446e-02, -9.57264472e-03,  5.24738953e-02],\n",
              "          [-5.06842211e-02,  4.05084491e-02, -4.91127893e-02, ...,\n",
              "            6.88142329e-03,  5.46363704e-02,  1.99853536e-02]],\n",
              " \n",
              "         [[-6.16956018e-02, -1.11650400e-01, -1.10802248e-01, ...,\n",
              "            5.15881479e-02, -1.19086944e-01, -5.58483154e-02],\n",
              "          [-5.59647679e-02,  5.11441790e-02,  2.31232271e-02, ...,\n",
              "            1.74801871e-02,  3.27304117e-02, -2.58473679e-02],\n",
              "          [-3.58285047e-02, -1.03029357e-02,  1.57993510e-02, ...,\n",
              "            4.70774695e-02, -1.03908424e-04, -2.87658516e-02],\n",
              "          ...,\n",
              "          [-3.36489975e-02,  6.11320958e-02,  6.53856322e-02, ...,\n",
              "           -6.56097308e-02, -7.47456923e-02, -8.84927958e-02],\n",
              "          [ 3.33875157e-02,  3.92187834e-02,  2.92499233e-02, ...,\n",
              "           -6.43998012e-02,  4.97759841e-02,  4.76746894e-02],\n",
              "          [-5.68781719e-02,  3.94283161e-02,  1.15866009e-02, ...,\n",
              "           -2.94419471e-02,  5.49804494e-02, -9.47830081e-02]],\n",
              " \n",
              "         [[ 9.20507964e-03, -6.89603388e-02,  1.99822057e-02, ...,\n",
              "            7.44057745e-02,  5.33295199e-02, -6.78801313e-02],\n",
              "          [-2.48341113e-02, -8.04567039e-02,  8.28396995e-03, ...,\n",
              "           -1.88876828e-03, -9.86208841e-02,  1.87029727e-02],\n",
              "          [-3.82316695e-03, -7.58586451e-02, -1.02306873e-01, ...,\n",
              "            3.74678895e-02,  2.76485328e-02,  5.25940917e-02],\n",
              "          ...,\n",
              "          [-6.94544688e-02, -9.14004073e-02,  4.61554229e-02, ...,\n",
              "           -4.40285057e-02, -1.63356382e-02, -2.46799774e-02],\n",
              "          [ 2.28306800e-02, -4.32491824e-02, -6.85781091e-02, ...,\n",
              "            9.85424314e-03, -4.28381078e-02, -6.72037899e-02],\n",
              "          [ 7.11867679e-03, -6.63869306e-02, -3.02840956e-03, ...,\n",
              "            7.04194754e-02, -1.57500189e-02, -9.35703982e-03]]],\n",
              " \n",
              " \n",
              "        [[[-4.72577959e-02,  5.86800463e-02, -2.83159711e-03, ...,\n",
              "            2.50073597e-02,  8.22592825e-02,  6.83460012e-02],\n",
              "          [ 4.11340483e-02,  3.41923125e-02,  3.30648646e-02, ...,\n",
              "           -3.20608541e-02, -6.20177612e-02,  2.71251407e-02],\n",
              "          [ 1.50571307e-02,  1.51905622e-02,  6.15115203e-02, ...,\n",
              "            2.91653536e-02, -7.02094361e-02,  6.69886842e-02],\n",
              "          ...,\n",
              "          [-8.85789990e-02,  1.00005288e-02, -7.95589983e-02, ...,\n",
              "            3.03023029e-02, -2.54954118e-02, -8.56950134e-02],\n",
              "          [-6.50846725e-03, -6.40440881e-02, -3.30574140e-02, ...,\n",
              "            3.06215584e-02,  6.66739941e-02, -6.95919693e-02],\n",
              "          [ 7.26325205e-03,  5.33772223e-02, -4.88932505e-02, ...,\n",
              "           -2.33452357e-02,  2.91234404e-02, -2.78241187e-02]],\n",
              " \n",
              "         [[-5.89111494e-03, -9.12761241e-02, -1.06406920e-01, ...,\n",
              "            6.00683056e-02,  5.99698275e-02, -1.70521438e-02],\n",
              "          [ 1.45061938e-02, -9.02851075e-02, -1.11825438e-03, ...,\n",
              "           -6.30870089e-02,  4.33366224e-02, -3.98120247e-02],\n",
              "          [-6.86731339e-02, -9.42471549e-02, -2.57396065e-02, ...,\n",
              "           -1.24013219e-02, -6.47598878e-02, -8.31919611e-02],\n",
              "          ...,\n",
              "          [ 1.23602077e-02,  1.46819279e-02, -7.69632533e-02, ...,\n",
              "            2.17435211e-02, -7.23387599e-02,  4.34720851e-02],\n",
              "          [ 5.17292917e-02, -1.98461395e-02,  4.14179750e-02, ...,\n",
              "            3.39419916e-02, -1.42349061e-02, -9.26728398e-02],\n",
              "          [ 3.99207883e-03,  1.14234593e-02, -3.58294398e-02, ...,\n",
              "           -3.20617631e-02, -4.93079536e-02, -1.18085379e-02]],\n",
              " \n",
              "         [[ 1.45341540e-02, -8.30975473e-02, -9.34940726e-02, ...,\n",
              "            5.13473852e-03, -4.35542911e-02, -3.61208543e-02],\n",
              "          [-6.99664280e-02,  4.99510020e-03, -4.12159748e-02, ...,\n",
              "           -5.98823912e-02, -8.24259408e-03, -1.39177060e-02],\n",
              "          [ 1.51153617e-02,  4.33209464e-02,  4.43819538e-02, ...,\n",
              "           -1.39996875e-02,  6.70648813e-02,  1.14895534e-02],\n",
              "          ...,\n",
              "          [ 8.10966734e-03,  4.74041104e-02, -6.77943081e-02, ...,\n",
              "           -4.17874679e-02, -5.94938733e-02, -9.68842115e-03],\n",
              "          [-4.34274301e-02, -8.59166086e-02,  5.57841361e-02, ...,\n",
              "            2.29169466e-02, -9.63621307e-03, -7.24968361e-03],\n",
              "          [ 5.07131517e-02,  4.25577909e-03,  2.56545432e-02, ...,\n",
              "           -4.89130802e-02,  1.76165830e-02, -2.01688223e-02]]]],\n",
              "       dtype=float32)>,\n",
              " <tf.Variable 'conv2d_1/bias:0' shape=(32,) dtype=float32, numpy=\n",
              " array([-0.01731899, -0.02639921, -0.04467087,  0.01184482, -0.00458856,\n",
              "        -0.02918711, -0.04103195, -0.02146114, -0.013693  , -0.04061933,\n",
              "        -0.01750736, -0.03795988, -0.02527464, -0.02332151, -0.03499203,\n",
              "        -0.02422677, -0.03204441, -0.00993726, -0.03263502,  0.01702055,\n",
              "        -0.04105211, -0.00106769, -0.03185477, -0.03335727, -0.00727739,\n",
              "         0.02937762, -0.00858784, -0.01678003, -0.02968416, -0.0167833 ,\n",
              "        -0.00909054, -0.03208729], dtype=float32)>,\n",
              " <tf.Variable 'dense_layer/kernel:0' shape=(18432, 10) dtype=float32, numpy=\n",
              " array([[-0.01473112, -0.00935145, -0.01567468, ...,  0.00339951,\n",
              "          0.00299779,  0.01348932],\n",
              "        [-0.00547627, -0.00931139, -0.01171779, ...,  0.01002663,\n",
              "          0.01094107, -0.01199288],\n",
              "        [-0.00309923,  0.01690468,  0.00389738, ...,  0.00690214,\n",
              "         -0.01205146, -0.01437598],\n",
              "        ...,\n",
              "        [-0.03698816, -0.02929139,  0.00702788, ..., -0.03452879,\n",
              "         -0.0030068 ,  0.03782123],\n",
              "        [-0.02364601, -0.08581622, -0.0163637 , ..., -0.07843437,\n",
              "          0.00874421,  0.04213622],\n",
              "        [ 0.00115434, -0.00063109, -0.00432145, ..., -0.00785034,\n",
              "         -0.01316266,  0.01585291]], dtype=float32)>,\n",
              " <tf.Variable 'dense_layer/bias:0' shape=(10,) dtype=float32, numpy=\n",
              " array([-0.02545756,  0.0811966 , -0.03504132, -0.02407746,  0.00536782,\n",
              "        -0.01518743,  0.00940733,  0.02541958,  0.00508275, -0.00469777],\n",
              "       dtype=float32)>]"
            ]
          },
          "metadata": {
            "tags": []
          },
          "execution_count": 49
        }
      ]
    },
    {
      "cell_type": "code",
      "metadata": {
        "id": "jsVq9HxU03i-",
        "outputId": "1dd84bef-f6ce-44f8-c18c-a0bd0a8b8669"
      },
      "source": [
        "import matplotlib.pyplot as plt\n",
        "%matplotlib inline\n",
        "# list all data in training\n",
        "print(training.history.keys())\n",
        "# summarize training for accuracy\n",
        "plt.plot(training.history['accuracy'])\n",
        "plt.plot(training.history['val_accuracy'])\n",
        "plt.title('model accuracy')\n",
        "plt.ylabel('accuracy')\n",
        "plt.xlabel('epoch')\n",
        "plt.legend(['train', 'test'], loc='upper left')\n",
        "plt.show()\n",
        "# summarize traning for loss\n",
        "plt.plot(training.history['loss'])\n",
        "plt.plot(training.history['val_loss'])\n",
        "plt.title('model loss')\n",
        "plt.ylabel('loss')\n",
        "plt.xlabel('epoch')\n",
        "plt.legend(['train', 'test'], loc='upper left')\n",
        "plt.show()"
      ],
      "execution_count": null,
      "outputs": [
        {
          "output_type": "stream",
          "text": [
            "dict_keys(['loss', 'accuracy', 'val_loss', 'val_accuracy'])\n"
          ],
          "name": "stdout"
        },
        {
          "output_type": "display_data",
          "data": {
            "image/png": "[encoded data removed]",
            "text/plain": [
              "<Figure size 432x288 with 1 Axes>"
            ]
          },
          "metadata": {
            "tags": [],
            "needs_background": "light"
          }
        },
        {
          "output_type": "display_data",
          "data": {
            "image/png": "[encoded data removed]",
            "text/plain": [
              "<Figure size 432x288 with 1 Axes>"
            ]
          },
          "metadata": {
            "tags": [],
            "needs_background": "light"
          }
        }
      ]
    },
    {
      "cell_type": "code",
      "metadata": {
        "id": "LDvDR-mX03i-",
        "outputId": "6589f548-091b-4a62-a849-d6ecf9616dd7"
      },
      "source": [
        "#evaluate model\n",
        "\n",
        "#evaluate the model\n",
        "test_loss, test_acc = model_1.evaluate(X_test, y_test_one_hot)\n",
        "print()\n",
        "print('Test Loss', test_loss)\n",
        "print()\n",
        "print('Test accuracy:', test_acc)\n"
      ],
      "execution_count": null,
      "outputs": [
        {
          "output_type": "stream",
          "text": [
            "313/313 [==============================] - 2s 8ms/step - loss: 0.0971 - accuracy: 0.9730\n",
            "\n",
            "Test Loss 0.0971444845199585\n",
            "\n",
            "Test accuracy: 0.9729999899864197\n"
          ],
          "name": "stdout"
        }
      ]
    },
    {
      "cell_type": "markdown",
      "metadata": {
        "id": "V_UKt2DN03i-"
      },
      "source": [
        "# End of model_1"
      ]
    },
    {
      "cell_type": "markdown",
      "metadata": {
        "id": "lQKJ4-Rz03i_"
      },
      "source": [
        "## If we add more neurons to each Conv2D layer, let's see what happens.. "
      ]
    },
    {
      "cell_type": "markdown",
      "metadata": {
        "id": "YYfZBIFW03i_"
      },
      "source": [
        "# build another CNN model_1a"
      ]
    },
    {
      "cell_type": "code",
      "metadata": {
        "id": "fhCSqNns03i_",
        "outputId": "cacdfa3f-386e-4047-c5e8-3a18701b32e1"
      },
      "source": [
        "\n",
        "# Build another CNN Model (kernel_size = 7)\n",
        "model_1a = Sequential()\n",
        "\n",
        "model_1a.add(keras.layers.Conv2D(32, (7, 7), padding=\"same\", input_shape=(28,28,1), activation=\"relu\"))\n",
        "#model_1a.add(MaxPooling2D(pool_size=(2, 2)))\n",
        "\n",
        "model_1a.add(keras.layers.Conv2D(16, (7, 7), padding=\"same\", activation=\"relu\"))\n",
        "#model_1.add(MaxPooling2D(pool_size=(2, 2)))\n",
        "\n",
        "model_1a.add(keras.layers.Conv2D(8, (7, 7), padding=\"same\", activation=\"relu\"))\n",
        "#model_1.add(MaxPooling2D(pool_size=(2, 2)))\n",
        "\n",
        "model_1a.add(keras.layers.Flatten())\n",
        "model_1a.add(Dense(10, name='dense_layer', activation = 'softmax')) \n",
        "\n",
        "model_1a.summary()"
      ],
      "execution_count": null,
      "outputs": [
        {
          "output_type": "stream",
          "text": [
            "Model: \"sequential_2\"\n",
            "_________________________________________________________________\n",
            "Layer (type)                 Output Shape              Param #   \n",
            "=================================================================\n",
            "conv2d_2 (Conv2D)            (None, 28, 28, 32)        1600      \n",
            "_________________________________________________________________\n",
            "conv2d_3 (Conv2D)            (None, 28, 28, 16)        25104     \n",
            "_________________________________________________________________\n",
            "conv2d_4 (Conv2D)            (None, 28, 28, 8)         6280      \n",
            "_________________________________________________________________\n",
            "flatten_1 (Flatten)          (None, 6272)              0         \n",
            "_________________________________________________________________\n",
            "dense_layer (Dense)          (None, 10)                62730     \n",
            "=================================================================\n",
            "Total params: 95,714\n",
            "Trainable params: 95,714\n",
            "Non-trainable params: 0\n",
            "_________________________________________________________________\n"
          ],
          "name": "stdout"
        }
      ]
    },
    {
      "cell_type": "code",
      "metadata": {
        "id": "iZSS_BvV03jB"
      },
      "source": [
        "# Compile model\n",
        "\n",
        "model_1a.compile(optimizer='adam', \n",
        "              loss='categorical_crossentropy',\n",
        "              metrics=['accuracy'])"
      ],
      "execution_count": null,
      "outputs": []
    },
    {
      "cell_type": "code",
      "metadata": {
        "id": "Di_QISWl03jB",
        "outputId": "79420b2b-aea2-430e-f51f-f9bc3d7224ee"
      },
      "source": [
        "# Train model\n",
        "\n",
        "#training = model_1.fit(X_train, y_train_one_hot, batch_size=64, epochs=5, validation_split=0.2) \n",
        "\n",
        "training = model_1a.fit(X_train, y_train_one_hot, epochs=3, validation_split=0.2) "
      ],
      "execution_count": null,
      "outputs": [
        {
          "output_type": "stream",
          "text": [
            "Epoch 1/3\n",
            "1500/1500 [==============================] - 199s 133ms/step - loss: 0.2105 - accuracy: 0.9380 - val_loss: 0.1049 - val_accuracy: 0.9698\n",
            "Epoch 2/3\n",
            "1500/1500 [==============================] - 212s 141ms/step - loss: 0.1004 - accuracy: 0.9704 - val_loss: 0.0910 - val_accuracy: 0.9728\n",
            "Epoch 3/3\n",
            "1500/1500 [==============================] - 215s 144ms/step - loss: 0.0786 - accuracy: 0.9763 - val_loss: 0.0807 - val_accuracy: 0.9751\n"
          ],
          "name": "stdout"
        }
      ]
    },
    {
      "cell_type": "code",
      "metadata": {
        "id": "NRyjoRel03jB",
        "outputId": "b08ebdee-2739-4418-e81d-312c23d8d833"
      },
      "source": [
        "model_1a.weights"
      ],
      "execution_count": null,
      "outputs": [
        {
          "output_type": "execute_result",
          "data": {
            "text/plain": [
              "[<tf.Variable 'conv2d_2/kernel:0' shape=(7, 7, 1, 32) dtype=float32, numpy=\n",
              " array([[[[-0.0540033 , -0.07426727, -0.07739285, ...,  0.0150011 ,\n",
              "            0.06022884, -0.08667406]],\n",
              " \n",
              "         [[ 0.00669112, -0.07060144, -0.09664703, ..., -0.01224386,\n",
              "            0.03506973, -0.04245025]],\n",
              " \n",
              "         [[ 0.08329154, -0.0157468 ,  0.03706214, ...,  0.00636818,\n",
              "            0.03407385,  0.00251925]],\n",
              " \n",
              "         ...,\n",
              " \n",
              "         [[ 0.0098206 , -0.05071283,  0.08352337, ..., -0.00315555,\n",
              "           -0.01297418, -0.03283694]],\n",
              " \n",
              "         [[ 0.00067713,  0.01255252,  0.00745787, ..., -0.06144689,\n",
              "           -0.02311607, -0.05823047]],\n",
              " \n",
              "         [[-0.05950141, -0.08707935, -0.24412534, ..., -0.18506402,\n",
              "           -0.03644436, -0.11384033]]],\n",
              " \n",
              " \n",
              "        [[[-0.07131184, -0.07666721, -0.01269637, ..., -0.01250497,\n",
              "           -0.01807271, -0.13570057]],\n",
              " \n",
              "         [[-0.11187128, -0.03687834,  0.00863627, ...,  0.0039726 ,\n",
              "            0.05529103, -0.02719293]],\n",
              " \n",
              "         [[-0.10082136, -0.04177685,  0.01170306, ..., -0.06139293,\n",
              "            0.02558357,  0.01965419]],\n",
              " \n",
              "         ...,\n",
              " \n",
              "         [[-0.07089912, -0.0687538 ,  0.04476018, ...,  0.07869072,\n",
              "            0.05672777,  0.05735258]],\n",
              " \n",
              "         [[ 0.00073824,  0.00675934, -0.07350653, ...,  0.05388981,\n",
              "           -0.06978434,  0.02702971]],\n",
              " \n",
              "         [[-0.06661654, -0.00960229, -0.055629  , ..., -0.11662264,\n",
              "           -0.02776979, -0.06880001]]],\n",
              " \n",
              " \n",
              "        [[[ 0.01120037, -0.05810548, -0.06908733, ..., -0.00610543,\n",
              "           -0.08995719, -0.05387428]],\n",
              " \n",
              "         [[-0.08037359, -0.02660542,  0.03595259, ..., -0.06837053,\n",
              "           -0.0308282 , -0.04136574]],\n",
              " \n",
              "         [[-0.09801257, -0.06533524,  0.05121298, ..., -0.07654142,\n",
              "           -0.00980913, -0.02504854]],\n",
              " \n",
              "         ...,\n",
              " \n",
              "         [[-0.02212997,  0.02353058,  0.0397463 , ...,  0.04780905,\n",
              "            0.05967576,  0.03293595]],\n",
              " \n",
              "         [[ 0.02697172, -0.08336622, -0.11755729, ...,  0.08260056,\n",
              "            0.03342934,  0.02294722]],\n",
              " \n",
              "         [[-0.01877024, -0.04119569, -0.05845723, ..., -0.02459688,\n",
              "           -0.14953321, -0.00694145]]],\n",
              " \n",
              " \n",
              "        ...,\n",
              " \n",
              " \n",
              "        [[[ 0.06260592,  0.02456479, -0.07707734, ...,  0.01540035,\n",
              "           -0.11648637, -0.05694092]],\n",
              " \n",
              "         [[ 0.00719967, -0.04841936, -0.08323224, ..., -0.03405891,\n",
              "            0.03225262,  0.03438676]],\n",
              " \n",
              "         [[-0.03259588,  0.03118353, -0.1781991 , ..., -0.02439364,\n",
              "            0.02672766,  0.01917229]],\n",
              " \n",
              "         ...,\n",
              " \n",
              "         [[ 0.00061464,  0.01201956, -0.0667266 , ..., -0.082959  ,\n",
              "            0.03428407,  0.00801199]],\n",
              " \n",
              "         [[-0.01459684, -0.02254003, -0.07362397, ...,  0.06465776,\n",
              "            0.04320844,  0.00294046]],\n",
              " \n",
              "         [[-0.0816002 ,  0.02256139, -0.01234843, ..., -0.06787265,\n",
              "            0.04758034, -0.04556774]]],\n",
              " \n",
              " \n",
              "        [[[ 0.00823843, -0.00370074, -0.00564411, ..., -0.03030606,\n",
              "           -0.06933053, -0.10739792]],\n",
              " \n",
              "         [[-0.04518972,  0.01188089, -0.02040422, ..., -0.01853021,\n",
              "            0.01187128,  0.01865287]],\n",
              " \n",
              "         [[ 0.00613994,  0.00712206, -0.01055754, ..., -0.05199904,\n",
              "            0.02558532, -0.0526038 ]],\n",
              " \n",
              "         ...,\n",
              " \n",
              "         [[-0.03855917, -0.01078391, -0.01751099, ..., -0.07201786,\n",
              "            0.02904701,  0.03676938]],\n",
              " \n",
              "         [[ 0.01632782, -0.08067732, -0.02653969, ...,  0.04306658,\n",
              "            0.06481931,  0.00944545]],\n",
              " \n",
              "         [[-0.0429531 , -0.0143331 ,  0.01105203, ...,  0.02644061,\n",
              "           -0.01427015,  0.04872258]]],\n",
              " \n",
              " \n",
              "        [[[ 0.06574341, -0.00751444, -0.04446892, ..., -0.03172213,\n",
              "            0.00311084,  0.02486222]],\n",
              " \n",
              "         [[ 0.02293394, -0.07940689, -0.04342123, ...,  0.03901893,\n",
              "            0.00780135, -0.08182565]],\n",
              " \n",
              "         [[-0.00771624, -0.0788869 , -0.02993687, ...,  0.00219182,\n",
              "            0.03448941, -0.05767584]],\n",
              " \n",
              "         ...,\n",
              " \n",
              "         [[-0.06326431, -0.0226592 , -0.05256138, ..., -0.01854256,\n",
              "           -0.04416407,  0.0467728 ]],\n",
              " \n",
              "         [[ 0.00948519, -0.08105113,  0.02819246, ..., -0.00984566,\n",
              "           -0.08117828, -0.01340043]],\n",
              " \n",
              "         [[-0.00756768, -0.07043479, -0.0234267 , ...,  0.03896071,\n",
              "            0.00618829, -0.11522482]]]], dtype=float32)>,\n",
              " <tf.Variable 'conv2d_2/bias:0' shape=(32,) dtype=float32, numpy=\n",
              " array([-0.09670874, -0.03895257, -0.07749612, -0.06407816, -0.07276422,\n",
              "        -0.00992978, -0.1360114 , -0.12113797, -0.06956048, -0.04331714,\n",
              "        -0.03132913, -0.0767195 , -0.02359483, -0.10948942, -0.13232951,\n",
              "        -0.08513949, -0.098085  , -0.10173517, -0.13122477, -0.1093606 ,\n",
              "        -0.02693071, -0.07483348, -0.06301965,  0.0968817 , -0.0755532 ,\n",
              "        -0.05519834, -0.08552232, -0.03571926, -0.17011783, -0.11623494,\n",
              "        -0.16964582, -0.08992381], dtype=float32)>,\n",
              " <tf.Variable 'conv2d_3/kernel:0' shape=(7, 7, 32, 16) dtype=float32, numpy=\n",
              " array([[[[ 8.50109980e-02,  5.60637936e-03,  3.42096668e-03, ...,\n",
              "           -1.92153323e-02,  5.13076410e-02, -3.01964153e-02],\n",
              "          [ 1.71383899e-02, -6.58963807e-03,  1.32947359e-02, ...,\n",
              "           -2.42030844e-02,  5.54701351e-02, -8.44467152e-03],\n",
              "          [ 3.91932800e-02,  3.56168300e-02,  4.96866647e-03, ...,\n",
              "            2.44200174e-02, -4.85926606e-02,  7.37814174e-04],\n",
              "          ...,\n",
              "          [-7.46084237e-03, -1.18351936e-01,  1.29728252e-03, ...,\n",
              "           -1.09394841e-01, -5.76000810e-02,  1.64298620e-02],\n",
              "          [-5.49405515e-02, -4.88838777e-02, -6.87602833e-02, ...,\n",
              "           -9.96326283e-02, -1.90918578e-03,  1.95594542e-02],\n",
              "          [-8.03833082e-02,  6.70233602e-03, -3.13781239e-02, ...,\n",
              "           -1.08284906e-01,  6.68135379e-03,  4.39328179e-02]],\n",
              " \n",
              "         [[ 7.61298314e-02, -2.48688720e-02, -3.33378613e-02, ...,\n",
              "            6.52012378e-02,  2.12775841e-02, -6.52005225e-02],\n",
              "          [-5.33574447e-02, -3.08998097e-02,  2.67779920e-02, ...,\n",
              "           -1.22789713e-02,  7.79434992e-03, -2.60476917e-02],\n",
              "          [ 6.46320954e-02,  7.78383091e-02, -1.89492628e-02, ...,\n",
              "           -5.22409901e-02,  4.92745871e-03,  2.85205208e-02],\n",
              "          ...,\n",
              "          [ 6.00187900e-03, -8.09724033e-02,  1.19220056e-02, ...,\n",
              "           -9.53100622e-02, -1.04998853e-02,  2.06821058e-02],\n",
              "          [-6.26137033e-02, -2.98051331e-02, -1.96123868e-02, ...,\n",
              "           -6.00926466e-02, -3.00662443e-02,  3.43482271e-02],\n",
              "          [-4.15442549e-02, -4.63602580e-02, -2.39575021e-02, ...,\n",
              "           -2.30463371e-02, -3.53413597e-02, -5.37089668e-02]],\n",
              " \n",
              "         [[ 5.22515662e-02, -1.73389241e-02, -9.02079269e-02, ...,\n",
              "           -2.97736526e-02, -4.94795255e-02, -7.61124492e-02],\n",
              "          [-5.73246600e-03, -3.58837843e-02, -2.67901234e-02, ...,\n",
              "            3.63233946e-02,  1.45017616e-02, -1.12916268e-01],\n",
              "          [ 5.88816032e-02,  2.83421576e-02, -4.92493697e-02, ...,\n",
              "            3.53463143e-02, -5.14015323e-03, -2.74667013e-02],\n",
              "          ...,\n",
              "          [ 3.61300143e-03,  8.71013477e-03,  2.09192764e-02, ...,\n",
              "           -2.99739605e-03, -7.06236735e-02, -4.03500125e-02],\n",
              "          [ 5.73217263e-03,  2.49213316e-02, -1.15464842e-02, ...,\n",
              "           -1.82107538e-02,  1.52650820e-02, -3.18775028e-02],\n",
              "          [-4.33942638e-02,  2.03861222e-02,  1.84301026e-02, ...,\n",
              "           -1.07368771e-02,  1.52816903e-02, -4.58347462e-02]],\n",
              " \n",
              "         ...,\n",
              " \n",
              "         [[ 3.29136886e-02, -5.76656610e-02, -4.90853675e-02, ...,\n",
              "            2.95018330e-02,  1.60535201e-02, -1.32636502e-01],\n",
              "          [-3.24315717e-03,  4.50932980e-03, -7.88651314e-03, ...,\n",
              "            2.31362991e-02, -5.71422316e-02,  1.90723334e-02],\n",
              "          [ 6.92600710e-03, -3.98911759e-02, -3.23292613e-02, ...,\n",
              "           -8.51201862e-02, -6.78332970e-02, -2.07504220e-02],\n",
              "          ...,\n",
              "          [-1.13750473e-02,  4.73027080e-02,  1.77646820e-02, ...,\n",
              "           -1.68014853e-03, -2.05983482e-02, -4.38814983e-02],\n",
              "          [-9.56247970e-02,  1.34997051e-02,  5.37324920e-02, ...,\n",
              "           -3.35533284e-02, -9.50057432e-03, -2.00300105e-02],\n",
              "          [-2.47178860e-02,  1.26484884e-02, -3.21545196e-03, ...,\n",
              "           -3.10640205e-02, -4.57236208e-02, -6.54690713e-02]],\n",
              " \n",
              "         [[-1.77220311e-02, -5.84862307e-02, -5.54494560e-02, ...,\n",
              "           -5.16724661e-02, -3.08101960e-02, -1.80362061e-01],\n",
              "          [-1.59478653e-02,  1.63932703e-02,  1.24246655e-02, ...,\n",
              "            1.95308607e-02, -3.76621448e-02, -1.39489742e-02],\n",
              "          [-8.34400579e-02, -1.58081949e-01,  1.73208173e-02, ...,\n",
              "           -1.44271823e-02, -5.57321087e-02,  2.08035158e-03],\n",
              "          ...,\n",
              "          [-5.15209064e-02,  1.64620336e-02, -2.88404785e-02, ...,\n",
              "           -9.55249555e-03, -4.39629108e-02, -4.38642763e-02],\n",
              "          [ 1.46489497e-02, -2.08816547e-02,  9.15195886e-03, ...,\n",
              "           -8.13996885e-03, -5.93963154e-02, -2.97275111e-02],\n",
              "          [-7.47448280e-02,  4.73047160e-02,  3.67295854e-02, ...,\n",
              "           -3.11029609e-02, -1.78816356e-02,  3.78383324e-02]],\n",
              " \n",
              "         [[ 6.06803671e-02, -3.82148735e-02, -4.52380851e-02, ...,\n",
              "           -2.13559903e-02, -6.65004328e-02, -1.09980248e-01],\n",
              "          [ 1.70206521e-02,  9.34992209e-02,  5.69017753e-02, ...,\n",
              "           -2.54353993e-02, -5.95019795e-02, -2.92834658e-02],\n",
              "          [-1.42216727e-01, -1.44143090e-01, -3.82314995e-02, ...,\n",
              "            3.44616198e-03, -1.38758123e-02, -3.29442881e-02],\n",
              "          ...,\n",
              "          [-1.17266245e-01,  9.86694396e-02,  2.52160430e-02, ...,\n",
              "           -4.30994993e-03,  1.31001687e-02,  5.49194328e-02],\n",
              "          [-2.57807430e-02,  2.79320404e-02,  1.32448310e-02, ...,\n",
              "           -7.61975199e-02,  7.00945705e-02, -2.09760014e-02],\n",
              "          [-8.44150856e-02,  8.47557113e-02,  4.32021469e-02, ...,\n",
              "           -6.71257079e-02,  4.77388799e-02, -7.06042498e-02]]],\n",
              " \n",
              " \n",
              "        [[[ 4.50116321e-02, -6.15107641e-02, -1.26783922e-03, ...,\n",
              "           -2.08753217e-02, -2.52069533e-02, -3.84653956e-02],\n",
              "          [-2.06040703e-02, -7.12170154e-02,  3.75784747e-02, ...,\n",
              "            9.87668522e-03,  3.12917307e-02,  4.62707803e-02],\n",
              "          [ 3.08329426e-02, -4.48322222e-02, -5.15762158e-02, ...,\n",
              "           -2.05883160e-02, -2.02589743e-02,  4.03707661e-03],\n",
              "          ...,\n",
              "          [ 4.79552634e-02, -3.33525874e-02, -5.73611483e-02, ...,\n",
              "           -3.48857120e-02, -8.61714631e-02, -2.07311977e-02],\n",
              "          [ 1.00775901e-02, -5.95833315e-03,  3.73475663e-02, ...,\n",
              "           -7.82384910e-03, -1.04471296e-02,  9.52297300e-02],\n",
              "          [-4.01683301e-02,  1.49538582e-02, -1.40013499e-03, ...,\n",
              "           -7.54890293e-02, -2.41034329e-02, -1.75822247e-02]],\n",
              " \n",
              "         [[ 1.11930348e-01, -2.12789793e-02, -4.65245433e-02, ...,\n",
              "            4.09705490e-02,  4.88289744e-02, -5.77863343e-02],\n",
              "          [-2.06272416e-02, -9.01837051e-02,  7.46693090e-02, ...,\n",
              "           -1.42412540e-02,  1.48543613e-02, -7.10143289e-03],\n",
              "          [-3.49915214e-02, -1.22801913e-02, -6.37042820e-02, ...,\n",
              "           -1.05593551e-03, -3.75170931e-02,  2.87260227e-02],\n",
              "          ...,\n",
              "          [ 3.49577293e-02, -6.71065692e-03, -4.23440263e-02, ...,\n",
              "           -3.90802287e-02, -7.46426061e-02,  3.28485444e-02],\n",
              "          [ 4.78457473e-02,  8.01913962e-02, -8.34652130e-03, ...,\n",
              "            2.93320213e-02, -3.45696993e-02,  9.44789574e-02],\n",
              "          [-1.90926809e-02,  2.79858578e-02,  1.92513932e-02, ...,\n",
              "            6.30166158e-02,  1.05588334e-02,  1.96429137e-02]],\n",
              " \n",
              "         [[ 5.50165810e-02, -8.74217972e-02, -3.25842761e-02, ...,\n",
              "            3.68810236e-03, -4.57997713e-03, -2.35899072e-02],\n",
              "          [-2.19332017e-02, -2.87518222e-02,  8.64000693e-02, ...,\n",
              "            3.14449221e-02, -2.40133051e-02, -1.82090811e-02],\n",
              "          [-9.50850695e-02, -6.40322268e-02, -2.88956799e-02, ...,\n",
              "            8.18329155e-02, -2.22312454e-02,  1.50765553e-02],\n",
              "          ...,\n",
              "          [ 1.57106724e-02, -4.04320545e-02,  4.46880907e-02, ...,\n",
              "           -5.63487597e-02, -9.10367724e-03, -3.80987749e-02],\n",
              "          [ 8.40065256e-02, -1.37327276e-02, -3.04242950e-02, ...,\n",
              "           -5.77297658e-02, -2.87300162e-02,  3.31679732e-02],\n",
              "          [-1.41616175e-02, -4.79472801e-02, -9.51444497e-04, ...,\n",
              "            4.80682626e-02, -5.07509559e-02,  6.32320996e-03]],\n",
              " \n",
              "         ...,\n",
              " \n",
              "         [[ 6.84627891e-02, -2.91900635e-02, -7.99316987e-02, ...,\n",
              "           -5.23937196e-02, -3.54529098e-02,  4.16738121e-03],\n",
              "          [ 8.11674632e-03,  4.26724814e-02,  4.34808582e-02, ...,\n",
              "           -2.28219163e-02, -2.61725411e-02,  5.38623817e-02],\n",
              "          [-4.50408161e-02, -9.46815386e-02, -2.86467653e-02, ...,\n",
              "           -2.01436747e-02, -3.11343465e-02,  3.27977799e-02],\n",
              "          ...,\n",
              "          [ 1.16985934e-02, -2.03529801e-02, -2.19494794e-02, ...,\n",
              "            1.81135617e-03, -2.39452869e-02,  8.27439353e-02],\n",
              "          [-5.24977110e-02, -4.67152297e-02, -4.96854112e-02, ...,\n",
              "           -4.43032980e-02, -1.80547480e-02,  1.07840471e-01],\n",
              "          [-7.85068274e-02,  2.38490570e-02,  1.52516998e-02, ...,\n",
              "           -3.97475390e-03,  1.39786024e-02,  2.94778240e-03]],\n",
              " \n",
              "         [[-4.69226576e-03, -2.98215207e-02, -9.53652114e-02, ...,\n",
              "           -4.58045900e-02,  3.52708660e-02, -7.74328411e-02],\n",
              "          [ 1.49167166e-03,  3.80857773e-02,  3.70649435e-02, ...,\n",
              "           -4.33637574e-02, -3.97303328e-02, -7.16411397e-02],\n",
              "          [-1.10101074e-01, -1.87309712e-01, -1.02572599e-02, ...,\n",
              "           -4.16383445e-02, -1.37782190e-02,  4.73413877e-02],\n",
              "          ...,\n",
              "          [ 2.41687503e-02, -6.64054006e-02, -4.76327725e-03, ...,\n",
              "           -5.50769195e-02,  8.68006144e-03,  7.47544318e-02],\n",
              "          [-7.21555799e-02, -6.49116263e-02, -4.86496650e-02, ...,\n",
              "           -2.36221813e-02, -3.79811898e-02,  3.07865050e-02],\n",
              "          [-4.35420647e-02,  1.14177782e-02,  3.70740481e-02, ...,\n",
              "           -1.35368423e-03, -2.60644518e-02,  2.72891659e-04]],\n",
              " \n",
              "         [[ 3.53010781e-02,  1.53169921e-02, -2.94646174e-02, ...,\n",
              "           -5.69672361e-02,  2.98832227e-02, -5.64967878e-02],\n",
              "          [-2.22456940e-02,  7.38108084e-02,  1.62207354e-02, ...,\n",
              "           -2.19329111e-02,  3.28700757e-03, -3.69796455e-02],\n",
              "          [-1.06120538e-02, -2.23182812e-01,  1.63534265e-02, ...,\n",
              "           -2.26914231e-02, -3.33700404e-02, -2.90431585e-02],\n",
              "          ...,\n",
              "          [-4.96971495e-02, -6.43349066e-02,  1.57601722e-02, ...,\n",
              "            4.19045845e-03, -1.38674481e-02,  2.44154651e-02],\n",
              "          [-5.20890094e-02,  2.27183122e-02, -3.56218498e-03, ...,\n",
              "           -8.74549374e-02,  7.99688399e-02, -1.16352137e-04],\n",
              "          [-6.39991313e-02, -8.89723897e-02,  3.10901720e-02, ...,\n",
              "           -5.77541925e-02,  4.37819362e-02, -6.71494007e-02]]],\n",
              " \n",
              " \n",
              "        [[[ 7.24935997e-03, -6.96220398e-02, -6.66932538e-02, ...,\n",
              "           -8.92934110e-03,  5.85040934e-02, -1.50048640e-02],\n",
              "          [-2.04388890e-02, -1.89463682e-02,  2.58011208e-03, ...,\n",
              "            2.51146741e-02, -3.24786343e-02, -2.70538870e-02],\n",
              "          [-1.78231113e-02,  4.19697464e-02,  1.77077539e-02, ...,\n",
              "            1.46792000e-02, -1.71176996e-02,  2.41161287e-02],\n",
              "          ...,\n",
              "          [ 2.28749122e-02, -2.73462348e-02, -5.63109554e-02, ...,\n",
              "           -4.20911722e-02, -8.56264755e-02, -1.11104678e-02],\n",
              "          [ 8.94999206e-02, -2.58808606e-03,  5.71115641e-03, ...,\n",
              "            8.12582374e-02, -8.36971626e-02, -1.76765993e-02],\n",
              "          [-2.40144823e-02, -7.50138564e-03, -3.72400284e-02, ...,\n",
              "            1.80796982e-04, -5.44968620e-02,  3.92054394e-02]],\n",
              " \n",
              "         [[ 6.22861348e-02, -3.85107137e-02,  3.16734076e-03, ...,\n",
              "            1.36804078e-02,  4.29805480e-02, -5.19130453e-02],\n",
              "          [-6.05196655e-02, -2.98844837e-02,  5.40052876e-02, ...,\n",
              "            3.94701175e-02, -1.58647913e-02,  3.90483551e-02],\n",
              "          [-7.35479444e-02, -1.30143277e-02, -2.25153118e-02, ...,\n",
              "            7.32480884e-02, -3.71743925e-02,  4.33846153e-02],\n",
              "          ...,\n",
              "          [-4.03508060e-02, -1.78314222e-03, -4.44811629e-03, ...,\n",
              "           -1.40839815e-02, -4.21151370e-02,  4.34453525e-02],\n",
              "          [ 2.67566331e-02, -9.31893755e-03,  3.65310758e-02, ...,\n",
              "            7.74131995e-03,  1.13422256e-02,  5.73725998e-02],\n",
              "          [-2.90552229e-02, -6.23878092e-02,  3.40043195e-02, ...,\n",
              "            4.26308345e-03,  1.50462957e-02, -1.67083349e-02]],\n",
              " \n",
              "         [[-4.72170115e-03, -4.54894900e-02,  3.02886367e-02, ...,\n",
              "           -1.25266993e-02, -4.41572629e-02, -1.65710635e-02],\n",
              "          [-1.70181096e-02, -2.37248819e-02, -4.12748046e-02, ...,\n",
              "            5.11852056e-02,  1.14493156e-02,  1.32264728e-02],\n",
              "          [-3.83003689e-02, -2.87756026e-02, -5.71331978e-02, ...,\n",
              "            1.97484381e-02, -1.72103699e-02,  2.08200049e-02],\n",
              "          ...,\n",
              "          [ 2.76447320e-03, -4.90246192e-02,  3.71724181e-03, ...,\n",
              "           -7.21487263e-03, -3.35447788e-02, -1.63899790e-02],\n",
              "          [ 9.55459755e-03,  8.46021995e-03, -4.39124964e-02, ...,\n",
              "           -1.25095025e-01, -6.06387816e-02,  3.49424109e-02],\n",
              "          [ 1.54539747e-02,  1.84755716e-02, -4.93708998e-02, ...,\n",
              "            1.95307918e-02, -3.09934225e-02, -4.23555635e-02]],\n",
              " \n",
              "         ...,\n",
              " \n",
              "         [[ 2.65884418e-02, -4.33583967e-02, -3.48977000e-02, ...,\n",
              "           -9.24270898e-02,  1.88085251e-02,  6.13698550e-02],\n",
              "          [-4.43146145e-03,  6.32656887e-02, -4.40419056e-02, ...,\n",
              "           -3.27333286e-02, -3.66662033e-02,  7.10940361e-02],\n",
              "          [-3.13219987e-02,  3.37639302e-02,  2.83111911e-02, ...,\n",
              "            1.90037861e-02, -5.22693247e-02, -2.95307301e-02],\n",
              "          ...,\n",
              "          [ 2.64627021e-02, -4.62318659e-02,  9.70185921e-03, ...,\n",
              "           -4.48287204e-02, -3.62036191e-02,  4.51192670e-02],\n",
              "          [ 6.65638819e-02, -7.42627680e-02,  7.63581553e-03, ...,\n",
              "           -3.23843472e-02, -6.73684180e-02, -3.55666988e-02],\n",
              "          [-2.26198062e-02, -2.00196598e-02,  1.93726439e-02, ...,\n",
              "           -5.71619458e-02, -4.96613979e-02,  7.05251098e-02]],\n",
              " \n",
              "         [[-3.77597138e-02,  5.50267398e-02, -2.04379801e-02, ...,\n",
              "            3.93064171e-02, -2.35907026e-02, -7.33627900e-02],\n",
              "          [-8.78255293e-02,  3.56485434e-02, -3.08564194e-02, ...,\n",
              "            3.27639282e-02,  1.87204462e-02, -9.73532349e-03],\n",
              "          [ 9.68615804e-03, -3.52852605e-02, -5.92087302e-03, ...,\n",
              "           -1.17180962e-02, -1.07482439e-02,  4.91998494e-02],\n",
              "          ...,\n",
              "          [ 1.13032607e-03, -2.51747556e-02, -7.35609420e-03, ...,\n",
              "           -2.71883011e-02, -3.11379079e-02,  4.75140894e-03],\n",
              "          [ 2.45363098e-02, -2.09309105e-02, -4.44884505e-03, ...,\n",
              "           -3.52303721e-02, -5.80195598e-02, -2.44146166e-03],\n",
              "          [-3.77198271e-02, -6.47830442e-02,  3.49536166e-02, ...,\n",
              "           -1.66293476e-02,  2.10662670e-02,  2.03865096e-02]],\n",
              " \n",
              "         [[ 3.27699818e-02,  5.27227996e-03, -2.74674664e-03, ...,\n",
              "            4.68688421e-02, -1.93591285e-02, -8.32614601e-02],\n",
              "          [-5.64629436e-02,  1.95350908e-02, -3.95369455e-02, ...,\n",
              "           -4.75264527e-02, -5.91758862e-02, -6.25380948e-02],\n",
              "          [ 3.22951898e-02, -1.09984994e-01, -5.17540723e-02, ...,\n",
              "            3.69588956e-02,  2.98125464e-02, -3.65775451e-02],\n",
              "          ...,\n",
              "          [ 2.42215004e-02, -5.27873114e-02, -3.00697926e-02, ...,\n",
              "           -2.86706630e-02, -1.92821380e-02,  1.09969273e-01],\n",
              "          [ 2.73785950e-03, -2.86423359e-02, -1.85224731e-02, ...,\n",
              "           -7.38899782e-02, -1.42094819e-02,  3.72004546e-02],\n",
              "          [ 3.43950391e-02, -1.20285504e-01, -3.25024761e-02, ...,\n",
              "           -4.64048088e-02, -3.27967084e-03,  6.58119051e-03]]],\n",
              " \n",
              " \n",
              "        ...,\n",
              " \n",
              " \n",
              "        [[[-3.51605229e-02, -9.02055129e-02, -7.77594447e-02, ...,\n",
              "           -3.63164488e-03, -3.87100093e-02,  3.48522002e-03],\n",
              "          [-3.51044652e-03,  1.42308213e-02,  1.63935423e-02, ...,\n",
              "            9.83435381e-03,  1.97524559e-02, -3.23643088e-02],\n",
              "          [ 1.08262813e-02,  9.87285748e-02,  3.93242463e-02, ...,\n",
              "           -3.10252663e-02,  9.89381969e-02, -1.01444557e-01],\n",
              "          ...,\n",
              "          [-3.08158193e-02, -6.52205646e-02, -7.62112662e-02, ...,\n",
              "            4.85270377e-03, -1.93815418e-02, -4.95788641e-02],\n",
              "          [-3.03742420e-02, -1.02557354e-01, -9.51714627e-03, ...,\n",
              "           -4.11137156e-02, -2.82915775e-02, -1.85324065e-02],\n",
              "          [-3.94853950e-02, -4.11231443e-02, -1.93357002e-02, ...,\n",
              "            2.55152080e-02,  7.01706335e-02, -3.11993826e-02]],\n",
              " \n",
              "         [[-4.00777832e-02, -9.02070180e-02, -8.10661241e-02, ...,\n",
              "            1.85242072e-02, -1.28268093e-01, -2.31021307e-02],\n",
              "          [-3.87944803e-02, -1.20513951e-02, -4.20460217e-02, ...,\n",
              "           -3.17943022e-02, -4.37670387e-03, -7.76126310e-02],\n",
              "          [-2.57072076e-02,  2.98224669e-02,  3.26858014e-02, ...,\n",
              "            1.40771978e-02,  6.22170754e-02, -5.98185845e-02],\n",
              "          ...,\n",
              "          [-5.07208146e-03, -7.80108124e-02,  1.76411532e-02, ...,\n",
              "           -1.33932866e-02,  2.36668736e-02, -5.38283624e-02],\n",
              "          [-1.23285428e-02, -4.98469593e-03, -4.46160622e-02, ...,\n",
              "           -7.74350762e-02, -3.90325934e-02, -2.74733230e-02],\n",
              "          [-2.23505385e-02,  1.55019276e-02, -2.69781183e-02, ...,\n",
              "           -1.07239587e-02,  2.22134721e-02,  8.43566936e-03]],\n",
              " \n",
              "         [[ 4.06385108e-04, -4.95284647e-02, -1.01196009e-03, ...,\n",
              "           -2.87166201e-02, -9.19920430e-02, -2.83043608e-02],\n",
              "          [-7.86871687e-02, -6.01226240e-02, -3.29127535e-02, ...,\n",
              "           -4.09627445e-02, -2.15694718e-02,  1.67286620e-02],\n",
              "          [ 3.06696929e-02,  1.40040535e-02,  6.33831099e-02, ...,\n",
              "            4.48499322e-02, -2.55260207e-02, -1.85347383e-03],\n",
              "          ...,\n",
              "          [ 3.03617716e-02, -2.77518798e-02, -6.87569659e-03, ...,\n",
              "           -1.32617988e-02, -1.09765269e-01, -2.96666101e-02],\n",
              "          [ 1.55457230e-02,  7.92786404e-02,  1.23296753e-02, ...,\n",
              "           -2.15914808e-02, -7.44434670e-02, -7.92218223e-02],\n",
              "          [-2.84838192e-02, -5.07012382e-02,  1.94634516e-02, ...,\n",
              "            1.90076008e-02,  2.21319161e-02, -2.77273599e-02]],\n",
              " \n",
              "         ...,\n",
              " \n",
              "         [[-7.13254586e-02, -7.85531625e-02, -2.21897922e-02, ...,\n",
              "           -1.74569100e-01, -5.44849336e-02, -1.38056846e-02],\n",
              "          [ 2.44591888e-02, -4.71866094e-02,  2.38709934e-02, ...,\n",
              "           -2.88088787e-02,  3.64872329e-02, -1.78061484e-03],\n",
              "          [ 2.87228916e-02, -6.06078096e-03, -4.72835638e-03, ...,\n",
              "           -4.15384211e-02, -3.45794186e-02,  8.25684369e-02],\n",
              "          ...,\n",
              "          [-2.27012150e-02, -9.47248004e-03,  6.36004051e-03, ...,\n",
              "           -2.98541673e-02,  1.41746746e-02, -4.16942202e-02],\n",
              "          [ 4.32608230e-03, -1.21674808e-02, -5.62819578e-02, ...,\n",
              "            8.24507046e-03, -3.42292991e-03,  2.28302684e-02],\n",
              "          [-3.13065760e-02, -5.65160699e-02, -2.98784338e-02, ...,\n",
              "           -3.25782299e-02, -9.08338116e-04,  3.28499563e-02]],\n",
              " \n",
              "         [[-7.38019645e-02, -8.90802220e-02, -5.14548197e-02, ...,\n",
              "           -9.12113041e-02, -4.21633609e-02, -8.06133971e-02],\n",
              "          [ 1.06612062e-02,  2.97040399e-03,  1.93812903e-02, ...,\n",
              "            8.79270211e-03,  1.95423625e-02, -5.83910421e-02],\n",
              "          [-3.73960808e-02, -5.30821458e-03, -4.01739664e-02, ...,\n",
              "           -1.44058438e-02, -2.61125285e-02,  3.33259813e-02],\n",
              "          ...,\n",
              "          [ 2.52031907e-02,  2.10983772e-03, -2.00550258e-02, ...,\n",
              "           -2.05703005e-02,  2.46280823e-02, -1.15013784e-02],\n",
              "          [ 9.25430655e-03,  1.30523965e-02, -3.44470032e-02, ...,\n",
              "           -1.79712102e-02,  4.05630879e-02,  2.94286441e-02],\n",
              "          [-1.10810045e-02, -6.40646135e-03, -1.48082096e-02, ...,\n",
              "            1.29259611e-02, -4.30721836e-03, -2.22878978e-02]],\n",
              " \n",
              "         [[-4.39269207e-02, -1.56476405e-02, -4.55370322e-02, ...,\n",
              "           -2.61386819e-02,  7.72654603e-04, -8.09684917e-02],\n",
              "          [ 7.95189291e-02,  3.88663374e-02, -6.81845173e-02, ...,\n",
              "            5.56838652e-03,  3.27754975e-03, -5.23195118e-02],\n",
              "          [-1.68399345e-02,  2.49737967e-02,  3.67953628e-02, ...,\n",
              "           -8.06713104e-03, -6.31621480e-03,  1.82602126e-02],\n",
              "          ...,\n",
              "          [ 1.04294401e-02,  2.21428275e-02, -2.66378503e-02, ...,\n",
              "           -1.24402400e-02,  1.70782092e-03,  2.41476092e-02],\n",
              "          [ 3.60132940e-02, -4.70725782e-02, -4.19858694e-02, ...,\n",
              "           -6.36486635e-02,  5.59734032e-02, -1.27318706e-02],\n",
              "          [-3.15222517e-02,  8.29065405e-03, -3.51841599e-02, ...,\n",
              "            8.09965248e-04,  3.39978747e-02,  4.15193625e-02]]],\n",
              " \n",
              " \n",
              "        [[[-4.40952368e-02, -1.45378470e-01, -5.48661016e-02, ...,\n",
              "            5.73631078e-02,  9.86896176e-03,  5.48512526e-02],\n",
              "          [-7.72271752e-02, -6.05280697e-02, -5.96058592e-02, ...,\n",
              "            3.12289745e-02, -5.35222292e-02, -7.28522763e-02],\n",
              "          [-6.97357580e-02,  7.89444223e-02,  1.34570496e-02, ...,\n",
              "           -4.78820391e-02,  8.60297214e-03, -8.90613198e-02],\n",
              "          ...,\n",
              "          [-2.47307699e-02, -1.08156651e-01, -8.93183351e-02, ...,\n",
              "           -4.52962779e-02,  6.00675354e-04, -9.94554162e-02],\n",
              "          [-1.29541725e-01, -8.42002779e-02,  2.35952195e-02, ...,\n",
              "           -9.14594159e-02, -2.15298049e-02,  4.54256646e-02],\n",
              "          [-8.94247461e-03,  2.22388078e-02,  5.30891083e-02, ...,\n",
              "           -7.07020238e-02,  3.42801883e-04,  1.13045452e-02]],\n",
              " \n",
              "         [[-1.09151244e-01, -1.02811553e-01, -7.56680295e-02, ...,\n",
              "           -3.01883891e-02, -5.64734116e-02,  9.80543531e-03],\n",
              "          [ 6.76521612e-03, -2.11620666e-02, -5.99713884e-02, ...,\n",
              "            4.08111103e-02,  2.51881331e-02, -6.55948371e-02],\n",
              "          [ 3.24861221e-02, -3.92366610e-02, -3.43609531e-03, ...,\n",
              "           -4.13275266e-04, -2.19677594e-02,  2.70911325e-02],\n",
              "          ...,\n",
              "          [ 1.66937779e-03, -2.85576787e-02, -5.82767986e-02, ...,\n",
              "            4.83986139e-02, -5.41894063e-02, -3.83871607e-02],\n",
              "          [-1.73138268e-02, -1.71636362e-02,  2.58734953e-02, ...,\n",
              "           -8.77425298e-02, -5.41314930e-02,  2.83042639e-02],\n",
              "          [-8.28576833e-02, -4.41623442e-02, -9.68656503e-03, ...,\n",
              "           -4.82648723e-02, -2.26255674e-02, -5.32184243e-02]],\n",
              " \n",
              "         [[ 3.11014112e-02, -2.02995888e-03, -1.35442419e-02, ...,\n",
              "           -4.23911661e-02, -8.83537680e-02,  2.90323459e-02],\n",
              "          [-4.83276024e-02,  1.76942833e-02,  1.19558759e-02, ...,\n",
              "           -7.03173950e-02,  1.43064559e-02,  4.42402996e-02],\n",
              "          [-1.73411437e-03, -2.85636596e-02,  1.11129200e-02, ...,\n",
              "            5.98252043e-02,  2.12470014e-02,  3.82123962e-02],\n",
              "          ...,\n",
              "          [ 3.53794210e-02,  1.91235058e-02, -3.19425389e-02, ...,\n",
              "            4.22015600e-02, -3.47061530e-02, -9.21073556e-02],\n",
              "          [ 1.12876371e-02, -3.67979892e-02, -3.01260296e-02, ...,\n",
              "           -4.28893641e-02, -1.59434713e-02,  3.27816121e-02],\n",
              "          [ 5.16418777e-02, -3.87801751e-02,  1.31229991e-02, ...,\n",
              "            4.85081337e-02, -2.23948807e-02, -4.52146940e-02]],\n",
              " \n",
              "         ...,\n",
              " \n",
              "         [[ 8.75650556e-04, -3.91778536e-02, -6.46530986e-02, ...,\n",
              "           -1.24558501e-01, -3.89853194e-02, -1.63015485e-01],\n",
              "          [-1.69606488e-02,  2.13256590e-02,  1.87076572e-02, ...,\n",
              "           -5.42612001e-02, -3.25001627e-02,  1.82776302e-02],\n",
              "          [ 7.94233605e-02,  2.46948954e-02,  2.40652985e-03, ...,\n",
              "            3.28165255e-02,  2.17988417e-02,  4.43201102e-02],\n",
              "          ...,\n",
              "          [ 4.55940291e-02, -6.22088350e-02,  1.94950923e-02, ...,\n",
              "            8.34938837e-04, -6.91191033e-02,  8.71025771e-03],\n",
              "          [ 3.61104608e-02, -2.44749943e-03,  4.70298193e-02, ...,\n",
              "            1.42743252e-02, -4.11102325e-02,  5.05405031e-02],\n",
              "          [ 4.92700189e-02,  3.89695503e-02,  2.89938767e-02, ...,\n",
              "           -2.30065044e-02, -2.59389170e-03, -3.81149277e-02]],\n",
              " \n",
              "         [[-7.60829300e-02, -5.83373718e-02, -7.50469714e-02, ...,\n",
              "           -8.96242075e-03, -7.55482353e-03, -6.51305318e-02],\n",
              "          [ 2.56720185e-02, -5.33238985e-02, -2.81659421e-02, ...,\n",
              "            7.04839528e-02, -7.22900778e-03,  2.23686360e-02],\n",
              "          [-4.50314991e-02, -5.71918227e-02,  2.32464578e-02, ...,\n",
              "           -8.12827423e-02,  7.96604808e-03, -2.89384974e-03],\n",
              "          ...,\n",
              "          [-1.11972904e-02, -8.03418010e-02,  1.12221139e-02, ...,\n",
              "           -2.27226764e-02, -5.61190769e-03,  2.68817730e-02],\n",
              "          [-5.86751774e-02,  8.21868656e-04,  3.92701700e-02, ...,\n",
              "            2.01805271e-02,  2.07433850e-02, -3.93569507e-02],\n",
              "          [ 1.25396838e-02,  2.67114933e-03,  3.95864956e-02, ...,\n",
              "            8.90244171e-02, -2.26500146e-02,  3.83971073e-03]],\n",
              " \n",
              "         [[-4.74452861e-02, -1.66206639e-02,  4.66277450e-03, ...,\n",
              "            6.65409788e-02, -4.76150252e-02, -7.33285397e-02],\n",
              "          [ 1.65092070e-02,  4.16974863e-03, -8.56005102e-02, ...,\n",
              "            2.35979538e-02,  5.15721068e-02, -2.63747200e-02],\n",
              "          [-1.86192598e-02, -5.67053929e-02, -1.33645730e-02, ...,\n",
              "            1.25458380e-02,  4.54256423e-02,  3.48811485e-02],\n",
              "          ...,\n",
              "          [ 6.78875670e-02, -7.49836192e-02, -2.81288419e-02, ...,\n",
              "           -3.25860195e-02, -3.30384113e-02,  6.23629764e-02],\n",
              "          [ 3.92249376e-02,  4.25006077e-02, -9.70598217e-03, ...,\n",
              "            1.15190214e-02,  8.09993744e-02,  3.78650916e-03],\n",
              "          [ 4.48625311e-02,  7.22464081e-03, -6.61776587e-02, ...,\n",
              "            5.53256720e-02, -3.96897122e-02,  6.22775368e-02]]],\n",
              " \n",
              " \n",
              "        [[[-5.67241646e-02, -1.50358558e-01,  1.56731885e-02, ...,\n",
              "            7.21567776e-04, -2.69625448e-02, -2.10870858e-02],\n",
              "          [-5.34359850e-02, -4.91301343e-02, -7.07060769e-02, ...,\n",
              "           -4.47684759e-03, -5.19009978e-02, -5.04542934e-03],\n",
              "          [ 4.02200893e-02, -5.55625409e-02,  8.46925098e-03, ...,\n",
              "           -1.68256331e-02,  3.64929214e-02,  1.60612538e-02],\n",
              "          ...,\n",
              "          [-2.35847160e-02, -2.61247270e-02, -6.15486316e-02, ...,\n",
              "           -3.60533483e-02, -2.32354887e-02, -3.05346828e-02],\n",
              "          [-1.20692112e-01, -8.51140693e-02, -9.10596251e-02, ...,\n",
              "           -9.83773693e-02, -6.42011389e-02,  1.02379017e-01],\n",
              "          [-6.81729987e-02,  2.12932527e-02, -1.10981176e-02, ...,\n",
              "            1.47874951e-02, -3.47449258e-02,  4.27452996e-02]],\n",
              " \n",
              "         [[-1.19809255e-01, -1.61537796e-01, -5.02994321e-02, ...,\n",
              "           -7.14608505e-02, -6.38008937e-02, -5.64987734e-02],\n",
              "          [-3.92355025e-02,  6.14685938e-03,  2.06029825e-02, ...,\n",
              "           -4.49773334e-02, -5.65775633e-02, -1.37123780e-03],\n",
              "          [ 4.46755029e-02, -5.21172956e-02,  5.68496063e-02, ...,\n",
              "           -1.03703663e-02,  1.80542551e-03,  8.65484923e-02],\n",
              "          ...,\n",
              "          [ 3.83891501e-02, -2.06987411e-02,  1.22349309e-02, ...,\n",
              "           -1.10834753e-02,  7.29296450e-03, -1.41692445e-01],\n",
              "          [-6.73910603e-02, -2.95403935e-02, -3.21068093e-02, ...,\n",
              "           -2.43254304e-02, -4.13811728e-02,  9.12922770e-02],\n",
              "          [-5.03556021e-02, -4.91327904e-02, -2.49094833e-02, ...,\n",
              "            5.97072653e-02, -2.70566251e-02, -1.80223901e-02]],\n",
              " \n",
              "         [[-5.24880141e-02, -4.62917499e-02,  8.04740377e-03, ...,\n",
              "           -1.95047140e-01, -1.68513376e-02,  2.07038615e-02],\n",
              "          [-1.05553353e-02, -6.90725259e-03, -5.73934428e-03, ...,\n",
              "            4.77242731e-02,  2.66852397e-02,  2.20737024e-03],\n",
              "          [ 8.12898800e-02, -3.05500999e-02, -1.63523871e-02, ...,\n",
              "            7.31159449e-02, -2.20936015e-02,  2.88619716e-02],\n",
              "          ...,\n",
              "          [ 8.92684683e-02, -2.52199881e-02, -3.25669497e-02, ...,\n",
              "           -3.99910100e-02, -5.06721027e-02, -6.60552680e-02],\n",
              "          [ 5.82153462e-02,  1.58254206e-02,  3.00002061e-02, ...,\n",
              "           -1.81838013e-02,  1.58170648e-02,  8.10004212e-03],\n",
              "          [ 1.76727343e-02, -3.32664102e-02,  1.33281471e-02, ...,\n",
              "            9.01266411e-02, -2.48781573e-02, -7.06751943e-02]],\n",
              " \n",
              "         ...,\n",
              " \n",
              "         [[ 1.34610692e-02, -6.40196130e-02, -9.01016295e-02, ...,\n",
              "           -1.01758279e-01,  1.17062824e-02, -1.86019987e-01],\n",
              "          [-1.64497178e-02,  6.77110255e-02, -1.61498562e-02, ...,\n",
              "            5.80621650e-03, -3.38808298e-02, -4.15203236e-02],\n",
              "          [ 2.37587374e-02, -5.63931279e-02, -2.77183857e-02, ...,\n",
              "           -5.25875688e-02, -2.35076388e-03, -3.63181047e-02],\n",
              "          ...,\n",
              "          [-5.76860234e-02, -3.08424290e-02, -1.11235222e-02, ...,\n",
              "            4.44141738e-02,  7.95860961e-03, -3.22940550e-03],\n",
              "          [ 1.35022169e-03, -3.10950130e-02, -3.94614600e-02, ...,\n",
              "            2.36541498e-02, -6.45914525e-02, -4.65276316e-02],\n",
              "          [-6.60453516e-04, -1.63867604e-02,  1.73447747e-02, ...,\n",
              "           -6.39720708e-02, -5.03020249e-02, -8.98749083e-02]],\n",
              " \n",
              "         [[-3.06088384e-02, -3.72531824e-02, -4.33519222e-02, ...,\n",
              "           -1.14617748e-02, -5.23683131e-02, -1.41284510e-01],\n",
              "          [ 3.22361360e-04,  7.21455738e-02, -8.08735006e-03, ...,\n",
              "            3.68658942e-03,  3.78873968e-03, -2.82001346e-02],\n",
              "          [ 6.68315915e-03, -6.78794459e-03, -4.13286127e-02, ...,\n",
              "           -5.39720384e-03,  4.30535749e-02, -5.50643094e-02],\n",
              "          ...,\n",
              "          [-5.89934252e-02, -5.82132451e-02, -5.68984523e-02, ...,\n",
              "           -4.29035872e-02,  4.62082736e-02, -1.29286526e-02],\n",
              "          [ 3.53968106e-02, -2.18697619e-02, -4.09600250e-02, ...,\n",
              "           -3.25150304e-02, -6.76998822e-03,  1.93277039e-02],\n",
              "          [ 1.06551563e-02,  3.85471173e-02, -1.41089270e-02, ...,\n",
              "            7.00863376e-02, -3.09584066e-02, -6.56407550e-02]],\n",
              " \n",
              "         [[-6.32029995e-02,  1.16963694e-02,  3.70938331e-02, ...,\n",
              "            1.37285039e-01, -8.17670487e-03, -8.71654004e-02],\n",
              "          [-4.36584204e-02,  7.17488080e-02, -1.18647162e-02, ...,\n",
              "            4.76809107e-02, -1.69781763e-02, -4.28729206e-02],\n",
              "          [-8.65387246e-02,  4.67591919e-02, -3.20643075e-02, ...,\n",
              "            4.89336550e-02, -7.83180743e-02, -2.11776458e-02],\n",
              "          ...,\n",
              "          [-4.92489003e-02, -8.31872523e-02,  3.33186276e-02, ...,\n",
              "           -7.36753689e-03, -6.35572709e-03, -4.57311273e-02],\n",
              "          [ 7.89970532e-03, -2.30375845e-02, -5.22116497e-02, ...,\n",
              "            1.68806482e-02,  2.80406345e-02,  2.90990826e-02],\n",
              "          [ 5.45469597e-02, -1.62614230e-02,  1.01792281e-02, ...,\n",
              "            3.48786600e-02,  4.95846160e-02,  3.62513363e-02]]]],\n",
              "       dtype=float32)>,\n",
              " <tf.Variable 'conv2d_3/bias:0' shape=(16,) dtype=float32, numpy=\n",
              " array([-0.08995817, -0.01128312, -0.06276844, -0.08743282, -0.05548645,\n",
              "        -0.03895482, -0.10434796,  0.00589222, -0.01399122, -0.07655676,\n",
              "        -0.03421836, -0.11042923, -0.00789702, -0.06521565, -0.10656244,\n",
              "        -0.09647076], dtype=float32)>,\n",
              " <tf.Variable 'conv2d_4/kernel:0' shape=(7, 7, 16, 8) dtype=float32, numpy=\n",
              " array([[[[-2.48945281e-02,  3.45573425e-02, -1.32986782e-02, ...,\n",
              "           -1.08875044e-01,  1.29972752e-02, -8.30049738e-02],\n",
              "          [ 3.03179137e-02,  6.24414720e-02, -1.20230675e-01, ...,\n",
              "            5.15971966e-02, -3.12911458e-02, -1.29101828e-01],\n",
              "          [ 3.12101580e-02,  5.51704913e-02,  6.43003657e-02, ...,\n",
              "            2.72643249e-02, -3.89494188e-02,  5.94677962e-02],\n",
              "          ...,\n",
              "          [-7.36488923e-02, -4.46108393e-02,  2.89432257e-02, ...,\n",
              "            7.42290094e-02,  1.41838454e-02,  1.06946260e-01],\n",
              "          [-3.80076841e-02, -9.77903306e-02, -5.71714155e-02, ...,\n",
              "            1.61554441e-02, -9.02338028e-02,  3.34767364e-02],\n",
              "          [ 1.07597299e-01,  1.06468955e-02, -6.17607273e-02, ...,\n",
              "           -3.02830362e-03, -4.58298549e-02,  6.18080273e-02]],\n",
              " \n",
              "         [[ 3.30824293e-02, -1.28232371e-02,  3.15330178e-02, ...,\n",
              "           -7.63746202e-02, -4.27509770e-02, -7.93355778e-02],\n",
              "          [ 4.27313261e-02,  1.89759899e-02,  5.84180839e-02, ...,\n",
              "           -7.87467062e-02, -1.01933889e-01, -2.07966119e-01],\n",
              "          [ 5.95234614e-03,  3.43188867e-02, -4.58935276e-03, ...,\n",
              "           -1.37161436e-02, -3.73733253e-03,  1.87229756e-02],\n",
              "          ...,\n",
              "          [ 2.49796622e-02,  3.81776392e-02,  2.93828384e-03, ...,\n",
              "            4.10064608e-02,  1.47146052e-02,  8.65645558e-02],\n",
              "          [-1.05906334e-02,  1.43730119e-02, -3.78446989e-02, ...,\n",
              "            3.45490053e-02, -9.94153917e-02, -1.49469422e-02],\n",
              "          [ 1.07712030e-01,  4.69555631e-02, -3.93219925e-02, ...,\n",
              "            2.69856043e-02, -4.05554026e-02, -3.66644636e-02]],\n",
              " \n",
              "         [[ 3.52485664e-02,  1.98003650e-02,  8.31397548e-02, ...,\n",
              "            3.31486538e-02, -5.42688780e-02, -2.83564143e-02],\n",
              "          [ 6.72228215e-03,  3.51887196e-02,  7.51148015e-02, ...,\n",
              "           -1.00746393e-01, -2.02451069e-02, -1.40955821e-01],\n",
              "          [-5.39771691e-02, -7.39783570e-02, -7.52980858e-02, ...,\n",
              "           -5.12697287e-02,  6.76898137e-02, -5.05779451e-03],\n",
              "          ...,\n",
              "          [-1.19059850e-02,  5.22611961e-02,  9.99810994e-02, ...,\n",
              "           -4.43750015e-03, -2.77043898e-02, -7.66957179e-02],\n",
              "          [ 6.34996919e-03, -2.27973261e-03, -4.32557315e-02, ...,\n",
              "            3.47417966e-02, -2.52603535e-02, -5.65219782e-02],\n",
              "          [ 9.69628841e-02, -2.56584007e-02, -1.00159973e-01, ...,\n",
              "           -7.51398578e-02, -3.99141051e-02,  2.29165908e-02]],\n",
              " \n",
              "         ...,\n",
              " \n",
              "         [[-5.11336885e-02,  4.16705795e-02,  6.66388683e-03, ...,\n",
              "           -1.26717836e-01, -4.79373857e-02,  2.29347311e-02],\n",
              "          [ 7.09965304e-02, -4.91846055e-02, -5.17993234e-02, ...,\n",
              "            2.30168123e-02,  9.80768446e-03, -6.59783483e-02],\n",
              "          [-1.13455288e-01, -8.06997791e-02, -1.07850425e-01, ...,\n",
              "           -5.51906228e-02, -1.71233863e-02, -6.41246513e-02],\n",
              "          ...,\n",
              "          [-1.44374460e-01, -2.02512043e-03, -2.93955673e-02, ...,\n",
              "           -2.12403368e-02,  5.70065435e-03, -3.36071365e-02],\n",
              "          [ 7.20536932e-02,  3.69319357e-02, -2.36847680e-02, ...,\n",
              "            6.30860627e-02, -1.00357354e-01,  2.63443124e-03],\n",
              "          [-4.03846353e-02,  5.97736686e-02, -3.69630493e-02, ...,\n",
              "            4.28042142e-03, -2.68689748e-02, -5.28068878e-02]],\n",
              " \n",
              "         [[-2.50548832e-02,  4.18040790e-02, -1.24132738e-01, ...,\n",
              "            2.75491346e-02, -7.57920966e-02,  6.64783046e-02],\n",
              "          [ 7.32037574e-02,  2.69570667e-02, -7.47711957e-02, ...,\n",
              "            3.22837313e-03, -5.30278087e-02, -5.57553619e-02],\n",
              "          [-1.57591239e-01, -5.14792874e-02, -6.78879321e-02, ...,\n",
              "            2.55000889e-02,  4.24433835e-02,  5.82654029e-02],\n",
              "          ...,\n",
              "          [-1.44362271e-01, -1.22457504e-01, -1.36306155e-02, ...,\n",
              "           -8.34068656e-02,  1.19894773e-01, -2.93257125e-02],\n",
              "          [ 1.04632363e-01, -1.38640508e-01, -1.06130302e-01, ...,\n",
              "            5.95949180e-02,  6.90506622e-02, -7.38048777e-02],\n",
              "          [-1.36984468e-01,  5.01374491e-02,  7.22679868e-02, ...,\n",
              "            6.59608021e-02, -2.08872091e-03,  3.10514844e-03]],\n",
              " \n",
              "         [[-5.79818822e-02,  2.81554759e-02, -6.54414222e-02, ...,\n",
              "           -4.48448397e-03, -1.12234995e-01, -5.30127771e-02],\n",
              "          [-2.63575558e-02,  4.69793566e-03, -5.63726528e-03, ...,\n",
              "            5.89820184e-02,  6.77556470e-02, -3.37235592e-02],\n",
              "          [-1.63518973e-02, -2.53139976e-02, -2.99492925e-02, ...,\n",
              "           -4.98936959e-02, -7.18371337e-03, -3.41813383e-03],\n",
              "          ...,\n",
              "          [ 7.23786950e-02, -1.18131809e-01,  9.95433480e-02, ...,\n",
              "           -1.62446126e-02, -2.63745170e-02, -6.06805012e-02],\n",
              "          [-8.66451114e-03,  2.31375359e-03, -5.94360791e-02, ...,\n",
              "           -2.43550055e-02,  6.72706068e-02, -6.43945485e-02],\n",
              "          [-4.69729714e-02,  2.94355731e-02, -5.09504229e-03, ...,\n",
              "           -1.22893127e-02, -4.98974286e-02, -1.01167811e-02]]],\n",
              " \n",
              " \n",
              "        [[[-1.68098696e-02,  6.08845428e-02,  9.24831629e-02, ...,\n",
              "           -2.06289124e-02, -1.10235093e-02, -8.16071555e-02],\n",
              "          [-1.88198835e-02, -1.48874484e-02,  1.92635674e-02, ...,\n",
              "           -4.31735329e-02, -1.13083236e-01,  6.20010868e-03],\n",
              "          [ 7.83129246e-04, -2.49761660e-02,  3.59954163e-02, ...,\n",
              "           -2.96588484e-02, -3.37530416e-03,  1.83190219e-02],\n",
              "          ...,\n",
              "          [ 3.91988419e-02,  1.58485621e-02, -1.30821466e-02, ...,\n",
              "           -6.74048737e-02, -6.98049217e-02, -4.71208319e-02],\n",
              "          [-5.10228686e-02, -9.32940654e-03, -3.58178914e-02, ...,\n",
              "           -3.72350365e-02, -1.49940953e-01, -3.52985300e-02],\n",
              "          [ 8.47771615e-02, -1.01546803e-02,  2.54715029e-02, ...,\n",
              "           -9.77012441e-02,  6.14121882e-03,  1.00596836e-02]],\n",
              " \n",
              "         [[ 3.54157016e-02, -6.66714534e-02,  1.64834149e-02, ...,\n",
              "           -5.94349951e-02, -8.72927625e-03, -9.80242267e-02],\n",
              "          [ 2.84486245e-02,  2.21044663e-02, -8.26537702e-03, ...,\n",
              "           -3.32112983e-02, -8.74586180e-02, -2.12801006e-02],\n",
              "          [ 2.32550385e-03, -5.74392676e-02, -4.14352305e-02, ...,\n",
              "            3.69981639e-02,  5.08116521e-02, -5.39210886e-02],\n",
              "          ...,\n",
              "          [ 5.98348118e-02, -9.03137261e-04,  1.86185224e-03, ...,\n",
              "           -5.49760796e-02, -2.97184242e-03,  5.55926487e-02],\n",
              "          [-7.02566504e-02, -2.33961013e-03, -4.13034372e-02, ...,\n",
              "            1.84633583e-02, -3.85470577e-02,  4.26807106e-02],\n",
              "          [-2.66320296e-02, -8.06167349e-02, -4.73365793e-03, ...,\n",
              "           -9.49409679e-02,  1.45178111e-02, -1.06124617e-01]],\n",
              " \n",
              "         [[-1.20515954e-02, -6.90667182e-02,  2.94055846e-02, ...,\n",
              "           -8.54951739e-02, -8.28395188e-02, -8.82222205e-02],\n",
              "          [-1.61881782e-02, -8.05749297e-02,  4.60590459e-02, ...,\n",
              "           -1.10318437e-02, -1.24285057e-01, -9.56716239e-02],\n",
              "          [-1.33079708e-01,  3.10553163e-02, -3.96606848e-02, ...,\n",
              "            3.13126892e-02, -7.39893084e-03, -2.09984519e-02],\n",
              "          ...,\n",
              "          [ 1.76543556e-02,  1.15264542e-02, -3.16557335e-03, ...,\n",
              "            7.53666833e-03, -5.49451858e-02,  2.27462351e-02],\n",
              "          [ 4.91001047e-02, -1.08061247e-01, -7.55864680e-02, ...,\n",
              "           -3.73088289e-03, -7.07735866e-02, -8.29003081e-02],\n",
              "          [ 8.84663686e-03, -3.51165794e-02, -4.20413911e-02, ...,\n",
              "           -6.03196099e-02, -7.34049082e-02, -1.06107704e-01]],\n",
              " \n",
              "         ...,\n",
              " \n",
              "         [[-1.03253014e-01, -2.33493373e-02, -2.85425149e-02, ...,\n",
              "            2.91480776e-02, -5.43066747e-02, -6.13204762e-02],\n",
              "          [-5.57945818e-02,  4.68308153e-03, -1.01137802e-01, ...,\n",
              "            3.50464173e-02,  1.38827078e-02, -2.67099105e-02],\n",
              "          [-6.91059753e-02,  7.04481080e-02, -4.32314575e-02, ...,\n",
              "            2.92897802e-02,  5.72519340e-02, -5.51549532e-02],\n",
              "          ...,\n",
              "          [ 4.74860705e-02, -6.02819351e-03, -3.40056270e-02, ...,\n",
              "            1.28961345e-02,  2.31784172e-02, -2.91818269e-02],\n",
              "          [-1.15451217e-02,  2.69177910e-02, -1.14686564e-01, ...,\n",
              "            2.55932147e-03, -4.21834961e-02, -2.98894066e-02],\n",
              "          [-1.11131221e-01, -3.74358185e-02, -9.80659574e-02, ...,\n",
              "            1.46087725e-02, -2.67550405e-02, -3.28972191e-02]],\n",
              " \n",
              "         [[-1.19841531e-01, -5.21766283e-02, -5.69214858e-02, ...,\n",
              "            5.23710577e-03,  2.69274749e-02,  4.99170609e-02],\n",
              "          [-8.49195123e-02,  5.53142913e-02,  3.31917335e-03, ...,\n",
              "           -5.16115595e-03,  3.32738049e-02, -6.28968254e-02],\n",
              "          [-7.43190125e-02, -1.18619055e-02, -3.93101908e-02, ...,\n",
              "           -1.60665046e-02, -7.00162202e-02, -3.37617099e-02],\n",
              "          ...,\n",
              "          [-4.51027788e-02,  5.13944067e-02, -4.67224233e-02, ...,\n",
              "           -8.62642974e-02,  1.48218229e-01, -1.74658000e-02],\n",
              "          [ 6.14497513e-02, -7.83212632e-02, -7.22550005e-02, ...,\n",
              "           -6.22424297e-03,  4.32999060e-03,  2.06130161e-03],\n",
              "          [-1.10602073e-01,  6.10547001e-03, -1.54632349e-02, ...,\n",
              "            1.96826775e-02, -9.47693735e-02,  2.29553459e-03]],\n",
              " \n",
              "         [[-7.87881240e-02,  4.65267561e-02, -3.43015641e-02, ...,\n",
              "            6.94526136e-02,  7.22625526e-04,  5.81512339e-02],\n",
              "          [-6.78494852e-03, -7.49860033e-02, -1.22766495e-02, ...,\n",
              "            4.22923593e-03,  5.23838475e-02,  1.18215084e-02],\n",
              "          [ 6.62061274e-02, -5.09045944e-02,  1.34527739e-02, ...,\n",
              "           -7.57240430e-02, -1.02762558e-01, -2.20418498e-02],\n",
              "          ...,\n",
              "          [ 2.46325806e-02,  6.18938357e-03,  1.51174575e-01, ...,\n",
              "            4.21548542e-03, -2.51862165e-02,  8.48430395e-03],\n",
              "          [-8.11345689e-03, -7.30331838e-02, -6.34605512e-02, ...,\n",
              "           -1.13913352e-02,  6.89056877e-04, -5.71328439e-02],\n",
              "          [-3.04590748e-03,  1.59234542e-03,  3.69301019e-03, ...,\n",
              "            1.10327043e-02, -1.06552839e-01, -9.45047587e-02]]],\n",
              " \n",
              " \n",
              "        [[[ 1.23629756e-02, -2.88960729e-02,  3.65415923e-02, ...,\n",
              "           -3.10483780e-02,  7.56599649e-04,  1.13868257e-02],\n",
              "          [-1.17098130e-01,  3.58944852e-03,  1.64003484e-02, ...,\n",
              "           -1.45604229e-02, -8.45356733e-02, -1.18512576e-02],\n",
              "          [-7.77702034e-02, -7.31946751e-02, -1.42257742e-03, ...,\n",
              "           -7.38265663e-02,  5.27457371e-02,  2.49934215e-02],\n",
              "          ...,\n",
              "          [-2.97486521e-02,  2.97713131e-02, -1.65879987e-02, ...,\n",
              "           -5.24314456e-02, -1.24621380e-03, -1.54062539e-01],\n",
              "          [ 5.72325848e-03, -4.10791673e-02,  4.69388291e-02, ...,\n",
              "           -8.08954537e-02, -7.70187303e-02, -1.95351802e-02],\n",
              "          [-5.74525483e-02, -1.28933061e-02,  1.07169170e-02, ...,\n",
              "           -1.35639966e-01, -3.58234905e-02,  2.83965413e-02]],\n",
              " \n",
              "         [[-1.26275874e-03,  7.99897709e-04, -1.81823298e-02, ...,\n",
              "           -6.23909980e-02, -6.73354119e-02, -3.00267362e-03],\n",
              "          [-8.38923231e-02,  7.35409325e-03, -7.87458196e-02, ...,\n",
              "            1.06173605e-02,  1.00747170e-02,  1.11276808e-03],\n",
              "          [ 1.54260909e-02, -7.13571683e-02,  9.49978270e-03, ...,\n",
              "            1.43310092e-02,  4.29253057e-02, -7.56096542e-02],\n",
              "          ...,\n",
              "          [ 5.42891473e-02, -3.82823795e-02,  1.16603356e-02, ...,\n",
              "           -6.70339465e-02,  4.64620069e-02, -9.25986376e-03],\n",
              "          [-5.42589687e-02,  5.38959866e-03,  4.98913564e-02, ...,\n",
              "           -9.39820558e-02, -7.01998398e-02, -3.56392153e-02],\n",
              "          [-1.71715617e-02, -3.49818841e-02, -2.78445259e-02, ...,\n",
              "           -1.38379052e-01,  1.24891512e-02, -4.78032492e-02]],\n",
              " \n",
              "         [[ 1.20786028e-02,  6.78729713e-02,  1.22369854e-02, ...,\n",
              "            2.25997213e-02, -7.63155371e-02, -9.58444849e-02],\n",
              "          [-9.80352052e-03, -3.73818949e-02, -5.41715175e-02, ...,\n",
              "            4.18819375e-02, -1.20623270e-03, -5.36637865e-02],\n",
              "          [-9.86985117e-02,  5.34875542e-02, -1.25162676e-02, ...,\n",
              "            2.20887009e-02,  1.78190991e-02,  1.05287656e-02],\n",
              "          ...,\n",
              "          [ 3.00693363e-02, -8.79953280e-02,  5.53772179e-03, ...,\n",
              "           -7.78789967e-02, -7.62628540e-02, -3.61778699e-02],\n",
              "          [ 1.58756636e-02, -2.25486439e-02, -5.80139942e-02, ...,\n",
              "            2.06258167e-02,  5.65210842e-02, -7.92170987e-02],\n",
              "          [-1.05316658e-02,  7.18475059e-02, -3.65838520e-02, ...,\n",
              "           -7.37458915e-02, -4.12672088e-02,  2.08565556e-02]],\n",
              " \n",
              "         ...,\n",
              " \n",
              "         [[ 1.85418176e-03, -2.35636346e-02, -5.83238676e-02, ...,\n",
              "            7.63850808e-02, -2.34388318e-02, -8.69727135e-02],\n",
              "          [-1.32753849e-02,  6.63916767e-02,  4.20446508e-03, ...,\n",
              "           -5.27086146e-02, -3.96213457e-02, -5.28802611e-02],\n",
              "          [-1.70369148e-02, -6.44998699e-02, -9.60371830e-03, ...,\n",
              "            4.57096063e-02, -1.25791468e-02, -5.07808290e-02],\n",
              "          ...,\n",
              "          [ 6.79270178e-03, -2.75516082e-02,  1.87057909e-02, ...,\n",
              "           -6.67243004e-02, -8.48749578e-02, -7.00809387e-03],\n",
              "          [-2.76574865e-02,  4.91690338e-02, -8.64752196e-03, ...,\n",
              "           -8.45563561e-02, -9.25055295e-02, -3.11195217e-02],\n",
              "          [-6.93740770e-02,  1.27583239e-02, -1.16271399e-01, ...,\n",
              "           -2.88682547e-03, -3.61237563e-02, -1.13043403e-02]],\n",
              " \n",
              "         [[-4.45536803e-03,  5.84846027e-02, -2.30684783e-03, ...,\n",
              "            1.74352191e-02, -5.14338613e-02, -6.57254383e-02],\n",
              "          [-1.33449920e-02,  2.96696648e-02, -1.44131957e-02, ...,\n",
              "           -2.57367059e-03,  7.72654936e-02, -2.64253523e-02],\n",
              "          [-6.73485324e-02, -1.57186277e-02, -1.64407101e-02, ...,\n",
              "           -7.13309348e-02,  8.51733461e-02, -5.80879208e-03],\n",
              "          ...,\n",
              "          [ 1.89216528e-03,  1.88260954e-02,  2.41680797e-02, ...,\n",
              "           -3.61022018e-02, -1.51699018e-02, -6.04381002e-02],\n",
              "          [-2.08068267e-02,  9.30930604e-04,  5.53023815e-02, ...,\n",
              "           -1.00274853e-01, -7.15253204e-02, -2.51645353e-02],\n",
              "          [ 1.81830078e-02, -2.53015980e-02,  6.09458145e-03, ...,\n",
              "           -9.27401893e-03,  3.67181227e-02, -6.82705566e-02]],\n",
              " \n",
              "         [[-7.46410787e-02, -3.96621600e-02, -6.37811199e-02, ...,\n",
              "            3.89209986e-02, -5.40800102e-04, -5.20654880e-02],\n",
              "          [-3.12282015e-02, -6.40521795e-02, -1.04753278e-01, ...,\n",
              "            1.34742530e-02,  5.88574633e-02, -1.07279703e-01],\n",
              "          [-3.67080793e-02, -6.22661598e-02, -5.18705212e-02, ...,\n",
              "            7.21744087e-04,  2.00467799e-02,  2.92168856e-02],\n",
              "          ...,\n",
              "          [-3.42754205e-03, -1.18944319e-02, -3.45741585e-02, ...,\n",
              "            1.35966409e-02,  5.84418662e-02, -2.72827782e-02],\n",
              "          [-8.53630528e-02, -1.69187952e-02,  2.68331114e-02, ...,\n",
              "           -1.11331031e-01, -7.02233762e-02,  3.10932994e-02],\n",
              "          [-8.10532179e-03,  3.96920294e-02,  9.33853537e-03, ...,\n",
              "            5.77681400e-02, -6.51263446e-02,  2.07641888e-02]]],\n",
              " \n",
              " \n",
              "        ...,\n",
              " \n",
              " \n",
              "        [[[-2.13989336e-02, -1.20073538e-02, -2.23714132e-02, ...,\n",
              "           -2.91976798e-02,  1.74433701e-02,  1.02034897e-01],\n",
              "          [-1.66177392e-01, -2.51140445e-02, -8.25637579e-02, ...,\n",
              "            4.59472053e-02, -8.02300498e-02, -8.33630189e-02],\n",
              "          [-9.51707959e-02, -5.92515916e-02, -7.14850100e-03, ...,\n",
              "            2.38118991e-02, -5.95680885e-02, -7.72557501e-03],\n",
              "          ...,\n",
              "          [-2.19603758e-02, -6.39628470e-02, -3.84942479e-02, ...,\n",
              "           -7.75968358e-02,  1.32375804e-03, -4.99084368e-02],\n",
              "          [-2.62990724e-02,  4.65958081e-02, -6.48824200e-02, ...,\n",
              "           -5.75886965e-02, -1.05582401e-02, -8.52271169e-02],\n",
              "          [ 1.08873462e-02,  1.14683099e-02, -4.00260352e-02, ...,\n",
              "           -3.18828188e-02, -1.89103782e-02, -1.06745072e-01]],\n",
              " \n",
              "         [[ 6.46372046e-03, -7.08601996e-02,  3.59933041e-02, ...,\n",
              "           -1.02380551e-02,  4.87355739e-02,  4.32113074e-02],\n",
              "          [-1.23144545e-01,  1.09308930e-02, -1.99508145e-02, ...,\n",
              "            6.88100532e-02, -3.15240473e-02, -1.16418034e-01],\n",
              "          [-3.91035154e-02, -2.22592223e-02, -1.67443615e-03, ...,\n",
              "            4.37877290e-02, -9.05876234e-03, -4.79255766e-02],\n",
              "          ...,\n",
              "          [ 4.50063962e-03, -3.99523713e-02,  2.35907938e-02, ...,\n",
              "           -2.30821688e-02, -8.43118280e-02, -1.03398621e-01],\n",
              "          [-2.38315556e-02, -2.70409305e-02, -2.33421400e-02, ...,\n",
              "            5.01799025e-03, -6.97443215e-03,  4.70694974e-02],\n",
              "          [-9.17224362e-02, -2.37519555e-02, -7.30128288e-02, ...,\n",
              "           -4.13665585e-02, -2.00612820e-03, -4.07056399e-02]],\n",
              " \n",
              "         [[-2.30547618e-02, -1.07950315e-01,  8.34367126e-02, ...,\n",
              "           -4.67208587e-03,  6.22174703e-02, -3.86696793e-02],\n",
              "          [-7.99534842e-02, -5.73116988e-02, -5.24117537e-02, ...,\n",
              "           -1.48034506e-02, -1.33402392e-01,  2.90521216e-02],\n",
              "          [-4.98505905e-02, -3.98423001e-02, -1.30168229e-01, ...,\n",
              "           -2.73190420e-02, -9.78223532e-02, -2.23746914e-02],\n",
              "          ...,\n",
              "          [ 1.26780272e-02,  2.78118234e-02, -6.85491562e-02, ...,\n",
              "           -2.38643773e-02, -2.63213529e-03, -4.11066525e-02],\n",
              "          [-7.90068787e-03, -7.86756203e-02,  2.52894741e-02, ...,\n",
              "           -7.24925995e-02, -2.13721208e-02,  8.97914357e-03],\n",
              "          [-4.23038714e-02,  2.27579847e-02, -3.73477228e-02, ...,\n",
              "           -3.33859548e-02, -6.37590736e-02, -8.63728896e-02]],\n",
              " \n",
              "         ...,\n",
              " \n",
              "         [[-1.00812623e-02, -6.07232153e-02, -8.90779346e-02, ...,\n",
              "           -5.12730218e-02,  1.13845253e-02,  1.96895152e-02],\n",
              "          [-5.35541447e-03, -1.04675367e-01, -4.31093387e-02, ...,\n",
              "           -9.48733389e-02, -9.62802172e-02, -2.84416284e-02],\n",
              "          [ 3.67896184e-02, -4.07935120e-03, -1.80010982e-02, ...,\n",
              "            1.59064364e-02,  7.80675933e-02, -6.83676153e-02],\n",
              "          ...,\n",
              "          [ 3.24306674e-02, -2.77796052e-02,  4.03278135e-02, ...,\n",
              "           -1.33822009e-01, -9.60142165e-02, -1.09269604e-01],\n",
              "          [-3.87981758e-02, -9.79010016e-02, -5.85775776e-03, ...,\n",
              "           -2.89277546e-02,  3.09621450e-02,  2.12612376e-02],\n",
              "          [-1.88594759e-02, -1.14126466e-01, -1.02362484e-02, ...,\n",
              "           -5.98535985e-02,  1.41165132e-04, -8.61313343e-02]],\n",
              " \n",
              "         [[ 2.46103387e-02, -8.53001922e-02,  2.19224915e-02, ...,\n",
              "           -1.31833956e-01, -1.10116690e-01,  3.83491479e-02],\n",
              "          [-1.46891326e-01, -8.47074986e-02, -9.78414938e-02, ...,\n",
              "           -8.33894908e-02, -1.04843616e-01, -6.04401454e-02],\n",
              "          [-7.62152672e-03, -2.93612182e-02,  2.14662421e-02, ...,\n",
              "            4.92512174e-02,  3.32397111e-02,  3.84680443e-02],\n",
              "          ...,\n",
              "          [-2.00211536e-02, -3.94737236e-02,  4.87798080e-02, ...,\n",
              "           -6.80455565e-02, -4.57238741e-02, -4.31799656e-03],\n",
              "          [ 1.20518850e-02, -2.61612926e-02, -6.40135407e-02, ...,\n",
              "            1.69479735e-02,  7.04915747e-02, -9.44424272e-02],\n",
              "          [-1.07239313e-01, -1.53576553e-01, -1.85075756e-02, ...,\n",
              "           -7.02328328e-03, -4.00696397e-02, -1.51444292e-02]],\n",
              " \n",
              "         [[-6.96483925e-02, -1.17703423e-01, -3.48160639e-02, ...,\n",
              "           -1.16243310e-01, -1.56302925e-03, -7.67152011e-02],\n",
              "          [-5.90890460e-02, -1.28105521e-01, -1.26770362e-01, ...,\n",
              "           -8.67950395e-02, -7.19579831e-02, -1.22122365e-04],\n",
              "          [ 4.21675295e-02,  3.69768515e-02, -1.90569684e-02, ...,\n",
              "           -7.05355108e-02,  3.28882225e-02,  3.28820832e-02],\n",
              "          ...,\n",
              "          [-2.05108756e-03, -6.05056547e-02, -9.80766397e-03, ...,\n",
              "            2.21641250e-02,  8.80581699e-03, -8.21660906e-02],\n",
              "          [-8.15413371e-02, -8.61709863e-02, -8.66881292e-03, ...,\n",
              "            5.05329221e-02,  1.50775667e-02,  4.87682335e-02],\n",
              "          [-9.24407393e-02, -9.42235216e-02, -2.80580949e-02, ...,\n",
              "            2.55742334e-02,  3.04675894e-03, -4.91220094e-02]]],\n",
              " \n",
              " \n",
              "        [[[ 5.75491274e-03, -1.09368466e-01, -5.55534028e-02, ...,\n",
              "           -1.96787585e-02, -5.56993075e-02,  5.91012314e-02],\n",
              "          [-6.47138357e-02, -1.13030821e-01,  3.48364487e-02, ...,\n",
              "            6.55728159e-04, -9.71231461e-02, -2.27093995e-02],\n",
              "          [-1.04305081e-01, -1.47454729e-02, -1.20152533e-01, ...,\n",
              "           -6.35120422e-02,  4.42362167e-02, -1.49271535e-02],\n",
              "          ...,\n",
              "          [ 9.26575810e-02, -8.40635076e-02, -9.04321391e-03, ...,\n",
              "           -5.16833887e-02, -4.76694070e-02, -1.33065268e-01],\n",
              "          [-1.20742526e-02, -1.51469409e-02, -1.30811051e-01, ...,\n",
              "           -7.29803145e-02, -2.09491681e-02, -4.21028174e-02],\n",
              "          [ 8.77776518e-02,  5.28607778e-02, -4.01655249e-02, ...,\n",
              "            2.91195568e-02,  3.96896936e-02, -1.03751987e-01]],\n",
              " \n",
              "         [[ 1.48536563e-02, -5.55506237e-02,  1.34883886e-02, ...,\n",
              "            1.02570271e-02,  5.39607890e-02, -5.01239970e-02],\n",
              "          [-1.04933716e-01, -2.13428047e-02, -6.96210423e-03, ...,\n",
              "            6.65251389e-02, -1.88177079e-02,  2.51054345e-03],\n",
              "          [ 9.83276404e-03, -6.03798963e-02, -2.49621440e-02, ...,\n",
              "            2.37416476e-02, -3.06324493e-02,  1.95477833e-03],\n",
              "          ...,\n",
              "          [ 8.11055116e-03, -4.23286520e-02, -5.95081225e-02, ...,\n",
              "           -5.44091761e-02, -9.83713269e-02, -1.00154150e-03],\n",
              "          [-4.09646146e-02,  2.51335418e-03, -7.66824707e-02, ...,\n",
              "           -6.61954433e-02,  1.38839791e-02,  6.31578192e-02],\n",
              "          [-2.37678476e-02,  3.09577603e-02,  3.10712028e-04, ...,\n",
              "           -3.40490192e-02, -6.77195285e-03, -3.44565213e-02]],\n",
              " \n",
              "         [[ 5.54202963e-03, -1.64646670e-01, -1.42734321e-02, ...,\n",
              "            7.08699003e-02,  4.64947522e-03, -3.39259095e-02],\n",
              "          [-1.98277831e-02, -8.10634196e-02, -4.87648509e-02, ...,\n",
              "           -1.55893993e-02, -8.41740891e-03, -5.09087108e-02],\n",
              "          [ 3.41796950e-02, -8.53545740e-02, -1.11692339e-01, ...,\n",
              "           -2.39966940e-02, -7.56329075e-02,  3.44765857e-02],\n",
              "          ...,\n",
              "          [-9.43428054e-02,  2.58975718e-02, -6.70707598e-02, ...,\n",
              "           -7.97313005e-02, -2.80660996e-03,  2.43068729e-02],\n",
              "          [ 3.42424475e-02, -7.08907321e-02, -4.67964560e-02, ...,\n",
              "            2.54301587e-03,  5.20978682e-02, -7.33097643e-02],\n",
              "          [-5.41698746e-02,  2.76223943e-03, -9.18379501e-02, ...,\n",
              "           -2.93585584e-02, -6.85948953e-02, -2.90817991e-02]],\n",
              " \n",
              "         ...,\n",
              " \n",
              "         [[ 4.30870652e-02, -6.90076724e-02, -6.14746921e-02, ...,\n",
              "           -9.22291800e-02, -8.03607609e-03, -1.68147683e-02],\n",
              "          [ 6.56167697e-03, -1.39741376e-01, -5.22321425e-02, ...,\n",
              "           -7.55798519e-02, -1.15661278e-01, -3.17539647e-02],\n",
              "          [ 6.31212294e-02, -5.41335382e-02, -2.59316573e-03, ...,\n",
              "            1.11237355e-02, -3.55448090e-02, -8.68077669e-03],\n",
              "          ...,\n",
              "          [-7.99807236e-02, -2.51973923e-02,  2.79505439e-02, ...,\n",
              "           -9.64958146e-02,  3.02755996e-03, -4.11920734e-02],\n",
              "          [-1.93611570e-02, -9.74428430e-02, -7.13277608e-02, ...,\n",
              "            7.42469802e-02, -7.89558068e-02, -7.99928904e-02],\n",
              "          [-7.80743137e-02, -1.06532611e-01, -4.30822410e-02, ...,\n",
              "            4.25288193e-02,  8.01318735e-02, -6.56872615e-02]],\n",
              " \n",
              "         [[-2.98054367e-02, -4.91509065e-02, -3.51417549e-02, ...,\n",
              "           -9.80734080e-02, -3.30898501e-02, -1.68455169e-02],\n",
              "          [-2.01845076e-02, -1.45461902e-01, -6.83466494e-02, ...,\n",
              "           -4.39145751e-02, -7.19454363e-02,  2.77535636e-02],\n",
              "          [-4.34535071e-02, -6.52340874e-02, -9.64282081e-03, ...,\n",
              "            5.92946783e-02, -5.03990278e-02, -1.82177208e-03],\n",
              "          ...,\n",
              "          [-3.34379636e-02,  1.03170946e-02,  5.02816103e-02, ...,\n",
              "           -3.47272940e-02, -1.07058160e-01, -1.03479614e-02],\n",
              "          [-5.45735434e-02, -9.85150486e-02,  7.41432086e-02, ...,\n",
              "            6.14017919e-02,  7.24239089e-03, -1.90504640e-02],\n",
              "          [-3.56110781e-02, -1.89251788e-02,  7.04171434e-02, ...,\n",
              "           -6.17934354e-02,  3.20652127e-03, -5.27150594e-02]],\n",
              " \n",
              "         [[-1.72172394e-02,  3.36870216e-02, -2.20474359e-02, ...,\n",
              "           -1.42570660e-01, -9.76830572e-02,  2.24313457e-02],\n",
              "          [ 3.94182578e-02, -1.47786424e-01, -1.43687660e-02, ...,\n",
              "            5.62374387e-03, -1.64700985e-01, -5.85188642e-02],\n",
              "          [-1.64946709e-02, -4.64872122e-02,  5.82656218e-03, ...,\n",
              "           -8.49389732e-02, -2.13011587e-03, -7.56194815e-02],\n",
              "          ...,\n",
              "          [ 9.47927684e-02, -6.41356781e-02, -2.76160054e-02, ...,\n",
              "           -2.38667224e-02,  3.00046499e-03, -3.64009179e-02],\n",
              "          [-4.41051945e-02, -1.15575895e-01, -1.64644402e-02, ...,\n",
              "           -4.16528918e-02,  2.37841364e-02, -6.27627000e-02],\n",
              "          [-1.10867778e-02, -2.08385792e-02, -7.21370056e-02, ...,\n",
              "           -5.20508774e-02,  1.96240824e-02, -8.14083219e-03]]],\n",
              " \n",
              " \n",
              "        [[[-9.98300686e-02, -1.28402608e-03, -3.06243580e-02, ...,\n",
              "           -6.87722266e-02, -4.65243123e-02,  3.89767662e-02],\n",
              "          [-9.10084173e-02,  2.99416203e-02, -5.68139590e-02, ...,\n",
              "            5.00039710e-03, -1.44422740e-01,  9.32245422e-03],\n",
              "          [-1.39138326e-01, -8.61643404e-02, -1.06410034e-01, ...,\n",
              "           -3.44833471e-02,  4.82290164e-02, -8.06964338e-02],\n",
              "          ...,\n",
              "          [-3.11144721e-02,  6.61611184e-02, -2.75725070e-02, ...,\n",
              "           -1.57046132e-02, -6.76393807e-02, -9.43879262e-02],\n",
              "          [-6.17504008e-02, -4.58544008e-02, -1.61781967e-01, ...,\n",
              "           -6.54041395e-02,  2.12822426e-02, -6.60241693e-02],\n",
              "          [-9.92406458e-02, -3.52739729e-03,  1.39057748e-02, ...,\n",
              "            1.02616303e-01, -4.81939204e-02,  1.95553377e-02]],\n",
              " \n",
              "         [[ 3.45343933e-03, -3.73941511e-02, -4.12569419e-02, ...,\n",
              "            7.09444564e-03, -1.41193215e-02,  6.65707812e-02],\n",
              "          [ 7.18279695e-03, -1.42132472e-02,  3.78885195e-02, ...,\n",
              "            3.36736329e-02, -4.55160476e-02, -1.44363949e-02],\n",
              "          [-2.02360321e-02, -3.58250253e-02, -4.69323844e-02, ...,\n",
              "           -2.49379724e-02,  6.86998442e-02, -3.27423923e-02],\n",
              "          ...,\n",
              "          [-1.05284834e-02,  5.30012399e-02, -4.38166820e-02, ...,\n",
              "           -5.15993126e-02, -3.27232443e-02,  3.12042087e-02],\n",
              "          [ 5.15228398e-02, -6.67190775e-02, -3.46698053e-02, ...,\n",
              "            4.88694236e-02, -1.75140470e-01, -2.55834945e-02],\n",
              "          [-1.22283854e-01, -3.66519652e-02,  2.24487130e-02, ...,\n",
              "           -4.51190444e-03,  3.41864377e-02, -3.30857709e-02]],\n",
              " \n",
              "         [[-6.66959882e-02, -4.27407771e-02,  5.01416847e-02, ...,\n",
              "            9.74487979e-03,  6.98689222e-02,  3.09659801e-02],\n",
              "          [-5.03998809e-02, -1.00977458e-02, -3.01985964e-02, ...,\n",
              "           -2.87358817e-02, -1.14599034e-01, -6.60242587e-02],\n",
              "          [ 5.14868610e-02, -3.09469700e-02, -2.42625903e-02, ...,\n",
              "            9.42690298e-03,  9.11836550e-02, -3.32586616e-02],\n",
              "          ...,\n",
              "          [-4.70211282e-02,  3.23405340e-02,  2.32258346e-03, ...,\n",
              "           -1.55742303e-01,  3.04638054e-02, -4.77725789e-02],\n",
              "          [-9.33529362e-02,  5.91016700e-03,  2.91776676e-02, ...,\n",
              "            2.61868406e-02, -9.31018665e-02,  3.71841192e-02],\n",
              "          [-5.45576587e-02, -4.39487174e-02, -3.91535684e-02, ...,\n",
              "           -1.80875901e-02, -4.88751270e-02, -2.73351595e-02]],\n",
              " \n",
              "         ...,\n",
              " \n",
              "         [[ 6.85076937e-02, -5.69991060e-02,  3.63608487e-02, ...,\n",
              "            3.51849943e-02, -6.03213161e-02, -9.25976261e-02],\n",
              "          [-4.63049300e-02, -3.22460243e-03, -8.71648416e-02, ...,\n",
              "            6.87186839e-04, -1.90705582e-01,  2.42863479e-03],\n",
              "          [-4.32156697e-02, -4.28424850e-02,  2.23151483e-02, ...,\n",
              "            1.15297595e-02, -7.28419647e-02, -2.49754004e-02],\n",
              "          ...,\n",
              "          [-8.26995168e-03,  1.85001325e-02,  1.13768606e-02, ...,\n",
              "           -1.01805344e-01, -3.79556865e-02,  4.80179163e-03],\n",
              "          [ 8.32679681e-03, -5.67093641e-02, -9.83097125e-03, ...,\n",
              "           -3.00078895e-02, -3.95146497e-02, -1.81575716e-02],\n",
              "          [-5.08077666e-02,  5.94520308e-02, -8.01958367e-02, ...,\n",
              "            1.25510362e-03, -1.26593877e-02,  6.54245960e-04]],\n",
              " \n",
              "         [[-3.95952761e-02,  7.11978003e-02, -2.33541969e-02, ...,\n",
              "            1.55968070e-02,  3.18553858e-02, -1.00484788e-01],\n",
              "          [-2.90642492e-02, -8.62170532e-02, -6.39561787e-02, ...,\n",
              "           -2.03828840e-03, -1.71965539e-01, -4.90847528e-02],\n",
              "          [ 4.98471875e-03,  2.26439014e-02, -5.54650556e-03, ...,\n",
              "           -3.75082679e-02, -8.77912715e-02, -9.42776073e-03],\n",
              "          ...,\n",
              "          [ 5.09289689e-02, -3.14504132e-02,  3.11301593e-02, ...,\n",
              "           -1.39151827e-01, -9.10101756e-02,  1.54842688e-02],\n",
              "          [ 6.04279386e-03,  5.76764978e-02, -1.48627628e-02, ...,\n",
              "            5.20847132e-03,  4.67286222e-02, -5.48742749e-02],\n",
              "          [-1.11323139e-02,  6.99372888e-02,  3.84392440e-02, ...,\n",
              "           -7.81840384e-02,  7.33356774e-02, -8.65168571e-02]],\n",
              " \n",
              "         [[-5.75390346e-02, -1.42083764e-02, -9.25164446e-02, ...,\n",
              "            8.08483958e-02,  2.58134007e-02, -7.72085041e-02],\n",
              "          [-2.95161046e-02, -1.24141760e-01, -1.26796618e-01, ...,\n",
              "           -5.80785535e-02, -1.16498396e-01,  2.80911848e-02],\n",
              "          [ 2.19891258e-02,  5.11523746e-02, -8.84217024e-02, ...,\n",
              "            5.09818830e-02,  2.22658813e-02, -5.72979301e-02],\n",
              "          ...,\n",
              "          [ 1.27362072e-01,  3.75663079e-02,  1.92347653e-02, ...,\n",
              "           -6.51942492e-02, -7.74074942e-02, -3.58792245e-02],\n",
              "          [-6.39724210e-02,  4.14222591e-02,  8.96336809e-02, ...,\n",
              "           -1.93350594e-02,  1.79166906e-02, -4.46432531e-02],\n",
              "          [-5.98695874e-02,  7.59964064e-02, -1.74945936e-01, ...,\n",
              "           -5.48813529e-02,  6.78249151e-02, -2.31478550e-02]]]],\n",
              "       dtype=float32)>,\n",
              " <tf.Variable 'conv2d_4/bias:0' shape=(8,) dtype=float32, numpy=\n",
              " array([ 0.02066575,  0.02334422,  0.17693417,  0.00634151, -0.02974781,\n",
              "        -0.00227271,  0.01048333, -0.00841158], dtype=float32)>,\n",
              " <tf.Variable 'dense_layer/kernel:0' shape=(6272, 10) dtype=float32, numpy=\n",
              " array([[ 3.5106044e-02,  1.2593834e-03,  6.4194441e-02, ...,\n",
              "          9.5057609e-03, -2.4437401e-04, -1.3430513e-04],\n",
              "        [ 1.4707397e-02, -3.1067012e-02,  1.3106342e-02, ...,\n",
              "          3.2444797e-02,  4.7100116e-02,  4.2884681e-02],\n",
              "        [ 6.9042280e-02,  7.0658475e-02, -3.4803011e-02, ...,\n",
              "         -7.8579247e-02, -2.9460466e-03,  8.7677063e-03],\n",
              "        ...,\n",
              "        [-2.7285502e-04,  1.1531629e-02, -3.0864414e-02, ...,\n",
              "         -3.4907155e-02, -8.2818858e-02, -2.8851004e-02],\n",
              "        [-1.6667663e-01, -4.2110458e-02,  1.1365104e-01, ...,\n",
              "         -8.1712477e-02, -6.0250569e-02, -2.9701818e-02],\n",
              "        [-1.2224276e-02, -8.9091985e-03, -3.5017189e-02, ...,\n",
              "          1.8289002e-02,  3.9208505e-02, -1.1500929e-01]], dtype=float32)>,\n",
              " <tf.Variable 'dense_layer/bias:0' shape=(10,) dtype=float32, numpy=\n",
              " array([ 0.04775452,  0.0540523 , -0.01719571, -0.08173513,  0.00690842,\n",
              "        -0.0482211 ,  0.02098383, -0.02630899,  0.04335235,  0.01687634],\n",
              "       dtype=float32)>]"
            ]
          },
          "metadata": {
            "tags": []
          },
          "execution_count": 55
        }
      ]
    },
    {
      "cell_type": "code",
      "metadata": {
        "id": "LQU_cSNb03jC",
        "outputId": "9f9dc4ef-b279-4f83-c8f0-88259f1d121f"
      },
      "source": [
        "import matplotlib.pyplot as plt\n",
        "%matplotlib inline\n",
        "# list all data in training\n",
        "print(training.history.keys())\n",
        "# summarize training for accuracy\n",
        "plt.plot(training.history['accuracy'])\n",
        "plt.plot(training.history['val_accuracy'])\n",
        "plt.title('model accuracy')\n",
        "plt.ylabel('accuracy')\n",
        "plt.xlabel('epoch')\n",
        "plt.legend(['train', 'test'], loc='upper left')\n",
        "plt.show()\n",
        "# summarize traning for loss\n",
        "plt.plot(training.history['loss'])\n",
        "plt.plot(training.history['val_loss'])\n",
        "plt.title('model loss')\n",
        "plt.ylabel('loss')\n",
        "plt.xlabel('epoch')\n",
        "plt.legend(['train', 'test'], loc='upper left')\n",
        "plt.show()"
      ],
      "execution_count": null,
      "outputs": [
        {
          "output_type": "stream",
          "text": [
            "dict_keys(['loss', 'accuracy', 'val_loss', 'val_accuracy'])\n"
          ],
          "name": "stdout"
        },
        {
          "output_type": "display_data",
          "data": {
            "image/png": "[encoded data removed]",
            "text/plain": [
              "<Figure size 432x288 with 1 Axes>"
            ]
          },
          "metadata": {
            "tags": [],
            "needs_background": "light"
          }
        },
        {
          "output_type": "display_data",
          "data": {
            "image/png": "[encoded data removed]",
            "text/plain": [
              "<Figure size 432x288 with 1 Axes>"
            ]
          },
          "metadata": {
            "tags": [],
            "needs_background": "light"
          }
        }
      ]
    },
    {
      "cell_type": "code",
      "metadata": {
        "id": "yHwQi9gF03jC",
        "outputId": "d1c042fa-8a9a-4f1b-99b9-8594e8f5d2e5"
      },
      "source": [
        "#evaluate model\n",
        "\n",
        "#evaluate the model\n",
        "test_loss, test_acc = model_1.evaluate(X_test, y_test_one_hot)\n",
        "print()\n",
        "print('Test Loss', test_loss)\n",
        "print()\n",
        "print('Test accuracy:', test_acc)"
      ],
      "execution_count": null,
      "outputs": [
        {
          "output_type": "stream",
          "text": [
            "313/313 [==============================] - 2s 8ms/step - loss: 0.0971 - accuracy: 0.9730\n",
            "\n",
            "Test Loss 0.0971444845199585\n",
            "\n",
            "Test accuracy: 0.9729999899864197\n"
          ],
          "name": "stdout"
        }
      ]
    },
    {
      "cell_type": "markdown",
      "metadata": {
        "id": "-a4Je97h03jD"
      },
      "source": [
        "Compare:\n",
        "\n",
        "Test Loss 0.0971444845199585\n",
        "\n",
        "Test accuracy: 0.9729999899864197"
      ]
    },
    {
      "cell_type": "markdown",
      "metadata": {
        "id": "gst_059F03jD"
      },
      "source": [
        "# End of CNN model_1a"
      ]
    },
    {
      "cell_type": "markdown",
      "metadata": {
        "id": "hkKI_rIp03jD"
      },
      "source": [
        "# Start of multilayered model_2"
      ]
    },
    {
      "cell_type": "markdown",
      "metadata": {
        "id": "wnD-X53803jD"
      },
      "source": [
        "# Adding Hidden Layers in Multi Layered Perceptron"
      ]
    },
    {
      "cell_type": "code",
      "metadata": {
        "id": "iQRVXZ5C03jE"
      },
      "source": [
        "#import libraries\n",
        "import tensorflow as tf\n",
        "from tensorflow import keras \n",
        "from tensorflow.keras.layers import Dense\n",
        "from tensorflow.keras import Sequential\n",
        "\n",
        "import matplotlib.pyplot as plt\n",
        "%matplotlib inline\n",
        "\n",
        "import numpy as np\n",
        "import pandas as pd\n",
        "import seaborn as sns\n",
        "\n",
        "\n",
        "# Loading MNIST dataset\n",
        "(X_train, y_train), (X_test, y_test) = keras.datasets.mnist.load_data()"
      ],
      "execution_count": null,
      "outputs": []
    },
    {
      "cell_type": "code",
      "metadata": {
        "id": "euCszbdV03jE"
      },
      "source": [
        "# For applying neural network, we need to have a vector of 28x28 pixels for eaxh image.\n",
        "\n",
        "X_train = X_train.reshape(60000, 28*28) \n",
        "X_test = X_test.reshape(10000, 28*28) \n"
      ],
      "execution_count": null,
      "outputs": []
    },
    {
      "cell_type": "code",
      "metadata": {
        "id": "9TIbna-C03jE"
      },
      "source": [
        "# Data is converted into float32 to use 32-bit precision # when training a neural network \n",
        "X_train = X_train.astype('float32')\n",
        "X_test = X_test.astype('float32') \n"
      ],
      "execution_count": null,
      "outputs": []
    },
    {
      "cell_type": "code",
      "metadata": {
        "id": "7fuauAuN03jE"
      },
      "source": [
        "# Normalizing the input to be within the range [0,1]\n",
        "X_train /= 255\n",
        "#intensity of each pixel is divided by 255, the maximum intensity value\n",
        "X_test /= 255"
      ],
      "execution_count": null,
      "outputs": []
    },
    {
      "cell_type": "code",
      "metadata": {
        "id": "7RkR1ZF003jE"
      },
      "source": [
        "# One-hot encoding of the labels.\n",
        "y_train = tf.keras.utils.to_categorical(y_train, 10) \n",
        "y_test = tf.keras.utils.to_categorical(y_test, 10)\n"
      ],
      "execution_count": null,
      "outputs": []
    },
    {
      "cell_type": "code",
      "metadata": {
        "id": "-klpr2WO03jF"
      },
      "source": [
        "# Build model\n",
        "\n",
        "model_2 = Sequential()\n",
        "\n"
      ],
      "execution_count": null,
      "outputs": []
    },
    {
      "cell_type": "code",
      "metadata": {
        "id": "Ec29gxyX03jF",
        "outputId": "a513f33d-9498-4c84-8c9c-672ab2eb8a58"
      },
      "source": [
        "# Most common type of model is a stack of layers. Depends on the problem, but typically 1-5\n",
        "\n",
        "N_hidden = 64 # Neurons per Hidden Layer\n",
        "\n",
        "# Adds the first densely-connected layer with 64 Neurons to the model:\n",
        "# Activation must be 'relu' as this is a hidden layer\n",
        "model_2.add(Dense(N_hidden, name='dense_layer', input_shape=(784,), activation = 'relu'))\n",
        "# Now the model will take as input arrays of shape (*, 784)# and output arrays of shape (*, 64)\n",
        "\n",
        "\n",
        "# Adding another dense layer:\n",
        "model_2.add(Dense(N_hidden, name='dense_layer_2', activation='relu'))\n",
        "# After the first layer, one doesn't need to specify the size of the input anymore: It automatically figures out.\n",
        "\n",
        "# Add an output layer with 10 output units (10 different classes):\n",
        "# Output Activation must be 'softmax' or 'sigmoid'\n",
        "model_2.add(Dense(10, name='dense_layer_3', activation = 'softmax')) \n",
        "# 10 was used as in the Perceptron with no hidden layer (model_0)\n",
        "\n",
        "model_2.summary()"
      ],
      "execution_count": null,
      "outputs": [
        {
          "output_type": "stream",
          "text": [
            "Model: \"sequential_3\"\n",
            "_________________________________________________________________\n",
            "Layer (type)                 Output Shape              Param #   \n",
            "=================================================================\n",
            "dense_layer (Dense)          (None, 64)                50240     \n",
            "_________________________________________________________________\n",
            "dense_layer_2 (Dense)        (None, 64)                4160      \n",
            "_________________________________________________________________\n",
            "dense_layer_3 (Dense)        (None, 10)                650       \n",
            "=================================================================\n",
            "Total params: 55,050\n",
            "Trainable params: 55,050\n",
            "Non-trainable params: 0\n",
            "_________________________________________________________________\n"
          ],
          "name": "stdout"
        }
      ]
    },
    {
      "cell_type": "markdown",
      "metadata": {
        "id": "wzUpoxTz03jF"
      },
      "source": [
        "Let's explore the effect of adding a hidden layer on accuracy"
      ]
    },
    {
      "cell_type": "code",
      "metadata": {
        "id": "4vcibfGf03jF"
      },
      "source": [
        "# Compile model\n",
        "\n",
        "model_2.compile(optimizer='SGD', \n",
        "              loss='categorical_crossentropy',\n",
        "              metrics=['accuracy'])"
      ],
      "execution_count": null,
      "outputs": []
    },
    {
      "cell_type": "code",
      "metadata": {
        "id": "H6je7Kum03jF",
        "outputId": "f7d046f2-4336-45ed-8549-f796a20ab688"
      },
      "source": [
        "# Train model reduced epochs (to save computing time)\n",
        "\n",
        "training = model_2.fit(X_train, y_train, batch_size=64, epochs=20, validation_split=0.2) \n"
      ],
      "execution_count": null,
      "outputs": [
        {
          "output_type": "stream",
          "text": [
            "Epoch 1/20\n",
            "705/750 [===========================>..] - ETA: 0s - loss: 1.2000 - accuracy: 0.6697WARNING:tensorflow:Callbacks method `on_test_batch_end` is slow compared to the batch time (batch time: 0.0000s vs `on_test_batch_end` time: 0.0010s). Check your callbacks.\n",
            "750/750 [==============================] - 1s 1ms/step - loss: 1.1600 - accuracy: 0.6804 - val_loss: 0.4939 - val_accuracy: 0.8689\n",
            "Epoch 2/20\n",
            "750/750 [==============================] - 1s 1ms/step - loss: 0.4327 - accuracy: 0.8787 - val_loss: 0.3482 - val_accuracy: 0.9003\n",
            "Epoch 3/20\n",
            "750/750 [==============================] - 1s 1ms/step - loss: 0.3475 - accuracy: 0.9013 - val_loss: 0.3042 - val_accuracy: 0.9118\n",
            "Epoch 4/20\n",
            "750/750 [==============================] - 1s 1ms/step - loss: 0.3097 - accuracy: 0.9113 - val_loss: 0.2778 - val_accuracy: 0.9190\n",
            "Epoch 5/20\n",
            "750/750 [==============================] - 1s 1ms/step - loss: 0.2845 - accuracy: 0.9186 - val_loss: 0.2592 - val_accuracy: 0.9245\n",
            "Epoch 6/20\n",
            "750/750 [==============================] - 1s 1ms/step - loss: 0.2647 - accuracy: 0.9248 - val_loss: 0.2448 - val_accuracy: 0.9285\n",
            "Epoch 7/20\n",
            "750/750 [==============================] - 1s 1ms/step - loss: 0.2482 - accuracy: 0.9291 - val_loss: 0.2307 - val_accuracy: 0.9349\n",
            "Epoch 8/20\n",
            "750/750 [==============================] - 1s 1ms/step - loss: 0.2332 - accuracy: 0.9332 - val_loss: 0.2209 - val_accuracy: 0.9374\n",
            "Epoch 9/20\n",
            "750/750 [==============================] - 1s 1ms/step - loss: 0.2203 - accuracy: 0.9370 - val_loss: 0.2098 - val_accuracy: 0.9408\n",
            "Epoch 10/20\n",
            "750/750 [==============================] - 1s 1ms/step - loss: 0.2087 - accuracy: 0.9398 - val_loss: 0.2015 - val_accuracy: 0.9451\n",
            "Epoch 11/20\n",
            "750/750 [==============================] - 1s 1ms/step - loss: 0.1981 - accuracy: 0.9435 - val_loss: 0.1934 - val_accuracy: 0.9461\n",
            "Epoch 12/20\n",
            "750/750 [==============================] - 1s 1ms/step - loss: 0.1885 - accuracy: 0.9461 - val_loss: 0.1859 - val_accuracy: 0.9480\n",
            "Epoch 13/20\n",
            "750/750 [==============================] - 1s 1ms/step - loss: 0.1797 - accuracy: 0.9490 - val_loss: 0.1806 - val_accuracy: 0.9507\n",
            "Epoch 14/20\n",
            "750/750 [==============================] - 1s 1ms/step - loss: 0.1719 - accuracy: 0.9510 - val_loss: 0.1747 - val_accuracy: 0.9513\n",
            "Epoch 15/20\n",
            "750/750 [==============================] - 1s 1ms/step - loss: 0.1647 - accuracy: 0.9527 - val_loss: 0.1711 - val_accuracy: 0.9524\n",
            "Epoch 16/20\n",
            "750/750 [==============================] - 1s 1ms/step - loss: 0.1582 - accuracy: 0.9545 - val_loss: 0.1657 - val_accuracy: 0.9544\n",
            "Epoch 17/20\n",
            "750/750 [==============================] - 1s 1ms/step - loss: 0.1523 - accuracy: 0.9561 - val_loss: 0.1601 - val_accuracy: 0.9554\n",
            "Epoch 18/20\n",
            "750/750 [==============================] - 1s 1ms/step - loss: 0.1464 - accuracy: 0.9578 - val_loss: 0.1574 - val_accuracy: 0.9571\n",
            "Epoch 19/20\n",
            "750/750 [==============================] - 1s 1ms/step - loss: 0.1412 - accuracy: 0.9589 - val_loss: 0.1520 - val_accuracy: 0.9582\n",
            "Epoch 20/20\n",
            "750/750 [==============================] - 1s 1ms/step - loss: 0.1363 - accuracy: 0.9610 - val_loss: 0.1499 - val_accuracy: 0.9588\n"
          ],
          "name": "stdout"
        }
      ]
    },
    {
      "cell_type": "code",
      "metadata": {
        "id": "RNzX9h0f03jF",
        "outputId": "d58c8e27-6ebb-4795-980f-fde7f862d0ea"
      },
      "source": [
        "model_2.weights"
      ],
      "execution_count": null,
      "outputs": [
        {
          "output_type": "execute_result",
          "data": {
            "text/plain": [
              "[<tf.Variable 'dense_layer/kernel:0' shape=(784, 64) dtype=float32, numpy=\n",
              " array([[-0.04602988,  0.02437742,  0.05937489, ...,  0.0816026 ,\n",
              "          0.07055391,  0.02326956],\n",
              "        [ 0.07848058,  0.06525942, -0.0158834 , ...,  0.06957314,\n",
              "          0.0778758 ,  0.04669727],\n",
              "        [ 0.04528954, -0.01075678,  0.05909603, ..., -0.07778867,\n",
              "          0.07095148, -0.01853234],\n",
              "        ...,\n",
              "        [-0.04626771, -0.07345352, -0.02377181, ..., -0.02897466,\n",
              "         -0.066262  ,  0.06244477],\n",
              "        [ 0.05238914, -0.05673739, -0.00118038, ...,  0.05330796,\n",
              "          0.03260345, -0.05615484],\n",
              "        [ 0.02280486, -0.02295965,  0.01920937, ...,  0.07339878,\n",
              "         -0.02023426,  0.06183095]], dtype=float32)>,\n",
              " <tf.Variable 'dense_layer/bias:0' shape=(64,) dtype=float32, numpy=\n",
              " array([-0.07344133,  0.05143248,  0.01034605,  0.00636844,  0.04703155,\n",
              "         0.1313989 ,  0.03249414,  0.02154386,  0.04431835,  0.02995684,\n",
              "         0.02922306,  0.01613666,  0.0367007 ,  0.00926442,  0.02472723,\n",
              "         0.07056142,  0.088379  , -0.00328545,  0.01516824, -0.01881621,\n",
              "        -0.01585968, -0.0111397 ,  0.04899119, -0.02018741,  0.0836434 ,\n",
              "         0.0046445 ,  0.1043289 ,  0.0852323 , -0.00867368, -0.08620198,\n",
              "         0.08476733,  0.11134282,  0.11256979, -0.04217894,  0.03066119,\n",
              "         0.12493167, -0.02017503, -0.0150626 ,  0.00926091, -0.09125738,\n",
              "        -0.01311082,  0.128258  , -0.02433276,  0.09808269,  0.05316477,\n",
              "         0.07559413, -0.07637747,  0.02675762, -0.02976737,  0.07729702,\n",
              "         0.04970941,  0.07380714,  0.1297816 ,  0.01755609, -0.01294415,\n",
              "         0.05368961,  0.05849497, -0.02870186, -0.00757588,  0.00112838,\n",
              "        -0.00790092,  0.04946697,  0.05171183,  0.09528501], dtype=float32)>,\n",
              " <tf.Variable 'dense_layer_2/kernel:0' shape=(64, 64) dtype=float32, numpy=\n",
              " array([[-0.16898221,  0.10696693,  0.19444473, ..., -0.12840542,\n",
              "          0.23397826, -0.1381485 ],\n",
              "        [-0.1403395 ,  0.2217816 , -0.11171256, ..., -0.09978196,\n",
              "          0.13375272, -0.14168026],\n",
              "        [ 0.00690517,  0.01044643, -0.03129417, ..., -0.25754222,\n",
              "          0.19433856, -0.09800387],\n",
              "        ...,\n",
              "        [ 0.1572089 , -0.17638366,  0.09607261, ...,  0.02600308,\n",
              "          0.03766479, -0.09055888],\n",
              "        [ 0.2774529 , -0.03610961, -0.10676049, ..., -0.12917987,\n",
              "          0.06433179, -0.01080393],\n",
              "        [ 0.28498134,  0.24134491,  0.03262926, ...,  0.01923363,\n",
              "         -0.10437568,  0.09321376]], dtype=float32)>,\n",
              " <tf.Variable 'dense_layer_2/bias:0' shape=(64,) dtype=float32, numpy=\n",
              " array([ 9.47215632e-02,  7.64690638e-02,  1.67735871e-02,  6.65423286e-05,\n",
              "         7.57918209e-02,  1.41634062e-01,  2.57466789e-02,  1.05505660e-01,\n",
              "         7.48300254e-02,  3.53771471e-03,  1.07180211e-03,  1.41641507e-02,\n",
              "        -2.78893728e-02,  5.56898452e-02, -5.80621697e-02,  2.75646523e-02,\n",
              "        -4.15486209e-02,  1.17958412e-02,  4.23700921e-02, -5.81680099e-03,\n",
              "         8.50388706e-02, -1.46949187e-05,  3.22627723e-02,  1.76421972e-03,\n",
              "        -5.74364141e-03,  1.50652066e-01,  2.01697238e-02,  1.68523956e-02,\n",
              "         4.33926545e-02,  9.13741812e-03,  2.05858666e-02, -3.30455005e-02,\n",
              "         1.19053172e-02, -3.01890951e-02,  1.07840955e-01,  6.29739538e-02,\n",
              "        -5.61221270e-03,  1.45237986e-02, -4.14073374e-03,  2.49987235e-03,\n",
              "         5.74798547e-02,  3.10597010e-04,  1.39704673e-03,  9.00931135e-02,\n",
              "        -5.69531694e-02,  4.66319248e-02, -7.02575548e-04,  4.68202904e-02,\n",
              "         3.63789611e-02, -1.21398428e-02, -4.43479568e-02,  5.84566146e-02,\n",
              "         1.61184836e-02,  2.72049010e-02,  1.09538333e-02,  2.02108733e-02,\n",
              "         1.44789200e-02,  6.80465177e-02,  2.24186331e-02, -5.10568824e-03,\n",
              "        -3.66357528e-02,  4.66165356e-02,  1.39975026e-02, -4.96321218e-03],\n",
              "       dtype=float32)>,\n",
              " <tf.Variable 'dense_layer_3/kernel:0' shape=(64, 10) dtype=float32, numpy=\n",
              " array([[-0.09666999, -0.3837176 , -0.1877701 , -0.09173057,  0.48886287,\n",
              "          0.39059982, -0.41190988,  0.38519806, -0.02033194, -0.00380462],\n",
              "        [-0.28321698,  0.22337042, -0.001365  , -0.45164752, -0.00413876,\n",
              "         -0.08879275,  0.12879719,  0.0613935 ,  0.00401752, -0.11141332],\n",
              "        [-0.20922007, -0.08363596,  0.4819802 ,  0.05266261, -0.3654958 ,\n",
              "         -0.04466774,  0.05054231,  0.3479961 , -0.4067719 ,  0.00812528],\n",
              "        [ 0.2565361 , -0.05799533,  0.28633425,  0.07388446,  0.14856455,\n",
              "         -0.19825695,  0.4980707 ,  0.2469342 , -0.23757206, -0.6384369 ],\n",
              "        [ 0.31279963, -0.11990508, -0.18992618, -0.32907623, -0.50277936,\n",
              "          0.4807624 , -0.16421288,  0.51826745, -0.25289744,  0.24179988],\n",
              "        [-0.5138065 , -0.2155117 ,  0.341775  ,  0.2634922 ,  0.45075023,\n",
              "          0.467564  ,  0.2755614 , -0.16510326, -0.37943763, -0.37929043],\n",
              "        [-0.13851556,  0.31059828, -0.36418968,  0.37312222, -0.21966895,\n",
              "         -0.18846115, -0.33843723, -0.1113992 , -0.36897412,  0.28654265],\n",
              "        [-0.20880249,  0.01495219, -0.5391321 ,  0.08798215,  0.24067469,\n",
              "          0.44462085,  0.02528035, -0.39820445, -0.14130253,  0.20061713],\n",
              "        [-0.23961844,  0.27619773,  0.30909052, -0.3925926 ,  0.19586033,\n",
              "          0.32126325, -0.30882537, -0.24088317,  0.46126127, -0.06714188],\n",
              "        [ 0.06419333, -0.35547575,  0.3195749 , -0.42660788,  0.30976167,\n",
              "          0.12488371, -0.04277619, -0.13279186,  0.51778716, -0.19797505],\n",
              "        [ 0.01193354,  0.22950794, -0.16596645, -0.43863505,  0.20296432,\n",
              "         -0.15870936, -0.08887622,  0.1303007 , -0.15025604, -0.34369215],\n",
              "        [-0.10569149,  0.06077147, -0.15855682, -0.41276392,  0.4486997 ,\n",
              "         -0.2177089 ,  0.2911907 , -0.06756254,  0.02872889,  0.11689135],\n",
              "        [-0.26420578,  0.09516897,  0.17061688,  0.5127737 , -0.28336558,\n",
              "         -0.3004777 , -0.09623843, -0.1365175 ,  0.42917106, -0.08951623],\n",
              "        [-0.22655149,  0.3857032 , -0.06020823, -0.07293233,  0.19282609,\n",
              "         -0.39413387, -0.18073036,  0.20625888, -0.52986515,  0.57302296],\n",
              "        [ 0.4680783 , -0.25643733, -0.17297648, -0.00802211, -0.19236766,\n",
              "         -0.34281054,  0.05760934,  0.07959342, -0.00689778,  0.18750055],\n",
              "        [-0.07753564, -0.30521953, -0.08889242,  0.18493015, -0.28437313,\n",
              "          0.48808366, -0.38759586,  0.22299857,  0.01474654,  0.0809945 ],\n",
              "        [ 0.12522815, -0.15902536,  0.28658327, -0.03322044,  0.12334005,\n",
              "         -0.5892171 , -0.15387191,  0.42208672, -0.08047541,  0.06461957],\n",
              "        [ 0.02616271,  0.16753045,  0.18602537,  0.2828152 ,  0.00073801,\n",
              "          0.137626  ,  0.11586265, -0.11575485, -0.47946262,  0.1539359 ],\n",
              "        [ 0.35903698,  0.13658123,  0.06148322, -0.3866183 ,  0.11922128,\n",
              "          0.45661214, -0.180337  , -0.29999176, -0.3717342 ,  0.24020022],\n",
              "        [ 0.21020485, -0.03286338, -0.31854382,  0.02051883,  0.10807756,\n",
              "         -0.16608742,  0.07115894,  0.3482929 , -0.05176688,  0.17785089],\n",
              "        [-0.34481493,  0.18871865,  0.11733104,  0.10798214, -0.24571481,\n",
              "         -0.22023036,  0.10438799, -0.25723228, -0.5542875 , -0.41228968],\n",
              "        [ 0.06228053,  0.17228468, -0.03075777, -0.15450804,  0.07326368,\n",
              "         -0.27057728, -0.1565021 , -0.2837166 , -0.0859629 , -0.06947824],\n",
              "        [-0.24337262,  0.41284335,  0.04028996,  0.36203784,  0.16910811,\n",
              "          0.01582624, -0.29309383, -0.3787567 ,  0.23543279,  0.35903978],\n",
              "        [ 0.15343158,  0.1760441 , -0.06590599, -0.0958847 , -0.1816886 ,\n",
              "          0.04265172, -0.12069762,  0.04357837, -0.21409282, -0.22799821],\n",
              "        [-0.08442398,  0.0499868 ,  0.2945211 ,  0.0823259 ,  0.01386222,\n",
              "          0.07655375, -0.23820822, -0.19492406,  0.2721834 ,  0.02555367],\n",
              "        [-0.05263672,  0.23230453, -0.16067632,  0.36017045, -0.37274674,\n",
              "          0.5051813 , -0.39115357,  0.529398  , -0.2546924 , -0.5403008 ],\n",
              "        [ 0.04030442, -0.26546004,  0.2281794 , -0.18401428,  0.00456682,\n",
              "         -0.27712655,  0.2063183 ,  0.11080202, -0.39798722,  0.21448627],\n",
              "        [-0.10624208,  0.26497316, -0.19745673,  0.05979291,  0.3030457 ,\n",
              "         -0.12527324, -0.1932494 , -0.01033235,  0.2355299 ,  0.34831727],\n",
              "        [-0.195782  , -0.33751   , -0.32383537, -0.0242536 ,  0.5152438 ,\n",
              "          0.08950446,  0.07686307,  0.27126837,  0.4573129 ,  0.35106975],\n",
              "        [-0.01408779, -0.31577858, -0.24419533,  0.13979119,  0.06229373,\n",
              "         -0.05172885, -0.30554006, -0.44931144,  0.20457609, -0.290634  ],\n",
              "        [-0.23385794, -0.01091731,  0.13111599,  0.29214254,  0.08105811,\n",
              "          0.13490601,  0.09210225, -0.11956157, -0.0229654 , -0.19538672],\n",
              "        [ 0.333024  , -0.3669337 , -0.05347811,  0.1922398 ,  0.07112534,\n",
              "         -0.27283636, -0.18862338,  0.04164552,  0.02081782,  0.35255733],\n",
              "        [-0.13838659, -0.3169    , -0.081035  , -0.12528276, -0.408823  ,\n",
              "          0.3611006 , -0.16986492,  0.33120432,  0.26878387,  0.03227858],\n",
              "        [ 0.15671018,  0.2613354 , -0.09081136, -0.31036043, -0.28632572,\n",
              "         -0.25257912,  0.21920736, -0.4640013 ,  0.38570926, -0.38428235],\n",
              "        [-0.03985158, -0.2507055 , -0.29376957,  0.10819797, -0.23290898,\n",
              "          0.6010203 ,  0.07824302, -0.16243349, -0.3750797 ,  0.25682804],\n",
              "        [-0.2694684 , -0.04466229,  0.20835124,  0.13030684, -0.33458787,\n",
              "          0.19727874,  0.5120771 ,  0.06943653, -0.21332508, -0.08917024],\n",
              "        [-0.13633831,  0.04892853,  0.44770128,  0.01633894, -0.17316237,\n",
              "         -0.01117709, -0.10195012,  0.2146703 ,  0.29402268,  0.16718675],\n",
              "        [-0.12257185, -0.14777349,  0.25801498,  0.03223115, -0.30903435,\n",
              "         -0.01780522, -0.07755974,  0.16083157, -0.1872314 ,  0.02118519],\n",
              "        [-0.07064806,  0.09787778,  0.03016745,  0.12567961,  0.05091679,\n",
              "          0.17535964,  0.2106229 , -0.27806222,  0.2547191 , -0.05705169],\n",
              "        [-0.31055433, -0.15792733, -0.1432095 ,  0.4565565 ,  0.1300131 ,\n",
              "         -0.58679247, -0.259517  ,  0.49287418,  0.16173363,  0.11064468],\n",
              "        [-0.12843099,  0.02724682,  0.09835169, -0.32397503,  0.5411497 ,\n",
              "         -0.08773928, -0.33557925,  0.36643153, -0.3520402 ,  0.01290469],\n",
              "        [ 0.29195017, -0.24080302,  0.03234852,  0.24348743, -0.42652115,\n",
              "         -0.23486184,  0.20065881,  0.32331827, -0.16788448,  0.18657558],\n",
              "        [-0.07075002, -0.1837331 , -0.3184408 ,  0.1259561 , -0.26516593,\n",
              "          0.04164677, -0.00871836, -0.03577229,  0.43731758,  0.26019266],\n",
              "        [-0.2674618 ,  0.56046814, -0.372771  , -0.0810436 , -0.23451024,\n",
              "          0.11867697,  0.02354113,  0.20194167, -0.06885408, -0.3006574 ],\n",
              "        [ 0.47182018, -0.27865216,  0.07283717,  0.3584655 , -0.37510142,\n",
              "         -0.40231627, -0.34685525,  0.24738836, -0.21137662,  0.14377403],\n",
              "        [ 0.21211752, -0.44367585, -0.37826416, -0.11026799, -0.34069154,\n",
              "          0.39639866,  0.3749178 , -0.36214468,  0.06011037,  0.2400672 ],\n",
              "        [-0.06377256,  0.14133142,  0.24589054,  0.5464314 , -0.01458004,\n",
              "         -0.2166372 , -0.30506507, -0.02985879, -0.1462353 ,  0.0167894 ],\n",
              "        [ 0.05078557, -0.22137769,  0.18174037, -0.09993679,  0.10059252,\n",
              "          0.43039528, -0.3820567 , -0.16152816, -0.23061986, -0.51489556],\n",
              "        [ 0.1748636 , -0.04224954,  0.4324697 , -0.00283341,  0.08066177,\n",
              "          0.16410136, -0.13183607, -0.43417227, -0.07417059, -0.35677668],\n",
              "        [-0.36570534,  0.01019856, -0.21369545, -0.18133983, -0.22031704,\n",
              "         -0.13103712,  0.4954556 , -0.03246324,  0.4245459 , -0.02936429],\n",
              "        [-0.11748697, -0.20559575,  0.02904237, -0.11336131, -0.1876323 ,\n",
              "         -0.28943118, -0.22632551,  0.06156832,  0.12828933,  0.1433881 ],\n",
              "        [ 0.25656864,  0.06849428, -0.10027479,  0.15906185,  0.22475386,\n",
              "          0.32995257,  0.1434506 ,  0.0217892 , -0.35326505, -0.35611865],\n",
              "        [ 0.23799504,  0.46798548,  0.4195424 ,  0.30500022, -0.24594913,\n",
              "         -0.10875279, -0.38623837,  0.24008493,  0.23530026, -0.6122448 ],\n",
              "        [ 0.23567703,  0.21142143,  0.27420047, -0.28381526,  0.00740146,\n",
              "         -0.1539401 , -0.01623011,  0.3794299 ,  0.2523681 , -0.09791488],\n",
              "        [-0.07060615,  0.00451835,  0.19873856,  0.1851669 , -0.13410111,\n",
              "          0.17599688, -0.21546316,  0.17208394, -0.0726584 , -0.24977937],\n",
              "        [ 0.15722674,  0.2591705 , -0.12137555, -0.17763165, -0.15267947,\n",
              "         -0.13425036,  0.3557031 ,  0.28506392, -0.11078154,  0.35933685],\n",
              "        [ 0.23166946,  0.03468195,  0.06168598, -0.00242508,  0.48378783,\n",
              "          0.14318605, -0.01962315, -0.40932706,  0.24577041,  0.36283636],\n",
              "        [-0.29445058, -0.18684046,  0.3590624 ,  0.06237695,  0.09677573,\n",
              "          0.14003554, -0.08648828, -0.43063468, -0.3298058 ,  0.29127386],\n",
              "        [ 0.10973758, -0.14927948, -0.18439595,  0.3291822 , -0.33672822,\n",
              "          0.35596856, -0.0149444 , -0.55279815,  0.09535225,  0.23183364],\n",
              "        [ 0.12855645,  0.21711639,  0.36698312,  0.16644217,  0.14603902,\n",
              "          0.02373083,  0.01117382,  0.30558178, -0.09114158, -0.1474742 ],\n",
              "        [ 0.2628565 , -0.07372387,  0.5727949 , -0.2782246 ,  0.12101738,\n",
              "         -0.5045904 , -0.19089575,  0.02340214, -0.22654486,  0.04633208],\n",
              "        [-0.37906963,  0.30503365, -0.07312635,  0.2504828 , -0.3689484 ,\n",
              "          0.11914372, -0.27375242, -0.05160557,  0.3524112 ,  0.23931094],\n",
              "        [ 0.28356552,  0.14247447, -0.1713242 , -0.05435072, -0.23229906,\n",
              "         -0.03507763,  0.38218838, -0.18979338, -0.31687698, -0.41986787],\n",
              "        [-0.08764298,  0.2490219 ,  0.05059249, -0.00397938, -0.12172642,\n",
              "          0.11498871, -0.00281403,  0.24955937,  0.2157554 ,  0.03231365]],\n",
              "       dtype=float32)>,\n",
              " <tf.Variable 'dense_layer_3/bias:0' shape=(10,) dtype=float32, numpy=\n",
              " array([-0.14620464,  0.1238827 ,  0.0656658 , -0.01002861, -0.00636673,\n",
              "         0.15301305,  0.04561655, -0.04299042, -0.12234303, -0.06024449],\n",
              "       dtype=float32)>]"
            ]
          },
          "metadata": {
            "tags": []
          },
          "execution_count": 68
        }
      ]
    },
    {
      "cell_type": "code",
      "metadata": {
        "id": "bOsVojug03jG",
        "outputId": "cf08606d-6255-4f2d-f97a-626e480bca49"
      },
      "source": [
        "import matplotlib.pyplot as plt\n",
        "%matplotlib inline\n",
        "# list all data in training\n",
        "print(training.history.keys())\n",
        "# summarize training for accuracy\n",
        "plt.plot(training.history['accuracy'])\n",
        "plt.plot(training.history['val_accuracy'])\n",
        "plt.title('model accuracy')\n",
        "plt.ylabel('accuracy')\n",
        "plt.xlabel('epoch')\n",
        "plt.legend(['train', 'test'], loc='upper left')\n",
        "plt.show()\n",
        "# summarize traning for loss\n",
        "plt.plot(training.history['loss'])\n",
        "plt.plot(training.history['val_loss'])\n",
        "plt.title('model loss')\n",
        "plt.ylabel('loss')\n",
        "plt.xlabel('epoch')\n",
        "plt.legend(['train', 'test'], loc='upper left')\n",
        "plt.show()"
      ],
      "execution_count": null,
      "outputs": [
        {
          "output_type": "stream",
          "text": [
            "dict_keys(['loss', 'accuracy', 'val_loss', 'val_accuracy'])\n"
          ],
          "name": "stdout"
        },
        {
          "output_type": "display_data",
          "data": {
            "image/png": "[encoded data removed]",
            "text/plain": [
              "<Figure size 432x288 with 1 Axes>"
            ]
          },
          "metadata": {
            "tags": [],
            "needs_background": "light"
          }
        },
        {
          "output_type": "display_data",
          "data": {
            "image/png": "[encoded data removed]",
            "text/plain": [
              "<Figure size 432x288 with 1 Axes>"
            ]
          },
          "metadata": {
            "tags": [],
            "needs_background": "light"
          }
        }
      ]
    },
    {
      "cell_type": "code",
      "metadata": {
        "id": "HazHle1A03jG",
        "outputId": "7ad12043-bb39-4e90-b346-ac48f3cf6ccd"
      },
      "source": [
        "#evaluate model\n",
        "\n",
        "#evaluate the model\n",
        "test_loss, test_acc = model_2.evaluate(X_test, y_test)\n",
        "print()\n",
        "print('Test Loss', test_loss)\n",
        "print()\n",
        "print('Test accuracy:', test_acc)\n"
      ],
      "execution_count": null,
      "outputs": [
        {
          "output_type": "stream",
          "text": [
            "313/313 [==============================] - 0s 741us/step - loss: 0.1408 - accuracy: 0.9579\n",
            "\n",
            "Test Loss 0.14084218442440033\n",
            "\n",
            "Test accuracy: 0.9578999876976013\n"
          ],
          "name": "stdout"
        }
      ]
    },
    {
      "cell_type": "markdown",
      "metadata": {
        "id": "2zZnrp0-03jH"
      },
      "source": [
        "# Without hidden layers\n",
        "\n",
        "Test loss: 0.2820744216442108\n",
        "\n",
        "Test accuracy: 0.9212999939918518"
      ]
    },
    {
      "cell_type": "markdown",
      "metadata": {
        "id": "LFZf0Zgr03jH"
      },
      "source": [
        "# Comment much improvement in accuracy with hidden layers"
      ]
    },
    {
      "cell_type": "markdown",
      "metadata": {
        "id": "Jxhq1g9R03jH"
      },
      "source": [
        "# End of model_2"
      ]
    },
    {
      "cell_type": "markdown",
      "metadata": {
        "id": "jqrwL0PL03jI"
      },
      "source": [
        "# Start here on 26 November 2020"
      ]
    },
    {
      "cell_type": "code",
      "metadata": {
        "id": "GTq7RlsF03jI"
      },
      "source": [
        "# Start here on 26 November 2020"
      ],
      "execution_count": null,
      "outputs": []
    },
    {
      "cell_type": "markdown",
      "metadata": {
        "id": "JSKuN4v803jI"
      },
      "source": [
        "# Start of model_3 (Dropout = 30%)"
      ]
    },
    {
      "cell_type": "markdown",
      "metadata": {
        "id": "1GBiqqB603jI"
      },
      "source": [
        "### What happens if we manipulate the value of Dropout?"
      ]
    },
    {
      "cell_type": "markdown",
      "metadata": {
        "id": "3tZKWjzB03jI"
      },
      "source": [
        "#### model_3      Adding Dropout to Avoid Overfitting"
      ]
    },
    {
      "cell_type": "code",
      "metadata": {
        "id": "u8iuhneC03jI"
      },
      "source": [
        "#import libraries\n",
        "import tensorflow as tf\n",
        "from tensorflow import keras\n",
        "from tensorflow.keras import Sequential\n",
        "from tensorflow.keras.layers import Dense\n",
        "from tensorflow.keras.layers import Dropout\n",
        "\n",
        "#from sklearn.datasets import load_digits\n",
        "%matplotlib inline\n",
        "import matplotlib.pyplot as plt\n",
        "\n",
        "import numpy as np\n",
        "import pandas as pd\n",
        "import seaborn as sns\n",
        "\n"
      ],
      "execution_count": null,
      "outputs": []
    },
    {
      "cell_type": "code",
      "metadata": {
        "id": "NYQJQkpq03jJ"
      },
      "source": [
        "# Build model\n",
        "\n",
        "model_3 = Sequential()\n",
        "\n"
      ],
      "execution_count": null,
      "outputs": []
    },
    {
      "cell_type": "code",
      "metadata": {
        "id": "3k63PREw03jK",
        "outputId": "4efb8e7b-10ce-4a9d-9305-1c6f0630c77b"
      },
      "source": [
        "#Most common type of model is a stack of layers\n",
        "# model_3 TWO HIDDEN LAYERS\n",
        "\n",
        "N_hidden = 128 # Neurons per Hidden Layer\n",
        "# Adds a densely-connected layer with 128 units to the model:\n",
        "\n",
        "model_3.add(Dense(N_hidden, name='dense_layer_1', input_shape=(784,), activation = 'relu'))\n",
        "model_3.add(Dropout(0.3))\n",
        "\n",
        "# Adding another dense layer:\n",
        "model_3.add(Dense(N_hidden, name='dense_layer_2', activation='relu'))\n",
        "# After the first layer, one doesn't need to specify the size of the input anymore.\n",
        "model_3.add(Dropout(0.3))\n",
        "\n",
        "# Add an output layer with 10 output units (10 different classes):\n",
        "model_3.add(Dense(10, name='dense_layer_3', activation = 'softmax'))\n",
        "\n",
        "model_3.summary()"
      ],
      "execution_count": null,
      "outputs": [
        {
          "output_type": "stream",
          "text": [
            "Model: \"sequential_4\"\n",
            "_________________________________________________________________\n",
            "Layer (type)                 Output Shape              Param #   \n",
            "=================================================================\n",
            "dense_layer_1 (Dense)        (None, 128)               100480    \n",
            "_________________________________________________________________\n",
            "dropout (Dropout)            (None, 128)               0         \n",
            "_________________________________________________________________\n",
            "dense_layer_2 (Dense)        (None, 128)               16512     \n",
            "_________________________________________________________________\n",
            "dropout_1 (Dropout)          (None, 128)               0         \n",
            "_________________________________________________________________\n",
            "dense_layer_3 (Dense)        (None, 10)                1290      \n",
            "=================================================================\n",
            "Total params: 118,282\n",
            "Trainable params: 118,282\n",
            "Non-trainable params: 0\n",
            "_________________________________________________________________\n"
          ],
          "name": "stdout"
        }
      ]
    },
    {
      "cell_type": "code",
      "metadata": {
        "id": "BABfv9EY03jK"
      },
      "source": [
        "# Compile model\n",
        "\n",
        "model_3.compile(optimizer='SGD', \n",
        "              loss='categorical_crossentropy',\n",
        "              metrics=['accuracy'])\n"
      ],
      "execution_count": null,
      "outputs": []
    },
    {
      "cell_type": "code",
      "metadata": {
        "id": "W5etTqO003jK",
        "outputId": "32128fe3-7912-4a57-89c4-ecc1e0818b4f"
      },
      "source": [
        "# Train model\n",
        "# batch of 64 neurons in output\n",
        "training = model_3.fit(X_train, y_train, batch_size=64, epochs=20, validation_split=0.2) \n"
      ],
      "execution_count": null,
      "outputs": [
        {
          "output_type": "stream",
          "text": [
            "Epoch 1/20\n",
            "750/750 [==============================] - 1s 2ms/step - loss: 1.3432 - accuracy: 0.5702 - val_loss: 0.5562 - val_accuracy: 0.8652\n",
            "Epoch 2/20\n",
            "750/750 [==============================] - 1s 1ms/step - loss: 0.6582 - accuracy: 0.7957 - val_loss: 0.3748 - val_accuracy: 0.8982\n",
            "Epoch 3/20\n",
            "750/750 [==============================] - 1s 1ms/step - loss: 0.5188 - accuracy: 0.8447 - val_loss: 0.3132 - val_accuracy: 0.9112\n",
            "Epoch 4/20\n",
            "750/750 [==============================] - 1s 1ms/step - loss: 0.4494 - accuracy: 0.8665 - val_loss: 0.2809 - val_accuracy: 0.9186\n",
            "Epoch 5/20\n",
            "750/750 [==============================] - 1s 1ms/step - loss: 0.4043 - accuracy: 0.8791 - val_loss: 0.2565 - val_accuracy: 0.9261\n",
            "Epoch 6/20\n",
            "750/750 [==============================] - 1s 1ms/step - loss: 0.3668 - accuracy: 0.8915 - val_loss: 0.2391 - val_accuracy: 0.9303\n",
            "Epoch 7/20\n",
            "750/750 [==============================] - 1s 1ms/step - loss: 0.3455 - accuracy: 0.8985 - val_loss: 0.2248 - val_accuracy: 0.9337\n",
            "Epoch 8/20\n",
            "750/750 [==============================] - 1s 1ms/step - loss: 0.3274 - accuracy: 0.9026 - val_loss: 0.2120 - val_accuracy: 0.9367\n",
            "Epoch 9/20\n",
            "750/750 [==============================] - 1s 1ms/step - loss: 0.3108 - accuracy: 0.9087 - val_loss: 0.2037 - val_accuracy: 0.9401\n",
            "Epoch 10/20\n",
            "750/750 [==============================] - 1s 2ms/step - loss: 0.2942 - accuracy: 0.9136 - val_loss: 0.1943 - val_accuracy: 0.9437\n",
            "Epoch 11/20\n",
            "750/750 [==============================] - 1s 1ms/step - loss: 0.2825 - accuracy: 0.9170 - val_loss: 0.1842 - val_accuracy: 0.9472\n",
            "Epoch 12/20\n",
            "750/750 [==============================] - ETA: 0s - loss: 0.2699 - accuracy: 0.92 - 1s 1ms/step - loss: 0.2703 - accuracy: 0.9200 - val_loss: 0.1789 - val_accuracy: 0.9488\n",
            "Epoch 13/20\n",
            "750/750 [==============================] - 1s 1ms/step - loss: 0.2564 - accuracy: 0.9253 - val_loss: 0.1720 - val_accuracy: 0.9508\n",
            "Epoch 14/20\n",
            "750/750 [==============================] - 1s 1ms/step - loss: 0.2508 - accuracy: 0.9276 - val_loss: 0.1666 - val_accuracy: 0.9524\n",
            "Epoch 15/20\n",
            "750/750 [==============================] - 1s 1ms/step - loss: 0.2429 - accuracy: 0.9296 - val_loss: 0.1607 - val_accuracy: 0.9544\n",
            "Epoch 16/20\n",
            "750/750 [==============================] - 1s 1ms/step - loss: 0.2360 - accuracy: 0.9308 - val_loss: 0.1569 - val_accuracy: 0.9555\n",
            "Epoch 17/20\n",
            "750/750 [==============================] - 1s 1ms/step - loss: 0.2300 - accuracy: 0.9328 - val_loss: 0.1525 - val_accuracy: 0.9561\n",
            "Epoch 18/20\n",
            "750/750 [==============================] - 1s 1ms/step - loss: 0.2195 - accuracy: 0.9349 - val_loss: 0.1488 - val_accuracy: 0.9569\n",
            "Epoch 19/20\n",
            "750/750 [==============================] - 1s 1ms/step - loss: 0.2143 - accuracy: 0.9361 - val_loss: 0.1457 - val_accuracy: 0.9574\n",
            "Epoch 20/20\n",
            "750/750 [==============================] - 1s 1ms/step - loss: 0.2070 - accuracy: 0.9387 - val_loss: 0.1412 - val_accuracy: 0.9592\n"
          ],
          "name": "stdout"
        }
      ]
    },
    {
      "cell_type": "code",
      "metadata": {
        "id": "Dfve0bi303jK",
        "outputId": "5cae565d-0dda-4da7-965d-f0a0a38e7029"
      },
      "source": [
        "model_3.weights"
      ],
      "execution_count": null,
      "outputs": [
        {
          "output_type": "execute_result",
          "data": {
            "text/plain": [
              "[<tf.Variable 'dense_layer_1/kernel:0' shape=(784, 128) dtype=float32, numpy=\n",
              " array([[ 0.06067535, -0.00380543, -0.06214233, ...,  0.02157439,\n",
              "          0.04195286,  0.04514501],\n",
              "        [-0.04322236, -0.02869448,  0.02693823, ...,  0.06641083,\n",
              "         -0.06718712,  0.03469784],\n",
              "        [ 0.02805324, -0.06966808, -0.0723573 , ..., -0.03950828,\n",
              "          0.06653681, -0.01418317],\n",
              "        ...,\n",
              "        [-0.07337616,  0.04855358, -0.06823213, ...,  0.06529918,\n",
              "         -0.00096107, -0.05665167],\n",
              "        [ 0.01130811,  0.00591951, -0.02681984, ...,  0.06051066,\n",
              "         -0.05141363, -0.00429247],\n",
              "        [-0.02080136, -0.01887209,  0.03213587, ...,  0.07146061,\n",
              "         -0.02785189,  0.04117505]], dtype=float32)>,\n",
              " <tf.Variable 'dense_layer_1/bias:0' shape=(128,) dtype=float32, numpy=\n",
              " array([ 8.93884152e-02, -3.67563628e-02, -2.50535700e-02,  2.59417910e-02,\n",
              "         4.41627093e-02,  5.77833168e-02, -2.77534723e-02,  2.33603157e-02,\n",
              "         7.70248249e-02, -7.01731630e-03, -2.58030407e-02,  2.02486548e-03,\n",
              "         2.38533365e-03, -1.21082768e-01, -2.21658293e-02, -8.55493359e-04,\n",
              "         2.84088627e-02,  9.26354825e-02,  2.28520259e-02,  2.45711263e-02,\n",
              "        -8.70023668e-03,  1.16305137e-02, -5.44314720e-02,  5.73444068e-02,\n",
              "        -6.19699582e-02,  1.63887087e-02,  6.22128253e-04, -5.21813817e-02,\n",
              "        -2.32298430e-02, -1.60520505e-02,  3.69848637e-03, -2.55595222e-02,\n",
              "         1.52843753e-02, -2.97414213e-02,  6.94138780e-02, -5.79467556e-03,\n",
              "         4.15985435e-02,  3.71840298e-02, -8.39725360e-02,  1.23681001e-01,\n",
              "         2.23232098e-02, -1.10155307e-01,  5.01483083e-02,  4.28997017e-02,\n",
              "        -5.44104204e-02, -1.43951550e-02,  3.92108746e-02,  1.10556220e-03,\n",
              "        -4.45615361e-03, -2.89036818e-02,  6.52389824e-02,  5.85023798e-02,\n",
              "         1.70990564e-02, -2.22842898e-02,  7.09075183e-02, -5.47726788e-02,\n",
              "         7.64184594e-02,  8.00700411e-02,  1.46148633e-02, -7.83604011e-02,\n",
              "        -7.70933926e-02, -3.13752890e-02,  7.11556748e-02,  6.95626140e-02,\n",
              "         7.99548253e-02,  1.46143297e-02,  7.65355944e-05,  5.89116924e-02,\n",
              "         6.88332990e-02,  4.40670997e-02,  5.57816997e-02, -3.70295625e-03,\n",
              "        -1.90824866e-02,  3.45489532e-02, -2.48849485e-02, -7.81116411e-02,\n",
              "        -6.48996308e-02, -5.44281341e-02,  3.95543035e-03,  1.90234871e-03,\n",
              "         3.97813134e-02,  2.53708451e-03, -4.96808104e-02, -5.40452451e-02,\n",
              "         5.23123853e-02,  2.89000925e-02, -1.11941963e-01,  1.17728617e-02,\n",
              "         1.40889719e-01,  5.89016452e-03, -2.90897172e-02,  2.65874732e-02,\n",
              "         5.05366698e-02, -1.20723527e-02,  3.29887830e-02,  1.15684085e-01,\n",
              "        -9.86716617e-03, -6.18828796e-02, -1.10691478e-02, -5.64386807e-02,\n",
              "         4.31130864e-02,  8.29146653e-02,  7.30825812e-02,  2.01961715e-02,\n",
              "         6.08000113e-03, -8.05667415e-03, -2.32857862e-03,  2.75266506e-02,\n",
              "        -9.71161481e-03, -4.06219736e-02, -4.21034209e-02,  1.75175704e-02,\n",
              "         2.40415335e-02, -4.20818850e-02,  2.67958362e-02,  1.09551229e-01,\n",
              "        -4.63695526e-02,  1.85780483e-03,  1.00739367e-01,  8.28554407e-02,\n",
              "         8.97580944e-03,  2.83736689e-03,  7.62016550e-02,  5.35860099e-02,\n",
              "         6.50909245e-02, -3.38791385e-02, -3.15290913e-02,  5.58502739e-04],\n",
              "       dtype=float32)>,\n",
              " <tf.Variable 'dense_layer_2/kernel:0' shape=(128, 128) dtype=float32, numpy=\n",
              " array([[ 0.1154296 ,  0.06112077, -0.09575663, ...,  0.16753441,\n",
              "         -0.14791524, -0.02688436],\n",
              "        [ 0.12296568, -0.11032823, -0.10103931, ..., -0.09468888,\n",
              "          0.06947099, -0.12076654],\n",
              "        [-0.08931649,  0.05815952,  0.00518347, ...,  0.03793988,\n",
              "          0.02150282, -0.10019097],\n",
              "        ...,\n",
              "        [ 0.02711394, -0.07137967,  0.12035881, ...,  0.09557852,\n",
              "          0.11073652,  0.09878866],\n",
              "        [ 0.09674699,  0.01671015, -0.02324441, ..., -0.02012282,\n",
              "          0.13484558,  0.09985977],\n",
              "        [ 0.07817318, -0.02004712,  0.03721056, ...,  0.04230162,\n",
              "          0.16730715, -0.05562213]], dtype=float32)>,\n",
              " <tf.Variable 'dense_layer_2/bias:0' shape=(128,) dtype=float32, numpy=\n",
              " array([-0.04500008,  0.00684235,  0.01327886,  0.07011428, -0.01832531,\n",
              "         0.06119061,  0.05803733, -0.00034827, -0.01038275,  0.0526565 ,\n",
              "         0.02232595,  0.05490618,  0.07983374,  0.08203077, -0.01137248,\n",
              "         0.00396772,  0.00142291,  0.0263238 ,  0.00072093,  0.04367856,\n",
              "         0.0335426 , -0.03506923,  0.04793151,  0.01197137,  0.06235401,\n",
              "         0.1146693 , -0.02147387,  0.05579125,  0.09168825, -0.0552788 ,\n",
              "         0.0379167 ,  0.0810025 , -0.02570618,  0.07164385,  0.03834165,\n",
              "         0.03305544,  0.06558932,  0.00764457,  0.01809554,  0.02290806,\n",
              "         0.09397395,  0.02383648, -0.00404605,  0.05244914, -0.01143425,\n",
              "         0.06043084, -0.03182315,  0.04437679,  0.03391432,  0.02235923,\n",
              "        -0.01986024,  0.03887533,  0.0351937 ,  0.12960309,  0.0356772 ,\n",
              "         0.06204141, -0.03837754,  0.07206404, -0.048176  ,  0.00809515,\n",
              "         0.0421681 , -0.01012117,  0.03974074,  0.00571963, -0.01764961,\n",
              "         0.03389762,  0.01654014,  0.02718812,  0.05994313,  0.07976019,\n",
              "         0.02618609,  0.05102843, -0.01756785,  0.03311897,  0.03720014,\n",
              "         0.03279037,  0.03559781,  0.04288739, -0.00211467, -0.00114094,\n",
              "         0.02237437,  0.02929611, -0.01484753,  0.00636566, -0.0016485 ,\n",
              "         0.10351138,  0.00601156,  0.04921557,  0.1285767 ,  0.02229699,\n",
              "         0.00673502, -0.00291324,  0.0579072 ,  0.03001862,  0.04197291,\n",
              "         0.04811491,  0.01304313,  0.03482904,  0.03905033,  0.11203444,\n",
              "         0.03459874,  0.01914302,  0.08183606, -0.00415548,  0.04249202,\n",
              "         0.09581382,  0.04227138,  0.03824851,  0.02025704,  0.05293416,\n",
              "         0.01755116,  0.08309183, -0.00506244,  0.06633107,  0.02639186,\n",
              "         0.08080034,  0.02419758,  0.03230928, -0.00281227, -0.00040103,\n",
              "         0.03482733, -0.00044761,  0.07402381,  0.00923247,  0.05370978,\n",
              "         0.03808355, -0.01857901,  0.05098213], dtype=float32)>,\n",
              " <tf.Variable 'dense_layer_3/kernel:0' shape=(128, 10) dtype=float32, numpy=\n",
              " array([[ 0.07109916, -0.09501003,  0.44577193, ...,  0.18898961,\n",
              "          0.0021921 , -0.22879758],\n",
              "        [-0.02037293,  0.00070247, -0.2654363 , ...,  0.2636268 ,\n",
              "         -0.06051116,  0.24516357],\n",
              "        [-0.25114098,  0.20545018,  0.15305068, ..., -0.12182306,\n",
              "          0.23278572, -0.01248156],\n",
              "        ...,\n",
              "        [-0.04565434,  0.12182026, -0.00200661, ...,  0.40934694,\n",
              "         -0.02080119, -0.19509625],\n",
              "        [-0.23611884, -0.1560671 ,  0.3218952 , ...,  0.00506808,\n",
              "          0.2034011 ,  0.174864  ],\n",
              "        [ 0.06441377, -0.11550418, -0.27522817, ..., -0.04865628,\n",
              "          0.23675327,  0.11997793]], dtype=float32)>,\n",
              " <tf.Variable 'dense_layer_3/bias:0' shape=(10,) dtype=float32, numpy=\n",
              " array([-0.07795122,  0.15343727, -0.16055179, -0.05701632,  0.09441699,\n",
              "         0.09603609, -0.09645456,  0.01564964, -0.07867877,  0.11111216],\n",
              "       dtype=float32)>]"
            ]
          },
          "metadata": {
            "tags": []
          },
          "execution_count": 76
        }
      ]
    },
    {
      "cell_type": "code",
      "metadata": {
        "scrolled": true,
        "id": "ThTyOqc803jL",
        "outputId": "cf9e1897-43b1-45d4-9a78-babf2cd4b38c"
      },
      "source": [
        "import matplotlib.pyplot as plt\n",
        "%matplotlib inline\n",
        "# list all data in training\n",
        "print(training.history.keys())\n",
        "# summarize training for accuracy\n",
        "plt.plot(training.history['accuracy'])\n",
        "plt.plot(training.history['val_accuracy'])\n",
        "plt.title('model accuracy')\n",
        "plt.ylabel('accuracy')\n",
        "plt.xlabel('epoch')\n",
        "plt.legend(['train', 'test'], loc='upper left')\n",
        "plt.show()\n",
        "# summarize traning for loss\n",
        "plt.plot(training.history['loss'])\n",
        "plt.plot(training.history['val_loss'])\n",
        "plt.title('model loss')\n",
        "plt.ylabel('loss')\n",
        "plt.xlabel('epoch')\n",
        "plt.legend(['train', 'test'], loc='upper left')\n",
        "plt.show()"
      ],
      "execution_count": null,
      "outputs": [
        {
          "output_type": "stream",
          "text": [
            "dict_keys(['loss', 'accuracy', 'val_loss', 'val_accuracy'])\n"
          ],
          "name": "stdout"
        },
        {
          "output_type": "display_data",
          "data": {
            "image/png": "[encoded data removed]",
            "text/plain": [
              "<Figure size 432x288 with 1 Axes>"
            ]
          },
          "metadata": {
            "tags": [],
            "needs_background": "light"
          }
        },
        {
          "output_type": "display_data",
          "data": {
            "image/png": "[encoded data removed]",
            "text/plain": [
              "<Figure size 432x288 with 1 Axes>"
            ]
          },
          "metadata": {
            "tags": [],
            "needs_background": "light"
          }
        }
      ]
    },
    {
      "cell_type": "code",
      "metadata": {
        "id": "WNA5PUip03jL",
        "outputId": "cd8bbaf3-7169-496f-ba82-9fb4ef969590"
      },
      "source": [
        "#evaluate model\n",
        "\n",
        "#evaluate the model\n",
        "test_loss, test_acc = model_3.evaluate(X_test, y_test)\n",
        "print()\n",
        "print('Test Loss', test_loss)\n",
        "print()\n",
        "print('Test accuracy:', test_acc)\n"
      ],
      "execution_count": null,
      "outputs": [
        {
          "output_type": "stream",
          "text": [
            "313/313 [==============================] - 0s 756us/step - loss: 0.1371 - accuracy: 0.9584\n",
            "\n",
            "Test Loss 0.13714036345481873\n",
            "\n",
            "Test accuracy: 0.9584000110626221\n"
          ],
          "name": "stdout"
        }
      ]
    },
    {
      "cell_type": "markdown",
      "metadata": {
        "id": "Gv4cDSFu03jL"
      },
      "source": [
        "By increasing epochs with dropouts, accuracy can sure be enhanced. Like:\n",
        "\n",
        "Test Loss 0.08947619050741196\n",
        "\n",
        "Test accuracy: 0.9736999869346619"
      ]
    },
    {
      "cell_type": "markdown",
      "metadata": {
        "id": "t_JtVeDe03jL"
      },
      "source": [
        "The term “dropout” refers to dropping out units (both hidden and visible) in a neural network.\n",
        "\n",
        "Training Phase:\n",
        "Training Phase: For each hidden layer, for each training sample, for each iteration, ignore (zero out) a random fraction, p, of nodes (and corresponding activations).\n",
        "\n",
        "Testing Phase:\n",
        "Use all activations, but reduce them by a factor p (to account for the missing activations during training)."
      ]
    },
    {
      "cell_type": "markdown",
      "metadata": {
        "id": "6cugQEd-03jM"
      },
      "source": [
        "# end of model_3 (Dropout = 30%)"
      ]
    },
    {
      "cell_type": "code",
      "metadata": {
        "id": "DiguKLAp03jM"
      },
      "source": [
        ""
      ],
      "execution_count": null,
      "outputs": []
    },
    {
      "cell_type": "markdown",
      "metadata": {
        "id": "S0Wj3hax03jM"
      },
      "source": [
        "# start of model_3a (Dropout=35%)"
      ]
    },
    {
      "cell_type": "markdown",
      "metadata": {
        "id": "YF3lqZ2903jM"
      },
      "source": [
        "Now, let us change dropout %. Say, we increase that to 35%.\n",
        "\n"
      ]
    },
    {
      "cell_type": "code",
      "metadata": {
        "id": "JWQYSHcp03jM"
      },
      "source": [
        "# Build model\n",
        "\n",
        "model_3a = Sequential()"
      ],
      "execution_count": null,
      "outputs": []
    },
    {
      "cell_type": "code",
      "metadata": {
        "id": "uKMxSLxt03jM"
      },
      "source": [
        "N_hidden = 128 # Neurons per Hidden Layer\n",
        "# Adds a densely-connected layer with 128 units to the model:\n",
        "\n",
        "# we wish to reduce neurons as we go deeper\n",
        "\n",
        "model_3a.add(Dense(128, name='dense_layer_1', input_shape=(784,), activation = 'relu'))\n",
        "model_3a.add(Dropout(0.35))\n",
        "\n",
        "# Adding another dense layer: reduce neurons\n",
        "model_3a.add(Dense(64, name='dense_layer_2', activation='relu'))\n",
        "# After the first layer, one doesn't need to specify the size of the input anymore.\n",
        "model_3a.add(Dropout(0.35))\n",
        "\n",
        "# Add an output layer with 10 output units (10 different classes):\n",
        "model_3a.add(Dense(10, name='dense_layer_3', activation = 'softmax'))\n"
      ],
      "execution_count": null,
      "outputs": []
    },
    {
      "cell_type": "code",
      "metadata": {
        "id": "6j0ki4xF03jN"
      },
      "source": [
        "# Compile model\n",
        "\n",
        "model_3a.compile(optimizer='SGD', \n",
        "              loss='categorical_crossentropy',\n",
        "              metrics=['accuracy'])\n"
      ],
      "execution_count": null,
      "outputs": []
    },
    {
      "cell_type": "code",
      "metadata": {
        "id": "q8O7-lxv03jN",
        "outputId": "117fe699-1c1e-4415-b059-052b04070b5f"
      },
      "source": [
        "# Train model, increasing batch size to 98, reducing epochs to 20 (reduce computing time loss)\n",
        "# -------------------------------------------------------------------------------------------\n",
        "\n",
        "training = model_3a.fit(X_train, y_train, batch_size=98, epochs=20, validation_split=0.2) \n",
        "\n"
      ],
      "execution_count": null,
      "outputs": [
        {
          "output_type": "stream",
          "text": [
            "Epoch 1/20\n",
            "490/490 [==============================] - 1s 2ms/step - loss: 1.6319 - accuracy: 0.4633 - val_loss: 0.8023 - val_accuracy: 0.8313\n",
            "Epoch 2/20\n",
            "490/490 [==============================] - 1s 2ms/step - loss: 0.9179 - accuracy: 0.7100 - val_loss: 0.5001 - val_accuracy: 0.8754\n",
            "Epoch 3/20\n",
            "490/490 [==============================] - 1s 2ms/step - loss: 0.7100 - accuracy: 0.7807 - val_loss: 0.4032 - val_accuracy: 0.8933\n",
            "Epoch 4/20\n",
            "490/490 [==============================] - 1s 2ms/step - loss: 0.6098 - accuracy: 0.8162 - val_loss: 0.3539 - val_accuracy: 0.9020\n",
            "Epoch 5/20\n",
            "490/490 [==============================] - 1s 2ms/step - loss: 0.5514 - accuracy: 0.8335 - val_loss: 0.3248 - val_accuracy: 0.9105\n",
            "Epoch 6/20\n",
            "490/490 [==============================] - 1s 2ms/step - loss: 0.5045 - accuracy: 0.8499 - val_loss: 0.2999 - val_accuracy: 0.9153\n",
            "Epoch 7/20\n",
            "490/490 [==============================] - 1s 2ms/step - loss: 0.4772 - accuracy: 0.8584 - val_loss: 0.2847 - val_accuracy: 0.9188\n",
            "Epoch 8/20\n",
            "490/490 [==============================] - 1s 2ms/step - loss: 0.4473 - accuracy: 0.8690 - val_loss: 0.2699 - val_accuracy: 0.9217\n",
            "Epoch 9/20\n",
            "490/490 [==============================] - 1s 2ms/step - loss: 0.4312 - accuracy: 0.8733 - val_loss: 0.2579 - val_accuracy: 0.9247\n",
            "Epoch 10/20\n",
            "490/490 [==============================] - 1s 2ms/step - loss: 0.4121 - accuracy: 0.8789 - val_loss: 0.2462 - val_accuracy: 0.9273\n",
            "Epoch 11/20\n",
            "490/490 [==============================] - 1s 2ms/step - loss: 0.3928 - accuracy: 0.8848 - val_loss: 0.2386 - val_accuracy: 0.9303\n",
            "Epoch 12/20\n",
            "490/490 [==============================] - 1s 2ms/step - loss: 0.3775 - accuracy: 0.8901 - val_loss: 0.2299 - val_accuracy: 0.9324\n",
            "Epoch 13/20\n",
            "490/490 [==============================] - 1s 2ms/step - loss: 0.3678 - accuracy: 0.8942 - val_loss: 0.2221 - val_accuracy: 0.9348\n",
            "Epoch 14/20\n",
            "490/490 [==============================] - 1s 2ms/step - loss: 0.3541 - accuracy: 0.8978 - val_loss: 0.2137 - val_accuracy: 0.9384\n",
            "Epoch 15/20\n",
            "490/490 [==============================] - 1s 2ms/step - loss: 0.3420 - accuracy: 0.9001 - val_loss: 0.2088 - val_accuracy: 0.9388\n",
            "Epoch 16/20\n",
            "490/490 [==============================] - 1s 2ms/step - loss: 0.3351 - accuracy: 0.9019 - val_loss: 0.2032 - val_accuracy: 0.9408\n",
            "Epoch 17/20\n",
            "490/490 [==============================] - 1s 2ms/step - loss: 0.3241 - accuracy: 0.9051 - val_loss: 0.1984 - val_accuracy: 0.9418\n",
            "Epoch 18/20\n",
            "490/490 [==============================] - 1s 2ms/step - loss: 0.3167 - accuracy: 0.9082 - val_loss: 0.1933 - val_accuracy: 0.9446\n",
            "Epoch 19/20\n",
            "490/490 [==============================] - 1s 2ms/step - loss: 0.3103 - accuracy: 0.9107 - val_loss: 0.1892 - val_accuracy: 0.9453\n",
            "Epoch 20/20\n",
            "490/490 [==============================] - 1s 2ms/step - loss: 0.3061 - accuracy: 0.9121 - val_loss: 0.1840 - val_accuracy: 0.9470\n"
          ],
          "name": "stdout"
        }
      ]
    },
    {
      "cell_type": "code",
      "metadata": {
        "id": "-LtymjFH03jP",
        "outputId": "4858c4b8-958a-4381-dca9-723de4ce1b48"
      },
      "source": [
        "model_3a.weights"
      ],
      "execution_count": null,
      "outputs": [
        {
          "output_type": "execute_result",
          "data": {
            "text/plain": [
              "[<tf.Variable 'dense_layer_1/kernel:0' shape=(784, 128) dtype=float32, numpy=\n",
              " array([[ 0.02404124,  0.04161987, -0.00496086, ..., -0.06643091,\n",
              "          0.01198242, -0.02913174],\n",
              "        [ 0.0165764 ,  0.0698762 , -0.07173432, ...,  0.05205911,\n",
              "          0.06466436,  0.0537767 ],\n",
              "        [-0.01040317,  0.0542303 ,  0.02003713, ...,  0.02211828,\n",
              "         -0.07084484,  0.03661531],\n",
              "        ...,\n",
              "        [ 0.02545427, -0.05430732,  0.04526807, ...,  0.02725939,\n",
              "         -0.02245795,  0.07022319],\n",
              "        [-0.07071772, -0.05455431, -0.0446053 , ..., -0.07359548,\n",
              "          0.06757826, -0.07254626],\n",
              "        [-0.06347579, -0.0689771 , -0.01531547, ...,  0.06054171,\n",
              "         -0.04043281,  0.04863863]], dtype=float32)>,\n",
              " <tf.Variable 'dense_layer_1/bias:0' shape=(128,) dtype=float32, numpy=\n",
              " array([-2.69831624e-02,  5.94095560e-03, -8.97060111e-02, -1.57183036e-02,\n",
              "         5.06228991e-02, -2.58172378e-02, -9.32480861e-03,  9.13301203e-03,\n",
              "         6.12868741e-02, -7.49653727e-02, -2.91859009e-03,  3.01478487e-02,\n",
              "        -5.34995608e-02,  3.13398540e-02,  1.80862993e-02, -6.08279323e-03,\n",
              "         9.86877177e-03,  4.56133373e-02, -1.15464376e-02,  4.49239202e-02,\n",
              "         1.05275728e-01, -9.38555226e-02,  7.89337009e-02, -5.87843843e-02,\n",
              "         3.54144983e-02,  1.44183170e-03,  2.06951071e-02,  1.27108331e-04,\n",
              "        -1.52585119e-01, -7.04126358e-02,  3.07452176e-02, -5.96961416e-02,\n",
              "         1.92367542e-03, -2.02007871e-02,  8.71848166e-02,  3.46692614e-02,\n",
              "         4.03805003e-02,  7.52600208e-02, -4.12143185e-04,  1.67585630e-02,\n",
              "         3.46192997e-03, -1.51528642e-02,  4.17468511e-02, -3.62678943e-03,\n",
              "        -7.61972740e-03,  6.57415614e-02, -2.71326322e-02, -1.78341735e-02,\n",
              "        -2.10370310e-02, -6.80194423e-03, -3.27244098e-03,  2.37644743e-02,\n",
              "         1.66185666e-02, -1.12125143e-01, -9.05185863e-02,  1.85722634e-02,\n",
              "        -4.90874015e-02,  6.55277222e-02, -5.13911024e-02, -1.75729766e-02,\n",
              "        -2.09482014e-03, -1.51338279e-01, -1.49606513e-02,  1.16527095e-01,\n",
              "         6.48606196e-03, -7.03845769e-02,  6.11981116e-02, -2.54137861e-03,\n",
              "         4.58350964e-02,  1.42573630e-02, -1.29040880e-02,  1.00690551e-01,\n",
              "        -1.92215182e-02,  1.41434548e-02, -4.19677235e-02, -3.21829282e-02,\n",
              "        -5.71705699e-02, -7.93645065e-03, -6.84381947e-02,  1.45056359e-02,\n",
              "         1.80000812e-02, -1.27848148e-01, -5.43277375e-02,  4.44830246e-02,\n",
              "         1.02722973e-01, -6.57316670e-02, -9.50734597e-03, -7.40225473e-03,\n",
              "        -2.72513442e-02, -5.49293905e-02,  5.75323291e-02,  7.70742595e-02,\n",
              "        -7.50626205e-03,  2.40718517e-02, -1.33475065e-02,  3.51023301e-02,\n",
              "        -3.34638394e-02,  4.04146640e-03,  4.18621004e-02,  2.62259506e-02,\n",
              "        -6.58576265e-02,  4.93758284e-02,  6.38324469e-02,  2.85605025e-02,\n",
              "         7.70297348e-02, -1.27220061e-02,  5.08559123e-02,  4.38830182e-02,\n",
              "         4.84268814e-02,  1.90704297e-02, -1.28106894e-02,  4.26653512e-02,\n",
              "         8.63210261e-02,  6.63957745e-02, -2.07021199e-02,  2.68584788e-02,\n",
              "         1.03266537e-01,  2.22305451e-02,  6.71860874e-02,  6.44032806e-02,\n",
              "         8.07685032e-02,  8.43971036e-03, -1.36914447e-01,  3.98259386e-02,\n",
              "        -1.65988486e-02,  7.22391829e-02,  2.50195265e-02,  8.55797455e-02],\n",
              "       dtype=float32)>,\n",
              " <tf.Variable 'dense_layer_2/kernel:0' shape=(128, 64) dtype=float32, numpy=\n",
              " array([[-0.0369478 ,  0.03703345, -0.14087339, ..., -0.11882911,\n",
              "         -0.11134704,  0.16793677],\n",
              "        [ 0.16495444,  0.27640855,  0.18602763, ...,  0.11127274,\n",
              "          0.08856962, -0.08034663],\n",
              "        [-0.10702385, -0.05699188, -0.03625663, ..., -0.04338539,\n",
              "          0.04008738,  0.10960975],\n",
              "        ...,\n",
              "        [ 0.20781219,  0.08093264, -0.10805018, ...,  0.19284277,\n",
              "         -0.04275977,  0.18622877],\n",
              "        [ 0.18205778, -0.02118992,  0.13159478, ...,  0.20759937,\n",
              "         -0.0679467 , -0.08365281],\n",
              "        [ 0.25598204, -0.01761255,  0.17871042, ..., -0.05551632,\n",
              "         -0.1419293 , -0.00449104]], dtype=float32)>,\n",
              " <tf.Variable 'dense_layer_2/bias:0' shape=(64,) dtype=float32, numpy=\n",
              " array([ 0.09635071,  0.09138088,  0.10032807,  0.0802937 , -0.00999607,\n",
              "         0.05566347,  0.03974869, -0.02567498,  0.03392332,  0.01354626,\n",
              "         0.07959659,  0.11469673,  0.1556192 , -0.00725134,  0.04934704,\n",
              "         0.08576446,  0.09465171,  0.09907417,  0.02574081,  0.00411677,\n",
              "         0.03571982,  0.02548665,  0.01750269,  0.04291804,  0.04036647,\n",
              "         0.01541064,  0.03203648,  0.03057652,  0.03987391,  0.04235169,\n",
              "         0.02116287,  0.08977551,  0.03852291,  0.08285622,  0.06258258,\n",
              "         0.0055207 ,  0.03228602,  0.02185311,  0.0445106 , -0.00371401,\n",
              "         0.06668149,  0.05549825,  0.0412263 ,  0.06288452,  0.07696628,\n",
              "        -0.00405985,  0.05923257, -0.00618031,  0.10742158, -0.02562218,\n",
              "         0.02997508,  0.13990347,  0.05285594,  0.0893822 ,  0.07780227,\n",
              "         0.03751894,  0.02678244,  0.01920834,  0.04956079,  0.02414438,\n",
              "         0.058787  ,  0.13265029,  0.0103586 ,  0.11817329], dtype=float32)>,\n",
              " <tf.Variable 'dense_layer_3/kernel:0' shape=(64, 10) dtype=float32, numpy=\n",
              " array([[ 2.72258908e-01,  3.09410900e-01, -2.94530660e-01,\n",
              "         -1.91556424e-01,  1.03326865e-01,  2.77850330e-01,\n",
              "          3.69689137e-01, -4.32764590e-02,  3.10380220e-01,\n",
              "         -3.56321931e-01],\n",
              "        [-1.05361007e-01, -2.89357513e-01, -2.90733367e-01,\n",
              "         -1.39995381e-01, -2.46576779e-02, -3.88969123e-01,\n",
              "         -4.07689512e-01,  8.04559365e-02,  8.55526105e-02,\n",
              "          1.17291674e-01],\n",
              "        [-1.18606746e-01,  8.85526314e-02, -3.57317656e-01,\n",
              "          3.71140808e-01,  2.37598822e-01,  2.59770483e-01,\n",
              "          3.08066458e-01, -2.91699529e-01,  1.98830366e-01,\n",
              "          1.60365403e-01],\n",
              "        [ 2.96922833e-01,  3.70078012e-02, -1.40532613e-01,\n",
              "          1.14142746e-01, -4.12603527e-01, -1.37253135e-01,\n",
              "         -4.61530276e-02,  3.45193386e-01, -2.16679037e-01,\n",
              "          1.85604870e-01],\n",
              "        [-2.43502676e-01,  2.14049205e-01, -9.22162645e-03,\n",
              "         -2.97003567e-01, -1.29535645e-01, -2.20256165e-01,\n",
              "          4.52676445e-01,  1.78072318e-01,  1.05909340e-01,\n",
              "         -1.28092363e-01],\n",
              "        [ 4.44798112e-01, -1.42597765e-01,  9.57338959e-02,\n",
              "         -2.50439942e-01,  2.97012806e-01, -4.30145636e-02,\n",
              "          4.22658831e-01, -2.65661061e-01, -1.75378203e-01,\n",
              "         -3.24225873e-01],\n",
              "        [ 1.26170013e-02,  3.21338296e-01, -1.13299549e-01,\n",
              "         -1.82617456e-01, -2.47890919e-01, -1.09793194e-01,\n",
              "          3.56590837e-01, -6.49274364e-02,  1.23565160e-02,\n",
              "          2.27192766e-03],\n",
              "        [-2.09254846e-01, -2.60958761e-01,  4.23254758e-01,\n",
              "         -1.52922824e-01,  8.07697475e-02, -2.86753595e-01,\n",
              "          3.69139224e-01, -1.77300215e-01,  1.08554490e-01,\n",
              "         -3.80799949e-01],\n",
              "        [ 8.90081003e-02, -3.61312777e-01,  4.22718912e-01,\n",
              "          3.18723202e-01, -2.77632803e-01, -3.50039512e-01,\n",
              "         -2.32669234e-01,  1.62252605e-01,  2.58967757e-01,\n",
              "          1.23573564e-01],\n",
              "        [-1.70409650e-01,  2.75664687e-01,  3.46971869e-01,\n",
              "          2.79726833e-01, -3.58690590e-01, -1.76137432e-01,\n",
              "         -1.57353058e-02, -4.55748513e-02,  1.79110497e-01,\n",
              "         -4.61282104e-01],\n",
              "        [-3.97655666e-01, -7.26748705e-02, -3.58326674e-01,\n",
              "         -1.12641059e-01,  2.60028958e-01,  1.82589397e-01,\n",
              "         -1.90665022e-01, -1.31227449e-01,  8.41321773e-04,\n",
              "          1.97437108e-01],\n",
              "        [-2.50726044e-01,  3.85823399e-01,  1.83154225e-01,\n",
              "         -3.93384963e-01, -1.76662683e-01,  1.32280305e-01,\n",
              "          2.11229205e-01, -3.09059203e-01,  2.10033610e-01,\n",
              "         -3.16649199e-01],\n",
              "        [ 1.76951095e-01,  1.36707544e-01,  4.27778475e-02,\n",
              "          3.01252186e-01, -4.18885916e-01,  2.43800700e-01,\n",
              "         -3.54629666e-01,  2.87808329e-01, -2.85134196e-01,\n",
              "          2.70270556e-01],\n",
              "        [-2.68487543e-01,  6.87489063e-02, -1.62393115e-02,\n",
              "          1.73276037e-01, -1.34741262e-01, -3.21973801e-01,\n",
              "         -3.56299132e-01,  9.17848796e-02,  2.50626951e-01,\n",
              "         -3.43456566e-01],\n",
              "        [-3.02814901e-01, -2.18665794e-01,  3.17562461e-01,\n",
              "          1.09780811e-01,  3.77951682e-01,  7.58984685e-02,\n",
              "          2.79472649e-01, -2.73180783e-01, -1.52394772e-01,\n",
              "         -1.54497862e-01],\n",
              "        [-3.88776332e-01,  1.51871368e-01, -2.83265114e-01,\n",
              "          1.47688851e-01, -2.82040209e-01,  2.05758616e-01,\n",
              "          1.65251523e-01, -2.59272873e-01, -9.86117646e-02,\n",
              "         -2.05954999e-01],\n",
              "        [ 2.21461132e-01,  1.20126359e-01, -3.09342980e-01,\n",
              "          2.51722097e-01,  1.94706768e-01,  7.75122717e-02,\n",
              "         -2.55621880e-01,  2.61538506e-01, -3.19744110e-01,\n",
              "         -2.18089283e-01],\n",
              "        [ 3.81331861e-01, -3.86395723e-01, -3.26042436e-02,\n",
              "         -2.92067051e-01,  1.66388959e-01,  3.12907189e-01,\n",
              "         -1.70280803e-02,  1.16931140e-01,  3.55585754e-01,\n",
              "          1.58675894e-01],\n",
              "        [ 2.80106753e-01,  4.34368402e-02, -1.73185542e-01,\n",
              "         -2.79735118e-01, -1.07464999e-01, -1.98323131e-01,\n",
              "          3.22586358e-01,  5.41157052e-02, -1.72461048e-01,\n",
              "         -2.49859110e-01],\n",
              "        [-2.59049088e-02,  1.32087290e-01, -2.01382890e-01,\n",
              "          1.07906997e-01, -1.30917281e-01,  1.01726785e-01,\n",
              "         -2.18389660e-01,  1.31097421e-01, -2.15985447e-01,\n",
              "          1.73810109e-01],\n",
              "        [ 1.22114889e-01, -2.04771340e-01,  1.54205695e-01,\n",
              "         -3.44246030e-01,  2.83546269e-01, -2.39120841e-01,\n",
              "          3.84075135e-01, -4.05344635e-01,  2.88339287e-01,\n",
              "          2.39267677e-01],\n",
              "        [-3.42469037e-01, -2.46139675e-01,  1.42343655e-01,\n",
              "          1.85593441e-02, -1.49966165e-01, -2.44459584e-02,\n",
              "         -2.21104607e-01,  3.97272825e-01, -8.35557207e-02,\n",
              "          1.00064963e-01],\n",
              "        [-7.33651444e-02, -1.43065244e-01, -2.10472226e-01,\n",
              "          2.29394928e-01, -2.73284882e-01, -2.82915115e-01,\n",
              "         -4.08792973e-01, -2.99636394e-01,  2.20440537e-01,\n",
              "          3.30178142e-01],\n",
              "        [-3.65936309e-01,  3.61458422e-03,  1.61529705e-02,\n",
              "         -1.92681793e-02,  1.32944971e-01, -5.74882813e-02,\n",
              "          2.20287859e-01,  2.56841362e-01, -3.56736958e-01,\n",
              "         -6.57697693e-02],\n",
              "        [ 1.99773729e-01,  4.65469733e-02,  2.72193730e-01,\n",
              "         -1.29515365e-01, -1.96233001e-02, -3.07849169e-01,\n",
              "         -2.62178570e-01,  7.63349086e-02, -9.11215544e-02,\n",
              "         -1.35884341e-02],\n",
              "        [ 2.53311098e-01, -3.69742364e-01,  1.12626657e-01,\n",
              "         -1.92909352e-02,  7.98626840e-02,  1.05610333e-01,\n",
              "          2.95291960e-01, -2.50073910e-01, -2.28454068e-01,\n",
              "          1.70516595e-01],\n",
              "        [ 1.86034560e-01, -2.07730681e-01,  3.89085747e-02,\n",
              "         -1.90455206e-02, -1.60818294e-01,  1.04021445e-01,\n",
              "         -9.50358436e-03,  1.20320372e-01,  3.76990177e-02,\n",
              "         -2.15120047e-01],\n",
              "        [ 3.39584321e-01, -1.69027925e-01, -1.60755575e-01,\n",
              "         -3.21793526e-01,  3.13716114e-01, -2.55644470e-01,\n",
              "         -1.84022725e-01, -2.95048207e-01,  7.01920539e-02,\n",
              "          2.24069729e-01],\n",
              "        [-4.82964873e-01,  2.56945997e-01,  2.94841588e-01,\n",
              "         -1.44779263e-02, -7.58049861e-02, -8.51160511e-02,\n",
              "          2.10988238e-01, -1.53353408e-01,  2.27748886e-01,\n",
              "         -3.87806535e-01],\n",
              "        [-3.71962726e-01, -2.09040046e-01,  6.91962941e-03,\n",
              "          1.66512832e-01,  3.09038073e-01, -2.07786784e-01,\n",
              "          8.20887536e-02,  2.31223598e-01, -3.37368399e-01,\n",
              "          2.83422172e-01],\n",
              "        [-1.89460367e-02, -1.15102455e-01, -2.49775380e-01,\n",
              "          4.85262275e-02, -7.17288405e-02, -1.75766796e-01,\n",
              "          1.16858192e-01,  3.09488267e-01,  3.67527455e-02,\n",
              "         -1.81047007e-01],\n",
              "        [-2.16382056e-01,  4.00989085e-01, -2.36257538e-01,\n",
              "         -4.05861318e-01, -1.61129877e-01,  1.13184020e-01,\n",
              "         -2.56066054e-01,  3.58332783e-01, -6.06802776e-02,\n",
              "         -2.55399197e-01],\n",
              "        [-3.66994411e-01, -2.54452825e-01, -1.32366404e-01,\n",
              "         -1.58018656e-02,  3.85900438e-01, -2.82399863e-01,\n",
              "          6.52353391e-02,  3.86177957e-01, -2.09892184e-01,\n",
              "          3.84799033e-01],\n",
              "        [-2.52193034e-01, -1.40558571e-01,  6.66637197e-02,\n",
              "         -4.04014647e-01,  5.21126762e-02,  9.43031833e-02,\n",
              "          1.97984174e-01, -4.15092707e-01, -1.18910782e-01,\n",
              "          1.55328587e-01],\n",
              "        [ 9.14327726e-02, -3.51275831e-01,  3.30119461e-01,\n",
              "         -2.03464940e-01,  3.86373997e-01,  4.29794043e-02,\n",
              "         -7.64130568e-03,  4.48235393e-01,  1.40647054e-01,\n",
              "          3.66801620e-01],\n",
              "        [-5.76122180e-02, -4.14083987e-01,  5.27359452e-03,\n",
              "         -1.92350715e-01,  2.92650700e-01, -3.00980002e-01,\n",
              "         -1.75022349e-01,  1.09037668e-01,  1.65692315e-01,\n",
              "          2.99032062e-01],\n",
              "        [-1.88307777e-01,  2.96620667e-01, -4.74000685e-02,\n",
              "         -6.11637272e-02, -3.84520404e-02,  2.81166047e-01,\n",
              "          3.53380330e-02,  1.44704834e-01, -7.53921792e-02,\n",
              "          1.21102117e-01],\n",
              "        [ 1.35212511e-01,  3.34380895e-01,  4.29910243e-01,\n",
              "          3.67816538e-01, -4.48728025e-01, -2.48130962e-01,\n",
              "          1.56677887e-01,  3.43096554e-01, -1.79217443e-01,\n",
              "         -1.93519041e-01],\n",
              "        [ 1.77546486e-01,  4.29738641e-01, -9.88470167e-02,\n",
              "         -4.53406051e-02, -2.05715746e-01, -2.02643126e-01,\n",
              "          1.87359646e-01, -1.06565781e-01, -9.14297849e-02,\n",
              "         -2.54895508e-01],\n",
              "        [ 2.96936870e-01,  6.25845045e-02,  3.24093610e-01,\n",
              "         -1.09032236e-01, -1.51299350e-02, -2.57375866e-01,\n",
              "          3.24241221e-01, -8.38718340e-02, -3.27749372e-01,\n",
              "         -5.78478314e-02],\n",
              "        [ 2.43119881e-01, -3.76896411e-01,  3.27213407e-01,\n",
              "          1.92930177e-01, -3.90642792e-01,  1.88775405e-01,\n",
              "         -2.54140675e-01, -1.54069409e-01,  1.74233794e-01,\n",
              "         -2.54676372e-01],\n",
              "        [ 2.70076771e-03,  1.25813529e-01, -1.41139716e-01,\n",
              "          1.66512445e-01,  2.36416876e-01, -1.68859899e-01,\n",
              "         -4.40319747e-01,  3.80316556e-01, -2.42881149e-01,\n",
              "         -4.39010337e-02],\n",
              "        [-1.87767625e-01, -1.66439787e-01, -3.27506185e-01,\n",
              "         -8.99356827e-02, -2.39697546e-01,  5.64310133e-01,\n",
              "          9.48939100e-02, -4.25409933e-04, -5.80998063e-02,\n",
              "         -1.99450627e-01],\n",
              "        [-1.73157543e-01, -5.55724725e-02, -9.97869577e-03,\n",
              "          3.52851860e-02,  4.00301903e-01,  2.69941360e-01,\n",
              "          3.69701236e-01, -2.48978231e-02, -1.92709923e-01,\n",
              "         -4.80401188e-01],\n",
              "        [ 2.16592163e-01,  1.66004971e-01, -1.28928438e-01,\n",
              "         -1.25659749e-01, -4.27575648e-01, -1.56922564e-01,\n",
              "         -4.65673059e-01,  4.03260857e-01,  3.16426218e-01,\n",
              "          3.48875880e-01],\n",
              "        [-2.35769451e-01,  9.92888510e-02, -2.97600422e-02,\n",
              "          3.44862163e-01,  3.54812443e-02, -2.47722968e-01,\n",
              "         -1.17117032e-01, -1.05154701e-01,  2.25031883e-01,\n",
              "          4.39349800e-01],\n",
              "        [ 1.50050297e-01, -2.41437867e-01,  3.29657388e-03,\n",
              "          5.42217731e-01, -1.77177566e-03,  4.62133467e-01,\n",
              "         -2.32203200e-01,  5.16432486e-02, -3.82510483e-01,\n",
              "          6.23510173e-03],\n",
              "        [ 9.66478884e-02, -1.66672304e-01, -1.63872585e-01,\n",
              "          2.47564688e-01,  2.24038884e-01,  9.51600894e-02,\n",
              "         -1.00501351e-01, -1.94969654e-01,  8.60309899e-02,\n",
              "          2.74011511e-02],\n",
              "        [ 1.88299865e-01, -3.88396680e-01, -6.57973960e-02,\n",
              "          5.47553226e-02, -4.58256572e-01,  2.30737343e-01,\n",
              "         -1.70461580e-01, -3.84062588e-01,  2.10962176e-01,\n",
              "          1.41624525e-01],\n",
              "        [ 2.45265052e-01,  2.51648631e-02,  1.03346622e-02,\n",
              "          2.59488195e-01,  2.00578161e-02, -2.42988721e-01,\n",
              "          1.46765886e-02, -6.54726177e-02,  2.49280125e-01,\n",
              "         -1.16621785e-01],\n",
              "        [-7.39389583e-02, -2.49220967e-01,  4.75792915e-01,\n",
              "         -1.62881374e-01,  3.43843669e-01,  1.06660977e-01,\n",
              "         -2.05181047e-01, -7.58001357e-02, -1.92374453e-01,\n",
              "          2.18823090e-01],\n",
              "        [-3.65979880e-01,  2.96327025e-01, -3.35710168e-01,\n",
              "         -2.85570443e-01,  1.77155733e-01,  1.82437748e-01,\n",
              "         -3.70487064e-01, -3.17711562e-01,  1.74478754e-01,\n",
              "          1.68511540e-01],\n",
              "        [ 3.28993261e-01, -1.43306628e-01,  8.90164301e-02,\n",
              "         -1.55316383e-01, -2.50558227e-01,  3.50234121e-01,\n",
              "          3.84241827e-02, -1.26663297e-01, -1.44399926e-02,\n",
              "         -2.03985423e-02],\n",
              "        [-2.15600371e-01,  3.86958778e-01,  2.26606563e-01,\n",
              "          3.33021492e-01, -1.70935348e-01, -6.79055080e-02,\n",
              "         -2.99630612e-01,  3.34152192e-01, -9.97695103e-02,\n",
              "         -1.30259961e-01],\n",
              "        [ 1.24317400e-01,  3.65920782e-01, -1.56904161e-01,\n",
              "         -2.11822987e-01,  3.25071275e-01,  2.35732183e-01,\n",
              "         -1.05255924e-01, -2.38571152e-01,  4.50562268e-01,\n",
              "         -3.67212057e-01],\n",
              "        [-3.41524720e-01, -2.12613776e-01, -2.27919564e-01,\n",
              "          1.56294316e-01, -8.73310938e-02,  2.89543450e-01,\n",
              "          7.94996470e-02, -2.31941506e-01,  3.83620918e-01,\n",
              "         -1.93187013e-01],\n",
              "        [-4.39531714e-01,  4.26752925e-01,  4.08174872e-01,\n",
              "         -2.60361612e-01, -9.35982466e-02, -4.20082480e-01,\n",
              "          2.12372541e-01,  3.21020365e-01,  1.50144175e-01,\n",
              "          1.25835046e-01],\n",
              "        [-1.37380630e-01,  2.63353914e-01,  1.49268001e-01,\n",
              "          3.43300909e-01, -1.78346545e-01,  9.38386004e-03,\n",
              "         -4.63547140e-01, -1.56949133e-01,  2.57282436e-01,\n",
              "         -1.11537956e-01],\n",
              "        [-2.68070757e-01,  1.80671260e-01, -3.88078690e-02,\n",
              "         -1.45307556e-01,  4.54932630e-01, -5.96600398e-02,\n",
              "         -1.16203628e-01,  3.55343103e-01, -3.00523162e-01,\n",
              "          4.46207732e-01],\n",
              "        [ 3.15359384e-01, -4.63482827e-01,  2.80899495e-01,\n",
              "          2.76253611e-01, -3.28806370e-01,  2.75413066e-01,\n",
              "         -1.12051778e-01, -2.97786087e-01,  2.27772832e-01,\n",
              "         -2.08731458e-01],\n",
              "        [ 4.04489219e-01, -4.10322577e-01, -1.52044863e-01,\n",
              "          5.58387525e-02, -3.25317800e-01,  3.36174577e-01,\n",
              "          3.64865839e-01,  9.32759419e-02, -1.34836584e-01,\n",
              "         -2.26040199e-01],\n",
              "        [-1.95029199e-01,  5.19877613e-01, -3.76247853e-01,\n",
              "          2.40176424e-01,  1.24150850e-01,  3.37412924e-01,\n",
              "          7.48865306e-02, -1.63215309e-01,  2.03508645e-01,\n",
              "          1.21529423e-01],\n",
              "        [-3.97176594e-01, -3.65548730e-01, -2.19264969e-01,\n",
              "          3.10946763e-01,  2.02381447e-01,  2.82107860e-01,\n",
              "         -2.80350864e-01, -2.41844624e-01,  3.19363207e-01,\n",
              "          3.34769189e-01],\n",
              "        [ 4.15087730e-01, -2.71408856e-01, -1.25907689e-01,\n",
              "         -4.45897207e-02,  1.91450462e-01,  2.56028146e-01,\n",
              "          1.77474245e-01,  2.67453909e-01, -2.99438417e-01,\n",
              "          1.22249715e-01]], dtype=float32)>,\n",
              " <tf.Variable 'dense_layer_3/bias:0' shape=(10,) dtype=float32, numpy=\n",
              " array([-0.15022478,  0.05460736,  0.05308073,  0.04157102, -0.07471848,\n",
              "         0.2215777 , -0.15829556,  0.00349928,  0.00351075,  0.00539208],\n",
              "       dtype=float32)>]"
            ]
          },
          "metadata": {
            "tags": []
          },
          "execution_count": 83
        }
      ]
    },
    {
      "cell_type": "code",
      "metadata": {
        "id": "rE0rVu9s03jP",
        "outputId": "36e6cee4-1447-44c8-8014-4c658c207862"
      },
      "source": [
        "import matplotlib.pyplot as plt\n",
        "%matplotlib inline\n",
        "# list all data in training\n",
        "print(training.history.keys())\n",
        "# summarize training for accuracy\n",
        "plt.plot(training.history['accuracy'])\n",
        "plt.plot(training.history['val_accuracy'])\n",
        "plt.title('model accuracy')\n",
        "plt.ylabel('accuracy')\n",
        "plt.xlabel('epoch')\n",
        "plt.legend(['train', 'test'], loc='upper left')\n",
        "plt.show()\n",
        "# summarize traning for loss\n",
        "plt.plot(training.history['loss'])\n",
        "plt.plot(training.history['val_loss'])\n",
        "plt.title('model loss')\n",
        "plt.ylabel('loss')\n",
        "plt.xlabel('epoch')\n",
        "plt.legend(['train', 'test'], loc='upper left')\n",
        "plt.show()"
      ],
      "execution_count": null,
      "outputs": [
        {
          "output_type": "stream",
          "text": [
            "dict_keys(['loss', 'accuracy', 'val_loss', 'val_accuracy'])\n"
          ],
          "name": "stdout"
        },
        {
          "output_type": "display_data",
          "data": {
            "image/png": "[encoded data removed]",
            "text/plain": [
              "<Figure size 432x288 with 1 Axes>"
            ]
          },
          "metadata": {
            "tags": [],
            "needs_background": "light"
          }
        },
        {
          "output_type": "display_data",
          "data": {
            "image/png": "[encoded data removed]",
            "text/plain": [
              "<Figure size 432x288 with 1 Axes>"
            ]
          },
          "metadata": {
            "tags": [],
            "needs_background": "light"
          }
        }
      ]
    },
    {
      "cell_type": "code",
      "metadata": {
        "id": "5Ynab2RJ03jP",
        "outputId": "bc8564c9-d5e7-4da3-d2a0-39d36ceaa481"
      },
      "source": [
        "#evaluate model\n",
        "\n",
        "#evaluate the model\n",
        "test_loss, test_acc = model_3a.evaluate(X_test, y_test)\n",
        "print()\n",
        "print('Test Loss', test_loss)\n",
        "print()\n",
        "print('Test accuracy:', test_acc)"
      ],
      "execution_count": null,
      "outputs": [
        {
          "output_type": "stream",
          "text": [
            "313/313 [==============================] - 0s 748us/step - loss: 0.1835 - accuracy: 0.9465\n",
            "\n",
            "Test Loss 0.1834847331047058\n",
            "\n",
            "Test accuracy: 0.9465000033378601\n"
          ],
          "name": "stdout"
        }
      ]
    },
    {
      "cell_type": "markdown",
      "metadata": {
        "id": "IDfTr7EW03jP"
      },
      "source": [
        "By dropping 35%, Loss has increased & accuracy has decreased"
      ]
    },
    {
      "cell_type": "markdown",
      "metadata": {
        "id": "d0DitGDN03jP"
      },
      "source": [
        "# end of model_3a (Dropout = 35%)"
      ]
    },
    {
      "cell_type": "code",
      "metadata": {
        "id": "c0Sq1upr03jQ"
      },
      "source": [
        ""
      ],
      "execution_count": null,
      "outputs": []
    },
    {
      "cell_type": "markdown",
      "metadata": {
        "id": "BqqFvVC303jQ"
      },
      "source": [
        "# start of model_3b (Dropout = 25%)"
      ]
    },
    {
      "cell_type": "markdown",
      "metadata": {
        "id": "2tMnDo6T03jQ"
      },
      "source": [
        "Let's try 25%"
      ]
    },
    {
      "cell_type": "code",
      "metadata": {
        "id": "u3buPEqX03jQ"
      },
      "source": [
        "# Build model\n",
        "\n",
        "model_3b = Sequential()"
      ],
      "execution_count": null,
      "outputs": []
    },
    {
      "cell_type": "code",
      "metadata": {
        "id": "VOPiS1d103jQ"
      },
      "source": [
        "N_hidden = 128 # Neurons per Hidden Layer\n",
        "# Adds a densely-connected layer with 128 units to the model:\n",
        "\n",
        "model_3b.add(Dense(128, name='dense_layer_1', input_shape=(784,), activation = 'relu'))\n",
        "model_3b.add(Dropout(0.25))\n",
        "\n",
        "# Adding another dense layer:\n",
        "model_3b.add(Dense(64, name='dense_layer_2', activation='relu'))\n",
        "# After the first layer, one doesn't need to specify the size of the input anymore.\n",
        "model_3b.add(Dropout(0.25))\n",
        "\n",
        "# Add an output layer with 10 output units (10 different classes):\n",
        "model_3b.add(Dense(10, name='dense_layer_3', activation = 'softmax'))"
      ],
      "execution_count": null,
      "outputs": []
    },
    {
      "cell_type": "code",
      "metadata": {
        "id": "MXh9fhOv03jR"
      },
      "source": [
        "# Compile model\n",
        "\n",
        "model_3b.compile(optimizer='SGD', \n",
        "              loss='categorical_crossentropy',\n",
        "              metrics=['accuracy'])"
      ],
      "execution_count": null,
      "outputs": []
    },
    {
      "cell_type": "code",
      "metadata": {
        "id": "4-0EYCg503jR",
        "outputId": "9274927e-4276-4187-b4de-bb5a087b8f9d"
      },
      "source": [
        "# Train model\n",
        "\n",
        "training = model_3b.fit(X_train, y_train, batch_size=98, epochs=20, validation_split=0.2) \n",
        "\n"
      ],
      "execution_count": null,
      "outputs": [
        {
          "output_type": "stream",
          "text": [
            "Epoch 1/20\n",
            "490/490 [==============================] - 1s 2ms/step - loss: 1.5440 - accuracy: 0.5137 - val_loss: 0.6912 - val_accuracy: 0.8456\n",
            "Epoch 2/20\n",
            "490/490 [==============================] - 1s 2ms/step - loss: 0.7674 - accuracy: 0.7674 - val_loss: 0.4453 - val_accuracy: 0.8842\n",
            "Epoch 3/20\n",
            "490/490 [==============================] - 1s 2ms/step - loss: 0.6015 - accuracy: 0.8179 - val_loss: 0.3692 - val_accuracy: 0.8979\n",
            "Epoch 4/20\n",
            "490/490 [==============================] - 1s 2ms/step - loss: 0.5214 - accuracy: 0.8444 - val_loss: 0.3284 - val_accuracy: 0.9080\n",
            "Epoch 5/20\n",
            "490/490 [==============================] - 1s 2ms/step - loss: 0.4773 - accuracy: 0.8586 - val_loss: 0.3023 - val_accuracy: 0.9137\n",
            "Epoch 6/20\n",
            "490/490 [==============================] - 1s 2ms/step - loss: 0.4369 - accuracy: 0.8715 - val_loss: 0.2808 - val_accuracy: 0.9187\n",
            "Epoch 7/20\n",
            "490/490 [==============================] - 1s 2ms/step - loss: 0.4120 - accuracy: 0.8803 - val_loss: 0.2646 - val_accuracy: 0.9233\n",
            "Epoch 8/20\n",
            "490/490 [==============================] - 1s 2ms/step - loss: 0.3867 - accuracy: 0.8874 - val_loss: 0.2523 - val_accuracy: 0.9263\n",
            "Epoch 9/20\n",
            "490/490 [==============================] - 1s 2ms/step - loss: 0.3660 - accuracy: 0.8943 - val_loss: 0.2384 - val_accuracy: 0.9308\n",
            "Epoch 10/20\n",
            "490/490 [==============================] - 1s 2ms/step - loss: 0.3496 - accuracy: 0.8981 - val_loss: 0.2290 - val_accuracy: 0.9329\n",
            "Epoch 11/20\n",
            "490/490 [==============================] - 1s 2ms/step - loss: 0.3341 - accuracy: 0.9044 - val_loss: 0.2194 - val_accuracy: 0.9361\n",
            "Epoch 12/20\n",
            "490/490 [==============================] - 1s 2ms/step - loss: 0.3210 - accuracy: 0.9065 - val_loss: 0.2098 - val_accuracy: 0.9389\n",
            "Epoch 13/20\n",
            "490/490 [==============================] - 1s 2ms/step - loss: 0.3116 - accuracy: 0.9082 - val_loss: 0.2036 - val_accuracy: 0.9412\n",
            "Epoch 14/20\n",
            "490/490 [==============================] - 1s 2ms/step - loss: 0.2993 - accuracy: 0.9128 - val_loss: 0.1970 - val_accuracy: 0.9431\n",
            "Epoch 15/20\n",
            "490/490 [==============================] - 1s 2ms/step - loss: 0.2909 - accuracy: 0.9151 - val_loss: 0.1906 - val_accuracy: 0.9444\n",
            "Epoch 16/20\n",
            "490/490 [==============================] - 1s 2ms/step - loss: 0.2837 - accuracy: 0.9177 - val_loss: 0.1861 - val_accuracy: 0.9456\n",
            "Epoch 17/20\n",
            "490/490 [==============================] - 1s 2ms/step - loss: 0.2728 - accuracy: 0.9224 - val_loss: 0.1819 - val_accuracy: 0.9470\n",
            "Epoch 18/20\n",
            "490/490 [==============================] - 1s 2ms/step - loss: 0.2669 - accuracy: 0.9229 - val_loss: 0.1760 - val_accuracy: 0.9492\n",
            "Epoch 19/20\n",
            "490/490 [==============================] - 1s 2ms/step - loss: 0.2624 - accuracy: 0.9234 - val_loss: 0.1723 - val_accuracy: 0.9502\n",
            "Epoch 20/20\n",
            "490/490 [==============================] - 1s 2ms/step - loss: 0.2539 - accuracy: 0.9264 - val_loss: 0.1687 - val_accuracy: 0.9507\n"
          ],
          "name": "stdout"
        }
      ]
    },
    {
      "cell_type": "code",
      "metadata": {
        "id": "gAxoNH0H03jR",
        "outputId": "090cfb54-897c-4fe8-8321-edebfe35f346"
      },
      "source": [
        "import matplotlib.pyplot as plt\n",
        "%matplotlib inline\n",
        "# list all data in training\n",
        "print(training.history.keys())\n",
        "# summarize training for accuracy\n",
        "plt.plot(training.history['accuracy'])\n",
        "plt.plot(training.history['val_accuracy'])\n",
        "plt.title('model accuracy')\n",
        "plt.ylabel('accuracy')\n",
        "plt.xlabel('epoch')\n",
        "plt.legend(['train', 'test'], loc='upper left')\n",
        "plt.show()\n",
        "# summarize traning for loss\n",
        "plt.plot(training.history['loss'])\n",
        "plt.plot(training.history['val_loss'])\n",
        "plt.title('model loss')\n",
        "plt.ylabel('loss')\n",
        "plt.xlabel('epoch')\n",
        "plt.legend(['train', 'test'], loc='upper left')\n",
        "plt.show()"
      ],
      "execution_count": null,
      "outputs": [
        {
          "output_type": "stream",
          "text": [
            "dict_keys(['loss', 'accuracy', 'val_loss', 'val_accuracy'])\n"
          ],
          "name": "stdout"
        },
        {
          "output_type": "display_data",
          "data": {
            "image/png": "[encoded data removed]",
            "text/plain": [
              "<Figure size 432x288 with 1 Axes>"
            ]
          },
          "metadata": {
            "tags": [],
            "needs_background": "light"
          }
        },
        {
          "output_type": "display_data",
          "data": {
            "image/png": "[encoded data removed]",
            "text/plain": [
              "<Figure size 432x288 with 1 Axes>"
            ]
          },
          "metadata": {
            "tags": [],
            "needs_background": "light"
          }
        }
      ]
    },
    {
      "cell_type": "code",
      "metadata": {
        "id": "kHJZoL1u03jR",
        "outputId": "3dd53456-acab-40e2-a277-bd30d7b4ce27"
      },
      "source": [
        "#evaluate model\n",
        "\n",
        "#evaluate the model\n",
        "test_loss, test_acc = model_3b.evaluate(X_test, y_test)\n",
        "print()\n",
        "print('Test Loss', test_loss)\n",
        "print()\n",
        "print('Test accuracy:', test_acc)"
      ],
      "execution_count": null,
      "outputs": [
        {
          "output_type": "stream",
          "text": [
            "  1/313 [..............................] - ETA: 0s - loss: 0.1392 - accuracy: 0.9688WARNING:tensorflow:Callbacks method `on_test_batch_end` is slow compared to the batch time (batch time: 0.0000s vs `on_test_batch_end` time: 0.0010s). Check your callbacks.\n",
            "313/313 [==============================] - 0s 774us/step - loss: 0.1674 - accuracy: 0.9502\n",
            "\n",
            "Test Loss 0.1674097180366516\n",
            "\n",
            "Test accuracy: 0.9502000212669373\n"
          ],
          "name": "stdout"
        }
      ]
    },
    {
      "cell_type": "markdown",
      "metadata": {
        "id": "5aCvYdpp03jS"
      },
      "source": [
        "Now, loss has increased and accuracy also incrreased.\n",
        "\n",
        "Compare:\n",
        "Test Loss 0.1834847331047058\n",
        "\n",
        "Test accuracy: 0.9465000033378601"
      ]
    },
    {
      "cell_type": "markdown",
      "metadata": {
        "id": "Zkekv9Ho03jS"
      },
      "source": [
        "# end of model_3b (Dropout=25%)"
      ]
    },
    {
      "cell_type": "code",
      "metadata": {
        "id": "D94KnJmD03jS"
      },
      "source": [
        ""
      ],
      "execution_count": null,
      "outputs": []
    },
    {
      "cell_type": "code",
      "metadata": {
        "id": "guPReqOf03jS"
      },
      "source": [
        ""
      ],
      "execution_count": null,
      "outputs": []
    },
    {
      "cell_type": "code",
      "metadata": {
        "id": "IG63GPpn03jS"
      },
      "source": [
        ""
      ],
      "execution_count": null,
      "outputs": []
    },
    {
      "cell_type": "code",
      "metadata": {
        "id": "1nCXL9Yn03jT"
      },
      "source": [
        ""
      ],
      "execution_count": null,
      "outputs": []
    },
    {
      "cell_type": "code",
      "metadata": {
        "id": "5CZga8iC03jT"
      },
      "source": [
        ""
      ],
      "execution_count": null,
      "outputs": []
    },
    {
      "cell_type": "markdown",
      "metadata": {
        "id": "iBQfFk2Z03jT"
      },
      "source": [
        "# start of model_4 (more hidden layers)"
      ]
    },
    {
      "cell_type": "markdown",
      "metadata": {
        "id": "MK6oa6MR03jT"
      },
      "source": [
        "### What is the effect of adding more hidden layers to the network?"
      ]
    },
    {
      "cell_type": "markdown",
      "metadata": {
        "id": "znTSsA1603jT"
      },
      "source": [
        "Num Hidden Layers\tResult:\n",
        "\n",
        "Problems that require more than two hidden layers were rare prior to deep learning. Two or fewer layers will often suffice with simple data sets. However, with complex datasets involving time-series or computer vision, additional layers can be helpful. The following table summarizes the capabilities of several common layer architectures.\n",
        "    \n",
        "none\tOnly capable of representing linear separable functions or decisions.\n",
        "\n",
        "1\tCan approximate any function that contains a continuous mapping from one finite space to another.\n",
        "\n",
        "2\tCan represent an arbitrary decision boundary to arbitrary accuracy with rational activation functions and can approximate any smooth mapping to any accuracy.\n",
        "\n",
        "2\tAdditional layers can learn complex representations (sort of automatic feature engineering) for layer layers.\n",
        "\n",
        "\n"
      ]
    },
    {
      "cell_type": "markdown",
      "metadata": {
        "id": "I8YkJI2r03jT"
      },
      "source": [
        "#### Effect of number of   Neurons in Hidden Layers"
      ]
    },
    {
      "cell_type": "markdown",
      "metadata": {
        "id": "2rV_dKn103jU"
      },
      "source": [
        "There are rule-of-thumb methods for determining an acceptable number of neurons to use in the hidden layers, such as the following:\n",
        "\n",
        "The number of hidden neurons should be between the size of the input layer and the size of the output layer.\n",
        "\n",
        "The number of hidden neurons should be 2/3 the size of the input layer, plus the size of the output layer.\n",
        "\n",
        "The number of hidden neurons should be less than twice the size of the input layer."
      ]
    },
    {
      "cell_type": "code",
      "metadata": {
        "id": "iqgtIkIV03jV",
        "outputId": "11ed8253-d339-460f-d9ed-8273c7cfdfbb"
      },
      "source": [
        "num_neurons_input_layer = 28*28\n",
        "print(num_neurons_input_layer)\n",
        "temp = (2/3)*764 \n",
        "print(temp)"
      ],
      "execution_count": null,
      "outputs": [
        {
          "output_type": "stream",
          "text": [
            "784\n",
            "509.3333333333333\n"
          ],
          "name": "stdout"
        }
      ]
    },
    {
      "cell_type": "code",
      "metadata": {
        "id": "b35Gm8r503jV"
      },
      "source": [
        "num_neurons_output_layer = 10"
      ],
      "execution_count": null,
      "outputs": []
    },
    {
      "cell_type": "markdown",
      "metadata": {
        "id": "4SoO-AlU03jV"
      },
      "source": [
        "number of hidden neurons can an arbitrary number between 10 and 784.\n",
        "\n",
        "Or, (2/3)* 784 + 10 = approx 520"
      ]
    },
    {
      "cell_type": "markdown",
      "metadata": {
        "id": "XVrGttyr03jV"
      },
      "source": [
        "Too many neurons in hidden layers will lead to overfitting. So, I still stick to 128."
      ]
    },
    {
      "cell_type": "markdown",
      "metadata": {
        "id": "2hWqEKy403jV"
      },
      "source": [
        "So, finally, let us add one more hidden layer than model_3b and let's call it model_4. \n",
        "\n",
        "And keep:\n",
        "\n",
        "* 1st hidden layer: 512 neurons \n",
        "\n",
        "\n",
        "* 2nd hidden layer: 256 neurons\n",
        "\n",
        "\n",
        "* 3rd hidden layere: 128 neurons\n",
        "\n",
        "\n",
        "* and derpout = 25%"
      ]
    },
    {
      "cell_type": "markdown",
      "metadata": {
        "id": "ypd8M7YY03jV"
      },
      "source": [
        "* let's recall model_0\n",
        "\n",
        "\n",
        "* model_0.add(Dense(10, input_shape=(784,), name='dense_layer', activation='softmax')). This is the same as 'dense_layer_4 below.\n",
        "\n",
        "\n",
        "* So, we are now subjecting the DNN to 3 hidden layers, each neurons per layer as above and using a dropout % = 0.25.\n",
        "\n",
        "\n",
        "* There is no need to feed input shape to further hidden layers after the first hidden layer.\n",
        "\n",
        "\n",
        "* Activation function of all hidden layers is 'relu'. We do not want to squeeze anything at such stages.\n",
        "\n",
        "\n",
        "* Activation function of the output layer is 'softmax' as always (multiclass classification).\n",
        "\n",
        "\n",
        "* Not changing epochs as we want to see effect of one more hidden layer.\n",
        "\n",
        "\n",
        "* optimizer = 'adam'\n",
        "\n"
      ]
    },
    {
      "cell_type": "markdown",
      "metadata": {
        "id": "8oKktbE303jW"
      },
      "source": [
        "### adding another hidden layer"
      ]
    },
    {
      "cell_type": "markdown",
      "metadata": {
        "id": "DxsI9xSD03jW"
      },
      "source": [
        "## Alert! we are not keeping N_hidden to 512 considering the next question in this file"
      ]
    },
    {
      "cell_type": "code",
      "metadata": {
        "id": "wcvtSoUb03jW"
      },
      "source": [
        "# Build model\n",
        "\n",
        "model_4 = Sequential()"
      ],
      "execution_count": null,
      "outputs": []
    },
    {
      "cell_type": "code",
      "metadata": {
        "id": "HQJnLWGO03jW"
      },
      "source": [
        "N_hidden = 512 # Neurons per Hidden Layer\n",
        "\n",
        "model_4.add(Dense(512, name='dense_layer1', input_shape=(784,), activation = 'relu'))\n",
        "model_4.add(Dropout(0.25))\n",
        "\n",
        "# Adding another dense layer:\n",
        "model_4.add(Dense(256, name='dense_layer_2', activation='relu'))\n",
        "model_4.add(Dropout(0.25))\n",
        "\n",
        "# Adding another dense layer:\n",
        "model_4.add(Dense(128, name='dense_layer_3', activation='relu'))\n",
        "model_4.add(Dropout(0.25))\n",
        "\n",
        "# Add an output layer with 10 output units (10 different classes):\n",
        "model_4.add(Dense(10, name='dense_layer_4', activation = 'softmax'))\n",
        "\n",
        "\n"
      ],
      "execution_count": null,
      "outputs": []
    },
    {
      "cell_type": "code",
      "metadata": {
        "id": "JOg-Ewn-03jW"
      },
      "source": [
        "# Compile model. optimizer = 'adam'\n",
        "#---------------------------------\n",
        "model_4.compile(optimizer='adam', \n",
        "              loss='categorical_crossentropy',\n",
        "              metrics=['accuracy'])"
      ],
      "execution_count": null,
      "outputs": []
    },
    {
      "cell_type": "code",
      "metadata": {
        "id": "d2wFhNS803jX",
        "outputId": "904f6fc6-eb83-4141-c1e5-ad52aed01f8c"
      },
      "source": [
        "# Train model\n",
        "\n",
        "training = model_4.fit(X_train, y_train, batch_size=98, epochs=20, validation_split=0.2) \n",
        "\n"
      ],
      "execution_count": null,
      "outputs": [
        {
          "output_type": "stream",
          "text": [
            "Epoch 1/20\n",
            "490/490 [==============================] - 3s 6ms/step - loss: 0.3406 - accuracy: 0.8961 - val_loss: 0.1201 - val_accuracy: 0.9643\n",
            "Epoch 2/20\n",
            "490/490 [==============================] - 3s 5ms/step - loss: 0.1416 - accuracy: 0.9574 - val_loss: 0.0972 - val_accuracy: 0.9714\n",
            "Epoch 3/20\n",
            "490/490 [==============================] - 3s 6ms/step - loss: 0.1029 - accuracy: 0.9689 - val_loss: 0.0899 - val_accuracy: 0.9735\n",
            "Epoch 4/20\n",
            "490/490 [==============================] - 3s 6ms/step - loss: 0.0846 - accuracy: 0.9744 - val_loss: 0.0896 - val_accuracy: 0.9737\n",
            "Epoch 5/20\n",
            "490/490 [==============================] - 3s 5ms/step - loss: 0.0687 - accuracy: 0.9786 - val_loss: 0.0831 - val_accuracy: 0.9773\n",
            "Epoch 6/20\n",
            "490/490 [==============================] - 3s 6ms/step - loss: 0.0605 - accuracy: 0.9818 - val_loss: 0.0931 - val_accuracy: 0.9742\n",
            "Epoch 7/20\n",
            "490/490 [==============================] - 3s 6ms/step - loss: 0.0567 - accuracy: 0.9821 - val_loss: 0.0780 - val_accuracy: 0.9787\n",
            "Epoch 8/20\n",
            "490/490 [==============================] - 3s 6ms/step - loss: 0.0454 - accuracy: 0.9857 - val_loss: 0.0847 - val_accuracy: 0.9782\n",
            "Epoch 9/20\n",
            "490/490 [==============================] - 3s 6ms/step - loss: 0.0446 - accuracy: 0.9864 - val_loss: 0.0837 - val_accuracy: 0.9788\n",
            "Epoch 10/20\n",
            "490/490 [==============================] - 3s 6ms/step - loss: 0.0398 - accuracy: 0.9870 - val_loss: 0.0837 - val_accuracy: 0.9781\n",
            "Epoch 11/20\n",
            "490/490 [==============================] - 3s 7ms/step - loss: 0.0399 - accuracy: 0.9875 - val_loss: 0.0822 - val_accuracy: 0.9794\n",
            "Epoch 12/20\n",
            "490/490 [==============================] - 3s 7ms/step - loss: 0.0342 - accuracy: 0.9887 - val_loss: 0.0914 - val_accuracy: 0.9772\n",
            "Epoch 13/20\n",
            "490/490 [==============================] - 3s 7ms/step - loss: 0.0328 - accuracy: 0.9893 - val_loss: 0.0957 - val_accuracy: 0.9787\n",
            "Epoch 14/20\n",
            "490/490 [==============================] - 3s 6ms/step - loss: 0.0298 - accuracy: 0.9910 - val_loss: 0.0862 - val_accuracy: 0.9810\n",
            "Epoch 15/20\n",
            "490/490 [==============================] - 3s 6ms/step - loss: 0.0309 - accuracy: 0.9907 - val_loss: 0.0951 - val_accuracy: 0.9803\n",
            "Epoch 16/20\n",
            "490/490 [==============================] - 3s 6ms/step - loss: 0.0288 - accuracy: 0.9910 - val_loss: 0.0916 - val_accuracy: 0.9799\n",
            "Epoch 17/20\n",
            "490/490 [==============================] - 3s 6ms/step - loss: 0.0252 - accuracy: 0.9921 - val_loss: 0.0844 - val_accuracy: 0.9807\n",
            "Epoch 18/20\n",
            "490/490 [==============================] - 3s 6ms/step - loss: 0.0280 - accuracy: 0.9915 - val_loss: 0.0827 - val_accuracy: 0.9801\n",
            "Epoch 19/20\n",
            "490/490 [==============================] - 3s 6ms/step - loss: 0.0269 - accuracy: 0.9912 - val_loss: 0.0896 - val_accuracy: 0.9812\n",
            "Epoch 20/20\n",
            "490/490 [==============================] - 3s 7ms/step - loss: 0.0226 - accuracy: 0.9932 - val_loss: 0.0886 - val_accuracy: 0.9815\n"
          ],
          "name": "stdout"
        }
      ]
    },
    {
      "cell_type": "code",
      "metadata": {
        "id": "qgy4XatG03jX",
        "outputId": "ffdb1d42-208b-4333-9602-75f7fe2e30d0"
      },
      "source": [
        "import matplotlib.pyplot as plt\n",
        "%matplotlib inline\n",
        "# list all data in training\n",
        "print(training.history.keys())\n",
        "# summarize training for accuracy\n",
        "plt.plot(training.history['accuracy'])\n",
        "plt.plot(training.history['val_accuracy'])\n",
        "plt.title('model accuracy')\n",
        "plt.ylabel('accuracy')\n",
        "plt.xlabel('epoch')\n",
        "plt.legend(['train', 'test'], loc='upper left')\n",
        "plt.show()\n",
        "# summarize traning for loss\n",
        "plt.plot(training.history['loss'])\n",
        "plt.plot(training.history['val_loss'])\n",
        "plt.title('model loss')\n",
        "plt.ylabel('loss')\n",
        "plt.xlabel('epoch')\n",
        "plt.legend(['train', 'test'], loc='upper left')\n",
        "plt.show()"
      ],
      "execution_count": null,
      "outputs": [
        {
          "output_type": "stream",
          "text": [
            "dict_keys(['loss', 'accuracy', 'val_loss', 'val_accuracy'])\n"
          ],
          "name": "stdout"
        },
        {
          "output_type": "display_data",
          "data": {
            "image/png": "[encoded data removed]",
            "text/plain": [
              "<Figure size 432x288 with 1 Axes>"
            ]
          },
          "metadata": {
            "tags": [],
            "needs_background": "light"
          }
        },
        {
          "output_type": "display_data",
          "data": {
            "image/png": "[encoded data removed]",
            "text/plain": [
              "<Figure size 432x288 with 1 Axes>"
            ]
          },
          "metadata": {
            "tags": [],
            "needs_background": "light"
          }
        }
      ]
    },
    {
      "cell_type": "code",
      "metadata": {
        "id": "OU_-58cq03jX",
        "outputId": "adaa25a8-69a0-45bf-b47c-bf912650cc43"
      },
      "source": [
        "model_4.weights"
      ],
      "execution_count": null,
      "outputs": [
        {
          "output_type": "execute_result",
          "data": {
            "text/plain": [
              "[<tf.Variable 'dense_layer1/kernel:0' shape=(784, 512) dtype=float32, numpy=\n",
              " array([[-0.06576549, -0.06634066,  0.01077566, ..., -0.00765981,\n",
              "          0.05361172, -0.01600409],\n",
              "        [-0.01390494, -0.04383304, -0.01837154, ..., -0.05004091,\n",
              "          0.03032525,  0.03133194],\n",
              "        [ 0.05663465, -0.004302  ,  0.00367105, ...,  0.02663334,\n",
              "          0.02762248, -0.05520336],\n",
              "        ...,\n",
              "        [ 0.06276137,  0.0514329 ,  0.04913054, ...,  0.06612602,\n",
              "          0.00520979, -0.04632035],\n",
              "        [-0.03238078,  0.01994085, -0.04974702, ..., -0.05005997,\n",
              "         -0.01736503, -0.02636542],\n",
              "        [-0.06278703,  0.02553095, -0.00082135, ..., -0.04930432,\n",
              "          0.03874949, -0.01756439]], dtype=float32)>,\n",
              " <tf.Variable 'dense_layer1/bias:0' shape=(512,) dtype=float32, numpy=\n",
              " array([ 1.42046837e-02,  1.42268213e-02,  4.84124050e-02, -8.30804333e-02,\n",
              "        -3.68898027e-02, -6.44649714e-02,  1.56446807e-02,  3.52657959e-02,\n",
              "        -9.30727944e-02,  7.43713155e-02, -2.28079185e-02, -5.10560274e-02,\n",
              "        -1.64955743e-02, -1.07353861e-02, -6.29735813e-02, -1.25959486e-01,\n",
              "        -2.73937229e-02, -5.44123240e-02, -2.54623834e-02, -1.67373440e-03,\n",
              "        -3.35044526e-02, -1.28546596e-01, -3.97484079e-02, -9.58881690e-04,\n",
              "         3.76617610e-02, -1.48681253e-02, -1.59865171e-02, -1.20635005e-02,\n",
              "        -2.90017854e-02, -3.89329456e-02, -1.30445242e-01,  5.97751439e-02,\n",
              "        -5.70341013e-02, -3.77354510e-02, -1.07734762e-01, -1.15090162e-01,\n",
              "         7.14505017e-02, -5.41274343e-03, -1.39913037e-02, -3.27683724e-02,\n",
              "        -2.37850770e-02, -8.45831353e-03, -1.48077786e-01, -2.07247809e-02,\n",
              "         1.24228820e-02, -2.49136500e-02, -3.32929380e-02,  3.39851645e-03,\n",
              "        -1.24633215e-01, -2.07980983e-02, -6.55619577e-02,  2.87262630e-02,\n",
              "         3.60646732e-02,  5.30459806e-02, -3.21892053e-02,  1.19980630e-02,\n",
              "        -6.69371039e-02, -5.79754822e-03, -3.78079247e-03,  7.25280792e-02,\n",
              "        -1.12237148e-01, -3.26737836e-02, -8.31867233e-02, -9.80004147e-02,\n",
              "        -1.21322621e-04,  6.75952211e-02, -2.41869763e-02,  8.51256773e-02,\n",
              "        -5.43681309e-02,  2.74013765e-02, -2.98282853e-03,  3.78130488e-02,\n",
              "        -6.99524507e-02,  5.73992245e-02, -6.43932028e-03, -2.88013965e-02,\n",
              "        -4.82644774e-02, -8.46108049e-02, -7.11765140e-02, -1.19242752e-02,\n",
              "        -4.18610349e-02,  5.73458672e-02, -6.48797676e-02, -2.06440017e-02,\n",
              "         3.37755345e-02, -4.93844077e-02, -7.00357184e-02,  1.73629411e-02,\n",
              "         6.19763434e-02,  1.62735954e-02, -1.36487857e-02,  1.42278038e-02,\n",
              "         4.13997471e-03, -4.11998034e-02, -2.55130902e-02, -2.84062512e-02,\n",
              "        -1.02935441e-01, -5.47732040e-02, -6.52299747e-02, -6.80569559e-02,\n",
              "        -4.03941125e-02, -5.82452640e-02, -2.04029325e-02, -3.94754745e-02,\n",
              "         3.50859463e-02, -4.46535312e-02, -1.44643337e-01,  1.30718183e-02,\n",
              "        -2.86639128e-02,  2.29331013e-02,  3.95967364e-02, -8.28951374e-02,\n",
              "        -9.87297297e-03, -6.57615066e-02, -8.64512101e-03,  6.39649034e-02,\n",
              "        -3.33040729e-02,  1.75885521e-02,  5.24495170e-03, -8.34089983e-03,\n",
              "        -5.48877493e-02, -8.06892663e-02,  4.24954779e-02, -7.08182231e-02,\n",
              "         3.95061783e-02, -4.92763296e-02,  2.41127573e-02, -4.02952693e-02,\n",
              "        -4.60062362e-02, -2.70188563e-02, -6.97200447e-02, -1.04275690e-02,\n",
              "        -5.93873113e-02, -7.88464248e-02,  5.70771992e-02,  1.31591763e-02,\n",
              "         2.47227661e-02,  1.42802102e-02,  1.36068147e-02, -3.65847982e-02,\n",
              "        -1.07725829e-01, -1.13064889e-02, -7.59293735e-02,  6.44767731e-02,\n",
              "        -1.68264166e-01, -5.31793199e-02, -1.74684823e-01, -2.96716746e-02,\n",
              "        -4.08187509e-02,  5.49157113e-02,  8.71361978e-03, -1.43759489e-01,\n",
              "        -8.47616196e-02, -7.73940086e-02, -4.25906032e-02,  3.24624516e-02,\n",
              "        -1.82089116e-02,  4.64795902e-02, -2.00280771e-02, -1.77200273e-01,\n",
              "        -6.98406473e-02, -9.57473814e-02,  2.27147397e-02,  6.55600429e-02,\n",
              "         6.65849671e-02, -4.45107259e-02, -7.75680766e-02,  3.03235501e-02,\n",
              "        -6.27666041e-02, -5.97619973e-02, -1.19303249e-01, -3.05766962e-03,\n",
              "        -1.03933811e-01, -3.46563011e-02, -4.53380011e-02,  7.02159712e-03,\n",
              "        -4.22833636e-02, -4.08525057e-02,  4.44862656e-02, -4.30155452e-03,\n",
              "         1.08057270e-02, -1.28025815e-01, -3.57453637e-02, -3.43049988e-02,\n",
              "        -4.96501923e-02, -6.09538555e-02, -4.77013290e-02, -3.31470035e-02,\n",
              "         4.79217991e-02, -4.02045660e-02,  4.42406870e-02, -2.22273432e-02,\n",
              "         2.24622171e-02,  3.79459444e-03, -4.08777818e-02, -4.46405970e-02,\n",
              "        -1.11792207e-01, -7.01998919e-02, -1.46989496e-02, -5.83544746e-03,\n",
              "        -1.40356161e-02, -1.13829151e-01,  4.46750596e-02, -1.51682887e-02,\n",
              "        -6.29898459e-02, -7.24065304e-02,  3.39900777e-02, -4.11451347e-02,\n",
              "        -4.00292650e-02,  6.67182654e-02,  2.32917499e-02, -3.83186825e-02,\n",
              "         4.02579233e-02, -2.84525696e-02, -7.59857669e-02, -8.99745990e-03,\n",
              "         1.20999925e-01, -4.35253084e-02, -1.08678732e-03,  3.43824364e-02,\n",
              "        -2.89199539e-02,  1.81217527e-03,  3.41414884e-02, -8.88780802e-02,\n",
              "        -3.39573659e-02, -6.13103062e-02,  2.65287422e-02, -6.94567943e-03,\n",
              "        -5.00771627e-02, -8.54609013e-02,  2.33359803e-02, -8.63343179e-02,\n",
              "         3.39816883e-02, -7.02236369e-02, -6.58611506e-02,  3.78599055e-02,\n",
              "        -1.19166616e-02,  8.85731261e-03,  1.48123121e-02, -3.32896933e-02,\n",
              "         2.43825372e-02, -1.09832950e-01, -3.08072940e-02, -1.91175789e-02,\n",
              "         7.11658923e-03, -2.94829207e-03, -3.36376093e-02,  1.08314930e-02,\n",
              "        -7.14879557e-02, -3.82638536e-02, -5.02909981e-02, -1.11602917e-01,\n",
              "        -1.36020442e-03,  4.15071333e-03,  1.53266499e-02, -7.39884451e-02,\n",
              "        -2.32463386e-02, -1.45723075e-01,  2.57350169e-02, -4.33401465e-02,\n",
              "        -5.53419627e-02, -3.91941480e-02, -5.69321252e-02, -4.33227904e-02,\n",
              "        -7.76119158e-02, -3.58654605e-03, -8.73800181e-03,  4.77037579e-02,\n",
              "         2.87415721e-02, -1.60103366e-01, -4.45423722e-02, -1.50817009e-02,\n",
              "        -9.08853710e-02, -8.23009089e-02, -3.32766920e-02, -7.77170360e-02,\n",
              "         5.46757989e-02, -2.64434628e-02, -5.14981747e-02, -1.11351162e-01,\n",
              "        -1.88834053e-02, -8.45689774e-02, -3.12817432e-02, -8.18651468e-02,\n",
              "        -5.84303923e-02, -9.01933834e-02, -1.49629386e-02, -1.36641385e-02,\n",
              "        -8.58683363e-02, -7.67381415e-02, -4.17549461e-02,  8.01660493e-03,\n",
              "        -3.82855870e-02, -5.96988164e-02, -1.10911317e-02,  5.53632341e-02,\n",
              "        -3.25721912e-02, -2.03327425e-02,  7.51954177e-03,  4.76318225e-02,\n",
              "        -3.36154960e-02,  7.28337606e-03, -3.49585316e-03,  3.41438986e-02,\n",
              "        -2.36973148e-02, -4.93747555e-02,  1.65711623e-02,  2.84489002e-02,\n",
              "         2.81868428e-02, -9.28760692e-02, -5.41793182e-03, -3.28821363e-03,\n",
              "        -3.13067734e-02, -6.69934079e-02,  7.80389505e-03,  6.34939689e-03,\n",
              "        -2.62987651e-02, -4.00733529e-03, -1.44448476e-02, -4.74474914e-02,\n",
              "         4.42955866e-02,  9.49855894e-03, -4.07123007e-02,  4.93143825e-03,\n",
              "        -1.34634329e-02, -5.95967472e-02,  4.34526354e-02, -9.41541418e-02,\n",
              "        -5.49007133e-02, -5.40199131e-02,  2.28649359e-02, -1.55267911e-02,\n",
              "        -6.93465024e-02,  3.63008422e-03,  3.00333053e-02, -4.26698960e-02,\n",
              "        -8.34895968e-02, -1.31947279e-01,  3.91613506e-02, -1.25527373e-02,\n",
              "        -7.42392093e-02,  1.74767543e-02,  5.64215854e-02,  7.52121210e-02,\n",
              "        -7.20146066e-03,  3.03092301e-02,  6.37096912e-02, -7.37016946e-02,\n",
              "        -5.41317761e-02, -3.94268595e-02,  1.25262542e-02,  7.66348932e-03,\n",
              "        -4.39657196e-02, -3.75213213e-02, -7.52506480e-02, -6.84790760e-02,\n",
              "        -2.16649491e-02, -6.79303259e-02,  1.43967085e-02, -6.60063373e-03,\n",
              "        -5.59044676e-03,  9.69655737e-02, -2.27309205e-02,  2.20570471e-02,\n",
              "        -4.85291816e-02,  3.04396357e-02, -3.37003544e-02,  2.34950725e-02,\n",
              "        -5.27686514e-02, -3.43796611e-02, -4.50950675e-02, -6.48794398e-02,\n",
              "         7.75827840e-02,  7.98892602e-02, -3.41076292e-02,  4.58292887e-02,\n",
              "        -1.51034947e-02,  3.15327123e-02, -6.35890439e-02, -4.94899973e-02,\n",
              "        -6.13872260e-02,  3.76051255e-02, -6.42596278e-03, -1.65694449e-02,\n",
              "        -2.84118149e-02,  2.23882757e-02, -3.48613448e-02,  4.26191129e-02,\n",
              "        -1.55902039e-02,  6.30888715e-02, -1.28038377e-01, -4.06040736e-02,\n",
              "         3.19594443e-02, -1.53062576e-02, -2.70986520e-02, -5.26564568e-02,\n",
              "        -7.11933821e-02,  1.73948985e-02,  2.10121851e-02, -2.61457097e-02,\n",
              "        -3.75172347e-02, -6.36599958e-02, -1.17266709e-02, -3.70723419e-02,\n",
              "        -2.61998512e-02, -2.09777243e-02, -1.35375455e-01, -8.64652097e-02,\n",
              "         3.59901525e-02, -3.23326103e-02, -7.97857046e-02, -1.28182381e-01,\n",
              "        -3.59711759e-02, -7.85789266e-02, -1.01839136e-02,  1.92906167e-02,\n",
              "        -6.02397919e-02,  3.62488218e-02, -2.30989680e-02, -8.62045586e-02,\n",
              "        -6.79130107e-02, -1.22810071e-02, -9.35488194e-02,  3.38071305e-03,\n",
              "        -4.81672771e-02, -2.11019274e-02, -5.16051752e-03, -1.99508574e-02,\n",
              "        -5.72417378e-02, -6.53867573e-02, -3.59814018e-02, -5.85158691e-02,\n",
              "        -4.10128356e-04, -2.86332164e-02, -5.54561950e-02,  7.94686750e-02,\n",
              "         3.12051736e-02, -1.67867783e-02,  3.60666960e-02, -7.29960650e-02,\n",
              "         6.52041752e-04, -6.80587664e-02,  6.70439526e-02,  1.60668027e-02,\n",
              "         5.26712537e-02, -1.30633628e-02,  1.70791466e-02,  2.64834668e-02,\n",
              "        -7.94592723e-02,  2.05981899e-02, -1.49169425e-02, -4.86231819e-02,\n",
              "        -1.93568282e-02,  2.47117993e-03, -2.44247708e-02,  1.04830880e-02,\n",
              "        -5.76938689e-03,  7.58834928e-02,  6.84921145e-02, -3.29014920e-02,\n",
              "        -1.00781880e-01,  1.75418220e-02, -5.84747195e-02, -1.28369123e-01,\n",
              "        -7.79724270e-02, -3.09389010e-02,  2.60933395e-02, -2.27991659e-02,\n",
              "        -9.04244836e-03,  3.86940618e-03,  3.28908078e-02, -6.24784417e-02,\n",
              "         1.72581915e-02,  4.60127294e-02, -5.13845915e-03,  1.52075954e-03,\n",
              "        -3.11051728e-03, -1.06153697e-01,  4.96009924e-02, -9.54052992e-03,\n",
              "         1.38699161e-02, -3.26348431e-02, -7.57803172e-02, -3.12880776e-03,\n",
              "        -8.61348286e-02, -4.87890616e-02, -4.75447485e-03, -5.15133552e-02,\n",
              "         1.71162654e-02, -3.53858396e-02,  1.12801790e-02, -4.35361490e-02,\n",
              "        -2.90656146e-02,  1.10254250e-02, -5.87282702e-02, -1.70762036e-02,\n",
              "        -2.66059004e-02, -4.72346097e-02,  5.28968088e-02,  5.75170368e-02,\n",
              "         2.95358002e-02, -6.20402507e-02, -5.14426678e-02,  9.10979509e-03,\n",
              "        -4.00966257e-02, -3.85087542e-02,  2.02757996e-02, -1.61123183e-03,\n",
              "         4.07962874e-02, -6.06582873e-02,  5.02052642e-02, -2.59859804e-02],\n",
              "       dtype=float32)>,\n",
              " <tf.Variable 'dense_layer_2/kernel:0' shape=(512, 256) dtype=float32, numpy=\n",
              " array([[-0.00569694, -0.11438578,  0.03543187, ...,  0.06368972,\n",
              "          0.10636809, -0.11321438],\n",
              "        [ 0.03437985, -0.05736282,  0.06145457, ...,  0.17570847,\n",
              "         -0.0488329 , -0.03248198],\n",
              "        [-0.09554677, -0.12004898,  0.21866158, ...,  0.01904852,\n",
              "         -0.07331583, -0.16192152],\n",
              "        ...,\n",
              "        [-0.1861602 , -0.09984681, -0.08727556, ...,  0.1269554 ,\n",
              "         -0.05958057,  0.01976178],\n",
              "        [ 0.07271273, -0.21361598,  0.07928524, ...,  0.14229839,\n",
              "         -0.0192021 , -0.10190263],\n",
              "        [-0.1341864 , -0.11602178, -0.02354974, ...,  0.0444181 ,\n",
              "          0.07345047, -0.00949733]], dtype=float32)>,\n",
              " <tf.Variable 'dense_layer_2/bias:0' shape=(256,) dtype=float32, numpy=\n",
              " array([ 4.63133957e-03, -6.23781420e-02, -9.44475904e-02, -1.06773466e-01,\n",
              "        -2.69984622e-02, -1.45795951e-02, -6.33554757e-02, -6.25384524e-02,\n",
              "        -5.92918321e-02,  2.54599810e-01, -7.05864727e-02, -6.26411587e-02,\n",
              "        -9.04560015e-02, -1.50781900e-01,  1.61128059e-01, -2.12860405e-01,\n",
              "         1.32473409e-01,  4.29817103e-02, -1.50942206e-01, -2.40381397e-02,\n",
              "        -2.69536860e-02, -4.85373773e-02, -2.49753315e-02, -6.53712600e-02,\n",
              "         1.30002797e-02, -1.16711341e-01,  9.98395588e-03,  1.55299291e-01,\n",
              "        -1.06254905e-01,  1.43895671e-01, -1.33729368e-01,  3.69898267e-02,\n",
              "        -1.07532911e-01, -1.07959963e-01, -5.44558205e-02, -2.46976227e-01,\n",
              "        -9.62241217e-02,  2.19339415e-01, -4.34116833e-02, -2.01371908e-02,\n",
              "        -7.11197108e-02,  2.09380627e-01, -1.15274861e-01, -1.36332467e-01,\n",
              "         8.45214203e-02,  4.60141413e-02, -5.67558147e-02, -9.46164504e-02,\n",
              "        -1.29867056e-02, -8.15618932e-02, -3.99017381e-03, -6.35916665e-02,\n",
              "         1.07704118e-01, -6.66480288e-02,  5.98313846e-03,  7.43369311e-02,\n",
              "         2.24728003e-01, -1.24996677e-01,  9.27579179e-02,  2.29185075e-01,\n",
              "        -3.27227935e-02, -2.42415760e-02,  7.60115981e-02, -1.83983415e-01,\n",
              "         1.98524930e-02,  5.99379167e-02,  1.16273724e-01, -4.78651263e-02,\n",
              "        -5.43190613e-02,  7.26552233e-02,  6.06739260e-02, -1.47154145e-02,\n",
              "         6.93491548e-02, -4.92262952e-02, -1.80127863e-02, -3.49258259e-02,\n",
              "         9.78117622e-03, -1.20624624e-01, -8.47867653e-02,  4.99711707e-02,\n",
              "        -1.86593039e-04,  2.26826578e-01, -1.63867787e-01, -1.04725905e-01,\n",
              "         1.84504073e-02, -1.12569459e-01, -1.86549462e-02, -1.69346571e-01,\n",
              "         1.34645775e-03, -5.19243367e-02, -1.26286587e-02, -1.88808486e-01,\n",
              "         7.78655931e-02,  7.35004758e-03,  1.88684687e-01,  4.35446650e-02,\n",
              "        -2.19521001e-02, -1.27996877e-01,  1.06524602e-02,  2.07038268e-01,\n",
              "        -3.02917622e-02, -5.05246855e-02,  9.77078825e-02, -4.42208461e-02,\n",
              "         4.06081192e-02, -1.42427504e-01, -7.50151873e-02, -6.34186789e-02,\n",
              "        -6.30969033e-02, -7.20185190e-02, -7.66784102e-02, -5.46032414e-02,\n",
              "        -1.18676424e-01,  7.46367127e-02, -3.87712456e-02,  1.51258379e-01,\n",
              "        -1.93389654e-02, -4.28415313e-02,  1.74873650e-01, -3.11633535e-02,\n",
              "        -1.78899363e-01, -8.76909420e-02,  7.10721090e-02,  5.47046168e-03,\n",
              "        -7.20089749e-02,  1.62587300e-01,  6.64074197e-02, -5.83348423e-02,\n",
              "        -1.86553523e-02, -8.76919031e-02, -6.19929582e-02,  1.69364005e-01,\n",
              "        -8.41106847e-02,  1.86145514e-01, -1.18989736e-01,  2.77039349e-01,\n",
              "        -1.44739985e-01, -5.79868220e-02,  1.64001599e-01, -1.05401754e-01,\n",
              "         1.06637403e-01, -1.36265725e-01, -1.14626706e-01, -9.79724526e-02,\n",
              "         2.10153181e-02, -2.47188602e-02,  8.69533420e-02, -1.00653797e-01,\n",
              "         2.82204188e-02, -1.10342123e-01, -4.23057638e-02,  1.11004710e-01,\n",
              "        -1.53183609e-01,  9.35847592e-03,  1.08166132e-02, -1.17393926e-01,\n",
              "         5.91200255e-02, -9.93231311e-02,  2.39940383e-03, -9.65970755e-02,\n",
              "        -7.97694102e-02, -1.72370642e-01,  3.43394130e-02,  9.38414654e-04,\n",
              "         1.04629859e-01,  7.68576413e-02,  5.40177748e-02, -1.24984659e-01,\n",
              "        -1.48831874e-01,  1.04551874e-01, -1.14771120e-01, -8.89130086e-02,\n",
              "        -1.29145712e-01,  4.41518128e-02,  1.11092348e-02, -9.02042687e-02,\n",
              "        -5.65908067e-02, -7.30958208e-02,  2.57783588e-02, -5.03929220e-02,\n",
              "         7.18429312e-02, -1.23719051e-02, -1.84431776e-01,  3.20114009e-02,\n",
              "        -7.16452077e-02, -5.42494655e-02, -4.70027030e-02, -6.65900558e-02,\n",
              "         1.32820323e-01, -1.01241380e-01,  1.19133823e-01,  5.75285815e-02,\n",
              "        -5.43023571e-02, -1.55915990e-01, -9.87164956e-03, -1.03954986e-01,\n",
              "         9.77708399e-02,  3.66350915e-03, -1.00327022e-01, -6.79906756e-02,\n",
              "        -1.13613978e-01,  1.63369663e-02, -1.00736603e-01,  1.03519931e-02,\n",
              "        -1.03672817e-01, -3.96451680e-03, -7.04192147e-02, -1.24590402e-03,\n",
              "         3.04987025e-03, -2.47875247e-02,  4.36414145e-02, -9.43256915e-02,\n",
              "         4.07386050e-02,  1.14331484e-01,  1.13475151e-01, -1.73320808e-02,\n",
              "         2.68123075e-02, -1.35889888e-01, -2.06159905e-01, -1.60837770e-02,\n",
              "         9.46471542e-02,  4.53042984e-02, -9.79845002e-02, -8.43625963e-02,\n",
              "        -1.82590351e-01, -1.14933057e-02,  3.02613173e-02,  7.68609717e-02,\n",
              "         1.30829632e-01, -4.66246195e-02, -1.35941571e-02, -1.69946805e-01,\n",
              "        -3.59882191e-02, -8.41799676e-02,  1.84498087e-01, -1.48162842e-01,\n",
              "         3.29040587e-02, -7.57915676e-02, -1.11781396e-01,  2.68890616e-02,\n",
              "         7.48444423e-02, -1.45281821e-01,  1.55464798e-01,  1.23039022e-01,\n",
              "        -1.11524746e-01, -2.01645195e-02, -1.55662403e-01,  2.23266706e-01,\n",
              "        -3.51746753e-02,  5.74428216e-02, -7.46520981e-02,  1.17794044e-01,\n",
              "        -3.39145660e-02, -1.86417736e-02,  1.33106247e-01, -1.32228985e-01],\n",
              "       dtype=float32)>,\n",
              " <tf.Variable 'dense_layer_3/kernel:0' shape=(256, 128) dtype=float32, numpy=\n",
              " array([[ 1.67949833e-02,  1.00538723e-01, -7.68158659e-02, ...,\n",
              "          1.24121323e-01,  2.12905586e-01, -2.00583488e-02],\n",
              "        [-2.97982432e-02,  2.44365484e-02,  5.02596013e-02, ...,\n",
              "          1.36078134e-01,  6.98744431e-02, -5.79258241e-03],\n",
              "        [-1.75634325e-02, -1.26493797e-01,  8.33981857e-02, ...,\n",
              "          7.47865066e-02, -2.57794857e-02,  1.21934429e-01],\n",
              "        ...,\n",
              "        [ 1.21863440e-01,  4.24048342e-02,  5.40551543e-02, ...,\n",
              "         -8.17010775e-02,  7.89071620e-02, -1.34733588e-01],\n",
              "        [-6.16004877e-02, -4.80471067e-02,  1.24320826e-02, ...,\n",
              "          1.13744035e-01, -6.29254282e-02,  2.72251945e-02],\n",
              "        [-2.05805302e-02, -1.61630596e-04,  1.35904431e-01, ...,\n",
              "          2.62448154e-02, -8.89327601e-02,  8.27446878e-02]], dtype=float32)>,\n",
              " <tf.Variable 'dense_layer_3/bias:0' shape=(128,) dtype=float32, numpy=\n",
              " array([-0.01906531,  0.33634138,  0.09951224, -0.00038842,  0.06332913,\n",
              "         0.19762513, -0.03472765,  0.01262844, -0.01926102,  0.07159691,\n",
              "        -0.05499994, -0.01334139, -0.09362983, -0.01818284,  0.02578111,\n",
              "         0.05042006,  0.11479886, -0.08610903,  0.12926508,  0.05562121,\n",
              "         0.00688556,  0.03826229,  0.19717784, -0.07111696,  0.04467795,\n",
              "         0.02257012,  0.01992286,  0.00631812,  0.02800255, -0.106454  ,\n",
              "        -0.0271074 ,  0.17179509, -0.04565432, -0.04511898, -0.02068151,\n",
              "         0.09696433,  0.00618835, -0.03690125,  0.06785144, -0.09797994,\n",
              "         0.23557183, -0.04525049,  0.22306143,  0.11900702,  0.00258982,\n",
              "        -0.01033559,  0.20097359,  0.14213304, -0.04141312,  0.08814467,\n",
              "         0.1654728 ,  0.23000239,  0.06517237,  0.1999435 ,  0.02076233,\n",
              "        -0.06079365, -0.05187909,  0.10436726,  0.16463684, -0.06578676,\n",
              "        -0.06145576,  0.26278514,  0.120486  ,  0.15312023,  0.01066869,\n",
              "        -0.08520768,  0.17582853,  0.10104237, -0.02808771, -0.04255856,\n",
              "        -0.03396386, -0.00462747, -0.02983946,  0.0949386 ,  0.02541118,\n",
              "         0.13584855,  0.16119331,  0.26617625,  0.03526029,  0.22774784,\n",
              "        -0.0122728 , -0.031843  , -0.04227842, -0.00355527, -0.02646793,\n",
              "         0.18299876, -0.02679284,  0.02631332,  0.17365542,  0.11210392,\n",
              "        -0.07202548, -0.08874852,  0.13596953,  0.27222323,  0.1910714 ,\n",
              "         0.19335064,  0.14615515, -0.0885874 ,  0.12929626,  0.07832935,\n",
              "         0.20558603, -0.02558547, -0.01741558, -0.13441439,  0.03345587,\n",
              "         0.03773919, -0.06267023,  0.11012752, -0.00065449,  0.19557407,\n",
              "         0.09981703,  0.03872595,  0.13792503, -0.04386467,  0.25963482,\n",
              "         0.13365886,  0.26677436,  0.21920237,  0.05270848, -0.05576436,\n",
              "         0.00481671,  0.02052631,  0.06775056, -0.0547013 ,  0.07960474,\n",
              "         0.34047353, -0.06965645, -0.04633797], dtype=float32)>,\n",
              " <tf.Variable 'dense_layer_4/kernel:0' shape=(128, 10) dtype=float32, numpy=\n",
              " array([[ 0.06567652, -0.01456653,  0.00148086, ..., -0.31245637,\n",
              "         -0.21168631, -0.14264217],\n",
              "        [ 0.0215791 , -0.09470143, -0.08506377, ..., -0.02414921,\n",
              "          0.22733216,  0.10487997],\n",
              "        [ 0.17218219, -0.23361598,  0.15961014, ...,  0.17814048,\n",
              "          0.12624647, -0.05951764],\n",
              "        ...,\n",
              "        [-0.01916799, -0.16288956,  0.01720281, ..., -0.36894894,\n",
              "          0.01611203, -0.21403065],\n",
              "        [ 0.09788042, -0.26590696, -0.25749204, ...,  0.20047651,\n",
              "         -0.09862842,  0.03000209],\n",
              "        [ 0.03238936,  0.12325028,  0.21838881, ..., -0.12318972,\n",
              "         -0.13648583, -0.01348833]], dtype=float32)>,\n",
              " <tf.Variable 'dense_layer_4/bias:0' shape=(10,) dtype=float32, numpy=\n",
              " array([-0.00593402, -0.12793477, -0.06464297, -0.01318717, -0.06617688,\n",
              "        -0.09753035, -0.10706361, -0.08857559,  0.33751705,  0.08622396],\n",
              "       dtype=float32)>]"
            ]
          },
          "metadata": {
            "tags": []
          },
          "execution_count": 103
        }
      ]
    },
    {
      "cell_type": "code",
      "metadata": {
        "id": "d0h8kJLv03jY",
        "outputId": "1f2181b3-df5c-4135-8bea-b5d9450f9035"
      },
      "source": [
        "#evaluate model\n",
        "\n",
        "#evaluate the model\n",
        "test_loss, test_acc = model_4.evaluate(X_test, y_test)\n",
        "print()\n",
        "print('Test Loss', test_loss)\n",
        "print()\n",
        "print('Test accuracy:', test_acc)\n",
        "\n"
      ],
      "execution_count": null,
      "outputs": [
        {
          "output_type": "stream",
          "text": [
            "313/313 [==============================] - 0s 1ms/step - loss: 0.0910 - accuracy: 0.9801\n",
            "\n",
            "Test Loss 0.09103436768054962\n",
            "\n",
            "Test accuracy: 0.9800999760627747\n"
          ],
          "name": "stdout"
        }
      ]
    },
    {
      "cell_type": "markdown",
      "metadata": {
        "id": "olG6hJ8C03jY"
      },
      "source": [
        "Let's compare this with model_3b\n",
        "\n",
        "Test Loss 0.1674097180366516\n",
        "\n",
        "Test accuracy: 0.9502000212669373"
      ]
    },
    {
      "cell_type": "markdown",
      "metadata": {
        "id": "7EKSJr6l03jY"
      },
      "source": [
        "#### We observe that model_4 loss has increased but accuracy has also increased. \n",
        "\n",
        "However, at this stage, we move forward to next task\n"
      ]
    },
    {
      "cell_type": "markdown",
      "metadata": {
        "id": "66R-h-6B03jZ"
      },
      "source": [
        "# end of model_4"
      ]
    },
    {
      "cell_type": "code",
      "metadata": {
        "id": "JxBaHuKK03jZ"
      },
      "source": [
        ""
      ],
      "execution_count": null,
      "outputs": []
    },
    {
      "cell_type": "markdown",
      "metadata": {
        "id": "sVZ4f0FB03jZ"
      },
      "source": [
        "# Note: There is no model 5 & 6"
      ]
    },
    {
      "cell_type": "markdown",
      "metadata": {
        "id": "bNp85hDF03jZ"
      },
      "source": [
        "# start of model_7"
      ]
    },
    {
      "cell_type": "markdown",
      "metadata": {
        "id": "oh4S6uuE03jZ"
      },
      "source": [
        "### What is the accuracy score if we use RMSprop for model 4 above?"
      ]
    },
    {
      "cell_type": "code",
      "metadata": {
        "id": "FRUs4k_603jZ"
      },
      "source": [
        "# Build model\n",
        "\n",
        "model_7 = Sequential()"
      ],
      "execution_count": null,
      "outputs": []
    },
    {
      "cell_type": "markdown",
      "metadata": {
        "id": "dkWthAhg03jZ"
      },
      "source": [
        "### Alert! Using 3 hidden layers "
      ]
    },
    {
      "cell_type": "code",
      "metadata": {
        "id": "vXTnQbyq03ja"
      },
      "source": [
        "N_hidden = 512 # Neurons per Hidden Layer\n",
        "\n",
        "model_7.add(Dense(512, name='dense_layer1', input_shape=(784,), activation = 'relu'))\n",
        "model_7.add(Dropout(0.25))\n",
        "\n",
        "# Adding another dense layer:\n",
        "model_7.add(Dense(256, name='dense_layer_2', activation='relu'))\n",
        "model_7.add(Dropout(0.25))\n",
        "\n",
        "# Adding another dense layer:\n",
        "model_7.add(Dense(128, name='dense_layer_3', activation='relu'))\n",
        "model_7.add(Dropout(0.25))\n",
        "\n",
        "# Add an output layer with 10 output units (10 different classes):\n",
        "model_7.add(Dense(10, name='dense_layer_4', activation = 'softmax'))\n",
        "\n",
        "\n"
      ],
      "execution_count": null,
      "outputs": []
    },
    {
      "cell_type": "markdown",
      "metadata": {
        "id": "E3c1dlM-03ja"
      },
      "source": [
        "# RMSprop"
      ]
    },
    {
      "cell_type": "markdown",
      "metadata": {
        "id": "WdL-bvYO03ja"
      },
      "source": [
        "* learning_rate: A Tensor, floating point value, or a schedule that is a tf.keras.optimizers.schedules.LearningRateSchedule, or a callable that takes no arguments and returns the actual value to use. The learning rate. Defaults to 0.001.\n",
        "\n",
        "\n",
        "* rho: Discounting factor for the history/coming gradient. Defaults to 0.9.\n",
        "\n",
        "\n",
        "* momentum: A scalar or a scalar Tensor. Defaults to 0.0.\n",
        "\n",
        "\n",
        "* epsilon: A small constant for numerical stability. This epsilon is \"epsilon hat\" in the Kingma and Ba paper (in the formula just before Section 2.1), not the epsilon in Algorithm 1 of the paper. Defaults to 1e-7.\n",
        "\n",
        "\n",
        "* centered: Boolean. If True, gradients are normalized by the estimated variance of the gradient; if False, by the uncentered second moment. Setting this to True may help with training, but is slightly more expensive in terms of computation and memory. Defaults to False.\n",
        "\n",
        "\n",
        "* name: Optional name prefix for the operations created when applying gradients. Defaults to \"RMSprop\".\n",
        "\n",
        "\n",
        "* **kwargs: Keyword arguments. Allowed to be one of \"clipnorm\" or \"clipvalue\". \"clipnorm\" (float) clips gradients by norm; \"clipvalue\" (float) clips gradients by value."
      ]
    },
    {
      "cell_type": "code",
      "metadata": {
        "id": "M0Q6_cqJ03jb"
      },
      "source": [
        "# opt = keras.optimizers.RMSprop()\n",
        "\n",
        "opt = keras.optimizers.RMSprop(lr=0.01, rho=0.9) # lr keeping higher to test\n"
      ],
      "execution_count": null,
      "outputs": []
    },
    {
      "cell_type": "code",
      "metadata": {
        "id": "rDTvL_xu03jc"
      },
      "source": [
        "# Compile model with RMSprop optimizer\n",
        "\n",
        "model_7.compile(optimizer= opt, \n",
        "              loss='categorical_crossentropy',\n",
        "              metrics=['accuracy'])"
      ],
      "execution_count": null,
      "outputs": []
    },
    {
      "cell_type": "code",
      "metadata": {
        "id": "vvAqC27403jc",
        "outputId": "f5b03ddc-4346-4091-f253-d9f522df7fde"
      },
      "source": [
        "# Train model\n",
        "\n",
        "training = model_7.fit(X_train, y_train, batch_size=98, epochs=20, validation_split=0.2) \n",
        "\n",
        "\n"
      ],
      "execution_count": null,
      "outputs": [
        {
          "output_type": "stream",
          "text": [
            "Epoch 1/20\n",
            "490/490 [==============================] - 4s 8ms/step - loss: 0.6389 - accuracy: 0.8459 - val_loss: 0.2910 - val_accuracy: 0.9252\n",
            "Epoch 2/20\n",
            "490/490 [==============================] - 4s 8ms/step - loss: 0.4249 - accuracy: 0.9099 - val_loss: 0.2661 - val_accuracy: 0.9449\n",
            "Epoch 3/20\n",
            "490/490 [==============================] - 4s 8ms/step - loss: 0.4631 - accuracy: 0.9120 - val_loss: 0.2296 - val_accuracy: 0.9427\n",
            "Epoch 4/20\n",
            "490/490 [==============================] - 4s 8ms/step - loss: 0.5079 - accuracy: 0.9119 - val_loss: 0.3264 - val_accuracy: 0.9546\n",
            "Epoch 5/20\n",
            "490/490 [==============================] - 4s 8ms/step - loss: 0.4999 - accuracy: 0.9134 - val_loss: 0.3008 - val_accuracy: 0.9578\n",
            "Epoch 6/20\n",
            "490/490 [==============================] - 4s 8ms/step - loss: 0.5095 - accuracy: 0.9156 - val_loss: 0.3059 - val_accuracy: 0.9353\n",
            "Epoch 7/20\n",
            "490/490 [==============================] - 4s 9ms/step - loss: 0.5724 - accuracy: 0.9107 - val_loss: 0.4093 - val_accuracy: 0.9497\n",
            "Epoch 8/20\n",
            "490/490 [==============================] - 4s 9ms/step - loss: 0.6524 - accuracy: 0.9075 - val_loss: 0.3908 - val_accuracy: 0.9525\n",
            "Epoch 9/20\n",
            "490/490 [==============================] - 4s 9ms/step - loss: 0.6548 - accuracy: 0.9005 - val_loss: 0.4533 - val_accuracy: 0.9426\n",
            "Epoch 10/20\n",
            "490/490 [==============================] - 4s 9ms/step - loss: 0.7490 - accuracy: 0.8868 - val_loss: 0.4783 - val_accuracy: 0.9501\n",
            "Epoch 11/20\n",
            "490/490 [==============================] - 4s 9ms/step - loss: 0.8227 - accuracy: 0.8835 - val_loss: 0.4699 - val_accuracy: 0.9402\n",
            "Epoch 12/20\n",
            "490/490 [==============================] - 4s 9ms/step - loss: 0.8317 - accuracy: 0.8749 - val_loss: 0.5069 - val_accuracy: 0.9347\n",
            "Epoch 13/20\n",
            "490/490 [==============================] - 4s 9ms/step - loss: 0.9343 - accuracy: 0.8506 - val_loss: 0.6496 - val_accuracy: 0.9041\n",
            "Epoch 14/20\n",
            "490/490 [==============================] - 5s 9ms/step - loss: 1.0265 - accuracy: 0.8402 - val_loss: 0.6062 - val_accuracy: 0.9197\n",
            "Epoch 15/20\n",
            "490/490 [==============================] - 4s 9ms/step - loss: 1.1899 - accuracy: 0.8043 - val_loss: 0.6965 - val_accuracy: 0.7992\n",
            "Epoch 16/20\n",
            "490/490 [==============================] - 5s 9ms/step - loss: 1.2232 - accuracy: 0.8131 - val_loss: 0.7803 - val_accuracy: 0.8629\n",
            "Epoch 17/20\n",
            "490/490 [==============================] - 4s 9ms/step - loss: 1.3442 - accuracy: 0.7894 - val_loss: 0.7731 - val_accuracy: 0.8808\n",
            "Epoch 18/20\n",
            "490/490 [==============================] - 4s 9ms/step - loss: 1.4894 - accuracy: 0.7280 - val_loss: 0.9243 - val_accuracy: 0.7950\n",
            "Epoch 19/20\n",
            "490/490 [==============================] - 4s 9ms/step - loss: 1.5709 - accuracy: 0.7236 - val_loss: 1.1366 - val_accuracy: 0.8059\n",
            "Epoch 20/20\n",
            "490/490 [==============================] - 4s 9ms/step - loss: 1.6700 - accuracy: 0.6980 - val_loss: 0.9711 - val_accuracy: 0.6836\n"
          ],
          "name": "stdout"
        }
      ]
    },
    {
      "cell_type": "code",
      "metadata": {
        "id": "QjjCLJ7o03jc",
        "outputId": "1f5c64a9-3a85-46d3-fd46-51fd0ee4ef3c"
      },
      "source": [
        "import matplotlib.pyplot as plt\n",
        "%matplotlib inline\n",
        "# list all data in training\n",
        "print(training.history.keys())\n",
        "# summarize training for accuracy\n",
        "plt.plot(training.history['accuracy'])\n",
        "plt.plot(training.history['val_accuracy'])\n",
        "plt.title('model accuracy')\n",
        "plt.ylabel('accuracy')\n",
        "plt.xlabel('epoch')\n",
        "plt.legend(['train', 'test'], loc='upper left')\n",
        "plt.show()\n",
        "# summarize traning for loss\n",
        "plt.plot(training.history['loss'])\n",
        "plt.plot(training.history['val_loss'])\n",
        "plt.title('model loss')\n",
        "plt.ylabel('loss')\n",
        "plt.xlabel('epoch')\n",
        "plt.legend(['train', 'test'], loc='upper left')\n",
        "plt.show()"
      ],
      "execution_count": null,
      "outputs": [
        {
          "output_type": "stream",
          "text": [
            "dict_keys(['loss', 'accuracy', 'val_loss', 'val_accuracy'])\n"
          ],
          "name": "stdout"
        },
        {
          "output_type": "display_data",
          "data": {
            "image/png": "[encoded data removed]",
            "text/plain": [
              "<Figure size 432x288 with 1 Axes>"
            ]
          },
          "metadata": {
            "tags": [],
            "needs_background": "light"
          }
        },
        {
          "output_type": "display_data",
          "data": {
            "image/png": "[encoded data removed]",
            "text/plain": [
              "<Figure size 432x288 with 1 Axes>"
            ]
          },
          "metadata": {
            "tags": [],
            "needs_background": "light"
          }
        }
      ]
    },
    {
      "cell_type": "markdown",
      "metadata": {
        "id": "ZInqVpA003jc"
      },
      "source": [
        "#### accuracy is decreasing after epoch 9"
      ]
    },
    {
      "cell_type": "code",
      "metadata": {
        "id": "SGb2-fa403jc",
        "outputId": "80c46570-10c6-444d-9338-56caec130df7"
      },
      "source": [
        "model_7.weights"
      ],
      "execution_count": null,
      "outputs": [
        {
          "output_type": "execute_result",
          "data": {
            "text/plain": [
              "[<tf.Variable 'dense_layer1/kernel:0' shape=(784, 512) dtype=float32, numpy=\n",
              " array([[ 0.03883603,  0.01690776,  0.0073985 , ..., -0.00622882,\n",
              "         -0.0638966 , -0.03492773],\n",
              "        [-0.04498775, -0.04744402,  0.06312975, ...,  0.03163497,\n",
              "         -0.06504241,  0.01396795],\n",
              "        [-0.0236189 ,  0.01847555, -0.02435064, ...,  0.00618066,\n",
              "         -0.02287203, -0.01031563],\n",
              "        ...,\n",
              "        [ 0.01045354,  0.05107086,  0.00291733, ..., -0.057116  ,\n",
              "         -0.04017382,  0.02741534],\n",
              "        [-0.02634649,  0.05369877, -0.05876906, ...,  0.04687462,\n",
              "          0.01683198,  0.0530329 ],\n",
              "        [ 0.01639901, -0.0346297 ,  0.00173654, ...,  0.0648998 ,\n",
              "          0.05791479, -0.05046773]], dtype=float32)>,\n",
              " <tf.Variable 'dense_layer1/bias:0' shape=(512,) dtype=float32, numpy=\n",
              " array([-3.16070914e-02, -4.59911451e-02, -7.30986521e-02, -8.00008327e-02,\n",
              "        -3.16051953e-02, -6.21204749e-02, -6.29092380e-03, -6.15785718e-02,\n",
              "        -3.16218920e-02, -3.16209011e-02, -2.89212186e-02, -3.16203460e-02,\n",
              "        -3.16208117e-02, -3.15127298e-02, -6.32231086e-02, -1.42060208e+00,\n",
              "        -9.39631090e-02, -2.14635152e-02, -2.47893333e-02,  1.56428897e+00,\n",
              "        -8.72474909e-02, -4.50938120e-02, -1.02705225e-01, -6.07079007e-02,\n",
              "         9.01526749e-01, -2.77336502e+00, -3.25089321e-02, -3.16215046e-02,\n",
              "        -5.70418164e-02, -3.16222049e-02, -1.59855235e+00, -3.16213518e-02,\n",
              "        -3.16209905e-02, -9.38010984e-04, -8.66804868e-02, -6.86149672e-02,\n",
              "        -3.16223055e-02, -1.19842947e+00, -6.74736276e-02, -5.65180853e-02,\n",
              "        -3.16196643e-02, -3.16217840e-02, -1.83111966e-01,  1.19750392e+00,\n",
              "        -2.29450744e-02, -5.08819893e-02,  5.79748005e-02, -3.61474156e-02,\n",
              "        -5.93321435e-02, -9.47222710e-02, -4.92873490e-02, -6.22436255e-02,\n",
              "        -1.81735802e+00, -8.12501490e-01, -1.21208382e+00, -3.56859374e+00,\n",
              "        -1.42764246e+00, -1.59407426e-02, -2.63588452e+00, -6.32226914e-02,\n",
              "        -7.09504187e-02, -1.20593095e+00,  3.48503470e-01, -6.28647730e-02,\n",
              "        -2.01493859e-01, -2.44673435e-02, -4.91830781e-02, -1.50309122e+00,\n",
              "        -5.93390316e-04, -2.37800431e+00, -9.60750729e-02, -3.16179842e-02,\n",
              "        -1.21518147e+00, -6.13475665e-02, -3.71596813e-02, -1.17989741e-02,\n",
              "        -1.34649289e+00, -6.13053143e-03, -7.97547400e-05,  9.08877015e-01,\n",
              "        -2.74130665e-02, -3.16208713e-02, -1.83036399e+00, -1.39590359e+00,\n",
              "        -2.84603000e+00,  4.59298901e-02, -2.30967999e-05, -2.16337347e+00,\n",
              "        -1.80395627e+00, -2.28123236e+00, -2.99523715e-02, -1.88428491e-01,\n",
              "        -1.82372272e-01, -5.90373240e-02, -1.94730107e-02, -3.16212662e-02,\n",
              "        -1.09731770e+00, -4.23272848e-02, -1.59927346e-02, -1.94156158e+00,\n",
              "        -1.84358680e+00, -4.63795066e-01, -3.38789523e-02, -4.87781279e-02,\n",
              "        -3.82473990e-02, -4.28662486e-02, -1.65457797e+00, -3.16204503e-02,\n",
              "        -6.31743670e-02, -1.97517827e-01,  6.92196178e+00, -5.71515895e-02,\n",
              "        -1.87481511e-02, -6.28018603e-02, -7.86340833e-02, -1.39767732e-02,\n",
              "        -1.04325190e-01, -3.16151977e-02, -6.05741665e-02, -2.45311046e+00,\n",
              "        -4.46457788e-03, -5.70714474e-06, -2.34714723e+00, -5.34232855e-02,\n",
              "        -1.41496342e-02,  1.31733596e-01, -1.18443869e-01, -2.30855703e+00,\n",
              "        -8.69730711e-02, -3.63691039e-02, -2.12216489e-02, -2.27279514e-02,\n",
              "        -1.51697111e+00, -3.16194706e-02, -2.78440762e+00, -5.41741475e-02,\n",
              "        -9.91031341e-03, -1.14751264e-01, -8.12624991e-02, -1.02320984e-02,\n",
              "        -8.54843184e-02, -6.23393133e-02, -6.89310208e-02, -9.39062908e-02,\n",
              "        -1.06647754e+00, -3.16210948e-02, -6.76542893e-02, -7.98756540e-01,\n",
              "        -9.40891802e-02, -3.16190869e-02, -7.70390034e-01, -1.99940145e+00,\n",
              "        -6.30969405e-02, -1.37839007e+00, -2.10323048e+00, -1.39275181e+00,\n",
              "        -5.45483902e-02, -3.16216536e-02, -1.28793871e+00, -1.38686998e-02,\n",
              "        -3.16209607e-02, -1.21530402e+00, -6.32184595e-02, -1.00993824e+00,\n",
              "        -5.10016307e-02, -3.16209644e-02, -4.88389656e-02, -1.70297956e+00,\n",
              "        -4.75670807e-02, -1.41523659e+00, -5.00664055e-01, -1.44701433e+00,\n",
              "        -3.84556390e-02, -1.12614000e+00, -3.16200145e-02, -3.16222906e-02,\n",
              "        -4.87283111e-01, -3.16217914e-02, -6.32323176e-02, -2.34218216e+00,\n",
              "        -8.30637872e-01, -6.30453974e-02, -3.10436003e-02, -4.51264381e-02,\n",
              "        -6.21318370e-02, -2.10611343e+00, -1.90612912e+00, -3.16208191e-02,\n",
              "        -3.25982496e-02, -8.21629405e-01, -6.30488098e-02, -1.94495134e-02,\n",
              "        -9.82039273e-01, -6.32363111e-02, -1.59998417e+00, -4.07899246e-02,\n",
              "        -1.06091574e-02, -1.03933532e-02,  6.27381876e-02, -2.15292859e+00,\n",
              "        -3.16220671e-02, -3.16201709e-02, -8.56954157e-02, -1.39153618e-02,\n",
              "        -3.16210315e-02, -1.62077807e-02, -5.91688827e-02, -5.13875438e-03,\n",
              "        -1.23990226e+00, -8.43460083e-01, -7.24335909e-02, -4.86139334e-06,\n",
              "        -1.17422605e+00, -2.68266187e-03, -1.42044397e-02, -1.50548291e+00,\n",
              "        -2.21149611e+00, -1.69933391e+00, -9.83304024e-01, -3.16214822e-02,\n",
              "        -1.89438391e+00, -1.91141295e+00, -3.16159911e-02, -3.89300436e-02,\n",
              "        -3.15924883e-02, -6.31173700e-02, -4.77087125e-02, -2.97061372e+00,\n",
              "        -3.16352248e-02, -1.21867180e+00, -3.16201672e-02, -1.67365229e+00,\n",
              "        -5.86102158e-02, -1.08890820e+00, -7.98050240e-02, -3.16215605e-02,\n",
              "        -6.32331595e-02, -6.31985292e-02, -6.32313490e-02, -1.95801473e+00,\n",
              "        -1.13467291e-01, -6.38546944e-02, -1.01312041e+00, -6.36148229e-02,\n",
              "        -3.16215567e-02, -6.32326081e-02, -3.16190459e-02, -1.77139032e+00,\n",
              "        -4.40810442e-01, -3.16213630e-02, -1.55962276e+00, -2.42107558e+00,\n",
              "        -3.16167921e-02, -3.99957523e-02, -7.71897882e-02, -3.18585783e-02,\n",
              "        -1.73411536e+00, -3.16210985e-02, -7.66622722e-02, -1.44137979e+00,\n",
              "        -1.04503222e-01, -2.24390769e+00,  2.68595219e-01, -6.12795591e-01,\n",
              "        -2.28930068e+00,  8.74459445e-01, -3.16216946e-02, -1.39556928e-02,\n",
              "        -3.16219144e-02, -1.06334174e+00, -4.21896689e-02, -7.41296448e-03,\n",
              "        -1.63379502e+00, -9.23844650e-02, -3.22834030e-02, -1.57347962e-01,\n",
              "        -1.75892246e+00, -3.13358456e-02, -6.98160976e-02, -5.70360199e-02,\n",
              "        -6.37099817e-02, -4.62592304e-01, -9.94265497e-01,  5.82262874e-06,\n",
              "        -3.14788036e-02, -1.18824197e-02, -6.22243471e-02, -1.41018152e+00,\n",
              "         4.08543968e+00, -1.44907403e+00, -1.39271140e+00, -1.15953460e-02,\n",
              "        -3.16218957e-02, -4.12443951e-02, -2.46529225e-02, -4.33605850e-01,\n",
              "        -9.21948999e-02, -9.98265028e-01, -6.22629859e-02, -3.16210054e-02,\n",
              "        -2.07194448e+00, -3.16220336e-02, -3.16193812e-02, -7.70804167e-01,\n",
              "        -2.14639568e+00, -1.13612163e+00, -4.74189743e-02, -6.27935603e-02,\n",
              "        -3.18418145e-02, -1.81572652e+00, -1.95138216e+00, -6.32008463e-02,\n",
              "        -8.30404162e-01, -3.16217393e-02, -6.92449659e-02, -1.43704176e+00,\n",
              "        -4.86979932e-02, -7.88077712e-01, -2.36739814e-01, -1.22962724e-02,\n",
              "        -6.31764084e-02, -3.82359847e-02, -3.16219963e-02, -2.72133660e+00,\n",
              "        -3.16217393e-02, -5.01206145e-02,  4.47593629e-05, -6.05433900e-03,\n",
              "         2.14551091e-01,  8.21151197e-01, -3.16205136e-02, -5.76146841e-02,\n",
              "        -8.19140255e-01, -5.65149449e-02, -5.36261350e-02, -5.30117691e-01,\n",
              "        -2.35591996e-02, -5.54637946e-02, -3.19217372e+00, -7.34548450e-01,\n",
              "        -1.31210104e-01, -3.95660996e-02, -4.76124957e-02, -2.14693304e-02,\n",
              "        -1.66477114e-02, -3.86056826e-02,  1.30201602e+00, -3.16205621e-02,\n",
              "        -9.21696499e-02, -3.16218249e-02, -3.16211954e-02, -2.01480460e+00,\n",
              "        -6.05928712e-02, -6.15161732e-02, -1.84252858e-05, -1.95411853e-02,\n",
              "        -3.16214338e-02, -1.77462971e+00, -6.28721118e-02, -1.51938152e+00,\n",
              "        -2.02523142e-01, -3.16218361e-02, -2.63841063e-01, -1.56405437e+00,\n",
              "        -1.12933882e-01, -1.36008286e+00, -3.16215679e-02, -2.04147585e-02,\n",
              "        -2.95809960e+00, -3.90675515e-01, -1.03193223e-01,  2.02571797e+00,\n",
              "         4.04878482e-02, -8.31280351e-02, -9.66525197e-01, -3.16190720e-02,\n",
              "         1.78467020e-01, -5.64945042e-01, -6.08398393e-02, -5.25406718e-01,\n",
              "        -7.38467425e-02, -3.43496539e-02, -1.58849023e-02, -4.08475846e-02,\n",
              "        -6.15169629e-02, -6.10042736e-02,  1.44379306e+00, -1.69547737e+00,\n",
              "        -6.54439092e-01, -2.80253744e+00, -1.83737302e+00, -1.81436650e-02,\n",
              "        -1.00706196e+00, -2.22714496e+00, -6.17733821e-02, -8.58837962e-02,\n",
              "        -3.16217244e-02, -6.20328933e-02, -1.30138099e+00, -1.81502068e+00,\n",
              "        -3.66178304e-02, -3.19236703e-02, -3.62301711e-03, -2.70569563e+00,\n",
              "        -9.63136032e-02, -9.99073923e-01, -1.70379102e+00, -5.40031642e-02,\n",
              "        -2.36017895e+00, -8.19406807e-02, -3.16221602e-02, -3.75862382e-02,\n",
              "        -2.00043845e+00, -9.81451035e-01, -1.44088894e-01, -6.68630302e-02,\n",
              "        -3.16110812e-02,  1.95215583e-01, -5.15059307e-02, -3.72519419e-02,\n",
              "        -2.14444113e+00, -6.29409328e-02, -3.16201039e-02, -4.57664952e-02,\n",
              "        -1.46648347e-01, -3.02981824e-01, -3.75127494e-02, -6.32241443e-02,\n",
              "        -3.47097576e-01, -3.16221863e-02, -1.03144002e+00, -1.72144055e+00,\n",
              "        -1.34840381e+00, -4.90734801e-02, -2.85409856e+00, -2.74702764e+00,\n",
              "        -2.35765195e+00, -3.16210128e-02, -1.64924681e+00, -9.19068098e-01,\n",
              "        -3.94620359e-01,  6.19378686e-01, -8.56788084e-02, -7.56874084e-02,\n",
              "        -3.60398269e+00, -5.80592453e-02, -5.21542206e-02, -3.16204801e-02,\n",
              "        -3.16210389e-02, -6.28655329e-02, -4.36464325e-02, -6.15715533e-02,\n",
              "        -6.32106587e-02, -6.00431710e-02, -3.16207372e-02, -2.34988379e+00,\n",
              "        -7.29294121e-02, -6.04824349e-02, -5.98059744e-02,  1.31378263e-01,\n",
              "        -3.12772155e+00,  1.26218796e+00, -3.16219553e-02, -1.84170592e+00,\n",
              "        -4.03037444e-02, -1.51794660e+00, -3.16222422e-02, -5.56306615e-02,\n",
              "        -8.85318965e-02, -4.38426882e-02, -3.16221006e-02, -1.31599344e-02,\n",
              "        -4.93848510e-02, -1.08207399e-02, -1.87103415e+00, -9.11993673e-04,\n",
              "        -3.16209458e-02, -3.85104418e-02, -1.80862844e-05, -1.13309133e+00,\n",
              "        -6.31211847e-02,  5.56986046e+00, -4.96165380e-02, -5.14077023e-02,\n",
              "        -7.86036432e-01, -1.18736231e+00, -7.75912523e-01, -3.16214822e-02,\n",
              "        -2.10097933e+00, -2.25659418e+00, -3.27751450e-02,  8.19677040e-02,\n",
              "        -2.55555101e-02,  4.75692958e-01,  7.52508640e-06, -1.18690109e+00,\n",
              "        -3.71027403e-02, -6.25339076e-02, -3.16154063e-02, -3.16221714e-02,\n",
              "        -9.36738849e-02, -8.31134468e-02, -3.15097533e-02, -2.32845955e-02,\n",
              "        -3.16025466e-02,  6.80194569e+00, -6.31084964e-02, -1.22908223e+00,\n",
              "        -9.96576905e-01, -1.68394184e+00, -7.59086944e-03, -3.16213630e-02],\n",
              "       dtype=float32)>,\n",
              " <tf.Variable 'dense_layer_2/kernel:0' shape=(512, 256) dtype=float32, numpy=\n",
              " array([[ 0.03214382, -0.06825505, -0.00202363, ...,  0.05800673,\n",
              "          0.08378343,  0.0791137 ],\n",
              "        [ 0.07596669, -0.01022574, -0.0900728 , ...,  0.030659  ,\n",
              "          0.00658243,  0.02943293],\n",
              "        [ 0.07877933,  0.10596335,  0.01824231, ..., -0.02829893,\n",
              "          0.13346897,  0.0251969 ],\n",
              "        ...,\n",
              "        [ 0.5194941 , -0.18279906,  0.25216812, ..., -0.87080294,\n",
              "          0.03957416,  0.7646095 ],\n",
              "        [ 0.08225663, -0.00713064, -0.08594324, ..., -0.02687629,\n",
              "         -0.028715  ,  0.08304824],\n",
              "        [-0.09273069,  0.05391098, -0.07166861, ...,  0.11995028,\n",
              "          0.11644147,  0.02572741]], dtype=float32)>,\n",
              " <tf.Variable 'dense_layer_2/bias:0' shape=(256,) dtype=float32, numpy=\n",
              " array([-3.3359308 , -1.8749471 , -2.2133613 , -0.89444584, -2.8755834 ,\n",
              "        -2.7614734 , -2.3359702 , -0.9417709 , -4.7112656 , -1.6676279 ,\n",
              "        -2.3602598 , -1.8539728 , -2.975032  , -4.691119  , -2.5153418 ,\n",
              "         2.3900506 , -3.6994154 , -2.3978758 , -1.088717  , -2.326518  ,\n",
              "        -1.933302  ,  5.705422  , -2.515899  , -2.6916075 , -1.6169083 ,\n",
              "        -1.1667966 , -1.5834085 , -3.8461275 , -2.891593  , -2.788617  ,\n",
              "        -2.2900572 ,  0.9259829 , -3.4193347 , -3.233413  , -2.5940166 ,\n",
              "        -4.7706423 , -4.204241  , -2.107638  , -2.2645283 , -1.9695697 ,\n",
              "        -0.83285123, -3.6109207 ,  9.202366  , -2.2029622 , -1.0815709 ,\n",
              "        -1.0429296 , -2.639264  , -3.348942  ,  0.951063  , -3.1166232 ,\n",
              "        -2.7324429 , -1.4259139 , -2.0375109 , -1.8728741 , -1.9054509 ,\n",
              "        -2.0449831 , -2.152473  , -1.1241417 , -4.010866  , -3.3137546 ,\n",
              "        -1.3102126 , -2.3174794 , -3.9537635 , -2.9481554 , -0.2423195 ,\n",
              "        -1.6318991 , -3.3470457 , -2.0210938 , -2.5168993 , -3.5630312 ,\n",
              "         0.9170004 , -2.8062766 , -3.2250164 , -2.0119216 , -1.0099844 ,\n",
              "        -2.0753286 , -1.577343  , -2.2607598 , -1.4311417 , -2.3555148 ,\n",
              "         1.0011278 , -1.7685513 ,  2.9076586 ,  1.630841  , -1.689003  ,\n",
              "        -2.4710941 , -2.395581  , -0.6327062 , -2.0618148 , -1.5597408 ,\n",
              "        -1.1251687 , -2.7616088 , -0.33170012, -1.1668471 , -3.2727077 ,\n",
              "        -1.4268901 , -2.6801312 ,  3.7280383 , -3.2560763 , -2.1981254 ,\n",
              "        -3.2521155 , -1.7208749 , -1.6255251 ,  2.375831  , -1.3171736 ,\n",
              "        -1.9452938 , -2.9621713 , -2.8382967 , -2.7575495 , -3.633759  ,\n",
              "        -2.6162522 ,  6.597296  , -1.7454861 , -3.7827904 , -2.8894234 ,\n",
              "        -0.77137125, -2.15321   , -2.770359  , -1.3485404 , -2.1972506 ,\n",
              "        -0.01249794, -0.92763567, -2.8169215 , -2.2625246 , -2.1770425 ,\n",
              "        -2.3753817 , -2.7099645 , -2.3375573 , -3.9470406 , -2.2932575 ,\n",
              "        -1.097596  , -1.5194002 , -2.0660908 , -2.4268742 , -2.8974926 ,\n",
              "        -0.5774376 , -2.5301635 , -0.6323802 , 11.253663  , -3.876146  ,\n",
              "        -3.3567173 , -2.6553786 , -2.6016784 , -2.603822  , -3.7090623 ,\n",
              "        -3.620588  , -3.603355  , -3.2942226 , -3.239966  , -1.3901727 ,\n",
              "        -2.7419515 , -2.845012  , -1.4929249 ,  0.2720007 , -3.2082243 ,\n",
              "        -3.0487385 , -3.0604215 , -3.9501708 , -1.2409232 , -0.10406426,\n",
              "        -2.7636821 , -2.5596452 , -3.0827446 ,  1.6139255 , -3.596968  ,\n",
              "        -2.247467  , -3.1428132 , -3.142808  , -1.4944836 , -2.4768503 ,\n",
              "        -1.1734849 , -1.0361638 , -3.318887  , -3.9628856 , -2.9438462 ,\n",
              "        -2.5570595 ,  0.3915288 , -3.2812755 , -4.386566  , -2.9659483 ,\n",
              "        -2.3873098 , -1.6523399 , -5.207448  , -1.9578615 , -2.1168864 ,\n",
              "        -2.3314574 ,  1.7637824 , -2.528659  , -2.303358  , -1.6383035 ,\n",
              "        -4.2818446 , -1.0464418 , -2.1253796 , -0.3249492 , -3.2263024 ,\n",
              "         4.8726354 ,  4.715319  , -1.5377747 , -2.3364425 , -0.62662697,\n",
              "        -1.517477  , -1.7458146 , -2.6974726 , -1.3131267 , -3.97574   ,\n",
              "         0.88637245, -2.2255607 , -2.1399229 ,  1.096991  , -2.0621755 ,\n",
              "        -3.0620337 , -2.4513614 , -3.9152305 ,  8.552252  , -1.6215423 ,\n",
              "         1.1416905 , -3.2134178 , -2.7789307 , -3.821574  , -2.4219606 ,\n",
              "        -1.4087414 , -3.033785  , -1.3712555 , -0.82940334, -2.3256214 ,\n",
              "        -1.8336647 , -2.3515983 , -3.1852524 , -1.2546523 , 11.520983  ,\n",
              "        -3.043868  , -0.2957311 , -2.725468  , -1.6068225 , -3.6551275 ,\n",
              "         1.4605199 , -1.6112537 , -1.5507749 , -2.0309072 , -3.291596  ,\n",
              "        -2.6002614 , -1.5238472 , -2.2778533 , -2.6118805 , -3.2801392 ,\n",
              "        -2.0774145 , -3.270582  , -2.779875  , -3.453602  ,  2.025309  ,\n",
              "        -1.61845   , -0.68489164, -2.7769098 , -2.913021  , -3.1691477 ,\n",
              "        -1.8772078 ], dtype=float32)>,\n",
              " <tf.Variable 'dense_layer_3/kernel:0' shape=(256, 128) dtype=float32, numpy=\n",
              " array([[ 0.35731736, -0.04870904,  0.31757772, ..., -0.1092586 ,\n",
              "         -0.12180133,  0.00446674],\n",
              "        [ 0.3678234 , -0.13879775, -0.2795493 , ...,  0.33821246,\n",
              "         -0.13196388, -0.17629494],\n",
              "        [-0.18800084, -0.37229064, -0.3330793 , ..., -0.27456957,\n",
              "         -0.28419375, -0.00384425],\n",
              "        ...,\n",
              "        [ 0.1670663 , -0.1308537 ,  0.06671736, ...,  0.28508756,\n",
              "         -0.21135929,  0.12557837],\n",
              "        [ 0.6653174 , -0.07974485,  0.25049025, ...,  0.01172661,\n",
              "          0.24373515, -0.31549436],\n",
              "        [ 0.12103519, -0.02859787, -0.00979271, ..., -0.05968841,\n",
              "         -0.2808052 ,  0.06399839]], dtype=float32)>,\n",
              " <tf.Variable 'dense_layer_3/bias:0' shape=(128,) dtype=float32, numpy=\n",
              " array([-2.4614458 , -2.1658366 , -1.2031853 , -2.7882133 , -1.5284253 ,\n",
              "        -1.2510005 , -0.9539896 , -1.8144778 , -1.4685817 , -1.9314951 ,\n",
              "        -0.845082  , -0.7440279 , -1.8036743 , -2.0495384 , -0.77806157,\n",
              "        -1.2794096 , -3.1387348 , -1.7127448 , -1.5370212 , -1.2521542 ,\n",
              "        -2.996623  , -0.99491364, -1.5916644 , -1.8611488 , -1.1951259 ,\n",
              "        -0.55450475, -0.77194244, -3.0347476 , -1.008022  , -0.2278797 ,\n",
              "        -1.4441911 , -1.1204686 , -1.7998208 , -0.54462916, -1.6254086 ,\n",
              "        -1.3761249 , -1.6166371 , -2.4210854 , -1.033483  , -1.821645  ,\n",
              "        -1.8453385 , -2.9768753 , -0.6579149 , -0.80964243, -1.4906023 ,\n",
              "        -3.5987294 , -1.4481941 , -1.5029022 , -2.3870137 , -2.4021657 ,\n",
              "        -0.6974051 , -3.665523  , -0.99283326, -1.0440394 , -0.65758395,\n",
              "        -2.203639  , -1.2029221 , -1.2841116 , -3.5961213 , -1.8432267 ,\n",
              "        -0.5633985 , -1.763571  , -0.81045026, -1.7607707 , -1.0311395 ,\n",
              "        -1.1754861 , -0.90714693, -2.4222796 , -2.1868773 , -1.5521927 ,\n",
              "        -1.6593255 , -3.665573  , -2.4894698 , -1.6495433 , -2.3268082 ,\n",
              "        -0.12271357, -1.0729424 , -3.5899796 , -0.44208014, -1.2377703 ,\n",
              "        -0.8900709 , -2.1531608 , -0.70328945, -0.88851905, -1.7397622 ,\n",
              "        -1.7597139 , -4.0675883 , -3.019194  , -3.0522666 , -2.122567  ,\n",
              "        -0.83753294, -1.8020502 , -2.1763718 , -1.4469998 , -2.3947902 ,\n",
              "        -1.3217111 , -1.3819386 , -1.3185022 , -2.4487643 , -0.7024911 ,\n",
              "        -0.981984  , -1.5207899 , -1.2167791 , -1.4351075 , -0.94875914,\n",
              "        -1.507474  , -0.5335807 , -3.3355634 , -2.0178256 , -3.6130652 ,\n",
              "        -0.672569  , -2.1685126 , -1.7043335 , -1.2031443 , -1.4308517 ,\n",
              "        -1.8729419 , -1.7680266 , -0.6027887 , -2.0455232 , -2.2107978 ,\n",
              "        -1.3925285 , -2.0504289 , -1.1594808 , -1.4156973 , -1.0809679 ,\n",
              "        -1.2095553 , -1.8182051 , -1.1779395 ], dtype=float32)>,\n",
              " <tf.Variable 'dense_layer_4/kernel:0' shape=(128, 10) dtype=float32, numpy=\n",
              " array([[-2.7532995 , -2.4517527 , -2.0782735 , ..., -2.637158  ,\n",
              "         -2.61844   , -2.9814966 ],\n",
              "        [-1.6159631 , -1.6648921 , -1.3874474 , ..., -0.9233446 ,\n",
              "         -1.6360033 , -1.0759302 ],\n",
              "        [-1.7618535 , -2.212176  , -2.0300496 , ..., -1.7065821 ,\n",
              "         -1.7238911 , -1.2639167 ],\n",
              "        ...,\n",
              "        [-1.0765084 , -1.4038185 , -0.80320996, ..., -1.2166468 ,\n",
              "         -0.45144784, -0.50785863],\n",
              "        [-0.6022288 , -1.421375  , -0.8889367 , ..., -0.90768164,\n",
              "         -1.0753843 , -0.8734682 ],\n",
              "        [-1.2672993 , -0.8479545 , -1.105824  , ..., -0.28343055,\n",
              "         -1.1964508 , -1.0475281 ]], dtype=float32)>,\n",
              " <tf.Variable 'dense_layer_4/bias:0' shape=(10,) dtype=float32, numpy=\n",
              " array([-2.5177526, -3.0519674, -2.434652 , -2.1257913, -2.5985827,\n",
              "        -2.4299712, -2.8340528, -2.1330152, -1.5750959, -2.018695 ],\n",
              "       dtype=float32)>]"
            ]
          },
          "metadata": {
            "tags": []
          },
          "execution_count": 115
        }
      ]
    },
    {
      "cell_type": "code",
      "metadata": {
        "id": "1aWw4C-903jd",
        "outputId": "bff0e6ee-b3a4-4e4f-95de-3074c3c2659a"
      },
      "source": [
        "#evaluate model\n",
        "\n",
        "#evaluate the model\n",
        "test_loss, test_acc = model_7.evaluate(X_test, y_test)\n",
        "print()\n",
        "print('Test Loss', test_loss)\n",
        "print()\n",
        "print('Test accuracy:', test_acc)"
      ],
      "execution_count": null,
      "outputs": [
        {
          "output_type": "stream",
          "text": [
            "313/313 [==============================] - 0s 1ms/step - loss: 1.0271 - accuracy: 0.6730\n",
            "\n",
            "Test Loss 1.0270614624023438\n",
            "\n",
            "Test accuracy: 0.6729999780654907\n"
          ],
          "name": "stdout"
        }
      ]
    },
    {
      "cell_type": "markdown",
      "metadata": {
        "id": "foFRhnVW03jd"
      },
      "source": [
        "poor performance\n",
        "\n",
        "\n",
        "opt = keras.optimizers.RMSprop(lr=0.01, rho=0.9)"
      ]
    },
    {
      "cell_type": "markdown",
      "metadata": {
        "id": "oRIfQEiG03jd"
      },
      "source": [
        "# end of model_7"
      ]
    },
    {
      "cell_type": "markdown",
      "metadata": {
        "id": "UPq2v4Qp03je"
      },
      "source": [
        "## Does manipulating the learning rate affect the model? Justify your answer."
      ]
    },
    {
      "cell_type": "markdown",
      "metadata": {
        "id": "wjUpyIlB03je"
      },
      "source": [
        "## repeating model_7 with lower lr=0.001"
      ]
    },
    {
      "cell_type": "code",
      "metadata": {
        "id": "bl3pPZDh03je"
      },
      "source": [
        "# opt = keras.optimizers.RMSprop()\n",
        "\n",
        "opt = keras.optimizers.RMSprop(lr=0.001, rho=0.9) # lr keeping higher to test\n"
      ],
      "execution_count": null,
      "outputs": []
    },
    {
      "cell_type": "code",
      "metadata": {
        "id": "h3Mw_OrE03je"
      },
      "source": [
        "# Compile model with RMSprop optimizer\n",
        "\n",
        "model_7.compile(optimizer= opt, \n",
        "              loss='categorical_crossentropy',\n",
        "              metrics=['accuracy'])"
      ],
      "execution_count": null,
      "outputs": []
    },
    {
      "cell_type": "code",
      "metadata": {
        "id": "24f3lZEO03je",
        "outputId": "347479d8-a585-4e57-817b-2307d38d82bc"
      },
      "source": [
        "# Train model\n",
        "\n",
        "training = model_7.fit(X_train, y_train, batch_size=98, epochs=20, validation_split=0.2) \n"
      ],
      "execution_count": null,
      "outputs": [
        {
          "output_type": "stream",
          "text": [
            "Epoch 1/20\n",
            "490/490 [==============================] - 4s 8ms/step - loss: 1.3226 - accuracy: 0.7217 - val_loss: 0.9035 - val_accuracy: 0.8315\n",
            "Epoch 2/20\n",
            "490/490 [==============================] - 4s 8ms/step - loss: 1.1767 - accuracy: 0.7819 - val_loss: 1.0563 - val_accuracy: 0.8581\n",
            "Epoch 3/20\n",
            "490/490 [==============================] - 4s 8ms/step - loss: 1.2372 - accuracy: 0.7881 - val_loss: 0.9036 - val_accuracy: 0.8612\n",
            "Epoch 4/20\n",
            "490/490 [==============================] - 4s 8ms/step - loss: 1.1078 - accuracy: 0.8014 - val_loss: 0.9324 - val_accuracy: 0.8747\n",
            "Epoch 5/20\n",
            "490/490 [==============================] - 4s 9ms/step - loss: 1.0517 - accuracy: 0.8059 - val_loss: 1.0219 - val_accuracy: 0.8702\n",
            "Epoch 6/20\n",
            "490/490 [==============================] - 4s 9ms/step - loss: 1.1071 - accuracy: 0.8067 - val_loss: 1.0798 - val_accuracy: 0.8807\n",
            "Epoch 7/20\n",
            "490/490 [==============================] - 4s 9ms/step - loss: 1.0030 - accuracy: 0.8111 - val_loss: 1.0360 - val_accuracy: 0.8924\n",
            "Epoch 8/20\n",
            "490/490 [==============================] - 5s 9ms/step - loss: 1.0603 - accuracy: 0.8119 - val_loss: 1.0325 - val_accuracy: 0.8817\n",
            "Epoch 9/20\n",
            "490/490 [==============================] - 5s 9ms/step - loss: 1.0775 - accuracy: 0.8064 - val_loss: 1.0134 - val_accuracy: 0.8945\n",
            "Epoch 10/20\n",
            "490/490 [==============================] - 5s 9ms/step - loss: 1.0647 - accuracy: 0.8174 - val_loss: 0.8896 - val_accuracy: 0.8838\n",
            "Epoch 11/20\n",
            "490/490 [==============================] - 5s 9ms/step - loss: 0.9976 - accuracy: 0.8214 - val_loss: 0.8723 - val_accuracy: 0.8908\n",
            "Epoch 12/20\n",
            "490/490 [==============================] - 4s 9ms/step - loss: 1.0118 - accuracy: 0.8247 - val_loss: 0.8756 - val_accuracy: 0.8985\n",
            "Epoch 13/20\n",
            "490/490 [==============================] - 5s 9ms/step - loss: 1.0362 - accuracy: 0.8241 - val_loss: 0.8206 - val_accuracy: 0.8854\n",
            "Epoch 14/20\n",
            "490/490 [==============================] - 5s 9ms/step - loss: 0.9147 - accuracy: 0.8234 - val_loss: 0.7882 - val_accuracy: 0.8867\n",
            "Epoch 15/20\n",
            "490/490 [==============================] - 5s 9ms/step - loss: 0.9990 - accuracy: 0.8233 - val_loss: 0.8965 - val_accuracy: 0.8900\n",
            "Epoch 16/20\n",
            "490/490 [==============================] - 5s 10ms/step - loss: 0.9211 - accuracy: 0.8242 - val_loss: 0.9400 - val_accuracy: 0.8985\n",
            "Epoch 17/20\n",
            "490/490 [==============================] - 5s 10ms/step - loss: 0.8626 - accuracy: 0.8262 - val_loss: 0.9909 - val_accuracy: 0.9107\n",
            "Epoch 18/20\n",
            "490/490 [==============================] - 5s 9ms/step - loss: 0.9140 - accuracy: 0.8415 - val_loss: 0.9090 - val_accuracy: 0.9132\n",
            "Epoch 19/20\n",
            "490/490 [==============================] - 5s 10ms/step - loss: 0.9095 - accuracy: 0.8346 - val_loss: 0.8432 - val_accuracy: 0.9083\n",
            "Epoch 20/20\n",
            "490/490 [==============================] - 5s 10ms/step - loss: 0.8648 - accuracy: 0.8343 - val_loss: 0.9924 - val_accuracy: 0.9211\n"
          ],
          "name": "stdout"
        }
      ]
    },
    {
      "cell_type": "code",
      "metadata": {
        "id": "MoWob2tI03jf",
        "outputId": "9e9c05d5-6ccc-43c1-b69c-c588b9314f11"
      },
      "source": [
        "import matplotlib.pyplot as plt\n",
        "%matplotlib inline\n",
        "# list all data in training\n",
        "print(training.history.keys())\n",
        "# summarize training for accuracy\n",
        "plt.plot(training.history['accuracy'])\n",
        "plt.plot(training.history['val_accuracy'])\n",
        "plt.title('model accuracy')\n",
        "plt.ylabel('accuracy')\n",
        "plt.xlabel('epoch')\n",
        "plt.legend(['train', 'test'], loc='upper left')\n",
        "plt.show()\n",
        "# summarize traning for loss\n",
        "plt.plot(training.history['loss'])\n",
        "plt.plot(training.history['val_loss'])\n",
        "plt.title('model loss')\n",
        "plt.ylabel('loss')\n",
        "plt.xlabel('epoch')\n",
        "plt.legend(['train', 'test'], loc='upper left')\n",
        "plt.show()"
      ],
      "execution_count": null,
      "outputs": [
        {
          "output_type": "stream",
          "text": [
            "dict_keys(['loss', 'accuracy', 'val_loss', 'val_accuracy'])\n"
          ],
          "name": "stdout"
        },
        {
          "output_type": "display_data",
          "data": {
            "image/png": "[encoded data removed]",
            "text/plain": [
              "<Figure size 432x288 with 1 Axes>"
            ]
          },
          "metadata": {
            "tags": [],
            "needs_background": "light"
          }
        },
        {
          "output_type": "display_data",
          "data": {
            "image/png": "[encoded data removed]",
            "text/plain": [
              "<Figure size 432x288 with 1 Axes>"
            ]
          },
          "metadata": {
            "tags": [],
            "needs_background": "light"
          }
        }
      ]
    },
    {
      "cell_type": "code",
      "metadata": {
        "id": "KfgRo4aO03jf",
        "outputId": "408c3011-1d17-470d-fa35-1e54a3fcc185"
      },
      "source": [
        "#evaluate model\n",
        "\n",
        "#evaluate the model\n",
        "test_loss, test_acc = model_7.evaluate(X_test, y_test)\n",
        "print()\n",
        "print('Test Loss', test_loss)\n",
        "print()\n",
        "print('Test accuracy:', test_acc)"
      ],
      "execution_count": null,
      "outputs": [
        {
          "output_type": "stream",
          "text": [
            "313/313 [==============================] - 0s 1ms/step - loss: 0.6741 - accuracy: 0.9225\n",
            "\n",
            "Test Loss 0.6740783452987671\n",
            "\n",
            "Test accuracy: 0.9225000143051147\n"
          ],
          "name": "stdout"
        }
      ]
    },
    {
      "cell_type": "markdown",
      "metadata": {
        "id": "h5IEkJQG03jf"
      },
      "source": [
        "# poor results but better than lr=0.01. RMSprop not giving good results"
      ]
    },
    {
      "cell_type": "code",
      "metadata": {
        "id": "4X1tJjKl03jg"
      },
      "source": [
        ""
      ],
      "execution_count": null,
      "outputs": []
    },
    {
      "cell_type": "markdown",
      "metadata": {
        "id": "paVatr6103jg"
      },
      "source": [
        "# start of final model_08"
      ]
    },
    {
      "cell_type": "markdown",
      "metadata": {
        "id": "ciXKyk2Z03jg"
      },
      "source": [
        "* Using 3 dense hidden layers\n",
        "\n",
        "\n",
        "* 512 neurons per hidden layer\n",
        "\n",
        "\n",
        "* Dropout = 0.30\n",
        "\n",
        "\n",
        "* batch_size = 98\n",
        "\n",
        "\n",
        "* epochs = 70\n",
        "\n",
        "\n",
        "* optimizer = 'adam'\n",
        "\n",
        "\n",
        "* validation_split = 0.20\n",
        "\n"
      ]
    },
    {
      "cell_type": "markdown",
      "metadata": {
        "id": "ATffE5Kq03jh"
      },
      "source": [
        "## Building the complete model_8 from start"
      ]
    },
    {
      "cell_type": "code",
      "metadata": {
        "id": "6IBQ8f7v03jh"
      },
      "source": [
        "#import libraries\n",
        "import tensorflow as tf\n",
        "from tensorflow import keras \n",
        "from tensorflow.keras.layers import Dense\n",
        "from tensorflow.keras import Sequential\n",
        "\n",
        "import matplotlib.pyplot as plt\n",
        "%matplotlib inline\n",
        "\n",
        "import numpy as np\n",
        "import pandas as pd\n",
        "import seaborn as sns"
      ],
      "execution_count": null,
      "outputs": []
    },
    {
      "cell_type": "code",
      "metadata": {
        "id": "VE4wG0W203jh"
      },
      "source": [
        "# Loading MNIST dataset\n",
        "(X_train, y_train), (X_test, y_test) = keras.datasets.mnist.load_data()\n"
      ],
      "execution_count": null,
      "outputs": []
    },
    {
      "cell_type": "code",
      "metadata": {
        "id": "U6nPmoOs03jh"
      },
      "source": [
        "# For applying neural network, we need to have a vector of 28x28 pixels for eaxh image.\n",
        "\n",
        "X_train = X_train.reshape(60000, 28*28) \n",
        "X_test = X_test.reshape(10000, 28*28) \n"
      ],
      "execution_count": null,
      "outputs": []
    },
    {
      "cell_type": "code",
      "metadata": {
        "id": "y9GrIq6x03jh"
      },
      "source": [
        "# Data is converted into float32 to use 32-bit precision # when training a neural network \n",
        "X_train = X_train.astype('float32')\n",
        "X_test = X_test.astype('float32') "
      ],
      "execution_count": null,
      "outputs": []
    },
    {
      "cell_type": "code",
      "metadata": {
        "id": "P9wLSRGQ03jh"
      },
      "source": [
        "# Normalizing the input to be within the range [0,1]\n",
        "X_train /= 255\n",
        "#intensity of each pixel is divided by 255, the maximum intensity value\n",
        "X_test /= 255"
      ],
      "execution_count": null,
      "outputs": []
    },
    {
      "cell_type": "code",
      "metadata": {
        "id": "wnXFirrc03jh"
      },
      "source": [
        "# One-hot encoding of the labels.\n",
        "y_train = tf.keras.utils.to_categorical(y_train, 10) \n",
        "y_test = tf.keras.utils.to_categorical(y_test, 10)"
      ],
      "execution_count": null,
      "outputs": []
    },
    {
      "cell_type": "code",
      "metadata": {
        "id": "sxXpm5in03jh"
      },
      "source": [
        "# Build model\n",
        "\n",
        "model_8 = Sequential()"
      ],
      "execution_count": null,
      "outputs": []
    },
    {
      "cell_type": "code",
      "metadata": {
        "id": "yspdpTJX03ji"
      },
      "source": [
        "N_hidden = 512 # Neurons per Hidden Layer\n",
        "\n",
        "model_8.add(Dense(N_hidden, name='dense_layer1', input_shape=(784,), activation = 'relu'))\n",
        "model_8.add(Dropout(0.30))\n",
        "\n",
        "# Adding another dense layer:\n",
        "model_8.add(Dense(N_hidden, name='dense_layer_2', activation='relu'))\n",
        "model_8.add(Dropout(0.30))\n",
        "\n",
        "# Adding another dense layer:\n",
        "model_8.add(Dense(N_hidden, name='dense_layer_3', activation='relu'))\n",
        "model_8.add(Dropout(0.30))\n",
        "\n",
        "# Add an output layer with 10 output units (10 different classes):\n",
        "model_8.add(Dense(10, name='dense_layer_4', activation = 'softmax'))\n"
      ],
      "execution_count": null,
      "outputs": []
    },
    {
      "cell_type": "code",
      "metadata": {
        "id": "NfkzmefT03ji"
      },
      "source": [
        "# Compile model with RMSprop optimizer\n",
        "\n",
        "model_8.compile(optimizer= 'adam', \n",
        "              loss='categorical_crossentropy',\n",
        "              metrics=['accuracy'])"
      ],
      "execution_count": null,
      "outputs": []
    },
    {
      "cell_type": "code",
      "metadata": {
        "id": "2zt9QjiD03ji",
        "outputId": "720ca810-aecb-4328-adb3-e64929fc02c5"
      },
      "source": [
        "# Train model\n",
        "\n",
        "training = model_8.fit(X_train, y_train, batch_size=98, epochs=70, validation_split=0.2) \n"
      ],
      "execution_count": null,
      "outputs": [
        {
          "output_type": "stream",
          "text": [
            "Epoch 1/70\n",
            "490/490 [==============================] - 5s 10ms/step - loss: 0.3120 - accuracy: 0.9042 - val_loss: 0.1295 - val_accuracy: 0.9603\n",
            "Epoch 2/70\n",
            "490/490 [==============================] - 5s 10ms/step - loss: 0.1364 - accuracy: 0.9588 - val_loss: 0.1060 - val_accuracy: 0.9682\n",
            "Epoch 3/70\n",
            "490/490 [==============================] - 5s 10ms/step - loss: 0.1029 - accuracy: 0.9686 - val_loss: 0.0966 - val_accuracy: 0.9704\n",
            "Epoch 4/70\n",
            "490/490 [==============================] - 5s 10ms/step - loss: 0.0863 - accuracy: 0.9734 - val_loss: 0.0888 - val_accuracy: 0.9753\n",
            "Epoch 5/70\n",
            "490/490 [==============================] - 5s 11ms/step - loss: 0.0726 - accuracy: 0.9771 - val_loss: 0.0830 - val_accuracy: 0.9770\n",
            "Epoch 6/70\n",
            "490/490 [==============================] - 6s 12ms/step - loss: 0.0695 - accuracy: 0.9778 - val_loss: 0.0909 - val_accuracy: 0.9736\n",
            "Epoch 7/70\n",
            "490/490 [==============================] - 6s 13ms/step - loss: 0.0595 - accuracy: 0.9810 - val_loss: 0.0835 - val_accuracy: 0.9772\n",
            "Epoch 8/70\n",
            "490/490 [==============================] - 6s 13ms/step - loss: 0.0543 - accuracy: 0.9831 - val_loss: 0.0815 - val_accuracy: 0.9780\n",
            "Epoch 9/70\n",
            "490/490 [==============================] - 6s 12ms/step - loss: 0.0530 - accuracy: 0.9837 - val_loss: 0.0847 - val_accuracy: 0.9790\n",
            "Epoch 10/70\n",
            "490/490 [==============================] - 6s 12ms/step - loss: 0.0444 - accuracy: 0.9862 - val_loss: 0.0877 - val_accuracy: 0.9792\n",
            "Epoch 11/70\n",
            "490/490 [==============================] - 6s 12ms/step - loss: 0.0447 - accuracy: 0.9860 - val_loss: 0.0830 - val_accuracy: 0.9785\n",
            "Epoch 12/70\n",
            "490/490 [==============================] - 6s 12ms/step - loss: 0.0417 - accuracy: 0.9873 - val_loss: 0.0825 - val_accuracy: 0.9789\n",
            "Epoch 13/70\n",
            "490/490 [==============================] - 6s 12ms/step - loss: 0.0417 - accuracy: 0.9876 - val_loss: 0.0875 - val_accuracy: 0.9799\n",
            "Epoch 14/70\n",
            "490/490 [==============================] - 6s 12ms/step - loss: 0.0359 - accuracy: 0.9885 - val_loss: 0.0882 - val_accuracy: 0.9779\n",
            "Epoch 15/70\n",
            "490/490 [==============================] - 6s 12ms/step - loss: 0.0336 - accuracy: 0.9894 - val_loss: 0.1013 - val_accuracy: 0.9755\n",
            "Epoch 16/70\n",
            "490/490 [==============================] - 6s 12ms/step - loss: 0.0354 - accuracy: 0.9885 - val_loss: 0.1031 - val_accuracy: 0.9776\n",
            "Epoch 17/70\n",
            "490/490 [==============================] - 6s 12ms/step - loss: 0.0353 - accuracy: 0.9889 - val_loss: 0.0840 - val_accuracy: 0.9808\n",
            "Epoch 18/70\n",
            "490/490 [==============================] - 6s 12ms/step - loss: 0.0331 - accuracy: 0.9897 - val_loss: 0.0957 - val_accuracy: 0.9797\n",
            "Epoch 19/70\n",
            "490/490 [==============================] - 6s 12ms/step - loss: 0.0313 - accuracy: 0.9905 - val_loss: 0.0967 - val_accuracy: 0.9800\n",
            "Epoch 20/70\n",
            "490/490 [==============================] - 6s 12ms/step - loss: 0.0307 - accuracy: 0.9910 - val_loss: 0.0871 - val_accuracy: 0.9813\n",
            "Epoch 21/70\n",
            "490/490 [==============================] - 6s 12ms/step - loss: 0.0307 - accuracy: 0.9905 - val_loss: 0.0907 - val_accuracy: 0.9803\n",
            "Epoch 22/70\n",
            "490/490 [==============================] - 6s 12ms/step - loss: 0.0264 - accuracy: 0.9919 - val_loss: 0.0766 - val_accuracy: 0.9824\n",
            "Epoch 23/70\n",
            "490/490 [==============================] - 6s 12ms/step - loss: 0.0291 - accuracy: 0.9915 - val_loss: 0.0925 - val_accuracy: 0.9803\n",
            "Epoch 24/70\n",
            "490/490 [==============================] - 6s 12ms/step - loss: 0.0253 - accuracy: 0.9923 - val_loss: 0.0921 - val_accuracy: 0.9809\n",
            "Epoch 25/70\n",
            "490/490 [==============================] - 6s 12ms/step - loss: 0.0284 - accuracy: 0.9919 - val_loss: 0.0816 - val_accuracy: 0.9809\n",
            "Epoch 26/70\n",
            "490/490 [==============================] - 6s 12ms/step - loss: 0.0273 - accuracy: 0.9916 - val_loss: 0.0932 - val_accuracy: 0.9787\n",
            "Epoch 27/70\n",
            "490/490 [==============================] - 6s 12ms/step - loss: 0.0274 - accuracy: 0.9919 - val_loss: 0.0922 - val_accuracy: 0.9814\n",
            "Epoch 28/70\n",
            "490/490 [==============================] - 6s 12ms/step - loss: 0.0213 - accuracy: 0.9933 - val_loss: 0.0931 - val_accuracy: 0.9822\n",
            "Epoch 29/70\n",
            "490/490 [==============================] - 6s 12ms/step - loss: 0.0226 - accuracy: 0.9935 - val_loss: 0.0979 - val_accuracy: 0.9814\n",
            "Epoch 30/70\n",
            "490/490 [==============================] - 6s 12ms/step - loss: 0.0238 - accuracy: 0.9926 - val_loss: 0.0971 - val_accuracy: 0.9812\n",
            "Epoch 31/70\n",
            "490/490 [==============================] - 6s 12ms/step - loss: 0.0230 - accuracy: 0.9934 - val_loss: 0.1019 - val_accuracy: 0.9801\n",
            "Epoch 32/70\n",
            "490/490 [==============================] - 6s 12ms/step - loss: 0.0229 - accuracy: 0.9935 - val_loss: 0.1003 - val_accuracy: 0.9823\n",
            "Epoch 33/70\n",
            "490/490 [==============================] - 6s 12ms/step - loss: 0.0237 - accuracy: 0.9934 - val_loss: 0.0959 - val_accuracy: 0.9833\n",
            "Epoch 34/70\n",
            "490/490 [==============================] - 6s 13ms/step - loss: 0.0233 - accuracy: 0.9934 - val_loss: 0.1084 - val_accuracy: 0.9817\n",
            "Epoch 35/70\n",
            "490/490 [==============================] - 6s 12ms/step - loss: 0.0219 - accuracy: 0.9937 - val_loss: 0.0979 - val_accuracy: 0.9822\n",
            "Epoch 36/70\n",
            "490/490 [==============================] - 6s 12ms/step - loss: 0.0201 - accuracy: 0.9948 - val_loss: 0.1063 - val_accuracy: 0.9818\n",
            "Epoch 37/70\n",
            "490/490 [==============================] - 6s 12ms/step - loss: 0.0219 - accuracy: 0.9938 - val_loss: 0.1134 - val_accuracy: 0.9822\n",
            "Epoch 38/70\n",
            "490/490 [==============================] - 6s 12ms/step - loss: 0.0260 - accuracy: 0.9934 - val_loss: 0.1000 - val_accuracy: 0.9822\n",
            "Epoch 39/70\n",
            "490/490 [==============================] - 6s 12ms/step - loss: 0.0199 - accuracy: 0.9944 - val_loss: 0.1223 - val_accuracy: 0.9807\n",
            "Epoch 40/70\n",
            "490/490 [==============================] - 6s 12ms/step - loss: 0.0215 - accuracy: 0.9940 - val_loss: 0.1017 - val_accuracy: 0.9822\n",
            "Epoch 41/70\n",
            "490/490 [==============================] - 6s 12ms/step - loss: 0.0201 - accuracy: 0.9942 - val_loss: 0.1192 - val_accuracy: 0.9814\n",
            "Epoch 42/70\n",
            "490/490 [==============================] - 6s 12ms/step - loss: 0.0190 - accuracy: 0.9948 - val_loss: 0.1076 - val_accuracy: 0.9826\n",
            "Epoch 43/70\n",
            "490/490 [==============================] - 6s 12ms/step - loss: 0.0220 - accuracy: 0.9937 - val_loss: 0.1043 - val_accuracy: 0.9815\n",
            "Epoch 44/70\n",
            "490/490 [==============================] - 6s 13ms/step - loss: 0.0201 - accuracy: 0.9946 - val_loss: 0.1065 - val_accuracy: 0.9809\n",
            "Epoch 45/70\n",
            "490/490 [==============================] - 6s 12ms/step - loss: 0.0220 - accuracy: 0.9941 - val_loss: 0.0967 - val_accuracy: 0.9830\n",
            "Epoch 46/70\n",
            "490/490 [==============================] - 6s 12ms/step - loss: 0.0180 - accuracy: 0.9949 - val_loss: 0.1071 - val_accuracy: 0.9822\n",
            "Epoch 47/70\n",
            "490/490 [==============================] - 6s 12ms/step - loss: 0.0203 - accuracy: 0.9943 - val_loss: 0.1112 - val_accuracy: 0.9821\n",
            "Epoch 48/70\n",
            "490/490 [==============================] - 6s 12ms/step - loss: 0.0154 - accuracy: 0.9954 - val_loss: 0.1112 - val_accuracy: 0.9816\n",
            "Epoch 49/70\n",
            "490/490 [==============================] - 6s 13ms/step - loss: 0.0200 - accuracy: 0.9947 - val_loss: 0.1179 - val_accuracy: 0.9832\n",
            "Epoch 50/70\n",
            "490/490 [==============================] - 6s 12ms/step - loss: 0.0206 - accuracy: 0.9944 - val_loss: 0.1286 - val_accuracy: 0.9808\n",
            "Epoch 51/70\n",
            "490/490 [==============================] - 6s 12ms/step - loss: 0.0175 - accuracy: 0.9955 - val_loss: 0.1023 - val_accuracy: 0.9832\n",
            "Epoch 52/70\n",
            "490/490 [==============================] - 6s 12ms/step - loss: 0.0158 - accuracy: 0.9955 - val_loss: 0.1153 - val_accuracy: 0.9826\n",
            "Epoch 53/70\n",
            "490/490 [==============================] - 6s 12ms/step - loss: 0.0209 - accuracy: 0.9942 - val_loss: 0.1200 - val_accuracy: 0.9803\n",
            "Epoch 54/70\n",
            "490/490 [==============================] - 6s 13ms/step - loss: 0.0188 - accuracy: 0.9949 - val_loss: 0.1155 - val_accuracy: 0.9817\n",
            "Epoch 55/70\n",
            "490/490 [==============================] - 6s 12ms/step - loss: 0.0152 - accuracy: 0.9955 - val_loss: 0.1353 - val_accuracy: 0.9814\n",
            "Epoch 56/70\n",
            "490/490 [==============================] - 6s 13ms/step - loss: 0.0211 - accuracy: 0.9947 - val_loss: 0.1131 - val_accuracy: 0.9827\n",
            "Epoch 57/70\n",
            "490/490 [==============================] - 6s 12ms/step - loss: 0.0173 - accuracy: 0.9950 - val_loss: 0.1080 - val_accuracy: 0.9836\n",
            "Epoch 58/70\n",
            "490/490 [==============================] - 6s 12ms/step - loss: 0.0155 - accuracy: 0.9956 - val_loss: 0.1099 - val_accuracy: 0.9837\n",
            "Epoch 59/70\n",
            "490/490 [==============================] - 6s 12ms/step - loss: 0.0190 - accuracy: 0.9951 - val_loss: 0.1166 - val_accuracy: 0.9833\n",
            "Epoch 60/70\n",
            "490/490 [==============================] - 6s 12ms/step - loss: 0.0199 - accuracy: 0.9951 - val_loss: 0.1033 - val_accuracy: 0.9834\n",
            "Epoch 61/70\n",
            "490/490 [==============================] - 6s 12ms/step - loss: 0.0154 - accuracy: 0.9957 - val_loss: 0.1196 - val_accuracy: 0.9830\n",
            "Epoch 62/70\n",
            "490/490 [==============================] - 6s 12ms/step - loss: 0.0183 - accuracy: 0.9952 - val_loss: 0.1196 - val_accuracy: 0.9822\n",
            "Epoch 63/70\n",
            "490/490 [==============================] - 6s 12ms/step - loss: 0.0158 - accuracy: 0.9961 - val_loss: 0.1339 - val_accuracy: 0.9838\n",
            "Epoch 64/70\n",
            "490/490 [==============================] - 6s 12ms/step - loss: 0.0155 - accuracy: 0.9959 - val_loss: 0.1310 - val_accuracy: 0.9837\n",
            "Epoch 65/70\n",
            "490/490 [==============================] - 6s 12ms/step - loss: 0.0168 - accuracy: 0.9955 - val_loss: 0.1212 - val_accuracy: 0.9831\n",
            "Epoch 66/70\n",
            "490/490 [==============================] - 6s 13ms/step - loss: 0.0196 - accuracy: 0.9947 - val_loss: 0.1145 - val_accuracy: 0.9833\n",
            "Epoch 67/70\n",
            "490/490 [==============================] - 6s 12ms/step - loss: 0.0169 - accuracy: 0.9955 - val_loss: 0.1220 - val_accuracy: 0.9833\n",
            "Epoch 68/70\n",
            "490/490 [==============================] - 6s 12ms/step - loss: 0.0134 - accuracy: 0.9966 - val_loss: 0.1401 - val_accuracy: 0.9819\n",
            "Epoch 69/70\n",
            "490/490 [==============================] - 6s 12ms/step - loss: 0.0157 - accuracy: 0.9961 - val_loss: 0.1439 - val_accuracy: 0.9803\n",
            "Epoch 70/70\n",
            "490/490 [==============================] - 6s 12ms/step - loss: 0.0163 - accuracy: 0.9959 - val_loss: 0.1373 - val_accuracy: 0.9819\n"
          ],
          "name": "stdout"
        }
      ]
    },
    {
      "cell_type": "code",
      "metadata": {
        "id": "b3gU-D5v03ji",
        "outputId": "4e46fa26-2aaf-4f3a-9243-f01298285233"
      },
      "source": [
        "model_8.weights  #<<<<<<<<<<<<<<<<<<<<<<<<<<<<<<<<<<<<<<<<<<<<<<<<"
      ],
      "execution_count": null,
      "outputs": [
        {
          "output_type": "execute_result",
          "data": {
            "text/plain": [
              "[<tf.Variable 'dense_layer1/kernel:0' shape=(784, 512) dtype=float32, numpy=\n",
              " array([[-0.06533212,  0.02674094,  0.05048817, ...,  0.0379198 ,\n",
              "         -0.05446516,  0.00181361],\n",
              "        [-0.05768349,  0.00636778,  0.04231115, ..., -0.05910142,\n",
              "          0.02949332,  0.02544784],\n",
              "        [-0.04972396, -0.01753019,  0.02686614, ...,  0.05213293,\n",
              "         -0.06602971, -0.05779088],\n",
              "        ...,\n",
              "        [ 0.00362376,  0.04811893,  0.02636006, ...,  0.01148849,\n",
              "         -0.00232122, -0.01943912],\n",
              "        [ 0.03688093, -0.05755736,  0.05515691, ..., -0.04464807,\n",
              "         -0.03726123, -0.02244854],\n",
              "        [-0.03347848, -0.01835098,  0.03147984, ...,  0.0593963 ,\n",
              "          0.01557579, -0.04711287]], dtype=float32)>,\n",
              " <tf.Variable 'dense_layer1/bias:0' shape=(512,) dtype=float32, numpy=\n",
              " array([-0.08323897, -0.07701412, -0.1337801 , -0.0029981 ,  0.04412859,\n",
              "        -0.2672084 , -0.17108804, -0.00842364, -0.05773789, -0.11230636,\n",
              "        -0.02221691, -0.03495584, -0.08232322,  0.01131653, -0.03121417,\n",
              "        -0.3940568 , -0.18700247, -0.13175946, -0.2046192 , -0.01357002,\n",
              "        -0.10621201,  0.01368842, -0.09520372, -0.11937668, -0.113483  ,\n",
              "         0.04674115, -0.11981673, -0.1126197 , -0.05953421, -0.23434529,\n",
              "        -0.14418222, -0.05779286, -0.07590859, -0.11314747, -0.1867626 ,\n",
              "         0.15301813,  0.01589352, -0.0966384 , -0.21542948,  0.21899922,\n",
              "        -0.0911063 , -0.0117174 ,  0.03114752,  0.03263084, -0.19358261,\n",
              "         0.05363334,  0.04581049,  0.06791078, -0.04816303,  0.15445852,\n",
              "         0.00227275, -0.11147879, -0.30205885, -0.08978641, -0.14139009,\n",
              "        -0.1925817 , -0.15663454, -0.07708427, -0.07360213, -0.15645687,\n",
              "        -0.18724935,  0.10323193, -0.16080451, -0.273932  , -0.09146696,\n",
              "        -0.0491985 ,  0.05031028,  0.00487274, -0.06834217, -0.04605595,\n",
              "        -0.14330268, -0.05411588, -0.04980276, -0.06498927, -0.18905634,\n",
              "        -0.05756389,  0.01141152, -0.06901388,  0.0909816 ,  0.16678274,\n",
              "         0.12959823, -0.1975136 , -0.12802461,  0.11227181, -0.099581  ,\n",
              "        -0.08013781,  0.03277899, -0.03234507, -0.18064937, -0.08353052,\n",
              "        -0.06637923, -0.09633792, -0.03371568, -0.02037963, -0.06401712,\n",
              "         0.01653132, -0.06687671, -0.22821194, -0.00189141, -0.01266813,\n",
              "        -0.08831257, -0.03533549, -0.12288652, -0.12939937, -0.07379483,\n",
              "        -0.08953246, -0.22653757, -0.11474187, -0.08120522, -0.00910633,\n",
              "        -0.00712539, -0.08127154, -0.02400796,  0.01513944, -0.08797145,\n",
              "         0.01633648, -0.02391183,  0.09037364, -0.03103884, -0.02547714,\n",
              "        -0.13075401, -0.03220379,  0.00425674, -0.10128101, -0.13912927,\n",
              "        -0.23171622,  0.02951899, -0.09358429,  0.02331753, -0.03162099,\n",
              "         0.01909947,  0.02924062,  0.00482138, -0.0684928 , -0.15430276,\n",
              "         0.03108308, -0.18069129, -0.0269258 ,  0.06468169, -0.08013856,\n",
              "         0.02619193, -0.0120898 , -0.1294418 , -0.01316904, -0.01747149,\n",
              "        -0.04590015,  0.06624552, -0.05964751, -0.06519008, -0.09922429,\n",
              "         0.04608162, -0.04280742,  0.02034148,  0.08477927, -0.13487391,\n",
              "        -0.19650227, -0.2032106 , -0.05672413, -0.03041461,  0.11239548,\n",
              "        -0.0752252 , -0.0735845 , -0.13101345, -0.01283478, -0.08792489,\n",
              "         0.1433378 , -0.2407449 , -0.0750308 , -0.23832943, -0.17551214,\n",
              "        -0.0584769 ,  0.06421704, -0.09493677, -0.09913062, -0.12914315,\n",
              "         0.05994757, -0.08528859, -0.10193115, -0.19534211,  0.00167993,\n",
              "        -0.16972487, -0.03675393,  0.12368622, -0.08853087, -0.03675064,\n",
              "        -0.01379706, -0.246999  , -0.02421176,  0.01883116, -0.13386537,\n",
              "        -0.04521874,  0.16907763,  0.02716028, -0.04882362, -0.12593673,\n",
              "        -0.1577626 , -0.14127557, -0.27110806, -0.07132594, -0.24239862,\n",
              "        -0.22224185,  0.08078372, -0.01222427, -0.11347714,  0.0824099 ,\n",
              "        -0.18239579, -0.09391826, -0.22897911, -0.10024623, -0.24552831,\n",
              "        -0.1075141 , -0.00117467, -0.22418144,  0.03324908, -0.05639268,\n",
              "        -0.20991327, -0.0124914 , -0.19313909, -0.02583515,  0.05522291,\n",
              "        -0.03807789, -0.4347854 , -0.16808513, -0.1877936 , -0.09417399,\n",
              "        -0.03223892, -0.00924131, -0.14082651,  0.06572327, -0.21751612,\n",
              "         0.03765062, -0.05991597, -0.10631173, -0.06558429, -0.02329548,\n",
              "        -0.108297  , -0.05370444, -0.0818738 , -0.17584592, -0.10130035,\n",
              "        -0.0478466 , -0.27486855,  0.00337426, -0.15805863, -0.11989044,\n",
              "         0.02477566, -0.15417783, -0.02674191, -0.0718592 , -0.04611363,\n",
              "        -0.15482257, -0.09999591, -0.01310352, -0.11029826,  0.04365507,\n",
              "         0.20212038, -0.07528932,  0.059783  , -0.04718766, -0.3059365 ,\n",
              "         0.06403849, -0.17239098, -0.12419349, -0.08406089, -0.15235564,\n",
              "        -0.13573991, -0.08214709,  0.12401939, -0.00239813, -0.01749912,\n",
              "         0.13366438, -0.06224243,  0.05143542, -0.17031886, -0.08240541,\n",
              "        -0.0718696 , -0.13253562, -0.1493447 , -0.00054082, -0.01872366,\n",
              "         0.00634447, -0.0289682 , -0.0598078 , -0.18924396,  0.05213586,\n",
              "         0.05469789, -0.02933442, -0.11862315, -0.08512598, -0.01890487,\n",
              "        -0.02782114, -0.31829047, -0.0295003 , -0.18270613, -0.03032948,\n",
              "        -0.04781611, -0.19206282,  0.08596648,  0.05909496, -0.16878837,\n",
              "        -0.07451513, -0.46471214, -0.25514805, -0.0765705 , -0.05874329,\n",
              "         0.00158069,  0.03590151, -0.0721707 , -0.18548737, -0.05733169,\n",
              "         0.18373601, -0.00797139, -0.05476172, -0.17071761, -0.08009017,\n",
              "        -0.07686292, -0.03726575, -0.03012668, -0.05217732,  0.01890204,\n",
              "        -0.0946805 , -0.07209254, -0.3369763 , -0.08955093,  0.06256633,\n",
              "        -0.09823891, -0.09122809, -0.07643473, -0.20556232,  0.08340809,\n",
              "        -0.2094819 , -0.17838398, -0.31224114, -0.23435281, -0.07698955,\n",
              "        -0.05500529, -0.1639459 ,  0.02391558, -0.00911742, -0.11605506,\n",
              "        -0.2084233 , -0.11633267,  0.02104751, -0.06536715, -0.129317  ,\n",
              "        -0.13490762,  0.00187339, -0.19533025, -0.25313023,  0.05601644,\n",
              "         0.01746432,  0.01741599, -0.12755632,  0.0457188 , -0.03562394,\n",
              "         0.10239629, -0.02872161, -0.06938965,  0.02851457, -0.0369396 ,\n",
              "        -0.1490311 , -0.10454188, -0.11711182,  0.004984  , -0.28923422,\n",
              "        -0.10270501, -0.11779286, -0.02068942, -0.12516287,  0.01539024,\n",
              "        -0.1393211 , -0.24957606, -0.1628354 , -0.03931292, -0.00438826,\n",
              "        -0.13202552, -0.16068698, -0.03766668, -0.13876796,  0.13664839,\n",
              "        -0.05417224,  0.02468663, -0.04079453,  0.07682367,  0.02843169,\n",
              "        -0.05103522, -0.09780763, -0.0586642 , -0.11447373, -0.04457049,\n",
              "        -0.19757093, -0.29631457, -0.14844476, -0.11689378, -0.05993226,\n",
              "        -0.04157205, -0.07740769, -0.12020795, -0.07219624, -0.16306305,\n",
              "         0.02116577, -0.16560255, -0.12610546, -0.410119  , -0.08842462,\n",
              "        -0.04109815, -0.01892538, -0.02559801, -0.19450746, -0.09764092,\n",
              "         0.01657154, -0.05916875,  0.05301642,  0.06204345,  0.0392289 ,\n",
              "        -0.05635326, -0.07275186, -0.04890314, -0.01837282, -0.07417462,\n",
              "         0.02088606, -0.12251493, -0.05081486, -0.04795719, -0.01570881,\n",
              "        -0.04151509, -0.10023724, -0.19233088, -0.16268247,  0.10508084,\n",
              "        -0.05533573, -0.08348439, -0.13071398, -0.08537398, -0.07513561,\n",
              "        -0.0672904 , -0.03714636, -0.11706754,  0.00554597, -0.10129509,\n",
              "         0.08537389, -0.02608967, -0.03827697, -0.07290211,  0.15507293,\n",
              "        -0.13332792, -0.07332578,  0.04525994, -0.17428564,  0.01342962,\n",
              "        -0.08879909, -0.11794133,  0.0368857 , -0.0334896 ,  0.1205601 ,\n",
              "        -0.15039796, -0.00413144,  0.06671044, -0.09320417, -0.20083027,\n",
              "        -0.21652094, -0.11865249, -0.01004782, -0.19042157, -0.01361761,\n",
              "         0.08718055, -0.04609176, -0.08226451, -0.289635  , -0.05411652,\n",
              "         0.02196018, -0.08691578, -0.04279457, -0.05086919, -0.07569538,\n",
              "        -0.2395168 , -0.15450658, -0.37944153,  0.08064852,  0.12774202,\n",
              "        -0.00609072, -0.14052258, -0.23477493, -0.05273492, -0.03935577,\n",
              "        -0.06073232,  0.02360432, -0.17707455, -0.09253222, -0.00223215,\n",
              "        -0.21321762,  0.19438142,  0.10352874, -0.249762  , -0.01377457,\n",
              "         0.09598128, -0.03406045, -0.17145793,  0.05778717, -0.02533226,\n",
              "        -0.04171645,  0.0691464 , -0.0602008 , -0.01394792, -0.13814059,\n",
              "        -0.04897672, -0.08986282, -0.02758385, -0.0204894 , -0.08116711,\n",
              "        -0.13883613, -0.17786387], dtype=float32)>,\n",
              " <tf.Variable 'dense_layer_2/kernel:0' shape=(512, 512) dtype=float32, numpy=\n",
              " array([[-0.1642338 , -0.1913844 ,  0.01697737, ..., -0.13967687,\n",
              "         -0.1823177 , -0.14005327],\n",
              "        [ 0.12694687,  0.05273263, -0.01394483, ..., -0.3209904 ,\n",
              "         -0.00162209, -0.01549456],\n",
              "        [-0.1180267 ,  0.11596549, -0.02308789, ..., -0.12386013,\n",
              "          0.04316909, -0.13511021],\n",
              "        ...,\n",
              "        [-0.24432603,  0.00559556,  0.05807395, ..., -0.15569107,\n",
              "         -0.07367126,  0.35767108],\n",
              "        [-0.05221868,  0.08669564,  0.16542968, ..., -0.06022679,\n",
              "          0.06725717, -0.10979541],\n",
              "        [ 0.12875597,  0.05134558, -0.1450967 , ...,  0.12867372,\n",
              "         -0.00984315,  0.04464981]], dtype=float32)>,\n",
              " <tf.Variable 'dense_layer_2/bias:0' shape=(512,) dtype=float32, numpy=\n",
              " array([-0.070169  , -0.13689724, -0.12000984, -0.00492245, -0.23057362,\n",
              "        -0.32361227,  0.03254576, -0.07148992, -0.20906667, -0.42051658,\n",
              "        -0.31511092, -0.03167147, -0.26371235, -0.16738728,  0.21163884,\n",
              "        -0.43976566, -0.18067954,  0.04332025, -0.13136068, -0.3511598 ,\n",
              "        -0.31978223,  0.08084631, -0.20304434,  0.26525214, -0.15970889,\n",
              "        -0.29440784,  0.29618543, -0.3625059 , -0.3706384 , -0.08566643,\n",
              "        -0.16968669,  0.3313308 , -0.28012246, -0.16537343,  0.01212795,\n",
              "        -0.01103282, -0.23449843, -0.18882635, -0.12024796, -0.13396193,\n",
              "        -0.30897567,  0.13385947,  0.34622592, -0.25324512,  0.18250929,\n",
              "        -0.31271258, -0.21374227, -0.11436263, -0.2890063 ,  0.28653127,\n",
              "         0.09761588,  0.11738936, -0.13593742, -0.13007675, -0.27972928,\n",
              "        -0.29788545, -0.25410098, -0.24391837, -0.35553467, -0.40290856,\n",
              "        -0.19470571, -0.62005883, -0.09782735, -0.06169908, -0.3066822 ,\n",
              "        -0.2437969 ,  0.00099301, -0.28541332, -0.25422224, -0.06277785,\n",
              "        -0.1241899 , -0.09885062,  0.02573756, -0.1616673 , -0.12243723,\n",
              "         0.08204939, -0.09807789,  0.06652602,  0.3971605 , -0.32124835,\n",
              "        -0.10971268, -0.07373769, -0.1892378 , -0.1679831 , -0.30465603,\n",
              "        -0.29912907, -0.00500165,  0.04500565, -0.13942029,  0.01906121,\n",
              "         0.17501603, -0.14415863, -0.2621832 , -0.08148793,  0.1644128 ,\n",
              "         0.27244192, -0.5701016 , -0.1106313 , -0.44257826, -0.13294895,\n",
              "        -0.18760118, -0.37734908, -0.30572817, -0.41083813,  0.22012143,\n",
              "        -0.04788147, -0.2844144 , -0.43633676, -0.07922225, -0.0880397 ,\n",
              "        -0.24070764, -0.3563376 , -0.19572063, -0.3077543 , -0.1992089 ,\n",
              "        -0.26078886,  0.3478104 , -0.16777185,  0.13880344, -0.14929773,\n",
              "        -0.31078282, -0.19301856, -0.10296996,  0.04809232,  0.37148285,\n",
              "        -0.02326523,  0.16881017, -0.3692513 ,  0.08803757, -0.35422793,\n",
              "         0.16624735, -0.0257833 ,  0.05533981, -0.00250338, -0.2437081 ,\n",
              "         0.01929552, -0.3847028 , -0.1342495 ,  0.03183472,  0.06362411,\n",
              "        -0.1963759 ,  0.41151643, -0.29621887, -0.4454794 , -0.29068503,\n",
              "        -0.38035205, -0.18321979, -0.26742035,  0.00273698,  0.09846519,\n",
              "        -0.2624834 ,  0.15152778, -0.25762504, -0.09113347, -0.13020301,\n",
              "         0.34829274, -0.2513157 , -0.14477004, -0.30827436,  0.13405307,\n",
              "         0.42219043, -0.23161454,  0.11577609,  0.0736357 , -0.04618801,\n",
              "         0.14337766,  0.12493334, -0.35831654, -0.20871072, -0.04501245,\n",
              "        -0.329136  , -0.03013129, -0.15616567, -0.4141591 , -0.2974202 ,\n",
              "        -0.29593882, -0.1820553 , -0.26558772, -0.21455887, -0.2544112 ,\n",
              "        -0.11706463, -0.36760166,  0.3117248 ,  0.02098923,  0.32116002,\n",
              "        -0.02865532, -0.3506434 , -0.23116207, -0.26116022,  0.02797919,\n",
              "        -0.2222872 , -0.12598448, -0.27396262, -0.27789783,  0.0885106 ,\n",
              "        -0.01103267,  0.03316483, -0.24195784, -0.21285638, -0.18072447,\n",
              "        -0.23049678,  0.18765716, -0.26897952, -0.28758496,  0.17006855,\n",
              "         0.08573989, -0.2738747 , -0.26705325, -0.35519683, -0.26991916,\n",
              "         0.39915842, -0.43318897, -0.3621237 ,  0.16904844, -0.18967773,\n",
              "        -0.06007097, -0.2884651 , -0.19602099,  0.03437632, -0.21620798,\n",
              "        -0.3413706 , -0.27228352, -0.27517414, -0.12897404,  0.03267133,\n",
              "        -0.5575706 , -0.07692982, -0.19325759, -0.55894274, -0.18909365,\n",
              "        -0.17532474, -0.21005169, -0.12607224, -0.09187855, -0.1113851 ,\n",
              "        -0.08342337, -0.09705084, -0.15319756, -0.16786061,  0.03242875,\n",
              "        -0.45863506, -0.18843803,  0.15843847, -0.33048117, -0.35760614,\n",
              "        -0.17376217, -0.08063307,  0.22276084, -0.06549826, -0.25709796,\n",
              "         0.02716992, -0.36221525,  0.07977526,  0.0408035 , -0.0897361 ,\n",
              "         0.01916004, -0.18918717,  0.09925748, -0.28688547,  0.26288503,\n",
              "        -0.02568187,  0.13245021,  0.0927104 , -0.01191138, -0.18619336,\n",
              "        -0.27172732, -0.17050512, -0.17052364, -0.5957595 , -0.1945018 ,\n",
              "        -0.23892336, -0.18365587,  0.07012467,  0.05302002, -0.09691435,\n",
              "        -0.08372264, -0.38596877, -0.1174849 , -0.28995383, -0.39536837,\n",
              "        -0.4910603 , -0.3446844 , -0.38256523, -0.36635134, -0.01391005,\n",
              "        -0.18463491, -0.21782714, -0.0800273 , -0.20803568, -0.30009875,\n",
              "        -0.026955  ,  0.13193737, -0.11769144, -0.3081033 , -0.32495746,\n",
              "         0.07595158, -0.14795081,  0.42553088, -0.01446599, -0.09844933,\n",
              "        -0.42828822, -0.16098411, -0.15640543, -0.1240868 , -0.3217461 ,\n",
              "        -0.11705752, -0.15511425,  0.06944387, -0.23000434, -0.03554659,\n",
              "        -0.15298313, -0.3652362 , -0.17487039, -0.3342246 ,  0.20793018,\n",
              "        -0.23846489,  0.30271572,  0.05639624, -0.22990265, -0.20004795,\n",
              "        -0.18765517, -0.182728  , -0.14172733, -0.23573153, -0.0709838 ,\n",
              "        -0.19108705,  0.06087666, -0.20259872, -0.20170584, -0.22185923,\n",
              "        -0.16378072, -0.25465363, -0.28717086,  0.23802267, -0.11823704,\n",
              "         0.08532924, -0.35048896,  0.08473446,  0.08957911, -0.16725498,\n",
              "        -0.20321035, -0.2800684 , -0.33954996, -0.37457964, -0.20386778,\n",
              "        -0.27700624, -0.21169326,  0.05594643, -0.06864786, -0.1904568 ,\n",
              "        -0.22776131, -0.16962643, -0.04459338, -0.13139874, -0.21656455,\n",
              "         0.05201321,  0.05733519, -0.10733878,  0.00280633, -0.28452542,\n",
              "        -0.24025235, -0.23005462, -0.15564938, -0.30098355,  0.26829046,\n",
              "        -0.3723323 , -0.35311487, -0.04410626, -0.1760693 , -0.08252158,\n",
              "        -0.08204008, -0.26561984, -0.3973378 , -0.16430952, -0.57622105,\n",
              "        -0.42760232, -0.22962958, -0.02524994,  0.01634233,  0.08931521,\n",
              "         0.13272774, -0.11910819, -0.01076622, -0.03698959,  0.07625666,\n",
              "        -0.32479048, -0.1526471 , -0.2874391 , -0.30974007, -0.23351648,\n",
              "         0.01856563, -0.02132722, -0.37477046, -0.31725517, -0.21007563,\n",
              "        -0.20161007,  0.30129403,  0.1788873 ,  0.42857206, -0.509489  ,\n",
              "         0.01060429, -0.04283391, -0.2031287 , -0.13115324, -0.12974636,\n",
              "        -0.19881617, -0.28303802, -0.15110548,  0.28837478,  0.01022012,\n",
              "        -0.49763635,  0.00550571,  0.02485948, -0.08158483, -0.3318421 ,\n",
              "        -0.20150062,  0.05379127, -0.1813457 , -0.10745774,  0.03758109,\n",
              "        -0.48760933,  0.07839736,  0.24293539,  0.16966666, -0.22392328,\n",
              "        -0.25190032,  0.13391118, -0.23933274, -0.25038308, -0.0675288 ,\n",
              "        -0.00216176, -0.14945088, -0.04662639, -0.1095027 ,  0.400568  ,\n",
              "        -0.489807  , -0.33683813, -0.21367434, -0.09089844, -0.02629015,\n",
              "         0.00911363, -0.05439686, -0.12913722, -0.32990035, -0.40393072,\n",
              "        -0.09426816, -0.3151924 ,  0.05437663, -0.07170135, -0.08781224,\n",
              "         0.16021891, -0.27409148,  0.04326503, -0.27321467, -0.33481535,\n",
              "         0.14534198,  0.01158225, -0.20688398, -0.07097679, -0.21066523,\n",
              "        -0.20411076, -0.2850125 ,  0.21091558, -0.2180093 , -0.18975587,\n",
              "        -0.3916696 , -0.43031183, -0.23488192,  0.11071558, -0.20937218,\n",
              "         0.10479619, -0.08512775, -0.27508378, -0.13434274, -0.48489556,\n",
              "        -0.30870733, -0.16364062, -0.27457836,  0.11229035,  0.1608972 ,\n",
              "        -0.34329528, -0.38323495, -0.34312502, -0.25864342,  0.321351  ,\n",
              "         0.01783954, -0.17101865, -0.03112019, -0.18698013,  0.16030051,\n",
              "        -0.17571339, -0.02435037, -0.18897736, -0.27382085, -0.09449775,\n",
              "        -0.25381666, -0.4491097 , -0.04146922, -0.37930518, -0.14400437,\n",
              "         0.17339319, -0.28944135, -0.28857598, -0.28106654,  0.0735801 ,\n",
              "         0.19204901, -0.08543237, -0.45410845,  0.09280779, -0.1952684 ,\n",
              "        -0.25258172, -0.11624803], dtype=float32)>,\n",
              " <tf.Variable 'dense_layer_3/kernel:0' shape=(512, 512) dtype=float32, numpy=\n",
              " array([[ 0.18817647,  0.0272903 , -0.05330487, ...,  0.09740096,\n",
              "         -0.13226408, -0.04377035],\n",
              "        [-0.01450658, -0.3254107 , -0.17140463, ..., -0.18761402,\n",
              "         -0.08296559,  0.08476835],\n",
              "        [-0.081434  , -0.24318987,  0.09585252, ..., -0.1861421 ,\n",
              "          0.05694607,  0.12053142],\n",
              "        ...,\n",
              "        [ 0.05209664, -0.00868958,  0.0276207 , ...,  0.01798239,\n",
              "          0.12243139,  0.24141212],\n",
              "        [ 0.19463105,  0.11218292, -0.01454185, ...,  0.09803814,\n",
              "         -0.04362087, -0.133133  ],\n",
              "        [-0.23778416, -0.19432604,  0.02604754, ..., -0.04536811,\n",
              "          0.04241936, -0.169316  ]], dtype=float32)>,\n",
              " <tf.Variable 'dense_layer_3/bias:0' shape=(512,) dtype=float32, numpy=\n",
              " array([ 1.73814580e-01, -1.37042001e-01, -2.18642488e-01, -1.33450165e-01,\n",
              "        -1.27770200e-01, -1.50058508e-01, -3.34617227e-01, -2.75661170e-01,\n",
              "        -2.94292569e-01,  2.11343721e-01, -1.12216985e-02, -1.28899470e-01,\n",
              "        -2.81952828e-01, -2.31105566e-01, -3.17551017e-01, -5.07113710e-02,\n",
              "        -3.02096695e-01, -3.72615635e-01,  1.21858306e-01, -1.54511288e-01,\n",
              "         1.73568085e-01,  7.32403481e-03, -2.00404465e-01, -1.37800947e-01,\n",
              "        -2.73187250e-01,  8.02542418e-02, -1.26130864e-01,  2.40779832e-01,\n",
              "        -3.48118603e-01, -1.93386599e-01, -1.06487371e-01, -2.37668857e-01,\n",
              "        -3.02507102e-01, -1.25488520e-01,  1.31971955e-01, -2.49013245e-01,\n",
              "        -1.75964817e-01, -8.36604983e-02,  1.44913733e-01,  7.67110735e-02,\n",
              "        -7.49308541e-02,  1.19610921e-01, -1.25616536e-01, -4.26064402e-01,\n",
              "        -5.09195626e-02, -3.84639800e-01, -1.27242535e-01, -2.06709966e-01,\n",
              "        -2.60256231e-01, -9.99102965e-02, -5.77791296e-02,  1.74150229e-01,\n",
              "         9.58747119e-02, -3.10883094e-02, -2.89152801e-01, -1.48185790e-01,\n",
              "        -8.54757279e-02, -1.98072046e-01, -3.30594242e-01, -1.18304536e-01,\n",
              "        -2.54931152e-01,  2.14034855e-01, -1.46589994e-01, -1.13186426e-01,\n",
              "        -2.35295206e-01, -9.88341644e-02, -2.62305558e-01, -1.64738163e-01,\n",
              "         1.26598358e-01, -2.00759277e-01, -1.55165285e-01, -2.32181251e-01,\n",
              "        -1.13676913e-01,  2.33246759e-02, -2.10184872e-01, -1.46292299e-01,\n",
              "        -2.70744622e-01,  3.25458497e-02, -1.55252904e-01,  2.82904416e-01,\n",
              "        -3.40914249e-01, -2.69218594e-01, -2.55972087e-01, -5.61488373e-03,\n",
              "        -1.81405276e-01, -2.38633335e-01, -3.17604274e-01, -2.31922671e-01,\n",
              "        -1.68197915e-01, -8.07169974e-02, -2.20920458e-01, -4.41990606e-02,\n",
              "        -2.17197523e-01, -1.60897121e-01, -2.69731194e-01, -2.62456566e-01,\n",
              "        -2.54912198e-01,  1.66570589e-01, -2.13637695e-01, -3.34257603e-01,\n",
              "         9.31809694e-02,  1.74924642e-01, -1.88135475e-01,  8.89349729e-02,\n",
              "         2.24326223e-01, -2.24639639e-01, -4.27684873e-01, -1.84516117e-01,\n",
              "        -7.07344264e-02, -1.72572762e-01,  3.51114869e-01, -1.93178415e-01,\n",
              "        -8.79310668e-02, -9.50316265e-02, -1.52894005e-01, -1.95485458e-01,\n",
              "        -1.95935547e-01, -3.22654694e-01,  5.67747839e-02, -1.95009515e-01,\n",
              "        -3.05052876e-01,  1.21044733e-01, -3.24346453e-01, -2.44371727e-01,\n",
              "        -1.92635700e-01, -1.34806857e-01, -3.90340090e-02, -2.44891688e-01,\n",
              "         1.26955226e-01, -5.94367534e-02, -1.11595420e-02, -5.37652010e-03,\n",
              "        -1.42259523e-01, -1.77945480e-01,  1.09367691e-01, -2.11185828e-01,\n",
              "        -2.27809027e-01, -2.25250199e-01, -1.65297091e-01, -8.45319703e-02,\n",
              "        -5.11134081e-02, -2.37727344e-01, -9.09946039e-02, -2.94734389e-01,\n",
              "        -1.53616846e-01, -1.87592074e-01, -4.61340807e-02, -1.43147230e-01,\n",
              "        -1.48210377e-01, -1.09199926e-01, -2.37829104e-01, -2.46227145e-01,\n",
              "        -3.02685648e-01, -1.22424312e-01, -2.65392214e-01, -9.77389365e-02,\n",
              "        -3.75567794e-01, -1.80749819e-01, -2.54545122e-01, -5.14287055e-02,\n",
              "         3.36296111e-02, -2.16007903e-01, -8.21285024e-02, -2.67011747e-02,\n",
              "         6.92979619e-02, -2.65973628e-01,  7.58276694e-03, -1.90579593e-01,\n",
              "        -4.86742184e-02, -2.16893733e-01,  8.12841356e-02, -1.41381651e-01,\n",
              "        -2.70288382e-02, -2.45918408e-01, -2.07019076e-02,  1.60997063e-01,\n",
              "        -2.26532415e-01, -1.83234081e-01, -1.53153479e-01, -2.51536518e-01,\n",
              "        -1.70030832e-01, -3.92942317e-02,  1.24296539e-01, -2.48318780e-02,\n",
              "         1.25182912e-01,  7.83101171e-02,  1.27027526e-01, -2.11365119e-01,\n",
              "        -2.32632801e-01,  3.08273230e-02,  1.60417035e-01,  2.01697707e-01,\n",
              "        -2.15672731e-01, -1.39160641e-02, -3.18594187e-01, -2.00739264e-01,\n",
              "        -2.99717665e-01, -2.39438452e-02,  1.73687097e-02, -1.84340015e-01,\n",
              "        -6.73496127e-02, -2.03813598e-01, -3.20033818e-01, -1.75134555e-01,\n",
              "         1.88621432e-01,  9.43216160e-02, -2.43518531e-01, -6.05804101e-02,\n",
              "        -6.65651187e-02, -3.39857448e-04, -1.60467759e-01,  2.56824464e-01,\n",
              "        -1.73566863e-02, -7.06764683e-02, -2.81500787e-01, -5.61302193e-02,\n",
              "        -8.91386196e-02, -1.00541182e-01, -6.81090727e-02, -5.45019656e-02,\n",
              "        -2.67991096e-01, -1.96701705e-01, -3.99811655e-01, -1.95487469e-01,\n",
              "        -2.99362868e-01, -1.23423161e-02, -1.55778542e-01, -1.74254611e-01,\n",
              "        -1.39185071e-01,  1.73607931e-01,  3.69785470e-03, -1.13192104e-01,\n",
              "        -2.99749881e-01,  2.09258094e-01, -2.28349984e-01, -2.84449041e-01,\n",
              "        -1.71032861e-01, -3.34352627e-03, -3.00795268e-02, -3.02954018e-01,\n",
              "        -1.67660713e-01,  8.69851001e-03,  1.12661861e-01, -1.97989807e-01,\n",
              "        -1.41003817e-01, -2.12849677e-01,  6.92299157e-02, -2.31387585e-01,\n",
              "        -1.47860702e-02, -7.70840123e-02, -6.01579249e-03, -3.62653196e-01,\n",
              "        -2.37555414e-01, -3.06116343e-01, -5.76041527e-02, -2.02369645e-01,\n",
              "         1.76839486e-01, -1.67730168e-01, -2.75517285e-01, -1.40830234e-01,\n",
              "         8.16758052e-02, -2.47120976e-01, -9.53700542e-02, -4.36255857e-02,\n",
              "        -1.88169070e-02, -2.05518410e-01, -6.38203993e-02, -2.98852503e-01,\n",
              "        -3.14548850e-01, -2.58259833e-01,  1.96662694e-02, -1.11174062e-01,\n",
              "         6.66191429e-02, -3.27535808e-01, -1.77123815e-01,  5.11196395e-03,\n",
              "        -2.86999434e-01, -7.06947967e-02, -1.99533135e-01, -2.29056254e-01,\n",
              "        -2.30476886e-01, -2.52462268e-01, -1.55664787e-01, -6.53902963e-02,\n",
              "        -3.11189294e-01, -1.25177443e-01, -2.89524883e-01, -3.11580673e-02,\n",
              "        -1.04293652e-01, -1.95668951e-01,  5.75648099e-02, -2.93905437e-01,\n",
              "         1.11657297e-02, -4.12878871e-01,  8.52389336e-02, -2.04172999e-01,\n",
              "        -7.83549175e-02, -2.01056972e-01, -2.19496414e-01, -5.11781499e-02,\n",
              "        -2.51230508e-01,  5.11604957e-02,  7.54836723e-02, -3.06448817e-01,\n",
              "         6.52410015e-02, -9.63348001e-02, -2.72474408e-01, -2.71748722e-01,\n",
              "        -2.40053624e-01, -1.26647651e-01, -1.94452122e-01, -2.69486398e-01,\n",
              "        -2.12239087e-01, -2.48478234e-01,  2.68446505e-01, -2.55685002e-01,\n",
              "         3.41033144e-03, -2.62908321e-02, -1.25362396e-01, -1.98408440e-01,\n",
              "        -2.98485994e-01, -2.33919010e-01, -2.71000657e-02, -6.42468184e-02,\n",
              "         3.17821234e-01, -1.36544153e-01,  7.68448561e-02, -7.94900507e-02,\n",
              "        -2.20081970e-01, -8.36813673e-02, -2.67215613e-02, -4.31829244e-01,\n",
              "         2.59035584e-02, -2.07136825e-01, -2.78225511e-01,  1.99577883e-02,\n",
              "         1.21680200e-01, -1.72735259e-01,  2.32337490e-01, -2.04887584e-01,\n",
              "        -9.37044397e-02, -1.42091438e-01, -1.32803336e-01, -3.34223568e-01,\n",
              "        -2.17129722e-01, -1.16593719e-01,  2.34780073e-01, -1.66377854e-02,\n",
              "         9.90314335e-02, -4.14576232e-02, -1.33183002e-01, -8.31536716e-04,\n",
              "         4.81756516e-02,  1.54304028e-01, -2.02851161e-01, -9.50508378e-03,\n",
              "         3.17009717e-01,  5.79980726e-04, -2.29758754e-01,  1.73674643e-01,\n",
              "        -1.33112356e-01, -3.14207114e-02, -1.15169071e-01,  5.96481711e-02,\n",
              "         1.48724064e-01, -2.61788726e-01, -2.01634258e-01, -3.02324057e-01,\n",
              "         1.18074775e-01, -2.31695235e-01, -2.44621843e-01, -2.75079042e-01,\n",
              "        -3.18308920e-01, -1.83759749e-01, -2.70172626e-01,  2.62153596e-01,\n",
              "        -1.15541190e-01,  2.95473635e-02, -2.33071342e-01, -2.40078479e-01,\n",
              "        -2.54120350e-01, -2.42613733e-01, -2.81389505e-01, -2.94736117e-01,\n",
              "        -2.36650601e-01,  8.81667733e-02, -4.69591133e-02, -1.14922978e-01,\n",
              "        -1.99166670e-01, -2.80377805e-01, -3.45470876e-01,  1.14217684e-01,\n",
              "        -3.26980680e-01, -7.34305829e-02,  1.90540731e-01, -1.64039776e-01,\n",
              "        -2.13040844e-01,  4.59016897e-02, -2.06022993e-01,  3.18431407e-02,\n",
              "         5.44229299e-02, -9.18736402e-03, -2.98225641e-01, -1.05589196e-01,\n",
              "        -3.36548150e-01, -1.79498643e-01, -1.88238937e-02, -2.66101897e-01,\n",
              "         8.39043036e-02, -1.16739541e-01, -2.89933950e-01, -2.80710042e-01,\n",
              "        -2.60506272e-01, -1.75120980e-01, -6.91893473e-02, -2.65049338e-01,\n",
              "        -1.38611212e-01, -7.56998211e-02, -2.27323279e-01, -2.16716155e-01,\n",
              "         2.12631486e-02, -1.45729883e-02, -2.88590610e-01, -1.74034417e-01,\n",
              "        -2.14556396e-01, -2.11793438e-01, -3.00289065e-01, -2.45424837e-01,\n",
              "         3.42143700e-02, -3.05807859e-01, -4.67569344e-02, -9.84306037e-02,\n",
              "        -2.70867079e-01,  2.47225538e-01, -2.51385689e-01,  3.25875819e-01,\n",
              "        -1.77346483e-01, -2.18113326e-02, -2.04796731e-01, -1.08047184e-02,\n",
              "         1.40887946e-01, -7.83032551e-02, -1.04502060e-01,  9.06174770e-04,\n",
              "        -2.67280549e-01,  2.49526322e-01,  1.68182682e-02, -2.60897100e-01,\n",
              "        -1.05787419e-01, -2.61092156e-01,  2.37281546e-01,  3.02003995e-02,\n",
              "        -2.33651713e-01, -8.51463303e-02, -2.54637271e-01, -2.97736883e-01,\n",
              "        -2.15489894e-01, -8.24847966e-02, -1.24658167e-01, -3.22324932e-01,\n",
              "        -2.61032522e-01, -1.91283092e-01, -7.45514110e-02, -2.67341346e-01,\n",
              "         1.95677891e-01, -3.59003544e-01, -1.02719396e-01,  4.75494936e-02,\n",
              "        -1.49854511e-01, -4.86024246e-02, -1.36601225e-01, -1.91728160e-01,\n",
              "        -4.35605533e-02, -9.36318636e-02,  6.28824756e-02,  7.37902746e-02,\n",
              "        -2.19257429e-01, -3.28677505e-01,  7.31852576e-02, -4.79327329e-02,\n",
              "        -7.78301731e-02, -2.49343649e-01, -4.61248010e-02, -1.06662549e-01,\n",
              "        -2.21073300e-01,  2.77667910e-01, -1.06389552e-01, -1.30069792e-01,\n",
              "        -1.18003763e-01, -1.25964656e-01, -2.79860377e-01,  1.66729718e-01,\n",
              "        -1.40767232e-01, -5.87373115e-02, -1.56657189e-01, -1.80148333e-01,\n",
              "        -3.12493622e-01,  5.48632443e-02, -2.76094288e-01,  1.42633289e-01,\n",
              "        -1.77055553e-01, -3.15979719e-01, -6.64182380e-02, -2.93968678e-01,\n",
              "         2.55568981e-01,  4.29687202e-02, -1.36408120e-01, -1.13325335e-01,\n",
              "        -1.11145787e-01, -5.15481159e-02, -2.08544880e-01,  2.95019392e-02],\n",
              "       dtype=float32)>,\n",
              " <tf.Variable 'dense_layer_4/kernel:0' shape=(512, 10) dtype=float32, numpy=\n",
              " array([[-0.25656375, -0.03492111,  0.08242908, ..., -0.12156051,\n",
              "          0.08191694,  0.0205969 ],\n",
              "        [-0.25961953,  0.04785544,  0.03257625, ..., -0.15199283,\n",
              "         -0.14539593,  0.05873251],\n",
              "        [-0.02463208, -0.05715807, -0.04534582, ..., -0.14988379,\n",
              "         -0.24551821, -0.14267251],\n",
              "        ...,\n",
              "        [-0.14065582, -0.14367674, -0.06560849, ..., -0.02634256,\n",
              "         -0.05505391, -0.07653573],\n",
              "        [-0.14955208,  0.09156948, -0.1701302 , ...,  0.11644257,\n",
              "         -0.21083432,  0.02356239],\n",
              "        [-0.08771507, -0.06564817,  0.02128741, ..., -0.05455624,\n",
              "         -0.2844413 ,  0.05347802]], dtype=float32)>,\n",
              " <tf.Variable 'dense_layer_4/bias:0' shape=(10,) dtype=float32, numpy=\n",
              " array([ 0.05722815, -0.11942191, -0.27067402, -0.12164734, -0.15840279,\n",
              "        -0.24183246, -0.14007366, -0.21186702,  0.700865  ,  0.22135858],\n",
              "       dtype=float32)>]"
            ]
          },
          "metadata": {
            "tags": []
          },
          "execution_count": 137
        }
      ]
    },
    {
      "cell_type": "code",
      "metadata": {
        "id": "wcgpT9u803jj",
        "outputId": "24a41a7c-aaf6-47b1-d9ca-d19114880c2a"
      },
      "source": [
        "import matplotlib.pyplot as plt\n",
        "%matplotlib inline\n",
        "# list all data in training\n",
        "print(training.history.keys())\n",
        "# summarize training for accuracy\n",
        "plt.plot(training.history['accuracy'])\n",
        "plt.plot(training.history['val_accuracy'])\n",
        "plt.title('model accuracy')\n",
        "plt.ylabel('accuracy')\n",
        "plt.xlabel('epoch')\n",
        "plt.legend(['train', 'test'], loc='upper left')\n",
        "plt.show()\n",
        "# summarize traning for loss\n",
        "plt.plot(training.history['loss'])\n",
        "plt.plot(training.history['val_loss'])\n",
        "plt.title('model loss')\n",
        "plt.ylabel('loss')\n",
        "plt.xlabel('epoch')\n",
        "plt.legend(['train', 'test'], loc='upper left')\n",
        "plt.show()"
      ],
      "execution_count": null,
      "outputs": [
        {
          "output_type": "stream",
          "text": [
            "dict_keys(['loss', 'accuracy', 'val_loss', 'val_accuracy'])\n"
          ],
          "name": "stdout"
        },
        {
          "output_type": "display_data",
          "data": {
            "image/png": "[encoded data removed]",
            "text/plain": [
              "<Figure size 432x288 with 1 Axes>"
            ]
          },
          "metadata": {
            "tags": [],
            "needs_background": "light"
          }
        },
        {
          "output_type": "display_data",
          "data": {
            "image/png": "[encoded data removed]",
            "text/plain": [
              "<Figure size 432x288 with 1 Axes>"
            ]
          },
          "metadata": {
            "tags": [],
            "needs_background": "light"
          }
        }
      ]
    },
    {
      "cell_type": "code",
      "metadata": {
        "id": "i7D_zgoy03jj",
        "outputId": "f6f1f155-3cc7-4566-99e5-75067a0aa519"
      },
      "source": [
        "#evaluate model\n",
        "\n",
        "#evaluate the model\n",
        "test_loss, test_acc = model_8.evaluate(X_test, y_test)\n",
        "print()\n",
        "print('Test Loss', test_loss)\n",
        "print()\n",
        "print('Test accuracy:', test_acc)"
      ],
      "execution_count": null,
      "outputs": [
        {
          "output_type": "stream",
          "text": [
            "313/313 [==============================] - 0s 1ms/step - loss: 0.1192 - accuracy: 0.9836\n",
            "\n",
            "Test Loss 0.11921540647745132\n",
            "\n",
            "Test accuracy: 0.9836000204086304\n"
          ],
          "name": "stdout"
        }
      ]
    },
    {
      "cell_type": "markdown",
      "metadata": {
        "id": "D5SMuKT403jj"
      },
      "source": [
        "# end of model_8"
      ]
    },
    {
      "cell_type": "markdown",
      "metadata": {
        "id": "OnakDd6F03jk"
      },
      "source": [
        "## What is the best parameter configuration for this project?"
      ]
    },
    {
      "cell_type": "markdown",
      "metadata": {
        "id": "eq0uNyvY03jk"
      },
      "source": [
        "N_hidden = 256, SGD\n",
        "\n",
        "Test Loss 0.08487128466367722\n",
        "\n",
        "Test accuracy: 0.9740999937057495"
      ]
    },
    {
      "cell_type": "markdown",
      "metadata": {
        "id": "PVyIyomC03jk"
      },
      "source": [
        "### trials done below"
      ]
    },
    {
      "cell_type": "markdown",
      "metadata": {
        "id": "lpnRbMJe03jl"
      },
      "source": [
        "###############################\n",
        "\n",
        "N_hidden = 256, adam\n",
        "\n",
        "Test Loss 0.09164461493492126\n",
        "\n",
        "Test accuracy: 0.9811999797821045\n",
        "#################################"
      ]
    },
    {
      "cell_type": "markdown",
      "metadata": {
        "id": "-xsBRqEf03jl"
      },
      "source": [
        "N_hidden = 256, SGD\n",
        "\n",
        "Test Loss 0.08487128466367722\n",
        "\n",
        "Test accuracy: 0.9740999937057495\n",
        "##################################"
      ]
    },
    {
      "cell_type": "markdown",
      "metadata": {
        "id": "zkUo5DKE03jl"
      },
      "source": [
        "N_hidden = 512, SGD\n",
        "\n",
        "Test Loss 0.07390360534191132\n",
        "\n",
        "Test accuracy: 0.9761999845504761\n",
        "\n",
        "####################################"
      ]
    },
    {
      "cell_type": "code",
      "metadata": {
        "id": "Dtc0Ry_A03jl"
      },
      "source": [
        "# Build model\n",
        "\n",
        "model_9 = Sequential()"
      ],
      "execution_count": null,
      "outputs": []
    },
    {
      "cell_type": "code",
      "metadata": {
        "id": "kFyaTqIx03jl"
      },
      "source": [
        "N_hidden = 512 # Neurons per Hidden Layer\n",
        "\n",
        "model_9.add(Dense(N_hidden, name='dense_layer1', input_shape=(784,), activation = 'relu'))\n",
        "model_9.add(Dropout(0.30))\n",
        "\n",
        "# Adding another dense layer:\n",
        "model_9.add(Dense(N_hidden, name='dense_layer_2', activation='relu'))\n",
        "model_9.add(Dropout(0.30))\n",
        "\n",
        "# Adding another dense layer:\n",
        "model_9.add(Dense(N_hidden, name='dense_layer_3', activation='relu'))\n",
        "model_9.add(Dropout(0.30))\n",
        "\n",
        "# Add an output layer with 10 output units (10 different classes):\n",
        "model_9.add(Dense(10, name='dense_layer_4', activation = 'softmax'))"
      ],
      "execution_count": null,
      "outputs": []
    },
    {
      "cell_type": "code",
      "metadata": {
        "id": "l_RCIpq903jm"
      },
      "source": [
        "# Compile model with RMSprop optimizer\n",
        "\n",
        "model_9.compile(optimizer= 'SGD', \n",
        "              loss='categorical_crossentropy',\n",
        "              metrics=['accuracy'])"
      ],
      "execution_count": null,
      "outputs": []
    },
    {
      "cell_type": "code",
      "metadata": {
        "id": "dA_Z_Of-03jm",
        "outputId": "2ad67801-3dc0-4a7c-96f7-dde2ff1fb882"
      },
      "source": [
        "# Train model\n",
        "\n",
        "training = model_9.fit(X_train, y_train, batch_size=64, epochs=35, validation_split=0.2) \n"
      ],
      "execution_count": null,
      "outputs": [
        {
          "output_type": "stream",
          "text": [
            "Epoch 1/35\n",
            "750/750 [==============================] - 6s 7ms/step - loss: 1.1991 - accuracy: 0.6318 - val_loss: 0.4292 - val_accuracy: 0.8765\n",
            "Epoch 2/35\n",
            "750/750 [==============================] - 5s 7ms/step - loss: 0.5144 - accuracy: 0.8444 - val_loss: 0.3050 - val_accuracy: 0.9112\n",
            "Epoch 3/35\n",
            "750/750 [==============================] - 5s 7ms/step - loss: 0.4045 - accuracy: 0.8806 - val_loss: 0.2563 - val_accuracy: 0.9222\n",
            "Epoch 4/35\n",
            "750/750 [==============================] - 6s 7ms/step - loss: 0.3473 - accuracy: 0.8974 - val_loss: 0.2280 - val_accuracy: 0.9312\n",
            "Epoch 5/35\n",
            "750/750 [==============================] - 6s 8ms/step - loss: 0.3065 - accuracy: 0.9101 - val_loss: 0.2036 - val_accuracy: 0.9384\n",
            "Epoch 6/35\n",
            "750/750 [==============================] - 6s 9ms/step - loss: 0.2733 - accuracy: 0.9189 - val_loss: 0.1849 - val_accuracy: 0.9448\n",
            "Epoch 7/35\n",
            "750/750 [==============================] - 6s 9ms/step - loss: 0.2491 - accuracy: 0.9264 - val_loss: 0.1713 - val_accuracy: 0.9485\n",
            "Epoch 8/35\n",
            "750/750 [==============================] - 7s 9ms/step - loss: 0.2304 - accuracy: 0.9320 - val_loss: 0.1585 - val_accuracy: 0.9527\n",
            "Epoch 9/35\n",
            "750/750 [==============================] - 7s 9ms/step - loss: 0.2142 - accuracy: 0.9358 - val_loss: 0.1489 - val_accuracy: 0.9547\n",
            "Epoch 10/35\n",
            "750/750 [==============================] - 7s 9ms/step - loss: 0.1996 - accuracy: 0.9412 - val_loss: 0.1405 - val_accuracy: 0.9582\n",
            "Epoch 11/35\n",
            "750/750 [==============================] - 6s 9ms/step - loss: 0.1867 - accuracy: 0.9443 - val_loss: 0.1342 - val_accuracy: 0.9595\n",
            "Epoch 12/35\n",
            "750/750 [==============================] - 7s 9ms/step - loss: 0.1767 - accuracy: 0.9467 - val_loss: 0.1278 - val_accuracy: 0.9601\n",
            "Epoch 13/35\n",
            "750/750 [==============================] - 6s 9ms/step - loss: 0.1653 - accuracy: 0.9502 - val_loss: 0.1232 - val_accuracy: 0.9616\n",
            "Epoch 14/35\n",
            "750/750 [==============================] - 6s 8ms/step - loss: 0.1561 - accuracy: 0.9534 - val_loss: 0.1176 - val_accuracy: 0.9643\n",
            "Epoch 15/35\n",
            "750/750 [==============================] - 6s 8ms/step - loss: 0.1506 - accuracy: 0.9550 - val_loss: 0.1132 - val_accuracy: 0.9650\n",
            "Epoch 16/35\n",
            "750/750 [==============================] - 7s 9ms/step - loss: 0.1454 - accuracy: 0.9567 - val_loss: 0.1106 - val_accuracy: 0.9662\n",
            "Epoch 17/35\n",
            "750/750 [==============================] - 7s 9ms/step - loss: 0.1374 - accuracy: 0.9579 - val_loss: 0.1069 - val_accuracy: 0.9675\n",
            "Epoch 18/35\n",
            "750/750 [==============================] - 6s 8ms/step - loss: 0.1331 - accuracy: 0.9594 - val_loss: 0.1041 - val_accuracy: 0.9684\n",
            "Epoch 19/35\n",
            "750/750 [==============================] - 6s 8ms/step - loss: 0.1261 - accuracy: 0.9626 - val_loss: 0.1017 - val_accuracy: 0.9696\n",
            "Epoch 20/35\n",
            "750/750 [==============================] - 6s 8ms/step - loss: 0.1218 - accuracy: 0.9622 - val_loss: 0.1004 - val_accuracy: 0.9693\n",
            "Epoch 21/35\n",
            "750/750 [==============================] - 6s 8ms/step - loss: 0.1169 - accuracy: 0.9651 - val_loss: 0.0976 - val_accuracy: 0.9702\n",
            "Epoch 22/35\n",
            "750/750 [==============================] - 7s 9ms/step - loss: 0.1120 - accuracy: 0.9663 - val_loss: 0.0943 - val_accuracy: 0.9708\n",
            "Epoch 23/35\n",
            "750/750 [==============================] - 6s 8ms/step - loss: 0.1062 - accuracy: 0.9680 - val_loss: 0.0936 - val_accuracy: 0.9703\n",
            "Epoch 24/35\n",
            "750/750 [==============================] - 6s 8ms/step - loss: 0.1041 - accuracy: 0.9687 - val_loss: 0.0910 - val_accuracy: 0.9719\n",
            "Epoch 25/35\n",
            "750/750 [==============================] - 6s 8ms/step - loss: 0.1012 - accuracy: 0.9695 - val_loss: 0.0892 - val_accuracy: 0.9724\n",
            "Epoch 26/35\n",
            "750/750 [==============================] - 6s 9ms/step - loss: 0.0964 - accuracy: 0.9708 - val_loss: 0.0899 - val_accuracy: 0.9731\n",
            "Epoch 27/35\n",
            "750/750 [==============================] - 7s 9ms/step - loss: 0.0938 - accuracy: 0.9711 - val_loss: 0.0872 - val_accuracy: 0.9733\n",
            "Epoch 28/35\n",
            "750/750 [==============================] - 7s 9ms/step - loss: 0.0910 - accuracy: 0.9725 - val_loss: 0.0850 - val_accuracy: 0.9737\n",
            "Epoch 29/35\n",
            "750/750 [==============================] - 7s 9ms/step - loss: 0.0870 - accuracy: 0.9732 - val_loss: 0.0847 - val_accuracy: 0.9751\n",
            "Epoch 30/35\n",
            "750/750 [==============================] - 7s 9ms/step - loss: 0.0837 - accuracy: 0.9746 - val_loss: 0.0828 - val_accuracy: 0.9754\n",
            "Epoch 31/35\n",
            "750/750 [==============================] - 7s 9ms/step - loss: 0.0813 - accuracy: 0.9745 - val_loss: 0.0831 - val_accuracy: 0.9753\n",
            "Epoch 32/35\n",
            "750/750 [==============================] - 7s 9ms/step - loss: 0.0785 - accuracy: 0.9758 - val_loss: 0.0824 - val_accuracy: 0.9751\n",
            "Epoch 33/35\n",
            "750/750 [==============================] - 7s 9ms/step - loss: 0.0785 - accuracy: 0.9756 - val_loss: 0.0813 - val_accuracy: 0.9758\n",
            "Epoch 34/35\n",
            "750/750 [==============================] - 7s 9ms/step - loss: 0.0766 - accuracy: 0.9766 - val_loss: 0.0807 - val_accuracy: 0.9753\n",
            "Epoch 35/35\n",
            "750/750 [==============================] - 7s 9ms/step - loss: 0.0754 - accuracy: 0.9765 - val_loss: 0.0801 - val_accuracy: 0.9764\n"
          ],
          "name": "stdout"
        }
      ]
    },
    {
      "cell_type": "code",
      "metadata": {
        "id": "4s0xE-fA03jm",
        "outputId": "a2c568e0-b420-4a45-a00f-412f5b8159ce"
      },
      "source": [
        "import matplotlib.pyplot as plt\n",
        "%matplotlib inline\n",
        "# list all data in training\n",
        "print(training.history.keys())\n",
        "# summarize training for accuracy\n",
        "plt.plot(training.history['accuracy'])\n",
        "plt.plot(training.history['val_accuracy'])\n",
        "plt.title('model accuracy')\n",
        "plt.ylabel('accuracy')\n",
        "plt.xlabel('epoch')\n",
        "plt.legend(['train', 'test'], loc='upper left')\n",
        "plt.show()\n",
        "# summarize traning for loss\n",
        "plt.plot(training.history['loss'])\n",
        "plt.plot(training.history['val_loss'])\n",
        "plt.title('model loss')\n",
        "plt.ylabel('loss')\n",
        "plt.xlabel('epoch')\n",
        "plt.legend(['train', 'test'], loc='upper left')\n",
        "plt.show()"
      ],
      "execution_count": null,
      "outputs": [
        {
          "output_type": "stream",
          "text": [
            "dict_keys(['loss', 'accuracy', 'val_loss', 'val_accuracy'])\n"
          ],
          "name": "stdout"
        },
        {
          "output_type": "display_data",
          "data": {
            "image/png": "[encoded data removed]",
            "text/plain": [
              "<Figure size 432x288 with 1 Axes>"
            ]
          },
          "metadata": {
            "tags": [],
            "needs_background": "light"
          }
        },
        {
          "output_type": "display_data",
          "data": {
            "image/png": "[encoded data removed]",
            "text/plain": [
              "<Figure size 432x288 with 1 Axes>"
            ]
          },
          "metadata": {
            "tags": [],
            "needs_background": "light"
          }
        }
      ]
    },
    {
      "cell_type": "code",
      "metadata": {
        "id": "iMao-5j903jm",
        "outputId": "cc98cc9d-641b-4c2e-dd5d-4a3673079883"
      },
      "source": [
        "#evaluate model\n",
        "\n",
        "#evaluate the model\n",
        "test_loss, test_acc = model_9.evaluate(X_test, y_test)\n",
        "print()\n",
        "print('Test Loss', test_loss)\n",
        "print()\n",
        "print('Test accuracy:', test_acc)"
      ],
      "execution_count": null,
      "outputs": [
        {
          "output_type": "stream",
          "text": [
            "313/313 [==============================] - 0s 1ms/step - loss: 0.0739 - accuracy: 0.9762\n",
            "\n",
            "Test Loss 0.07390360534191132\n",
            "\n",
            "Test accuracy: 0.9761999845504761\n"
          ],
          "name": "stdout"
        }
      ]
    },
    {
      "cell_type": "markdown",
      "metadata": {
        "id": "d3VIWsF203jn"
      },
      "source": [
        "N_hidden = 256, adam\n",
        "\n",
        "Test Loss 0.09164461493492126\n",
        "\n",
        "Test accuracy: 0.9811999797821045"
      ]
    },
    {
      "cell_type": "markdown",
      "metadata": {
        "id": "yxRf0vEP03jn"
      },
      "source": [
        "N_hidden = 256, SGD\n",
        "\n",
        "Test Loss 0.08487128466367722\n",
        "\n",
        "Test accuracy: 0.9740999937057495"
      ]
    },
    {
      "cell_type": "markdown",
      "metadata": {
        "id": "5vS-D-L-03jn"
      },
      "source": [
        "N_hidden = 512, SGD\n",
        "\n",
        "Test Loss 0.07390360534191132\n",
        "\n",
        "Test accuracy: 0.9761999845504761"
      ]
    },
    {
      "cell_type": "code",
      "metadata": {
        "id": "bOHXvThs03jn"
      },
      "source": [
        ""
      ],
      "execution_count": null,
      "outputs": []
    }
  ]
}