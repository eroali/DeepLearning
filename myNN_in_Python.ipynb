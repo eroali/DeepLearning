{
  "nbformat": 4,
  "nbformat_minor": 0,
  "metadata": {
    "colab": {
      "name": "myNN_in_Python.ipynb",
      "provenance": [],
      "mount_file_id": "1dJpy0JSY4e4wRCEFUqNkZl0mzEcncxoW",
      "authorship_tag": "ABX9TyMMl+0IHA6t8EYrzI4nGvK6",
      "include_colab_link": true
    },
    "kernelspec": {
      "name": "python3",
      "display_name": "Python 3"
    }
  },
  "cells": [
    {
      "cell_type": "markdown",
      "metadata": {
        "id": "view-in-github",
        "colab_type": "text"
      },
      "source": [
        "<a href=\"https://colab.research.google.com/github/eroali/DeepLearning/blob/main/myNN_in_Python.ipynb\" target=\"_parent\"><img src=\"https://colab.research.google.com/assets/colab-badge.svg\" alt=\"Open In Colab\"/></a>"
      ]
    },
    {
      "cell_type": "code",
      "metadata": {
        "colab": {
          "base_uri": "https://localhost:8080/"
        },
        "id": "BWzVWAAsDmJd",
        "outputId": "5f8d4acf-b9c5-4b22-d7f6-3007b9cf059e"
      },
      "source": [
        "def sigmoid_numpy(X):\r\n",
        "   return 1/(1+np.exp(-X))\r\n",
        "\r\n",
        "def log_loss(y_true, y_predicted):\r\n",
        "    epsilon = 1e-15\r\n",
        "    y_predicted_new = [max(i,epsilon) for i in y_predicted]\r\n",
        "    y_predicted_new = [min(i,1-epsilon) for i in y_predicted_new]\r\n",
        "    y_predicted_new = np.array(y_predicted_new)\r\n",
        "    return -np.mean(y_true*np.log(y_predicted_new)+(1-y_true)*np.log(1-y_predicted_new))\r\n",
        "\r\n",
        "\r\n",
        "class myNN:\r\n",
        "    def __init__(self):\r\n",
        "        self.w1 = 1 \r\n",
        "        self.w2 = 1\r\n",
        "        self.bias = 0\r\n",
        "        \r\n",
        "    def fit(self, X, y, epochs, loss_thresold):\r\n",
        "        self.w1, self.w2, self.bias = self.gradient_descent(X['age'],X['affordability'],y, epochs, loss_thresold)\r\n",
        "        print(f\"Final weights and bias: w1: {self.w1}, w2: {self.w2}, bias: {self.bias}\")\r\n",
        "        \r\n",
        "    def predict(self, X_test):\r\n",
        "        weighted_sum = self.w1*X_test['age'] + self.w2*X_test['affordability'] + self.bias\r\n",
        "        return sigmoid_numpy(weighted_sum)\r\n",
        "\r\n",
        "    def gradient_descent(self, age,affordability, y_true, epochs, loss_thresold):\r\n",
        "        w1 = w2 = 1\r\n",
        "        bias = 0\r\n",
        "        rate = 0.5\r\n",
        "        n = len(age)\r\n",
        "        for i in range(epochs):\r\n",
        "            weighted_sum = w1 * age + w2 * affordability + bias\r\n",
        "            y_predicted = sigmoid_numpy(weighted_sum)\r\n",
        "            loss = log_loss(y_true, y_predicted)\r\n",
        "            \r\n",
        "            w1d = (1/n)*np.dot(np.transpose(age),(y_predicted-y_true)) \r\n",
        "            w2d = (1/n)*np.dot(np.transpose(affordability),(y_predicted-y_true)) \r\n",
        "\r\n",
        "            bias_d = np.mean(y_predicted-y_true)\r\n",
        "            w1 = w1 - rate * w1d\r\n",
        "            w2 = w2 - rate * w2d\r\n",
        "            bias = bias - rate * bias_d\r\n",
        "            \r\n",
        "            if i%50==0:\r\n",
        "                print (f'Epoch:{i}, w1:{w1}, w2:{w2}, bias:{bias}, loss:{loss}')\r\n",
        "            \r\n",
        "            if loss<=loss_thresold:\r\n",
        "                print (f'Epoch:{i}, w1:{w1}, w2:{w2}, bias:{bias}, loss:{loss}')\r\n",
        "                break\r\n",
        "\r\n",
        "        return w1, w2, bias\r\n",
        "\r\n",
        "import numpy as np\r\n",
        "import tensorflow as tf\r\n",
        "from tensorflow import keras\r\n",
        "import pandas as pd\r\n",
        "from matplotlib import pyplot as plt\r\n",
        "%matplotlib inline\r\n",
        "\r\n",
        "df = pd.read_csv(\"/content/drive/MyDrive/Colab/Codebasics Machine Learning/DATAFILES/insurance.csv\")\r\n",
        "print(df.head())\r\n",
        "\r\n",
        "from sklearn.model_selection import train_test_split\r\n",
        "\r\n",
        "X = df[['age','affordability']]\r\n",
        "y = df.have_insurance\r\n",
        "\r\n",
        "X_train, X_test, y_train, y_test = train_test_split(X,y,test_size=0.2, random_state=25)\r\n",
        "\r\n",
        "X_train_scaled = X_train.copy()\r\n",
        "X_train_scaled['age'] = X_train_scaled['age'] / 100\r\n",
        "\r\n",
        "X_test_scaled = X_test.copy()\r\n",
        "X_test_scaled['age'] = X_test_scaled['age'] / 100\r\n",
        "\r\n",
        "\r\n",
        "customModel = myNN()\r\n",
        "customModel.fit(X_train_scaled, y_train, epochs=8000, loss_thresold=0.4631)\r\n"
      ],
      "execution_count": 3,
      "outputs": [
        {
          "output_type": "stream",
          "text": [
            "   age  affordability  have_insurance\n",
            "0   22              1               0\n",
            "1   25              0               0\n",
            "2   47              1               1\n",
            "3   52              0               0\n",
            "4   46              1               1\n",
            "Epoch:0, w1:0.9636467835253748, w2:0.9010507904948208, bias:-0.14522251004043918, loss:0.7895131460561285\n",
            "Epoch:50, w1:1.5706933872058388, w2:0.9802516664405049, bias:-1.457441001512532, loss:0.5597753346968274\n",
            "Epoch:100, w1:2.3129215219675787, w2:1.3143910937094163, bias:-2.088196053400744, loss:0.5169755405135951\n",
            "Epoch:150, w1:2.983492239518848, w2:1.549706338528332, bias:-2.5989276967752843, loss:0.4861392857494743\n",
            "Epoch:200, w1:3.5881031201527107, w2:1.7283464046865156, bias:-3.029316127084556, loss:0.46270704574197113\n",
            "Epoch:200, w1:3.5881031201527107, w2:1.7283464046865156, bias:-3.029316127084556, loss:0.46270704574197113\n",
            "Final weights and bias: w1: 3.5881031201527107, w2: 1.7283464046865156, bias: -3.029316127084556\n"
          ],
          "name": "stdout"
        }
      ]
    }
  ]
}