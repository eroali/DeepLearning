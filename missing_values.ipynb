{
  "nbformat": 4,
  "nbformat_minor": 0,
  "metadata": {
    "colab": {
      "name": "missing_values.ipynb",
      "provenance": [],
      "collapsed_sections": [],
      "mount_file_id": "11HmycLZmBRybW6B4nUiKkcLudttjQTu4",
      "authorship_tag": "ABX9TyMk0NI34SN/z5PMcnpwd43X",
      "include_colab_link": true
    },
    "kernelspec": {
      "name": "python3",
      "display_name": "Python 3"
    }
  },
  "cells": [
    {
      "cell_type": "markdown",
      "metadata": {
        "id": "view-in-github",
        "colab_type": "text"
      },
      "source": [
        "<a href=\"https://colab.research.google.com/github/eroali/DeepLearning/blob/main/missing_values.ipynb\" target=\"_parent\"><img src=\"https://colab.research.google.com/assets/colab-badge.svg\" alt=\"Open In Colab\"/></a>"
      ]
    },
    {
      "cell_type": "markdown",
      "metadata": {
        "id": "pGskZmlfk-R7"
      },
      "source": [
        "# **Missing Values**"
      ]
    },
    {
      "cell_type": "code",
      "metadata": {
        "id": "xbacAsD0wzvs"
      },
      "source": [
        "pip install welly"
      ],
      "execution_count": null,
      "outputs": []
    },
    {
      "cell_type": "code",
      "metadata": {
        "colab": {
          "base_uri": "https://localhost:8080/"
        },
        "id": "9w82IAbvzVZJ",
        "outputId": "0bfa1f48-83e8-466a-ac80-099f798f6096"
      },
      "source": [
        "pip install lasio"
      ],
      "execution_count": null,
      "outputs": [
        {
          "output_type": "stream",
          "text": [
            "Requirement already satisfied: lasio in /usr/local/lib/python3.6/dist-packages (0.28)\n",
            "Requirement already satisfied: numpy in /usr/local/lib/python3.6/dist-packages (from lasio) (1.19.4)\n"
          ],
          "name": "stdout"
        }
      ]
    },
    {
      "cell_type": "code",
      "metadata": {
        "id": "mqoym8rflAud"
      },
      "source": [
        "import pandas as pd\r\n",
        "from sklearn.model_selection import train_test_split\r\n",
        "\r\n",
        "# Read the data\r\n",
        "X_full = pd.read_csv('/content/drive/MyDrive/Colab/KAGGLE/MACHINE LEARNING/train.csv', index_col='Id')\r\n",
        "X_test_full = pd.read_csv('/content/drive/MyDrive/Colab/KAGGLE/MACHINE LEARNING/test.csv', index_col='Id')\r\n",
        "\r\n",
        "# Remove rows with missing target, separate target from predictors\r\n",
        "X_full.dropna(axis=0, subset=['SalePrice'], inplace=True)\r\n",
        "y = X_full.SalePrice\r\n",
        "\r\n",
        "######################################################\r\n",
        "X_full.drop(['SalePrice'], axis=1, inplace=True)\r\n",
        "######################################################\r\n",
        "\r\n",
        "# To keep things simple, we'll use only numerical predictors\r\n",
        "X = X_full.select_dtypes(exclude=['object'])\r\n",
        "X_test = X_test_full.select_dtypes(exclude=['object'])\r\n",
        "\r\n",
        "# Break off validation set from training data\r\n",
        "X_train, X_valid, y_train, y_valid = train_test_split(X, y, train_size=0.8, test_size=0.2,\r\n",
        "                                                      random_state=0)"
      ],
      "execution_count": null,
      "outputs": []
    }
  ]
}