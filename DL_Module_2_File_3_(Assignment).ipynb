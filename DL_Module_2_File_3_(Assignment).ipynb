{
  "nbformat": 4,
  "nbformat_minor": 0,
  "metadata": {
    "kernelspec": {
      "display_name": "Python 3",
      "language": "python",
      "name": "python3"
    },
    "language_info": {
      "codemirror_mode": {
        "name": "ipython",
        "version": 3
      },
      "file_extension": ".py",
      "mimetype": "text/x-python",
      "name": "python",
      "nbconvert_exporter": "python",
      "pygments_lexer": "ipython3",
      "version": "3.8.3"
    },
    "colab": {
      "name": "DL Module 2 File 3 (Assignment).ipynb",
      "provenance": [],
      "include_colab_link": true
    }
  },
  "cells": [
    {
      "cell_type": "markdown",
      "metadata": {
        "id": "view-in-github",
        "colab_type": "text"
      },
      "source": [
        "<a href=\"https://colab.research.google.com/github/eroali/DeepLearning/blob/main/DL_Module_2_File_3_(Assignment).ipynb\" target=\"_parent\"><img src=\"https://colab.research.google.com/assets/colab-badge.svg\" alt=\"Open In Colab\"/></a>"
      ]
    },
    {
      "cell_type": "markdown",
      "metadata": {
        "id": "yKkhVgimMvHK"
      },
      "source": [
        "# DL Module 2 File 3 (Assignment)"
      ]
    },
    {
      "cell_type": "markdown",
      "metadata": {
        "id": "kLhRWLyXMvHQ"
      },
      "source": [
        "ipynb file 3: Create a Notebook File and perform the following tasks\n",
        "\n",
        "Marks: 25\n",
        "\n",
        "As a part of this assignment, you will be performing the following tasks:\n",
        "\n",
        "• Prepare a detailed python notebook (similar to this one) using multilayer perceptron for\n",
        "classifying the images from MNIST Fashion Dataset with the best accuracy\n",
        "\n",
        "\n",
        "• Prepare the dataset for the model\n",
        "\n",
        "\n",
        "• Develop a Single Layer Perceptron model for classifying the handwritten digits\n",
        "\n",
        "\n",
        "• Plot the change in accuracy per epochs\n",
        "\n",
        "\n",
        "• Evaluate the model on the testing data\n",
        "\n",
        "\n",
        "• Analyze the model summary\n",
        "\n",
        "\n",
        "• Add a hidden layer to the model to make it Multilayer Perceptron\n",
        "\n",
        "\n",
        "• Add Dropout to prevent overfitting and check its effect on accuracy\n",
        "\n",
        "\n",
        "• Increase the number of hidden layer neuron and check its accuracy\n",
        "\n",
        "\n",
        "• Use different optimizers and check its effect on accuracy\n",
        "\n",
        "\n",
        "• Increase the hidden layers and check its effect on accuracy\n",
        "\n",
        "\n",
        "• Manipulate the batch_size and epochs and check its effect on accuracy\n",
        "\n",
        "\n",
        "Answer: What parameters should be chosen to classify the images into various categories?"
      ]
    },
    {
      "cell_type": "code",
      "metadata": {
        "id": "JdLBHO9YMvHR"
      },
      "source": [
        "#import libraries\n",
        "import tensorflow as tf\n",
        "from tensorflow import keras \n",
        "from tensorflow.keras.layers import Dense\n",
        "from tensorflow.keras import Sequential\n",
        "\n",
        "import matplotlib.pyplot as plt\n",
        "%matplotlib inline\n",
        "\n",
        "import numpy as np\n",
        "import pandas as pd\n",
        "import seaborn as sns\n",
        "\n"
      ],
      "execution_count": null,
      "outputs": []
    },
    {
      "cell_type": "code",
      "metadata": {
        "colab": {
          "base_uri": "https://localhost:8080/",
          "height": 36
        },
        "id": "5cW16R4dMvHS",
        "outputId": "55c8ee68-4b9d-4ff1-9fa6-543802ae1c3b"
      },
      "source": [
        "tf.__version__"
      ],
      "execution_count": null,
      "outputs": [
        {
          "output_type": "execute_result",
          "data": {
            "application/vnd.google.colaboratory.intrinsic+json": {
              "type": "string"
            },
            "text/plain": [
              "'2.4.0'"
            ]
          },
          "metadata": {
            "tags": []
          },
          "execution_count": 2
        }
      ]
    },
    {
      "cell_type": "code",
      "metadata": {
        "colab": {
          "base_uri": "https://localhost:8080/",
          "height": 36
        },
        "id": "bgU3MS3GMvHT",
        "outputId": "219e25cc-70c0-4a22-9b69-e2768dcbce03"
      },
      "source": [
        "keras.__version__"
      ],
      "execution_count": null,
      "outputs": [
        {
          "output_type": "execute_result",
          "data": {
            "application/vnd.google.colaboratory.intrinsic+json": {
              "type": "string"
            },
            "text/plain": [
              "'2.4.0'"
            ]
          },
          "metadata": {
            "tags": []
          },
          "execution_count": 3
        }
      ]
    },
    {
      "cell_type": "code",
      "metadata": {
        "id": "SvWfmFreMvHU"
      },
      "source": [
        "# Loading MNIST fashion dataset\n",
        "\n",
        "(X_train, y_train) , (X_test, y_test) = keras.datasets.fashion_mnist.load_data()"
      ],
      "execution_count": null,
      "outputs": []
    },
    {
      "cell_type": "code",
      "metadata": {
        "colab": {
          "base_uri": "https://localhost:8080/"
        },
        "id": "sHMwx1ekMvHV",
        "outputId": "0fce4376-5fe6-429e-e808-2b9b3864d486"
      },
      "source": [
        "print(X_train.shape)\n",
        "print(X_test.shape)"
      ],
      "execution_count": null,
      "outputs": [
        {
          "output_type": "stream",
          "text": [
            "(60000, 28, 28)\n",
            "(10000, 28, 28)\n"
          ],
          "name": "stdout"
        }
      ]
    },
    {
      "cell_type": "code",
      "metadata": {
        "colab": {
          "base_uri": "https://localhost:8080/"
        },
        "id": "e-tneT0-MvHW",
        "outputId": "5963a03a-eb4b-47ee-f945-20db03fc96d8"
      },
      "source": [
        "X_train[0].shape"
      ],
      "execution_count": null,
      "outputs": [
        {
          "output_type": "execute_result",
          "data": {
            "text/plain": [
              "(28, 28)"
            ]
          },
          "metadata": {
            "tags": []
          },
          "execution_count": 6
        }
      ]
    },
    {
      "cell_type": "code",
      "metadata": {
        "colab": {
          "base_uri": "https://localhost:8080/",
          "height": 294
        },
        "id": "CBN6rf41MvHX",
        "outputId": "fa162fb1-905d-4a13-c8ae-75c206e2014e"
      },
      "source": [
        "plt.matshow(X_train[0])"
      ],
      "execution_count": null,
      "outputs": [
        {
          "output_type": "execute_result",
          "data": {
            "text/plain": [
              "<matplotlib.image.AxesImage at 0x7f5bb308cfd0>"
            ]
          },
          "metadata": {
            "tags": []
          },
          "execution_count": 60
        },
        {
          "output_type": "display_data",
          "data": {
            "image/png": "[encoded data removed]",
            "text/plain": [
              "<Figure size 288x288 with 1 Axes>"
            ]
          },
          "metadata": {
            "tags": [],
            "needs_background": "light"
          }
        }
      ]
    },
    {
      "cell_type": "code",
      "metadata": {
        "id": "bYgPNOtOMvHX"
      },
      "source": [
        "#X_train[0]"
      ],
      "execution_count": null,
      "outputs": []
    },
    {
      "cell_type": "code",
      "metadata": {
        "colab": {
          "base_uri": "https://localhost:8080/"
        },
        "id": "zNXaLvY9MvHY",
        "outputId": "5d2c1bff-6218-4fc4-8579-4824fa1fc773"
      },
      "source": [
        "np.unique(y_train)"
      ],
      "execution_count": null,
      "outputs": [
        {
          "output_type": "execute_result",
          "data": {
            "text/plain": [
              "array([0, 1, 2, 3, 4, 5, 6, 7, 8, 9], dtype=uint8)"
            ]
          },
          "metadata": {
            "tags": []
          },
          "execution_count": 8
        }
      ]
    },
    {
      "cell_type": "code",
      "metadata": {
        "colab": {
          "base_uri": "https://localhost:8080/"
        },
        "id": "vpTY1zEOMvHa",
        "outputId": "728a09c3-bf9c-4ab9-c85a-405faa48d0e3"
      },
      "source": [
        "y_train[0]"
      ],
      "execution_count": null,
      "outputs": [
        {
          "output_type": "execute_result",
          "data": {
            "text/plain": [
              "9"
            ]
          },
          "metadata": {
            "tags": []
          },
          "execution_count": 9
        }
      ]
    },
    {
      "cell_type": "code",
      "metadata": {
        "colab": {
          "base_uri": "https://localhost:8080/"
        },
        "id": "kxn4fTdOMvHa",
        "outputId": "6a12122c-87aa-4814-f52e-e05bff6e3cb4"
      },
      "source": [
        "y_train"
      ],
      "execution_count": null,
      "outputs": [
        {
          "output_type": "execute_result",
          "data": {
            "text/plain": [
              "array([9, 0, 0, ..., 3, 0, 5], dtype=uint8)"
            ]
          },
          "metadata": {
            "tags": []
          },
          "execution_count": 10
        }
      ]
    },
    {
      "cell_type": "markdown",
      "metadata": {
        "id": "VSUcHXF3MvHa"
      },
      "source": [
        "## Preparing dataset"
      ]
    },
    {
      "cell_type": "code",
      "metadata": {
        "id": "VDo4olHFMvHb"
      },
      "source": [
        "class_names = [\"T-shirt/top\", \"Trouser\", \"Pullover\", \"Dress\", \"Coat\",\n",
        "               \"Sandal\", \"Shirt\", \"Sneaker\", \"Bag\", \"Ankle boot\"]"
      ],
      "execution_count": null,
      "outputs": []
    },
    {
      "cell_type": "code",
      "metadata": {
        "colab": {
          "base_uri": "https://localhost:8080/",
          "height": 36
        },
        "id": "AlX6kWeGMvHb",
        "outputId": "f32a12cf-bc7e-408f-c556-f722384cd628"
      },
      "source": [
        "class_names[y_train[0]]"
      ],
      "execution_count": null,
      "outputs": [
        {
          "output_type": "execute_result",
          "data": {
            "application/vnd.google.colaboratory.intrinsic+json": {
              "type": "string"
            },
            "text/plain": [
              "'Ankle boot'"
            ]
          },
          "metadata": {
            "tags": []
          },
          "execution_count": 12
        }
      ]
    },
    {
      "cell_type": "code",
      "metadata": {
        "colab": {
          "base_uri": "https://localhost:8080/",
          "height": 308
        },
        "id": "VKAm-ZR3MvHb",
        "outputId": "5624e7c1-3aa5-4388-82ca-ab515eb1f23f"
      },
      "source": [
        "n_rows = 4\n",
        "n_cols = 10\n",
        "plt.figure(figsize=(n_cols * 1.2, n_rows * 1.2))\n",
        "for row in range(n_rows):\n",
        "    for col in range(n_cols):\n",
        "        index = n_cols * row + col\n",
        "        plt.subplot(n_rows, n_cols, index + 1)\n",
        "        plt.imshow(X_train[index], cmap=\"binary\", interpolation=\"nearest\")\n",
        "        plt.axis('off')\n",
        "        plt.title(class_names[y_train[index]], fontsize=12)\n",
        "plt.subplots_adjust(wspace=0.2, hspace=0.5)\n",
        "plt.show()"
      ],
      "execution_count": null,
      "outputs": [
        {
          "output_type": "display_data",
          "data": {
            "image/png": "[encoded data removed]",
            "text/plain": [
              "<Figure size 864x345.6 with 40 Axes>"
            ]
          },
          "metadata": {
            "tags": [],
            "needs_background": "light"
          }
        }
      ]
    },
    {
      "cell_type": "code",
      "metadata": {
        "id": "d-eP1QN5MvHc"
      },
      "source": [
        "# scaling\n",
        "X_train = X_train / 255\n",
        "X_test = X_test / 255"
      ],
      "execution_count": null,
      "outputs": []
    },
    {
      "cell_type": "code",
      "metadata": {
        "colab": {
          "base_uri": "https://localhost:8080/"
        },
        "id": "TuTimfQXMvHc",
        "outputId": "88dcadd5-3517-40fa-f9e2-59206edb2ab4"
      },
      "source": [
        "X_train.shape, X_test.shape"
      ],
      "execution_count": null,
      "outputs": [
        {
          "output_type": "execute_result",
          "data": {
            "text/plain": [
              "((60000, 28, 28), (10000, 28, 28))"
            ]
          },
          "metadata": {
            "tags": []
          },
          "execution_count": 15
        }
      ]
    },
    {
      "cell_type": "code",
      "metadata": {
        "id": "kqWHUSTtMvHc"
      },
      "source": [
        "X_train_flattened = X_train.reshape(len(X_train), 28*28)\n",
        "X_test_flattened = X_test.reshape(len(X_test), 28*28)"
      ],
      "execution_count": null,
      "outputs": []
    },
    {
      "cell_type": "code",
      "metadata": {
        "colab": {
          "base_uri": "https://localhost:8080/"
        },
        "id": "34zGmQz7MvHc",
        "outputId": "a798b123-980c-472c-913b-143898646cc3"
      },
      "source": [
        "X_train_flattened.shape, X_test_flattened.shape"
      ],
      "execution_count": null,
      "outputs": [
        {
          "output_type": "execute_result",
          "data": {
            "text/plain": [
              "((60000, 784), (10000, 784))"
            ]
          },
          "metadata": {
            "tags": []
          },
          "execution_count": 17
        }
      ]
    },
    {
      "cell_type": "markdown",
      "metadata": {
        "id": "ga9T4SBKMvHd"
      },
      "source": [
        "## Single Layer Perceptron"
      ]
    },
    {
      "cell_type": "code",
      "metadata": {
        "colab": {
          "base_uri": "https://localhost:8080/"
        },
        "id": "UxVt6DUuMvHe",
        "outputId": "8a1f5308-5540-4936-9f00-808568a41777"
      },
      "source": [
        "# build model\n",
        "model_0 = keras.models.Sequential()\n",
        "\n",
        "# flatten each input image  to a vector of 784 numbers\n",
        "model_0.add(keras.layers.Flatten(input_shape=(28, 28)))\n",
        "\n",
        "# Add an output layer with 10 output units (10 different classes):\n",
        "model_0.add(Dense(10, name='dense_layer', activation = 'softmax'))\n",
        "\n",
        "model_0.summary()"
      ],
      "execution_count": null,
      "outputs": [
        {
          "output_type": "stream",
          "text": [
            "Model: \"sequential_6\"\n",
            "_________________________________________________________________\n",
            "Layer (type)                 Output Shape              Param #   \n",
            "=================================================================\n",
            "flatten_6 (Flatten)          (None, 784)               0         \n",
            "_________________________________________________________________\n",
            "dense_layer (Dense)          (None, 10)                7850      \n",
            "=================================================================\n",
            "Total params: 7,850\n",
            "Trainable params: 7,850\n",
            "Non-trainable params: 0\n",
            "_________________________________________________________________\n"
          ],
          "name": "stdout"
        }
      ]
    },
    {
      "cell_type": "code",
      "metadata": {
        "id": "kteX9Fd9MvHe"
      },
      "source": [
        "model_0.compile(optimizer='SGD',\n",
        "              loss='sparse_categorical_crossentropy',\n",
        "              metrics=['accuracy'])\n"
      ],
      "execution_count": null,
      "outputs": []
    },
    {
      "cell_type": "code",
      "metadata": {
        "colab": {
          "base_uri": "https://localhost:8080/"
        },
        "id": "HZBQwU7mMvHe",
        "outputId": "f2f82370-7109-4bed-8c50-fc180b66aec0"
      },
      "source": [
        "#training = model.fit(X_train, y_train, epochs=5, validation_split=0.2)\n",
        "\n",
        "training = model_0.fit(X_train, y_train, epochs=30, validation_split=0.2)"
      ],
      "execution_count": null,
      "outputs": [
        {
          "output_type": "stream",
          "text": [
            "Epoch 1/30\n",
            "1500/1500 [==============================] - 2s 1ms/step - loss: 2850.7232 - accuracy: 0.6764 - val_loss: 1818.1895 - val_accuracy: 0.7971\n",
            "Epoch 2/30\n",
            "1500/1500 [==============================] - 2s 1ms/step - loss: 1627.5075 - accuracy: 0.7755 - val_loss: 1316.6865 - val_accuracy: 0.7951\n",
            "Epoch 3/30\n",
            "1500/1500 [==============================] - 2s 1ms/step - loss: 1610.6124 - accuracy: 0.7807 - val_loss: 1912.2035 - val_accuracy: 0.7930\n",
            "Epoch 4/30\n",
            "1500/1500 [==============================] - 2s 1ms/step - loss: 1495.9266 - accuracy: 0.7913 - val_loss: 1065.7134 - val_accuracy: 0.8236\n",
            "Epoch 5/30\n",
            "1500/1500 [==============================] - 2s 1ms/step - loss: 1469.5064 - accuracy: 0.7922 - val_loss: 2009.1561 - val_accuracy: 0.7341\n",
            "Epoch 6/30\n",
            "1500/1500 [==============================] - 2s 1ms/step - loss: 1531.9609 - accuracy: 0.7923 - val_loss: 1845.1049 - val_accuracy: 0.7538\n",
            "Epoch 7/30\n",
            "1500/1500 [==============================] - 2s 1ms/step - loss: 1449.1925 - accuracy: 0.7963 - val_loss: 854.6099 - val_accuracy: 0.8306\n",
            "Epoch 8/30\n",
            "1500/1500 [==============================] - 2s 1ms/step - loss: 1423.4273 - accuracy: 0.7934 - val_loss: 875.7778 - val_accuracy: 0.8389\n",
            "Epoch 9/30\n",
            "1500/1500 [==============================] - 2s 1ms/step - loss: 1432.2314 - accuracy: 0.8007 - val_loss: 2230.6030 - val_accuracy: 0.7632\n",
            "Epoch 10/30\n",
            "1500/1500 [==============================] - 2s 1ms/step - loss: 1461.5876 - accuracy: 0.7955 - val_loss: 1944.5015 - val_accuracy: 0.7786\n",
            "Epoch 11/30\n",
            "1500/1500 [==============================] - 2s 1ms/step - loss: 1396.4784 - accuracy: 0.7994 - val_loss: 1149.1975 - val_accuracy: 0.8142\n",
            "Epoch 12/30\n",
            "1500/1500 [==============================] - 2s 1ms/step - loss: 1405.9537 - accuracy: 0.8049 - val_loss: 2174.1379 - val_accuracy: 0.7578\n",
            "Epoch 13/30\n",
            "1500/1500 [==============================] - 2s 1ms/step - loss: 1374.6603 - accuracy: 0.8045 - val_loss: 1390.7660 - val_accuracy: 0.7889\n",
            "Epoch 14/30\n",
            "1500/1500 [==============================] - 2s 1ms/step - loss: 1365.8879 - accuracy: 0.8045 - val_loss: 1529.1100 - val_accuracy: 0.7719\n",
            "Epoch 15/30\n",
            "1500/1500 [==============================] - 2s 1ms/step - loss: 1417.5132 - accuracy: 0.8018 - val_loss: 856.1113 - val_accuracy: 0.8383\n",
            "Epoch 16/30\n",
            "1500/1500 [==============================] - 2s 1ms/step - loss: 1423.0253 - accuracy: 0.8011 - val_loss: 1060.2469 - val_accuracy: 0.7910\n",
            "Epoch 17/30\n",
            "1500/1500 [==============================] - 2s 1ms/step - loss: 1351.8082 - accuracy: 0.8073 - val_loss: 1214.2666 - val_accuracy: 0.7984\n",
            "Epoch 18/30\n",
            "1500/1500 [==============================] - 2s 1ms/step - loss: 1392.1342 - accuracy: 0.8084 - val_loss: 1028.2343 - val_accuracy: 0.8197\n",
            "Epoch 19/30\n",
            "1500/1500 [==============================] - 2s 1ms/step - loss: 1448.4453 - accuracy: 0.8002 - val_loss: 1561.0583 - val_accuracy: 0.7714\n",
            "Epoch 20/30\n",
            "1500/1500 [==============================] - 2s 1ms/step - loss: 1338.8869 - accuracy: 0.8114 - val_loss: 931.0769 - val_accuracy: 0.8299\n",
            "Epoch 21/30\n",
            "1500/1500 [==============================] - 2s 1ms/step - loss: 1418.5162 - accuracy: 0.8050 - val_loss: 1101.0439 - val_accuracy: 0.7938\n",
            "Epoch 22/30\n",
            "1500/1500 [==============================] - 2s 1ms/step - loss: 1313.2465 - accuracy: 0.8103 - val_loss: 1722.5663 - val_accuracy: 0.7852\n",
            "Epoch 23/30\n",
            "1500/1500 [==============================] - 2s 1ms/step - loss: 1340.0722 - accuracy: 0.8102 - val_loss: 1252.3517 - val_accuracy: 0.7900\n",
            "Epoch 24/30\n",
            "1500/1500 [==============================] - 2s 1ms/step - loss: 1369.6270 - accuracy: 0.8065 - val_loss: 2880.5286 - val_accuracy: 0.6794\n",
            "Epoch 25/30\n",
            "1500/1500 [==============================] - 2s 1ms/step - loss: 1296.2622 - accuracy: 0.8139 - val_loss: 1318.4602 - val_accuracy: 0.7658\n",
            "Epoch 26/30\n",
            "1500/1500 [==============================] - 2s 1ms/step - loss: 1402.9221 - accuracy: 0.8057 - val_loss: 1583.4283 - val_accuracy: 0.7650\n",
            "Epoch 27/30\n",
            "1500/1500 [==============================] - 2s 1ms/step - loss: 1249.9741 - accuracy: 0.8149 - val_loss: 2039.5667 - val_accuracy: 0.7421\n",
            "Epoch 28/30\n",
            "1500/1500 [==============================] - 2s 1ms/step - loss: 1430.7124 - accuracy: 0.8045 - val_loss: 1168.6034 - val_accuracy: 0.8210\n"
          ],
          "name": "stdout"
        }
      ]
    },
    {
      "cell_type": "code",
      "metadata": {
        "colab": {
          "base_uri": "https://localhost:8080/"
        },
        "id": "ME59MHU3PHRq",
        "outputId": "c3886785-9938-4b3b-cbe2-c179878f1fde"
      },
      "source": [
        "#training.history\r\n",
        "print(training.history.keys())"
      ],
      "execution_count": null,
      "outputs": [
        {
          "output_type": "stream",
          "text": [
            "dict_keys(['loss', 'accuracy', 'val_loss', 'val_accuracy'])\n"
          ],
          "name": "stdout"
        }
      ]
    },
    {
      "cell_type": "code",
      "metadata": {
        "colab": {
          "base_uri": "https://localhost:8080/",
          "height": 592
        },
        "id": "gnh9DXlpMvHf",
        "outputId": "7b5f1043-7bd2-4686-e511-896eb319e8d8"
      },
      "source": [
        "import matplotlib.pyplot as plt\n",
        "%matplotlib inline\n",
        "# list all data in training\n",
        "print(training.history.keys())\n",
        "# summarize training for accuracy\n",
        "plt.plot(training.history['accuracy'])\n",
        "plt.plot(training.history['val_accuracy'])\n",
        "plt.title('model accuracy')\n",
        "plt.ylabel('accuracy')\n",
        "plt.xlabel('epoch')\n",
        "plt.legend(['train', 'test'], loc='upper left')\n",
        "plt.show()\n",
        "# summarize traning for loss\n",
        "plt.plot(training.history['loss'])\n",
        "plt.plot(training.history['val_loss'])\n",
        "plt.title('model loss')\n",
        "plt.ylabel('loss')\n",
        "plt.xlabel('epoch')\n",
        "plt.legend(['train', 'test'], loc='upper left')\n",
        "plt.show()"
      ],
      "execution_count": null,
      "outputs": [
        {
          "output_type": "stream",
          "text": [
            "dict_keys(['loss', 'accuracy', 'val_loss', 'val_accuracy'])\n"
          ],
          "name": "stdout"
        },
        {
          "output_type": "display_data",
          "data": {
            "image/png": "[encoded data removed]",
            "text/plain": [
              "<Figure size 432x288 with 1 Axes>"
            ]
          },
          "metadata": {
            "tags": [],
            "needs_background": "light"
          }
        },
        {
          "output_type": "display_data",
          "data": {
            "image/png": "[encoded data removed]",
            "text/plain": [
              "<Figure size 432x288 with 1 Axes>"
            ]
          },
          "metadata": {
            "tags": [],
            "needs_background": "light"
          }
        }
      ]
    },
    {
      "cell_type": "code",
      "metadata": {
        "colab": {
          "base_uri": "https://localhost:8080/"
        },
        "id": "IlRfrQajMvHf",
        "outputId": "af8c7d3c-20ef-4a97-a1c7-2302bafce93b"
      },
      "source": [
        "#evaluate model\n",
        "\n",
        "#evaluate the model\n",
        "test_loss, test_acc = model_0.evaluate(X_test, y_test)\n",
        "print()\n",
        "print('Test Loss', test_loss)\n",
        "print()\n",
        "print('Test accuracy:', test_acc)"
      ],
      "execution_count": null,
      "outputs": [
        {
          "output_type": "stream",
          "text": [
            "313/313 [==============================] - 0s 1ms/step - loss: 0.4607 - accuracy: 0.8381\n",
            "\n",
            "Test Loss 0.46069785952568054\n",
            "\n",
            "Test accuracy: 0.838100016117096\n"
          ],
          "name": "stdout"
        }
      ]
    },
    {
      "cell_type": "code",
      "metadata": {
        "colab": {
          "base_uri": "https://localhost:8080/"
        },
        "id": "LNhujiAeMvHf",
        "outputId": "3aa7046b-b28f-467a-9272-a82c6303f581"
      },
      "source": [
        "training.params"
      ],
      "execution_count": null,
      "outputs": [
        {
          "output_type": "execute_result",
          "data": {
            "text/plain": [
              "{'epochs': 30, 'steps': 1500, 'verbose': 1}"
            ]
          },
          "metadata": {
            "tags": []
          },
          "execution_count": 25
        }
      ]
    },
    {
      "cell_type": "code",
      "metadata": {
        "colab": {
          "base_uri": "https://localhost:8080/"
        },
        "id": "oLcsM58PMvHf",
        "outputId": "5fb5df5e-a2dd-405f-a20e-f6674b0efab9"
      },
      "source": [
        "print(training.epoch)"
      ],
      "execution_count": null,
      "outputs": [
        {
          "output_type": "stream",
          "text": [
            "[0, 1, 2, 3, 4, 5, 6, 7, 8, 9, 10, 11, 12, 13, 14, 15, 16, 17, 18, 19, 20, 21, 22, 23, 24, 25, 26, 27, 28, 29]\n"
          ],
          "name": "stdout"
        }
      ]
    },
    {
      "cell_type": "code",
      "metadata": {
        "colab": {
          "base_uri": "https://localhost:8080/"
        },
        "id": "4Rmyr3vzMvHf",
        "outputId": "42f4f545-4924-4649-beb9-7a9e6bc44f4c"
      },
      "source": [
        "training.history.keys()"
      ],
      "execution_count": null,
      "outputs": [
        {
          "output_type": "execute_result",
          "data": {
            "text/plain": [
              "dict_keys(['loss', 'accuracy', 'val_loss', 'val_accuracy'])"
            ]
          },
          "metadata": {
            "tags": []
          },
          "execution_count": 27
        }
      ]
    },
    {
      "cell_type": "markdown",
      "metadata": {
        "id": "XTxhTAf5MvHg"
      },
      "source": [
        "## Plot the change in accuracy per epoch"
      ]
    },
    {
      "cell_type": "code",
      "metadata": {
        "colab": {
          "base_uri": "https://localhost:8080/",
          "height": 324
        },
        "id": "kpCfD8oEMvHh",
        "outputId": "128643cc-43f8-4abf-dc75-cc36f79d774e"
      },
      "source": [
        "import pandas as pd\n",
        "\n",
        "pd.DataFrame(training.history).plot(figsize=(8, 5))\n",
        "plt.grid(True)\n",
        "plt.gca().set_ylim(0, 1)\n",
        "plt.show()"
      ],
      "execution_count": null,
      "outputs": [
        {
          "output_type": "display_data",
          "data": {
            "image/png": "[encoded data removed]",
            "text/plain": [
              "<Figure size 576x360 with 1 Axes>"
            ]
          },
          "metadata": {
            "tags": [],
            "needs_background": "light"
          }
        }
      ]
    },
    {
      "cell_type": "markdown",
      "metadata": {
        "id": "JMm5rjvDMvHh"
      },
      "source": [
        "## Evaluate the model on the testing data"
      ]
    },
    {
      "cell_type": "code",
      "metadata": {
        "colab": {
          "base_uri": "https://localhost:8080/"
        },
        "id": "WF2dk42fMvHh",
        "outputId": "cbf32a10-0ea2-424f-f4a4-9a214c9d2c46"
      },
      "source": [
        "# Evaluate the model on the testing data\n",
        "\n",
        "test_loss, test_acc = model_0.evaluate(X_test, y_test)\n",
        "print()\n",
        "print('Test Loss', test_loss)\n",
        "print()\n",
        "print('Test accuracy:', test_acc)"
      ],
      "execution_count": null,
      "outputs": [
        {
          "output_type": "stream",
          "text": [
            "313/313 [==============================] - 0s 1ms/step - loss: 0.4607 - accuracy: 0.8381\n",
            "\n",
            "Test Loss 0.46069785952568054\n",
            "\n",
            "Test accuracy: 0.838100016117096\n"
          ],
          "name": "stdout"
        }
      ]
    },
    {
      "cell_type": "markdown",
      "metadata": {
        "id": "ESgAw3uKMvHh"
      },
      "source": [
        "## Analyze the model summary"
      ]
    },
    {
      "cell_type": "code",
      "metadata": {
        "colab": {
          "base_uri": "https://localhost:8080/"
        },
        "id": "zDyXZaNfMvHh",
        "outputId": "d5acd594-90c8-4963-90e9-e5fe4cb980bb"
      },
      "source": [
        "model_0.summary()"
      ],
      "execution_count": null,
      "outputs": [
        {
          "output_type": "stream",
          "text": [
            "Model: \"sequential\"\n",
            "_________________________________________________________________\n",
            "Layer (type)                 Output Shape              Param #   \n",
            "=================================================================\n",
            "flatten (Flatten)            (None, 784)               0         \n",
            "_________________________________________________________________\n",
            "dense_layer (Dense)          (None, 10)                7850      \n",
            "=================================================================\n",
            "Total params: 7,850\n",
            "Trainable params: 7,850\n",
            "Non-trainable params: 0\n",
            "_________________________________________________________________\n"
          ],
          "name": "stdout"
        }
      ]
    },
    {
      "cell_type": "code",
      "metadata": {
        "id": "NoURrD-zMvHh"
      },
      "source": [
        "#type(model_0.summary())"
      ],
      "execution_count": null,
      "outputs": []
    },
    {
      "cell_type": "code",
      "metadata": {
        "colab": {
          "base_uri": "https://localhost:8080/",
          "height": 36
        },
        "id": "sNW24PPRMvHi",
        "outputId": "bdb3bb17-c013-4475-93f4-d82a1b8a143c"
      },
      "source": [
        "layer = model_0.layers[1]\n",
        "layer.name"
      ],
      "execution_count": null,
      "outputs": [
        {
          "output_type": "execute_result",
          "data": {
            "application/vnd.google.colaboratory.intrinsic+json": {
              "type": "string"
            },
            "text/plain": [
              "'dense_layer'"
            ]
          },
          "metadata": {
            "tags": []
          },
          "execution_count": 31
        }
      ]
    },
    {
      "cell_type": "code",
      "metadata": {
        "colab": {
          "base_uri": "https://localhost:8080/"
        },
        "id": "Z6Zru4fTMvHi",
        "outputId": "3f3167f6-1f4c-44f7-c0b8-a9010892fae3"
      },
      "source": [
        "weights = layer.get_weights()\n",
        "weights"
      ],
      "execution_count": null,
      "outputs": [
        {
          "output_type": "execute_result",
          "data": {
            "text/plain": [
              "[array([[ 0.04588224,  0.06939685, -0.02545498, ..., -0.0688276 ,\n",
              "          0.04275149, -0.00788797],\n",
              "        [ 0.02745555, -0.04658176, -0.05476241, ...,  0.06284777,\n",
              "         -0.07374067, -0.01481592],\n",
              "        [-0.02667236, -0.02973852,  0.02806202, ..., -0.0344272 ,\n",
              "          0.06810909, -0.04451703],\n",
              "        ...,\n",
              "        [-0.03677174,  0.06777908,  0.07339843, ..., -0.0090995 ,\n",
              "         -0.11194814,  0.02819857],\n",
              "        [-0.02278089, -0.03884117,  0.03403194, ..., -0.07376315,\n",
              "         -0.0183305 ,  0.03232064],\n",
              "        [ 0.07148348, -0.08507141,  0.08198615, ...,  0.02527218,\n",
              "          0.02166004,  0.01142536]], dtype=float32),\n",
              " array([ 0.45460632, -0.49237034, -0.09762325,  0.35314575, -1.2711831 ,\n",
              "         2.4109743 ,  0.5111236 , -0.04825496, -0.52362037, -1.2967978 ],\n",
              "       dtype=float32)]"
            ]
          },
          "metadata": {
            "tags": []
          },
          "execution_count": 32
        }
      ]
    },
    {
      "cell_type": "markdown",
      "metadata": {
        "id": "lfDLGSXgMvHi"
      },
      "source": [
        "## Add a hidden layer to the model to make it Multilayer Perceptron"
      ]
    },
    {
      "cell_type": "code",
      "metadata": {
        "colab": {
          "base_uri": "https://localhost:8080/"
        },
        "id": "3VlK-je-MvHj",
        "outputId": "ff3c4fea-f5d2-44f3-d7c5-4330989c78e6"
      },
      "source": [
        "# build model\n",
        "model_1 = keras.models.Sequential()\n",
        "\n",
        "# flatten each input image  to a vector of 784 numbers\n",
        "model_1.add(keras.layers.Flatten(input_shape=(28, 28)))\n",
        "\n",
        "# Adding a dense layer to make it multilayer Perceptron\n",
        "model_1.add(Dense(300, name='dense_layer_1', activation='relu'))\n",
        "#model.add(Dropout(0.30))\n",
        "\n",
        "# Add an output layer with 10 output units (10 different classes):\n",
        "model_1.add(Dense(10, name='dense_layer_5', activation = 'softmax'))\n",
        "\n",
        "model_1.summary()"
      ],
      "execution_count": null,
      "outputs": [
        {
          "output_type": "stream",
          "text": [
            "Model: \"sequential_1\"\n",
            "_________________________________________________________________\n",
            "Layer (type)                 Output Shape              Param #   \n",
            "=================================================================\n",
            "flatten_1 (Flatten)          (None, 784)               0         \n",
            "_________________________________________________________________\n",
            "dense_layer_1 (Dense)        (None, 300)               235500    \n",
            "_________________________________________________________________\n",
            "dense_layer_5 (Dense)        (None, 10)                3010      \n",
            "=================================================================\n",
            "Total params: 238,510\n",
            "Trainable params: 238,510\n",
            "Non-trainable params: 0\n",
            "_________________________________________________________________\n"
          ],
          "name": "stdout"
        }
      ]
    },
    {
      "cell_type": "code",
      "metadata": {
        "id": "zKa6VtmEMvHj"
      },
      "source": [
        "# compile model\n",
        "\n",
        "model_1.compile(optimizer='SGD',\n",
        "              loss='sparse_categorical_crossentropy',\n",
        "              metrics=['accuracy'])"
      ],
      "execution_count": null,
      "outputs": []
    },
    {
      "cell_type": "code",
      "metadata": {
        "colab": {
          "base_uri": "https://localhost:8080/"
        },
        "id": "x_OxEYBLMvHj",
        "outputId": "aa76e876-46d6-44b6-859b-cd0b505d2f86"
      },
      "source": [
        "#train model\n",
        "\n",
        "training = model_1.fit(X_train, y_train, epochs=30, validation_split=0.2)"
      ],
      "execution_count": null,
      "outputs": [
        {
          "output_type": "stream",
          "text": [
            "Epoch 1/30\n",
            "1500/1500 [==============================] - 4s 3ms/step - loss: 1.0301 - accuracy: 0.6753 - val_loss: 0.5591 - val_accuracy: 0.8112\n",
            "Epoch 2/30\n",
            "1500/1500 [==============================] - 4s 2ms/step - loss: 0.5377 - accuracy: 0.8203 - val_loss: 0.4994 - val_accuracy: 0.8270\n",
            "Epoch 3/30\n",
            "1500/1500 [==============================] - 4s 2ms/step - loss: 0.4831 - accuracy: 0.8362 - val_loss: 0.4668 - val_accuracy: 0.8352\n",
            "Epoch 4/30\n",
            "1500/1500 [==============================] - 4s 2ms/step - loss: 0.4530 - accuracy: 0.8434 - val_loss: 0.4383 - val_accuracy: 0.8462\n",
            "Epoch 5/30\n",
            "1500/1500 [==============================] - 4s 3ms/step - loss: 0.4346 - accuracy: 0.8486 - val_loss: 0.4406 - val_accuracy: 0.8472\n",
            "Epoch 6/30\n",
            "1500/1500 [==============================] - 4s 2ms/step - loss: 0.4205 - accuracy: 0.8557 - val_loss: 0.4223 - val_accuracy: 0.8522\n",
            "Epoch 7/30\n",
            "1500/1500 [==============================] - 4s 3ms/step - loss: 0.4032 - accuracy: 0.8616 - val_loss: 0.4065 - val_accuracy: 0.8581\n",
            "Epoch 8/30\n",
            "1500/1500 [==============================] - 4s 3ms/step - loss: 0.3913 - accuracy: 0.8639 - val_loss: 0.4062 - val_accuracy: 0.8574\n",
            "Epoch 9/30\n",
            "1500/1500 [==============================] - 4s 3ms/step - loss: 0.3810 - accuracy: 0.8685 - val_loss: 0.3971 - val_accuracy: 0.8603\n",
            "Epoch 10/30\n",
            "1500/1500 [==============================] - 4s 3ms/step - loss: 0.3744 - accuracy: 0.8704 - val_loss: 0.3865 - val_accuracy: 0.8649\n",
            "Epoch 11/30\n",
            "1500/1500 [==============================] - 4s 3ms/step - loss: 0.3680 - accuracy: 0.8714 - val_loss: 0.3813 - val_accuracy: 0.8673\n",
            "Epoch 12/30\n",
            "1500/1500 [==============================] - 4s 2ms/step - loss: 0.3671 - accuracy: 0.8736 - val_loss: 0.3774 - val_accuracy: 0.8661\n",
            "Epoch 13/30\n",
            "1500/1500 [==============================] - 4s 3ms/step - loss: 0.3494 - accuracy: 0.8777 - val_loss: 0.3728 - val_accuracy: 0.8683\n",
            "Epoch 14/30\n",
            "1500/1500 [==============================] - 4s 2ms/step - loss: 0.3491 - accuracy: 0.8791 - val_loss: 0.3977 - val_accuracy: 0.8587\n",
            "Epoch 15/30\n",
            "1500/1500 [==============================] - 4s 3ms/step - loss: 0.3467 - accuracy: 0.8792 - val_loss: 0.3740 - val_accuracy: 0.8690\n",
            "Epoch 16/30\n",
            "1500/1500 [==============================] - 5s 4ms/step - loss: 0.3402 - accuracy: 0.8820 - val_loss: 0.3622 - val_accuracy: 0.8746\n",
            "Epoch 17/30\n",
            "1500/1500 [==============================] - 5s 4ms/step - loss: 0.3299 - accuracy: 0.8847 - val_loss: 0.3655 - val_accuracy: 0.8696\n",
            "Epoch 18/30\n",
            "1500/1500 [==============================] - 4s 3ms/step - loss: 0.3243 - accuracy: 0.8857 - val_loss: 0.3529 - val_accuracy: 0.8782\n",
            "Epoch 19/30\n",
            "1500/1500 [==============================] - 4s 3ms/step - loss: 0.3235 - accuracy: 0.8849 - val_loss: 0.3570 - val_accuracy: 0.8742\n",
            "Epoch 20/30\n",
            "1500/1500 [==============================] - 4s 3ms/step - loss: 0.3133 - accuracy: 0.8907 - val_loss: 0.3471 - val_accuracy: 0.8805\n",
            "Epoch 21/30\n",
            "1500/1500 [==============================] - 4s 2ms/step - loss: 0.3122 - accuracy: 0.8903 - val_loss: 0.3478 - val_accuracy: 0.8776\n",
            "Epoch 22/30\n",
            "1500/1500 [==============================] - 4s 2ms/step - loss: 0.3109 - accuracy: 0.8904 - val_loss: 0.3439 - val_accuracy: 0.8799\n",
            "Epoch 23/30\n",
            "1500/1500 [==============================] - 4s 3ms/step - loss: 0.3037 - accuracy: 0.8949 - val_loss: 0.3508 - val_accuracy: 0.8752\n",
            "Epoch 24/30\n",
            "1500/1500 [==============================] - 4s 2ms/step - loss: 0.3014 - accuracy: 0.8924 - val_loss: 0.3549 - val_accuracy: 0.8728\n",
            "Epoch 25/30\n",
            "1500/1500 [==============================] - 4s 3ms/step - loss: 0.2943 - accuracy: 0.8955 - val_loss: 0.3413 - val_accuracy: 0.8803\n",
            "Epoch 26/30\n",
            "1500/1500 [==============================] - 4s 3ms/step - loss: 0.2974 - accuracy: 0.8949 - val_loss: 0.3356 - val_accuracy: 0.8814\n",
            "Epoch 27/30\n",
            "1500/1500 [==============================] - 4s 3ms/step - loss: 0.2904 - accuracy: 0.8983 - val_loss: 0.3350 - val_accuracy: 0.8829\n",
            "Epoch 28/30\n",
            "1500/1500 [==============================] - 4s 2ms/step - loss: 0.2923 - accuracy: 0.8964 - val_loss: 0.3345 - val_accuracy: 0.8822\n",
            "Epoch 29/30\n",
            "1500/1500 [==============================] - 4s 3ms/step - loss: 0.2900 - accuracy: 0.8978 - val_loss: 0.3332 - val_accuracy: 0.8834\n",
            "Epoch 30/30\n",
            "1500/1500 [==============================] - 4s 3ms/step - loss: 0.2853 - accuracy: 0.8992 - val_loss: 0.3325 - val_accuracy: 0.8838\n"
          ],
          "name": "stdout"
        }
      ]
    },
    {
      "cell_type": "code",
      "metadata": {
        "colab": {
          "base_uri": "https://localhost:8080/",
          "height": 592
        },
        "id": "ge1Cx0APMvHk",
        "outputId": "89c366c2-d704-454e-87aa-4442b589afd3"
      },
      "source": [
        "import matplotlib.pyplot as plt\n",
        "%matplotlib inline\n",
        "# list all data in training\n",
        "print(training.history.keys())\n",
        "# summarize training for accuracy\n",
        "plt.plot(training.history['accuracy'])\n",
        "plt.plot(training.history['val_accuracy'])\n",
        "plt.title('model accuracy')\n",
        "plt.ylabel('accuracy')\n",
        "plt.xlabel('epoch')\n",
        "plt.legend(['train', 'test'], loc='upper left')\n",
        "plt.show()\n",
        "# summarize traning for loss\n",
        "plt.plot(training.history['loss'])\n",
        "plt.plot(training.history['val_loss'])\n",
        "plt.title('model loss')\n",
        "plt.ylabel('loss')\n",
        "plt.xlabel('epoch')\n",
        "plt.legend(['train', 'test'], loc='upper left')\n",
        "plt.show()"
      ],
      "execution_count": null,
      "outputs": [
        {
          "output_type": "stream",
          "text": [
            "dict_keys(['loss', 'accuracy', 'val_loss', 'val_accuracy'])\n"
          ],
          "name": "stdout"
        },
        {
          "output_type": "display_data",
          "data": {
            "image/png": "[encoded data removed]",
            "text/plain": [
              "<Figure size 432x288 with 1 Axes>"
            ]
          },
          "metadata": {
            "tags": [],
            "needs_background": "light"
          }
        },
        {
          "output_type": "display_data",
          "data": {
            "image/png": "[encoded data removed]",
            "text/plain": [
              "<Figure size 432x288 with 1 Axes>"
            ]
          },
          "metadata": {
            "tags": [],
            "needs_background": "light"
          }
        }
      ]
    },
    {
      "cell_type": "code",
      "metadata": {
        "colab": {
          "base_uri": "https://localhost:8080/"
        },
        "id": "lP1eCCXRMvHk",
        "outputId": "5d2d736f-07c4-4460-eef9-a5ccff0cb9b7"
      },
      "source": [
        "#evaluate model\n",
        "\n",
        "#evaluate the model\n",
        "test_loss, test_acc = model_1.evaluate(X_test, y_test)\n",
        "print()\n",
        "print('Test Loss', test_loss)\n",
        "print()\n",
        "print('Test accuracy:', test_acc)"
      ],
      "execution_count": null,
      "outputs": [
        {
          "output_type": "stream",
          "text": [
            "313/313 [==============================] - 1s 2ms/step - loss: 0.3560 - accuracy: 0.8737\n",
            "\n",
            "Test Loss 0.355976939201355\n",
            "\n",
            "Test accuracy: 0.8737000226974487\n"
          ],
          "name": "stdout"
        }
      ]
    },
    {
      "cell_type": "code",
      "metadata": {
        "colab": {
          "base_uri": "https://localhost:8080/"
        },
        "id": "IIH1mkEPMvHl",
        "outputId": "603eb9aa-9c33-427b-9643-ea09327af796"
      },
      "source": [
        "training.params"
      ],
      "execution_count": null,
      "outputs": [
        {
          "output_type": "execute_result",
          "data": {
            "text/plain": [
              "{'epochs': 30, 'steps': 1500, 'verbose': 1}"
            ]
          },
          "metadata": {
            "tags": []
          },
          "execution_count": 38
        }
      ]
    },
    {
      "cell_type": "code",
      "metadata": {
        "colab": {
          "base_uri": "https://localhost:8080/"
        },
        "id": "JIfCrN_3MvHl",
        "outputId": "458d3063-f271-48ab-980a-02ca5ee7c3c9"
      },
      "source": [
        "print(training.epoch)"
      ],
      "execution_count": null,
      "outputs": [
        {
          "output_type": "stream",
          "text": [
            "[0, 1, 2, 3, 4, 5, 6, 7, 8, 9, 10, 11, 12, 13, 14, 15, 16, 17, 18, 19, 20, 21, 22, 23, 24, 25, 26, 27, 28, 29]\n"
          ],
          "name": "stdout"
        }
      ]
    },
    {
      "cell_type": "code",
      "metadata": {
        "colab": {
          "base_uri": "https://localhost:8080/"
        },
        "id": "U_AH6JesMvHl",
        "outputId": "6cb47ab1-4be9-4348-9bea-b9d9936e27e2"
      },
      "source": [
        "training.history.keys()"
      ],
      "execution_count": null,
      "outputs": [
        {
          "output_type": "execute_result",
          "data": {
            "text/plain": [
              "dict_keys(['loss', 'accuracy', 'val_loss', 'val_accuracy'])"
            ]
          },
          "metadata": {
            "tags": []
          },
          "execution_count": 40
        }
      ]
    },
    {
      "cell_type": "markdown",
      "metadata": {
        "id": "HIqPWnBrMvHm"
      },
      "source": [
        "## Plot the change in accuracy per epoch"
      ]
    },
    {
      "cell_type": "code",
      "metadata": {
        "colab": {
          "base_uri": "https://localhost:8080/",
          "height": 324
        },
        "id": "WHN97IjUMvHm",
        "outputId": "9a42dcdf-bbb7-4f24-f8b3-b97702db9c47"
      },
      "source": [
        "import pandas as pd\n",
        "\n",
        "pd.DataFrame(training.history).plot(figsize=(8, 5))\n",
        "plt.grid(True)\n",
        "plt.gca().set_ylim(0, 1)\n",
        "plt.show()"
      ],
      "execution_count": null,
      "outputs": [
        {
          "output_type": "display_data",
          "data": {
            "image/png": "[encoded data removed]",
            "text/plain": [
              "<Figure size 576x360 with 1 Axes>"
            ]
          },
          "metadata": {
            "tags": [],
            "needs_background": "light"
          }
        }
      ]
    },
    {
      "cell_type": "markdown",
      "metadata": {
        "id": "CpRxlYGiMvHn"
      },
      "source": [
        "## Evaluate the model on the testing data"
      ]
    },
    {
      "cell_type": "code",
      "metadata": {
        "colab": {
          "base_uri": "https://localhost:8080/"
        },
        "id": "HlNYC8ItMvHn",
        "outputId": "91b69ec1-5ce9-41f3-f6ab-904746a18e1c"
      },
      "source": [
        "# Evaluate the model on the testing data\n",
        "\n",
        "test_loss, test_acc = model_1.evaluate(X_test, y_test)\n",
        "print()\n",
        "print('Test Loss', test_loss)\n",
        "print()\n",
        "print('Test accuracy:', test_acc)"
      ],
      "execution_count": null,
      "outputs": [
        {
          "output_type": "stream",
          "text": [
            "313/313 [==============================] - 1s 2ms/step - loss: 0.3560 - accuracy: 0.8737\n",
            "\n",
            "Test Loss 0.355976939201355\n",
            "\n",
            "Test accuracy: 0.8737000226974487\n"
          ],
          "name": "stdout"
        }
      ]
    },
    {
      "cell_type": "markdown",
      "metadata": {
        "id": "0gofNhJCMvHn"
      },
      "source": [
        "## Analyze the model summary"
      ]
    },
    {
      "cell_type": "code",
      "metadata": {
        "colab": {
          "base_uri": "https://localhost:8080/"
        },
        "id": "nxkPG20oMvHn",
        "outputId": "7af943bc-e145-4216-8806-54bfada95fe3"
      },
      "source": [
        "model_1.summary()"
      ],
      "execution_count": null,
      "outputs": [
        {
          "output_type": "stream",
          "text": [
            "Model: \"sequential_1\"\n",
            "_________________________________________________________________\n",
            "Layer (type)                 Output Shape              Param #   \n",
            "=================================================================\n",
            "flatten_1 (Flatten)          (None, 784)               0         \n",
            "_________________________________________________________________\n",
            "dense_layer_1 (Dense)        (None, 300)               235500    \n",
            "_________________________________________________________________\n",
            "dense_layer_5 (Dense)        (None, 10)                3010      \n",
            "=================================================================\n",
            "Total params: 238,510\n",
            "Trainable params: 238,510\n",
            "Non-trainable params: 0\n",
            "_________________________________________________________________\n"
          ],
          "name": "stdout"
        }
      ]
    },
    {
      "cell_type": "code",
      "metadata": {
        "colab": {
          "base_uri": "https://localhost:8080/",
          "height": 36
        },
        "id": "lmvR3medMvHo",
        "outputId": "4619d827-4222-448d-d46f-350b4b30cfac"
      },
      "source": [
        "layer1 = model_1.layers[1]\n",
        "layer1.name"
      ],
      "execution_count": null,
      "outputs": [
        {
          "output_type": "execute_result",
          "data": {
            "application/vnd.google.colaboratory.intrinsic+json": {
              "type": "string"
            },
            "text/plain": [
              "'dense_layer_1'"
            ]
          },
          "metadata": {
            "tags": []
          },
          "execution_count": 44
        }
      ]
    },
    {
      "cell_type": "code",
      "metadata": {
        "colab": {
          "base_uri": "https://localhost:8080/"
        },
        "id": "42sdjK4tMvHo",
        "outputId": "0a33ed15-ef5d-43b2-97cd-f58f81a12969"
      },
      "source": [
        "weights1 = layer1.get_weights()\n",
        "weights1"
      ],
      "execution_count": null,
      "outputs": [
        {
          "output_type": "execute_result",
          "data": {
            "text/plain": [
              "[array([[-0.06100519, -0.0268347 ,  0.00661279, ..., -0.06044499,\n",
              "          0.028899  ,  0.05418257],\n",
              "        [-0.04590829,  0.00356038, -0.00788125, ..., -0.07412995,\n",
              "          0.03484922,  0.0144207 ],\n",
              "        [-0.00453135,  0.00269585,  0.00794113, ...,  0.03098748,\n",
              "          0.02633523, -0.05424954],\n",
              "        ...,\n",
              "        [-0.04834627,  0.07081134, -0.0706983 , ...,  0.06329881,\n",
              "         -0.0730135 , -0.01440673],\n",
              "        [ 0.02318721,  0.00924032,  0.023852  , ...,  0.02673823,\n",
              "         -0.01747489,  0.02137295],\n",
              "        [-0.05527546, -0.05958702, -0.02158223, ...,  0.04753517,\n",
              "         -0.01673931,  0.05678657]], dtype=float32),\n",
              " array([ 1.20785385e-02,  6.23119175e-02,  3.41126993e-02,  1.21524513e-01,\n",
              "         7.08179548e-02,  2.53164303e-03, -2.90349312e-02,  5.70759214e-02,\n",
              "         1.13589682e-01,  2.82680858e-02,  4.24956717e-02, -2.01398395e-02,\n",
              "         9.84292030e-02, -1.58113047e-01,  1.57490566e-01,  1.47414491e-01,\n",
              "         1.42477497e-01, -2.02160254e-02,  1.07879058e-01,  2.67396984e-03,\n",
              "         1.20958485e-01,  4.65296283e-02, -1.88352048e-01, -2.44950466e-02,\n",
              "         8.58955234e-02,  3.22519131e-02,  2.51282956e-02, -1.17582165e-01,\n",
              "        -1.69036761e-02, -1.30880222e-01,  5.88022470e-02,  1.23158231e-01,\n",
              "         3.79211530e-02, -9.13740892e-04,  7.08044767e-02,  1.11830488e-01,\n",
              "         6.69875666e-02, -2.05385741e-02,  4.34899405e-02,  6.10384755e-02,\n",
              "         1.36529237e-01, -7.21916975e-03, -4.57584970e-02, -8.70883241e-02,\n",
              "        -6.93613142e-02,  5.22691607e-02,  1.45522105e-02, -6.08851910e-02,\n",
              "        -6.47756681e-02,  5.52559718e-02,  5.29469065e-02,  1.02826916e-01,\n",
              "         1.58744693e-01,  1.25486314e-01,  1.35360956e-01, -9.24566463e-02,\n",
              "        -5.02471849e-02,  1.82372294e-02,  1.15420729e-01,  9.38117281e-02,\n",
              "         2.25364696e-03, -4.95967194e-02, -9.40080266e-03,  4.03099647e-03,\n",
              "         1.90660954e-01, -5.95458485e-02, -8.33606571e-02,  6.42497167e-02,\n",
              "        -3.53078321e-02,  1.14446916e-01,  1.05309010e-01,  4.06807736e-02,\n",
              "        -7.39255396e-04,  2.43569296e-02, -1.47011438e-02, -1.24658063e-01,\n",
              "        -1.16497371e-02, -2.25754492e-02, -1.82553858e-01,  1.46679152e-02,\n",
              "         5.29448092e-02,  9.98259522e-03, -2.64533982e-02,  2.13206168e-02,\n",
              "         1.93783894e-01,  4.64922450e-02,  1.34407263e-02, -1.14793666e-01,\n",
              "         5.92458844e-02, -1.11803398e-01,  5.31695038e-02,  8.09905231e-02,\n",
              "         7.66472220e-02, -5.76718934e-02, -9.25998762e-02,  2.29166672e-02,\n",
              "        -1.64393173e-03,  1.76975235e-01, -2.07757771e-01,  6.55095652e-02,\n",
              "         6.20102808e-02,  8.70141312e-02,  2.91058770e-03,  1.82682469e-01,\n",
              "         4.47919182e-02,  1.63228527e-01,  9.47642028e-02,  5.26802801e-03,\n",
              "        -1.51370749e-01,  1.20531373e-01,  1.22249432e-01,  2.55013734e-01,\n",
              "         2.34440286e-02,  1.28741845e-01, -1.23548741e-02,  8.53537992e-02,\n",
              "        -1.49212200e-02,  4.07911511e-03, -1.31413728e-01,  2.67512314e-02,\n",
              "         1.39560744e-01, -1.04961311e-02,  8.21779817e-02, -1.20121930e-02,\n",
              "         1.77532285e-01,  6.27882704e-02,  2.79697683e-02,  1.67448863e-01,\n",
              "         7.94270262e-02, -1.06706448e-01,  3.54544781e-02,  9.59610492e-02,\n",
              "         2.57411953e-02,  2.53097191e-02,  5.49037531e-02,  1.01641603e-01,\n",
              "         1.08707339e-01, -4.12585326e-02, -7.81506076e-02, -7.14439712e-03,\n",
              "         4.68247570e-02,  5.43012889e-03,  3.67942788e-02, -1.26967169e-02,\n",
              "        -1.58765003e-01, -2.14598086e-02,  1.26708224e-01, -3.75259742e-02,\n",
              "         2.99041048e-02, -4.02988493e-02,  1.90184906e-01,  1.15165077e-01,\n",
              "        -7.70516470e-02, -1.61633324e-02,  8.82835090e-02, -2.42856257e-02,\n",
              "         4.56971899e-02,  6.35990575e-02,  2.11152568e-01, -3.00809313e-02,\n",
              "         6.55879229e-02, -3.62067185e-02, -1.15518477e-02,  9.02068764e-02,\n",
              "         1.07559919e-01,  1.86329097e-01, -8.22462887e-02, -1.51708899e-02,\n",
              "         1.48787454e-01,  2.05599181e-02, -2.11004727e-02,  1.39292553e-01,\n",
              "         1.06090158e-01,  3.60704735e-02, -1.47314548e-01,  4.37151827e-02,\n",
              "         2.91965362e-02, -2.86048595e-02,  2.06647860e-03,  1.15526142e-02,\n",
              "        -7.64874741e-02,  3.29255760e-02,  1.60160989e-01, -7.08217695e-02,\n",
              "         3.57585447e-03,  7.84215406e-02, -1.94186978e-02, -1.11728676e-01,\n",
              "         2.91325618e-03,  9.10572410e-02, -8.73239804e-03, -9.23650432e-03,\n",
              "        -9.62575972e-02, -6.49517551e-02, -3.49174603e-03,  1.69567004e-01,\n",
              "         1.71478149e-02, -7.98286218e-03, -1.46002891e-02,  6.81572556e-02,\n",
              "         8.01892728e-02,  2.44535692e-02,  6.13069125e-02, -7.39038438e-02,\n",
              "        -1.21418098e-02, -3.83449942e-02,  1.64401501e-01, -6.25700727e-02,\n",
              "        -8.90647471e-02,  8.86843577e-02,  2.13657513e-01,  7.69255832e-02,\n",
              "         2.01863199e-01,  2.74881050e-02,  1.69829637e-01,  1.30171433e-01,\n",
              "        -1.64896511e-02, -5.75759273e-04,  2.67934036e-02,  4.70891260e-02,\n",
              "        -6.57988572e-03,  7.93054402e-02,  9.09502879e-02, -4.41308841e-02,\n",
              "         3.72125171e-02,  1.65431112e-01,  4.58309203e-02,  2.02954914e-02,\n",
              "         9.15872231e-02,  8.73964429e-02,  1.52904928e-01, -2.35633110e-03,\n",
              "         1.16634257e-01,  1.55845601e-02,  3.76489609e-02,  1.41782627e-01,\n",
              "        -6.75244350e-03,  2.68678926e-02,  3.60404924e-02, -2.87078565e-05,\n",
              "         4.66121882e-02, -6.99486360e-02,  2.67044436e-02, -1.76316630e-02,\n",
              "        -3.08055580e-02,  1.65663004e-01, -3.43919620e-02, -8.66804179e-03,\n",
              "         1.70122147e-01, -1.39732420e-01, -4.76559177e-02,  1.10959612e-01,\n",
              "        -4.24321927e-03, -3.94129194e-02,  8.38208497e-02, -1.86109934e-02,\n",
              "         1.00159846e-01,  3.66049781e-02,  3.25111933e-02, -8.35595373e-03,\n",
              "         3.91061157e-02,  1.02451764e-01, -1.43237393e-02, -1.33011378e-02,\n",
              "         7.32040703e-02, -8.23982432e-02,  2.50813589e-02,  6.04166463e-03,\n",
              "        -4.11638953e-02,  4.47479710e-02,  9.69189219e-03,  1.44811094e-01,\n",
              "         2.75017936e-02,  1.80372894e-02,  2.41392292e-02, -7.19227120e-02,\n",
              "         1.45476714e-01,  1.09246699e-02, -2.35128272e-02,  1.93886340e-01,\n",
              "         1.18226536e-01, -2.77485624e-02, -1.04135975e-01, -4.90660630e-02,\n",
              "        -4.18925099e-02,  2.42165253e-02,  6.98872954e-02,  1.06450379e-01,\n",
              "         5.07783741e-02, -4.19398099e-02,  1.19443171e-01,  1.16348036e-01,\n",
              "        -5.76065555e-02,  1.60833761e-01, -3.61147895e-02, -1.04622163e-01,\n",
              "        -2.09439695e-02,  6.89045563e-02, -1.84723288e-02, -2.75939610e-03],\n",
              "       dtype=float32)]"
            ]
          },
          "metadata": {
            "tags": []
          },
          "execution_count": 45
        }
      ]
    },
    {
      "cell_type": "code",
      "metadata": {
        "colab": {
          "base_uri": "https://localhost:8080/",
          "height": 36
        },
        "id": "uvVIwekbMvHp",
        "outputId": "f207ff99-977b-48d7-e844-966dfb10ad68"
      },
      "source": [
        "layer2 = model_1.layers[2]\n",
        "layer2.name"
      ],
      "execution_count": null,
      "outputs": [
        {
          "output_type": "execute_result",
          "data": {
            "application/vnd.google.colaboratory.intrinsic+json": {
              "type": "string"
            },
            "text/plain": [
              "'dense_layer_5'"
            ]
          },
          "metadata": {
            "tags": []
          },
          "execution_count": 46
        }
      ]
    },
    {
      "cell_type": "code",
      "metadata": {
        "colab": {
          "base_uri": "https://localhost:8080/"
        },
        "id": "mhh8weZiMvHp",
        "outputId": "a6647c41-572b-4706-adf4-d10cd424e9ae"
      },
      "source": [
        "weights2 = layer2.get_weights()\n",
        "weights2"
      ],
      "execution_count": null,
      "outputs": [
        {
          "output_type": "execute_result",
          "data": {
            "text/plain": [
              "[array([[-0.09179432,  0.04954231, -0.14512162, ...,  0.11764135,\n",
              "         -0.10886224,  0.07510721],\n",
              "        [-0.16803612, -0.26491556,  0.04253254, ...,  0.05848765,\n",
              "          0.18905997, -0.02370564],\n",
              "        [-0.10187153, -0.10097929, -0.02026241, ..., -0.19039573,\n",
              "          0.19559549, -0.12193947],\n",
              "        ...,\n",
              "        [ 0.4472459 ,  0.04101318,  0.00903666, ...,  0.01042178,\n",
              "         -0.11618613, -0.11411677],\n",
              "        [ 0.21780956,  0.15453558,  0.01472483, ..., -0.08920632,\n",
              "         -0.25876576,  0.2872336 ],\n",
              "        [ 0.09292348, -0.02603474, -0.03355931, ...,  0.05074228,\n",
              "         -0.04686321, -0.16992916]], dtype=float32),\n",
              " array([ 0.0924186 , -0.19451821,  0.06505683,  0.16916765, -0.3253029 ,\n",
              "         0.45640972,  0.14309186,  0.1348854 , -0.19377765, -0.34743178],\n",
              "       dtype=float32)]"
            ]
          },
          "metadata": {
            "tags": []
          },
          "execution_count": 47
        }
      ]
    },
    {
      "cell_type": "markdown",
      "metadata": {
        "id": "ceVwNQOkMvHp"
      },
      "source": [
        "model_1\n",
        "\n",
        "Test Loss 0.3609267473220825\n",
        "\n",
        "Test accuracy: 0.8705000281333923"
      ]
    },
    {
      "cell_type": "code",
      "metadata": {
        "id": "FDMZUFxtMvHp"
      },
      "source": [
        ""
      ],
      "execution_count": null,
      "outputs": []
    },
    {
      "cell_type": "markdown",
      "metadata": {
        "id": "QhINIth0MvHp"
      },
      "source": [
        "## Add Dropout to prevent overfitting and check its effect on accuracy"
      ]
    },
    {
      "cell_type": "code",
      "metadata": {
        "colab": {
          "base_uri": "https://localhost:8080/"
        },
        "id": "4n9KW_CRMvHp",
        "outputId": "67e0fb76-2be2-46a9-c014-ba5ea4e574bf"
      },
      "source": [
        "from tensorflow.keras.layers import Dropout\n",
        "\n",
        "# build model\n",
        "model_2 = keras.models.Sequential()\n",
        "\n",
        "# flatten each input image  to a vector of 784 numbers\n",
        "model_2.add(keras.layers.Flatten(input_shape=(28, 28)))\n",
        "\n",
        "# Adding a dense layer to make it multilayer Perceptron\n",
        "model_2.add(Dense(300, name='dense_layer_1', activation='relu'))\n",
        "model_2.add(Dropout(0.30))\n",
        "\n",
        "# Add an output layer with 10 output units (10 different classes):\n",
        "model_2.add(Dense(10, name='dense_layer_5', activation = 'softmax'))\n",
        "\n",
        "model_2.summary()"
      ],
      "execution_count": null,
      "outputs": [
        {
          "output_type": "stream",
          "text": [
            "Model: \"sequential_2\"\n",
            "_________________________________________________________________\n",
            "Layer (type)                 Output Shape              Param #   \n",
            "=================================================================\n",
            "flatten_2 (Flatten)          (None, 784)               0         \n",
            "_________________________________________________________________\n",
            "dense_layer_1 (Dense)        (None, 300)               235500    \n",
            "_________________________________________________________________\n",
            "dropout (Dropout)            (None, 300)               0         \n",
            "_________________________________________________________________\n",
            "dense_layer_5 (Dense)        (None, 10)                3010      \n",
            "=================================================================\n",
            "Total params: 238,510\n",
            "Trainable params: 238,510\n",
            "Non-trainable params: 0\n",
            "_________________________________________________________________\n"
          ],
          "name": "stdout"
        }
      ]
    },
    {
      "cell_type": "code",
      "metadata": {
        "id": "NfVHcWmhMvHq"
      },
      "source": [
        "# compile model\n",
        "\n",
        "model_2.compile(optimizer='SGD',\n",
        "              loss='sparse_categorical_crossentropy',\n",
        "              metrics=['accuracy'])"
      ],
      "execution_count": null,
      "outputs": []
    },
    {
      "cell_type": "code",
      "metadata": {
        "colab": {
          "base_uri": "https://localhost:8080/"
        },
        "id": "0imaJgq1MvHq",
        "outputId": "05132f3c-b576-4575-99ee-5be83998dff0"
      },
      "source": [
        "#train model\n",
        "\n",
        "training = model_2.fit(X_train, y_train, epochs=30, validation_split=0.2)"
      ],
      "execution_count": null,
      "outputs": [
        {
          "output_type": "stream",
          "text": [
            "Epoch 1/30\n",
            "1500/1500 [==============================] - 4s 3ms/step - loss: 1.0880 - accuracy: 0.6434 - val_loss: 0.5752 - val_accuracy: 0.8092\n",
            "Epoch 2/30\n",
            "1500/1500 [==============================] - 4s 3ms/step - loss: 0.5947 - accuracy: 0.8033 - val_loss: 0.5053 - val_accuracy: 0.8283\n",
            "Epoch 3/30\n",
            "1500/1500 [==============================] - 4s 3ms/step - loss: 0.5137 - accuracy: 0.8272 - val_loss: 0.4719 - val_accuracy: 0.8367\n",
            "Epoch 4/30\n",
            "1500/1500 [==============================] - 4s 3ms/step - loss: 0.4905 - accuracy: 0.8323 - val_loss: 0.4507 - val_accuracy: 0.8432\n",
            "Epoch 5/30\n",
            "1500/1500 [==============================] - 4s 3ms/step - loss: 0.4586 - accuracy: 0.8432 - val_loss: 0.4418 - val_accuracy: 0.8448\n",
            "Epoch 6/30\n",
            "1500/1500 [==============================] - 4s 3ms/step - loss: 0.4389 - accuracy: 0.8498 - val_loss: 0.4193 - val_accuracy: 0.8515\n",
            "Epoch 7/30\n",
            "1500/1500 [==============================] - 4s 3ms/step - loss: 0.4320 - accuracy: 0.8477 - val_loss: 0.4038 - val_accuracy: 0.8597\n",
            "Epoch 8/30\n",
            "1500/1500 [==============================] - 4s 3ms/step - loss: 0.4096 - accuracy: 0.8586 - val_loss: 0.3996 - val_accuracy: 0.8613\n",
            "Epoch 9/30\n",
            "1500/1500 [==============================] - 4s 3ms/step - loss: 0.4097 - accuracy: 0.8574 - val_loss: 0.3943 - val_accuracy: 0.8633\n",
            "Epoch 10/30\n",
            "1500/1500 [==============================] - 4s 3ms/step - loss: 0.3951 - accuracy: 0.8629 - val_loss: 0.3892 - val_accuracy: 0.8630\n",
            "Epoch 11/30\n",
            "1500/1500 [==============================] - 4s 3ms/step - loss: 0.3852 - accuracy: 0.8667 - val_loss: 0.3784 - val_accuracy: 0.8691\n",
            "Epoch 12/30\n",
            "1500/1500 [==============================] - 4s 3ms/step - loss: 0.3820 - accuracy: 0.8659 - val_loss: 0.3711 - val_accuracy: 0.8698\n",
            "Epoch 13/30\n",
            "1500/1500 [==============================] - 4s 3ms/step - loss: 0.3698 - accuracy: 0.8694 - val_loss: 0.3741 - val_accuracy: 0.8686\n",
            "Epoch 14/30\n",
            "1500/1500 [==============================] - 4s 3ms/step - loss: 0.3598 - accuracy: 0.8732 - val_loss: 0.3642 - val_accuracy: 0.8708\n",
            "Epoch 15/30\n",
            "1500/1500 [==============================] - 4s 3ms/step - loss: 0.3596 - accuracy: 0.8721 - val_loss: 0.3608 - val_accuracy: 0.8727\n",
            "Epoch 16/30\n",
            "1500/1500 [==============================] - 4s 3ms/step - loss: 0.3644 - accuracy: 0.8702 - val_loss: 0.3554 - val_accuracy: 0.8742\n",
            "Epoch 17/30\n",
            "1500/1500 [==============================] - 4s 3ms/step - loss: 0.3486 - accuracy: 0.8771 - val_loss: 0.3571 - val_accuracy: 0.8717\n",
            "Epoch 18/30\n",
            "1500/1500 [==============================] - 4s 3ms/step - loss: 0.3485 - accuracy: 0.8766 - val_loss: 0.3513 - val_accuracy: 0.8767\n",
            "Epoch 19/30\n",
            "1500/1500 [==============================] - 4s 3ms/step - loss: 0.3450 - accuracy: 0.8776 - val_loss: 0.3519 - val_accuracy: 0.8742\n",
            "Epoch 20/30\n",
            "1500/1500 [==============================] - 4s 3ms/step - loss: 0.3357 - accuracy: 0.8802 - val_loss: 0.3464 - val_accuracy: 0.8766\n",
            "Epoch 21/30\n",
            "1500/1500 [==============================] - 4s 3ms/step - loss: 0.3349 - accuracy: 0.8810 - val_loss: 0.3479 - val_accuracy: 0.8762\n",
            "Epoch 22/30\n",
            "1500/1500 [==============================] - 4s 3ms/step - loss: 0.3280 - accuracy: 0.8846 - val_loss: 0.3395 - val_accuracy: 0.8785\n",
            "Epoch 23/30\n",
            "1500/1500 [==============================] - 4s 3ms/step - loss: 0.3275 - accuracy: 0.8835 - val_loss: 0.3367 - val_accuracy: 0.8811\n",
            "Epoch 24/30\n",
            "1500/1500 [==============================] - 4s 3ms/step - loss: 0.3206 - accuracy: 0.8863 - val_loss: 0.3343 - val_accuracy: 0.8819\n",
            "Epoch 25/30\n",
            "1500/1500 [==============================] - 4s 3ms/step - loss: 0.3184 - accuracy: 0.8876 - val_loss: 0.3310 - val_accuracy: 0.8841\n",
            "Epoch 26/30\n",
            "1500/1500 [==============================] - 4s 3ms/step - loss: 0.3217 - accuracy: 0.8852 - val_loss: 0.3309 - val_accuracy: 0.8819\n",
            "Epoch 27/30\n",
            "1500/1500 [==============================] - 4s 3ms/step - loss: 0.3192 - accuracy: 0.8849 - val_loss: 0.3319 - val_accuracy: 0.8819\n",
            "Epoch 28/30\n",
            "1500/1500 [==============================] - 4s 3ms/step - loss: 0.3071 - accuracy: 0.8916 - val_loss: 0.3283 - val_accuracy: 0.8832\n",
            "Epoch 29/30\n",
            "1500/1500 [==============================] - 4s 3ms/step - loss: 0.3081 - accuracy: 0.8925 - val_loss: 0.3264 - val_accuracy: 0.8850\n",
            "Epoch 30/30\n",
            "1500/1500 [==============================] - 4s 3ms/step - loss: 0.3058 - accuracy: 0.8918 - val_loss: 0.3248 - val_accuracy: 0.8841\n"
          ],
          "name": "stdout"
        }
      ]
    },
    {
      "cell_type": "code",
      "metadata": {
        "colab": {
          "base_uri": "https://localhost:8080/",
          "height": 592
        },
        "id": "MDRQyvYoMvHr",
        "outputId": "bd5a482f-00f4-4b62-afff-f83dd052fe5f"
      },
      "source": [
        "import matplotlib.pyplot as plt\n",
        "%matplotlib inline\n",
        "# list all data in training\n",
        "print(training.history.keys())\n",
        "# summarize training for accuracy\n",
        "plt.plot(training.history['accuracy'])\n",
        "plt.plot(training.history['val_accuracy'])\n",
        "plt.title('model accuracy')\n",
        "plt.ylabel('accuracy')\n",
        "plt.xlabel('epoch')\n",
        "plt.legend(['train', 'test'], loc='upper left')\n",
        "plt.show()\n",
        "# summarize traning for loss\n",
        "plt.plot(training.history['loss'])\n",
        "plt.plot(training.history['val_loss'])\n",
        "plt.title('model loss')\n",
        "plt.ylabel('loss')\n",
        "plt.xlabel('epoch')\n",
        "plt.legend(['train', 'test'], loc='upper left')\n",
        "plt.show()"
      ],
      "execution_count": null,
      "outputs": [
        {
          "output_type": "stream",
          "text": [
            "dict_keys(['loss', 'accuracy', 'val_loss', 'val_accuracy'])\n"
          ],
          "name": "stdout"
        },
        {
          "output_type": "display_data",
          "data": {
            "image/png": "[encoded data removed]",
            "text/plain": [
              "<Figure size 432x288 with 1 Axes>"
            ]
          },
          "metadata": {
            "tags": [],
            "needs_background": "light"
          }
        },
        {
          "output_type": "display_data",
          "data": {
            "image/png": "[encoded data removed]",
            "text/plain": [
              "<Figure size 432x288 with 1 Axes>"
            ]
          },
          "metadata": {
            "tags": [],
            "needs_background": "light"
          }
        }
      ]
    },
    {
      "cell_type": "code",
      "metadata": {
        "colab": {
          "base_uri": "https://localhost:8080/"
        },
        "id": "HgE_PqpsMvHr",
        "outputId": "99e3307e-2071-4c57-caa2-865f440ceaa8"
      },
      "source": [
        "\n",
        "#evaluate the model\n",
        "\n",
        "test_loss, test_acc = model_2.evaluate(X_test, y_test)\n",
        "print()\n",
        "print('Test Loss', test_loss)\n",
        "print()\n",
        "print('Test accuracy:', test_acc)"
      ],
      "execution_count": null,
      "outputs": [
        {
          "output_type": "stream",
          "text": [
            "313/313 [==============================] - 1s 2ms/step - loss: 0.3494 - accuracy: 0.8758\n",
            "\n",
            "Test Loss 0.34937459230422974\n",
            "\n",
            "Test accuracy: 0.8758000135421753\n"
          ],
          "name": "stdout"
        }
      ]
    },
    {
      "cell_type": "markdown",
      "metadata": {
        "id": "kL2MCbe7MvHr"
      },
      "source": [
        "model_1\n",
        "\n",
        "Test Loss 0.3609267473220825\n",
        "\n",
        "Test accuracy: 0.8705000281333923"
      ]
    },
    {
      "cell_type": "markdown",
      "metadata": {
        "id": "Dno8a-P8MvHs"
      },
      "source": [
        "model_1\n",
        "\n",
        "Test Loss 0.3609267473220825\n",
        "\n",
        "Test accuracy: 0.8705000281333923\n",
        "\n",
        "model_2 (with Dropout=30%)\n",
        "\n",
        "Test Loss 0.351416677236557\n",
        "\n",
        "Test accuracy: 0.8777999877929688"
      ]
    },
    {
      "cell_type": "markdown",
      "metadata": {
        "id": "fScV1j-fMvHs"
      },
      "source": [
        "### Not much improvement in accuracy"
      ]
    },
    {
      "cell_type": "code",
      "metadata": {
        "id": "qkE22ioEMvHs"
      },
      "source": [
        ""
      ],
      "execution_count": null,
      "outputs": []
    },
    {
      "cell_type": "markdown",
      "metadata": {
        "id": "wT3DHABRMvHs"
      },
      "source": [
        "## ***** Increase the number of hidden layer neurons and check its accuracy"
      ]
    },
    {
      "cell_type": "code",
      "metadata": {
        "colab": {
          "base_uri": "https://localhost:8080/"
        },
        "id": "eLqulVmmMvHs",
        "outputId": "9142c848-73f9-46a0-f2aa-072037ced616"
      },
      "source": [
        "#import libraries\n",
        "import tensorflow as tf\n",
        "from tensorflow import keras \n",
        "from tensorflow.keras.layers import Dense\n",
        "from tensorflow.keras import Sequential\n",
        "from tensorflow.keras.layers import Dropout\n",
        "\n",
        "import matplotlib.pyplot as plt\n",
        "%matplotlib inline\n",
        "\n",
        "import numpy as np\n",
        "import pandas as pd\n",
        "import seaborn as sns\n",
        "\n",
        "\n",
        "\n",
        "# build model\n",
        "model_3 = keras.models.Sequential()\n",
        "\n",
        "# flatten each input image  to a vector of 784 numbers\n",
        "model_3.add(keras.layers.Flatten(input_shape=(28, 28)))\n",
        "\n",
        "# Adding a dense layer to make it multilayer Perceptron\n",
        "model_3.add(Dense(512, name='dense_layer_1', activation='relu')) #<<<<<<<<<<<<<<<<<<<\n",
        "model_3.add(Dropout(0.30))\n",
        "\n",
        "\n",
        "# Add an output layer with 10 output units (10 different classes):\n",
        "model_3.add(Dense(10, name='dense_layer_5', activation = 'softmax'))\n",
        "\n",
        "print(model_3.summary())\n"
      ],
      "execution_count": null,
      "outputs": [
        {
          "output_type": "stream",
          "text": [
            "Model: \"sequential_2\"\n",
            "_________________________________________________________________\n",
            "Layer (type)                 Output Shape              Param #   \n",
            "=================================================================\n",
            "flatten_2 (Flatten)          (None, 784)               0         \n",
            "_________________________________________________________________\n",
            "dense_layer_1 (Dense)        (None, 512)               401920    \n",
            "_________________________________________________________________\n",
            "dropout_2 (Dropout)          (None, 512)               0         \n",
            "_________________________________________________________________\n",
            "dense_layer_5 (Dense)        (None, 10)                5130      \n",
            "=================================================================\n",
            "Total params: 407,050\n",
            "Trainable params: 407,050\n",
            "Non-trainable params: 0\n",
            "_________________________________________________________________\n",
            "None\n"
          ],
          "name": "stdout"
        }
      ]
    },
    {
      "cell_type": "code",
      "metadata": {
        "id": "TMhxQYp3MvHs"
      },
      "source": [
        "# compile model\n",
        "\n",
        "model_3.compile(optimizer='SGD',\n",
        "              loss='sparse_categorical_crossentropy',\n",
        "              metrics=['accuracy'])"
      ],
      "execution_count": null,
      "outputs": []
    },
    {
      "cell_type": "code",
      "metadata": {
        "colab": {
          "base_uri": "https://localhost:8080/"
        },
        "id": "ujvy9aakMvHs",
        "outputId": "10c578f5-36b4-4085-81e7-aaae17b432a8"
      },
      "source": [
        "#train model\n",
        "\n",
        "training = model_3.fit(X_train, y_train, epochs=30, validation_split=0.2)"
      ],
      "execution_count": null,
      "outputs": [
        {
          "output_type": "stream",
          "text": [
            "Epoch 1/30\n",
            "1500/1500 [==============================] - 3s 2ms/step - loss: 4873.4790 - accuracy: 0.1234 - val_loss: 2.2790 - val_accuracy: 0.1103\n",
            "Epoch 2/30\n",
            "1500/1500 [==============================] - 3s 2ms/step - loss: 2.2650 - accuracy: 0.1293 - val_loss: 2.1699 - val_accuracy: 0.1592\n",
            "Epoch 3/30\n",
            "1500/1500 [==============================] - 3s 2ms/step - loss: 2.2181 - accuracy: 0.1405 - val_loss: 2.2384 - val_accuracy: 0.1252\n",
            "Epoch 4/30\n",
            "1500/1500 [==============================] - 3s 2ms/step - loss: 2.2510 - accuracy: 0.1266 - val_loss: 2.1874 - val_accuracy: 0.1485\n",
            "Epoch 5/30\n",
            "1500/1500 [==============================] - 3s 2ms/step - loss: 2.2167 - accuracy: 0.1431 - val_loss: 2.1574 - val_accuracy: 0.1545\n",
            "Epoch 6/30\n",
            "1500/1500 [==============================] - 3s 2ms/step - loss: 2.2067 - accuracy: 0.1444 - val_loss: 2.2312 - val_accuracy: 0.1268\n",
            "Epoch 7/30\n",
            "1500/1500 [==============================] - 3s 2ms/step - loss: 2.2351 - accuracy: 0.1339 - val_loss: 2.1667 - val_accuracy: 0.1523\n",
            "Epoch 8/30\n",
            "1500/1500 [==============================] - 3s 2ms/step - loss: 2.2480 - accuracy: 0.1288 - val_loss: 2.2783 - val_accuracy: 0.1079\n",
            "Epoch 9/30\n",
            "1500/1500 [==============================] - 3s 2ms/step - loss: 2.2577 - accuracy: 0.1211 - val_loss: 2.1772 - val_accuracy: 0.1504\n",
            "Epoch 10/30\n",
            "1500/1500 [==============================] - 3s 2ms/step - loss: 2.2100 - accuracy: 0.1409 - val_loss: 2.2030 - val_accuracy: 0.1431\n",
            "Epoch 11/30\n",
            "1500/1500 [==============================] - 3s 2ms/step - loss: 2.1895 - accuracy: 0.1488 - val_loss: 2.1823 - val_accuracy: 0.1673\n",
            "Epoch 12/30\n",
            "1500/1500 [==============================] - 3s 2ms/step - loss: 2.2661 - accuracy: 0.1418 - val_loss: 2.1724 - val_accuracy: 0.1604\n",
            "Epoch 13/30\n",
            "1500/1500 [==============================] - 3s 2ms/step - loss: 2.2047 - accuracy: 0.1488 - val_loss: 2.2128 - val_accuracy: 0.1457\n",
            "Epoch 14/30\n",
            "1500/1500 [==============================] - 3s 2ms/step - loss: 2.2168 - accuracy: 0.1379 - val_loss: 2.2085 - val_accuracy: 0.1350\n",
            "Epoch 15/30\n",
            "1500/1500 [==============================] - 3s 2ms/step - loss: 2.2577 - accuracy: 0.1299 - val_loss: 2.2193 - val_accuracy: 0.1448\n",
            "Epoch 16/30\n",
            "1500/1500 [==============================] - 3s 2ms/step - loss: 2.2451 - accuracy: 0.1334 - val_loss: 2.2440 - val_accuracy: 0.1303\n",
            "Epoch 17/30\n",
            "1500/1500 [==============================] - 3s 2ms/step - loss: 2.2610 - accuracy: 0.1179 - val_loss: 2.2723 - val_accuracy: 0.1100\n",
            "Epoch 18/30\n",
            "1500/1500 [==============================] - 3s 2ms/step - loss: 2.2683 - accuracy: 0.1161 - val_loss: 2.2352 - val_accuracy: 0.1252\n",
            "Epoch 19/30\n",
            "1500/1500 [==============================] - 3s 2ms/step - loss: 2.2372 - accuracy: 0.1290 - val_loss: 2.2350 - val_accuracy: 0.1254\n",
            "Epoch 20/30\n",
            "1500/1500 [==============================] - 3s 2ms/step - loss: 2.2404 - accuracy: 0.1253 - val_loss: 2.2247 - val_accuracy: 0.1314\n",
            "Epoch 21/30\n",
            "1500/1500 [==============================] - 3s 2ms/step - loss: 2.2437 - accuracy: 0.1247 - val_loss: 2.2584 - val_accuracy: 0.1178\n",
            "Epoch 22/30\n",
            "1500/1500 [==============================] - 3s 2ms/step - loss: 2.2527 - accuracy: 0.1265 - val_loss: 2.2359 - val_accuracy: 0.1290\n",
            "Epoch 23/30\n",
            "1500/1500 [==============================] - 3s 2ms/step - loss: 2.2515 - accuracy: 0.1219 - val_loss: 2.2344 - val_accuracy: 0.1312\n",
            "Epoch 24/30\n",
            "1500/1500 [==============================] - 3s 2ms/step - loss: 2.2417 - accuracy: 0.1256 - val_loss: 2.2290 - val_accuracy: 0.1323\n",
            "Epoch 25/30\n",
            "1500/1500 [==============================] - 3s 2ms/step - loss: 2.2526 - accuracy: 0.1249 - val_loss: 2.2180 - val_accuracy: 0.1310\n",
            "Epoch 26/30\n",
            "1500/1500 [==============================] - 3s 2ms/step - loss: 2.2354 - accuracy: 0.1269 - val_loss: 2.2064 - val_accuracy: 0.1373\n",
            "Epoch 27/30\n",
            "1500/1500 [==============================] - 3s 2ms/step - loss: 2.2252 - accuracy: 0.1357 - val_loss: 2.2364 - val_accuracy: 0.1571\n",
            "Epoch 28/30\n",
            "1500/1500 [==============================] - 3s 2ms/step - loss: 2.2188 - accuracy: 0.1379 - val_loss: 2.1800 - val_accuracy: 0.1585\n",
            "Epoch 29/30\n",
            "1500/1500 [==============================] - 3s 2ms/step - loss: 2.1895 - accuracy: 0.1435 - val_loss: 2.1729 - val_accuracy: 0.1545\n",
            "Epoch 30/30\n",
            "1500/1500 [==============================] - 3s 2ms/step - loss: 2.2019 - accuracy: 0.1439 - val_loss: 2.1641 - val_accuracy: 0.1558\n"
          ],
          "name": "stdout"
        }
      ]
    },
    {
      "cell_type": "code",
      "metadata": {
        "colab": {
          "base_uri": "https://localhost:8080/",
          "height": 592
        },
        "id": "GaxDbC2qMvHt",
        "outputId": "9501205b-b2a3-4c25-b4e1-5e5d009138f6"
      },
      "source": [
        "import matplotlib.pyplot as plt\n",
        "%matplotlib inline\n",
        "# list all data in training\n",
        "print(training.history.keys())\n",
        "# summarize training for accuracy\n",
        "plt.plot(training.history['accuracy'])\n",
        "plt.plot(training.history['val_accuracy'])\n",
        "plt.title('model accuracy')\n",
        "plt.ylabel('accuracy')\n",
        "plt.xlabel('epoch')\n",
        "plt.legend(['train', 'test'], loc='upper left')\n",
        "plt.show()\n",
        "# summarize traning for loss\n",
        "plt.plot(training.history['loss'])\n",
        "plt.plot(training.history['val_loss'])\n",
        "plt.title('model loss')\n",
        "plt.ylabel('loss')\n",
        "plt.xlabel('epoch')\n",
        "plt.legend(['train', 'test'], loc='upper left')\n",
        "plt.show()"
      ],
      "execution_count": null,
      "outputs": [
        {
          "output_type": "stream",
          "text": [
            "dict_keys(['loss', 'accuracy', 'val_loss', 'val_accuracy'])\n"
          ],
          "name": "stdout"
        },
        {
          "output_type": "display_data",
          "data": {
            "image/png": "[encoded data removed]",
            "text/plain": [
              "<Figure size 432x288 with 1 Axes>"
            ]
          },
          "metadata": {
            "tags": [],
            "needs_background": "light"
          }
        },
        {
          "output_type": "display_data",
          "data": {
            "image/png": "[encoded data removed]",
            "text/plain": [
              "<Figure size 432x288 with 1 Axes>"
            ]
          },
          "metadata": {
            "tags": [],
            "needs_background": "light"
          }
        }
      ]
    },
    {
      "cell_type": "code",
      "metadata": {
        "colab": {
          "base_uri": "https://localhost:8080/"
        },
        "id": "AOk1hriaMvHu",
        "outputId": "7068976f-4ed5-4b40-e4b0-32e291155437"
      },
      "source": [
        "#evaluate the model\n",
        "\n",
        "test_loss, test_acc = model_3.evaluate(X_test, y_test)\n",
        "print()\n",
        "print('Test Loss', test_loss)\n",
        "print()\n",
        "print('Test accuracy:', test_acc)"
      ],
      "execution_count": null,
      "outputs": [
        {
          "output_type": "stream",
          "text": [
            "313/313 [==============================] - 1s 2ms/step - loss: 3.4700 - accuracy: 0.1544\n",
            "\n",
            "Test Loss 3.469975471496582\n",
            "\n",
            "Test accuracy: 0.15440000593662262\n"
          ],
          "name": "stdout"
        }
      ]
    },
    {
      "cell_type": "markdown",
      "metadata": {
        "id": "g0Z5mXhYMvHu"
      },
      "source": [
        "############################################################\n",
        "\n",
        "* model_3 (with Dropout=30% & more neurons in hidden layer)\n",
        "\n",
        "    Test Loss 0.3466123044490814\n",
        "    \n",
        "    Test accuracy: 0.8776000142097473\n",
        "    \n",
        "############################################################\n",
        "* model_2 (with Dropout=30%)\n",
        "\n",
        "    Test Loss 0.351416677236557\n",
        "    \n",
        "    Test accuracy: 0.8777999877929688\n",
        "    \n",
        "############################################################\n",
        "* model_1\n",
        "\n",
        "    Test Loss 0.3609267473220825\n",
        "    \n",
        "    Test accuracy: 0.8705000281333923\n"
      ]
    },
    {
      "cell_type": "markdown",
      "metadata": {
        "id": "DhRXLGvBMvHu"
      },
      "source": [
        "## Use different optimizers and check its effect on accuracy"
      ]
    },
    {
      "cell_type": "code",
      "metadata": {
        "id": "EkmG69UaMvHu",
        "outputId": "821939f4-4eed-4cf4-fe8e-f130fd74a57d"
      },
      "source": [
        "from tensorflow.keras.layers import Dropout\n",
        "\n",
        "# build model\n",
        "model_4 = keras.models.Sequential()\n",
        "\n",
        "# flatten each input image  to a vector of 784 numbers\n",
        "model_4.add(keras.layers.Flatten(input_shape=(28, 28)))\n",
        "\n",
        "# Adding a dense layer to make it multilayer Perceptron\n",
        "model_4.add(Dense(300, name='dense_layer_1', activation='relu')) #<<<<<<<<<<<<<<<<<<<\n",
        "model_4.add(Dropout(0.30))\n",
        "\n",
        "\n",
        "# Add an output layer with 10 output units (10 different classes):\n",
        "model_4.add(Dense(10, name='dense_layer_5', activation = 'softmax'))\n",
        "\n",
        "print(model_4.summary())"
      ],
      "execution_count": null,
      "outputs": [
        {
          "output_type": "stream",
          "text": [
            "Model: \"sequential_17\"\n",
            "_________________________________________________________________\n",
            "Layer (type)                 Output Shape              Param #   \n",
            "=================================================================\n",
            "flatten_17 (Flatten)         (None, 784)               0         \n",
            "_________________________________________________________________\n",
            "dense_layer_1 (Dense)        (None, 300)               235500    \n",
            "_________________________________________________________________\n",
            "dropout_11 (Dropout)         (None, 300)               0         \n",
            "_________________________________________________________________\n",
            "dense_layer_5 (Dense)        (None, 10)                3010      \n",
            "=================================================================\n",
            "Total params: 238,510\n",
            "Trainable params: 238,510\n",
            "Non-trainable params: 0\n",
            "_________________________________________________________________\n",
            "None\n"
          ],
          "name": "stdout"
        }
      ]
    },
    {
      "cell_type": "markdown",
      "metadata": {
        "id": "FWN_moERMvHu"
      },
      "source": [
        "## SGD optimizer"
      ]
    },
    {
      "cell_type": "code",
      "metadata": {
        "id": "H6wkUOVWMvHu"
      },
      "source": [
        "# compile model SGD\n",
        "\n",
        "model_4.compile(optimizer='SGD',\n",
        "              loss='sparse_categorical_crossentropy',\n",
        "              metrics=['accuracy'])"
      ],
      "execution_count": null,
      "outputs": []
    },
    {
      "cell_type": "code",
      "metadata": {
        "id": "G-29UEh7MvHv",
        "outputId": "a48e8140-eaff-47f9-9554-da9d85bb518d"
      },
      "source": [
        "#train model sgd\n",
        "training = model_4.fit(X_train, y_train, epochs=30, validation_split=0.2)"
      ],
      "execution_count": null,
      "outputs": [
        {
          "output_type": "stream",
          "text": [
            "Epoch 1/30\n",
            "1500/1500 [==============================] - 2s 1ms/step - loss: 0.3044 - accuracy: 0.8917 - val_loss: 0.3281 - val_accuracy: 0.8835\n",
            "Epoch 2/30\n",
            "1500/1500 [==============================] - 2s 1ms/step - loss: 0.2998 - accuracy: 0.8938 - val_loss: 0.3245 - val_accuracy: 0.8853\n",
            "Epoch 3/30\n",
            "1500/1500 [==============================] - 2s 1ms/step - loss: 0.2951 - accuracy: 0.8956 - val_loss: 0.3253 - val_accuracy: 0.8846\n",
            "Epoch 4/30\n",
            "1500/1500 [==============================] - 2s 1ms/step - loss: 0.2971 - accuracy: 0.8945 - val_loss: 0.3238 - val_accuracy: 0.8849\n",
            "Epoch 5/30\n",
            "1500/1500 [==============================] - 2s 1ms/step - loss: 0.2930 - accuracy: 0.8954 - val_loss: 0.3205 - val_accuracy: 0.8874\n",
            "Epoch 6/30\n",
            "1500/1500 [==============================] - 2s 1ms/step - loss: 0.2902 - accuracy: 0.8977 - val_loss: 0.3203 - val_accuracy: 0.8848\n",
            "Epoch 7/30\n",
            "1500/1500 [==============================] - 2s 1ms/step - loss: 0.2893 - accuracy: 0.8966 - val_loss: 0.3185 - val_accuracy: 0.8865\n",
            "Epoch 8/30\n",
            "1500/1500 [==============================] - 2s 1ms/step - loss: 0.2867 - accuracy: 0.8987 - val_loss: 0.3165 - val_accuracy: 0.8849\n",
            "Epoch 9/30\n",
            "1500/1500 [==============================] - 2s 1ms/step - loss: 0.2835 - accuracy: 0.8982 - val_loss: 0.3158 - val_accuracy: 0.8860\n",
            "Epoch 10/30\n",
            "1500/1500 [==============================] - 2s 1ms/step - loss: 0.2819 - accuracy: 0.8995 - val_loss: 0.3147 - val_accuracy: 0.8880\n",
            "Epoch 11/30\n",
            "1500/1500 [==============================] - 2s 1ms/step - loss: 0.2811 - accuracy: 0.8998 - val_loss: 0.3190 - val_accuracy: 0.8868\n",
            "Epoch 12/30\n",
            "1500/1500 [==============================] - 2s 1ms/step - loss: 0.2767 - accuracy: 0.9004 - val_loss: 0.3170 - val_accuracy: 0.8861\n",
            "Epoch 13/30\n",
            "1500/1500 [==============================] - 2s 1ms/step - loss: 0.2761 - accuracy: 0.9009 - val_loss: 0.3150 - val_accuracy: 0.8873\n",
            "Epoch 14/30\n",
            "1500/1500 [==============================] - 2s 1ms/step - loss: 0.2741 - accuracy: 0.9027 - val_loss: 0.3137 - val_accuracy: 0.8863\n",
            "Epoch 15/30\n",
            "1500/1500 [==============================] - 2s 1ms/step - loss: 0.2709 - accuracy: 0.9048 - val_loss: 0.3130 - val_accuracy: 0.8895\n",
            "Epoch 16/30\n",
            "1500/1500 [==============================] - 2s 1ms/step - loss: 0.2693 - accuracy: 0.9043 - val_loss: 0.3106 - val_accuracy: 0.8893\n",
            "Epoch 17/30\n",
            "1500/1500 [==============================] - 2s 2ms/step - loss: 0.2673 - accuracy: 0.9045 - val_loss: 0.3051 - val_accuracy: 0.8913\n",
            "Epoch 18/30\n",
            "1500/1500 [==============================] - 2s 2ms/step - loss: 0.2650 - accuracy: 0.9045 - val_loss: 0.3091 - val_accuracy: 0.8899\n",
            "Epoch 19/30\n",
            "1500/1500 [==============================] - 2s 1ms/step - loss: 0.2636 - accuracy: 0.9070 - val_loss: 0.3074 - val_accuracy: 0.8901\n",
            "Epoch 20/30\n",
            "1500/1500 [==============================] - 2s 2ms/step - loss: 0.2635 - accuracy: 0.9064 - val_loss: 0.3079 - val_accuracy: 0.8901\n",
            "Epoch 21/30\n",
            "1500/1500 [==============================] - 2s 2ms/step - loss: 0.2599 - accuracy: 0.9069 - val_loss: 0.3073 - val_accuracy: 0.8882\n",
            "Epoch 22/30\n",
            "1500/1500 [==============================] - 2s 2ms/step - loss: 0.2582 - accuracy: 0.9075 - val_loss: 0.3076 - val_accuracy: 0.8884\n",
            "Epoch 23/30\n",
            "1500/1500 [==============================] - 2s 1ms/step - loss: 0.2582 - accuracy: 0.9086 - val_loss: 0.3097 - val_accuracy: 0.8893\n",
            "Epoch 24/30\n",
            "1500/1500 [==============================] - 2s 2ms/step - loss: 0.2552 - accuracy: 0.9084 - val_loss: 0.3048 - val_accuracy: 0.8908\n",
            "Epoch 25/30\n",
            "1500/1500 [==============================] - 2s 2ms/step - loss: 0.2536 - accuracy: 0.9107 - val_loss: 0.3039 - val_accuracy: 0.8931\n",
            "Epoch 26/30\n",
            "1500/1500 [==============================] - 2s 2ms/step - loss: 0.2529 - accuracy: 0.9099 - val_loss: 0.3021 - val_accuracy: 0.8925\n",
            "Epoch 27/30\n",
            "1500/1500 [==============================] - 2s 1ms/step - loss: 0.2501 - accuracy: 0.9119 - val_loss: 0.3057 - val_accuracy: 0.8903\n",
            "Epoch 28/30\n",
            "1500/1500 [==============================] - 2s 1ms/step - loss: 0.2495 - accuracy: 0.9114 - val_loss: 0.3034 - val_accuracy: 0.8912\n",
            "Epoch 29/30\n",
            "1500/1500 [==============================] - 2s 2ms/step - loss: 0.2474 - accuracy: 0.9120 - val_loss: 0.3007 - val_accuracy: 0.8923\n",
            "Epoch 30/30\n",
            "1500/1500 [==============================] - 2s 1ms/step - loss: 0.2444 - accuracy: 0.9120 - val_loss: 0.3016 - val_accuracy: 0.8929\n"
          ],
          "name": "stdout"
        }
      ]
    },
    {
      "cell_type": "code",
      "metadata": {
        "id": "xBbyQg9AMvHv",
        "outputId": "b8dd8477-bacc-4c4c-9ad1-0803891a4a02"
      },
      "source": [
        "import matplotlib.pyplot as plt\n",
        "%matplotlib inline\n",
        "# list all data in training\n",
        "print(training.history.keys())\n",
        "# summarize training for accuracy\n",
        "plt.plot(training.history['accuracy'])\n",
        "plt.plot(training.history['val_accuracy'])\n",
        "plt.title('SGD model accuracy')\n",
        "plt.ylabel('accuracy')\n",
        "plt.xlabel('epoch')\n",
        "plt.legend(['train', 'test'], loc='upper left')\n",
        "plt.show()\n",
        "# summarize traning for loss\n",
        "plt.plot(training.history['loss'])\n",
        "plt.plot(training.history['val_loss'])\n",
        "plt.title('model loss')\n",
        "plt.ylabel('loss')\n",
        "plt.xlabel('epoch')\n",
        "plt.legend(['train', 'test'], loc='upper left')\n",
        "plt.show()"
      ],
      "execution_count": null,
      "outputs": [
        {
          "output_type": "stream",
          "text": [
            "dict_keys(['loss', 'accuracy', 'val_loss', 'val_accuracy'])\n"
          ],
          "name": "stdout"
        },
        {
          "output_type": "display_data",
          "data": {
            "image/png": "[encoded data removed]",
            "text/plain": [
              "<Figure size 432x288 with 1 Axes>"
            ]
          },
          "metadata": {
            "tags": [],
            "needs_background": "light"
          }
        },
        {
          "output_type": "display_data",
          "data": {
            "image/png": "[encoded data removed]",
            "text/plain": [
              "<Figure size 432x288 with 1 Axes>"
            ]
          },
          "metadata": {
            "tags": [],
            "needs_background": "light"
          }
        }
      ]
    },
    {
      "cell_type": "code",
      "metadata": {
        "id": "rOHHRLyAMvHw",
        "outputId": "29c6406f-896c-4781-b2bf-84a2e21ce012"
      },
      "source": [
        "#evaluate the model\n",
        "\n",
        "test_loss, test_acc = model_4.evaluate(X_test, y_test)\n",
        "print()\n",
        "print('SGD Test Loss', test_loss)\n",
        "print()\n",
        "print('SGD Test accuracy:', test_acc)"
      ],
      "execution_count": null,
      "outputs": [
        {
          "output_type": "stream",
          "text": [
            "313/313 [==============================] - 0s 1ms/step - loss: 0.3218 - accuracy: 0.8839\n",
            "\n",
            "SGD Test Loss 0.3217797577381134\n",
            "\n",
            "SGD Test accuracy: 0.883899986743927\n"
          ],
          "name": "stdout"
        }
      ]
    },
    {
      "cell_type": "markdown",
      "metadata": {
        "id": "UDfph09EMvHw"
      },
      "source": [
        "## adam optimizer"
      ]
    },
    {
      "cell_type": "code",
      "metadata": {
        "id": "jVMgyD4WMvHx",
        "outputId": "1ae22549-b624-440a-daa4-abecfe2a55da"
      },
      "source": [
        "# compile model adam\n",
        "model_4.compile(optimizer='adam',\n",
        "              loss='sparse_categorical_crossentropy',\n",
        "              metrics=['accuracy'])\n",
        "\n",
        "#train model adam\n",
        "training = model_4.fit(X_train, y_train, epochs=30, validation_split=0.2)"
      ],
      "execution_count": null,
      "outputs": [
        {
          "output_type": "stream",
          "text": [
            "Epoch 1/30\n",
            "1500/1500 [==============================] - 2s 2ms/step - loss: 0.4002 - accuracy: 0.8516 - val_loss: 0.3565 - val_accuracy: 0.8712\n",
            "Epoch 2/30\n",
            "1500/1500 [==============================] - 2s 2ms/step - loss: 0.3706 - accuracy: 0.8622 - val_loss: 0.3546 - val_accuracy: 0.8717\n",
            "Epoch 3/30\n",
            "1500/1500 [==============================] - 2s 2ms/step - loss: 0.3566 - accuracy: 0.8683 - val_loss: 0.3533 - val_accuracy: 0.8748\n",
            "Epoch 4/30\n",
            "1500/1500 [==============================] - 2s 2ms/step - loss: 0.3393 - accuracy: 0.8749 - val_loss: 0.3572 - val_accuracy: 0.8702\n",
            "Epoch 5/30\n",
            "1500/1500 [==============================] - 2s 2ms/step - loss: 0.3290 - accuracy: 0.8789 - val_loss: 0.3477 - val_accuracy: 0.8757\n",
            "Epoch 6/30\n",
            "1500/1500 [==============================] - 2s 2ms/step - loss: 0.3175 - accuracy: 0.8828 - val_loss: 0.3262 - val_accuracy: 0.8821\n",
            "Epoch 7/30\n",
            "1500/1500 [==============================] - 2s 2ms/step - loss: 0.3094 - accuracy: 0.8841 - val_loss: 0.3294 - val_accuracy: 0.8813\n",
            "Epoch 8/30\n",
            "1500/1500 [==============================] - 2s 2ms/step - loss: 0.2997 - accuracy: 0.8878 - val_loss: 0.3453 - val_accuracy: 0.8810\n",
            "Epoch 9/30\n",
            "1500/1500 [==============================] - 2s 2ms/step - loss: 0.2960 - accuracy: 0.8883 - val_loss: 0.3116 - val_accuracy: 0.8914\n",
            "Epoch 10/30\n",
            "1500/1500 [==============================] - 2s 2ms/step - loss: 0.2837 - accuracy: 0.8921 - val_loss: 0.3260 - val_accuracy: 0.8842\n",
            "Epoch 11/30\n",
            "1500/1500 [==============================] - 2s 2ms/step - loss: 0.2796 - accuracy: 0.8932 - val_loss: 0.3252 - val_accuracy: 0.8879\n",
            "Epoch 12/30\n",
            "1500/1500 [==============================] - 2s 2ms/step - loss: 0.2740 - accuracy: 0.8970 - val_loss: 0.3237 - val_accuracy: 0.8878\n",
            "Epoch 13/30\n",
            "1500/1500 [==============================] - 2s 2ms/step - loss: 0.2693 - accuracy: 0.8976 - val_loss: 0.3152 - val_accuracy: 0.8873\n",
            "Epoch 14/30\n",
            "1500/1500 [==============================] - 3s 2ms/step - loss: 0.2621 - accuracy: 0.9009 - val_loss: 0.3361 - val_accuracy: 0.8872\n",
            "Epoch 15/30\n",
            "1500/1500 [==============================] - 3s 2ms/step - loss: 0.2572 - accuracy: 0.9037 - val_loss: 0.3208 - val_accuracy: 0.8905\n",
            "Epoch 16/30\n",
            "1500/1500 [==============================] - 3s 2ms/step - loss: 0.2558 - accuracy: 0.9030 - val_loss: 0.3226 - val_accuracy: 0.8891\n",
            "Epoch 17/30\n",
            "1500/1500 [==============================] - 3s 2ms/step - loss: 0.2508 - accuracy: 0.9053 - val_loss: 0.3264 - val_accuracy: 0.8929\n",
            "Epoch 18/30\n",
            "1500/1500 [==============================] - 3s 2ms/step - loss: 0.2467 - accuracy: 0.9072 - val_loss: 0.3131 - val_accuracy: 0.8959\n",
            "Epoch 19/30\n",
            "1500/1500 [==============================] - 3s 2ms/step - loss: 0.2406 - accuracy: 0.9098 - val_loss: 0.3327 - val_accuracy: 0.8857\n",
            "Epoch 20/30\n",
            "1500/1500 [==============================] - 3s 2ms/step - loss: 0.2348 - accuracy: 0.9106 - val_loss: 0.3337 - val_accuracy: 0.8920\n",
            "Epoch 21/30\n",
            "1500/1500 [==============================] - 3s 2ms/step - loss: 0.2339 - accuracy: 0.9108 - val_loss: 0.3354 - val_accuracy: 0.8891\n",
            "Epoch 22/30\n",
            "1500/1500 [==============================] - 3s 2ms/step - loss: 0.2316 - accuracy: 0.9125 - val_loss: 0.3240 - val_accuracy: 0.8904\n",
            "Epoch 23/30\n",
            "1500/1500 [==============================] - 3s 2ms/step - loss: 0.2279 - accuracy: 0.9136 - val_loss: 0.3263 - val_accuracy: 0.8896\n",
            "Epoch 24/30\n",
            "1500/1500 [==============================] - 3s 2ms/step - loss: 0.2236 - accuracy: 0.9152 - val_loss: 0.3338 - val_accuracy: 0.8930\n",
            "Epoch 25/30\n",
            "1500/1500 [==============================] - 3s 2ms/step - loss: 0.2223 - accuracy: 0.9165 - val_loss: 0.3334 - val_accuracy: 0.8901\n",
            "Epoch 26/30\n",
            "1500/1500 [==============================] - 3s 2ms/step - loss: 0.2197 - accuracy: 0.9169 - val_loss: 0.3457 - val_accuracy: 0.8886\n",
            "Epoch 27/30\n",
            "1500/1500 [==============================] - 3s 2ms/step - loss: 0.2147 - accuracy: 0.9171 - val_loss: 0.3244 - val_accuracy: 0.8943\n",
            "Epoch 28/30\n",
            "1500/1500 [==============================] - 3s 2ms/step - loss: 0.2123 - accuracy: 0.9195 - val_loss: 0.3363 - val_accuracy: 0.8932\n",
            "Epoch 29/30\n",
            "1500/1500 [==============================] - 3s 2ms/step - loss: 0.2061 - accuracy: 0.9207 - val_loss: 0.3380 - val_accuracy: 0.8947\n",
            "Epoch 30/30\n",
            "1500/1500 [==============================] - 3s 2ms/step - loss: 0.2069 - accuracy: 0.9213 - val_loss: 0.3221 - val_accuracy: 0.8978\n"
          ],
          "name": "stdout"
        }
      ]
    },
    {
      "cell_type": "code",
      "metadata": {
        "id": "l_WHYG_WMvHx",
        "outputId": "4352eea2-8537-43b7-e1c0-61ca8a2c1b58"
      },
      "source": [
        "#evaluate the model\n",
        "\n",
        "test_loss, test_acc = model_4.evaluate(X_test, y_test)\n",
        "print()\n",
        "print('adam Test Loss', test_loss)\n",
        "print()\n",
        "print('adam Test accuracy:', test_acc)"
      ],
      "execution_count": null,
      "outputs": [
        {
          "output_type": "stream",
          "text": [
            "313/313 [==============================] - 0s 1ms/step - loss: 0.3557 - accuracy: 0.8902\n",
            "\n",
            "adam Test Loss 0.35573434829711914\n",
            "\n",
            "adam Test accuracy: 0.8902000188827515\n"
          ],
          "name": "stdout"
        }
      ]
    },
    {
      "cell_type": "code",
      "metadata": {
        "id": "DltoU32AMvHx"
      },
      "source": [
        ""
      ],
      "execution_count": null,
      "outputs": []
    },
    {
      "cell_type": "markdown",
      "metadata": {
        "id": "gWs0OliQMvHx"
      },
      "source": [
        "## Increase the hidden layers and check its effect on accuracy"
      ]
    },
    {
      "cell_type": "code",
      "metadata": {
        "id": "c9eNnVezMvHx",
        "outputId": "8bfd2c58-2351-4dcd-a106-6d63266cfa26"
      },
      "source": [
        "from tensorflow.keras.layers import Dropout\n",
        "\n",
        "# build model\n",
        "model_5 = keras.models.Sequential()\n",
        "\n",
        "# flatten each input image  to a vector of 784 numbers\n",
        "model_5.add(keras.layers.Flatten(input_shape=(28, 28)))\n",
        "\n",
        "# Adding a dense layer to make it multilayer Perceptron\n",
        "model_5.add(Dense(300, name='dense_layer_1', activation='relu')) #<<<<<<<<<<<<<<<<<<<\n",
        "model_5.add(Dropout(0.30))\n",
        "\n",
        "# Adding another dense layer \n",
        "model_5.add(Dense(100, name='dense_layer_2', activation='relu')) #<<<<<<<<<<<<<<<<<<<\n",
        "model_5.add(Dropout(0.30))\n",
        "\n",
        "# Adding another dense layer \n",
        "model_5.add(Dense(50, name='dense_layer_3', activation='relu')) #<<<<<<<<<<<<<<<<<<<\n",
        "model_5.add(Dropout(0.30))\n",
        "\n",
        "# Adding another dense layer \n",
        "model_5.add(Dense(25, name='dense_layer_4', activation='relu')) #<<<<<<<<<<<<<<<<<<<\n",
        "model_5.add(Dropout(0.30))\n",
        "\n",
        "# Add an output layer with 10 output units (10 different classes):\n",
        "model_5.add(Dense(10, name='dense_layer_5', activation = 'softmax'))\n",
        "\n",
        "print(model_5.summary())"
      ],
      "execution_count": null,
      "outputs": [
        {
          "output_type": "stream",
          "text": [
            "Model: \"sequential_19\"\n",
            "_________________________________________________________________\n",
            "Layer (type)                 Output Shape              Param #   \n",
            "=================================================================\n",
            "flatten_19 (Flatten)         (None, 784)               0         \n",
            "_________________________________________________________________\n",
            "dense_layer_1 (Dense)        (None, 300)               235500    \n",
            "_________________________________________________________________\n",
            "dropout_15 (Dropout)         (None, 300)               0         \n",
            "_________________________________________________________________\n",
            "dense_layer_2 (Dense)        (None, 100)               30100     \n",
            "_________________________________________________________________\n",
            "dropout_16 (Dropout)         (None, 100)               0         \n",
            "_________________________________________________________________\n",
            "dense_layer_3 (Dense)        (None, 50)                5050      \n",
            "_________________________________________________________________\n",
            "dropout_17 (Dropout)         (None, 50)                0         \n",
            "_________________________________________________________________\n",
            "dense_layer_4 (Dense)        (None, 25)                1275      \n",
            "_________________________________________________________________\n",
            "dropout_18 (Dropout)         (None, 25)                0         \n",
            "_________________________________________________________________\n",
            "dense_layer_5 (Dense)        (None, 10)                260       \n",
            "=================================================================\n",
            "Total params: 272,185\n",
            "Trainable params: 272,185\n",
            "Non-trainable params: 0\n",
            "_________________________________________________________________\n",
            "None\n"
          ],
          "name": "stdout"
        }
      ]
    },
    {
      "cell_type": "code",
      "metadata": {
        "id": "poW1YSyNMvHy",
        "outputId": "3e3706de-9484-419d-cfd0-723217b0e378"
      },
      "source": [
        "# compile model SGD chosen\n",
        "\n",
        "model_5.compile(optimizer='SGD',\n",
        "              loss='sparse_categorical_crossentropy',\n",
        "              metrics=['accuracy'])\n",
        "\n",
        "#train model adam\n",
        "training = model_5.fit(X_train, y_train, epochs=30, validation_split=0.2)"
      ],
      "execution_count": null,
      "outputs": [
        {
          "output_type": "stream",
          "text": [
            "Epoch 1/30\n",
            "1500/1500 [==============================] - 3s 2ms/step - loss: 1.4681 - accuracy: 0.4473 - val_loss: 0.7799 - val_accuracy: 0.7229\n",
            "Epoch 2/30\n",
            "1500/1500 [==============================] - 3s 2ms/step - loss: 0.9348 - accuracy: 0.6517 - val_loss: 0.6327 - val_accuracy: 0.7721\n",
            "Epoch 3/30\n",
            "1500/1500 [==============================] - 3s 2ms/step - loss: 0.7936 - accuracy: 0.7109 - val_loss: 0.5612 - val_accuracy: 0.7849\n",
            "Epoch 4/30\n",
            "1500/1500 [==============================] - 2s 2ms/step - loss: 0.7137 - accuracy: 0.7438 - val_loss: 0.5139 - val_accuracy: 0.7999\n",
            "Epoch 5/30\n",
            "1500/1500 [==============================] - 2s 2ms/step - loss: 0.6573 - accuracy: 0.7673 - val_loss: 0.4897 - val_accuracy: 0.8172\n",
            "Epoch 6/30\n",
            "1500/1500 [==============================] - 3s 2ms/step - loss: 0.6221 - accuracy: 0.7850 - val_loss: 0.4716 - val_accuracy: 0.8317\n",
            "Epoch 7/30\n",
            "1500/1500 [==============================] - 2s 2ms/step - loss: 0.5883 - accuracy: 0.7969 - val_loss: 0.4483 - val_accuracy: 0.8383\n",
            "Epoch 8/30\n",
            "1500/1500 [==============================] - 2s 2ms/step - loss: 0.5662 - accuracy: 0.8068 - val_loss: 0.4284 - val_accuracy: 0.8468\n",
            "Epoch 9/30\n",
            "1500/1500 [==============================] - 2s 2ms/step - loss: 0.5525 - accuracy: 0.8137 - val_loss: 0.4226 - val_accuracy: 0.8521\n",
            "Epoch 10/30\n",
            "1500/1500 [==============================] - 2s 2ms/step - loss: 0.5310 - accuracy: 0.8199 - val_loss: 0.4178 - val_accuracy: 0.8530\n",
            "Epoch 11/30\n",
            "1500/1500 [==============================] - 3s 2ms/step - loss: 0.5175 - accuracy: 0.8257 - val_loss: 0.4020 - val_accuracy: 0.8581\n",
            "Epoch 12/30\n",
            "1500/1500 [==============================] - 2s 2ms/step - loss: 0.5067 - accuracy: 0.8304 - val_loss: 0.3995 - val_accuracy: 0.8582\n",
            "Epoch 13/30\n",
            "1500/1500 [==============================] - 2s 2ms/step - loss: 0.4954 - accuracy: 0.8318 - val_loss: 0.3916 - val_accuracy: 0.8622\n",
            "Epoch 14/30\n",
            "1500/1500 [==============================] - 3s 2ms/step - loss: 0.4869 - accuracy: 0.8368 - val_loss: 0.3950 - val_accuracy: 0.8609\n",
            "Epoch 15/30\n",
            "1500/1500 [==============================] - 3s 2ms/step - loss: 0.4733 - accuracy: 0.8428 - val_loss: 0.3883 - val_accuracy: 0.8645\n",
            "Epoch 16/30\n",
            "1500/1500 [==============================] - 3s 2ms/step - loss: 0.4606 - accuracy: 0.8461 - val_loss: 0.3814 - val_accuracy: 0.8653\n",
            "Epoch 17/30\n",
            "1500/1500 [==============================] - 3s 2ms/step - loss: 0.4585 - accuracy: 0.8470 - val_loss: 0.3816 - val_accuracy: 0.8669\n",
            "Epoch 18/30\n",
            "1500/1500 [==============================] - 3s 2ms/step - loss: 0.4468 - accuracy: 0.8502 - val_loss: 0.3775 - val_accuracy: 0.8677\n",
            "Epoch 19/30\n",
            "1500/1500 [==============================] - 3s 2ms/step - loss: 0.4463 - accuracy: 0.8521 - val_loss: 0.3694 - val_accuracy: 0.8730\n",
            "Epoch 20/30\n",
            "1500/1500 [==============================] - 3s 2ms/step - loss: 0.4349 - accuracy: 0.8554 - val_loss: 0.3652 - val_accuracy: 0.8723\n",
            "Epoch 21/30\n",
            "1500/1500 [==============================] - 3s 2ms/step - loss: 0.4316 - accuracy: 0.8564 - val_loss: 0.3614 - val_accuracy: 0.8717\n",
            "Epoch 22/30\n",
            "1500/1500 [==============================] - 3s 2ms/step - loss: 0.4185 - accuracy: 0.8597 - val_loss: 0.3574 - val_accuracy: 0.8760\n",
            "Epoch 23/30\n",
            "1500/1500 [==============================] - 3s 2ms/step - loss: 0.4194 - accuracy: 0.8614 - val_loss: 0.3541 - val_accuracy: 0.8772\n",
            "Epoch 24/30\n",
            "1500/1500 [==============================] - 3s 2ms/step - loss: 0.4109 - accuracy: 0.8632 - val_loss: 0.3590 - val_accuracy: 0.8780\n",
            "Epoch 25/30\n",
            "1500/1500 [==============================] - 3s 2ms/step - loss: 0.4103 - accuracy: 0.8641 - val_loss: 0.3606 - val_accuracy: 0.8759\n",
            "Epoch 26/30\n",
            "1500/1500 [==============================] - 3s 2ms/step - loss: 0.3999 - accuracy: 0.8659 - val_loss: 0.3501 - val_accuracy: 0.8795\n",
            "Epoch 27/30\n",
            "1500/1500 [==============================] - 3s 2ms/step - loss: 0.3975 - accuracy: 0.8658 - val_loss: 0.3546 - val_accuracy: 0.8760\n",
            "Epoch 28/30\n",
            "1500/1500 [==============================] - 3s 2ms/step - loss: 0.3916 - accuracy: 0.8695 - val_loss: 0.3467 - val_accuracy: 0.8817\n",
            "Epoch 29/30\n",
            "1500/1500 [==============================] - 3s 2ms/step - loss: 0.3931 - accuracy: 0.8711 - val_loss: 0.3504 - val_accuracy: 0.8808\n",
            "Epoch 30/30\n",
            "1500/1500 [==============================] - 3s 2ms/step - loss: 0.3832 - accuracy: 0.8742 - val_loss: 0.3478 - val_accuracy: 0.8799\n"
          ],
          "name": "stdout"
        }
      ]
    },
    {
      "cell_type": "code",
      "metadata": {
        "id": "UttrmSamMvHy",
        "outputId": "bdbb068e-a664-4574-890f-1bc8941565c5"
      },
      "source": [
        "import matplotlib.pyplot as plt\n",
        "%matplotlib inline\n",
        "# list all data in training\n",
        "print(training.history.keys())\n",
        "# summarize training for accuracy\n",
        "plt.plot(training.history['accuracy'])\n",
        "plt.plot(training.history['val_accuracy'])\n",
        "plt.title('SGD model accuracy with 4 hidden layers')\n",
        "plt.ylabel('accuracy')\n",
        "plt.xlabel('epoch')\n",
        "plt.legend(['train', 'test'], loc='upper left')\n",
        "plt.show()\n",
        "# summarize traning for loss\n",
        "plt.plot(training.history['loss'])\n",
        "plt.plot(training.history['val_loss'])\n",
        "plt.title('model loss')\n",
        "plt.ylabel('loss')\n",
        "plt.xlabel('epoch')\n",
        "plt.legend(['train', 'test'], loc='upper left')\n",
        "plt.show()"
      ],
      "execution_count": null,
      "outputs": [
        {
          "output_type": "stream",
          "text": [
            "dict_keys(['loss', 'accuracy', 'val_loss', 'val_accuracy'])\n"
          ],
          "name": "stdout"
        },
        {
          "output_type": "display_data",
          "data": {
            "image/png": "[encoded data removed]",
            "text/plain": [
              "<Figure size 432x288 with 1 Axes>"
            ]
          },
          "metadata": {
            "tags": [],
            "needs_background": "light"
          }
        },
        {
          "output_type": "display_data",
          "data": {
            "image/png": "[encoded data removed]",
            "text/plain": [
              "<Figure size 432x288 with 1 Axes>"
            ]
          },
          "metadata": {
            "tags": [],
            "needs_background": "light"
          }
        }
      ]
    },
    {
      "cell_type": "code",
      "metadata": {
        "id": "YruhQmENMvHy",
        "outputId": "b151014f-4337-4deb-d6eb-783dfe109252"
      },
      "source": [
        "#evaluate the model\n",
        "\n",
        "test_loss, test_acc = model_5.evaluate(X_test, y_test)\n",
        "print()\n",
        "print('SGD Test Loss with 4 hidden layers:', test_loss)\n",
        "print()\n",
        "print('SGD Test accuracy with 4 hidden layers:', test_acc)"
      ],
      "execution_count": null,
      "outputs": [
        {
          "output_type": "stream",
          "text": [
            "313/313 [==============================] - 0s 1ms/step - loss: 0.3697 - accuracy: 0.8719\n",
            "\n",
            "SGD Test Loss with 4 hidden layers: 0.36970242857933044\n",
            "\n",
            "SGD Test accuracy with 4 hidden layers: 0.8719000220298767\n"
          ],
          "name": "stdout"
        }
      ]
    },
    {
      "cell_type": "code",
      "metadata": {
        "id": "dOx_RhvLMvHy"
      },
      "source": [
        ""
      ],
      "execution_count": null,
      "outputs": []
    },
    {
      "cell_type": "markdown",
      "metadata": {
        "id": "kDNkH4mKMvHz"
      },
      "source": [
        "## Manipulate the batch_size and epochs and check its effect on accuracy"
      ]
    },
    {
      "cell_type": "markdown",
      "metadata": {
        "id": "D1uF1lb7MvHz"
      },
      "source": [
        "it is often advised that one starts at a small batch size, reaping the benefits of faster training dynamics,\n",
        "\n",
        "and steadily grows the batch size through training, also reaping the benefits of guaranteed convergence."
      ]
    },
    {
      "cell_type": "code",
      "metadata": {
        "id": "3Lt2Cg9hMvHz",
        "outputId": "ff24a5d5-0ac9-4b40-bd1f-965b4c93117a"
      },
      "source": [
        "# compile model SGD chosen\n",
        "\n",
        "model_5.compile(optimizer='SGD',\n",
        "              loss='sparse_categorical_crossentropy',\n",
        "              metrics=['accuracy'])\n",
        "\n",
        "#train model adam\n",
        "training = model_5.fit(X_train, y_train, batch_size=64, epochs=30, validation_split=0.2)"
      ],
      "execution_count": null,
      "outputs": [
        {
          "output_type": "stream",
          "text": [
            "Epoch 1/30\n",
            "750/750 [==============================] - 2s 2ms/step - loss: 0.3680 - accuracy: 0.8786 - val_loss: 0.3438 - val_accuracy: 0.8843\n",
            "Epoch 2/30\n",
            "750/750 [==============================] - 1s 2ms/step - loss: 0.3630 - accuracy: 0.8799 - val_loss: 0.3416 - val_accuracy: 0.8832\n",
            "Epoch 3/30\n",
            "750/750 [==============================] - 2s 2ms/step - loss: 0.3636 - accuracy: 0.8800 - val_loss: 0.3390 - val_accuracy: 0.8858\n",
            "Epoch 4/30\n",
            "750/750 [==============================] - 1s 2ms/step - loss: 0.3566 - accuracy: 0.8814 - val_loss: 0.3368 - val_accuracy: 0.8841\n",
            "Epoch 5/30\n",
            "750/750 [==============================] - 2s 2ms/step - loss: 0.3538 - accuracy: 0.8820 - val_loss: 0.3381 - val_accuracy: 0.8873\n",
            "Epoch 6/30\n",
            "750/750 [==============================] - 2s 2ms/step - loss: 0.3503 - accuracy: 0.8829 - val_loss: 0.3422 - val_accuracy: 0.8848\n",
            "Epoch 7/30\n",
            "750/750 [==============================] - 1s 2ms/step - loss: 0.3477 - accuracy: 0.8848 - val_loss: 0.3394 - val_accuracy: 0.8849\n",
            "Epoch 8/30\n",
            "750/750 [==============================] - 1s 2ms/step - loss: 0.3501 - accuracy: 0.8822 - val_loss: 0.3347 - val_accuracy: 0.8868\n",
            "Epoch 9/30\n",
            "750/750 [==============================] - 2s 2ms/step - loss: 0.3442 - accuracy: 0.8864 - val_loss: 0.3377 - val_accuracy: 0.8888\n",
            "Epoch 10/30\n",
            "750/750 [==============================] - 2s 2ms/step - loss: 0.3451 - accuracy: 0.8847 - val_loss: 0.3403 - val_accuracy: 0.8870\n",
            "Epoch 11/30\n",
            "750/750 [==============================] - 2s 2ms/step - loss: 0.3432 - accuracy: 0.8856 - val_loss: 0.3412 - val_accuracy: 0.8859\n",
            "Epoch 12/30\n",
            "750/750 [==============================] - 2s 2ms/step - loss: 0.3409 - accuracy: 0.8861 - val_loss: 0.3390 - val_accuracy: 0.8873\n",
            "Epoch 13/30\n",
            "750/750 [==============================] - 2s 2ms/step - loss: 0.3425 - accuracy: 0.8857 - val_loss: 0.3385 - val_accuracy: 0.8869\n",
            "Epoch 14/30\n",
            "750/750 [==============================] - 2s 2ms/step - loss: 0.3337 - accuracy: 0.8883 - val_loss: 0.3346 - val_accuracy: 0.8898\n",
            "Epoch 15/30\n",
            "750/750 [==============================] - 2s 2ms/step - loss: 0.3344 - accuracy: 0.8891 - val_loss: 0.3383 - val_accuracy: 0.8866\n",
            "Epoch 16/30\n",
            "750/750 [==============================] - 2s 2ms/step - loss: 0.3335 - accuracy: 0.8900 - val_loss: 0.3371 - val_accuracy: 0.8863\n",
            "Epoch 17/30\n",
            "750/750 [==============================] - 2s 2ms/step - loss: 0.3321 - accuracy: 0.8892 - val_loss: 0.3332 - val_accuracy: 0.8888\n",
            "Epoch 18/30\n",
            "750/750 [==============================] - 2s 2ms/step - loss: 0.3258 - accuracy: 0.8920 - val_loss: 0.3340 - val_accuracy: 0.8906\n",
            "Epoch 19/30\n",
            "750/750 [==============================] - 2s 2ms/step - loss: 0.3288 - accuracy: 0.8910 - val_loss: 0.3409 - val_accuracy: 0.8878\n",
            "Epoch 20/30\n",
            "750/750 [==============================] - 2s 2ms/step - loss: 0.3276 - accuracy: 0.8918 - val_loss: 0.3314 - val_accuracy: 0.8901\n",
            "Epoch 21/30\n",
            "750/750 [==============================] - 2s 2ms/step - loss: 0.3242 - accuracy: 0.8908 - val_loss: 0.3352 - val_accuracy: 0.8898\n",
            "Epoch 22/30\n",
            "750/750 [==============================] - 2s 2ms/step - loss: 0.3216 - accuracy: 0.8920 - val_loss: 0.3358 - val_accuracy: 0.8897\n",
            "Epoch 23/30\n",
            "750/750 [==============================] - 2s 2ms/step - loss: 0.3274 - accuracy: 0.8921 - val_loss: 0.3336 - val_accuracy: 0.8886\n",
            "Epoch 24/30\n",
            "750/750 [==============================] - 2s 2ms/step - loss: 0.3207 - accuracy: 0.8938 - val_loss: 0.3360 - val_accuracy: 0.8878\n",
            "Epoch 25/30\n",
            "750/750 [==============================] - 2s 2ms/step - loss: 0.3176 - accuracy: 0.8934 - val_loss: 0.3354 - val_accuracy: 0.8907\n",
            "Epoch 26/30\n",
            "750/750 [==============================] - 2s 2ms/step - loss: 0.3172 - accuracy: 0.8939 - val_loss: 0.3357 - val_accuracy: 0.8899\n",
            "Epoch 27/30\n",
            "750/750 [==============================] - 2s 2ms/step - loss: 0.3181 - accuracy: 0.8941 - val_loss: 0.3368 - val_accuracy: 0.8894\n",
            "Epoch 28/30\n",
            "750/750 [==============================] - 2s 2ms/step - loss: 0.3148 - accuracy: 0.8941 - val_loss: 0.3364 - val_accuracy: 0.8898\n",
            "Epoch 29/30\n",
            "750/750 [==============================] - 2s 2ms/step - loss: 0.3115 - accuracy: 0.8961 - val_loss: 0.3341 - val_accuracy: 0.8923\n",
            "Epoch 30/30\n",
            "750/750 [==============================] - 2s 2ms/step - loss: 0.3087 - accuracy: 0.8957 - val_loss: 0.3368 - val_accuracy: 0.8902\n"
          ],
          "name": "stdout"
        }
      ]
    },
    {
      "cell_type": "code",
      "metadata": {
        "id": "ojPBiYXjMvH0"
      },
      "source": [
        ""
      ],
      "execution_count": null,
      "outputs": []
    },
    {
      "cell_type": "code",
      "metadata": {
        "id": "ZBnREqNtMvH0",
        "outputId": "91b3a2bc-5ee9-427a-b450-5da8e3fa23e7"
      },
      "source": [
        "#evaluate the model\n",
        "\n",
        "test_loss, test_acc = model_5.evaluate(X_test, y_test)\n",
        "print()\n",
        "print('SGD Test Loss batchsize = 64, epochs = 30:', test_loss)\n",
        "print()\n",
        "print('SGD Test accuracy batchsize = 64, epochs = 30::', test_acc)"
      ],
      "execution_count": null,
      "outputs": [
        {
          "output_type": "stream",
          "text": [
            "313/313 [==============================] - 0s 988us/step - loss: 0.3633 - accuracy: 0.8810\n",
            "\n",
            "SGD Test Loss batchsize = 64, epochs = 30: 0.3632567524909973\n",
            "\n",
            "SGD Test accuracy batchsize = 64, epochs = 30:: 0.8809999823570251\n"
          ],
          "name": "stdout"
        }
      ]
    },
    {
      "cell_type": "code",
      "metadata": {
        "id": "epIl7HBsMvH1"
      },
      "source": [
        ""
      ],
      "execution_count": null,
      "outputs": []
    },
    {
      "cell_type": "code",
      "metadata": {
        "id": "r1f187KrMvH2",
        "outputId": "c4122c05-10b2-4001-eeec-184e2ccd8970"
      },
      "source": [
        "\n",
        "#train model adam\n",
        "training = model_5.fit(X_train, y_train, batch_size = 128, epochs=30, validation_split=0.2)"
      ],
      "execution_count": null,
      "outputs": [
        {
          "output_type": "stream",
          "text": [
            "Epoch 1/30\n",
            "375/375 [==============================] - 1s 3ms/step - loss: 0.2974 - accuracy: 0.9002 - val_loss: 0.3359 - val_accuracy: 0.8887\n",
            "Epoch 2/30\n",
            "375/375 [==============================] - 1s 3ms/step - loss: 0.2950 - accuracy: 0.9011 - val_loss: 0.3377 - val_accuracy: 0.8913\n",
            "Epoch 3/30\n",
            "375/375 [==============================] - 1s 3ms/step - loss: 0.2961 - accuracy: 0.9032 - val_loss: 0.3391 - val_accuracy: 0.8902\n",
            "Epoch 4/30\n",
            "375/375 [==============================] - 1s 3ms/step - loss: 0.2957 - accuracy: 0.9016 - val_loss: 0.3364 - val_accuracy: 0.8922\n",
            "Epoch 5/30\n",
            "375/375 [==============================] - 1s 3ms/step - loss: 0.2924 - accuracy: 0.9034 - val_loss: 0.3317 - val_accuracy: 0.8921\n",
            "Epoch 6/30\n",
            "375/375 [==============================] - 1s 3ms/step - loss: 0.2911 - accuracy: 0.9041 - val_loss: 0.3370 - val_accuracy: 0.8934\n",
            "Epoch 7/30\n",
            "375/375 [==============================] - 1s 3ms/step - loss: 0.2894 - accuracy: 0.9040 - val_loss: 0.3343 - val_accuracy: 0.8930\n",
            "Epoch 8/30\n",
            "375/375 [==============================] - 1s 3ms/step - loss: 0.2901 - accuracy: 0.9038 - val_loss: 0.3360 - val_accuracy: 0.8917\n",
            "Epoch 9/30\n",
            "375/375 [==============================] - 1s 3ms/step - loss: 0.2895 - accuracy: 0.9039 - val_loss: 0.3368 - val_accuracy: 0.8922\n",
            "Epoch 10/30\n",
            "375/375 [==============================] - 1s 3ms/step - loss: 0.2870 - accuracy: 0.9046 - val_loss: 0.3385 - val_accuracy: 0.8923\n",
            "Epoch 11/30\n",
            "375/375 [==============================] - 1s 3ms/step - loss: 0.2898 - accuracy: 0.9043 - val_loss: 0.3304 - val_accuracy: 0.8934\n",
            "Epoch 12/30\n",
            "375/375 [==============================] - 1s 3ms/step - loss: 0.2874 - accuracy: 0.9050 - val_loss: 0.3388 - val_accuracy: 0.8907\n",
            "Epoch 13/30\n",
            "375/375 [==============================] - 1s 3ms/step - loss: 0.2846 - accuracy: 0.9053 - val_loss: 0.3355 - val_accuracy: 0.8922\n",
            "Epoch 14/30\n",
            "375/375 [==============================] - 1s 3ms/step - loss: 0.2913 - accuracy: 0.9047 - val_loss: 0.3334 - val_accuracy: 0.8923\n",
            "Epoch 15/30\n",
            "375/375 [==============================] - 1s 3ms/step - loss: 0.2857 - accuracy: 0.9049 - val_loss: 0.3335 - val_accuracy: 0.8928\n",
            "Epoch 16/30\n",
            "375/375 [==============================] - 1s 4ms/step - loss: 0.2830 - accuracy: 0.9061 - val_loss: 0.3349 - val_accuracy: 0.8932\n",
            "Epoch 17/30\n",
            "375/375 [==============================] - 1s 4ms/step - loss: 0.2787 - accuracy: 0.9068 - val_loss: 0.3355 - val_accuracy: 0.8929\n",
            "Epoch 18/30\n",
            "375/375 [==============================] - 1s 3ms/step - loss: 0.2827 - accuracy: 0.9057 - val_loss: 0.3382 - val_accuracy: 0.8939\n",
            "Epoch 19/30\n",
            "375/375 [==============================] - 1s 3ms/step - loss: 0.2800 - accuracy: 0.9073 - val_loss: 0.3323 - val_accuracy: 0.8942\n",
            "Epoch 20/30\n",
            "375/375 [==============================] - 1s 3ms/step - loss: 0.2800 - accuracy: 0.9063 - val_loss: 0.3414 - val_accuracy: 0.8933\n",
            "Epoch 21/30\n",
            "375/375 [==============================] - 1s 3ms/step - loss: 0.2837 - accuracy: 0.9066 - val_loss: 0.3396 - val_accuracy: 0.8931\n",
            "Epoch 22/30\n",
            "375/375 [==============================] - 1s 4ms/step - loss: 0.2781 - accuracy: 0.9075 - val_loss: 0.3370 - val_accuracy: 0.8942\n",
            "Epoch 23/30\n",
            "375/375 [==============================] - 1s 4ms/step - loss: 0.2775 - accuracy: 0.9089 - val_loss: 0.3417 - val_accuracy: 0.8906\n",
            "Epoch 24/30\n",
            "375/375 [==============================] - 1s 4ms/step - loss: 0.2763 - accuracy: 0.9079 - val_loss: 0.3398 - val_accuracy: 0.8930\n",
            "Epoch 25/30\n",
            "375/375 [==============================] - 1s 4ms/step - loss: 0.2744 - accuracy: 0.9073 - val_loss: 0.3440 - val_accuracy: 0.8890\n",
            "Epoch 26/30\n",
            "375/375 [==============================] - 1s 4ms/step - loss: 0.2759 - accuracy: 0.9081 - val_loss: 0.3400 - val_accuracy: 0.8938\n",
            "Epoch 27/30\n",
            "375/375 [==============================] - 2s 4ms/step - loss: 0.2766 - accuracy: 0.9076 - val_loss: 0.3378 - val_accuracy: 0.8924\n",
            "Epoch 28/30\n",
            "375/375 [==============================] - 1s 4ms/step - loss: 0.2740 - accuracy: 0.9090 - val_loss: 0.3383 - val_accuracy: 0.8946\n",
            "Epoch 29/30\n",
            "375/375 [==============================] - 1s 4ms/step - loss: 0.2687 - accuracy: 0.9087 - val_loss: 0.3387 - val_accuracy: 0.8935\n",
            "Epoch 30/30\n",
            "375/375 [==============================] - 1s 4ms/step - loss: 0.2713 - accuracy: 0.9099 - val_loss: 0.3438 - val_accuracy: 0.8912\n"
          ],
          "name": "stdout"
        }
      ]
    },
    {
      "cell_type": "code",
      "metadata": {
        "id": "OLHAqZbjMvH3",
        "outputId": "418366a1-b991-4a5a-84a9-1152c9f8d849"
      },
      "source": [
        "#evaluate the model\n",
        "\n",
        "test_loss, test_acc = model_5.evaluate(X_test, y_test)\n",
        "print()\n",
        "print('SGD Test Loss batchsize = 128, epochs = 30:', test_loss)\n",
        "print()\n",
        "print('SGD Test accuracy batchsize = 128, epochs = 30::', test_acc)"
      ],
      "execution_count": null,
      "outputs": [
        {
          "output_type": "stream",
          "text": [
            "313/313 [==============================] - 0s 1ms/step - loss: 0.3622 - accuracy: 0.8825\n",
            "\n",
            "SGD Test Loss batchsize = 128, epochs = 30: 0.36216363310813904\n",
            "\n",
            "SGD Test accuracy batchsize = 128, epochs = 30:: 0.8824999928474426\n"
          ],
          "name": "stdout"
        }
      ]
    },
    {
      "cell_type": "code",
      "metadata": {
        "id": "Yp333aBKMvH-"
      },
      "source": [
        ""
      ],
      "execution_count": null,
      "outputs": []
    },
    {
      "cell_type": "code",
      "metadata": {
        "id": "sMZV13ftMvH_",
        "outputId": "bb943f9f-400c-4fd5-9836-2d9d68af2ed3"
      },
      "source": [
        "#train model adam\n",
        "training = model_5.fit(X_train, y_train, batch_size = 256, epochs=30, validation_split=0.2)"
      ],
      "execution_count": null,
      "outputs": [
        {
          "output_type": "stream",
          "text": [
            "Epoch 1/30\n",
            "188/188 [==============================] - 1s 6ms/step - loss: 0.2636 - accuracy: 0.9120 - val_loss: 0.3435 - val_accuracy: 0.8947\n",
            "Epoch 2/30\n",
            "188/188 [==============================] - 1s 6ms/step - loss: 0.2632 - accuracy: 0.9127 - val_loss: 0.3400 - val_accuracy: 0.8938\n",
            "Epoch 3/30\n",
            "188/188 [==============================] - 1s 6ms/step - loss: 0.2674 - accuracy: 0.9113 - val_loss: 0.3387 - val_accuracy: 0.8937\n",
            "Epoch 4/30\n",
            "188/188 [==============================] - 1s 6ms/step - loss: 0.2609 - accuracy: 0.9137 - val_loss: 0.3385 - val_accuracy: 0.8953\n",
            "Epoch 5/30\n",
            "188/188 [==============================] - 1s 6ms/step - loss: 0.2624 - accuracy: 0.9131 - val_loss: 0.3372 - val_accuracy: 0.8957\n",
            "Epoch 6/30\n",
            "188/188 [==============================] - 1s 6ms/step - loss: 0.2601 - accuracy: 0.9136 - val_loss: 0.3386 - val_accuracy: 0.8944\n",
            "Epoch 7/30\n",
            "188/188 [==============================] - 1s 6ms/step - loss: 0.2610 - accuracy: 0.9140 - val_loss: 0.3399 - val_accuracy: 0.8942\n",
            "Epoch 8/30\n",
            "188/188 [==============================] - 1s 6ms/step - loss: 0.2590 - accuracy: 0.9162 - val_loss: 0.3374 - val_accuracy: 0.8939\n",
            "Epoch 9/30\n",
            "188/188 [==============================] - 1s 6ms/step - loss: 0.2597 - accuracy: 0.9146 - val_loss: 0.3361 - val_accuracy: 0.8936\n",
            "Epoch 10/30\n",
            "188/188 [==============================] - 1s 6ms/step - loss: 0.2574 - accuracy: 0.9148 - val_loss: 0.3407 - val_accuracy: 0.8950\n",
            "Epoch 11/30\n",
            "188/188 [==============================] - 1s 6ms/step - loss: 0.2566 - accuracy: 0.9156 - val_loss: 0.3398 - val_accuracy: 0.8943\n",
            "Epoch 12/30\n",
            "188/188 [==============================] - 1s 6ms/step - loss: 0.2587 - accuracy: 0.9150 - val_loss: 0.3370 - val_accuracy: 0.8955\n",
            "Epoch 13/30\n",
            "188/188 [==============================] - 1s 6ms/step - loss: 0.2594 - accuracy: 0.9147 - val_loss: 0.3397 - val_accuracy: 0.8955\n",
            "Epoch 14/30\n",
            "188/188 [==============================] - 1s 6ms/step - loss: 0.2588 - accuracy: 0.9144 - val_loss: 0.3408 - val_accuracy: 0.8939\n",
            "Epoch 15/30\n",
            "188/188 [==============================] - 1s 6ms/step - loss: 0.2521 - accuracy: 0.9174 - val_loss: 0.3454 - val_accuracy: 0.8939\n",
            "Epoch 16/30\n",
            "188/188 [==============================] - 1s 6ms/step - loss: 0.2562 - accuracy: 0.9150 - val_loss: 0.3406 - val_accuracy: 0.8948\n",
            "Epoch 17/30\n",
            "188/188 [==============================] - 1s 6ms/step - loss: 0.2540 - accuracy: 0.9167 - val_loss: 0.3480 - val_accuracy: 0.8939\n",
            "Epoch 18/30\n",
            "188/188 [==============================] - 1s 6ms/step - loss: 0.2570 - accuracy: 0.9141 - val_loss: 0.3412 - val_accuracy: 0.8942\n",
            "Epoch 19/30\n",
            "188/188 [==============================] - 1s 6ms/step - loss: 0.2558 - accuracy: 0.9148 - val_loss: 0.3404 - val_accuracy: 0.8944\n",
            "Epoch 20/30\n",
            "188/188 [==============================] - 1s 6ms/step - loss: 0.2572 - accuracy: 0.9154 - val_loss: 0.3405 - val_accuracy: 0.8953\n",
            "Epoch 21/30\n",
            "188/188 [==============================] - 1s 6ms/step - loss: 0.2541 - accuracy: 0.9157 - val_loss: 0.3412 - val_accuracy: 0.8956\n",
            "Epoch 22/30\n",
            "188/188 [==============================] - 1s 6ms/step - loss: 0.2564 - accuracy: 0.9157 - val_loss: 0.3421 - val_accuracy: 0.8952\n",
            "Epoch 23/30\n",
            "188/188 [==============================] - 1s 7ms/step - loss: 0.2568 - accuracy: 0.9151 - val_loss: 0.3406 - val_accuracy: 0.8953\n",
            "Epoch 24/30\n",
            "188/188 [==============================] - 1s 7ms/step - loss: 0.2545 - accuracy: 0.9151 - val_loss: 0.3426 - val_accuracy: 0.8956\n",
            "Epoch 25/30\n",
            "188/188 [==============================] - 1s 7ms/step - loss: 0.2514 - accuracy: 0.9174 - val_loss: 0.3455 - val_accuracy: 0.8938\n",
            "Epoch 26/30\n",
            "188/188 [==============================] - 1s 7ms/step - loss: 0.2501 - accuracy: 0.9171 - val_loss: 0.3436 - val_accuracy: 0.8942\n",
            "Epoch 27/30\n",
            "188/188 [==============================] - 1s 7ms/step - loss: 0.2504 - accuracy: 0.9172 - val_loss: 0.3441 - val_accuracy: 0.8947\n",
            "Epoch 28/30\n",
            "188/188 [==============================] - 1s 7ms/step - loss: 0.2509 - accuracy: 0.9168 - val_loss: 0.3438 - val_accuracy: 0.8942\n",
            "Epoch 29/30\n",
            "188/188 [==============================] - 1s 7ms/step - loss: 0.2533 - accuracy: 0.9160 - val_loss: 0.3447 - val_accuracy: 0.8946\n",
            "Epoch 30/30\n",
            "188/188 [==============================] - 1s 7ms/step - loss: 0.2500 - accuracy: 0.9173 - val_loss: 0.3422 - val_accuracy: 0.8953\n"
          ],
          "name": "stdout"
        }
      ]
    },
    {
      "cell_type": "code",
      "metadata": {
        "id": "DskG9odXMvH_",
        "outputId": "603d0633-6924-48eb-db6e-a79efb6aaa2f"
      },
      "source": [
        "#evaluate the model\n",
        "\n",
        "test_loss, test_acc = model_5.evaluate(X_test, y_test)\n",
        "print()\n",
        "print('SGD Test Loss batchsize = 256, epochs = 30:', test_loss)\n",
        "print()\n",
        "print('SGD Test accuracy batchsize = 256, epochs = 30::', test_acc)"
      ],
      "execution_count": null,
      "outputs": [
        {
          "output_type": "stream",
          "text": [
            "313/313 [==============================] - 0s 994us/step - loss: 0.3638 - accuracy: 0.8866\n",
            "\n",
            "SGD Test Loss batchsize = 256, epochs = 30: 0.3638027012348175\n",
            "\n",
            "SGD Test accuracy batchsize = 256, epochs = 30:: 0.8866000175476074\n"
          ],
          "name": "stdout"
        }
      ]
    },
    {
      "cell_type": "code",
      "metadata": {
        "id": "-PDHk-VoMvH_"
      },
      "source": [
        ""
      ],
      "execution_count": null,
      "outputs": []
    },
    {
      "cell_type": "code",
      "metadata": {
        "id": "HCNTlnL_MvIA",
        "outputId": "fec553db-b511-444e-ae3f-294ce5849565"
      },
      "source": [
        "#train model adam\n",
        "training = model_5.fit(X_train, y_train, batch_size = 64, epochs=50, validation_split=0.2)"
      ],
      "execution_count": null,
      "outputs": [
        {
          "output_type": "stream",
          "text": [
            "Epoch 1/50\n",
            "750/750 [==============================] - 2s 2ms/step - loss: 0.2750 - accuracy: 0.9078 - val_loss: 0.3436 - val_accuracy: 0.8930\n",
            "Epoch 2/50\n",
            "750/750 [==============================] - 2s 2ms/step - loss: 0.2723 - accuracy: 0.9078 - val_loss: 0.3516 - val_accuracy: 0.8907\n",
            "Epoch 3/50\n",
            "750/750 [==============================] - 2s 2ms/step - loss: 0.2763 - accuracy: 0.9057 - val_loss: 0.3380 - val_accuracy: 0.8930\n",
            "Epoch 4/50\n",
            "750/750 [==============================] - 2s 2ms/step - loss: 0.2731 - accuracy: 0.9089 - val_loss: 0.3507 - val_accuracy: 0.8894\n",
            "Epoch 5/50\n",
            "750/750 [==============================] - 2s 2ms/step - loss: 0.2742 - accuracy: 0.9093 - val_loss: 0.3341 - val_accuracy: 0.8938\n",
            "Epoch 6/50\n",
            "750/750 [==============================] - 2s 2ms/step - loss: 0.2696 - accuracy: 0.9103 - val_loss: 0.3423 - val_accuracy: 0.8931\n",
            "Epoch 7/50\n",
            "750/750 [==============================] - 1s 2ms/step - loss: 0.2713 - accuracy: 0.9093 - val_loss: 0.3412 - val_accuracy: 0.8919\n",
            "Epoch 8/50\n",
            "750/750 [==============================] - 1s 2ms/step - loss: 0.2651 - accuracy: 0.9110 - val_loss: 0.3373 - val_accuracy: 0.8939\n",
            "Epoch 9/50\n",
            "750/750 [==============================] - 2s 2ms/step - loss: 0.2689 - accuracy: 0.9103 - val_loss: 0.3462 - val_accuracy: 0.8917\n",
            "Epoch 10/50\n",
            "750/750 [==============================] - 2s 2ms/step - loss: 0.2602 - accuracy: 0.9136 - val_loss: 0.3456 - val_accuracy: 0.8958\n",
            "Epoch 11/50\n",
            "750/750 [==============================] - 2s 2ms/step - loss: 0.2660 - accuracy: 0.9108 - val_loss: 0.3496 - val_accuracy: 0.8927\n",
            "Epoch 12/50\n",
            "750/750 [==============================] - 2s 2ms/step - loss: 0.2665 - accuracy: 0.9122 - val_loss: 0.3452 - val_accuracy: 0.8904\n",
            "Epoch 13/50\n",
            "750/750 [==============================] - 2s 2ms/step - loss: 0.2618 - accuracy: 0.9112 - val_loss: 0.3463 - val_accuracy: 0.8922\n",
            "Epoch 14/50\n",
            "750/750 [==============================] - 2s 2ms/step - loss: 0.2594 - accuracy: 0.9127 - val_loss: 0.3462 - val_accuracy: 0.8939\n",
            "Epoch 15/50\n",
            "750/750 [==============================] - 2s 2ms/step - loss: 0.2613 - accuracy: 0.9115 - val_loss: 0.3461 - val_accuracy: 0.8930\n",
            "Epoch 16/50\n",
            "750/750 [==============================] - 2s 2ms/step - loss: 0.2588 - accuracy: 0.9140 - val_loss: 0.3484 - val_accuracy: 0.8901\n",
            "Epoch 17/50\n",
            "750/750 [==============================] - 2s 2ms/step - loss: 0.2603 - accuracy: 0.9138 - val_loss: 0.3479 - val_accuracy: 0.8934\n",
            "Epoch 18/50\n",
            "750/750 [==============================] - 2s 2ms/step - loss: 0.2588 - accuracy: 0.9131 - val_loss: 0.3515 - val_accuracy: 0.8921\n",
            "Epoch 19/50\n",
            "750/750 [==============================] - 2s 2ms/step - loss: 0.2586 - accuracy: 0.9129 - val_loss: 0.3574 - val_accuracy: 0.8922\n",
            "Epoch 20/50\n",
            "750/750 [==============================] - 2s 3ms/step - loss: 0.2578 - accuracy: 0.9145 - val_loss: 0.3454 - val_accuracy: 0.8923\n",
            "Epoch 21/50\n",
            "750/750 [==============================] - 2s 3ms/step - loss: 0.2523 - accuracy: 0.9154 - val_loss: 0.3443 - val_accuracy: 0.8940\n",
            "Epoch 22/50\n",
            "750/750 [==============================] - 2s 2ms/step - loss: 0.2568 - accuracy: 0.9139 - val_loss: 0.3442 - val_accuracy: 0.8940\n",
            "Epoch 23/50\n",
            "750/750 [==============================] - 2s 3ms/step - loss: 0.2544 - accuracy: 0.9160 - val_loss: 0.3522 - val_accuracy: 0.8942\n",
            "Epoch 24/50\n",
            "750/750 [==============================] - 2s 3ms/step - loss: 0.2476 - accuracy: 0.9170 - val_loss: 0.3456 - val_accuracy: 0.8935\n",
            "Epoch 25/50\n",
            "750/750 [==============================] - 2s 2ms/step - loss: 0.2499 - accuracy: 0.9141 - val_loss: 0.3570 - val_accuracy: 0.8905\n",
            "Epoch 26/50\n",
            "750/750 [==============================] - 2s 2ms/step - loss: 0.2498 - accuracy: 0.9168 - val_loss: 0.3585 - val_accuracy: 0.8928\n",
            "Epoch 27/50\n",
            "750/750 [==============================] - 2s 2ms/step - loss: 0.2539 - accuracy: 0.9146 - val_loss: 0.3441 - val_accuracy: 0.8931\n",
            "Epoch 28/50\n",
            "750/750 [==============================] - 2s 2ms/step - loss: 0.2460 - accuracy: 0.9177 - val_loss: 0.3498 - val_accuracy: 0.8912\n",
            "Epoch 29/50\n",
            "750/750 [==============================] - 2s 2ms/step - loss: 0.2479 - accuracy: 0.9165 - val_loss: 0.3546 - val_accuracy: 0.8921\n",
            "Epoch 30/50\n",
            "750/750 [==============================] - 2s 2ms/step - loss: 0.2388 - accuracy: 0.9196 - val_loss: 0.3610 - val_accuracy: 0.8949\n",
            "Epoch 31/50\n",
            "750/750 [==============================] - 2s 2ms/step - loss: 0.2437 - accuracy: 0.9196 - val_loss: 0.3629 - val_accuracy: 0.8913\n",
            "Epoch 32/50\n",
            "750/750 [==============================] - 2s 2ms/step - loss: 0.2466 - accuracy: 0.9175 - val_loss: 0.3513 - val_accuracy: 0.8929\n",
            "Epoch 33/50\n",
            "750/750 [==============================] - 2s 2ms/step - loss: 0.2462 - accuracy: 0.9187 - val_loss: 0.3550 - val_accuracy: 0.8938\n",
            "Epoch 34/50\n",
            "750/750 [==============================] - 2s 2ms/step - loss: 0.2409 - accuracy: 0.9200 - val_loss: 0.3592 - val_accuracy: 0.8958\n",
            "Epoch 35/50\n",
            "750/750 [==============================] - 2s 2ms/step - loss: 0.2417 - accuracy: 0.9195 - val_loss: 0.3517 - val_accuracy: 0.8951\n",
            "Epoch 36/50\n",
            "750/750 [==============================] - 2s 2ms/step - loss: 0.2368 - accuracy: 0.9205 - val_loss: 0.3604 - val_accuracy: 0.8960\n",
            "Epoch 37/50\n",
            "750/750 [==============================] - 2s 2ms/step - loss: 0.2398 - accuracy: 0.9193 - val_loss: 0.3540 - val_accuracy: 0.8954\n",
            "Epoch 38/50\n",
            "750/750 [==============================] - 2s 2ms/step - loss: 0.2382 - accuracy: 0.9208 - val_loss: 0.3540 - val_accuracy: 0.8943\n",
            "Epoch 39/50\n",
            "750/750 [==============================] - 2s 3ms/step - loss: 0.2394 - accuracy: 0.9196 - val_loss: 0.3596 - val_accuracy: 0.8936\n",
            "Epoch 40/50\n",
            "750/750 [==============================] - 2s 2ms/step - loss: 0.2382 - accuracy: 0.9202 - val_loss: 0.3524 - val_accuracy: 0.8938\n",
            "Epoch 41/50\n",
            "750/750 [==============================] - 2s 2ms/step - loss: 0.2363 - accuracy: 0.9196 - val_loss: 0.3501 - val_accuracy: 0.8942\n",
            "Epoch 42/50\n",
            "750/750 [==============================] - 2s 2ms/step - loss: 0.2336 - accuracy: 0.9226 - val_loss: 0.3681 - val_accuracy: 0.8915\n",
            "Epoch 43/50\n",
            "750/750 [==============================] - 2s 2ms/step - loss: 0.2343 - accuracy: 0.9212 - val_loss: 0.3660 - val_accuracy: 0.8929\n",
            "Epoch 44/50\n",
            "750/750 [==============================] - 2s 2ms/step - loss: 0.2393 - accuracy: 0.9207 - val_loss: 0.3592 - val_accuracy: 0.8931\n",
            "Epoch 45/50\n",
            "750/750 [==============================] - 2s 2ms/step - loss: 0.2317 - accuracy: 0.9227 - val_loss: 0.3610 - val_accuracy: 0.8939\n",
            "Epoch 46/50\n",
            "750/750 [==============================] - 2s 2ms/step - loss: 0.2329 - accuracy: 0.9228 - val_loss: 0.3571 - val_accuracy: 0.8941\n",
            "Epoch 47/50\n",
            "750/750 [==============================] - 2s 2ms/step - loss: 0.2296 - accuracy: 0.9229 - val_loss: 0.3668 - val_accuracy: 0.8921\n",
            "Epoch 48/50\n",
            "750/750 [==============================] - 2s 2ms/step - loss: 0.2308 - accuracy: 0.9230 - val_loss: 0.3460 - val_accuracy: 0.8951\n",
            "Epoch 49/50\n",
            "750/750 [==============================] - 2s 2ms/step - loss: 0.2288 - accuracy: 0.9236 - val_loss: 0.3609 - val_accuracy: 0.8953\n",
            "Epoch 50/50\n",
            "750/750 [==============================] - 2s 2ms/step - loss: 0.2310 - accuracy: 0.9225 - val_loss: 0.3556 - val_accuracy: 0.8925\n"
          ],
          "name": "stdout"
        }
      ]
    },
    {
      "cell_type": "code",
      "metadata": {
        "id": "20HX6WKRMvIA",
        "outputId": "ad0a37d1-e7ca-4ee5-dd9a-1f0871a3b947"
      },
      "source": [
        "#evaluate the model\n",
        "\n",
        "test_loss, test_acc = model_5.evaluate(X_test, y_test)\n",
        "print()\n",
        "print('SGD Test Loss batchsize = 64, epochs = 50:', test_loss)\n",
        "print()\n",
        "print('SGD Test accuracy batchsize = 64, epochs = 50::', test_acc)"
      ],
      "execution_count": null,
      "outputs": [
        {
          "output_type": "stream",
          "text": [
            "313/313 [==============================] - 0s 1ms/step - loss: 0.3650 - accuracy: 0.8904\n",
            "\n",
            "SGD Test Loss batchsize = 64, epochs = 50: 0.3649570941925049\n",
            "\n",
            "SGD Test accuracy batchsize = 64, epochs = 50:: 0.8903999924659729\n"
          ],
          "name": "stdout"
        }
      ]
    },
    {
      "cell_type": "code",
      "metadata": {
        "id": "kvgRRYyiMvIA"
      },
      "source": [
        ""
      ],
      "execution_count": null,
      "outputs": []
    },
    {
      "cell_type": "markdown",
      "metadata": {
        "id": "QhMVs6-UMvIA"
      },
      "source": [
        "## What parameters should be chosen to classify the images into various categories?"
      ]
    },
    {
      "cell_type": "markdown",
      "metadata": {
        "id": "LiID9ajtMvIB"
      },
      "source": [
        "* Sequential\n",
        "\n",
        "\n",
        "* 2 hidden layers - neurons: 300, 100 respectively\n",
        "\n",
        "\n",
        "* Dropout = 30%\n",
        "\n",
        "\n",
        "* network: Dense\n",
        "\n",
        "    \n",
        "* batchsize = 64\n",
        "\n",
        "\n",
        "* epochs = 30\n",
        "\n",
        "\n",
        "* optimizer: either sgd or adam\n",
        "\n",
        "\n",
        "* expected test accuracy: 0.8689000010490417 (sgd) - 0.8828999996185303 (adam)\n",
        "\n",
        "\n",
        "* best optimizer: adam\n"
      ]
    },
    {
      "cell_type": "code",
      "metadata": {
        "id": "2HXc9fkZMvIB",
        "outputId": "5b89da9c-034c-49c3-b025-71487678af3b"
      },
      "source": [
        "from tensorflow.keras.layers import Dropout\n",
        "\n",
        "# build model\n",
        "model_6 = keras.models.Sequential()\n",
        "\n",
        "# flatten each input image  to a vector of 784 numbers\n",
        "model_6.add(keras.layers.Flatten(input_shape=(28, 28)))\n",
        "\n",
        "# Adding a dense layer to make it multilayer Perceptron\n",
        "model_6.add(Dense(300, name='dense_layer_1', activation='relu')) #<<<<<<<<<<<<<<<<<<<\n",
        "model_6.add(Dropout(0.30))\n",
        "\n",
        "# Adding another dense layer \n",
        "model_6.add(Dense(100, name='dense_layer_2', activation='relu')) #<<<<<<<<<<<<<<<<<<<\n",
        "model_6.add(Dropout(0.30))\n",
        "\n",
        "# Add an output layer with 10 output units (10 different classes):\n",
        "model_6.add(Dense(10, name='dense_layer_5', activation = 'softmax'))\n",
        "\n",
        "print(model_6.summary())"
      ],
      "execution_count": null,
      "outputs": [
        {
          "output_type": "stream",
          "text": [
            "Model: \"sequential_21\"\n",
            "_________________________________________________________________\n",
            "Layer (type)                 Output Shape              Param #   \n",
            "=================================================================\n",
            "flatten_21 (Flatten)         (None, 784)               0         \n",
            "_________________________________________________________________\n",
            "dense_layer_1 (Dense)        (None, 300)               235500    \n",
            "_________________________________________________________________\n",
            "dropout_21 (Dropout)         (None, 300)               0         \n",
            "_________________________________________________________________\n",
            "dense_layer_2 (Dense)        (None, 100)               30100     \n",
            "_________________________________________________________________\n",
            "dropout_22 (Dropout)         (None, 100)               0         \n",
            "_________________________________________________________________\n",
            "dense_layer_5 (Dense)        (None, 10)                1010      \n",
            "=================================================================\n",
            "Total params: 266,610\n",
            "Trainable params: 266,610\n",
            "Non-trainable params: 0\n",
            "_________________________________________________________________\n",
            "None\n"
          ],
          "name": "stdout"
        }
      ]
    },
    {
      "cell_type": "code",
      "metadata": {
        "id": "T3Sz9Kj5MvIB",
        "outputId": "916307bf-094f-4d8f-a759-86d05717588d"
      },
      "source": [
        "# compile model \n",
        "\n",
        "model_6.compile(optimizer='SGD',\n",
        "              loss='sparse_categorical_crossentropy',\n",
        "              metrics=['accuracy'])\n",
        "\n",
        "#train model \n",
        "training = model_6.fit(X_train, y_train, batch_size=64, epochs=30, validation_split=0.2)"
      ],
      "execution_count": null,
      "outputs": [
        {
          "output_type": "stream",
          "text": [
            "Epoch 1/30\n",
            "750/750 [==============================] - 2s 2ms/step - loss: 1.1660 - accuracy: 0.5932 - val_loss: 0.6948 - val_accuracy: 0.7516\n",
            "Epoch 2/30\n",
            "750/750 [==============================] - 1s 2ms/step - loss: 0.7423 - accuracy: 0.7403 - val_loss: 0.5771 - val_accuracy: 0.7991\n",
            "Epoch 3/30\n",
            "750/750 [==============================] - 1s 2ms/step - loss: 0.6411 - accuracy: 0.7786 - val_loss: 0.5240 - val_accuracy: 0.8162\n",
            "Epoch 4/30\n",
            "750/750 [==============================] - 1s 2ms/step - loss: 0.5843 - accuracy: 0.7987 - val_loss: 0.4905 - val_accuracy: 0.8257\n",
            "Epoch 5/30\n",
            "750/750 [==============================] - 1s 2ms/step - loss: 0.5499 - accuracy: 0.8090 - val_loss: 0.4669 - val_accuracy: 0.8333\n",
            "Epoch 6/30\n",
            "750/750 [==============================] - 1s 2ms/step - loss: 0.5230 - accuracy: 0.8180 - val_loss: 0.4486 - val_accuracy: 0.8382\n",
            "Epoch 7/30\n",
            "750/750 [==============================] - 1s 2ms/step - loss: 0.5005 - accuracy: 0.8245 - val_loss: 0.4385 - val_accuracy: 0.8412\n",
            "Epoch 8/30\n",
            "750/750 [==============================] - 1s 2ms/step - loss: 0.4831 - accuracy: 0.8328 - val_loss: 0.4236 - val_accuracy: 0.8483\n",
            "Epoch 9/30\n",
            "750/750 [==============================] - 1s 2ms/step - loss: 0.4703 - accuracy: 0.8356 - val_loss: 0.4165 - val_accuracy: 0.8493\n",
            "Epoch 10/30\n",
            "750/750 [==============================] - 1s 2ms/step - loss: 0.4602 - accuracy: 0.8400 - val_loss: 0.4072 - val_accuracy: 0.8528\n",
            "Epoch 11/30\n",
            "750/750 [==============================] - 1s 2ms/step - loss: 0.4487 - accuracy: 0.8422 - val_loss: 0.3985 - val_accuracy: 0.8537\n",
            "Epoch 12/30\n",
            "750/750 [==============================] - 2s 2ms/step - loss: 0.4382 - accuracy: 0.8451 - val_loss: 0.3929 - val_accuracy: 0.8585\n",
            "Epoch 13/30\n",
            "750/750 [==============================] - 2s 2ms/step - loss: 0.4323 - accuracy: 0.8482 - val_loss: 0.3868 - val_accuracy: 0.8590\n",
            "Epoch 14/30\n",
            "750/750 [==============================] - 1s 2ms/step - loss: 0.4259 - accuracy: 0.8494 - val_loss: 0.3821 - val_accuracy: 0.8611\n",
            "Epoch 15/30\n",
            "750/750 [==============================] - 2s 2ms/step - loss: 0.4153 - accuracy: 0.8521 - val_loss: 0.3771 - val_accuracy: 0.8633\n",
            "Epoch 16/30\n",
            "750/750 [==============================] - 2s 2ms/step - loss: 0.4117 - accuracy: 0.8541 - val_loss: 0.3740 - val_accuracy: 0.8668\n",
            "Epoch 17/30\n",
            "750/750 [==============================] - 2s 2ms/step - loss: 0.4044 - accuracy: 0.8573 - val_loss: 0.3736 - val_accuracy: 0.8648\n",
            "Epoch 18/30\n",
            "750/750 [==============================] - 2s 2ms/step - loss: 0.3991 - accuracy: 0.8590 - val_loss: 0.3668 - val_accuracy: 0.8671\n",
            "Epoch 19/30\n",
            "750/750 [==============================] - 2s 2ms/step - loss: 0.3913 - accuracy: 0.8612 - val_loss: 0.3618 - val_accuracy: 0.8706\n",
            "Epoch 20/30\n",
            "750/750 [==============================] - 2s 2ms/step - loss: 0.3877 - accuracy: 0.8619 - val_loss: 0.3595 - val_accuracy: 0.8695\n",
            "Epoch 21/30\n",
            "750/750 [==============================] - 2s 2ms/step - loss: 0.3862 - accuracy: 0.8628 - val_loss: 0.3579 - val_accuracy: 0.8693\n",
            "Epoch 22/30\n",
            "750/750 [==============================] - 2s 2ms/step - loss: 0.3813 - accuracy: 0.8647 - val_loss: 0.3538 - val_accuracy: 0.8728\n",
            "Epoch 23/30\n",
            "750/750 [==============================] - 1s 2ms/step - loss: 0.3767 - accuracy: 0.8662 - val_loss: 0.3548 - val_accuracy: 0.8712\n",
            "Epoch 24/30\n",
            "750/750 [==============================] - 2s 2ms/step - loss: 0.3745 - accuracy: 0.8667 - val_loss: 0.3506 - val_accuracy: 0.8743\n",
            "Epoch 25/30\n",
            "750/750 [==============================] - 2s 2ms/step - loss: 0.3701 - accuracy: 0.8677 - val_loss: 0.3498 - val_accuracy: 0.8717\n",
            "Epoch 26/30\n",
            "750/750 [==============================] - 2s 2ms/step - loss: 0.3650 - accuracy: 0.8701 - val_loss: 0.3442 - val_accuracy: 0.8765\n",
            "Epoch 27/30\n",
            "750/750 [==============================] - 2s 2ms/step - loss: 0.3625 - accuracy: 0.8706 - val_loss: 0.3421 - val_accuracy: 0.8777\n",
            "Epoch 28/30\n",
            "750/750 [==============================] - 2s 3ms/step - loss: 0.3600 - accuracy: 0.8712 - val_loss: 0.3410 - val_accuracy: 0.8764\n",
            "Epoch 29/30\n",
            "750/750 [==============================] - 2s 3ms/step - loss: 0.3583 - accuracy: 0.8731 - val_loss: 0.3405 - val_accuracy: 0.8763\n",
            "Epoch 30/30\n",
            "750/750 [==============================] - 2s 2ms/step - loss: 0.3541 - accuracy: 0.8745 - val_loss: 0.3379 - val_accuracy: 0.8788\n"
          ],
          "name": "stdout"
        }
      ]
    },
    {
      "cell_type": "code",
      "metadata": {
        "id": "tiwfwSxVMvIC",
        "outputId": "2482e3ec-e51f-4353-8063-3c4b343088d0"
      },
      "source": [
        "#evaluate the model\n",
        "\n",
        "test_loss, test_acc = model_6.evaluate(X_test, y_test)\n",
        "print()\n",
        "print('SGD Test Loss batchsize = 64, epochs = 30:', test_loss)\n",
        "print()\n",
        "print('SGD Test accuracy batchsize = 64, epochs = 30::', test_acc)"
      ],
      "execution_count": null,
      "outputs": [
        {
          "output_type": "stream",
          "text": [
            "313/313 [==============================] - 0s 970us/step - loss: 0.3632 - accuracy: 0.8689\n",
            "\n",
            "Test Loss batchsize = 64, epochs = 30: 0.36317700147628784\n",
            "\n",
            "Test accuracy batchsize = 64, epochs = 30:: 0.8689000010490417\n"
          ],
          "name": "stdout"
        }
      ]
    },
    {
      "cell_type": "code",
      "metadata": {
        "id": "Vm5pM5shMvIC",
        "outputId": "eea496a2-9f1a-43d5-9349-d91b12320df0"
      },
      "source": [
        "# compile model \n",
        "\n",
        "model_6.compile(optimizer='adam',\n",
        "              loss='sparse_categorical_crossentropy',\n",
        "              metrics=['accuracy'])\n",
        "\n",
        "#train model \n",
        "training = model_6.fit(X_train, y_train, batch_size=64, epochs=30, validation_split=0.2)"
      ],
      "execution_count": null,
      "outputs": [
        {
          "output_type": "stream",
          "text": [
            "Epoch 1/30\n",
            "750/750 [==============================] - 2s 2ms/step - loss: 0.4472 - accuracy: 0.8388 - val_loss: 0.3769 - val_accuracy: 0.8643\n",
            "Epoch 2/30\n",
            "750/750 [==============================] - 2s 2ms/step - loss: 0.4035 - accuracy: 0.8526 - val_loss: 0.3540 - val_accuracy: 0.8710\n",
            "Epoch 3/30\n",
            "750/750 [==============================] - 2s 2ms/step - loss: 0.3788 - accuracy: 0.8616 - val_loss: 0.3512 - val_accuracy: 0.8734\n",
            "Epoch 4/30\n",
            "750/750 [==============================] - 2s 2ms/step - loss: 0.3654 - accuracy: 0.8656 - val_loss: 0.3376 - val_accuracy: 0.8778\n",
            "Epoch 5/30\n",
            "750/750 [==============================] - 2s 2ms/step - loss: 0.3544 - accuracy: 0.8709 - val_loss: 0.3308 - val_accuracy: 0.8809\n",
            "Epoch 6/30\n",
            "750/750 [==============================] - 2s 2ms/step - loss: 0.3399 - accuracy: 0.8740 - val_loss: 0.3493 - val_accuracy: 0.8711\n",
            "Epoch 7/30\n",
            "750/750 [==============================] - 2s 2ms/step - loss: 0.3322 - accuracy: 0.8780 - val_loss: 0.3422 - val_accuracy: 0.8756\n",
            "Epoch 8/30\n",
            "750/750 [==============================] - 2s 2ms/step - loss: 0.3226 - accuracy: 0.8813 - val_loss: 0.3274 - val_accuracy: 0.8821\n",
            "Epoch 9/30\n",
            "750/750 [==============================] - 2s 2ms/step - loss: 0.3154 - accuracy: 0.8832 - val_loss: 0.3207 - val_accuracy: 0.8837\n",
            "Epoch 10/30\n",
            "750/750 [==============================] - 2s 2ms/step - loss: 0.3086 - accuracy: 0.8871 - val_loss: 0.3393 - val_accuracy: 0.8777\n",
            "Epoch 11/30\n",
            "750/750 [==============================] - 2s 2ms/step - loss: 0.3040 - accuracy: 0.8859 - val_loss: 0.3287 - val_accuracy: 0.8802\n",
            "Epoch 12/30\n",
            "750/750 [==============================] - 2s 2ms/step - loss: 0.3000 - accuracy: 0.8888 - val_loss: 0.3093 - val_accuracy: 0.8878\n",
            "Epoch 13/30\n",
            "750/750 [==============================] - 2s 2ms/step - loss: 0.2927 - accuracy: 0.8897 - val_loss: 0.3085 - val_accuracy: 0.8878\n",
            "Epoch 14/30\n",
            "750/750 [==============================] - 2s 2ms/step - loss: 0.2885 - accuracy: 0.8914 - val_loss: 0.3018 - val_accuracy: 0.8914\n",
            "Epoch 15/30\n",
            "750/750 [==============================] - 2s 2ms/step - loss: 0.2842 - accuracy: 0.8928 - val_loss: 0.3133 - val_accuracy: 0.8893\n",
            "Epoch 16/30\n",
            "750/750 [==============================] - 2s 2ms/step - loss: 0.2803 - accuracy: 0.8955 - val_loss: 0.3004 - val_accuracy: 0.8925\n",
            "Epoch 17/30\n",
            "750/750 [==============================] - 2s 2ms/step - loss: 0.2748 - accuracy: 0.8974 - val_loss: 0.3139 - val_accuracy: 0.8892\n",
            "Epoch 18/30\n",
            "750/750 [==============================] - 2s 3ms/step - loss: 0.2711 - accuracy: 0.8968 - val_loss: 0.3015 - val_accuracy: 0.8961\n",
            "Epoch 19/30\n",
            "750/750 [==============================] - 2s 3ms/step - loss: 0.2673 - accuracy: 0.8990 - val_loss: 0.3152 - val_accuracy: 0.8887\n",
            "Epoch 20/30\n",
            "750/750 [==============================] - 2s 3ms/step - loss: 0.2623 - accuracy: 0.9014 - val_loss: 0.2977 - val_accuracy: 0.8942\n",
            "Epoch 21/30\n",
            "750/750 [==============================] - 2s 3ms/step - loss: 0.2598 - accuracy: 0.9022 - val_loss: 0.3009 - val_accuracy: 0.8941\n",
            "Epoch 22/30\n",
            "750/750 [==============================] - 2s 3ms/step - loss: 0.2587 - accuracy: 0.9024 - val_loss: 0.2997 - val_accuracy: 0.8920\n",
            "Epoch 23/30\n",
            "750/750 [==============================] - 2s 3ms/step - loss: 0.2527 - accuracy: 0.9051 - val_loss: 0.3105 - val_accuracy: 0.8885\n",
            "Epoch 24/30\n",
            "750/750 [==============================] - 2s 3ms/step - loss: 0.2528 - accuracy: 0.9047 - val_loss: 0.3294 - val_accuracy: 0.8848\n",
            "Epoch 25/30\n",
            "750/750 [==============================] - 2s 3ms/step - loss: 0.2494 - accuracy: 0.9061 - val_loss: 0.3122 - val_accuracy: 0.8909\n",
            "Epoch 26/30\n",
            "750/750 [==============================] - 2s 3ms/step - loss: 0.2455 - accuracy: 0.9048 - val_loss: 0.3069 - val_accuracy: 0.8934\n",
            "Epoch 27/30\n",
            "750/750 [==============================] - 2s 3ms/step - loss: 0.2426 - accuracy: 0.9093 - val_loss: 0.3093 - val_accuracy: 0.8926\n",
            "Epoch 28/30\n",
            "750/750 [==============================] - 2s 3ms/step - loss: 0.2374 - accuracy: 0.9089 - val_loss: 0.3053 - val_accuracy: 0.8972\n",
            "Epoch 29/30\n",
            "750/750 [==============================] - 2s 3ms/step - loss: 0.2395 - accuracy: 0.9093 - val_loss: 0.2993 - val_accuracy: 0.8982\n",
            "Epoch 30/30\n",
            "750/750 [==============================] - 2s 2ms/step - loss: 0.2326 - accuracy: 0.9118 - val_loss: 0.3051 - val_accuracy: 0.8922\n"
          ],
          "name": "stdout"
        }
      ]
    },
    {
      "cell_type": "code",
      "metadata": {
        "id": "NhO7xMzCMvIC",
        "outputId": "a4e45422-226a-4703-b04e-4f2f0419dcf2"
      },
      "source": [
        "#evaluate the model\n",
        "\n",
        "test_loss, test_acc = model_6.evaluate(X_test, y_test)\n",
        "print()\n",
        "print('SGD Test Loss batchsize = 64, epochs = 30:', test_loss)\n",
        "print()\n",
        "print('SGD Test accuracy batchsize = 64, epochs = 30::', test_acc)"
      ],
      "execution_count": null,
      "outputs": [
        {
          "output_type": "stream",
          "text": [
            "313/313 [==============================] - 0s 972us/step - loss: 0.3449 - accuracy: 0.8829\n",
            "\n",
            "SGD Test Loss batchsize = 64, epochs = 30: 0.3448719084262848\n",
            "\n",
            "SGD Test accuracy batchsize = 64, epochs = 30:: 0.8828999996185303\n"
          ],
          "name": "stdout"
        }
      ]
    },
    {
      "cell_type": "code",
      "metadata": {
        "id": "B1_bzNV6MvIC"
      },
      "source": [
        ""
      ],
      "execution_count": null,
      "outputs": []
    }
  ]
}