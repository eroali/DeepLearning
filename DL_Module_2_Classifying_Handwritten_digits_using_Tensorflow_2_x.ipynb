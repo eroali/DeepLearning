{
  "nbformat": 4,
  "nbformat_minor": 0,
  "metadata": {
    "colab": {
      "name": "DL Module 2 Classifying Handwritten digits using Tensorflow 2.x.ipynb",
      "provenance": [],
      "collapsed_sections": [
        "XxeyelGk_Tp4",
        "JL8GMQz2R90b",
        "HruLQ2fqS3f2",
        "PwEj36wcbsXF",
        "u5DMnZp1bxAU",
        "szLxFVyIytsv",
        "yZBPiGLXYGUM",
        "RaTcM_Gk_jco",
        "ajqy56PT_pHr",
        "n8iGAu5OAO5Y",
        "Nw7DXcLYfZzp",
        "pjps75cBuR1Z",
        "mBnxm6kkzUYm",
        "AFbx6XHI0KyQ",
        "jX8DXi1jiFYS",
        "X6UHyrSERqid",
        "hQTkURqTLcAy",
        "LFY6t7nLLukS",
        "OFeLvye1L3uN",
        "SEc5Uh-UMIOm"
      ],
      "toc_visible": true,
      "include_colab_link": true
    },
    "kernelspec": {
      "name": "python3",
      "display_name": "Python 3"
    },
    "accelerator": "TPU"
  },
  "cells": [
    {
      "cell_type": "markdown",
      "metadata": {
        "id": "view-in-github",
        "colab_type": "text"
      },
      "source": [
        "<a href=\"https://colab.research.google.com/github/eroali/DeepLearning/blob/main/DL_Module_2_Classifying_Handwritten_digits_using_Tensorflow_2_x.ipynb\" target=\"_parent\"><img src=\"https://colab.research.google.com/assets/colab-badge.svg\" alt=\"Open In Colab\"/></a>"
      ]
    },
    {
      "cell_type": "markdown",
      "metadata": {
        "id": "XxeyelGk_Tp4"
      },
      "source": [
        "# Classifying Handwritten digits using Tensorflow 2.x"
      ]
    },
    {
      "cell_type": "markdown",
      "metadata": {
        "id": "VqFvADlTZgrp"
      },
      "source": [
        "This is a [Google Colaboratory](https://colab.research.google.com/notebooks/welcome.ipynb) notebook file. Python programs are run directly in the browser—a great way to learn and use TensorFlow. To follow this tutorial, run the notebook in Google Colab by clicking the button at the top of this page.\n",
        "\n",
        "1. In Colab, connect to a Python runtime: At the top-right of the menu bar, select *CONNECT*.\n",
        "2. Run all the notebook code cells: Select *Runtime* > *Run all*."
      ]
    },
    {
      "cell_type": "markdown",
      "metadata": {
        "id": "JL8GMQz2R90b"
      },
      "source": [
        "##Problem Statement"
      ]
    },
    {
      "cell_type": "markdown",
      "metadata": {
        "id": "CI0fQw8zSEku"
      },
      "source": [
        "**MNIST (\"Modified National Institute of Standards and Technology\")** is the de facto “hello world” dataset of computer vision. Since its release in 1999, this classic dataset of handwritten images has served as the basis for benchmarking classification algorithms. As new machine learning techniques emerge, MNIST remains a reliable resource for researchers and learners alike.\n",
        "\n",
        "In this demo, your goal is to correctly identify digits from a dataset of thousands of handwritten images. "
      ]
    },
    {
      "cell_type": "markdown",
      "metadata": {
        "id": "HruLQ2fqS3f2"
      },
      "source": [
        "####**Tasks to be Performed**"
      ]
    },
    {
      "cell_type": "markdown",
      "metadata": {
        "id": "GtuEkgrQS7Rs"
      },
      "source": [
        "In this tutorial you will be performing the following tasks:\n",
        "- Prepare the dataset for the model\n",
        "- Install Tensorflow 2.x\n",
        "- Develop Single Layer Perceptron model for classifying the handwritten digits\n",
        "- Plot the change in accuracy per epochs\n",
        "- Evaluate the model on the testing data\n",
        "- Analyse the model summary\n",
        "- Add hidden layer to the model to make it Multi-Layer Perceptron\n",
        "- Add Dropout to prevent overfitting and check its effect on accuracy\n",
        "- Increasing the number of Hidden Layer neuron and check its effect on accuracy\n",
        "- Use different optimizers and check its effect on accuracy\n",
        "- Increase the hidden layers and check its effect on accuracy\n",
        "- Manipulate the batch_size and epochs and check its effect on accuracy\n",
        "- Answer: What parameters should be choosen to get best accuracy on classifying the handwritten digits?"
      ]
    },
    {
      "cell_type": "markdown",
      "metadata": {
        "id": "PwEj36wcbsXF"
      },
      "source": [
        "####**Dataset Description**"
      ]
    },
    {
      "cell_type": "markdown",
      "metadata": {
        "id": "bbg_FbbPU2fe"
      },
      "source": [
        "\n",
        "The **[MNIST Handwritten Digit Classification Dataset](http://yann.lecun.com/exdb/mnist/)** consists of 60,000 training images and 10,000 testing images of handwritten digits.\n",
        "\n",
        "Each image is 28 pixels in height and 28 pixels in width, for a total of 784 pixels in total. Each pixel has a single pixel-value associated with it, indicating the lightness or darkness of that pixel, with higher numbers meaning darker. This pixel-value is an integer between 0 and 255, inclusive.\n",
        "\n",
        "![alt text](https://i.imgur.com/Su00XUA.png)\n",
        "\n"
      ]
    },
    {
      "cell_type": "markdown",
      "metadata": {
        "id": "u5DMnZp1bxAU"
      },
      "source": [
        "####**Skills Gained**"
      ]
    },
    {
      "cell_type": "markdown",
      "metadata": {
        "id": "InSeMIvFScja"
      },
      "source": [
        "- TensorFlow 2.x\n",
        "- Single Layer Perceptron\n",
        "- Multi Layer Perceptron\n",
        "- Model Improvisation"
      ]
    },
    {
      "cell_type": "markdown",
      "metadata": {
        "id": "szLxFVyIytsv"
      },
      "source": [
        "# Solution: Classifying Handwritten digits using Tensorflow 2.x"
      ]
    },
    {
      "cell_type": "markdown",
      "metadata": {
        "id": "yZBPiGLXYGUM"
      },
      "source": [
        "##Installing TensorFlow 2.x"
      ]
    },
    {
      "cell_type": "code",
      "metadata": {
        "id": "qSt1IGYaYe_y"
      },
      "source": [
        "#!pip install TensorFlow-GPU == 2.0.0"
      ],
      "execution_count": null,
      "outputs": []
    },
    {
      "cell_type": "code",
      "metadata": {
        "id": "knttI4ECLnHE",
        "colab": {
          "base_uri": "https://localhost:8080/"
        },
        "outputId": "e72d2218-e2d7-4180-cfc6-e5e263b6561d"
      },
      "source": [
        "#verify the installation\n",
        "import tensorflow as tf\n",
        "from tensorflow import keras \n",
        "\n",
        "#Check tf.keras version\n",
        "print(tf.keras.__version__)\n"
      ],
      "execution_count": 2,
      "outputs": [
        {
          "output_type": "stream",
          "text": [
            "2.4.0\n"
          ],
          "name": "stdout"
        }
      ]
    },
    {
      "cell_type": "markdown",
      "metadata": {
        "id": "RaTcM_Gk_jco"
      },
      "source": [
        "##Preparing the Data"
      ]
    },
    {
      "cell_type": "markdown",
      "metadata": {
        "id": "M0UnlNytbPmC"
      },
      "source": [
        "###Loading the Data"
      ]
    },
    {
      "cell_type": "markdown",
      "metadata": {
        "id": "peAAgeflZwcH"
      },
      "source": [
        "Load and prepare the [MNIST dataset](http://yann.lecun.com/exdb/mnist/) and convert the samples from integers to floating-point numbers and deal with categorical data:"
      ]
    },
    {
      "cell_type": "code",
      "metadata": {
        "id": "c8-PSPuqLn_K",
        "colab": {
          "base_uri": "https://localhost:8080/"
        },
        "outputId": "8653cd92-6acc-4d87-e1fa-1566cabe390e"
      },
      "source": [
        "# Loading MNIST dataset\n",
        "mnist = keras.datasets.mnist \n",
        "(X_train, Y_train), (X_test, Y_test) = mnist.load_data()"
      ],
      "execution_count": 3,
      "outputs": [
        {
          "output_type": "stream",
          "text": [
            "Downloading data from https://storage.googleapis.com/tensorflow/tf-keras-datasets/mnist.npz\n",
            "11493376/11490434 [==============================] - 0s 0us/step\n"
          ],
          "name": "stdout"
        }
      ]
    },
    {
      "cell_type": "code",
      "metadata": {
        "id": "t_v4WkSBLrJH",
        "colab": {
          "base_uri": "https://localhost:8080/"
        },
        "outputId": "e38ae923-90a5-46fa-8b4c-fe22ffecb28c"
      },
      "source": [
        "# Data Exploration\n",
        "print(X_train.shape)\n",
        "print(X_test.shape)"
      ],
      "execution_count": 4,
      "outputs": [
        {
          "output_type": "stream",
          "text": [
            "(60000, 28, 28)\n",
            "(10000, 28, 28)\n"
          ],
          "name": "stdout"
        }
      ]
    },
    {
      "cell_type": "markdown",
      "metadata": {
        "id": "WQR_cGsYaWVD"
      },
      "source": [
        "###Data Preprocessing"
      ]
    },
    {
      "cell_type": "code",
      "metadata": {
        "id": "eH99QHr5Pyz0"
      },
      "source": [
        "X_train = X_train.astype('float32')\n",
        "X_test = X_test.astype('float32') "
      ],
      "execution_count": 5,
      "outputs": []
    },
    {
      "cell_type": "code",
      "metadata": {
        "colab": {
          "base_uri": "https://localhost:8080/",
          "height": 294
        },
        "id": "kj-wuZrS-O74",
        "outputId": "ba5b5d0d-080c-486c-da70-57a032d6c06a"
      },
      "source": [
        "import matplotlib.pyplot as plt\r\n",
        "\r\n",
        "plt.matshow(X_train[0])"
      ],
      "execution_count": 6,
      "outputs": [
        {
          "output_type": "execute_result",
          "data": {
            "text/plain": [
              "<matplotlib.image.AxesImage at 0x7f90d3471a58>"
            ]
          },
          "metadata": {
            "tags": []
          },
          "execution_count": 6
        },
        {
          "output_type": "display_data",
          "data": {
            "image/png": "[encoded data removed]",
            "text/plain": [
              "<Figure size 288x288 with 1 Axes>"
            ]
          },
          "metadata": {
            "tags": [],
            "needs_background": "light"
          }
        }
      ]
    },
    {
      "cell_type": "code",
      "metadata": {
        "id": "5uAo7yDtRhbG",
        "colab": {
          "base_uri": "https://localhost:8080/"
        },
        "outputId": "72854af1-2dae-4f42-d2a4-c6acf5d3bab3"
      },
      "source": [
        "# X_train is 60000 rows of 28x28 values; we reshape it to # 60000 x 784. \n",
        "RESHAPED = 784 # 28x28 = 784 neurons\n",
        "X_train = X_train.reshape(60000, RESHAPED) \n",
        "X_test = X_test.reshape(10000, RESHAPED) \n",
        "\n",
        "# Data is converted into float32 to use 32-bit precision # when training a neural network \n",
        "X_train = X_train.astype('float32')\n",
        "X_test = X_test.astype('float32') \n",
        "\n",
        "# Normalizing the input to be within the range [0,1]\n",
        "X_train /= 255\n",
        "#intensity of each pixel is divided by 255, the maximum intensity value\n",
        "X_test /= 255\n",
        "print(X_train.shape[0], 'train samples') \n",
        "print(X_test.shape[0], 'test samples') \n",
        "\n",
        "\n"
      ],
      "execution_count": 7,
      "outputs": [
        {
          "output_type": "stream",
          "text": [
            "60000 train samples\n",
            "10000 test samples\n"
          ],
          "name": "stdout"
        }
      ]
    },
    {
      "cell_type": "code",
      "metadata": {
        "colab": {
          "base_uri": "https://localhost:8080/"
        },
        "id": "7UaHNn09g0PQ",
        "outputId": "d1de43f4-fc7c-494f-9431-a2ecc7e0f77b"
      },
      "source": [
        "Y_train[0]"
      ],
      "execution_count": 8,
      "outputs": [
        {
          "output_type": "execute_result",
          "data": {
            "text/plain": [
              "5"
            ]
          },
          "metadata": {
            "tags": []
          },
          "execution_count": 8
        }
      ]
    },
    {
      "cell_type": "code",
      "metadata": {
        "id": "hVa9OtOGgu7N"
      },
      "source": [
        "# One-hot representation of the labels.\r\n",
        "Y_train = tf.keras.utils.to_categorical(Y_train, 10) \r\n",
        "Y_test = tf.keras.utils.to_categorical(Y_test, 10)"
      ],
      "execution_count": 9,
      "outputs": []
    },
    {
      "cell_type": "code",
      "metadata": {
        "colab": {
          "base_uri": "https://localhost:8080/"
        },
        "id": "mn7RxeWcdxJm",
        "outputId": "4ff4c335-032b-4c48-cdb4-0476349a1a35"
      },
      "source": [
        "X_train[0].shape"
      ],
      "execution_count": 10,
      "outputs": [
        {
          "output_type": "execute_result",
          "data": {
            "text/plain": [
              "(784,)"
            ]
          },
          "metadata": {
            "tags": []
          },
          "execution_count": 10
        }
      ]
    },
    {
      "cell_type": "code",
      "metadata": {
        "colab": {
          "base_uri": "https://localhost:8080/"
        },
        "id": "qp8pTkQwd8V1",
        "outputId": "f2c775cf-efd7-4281-cd54-62fc8cd1c20f"
      },
      "source": [
        "len(X_train[0])"
      ],
      "execution_count": 11,
      "outputs": [
        {
          "output_type": "execute_result",
          "data": {
            "text/plain": [
              "784"
            ]
          },
          "metadata": {
            "tags": []
          },
          "execution_count": 11
        }
      ]
    },
    {
      "cell_type": "code",
      "metadata": {
        "colab": {
          "base_uri": "https://localhost:8080/"
        },
        "id": "vfGvF3FZQz-l",
        "outputId": "9d6b1806-0ca5-414c-a090-85687d7604b5"
      },
      "source": [
        "Y_train[1]\r\n",
        "#len(Y_train[0])\r\n",
        "Y_train[8].shape"
      ],
      "execution_count": 12,
      "outputs": [
        {
          "output_type": "execute_result",
          "data": {
            "text/plain": [
              "(10,)"
            ]
          },
          "metadata": {
            "tags": []
          },
          "execution_count": 12
        }
      ]
    },
    {
      "cell_type": "code",
      "metadata": {
        "colab": {
          "base_uri": "https://localhost:8080/"
        },
        "id": "8AevlVFxhvqb",
        "outputId": "2dec1675-5d88-4da4-fcdd-644e6890caec"
      },
      "source": [
        "Y_test[0]"
      ],
      "execution_count": 13,
      "outputs": [
        {
          "output_type": "execute_result",
          "data": {
            "text/plain": [
              "array([0., 0., 0., 0., 0., 0., 0., 1., 0., 0.], dtype=float32)"
            ]
          },
          "metadata": {
            "tags": []
          },
          "execution_count": 13
        }
      ]
    },
    {
      "cell_type": "code",
      "metadata": {
        "colab": {
          "base_uri": "https://localhost:8080/"
        },
        "id": "2flX3eU6TjkQ",
        "outputId": "bd0835bf-a361-435f-e6ce-2bbbe6934958"
      },
      "source": [
        "Y_train[0]"
      ],
      "execution_count": 14,
      "outputs": [
        {
          "output_type": "execute_result",
          "data": {
            "text/plain": [
              "array([0., 0., 0., 0., 0., 1., 0., 0., 0., 0.], dtype=float32)"
            ]
          },
          "metadata": {
            "tags": []
          },
          "execution_count": 14
        }
      ]
    },
    {
      "cell_type": "markdown",
      "metadata": {
        "id": "8g6qsSi21x97"
      },
      "source": [
        "## Designing the Model"
      ]
    },
    {
      "cell_type": "markdown",
      "metadata": {
        "id": "ajqy56PT_pHr"
      },
      "source": [
        "###Preparing the Model 0: Single layer Perceptron"
      ]
    },
    {
      "cell_type": "code",
      "metadata": {
        "colab": {
          "base_uri": "https://localhost:8080/"
        },
        "id": "tSyRebLnJWev",
        "outputId": "6878ad99-408d-4878-8baa-dbd86677fd6b"
      },
      "source": [
        "from google.colab import drive\n",
        "drive.mount('/content/drive')"
      ],
      "execution_count": null,
      "outputs": [
        {
          "output_type": "stream",
          "text": [
            "Mounted at /content/drive\n"
          ],
          "name": "stdout"
        }
      ]
    },
    {
      "cell_type": "markdown",
      "metadata": {
        "id": "wncYBuNkaCFf"
      },
      "source": [
        "Build the `Sequential` model with 0 hidden layers. Choose an optimizer and loss function for training:"
      ]
    },
    {
      "cell_type": "code",
      "metadata": {
        "id": "2Q5jFOQUM-c0"
      },
      "source": [
        "import tensorflow as tf\n",
        "from tensorflow.keras.layers import Dense\n",
        "from tensorflow.keras import Sequential\n",
        "model_0 = Sequential()\n",
        "# Now the model will take as input arrays of shape (*, 784)# and output arrays of shape (*, 10)\n",
        "model_0.add(Dense(10,input_shape=(784,),name='dense_layer', activation='softmax')) "
      ],
      "execution_count": 15,
      "outputs": []
    },
    {
      "cell_type": "code",
      "metadata": {
        "id": "ocCzyD2SWC9I"
      },
      "source": [
        "# Compiling the model.\n",
        "model_0.compile(optimizer='SGD', \n",
        "              loss='categorical_crossentropy',\n",
        "              metrics=['accuracy'])"
      ],
      "execution_count": 16,
      "outputs": []
    },
    {
      "cell_type": "code",
      "metadata": {
        "colab": {
          "base_uri": "https://localhost:8080/"
        },
        "id": "bPN2DQWh-xR5",
        "outputId": "b3371504-d379-4b3f-ac9c-02da792ef921"
      },
      "source": [
        "model_0.summary()"
      ],
      "execution_count": 17,
      "outputs": [
        {
          "output_type": "stream",
          "text": [
            "Model: \"sequential\"\n",
            "_________________________________________________________________\n",
            "Layer (type)                 Output Shape              Param #   \n",
            "=================================================================\n",
            "dense_layer (Dense)          (None, 10)                7850      \n",
            "=================================================================\n",
            "Total params: 7,850\n",
            "Trainable params: 7,850\n",
            "Non-trainable params: 0\n",
            "_________________________________________________________________\n"
          ],
          "name": "stdout"
        }
      ]
    },
    {
      "cell_type": "code",
      "metadata": {
        "id": "fvAt9Atl-cnx",
        "colab": {
          "base_uri": "https://localhost:8080/"
        },
        "outputId": "995244ff-f485-47d5-998d-4be15fe7d5ce"
      },
      "source": [
        "# Training the model. \n",
        "training = model_0.fit(X_train, Y_train, batch_size=64, epochs=70, validation_split=0.2) "
      ],
      "execution_count": 18,
      "outputs": [
        {
          "output_type": "stream",
          "text": [
            "Epoch 1/70\n",
            "750/750 [==============================] - 2s 2ms/step - loss: 1.4956 - accuracy: 0.6104 - val_loss: 0.6524 - val_accuracy: 0.8602\n",
            "Epoch 2/70\n",
            "750/750 [==============================] - 1s 2ms/step - loss: 0.6418 - accuracy: 0.8523 - val_loss: 0.5056 - val_accuracy: 0.8785\n",
            "Epoch 3/70\n",
            "750/750 [==============================] - 1s 2ms/step - loss: 0.5254 - accuracy: 0.8704 - val_loss: 0.4486 - val_accuracy: 0.8867\n",
            "Epoch 4/70\n",
            "750/750 [==============================] - 1s 1ms/step - loss: 0.4745 - accuracy: 0.8784 - val_loss: 0.4168 - val_accuracy: 0.8926\n",
            "Epoch 5/70\n",
            "750/750 [==============================] - 1s 2ms/step - loss: 0.4382 - accuracy: 0.8861 - val_loss: 0.3967 - val_accuracy: 0.8951\n",
            "Epoch 6/70\n",
            "750/750 [==============================] - 1s 2ms/step - loss: 0.4231 - accuracy: 0.8880 - val_loss: 0.3818 - val_accuracy: 0.8997\n",
            "Epoch 7/70\n",
            "750/750 [==============================] - 1s 2ms/step - loss: 0.3979 - accuracy: 0.8933 - val_loss: 0.3700 - val_accuracy: 0.9014\n",
            "Epoch 8/70\n",
            "750/750 [==============================] - 1s 2ms/step - loss: 0.3871 - accuracy: 0.8958 - val_loss: 0.3611 - val_accuracy: 0.9035\n",
            "Epoch 9/70\n",
            "750/750 [==============================] - 1s 2ms/step - loss: 0.3809 - accuracy: 0.8958 - val_loss: 0.3538 - val_accuracy: 0.9050\n",
            "Epoch 10/70\n",
            "750/750 [==============================] - 1s 2ms/step - loss: 0.3722 - accuracy: 0.8983 - val_loss: 0.3479 - val_accuracy: 0.9060\n",
            "Epoch 11/70\n",
            "750/750 [==============================] - 1s 2ms/step - loss: 0.3699 - accuracy: 0.8981 - val_loss: 0.3429 - val_accuracy: 0.9073\n",
            "Epoch 12/70\n",
            "750/750 [==============================] - 1s 2ms/step - loss: 0.3660 - accuracy: 0.8993 - val_loss: 0.3379 - val_accuracy: 0.9078\n",
            "Epoch 13/70\n",
            "750/750 [==============================] - 1s 2ms/step - loss: 0.3612 - accuracy: 0.8994 - val_loss: 0.3341 - val_accuracy: 0.9087\n",
            "Epoch 14/70\n",
            "750/750 [==============================] - 1s 2ms/step - loss: 0.3579 - accuracy: 0.9018 - val_loss: 0.3304 - val_accuracy: 0.9093\n",
            "Epoch 15/70\n",
            "750/750 [==============================] - 1s 2ms/step - loss: 0.3495 - accuracy: 0.9023 - val_loss: 0.3274 - val_accuracy: 0.9102\n",
            "Epoch 16/70\n",
            "750/750 [==============================] - 1s 2ms/step - loss: 0.3431 - accuracy: 0.9043 - val_loss: 0.3245 - val_accuracy: 0.9102\n",
            "Epoch 17/70\n",
            "750/750 [==============================] - 1s 2ms/step - loss: 0.3438 - accuracy: 0.9038 - val_loss: 0.3222 - val_accuracy: 0.9102\n",
            "Epoch 18/70\n",
            "750/750 [==============================] - 1s 2ms/step - loss: 0.3372 - accuracy: 0.9063 - val_loss: 0.3196 - val_accuracy: 0.9105\n",
            "Epoch 19/70\n",
            "750/750 [==============================] - 1s 2ms/step - loss: 0.3329 - accuracy: 0.9076 - val_loss: 0.3175 - val_accuracy: 0.9116\n",
            "Epoch 20/70\n",
            "750/750 [==============================] - 1s 2ms/step - loss: 0.3359 - accuracy: 0.9075 - val_loss: 0.3155 - val_accuracy: 0.9133\n",
            "Epoch 21/70\n",
            "750/750 [==============================] - 1s 2ms/step - loss: 0.3328 - accuracy: 0.9077 - val_loss: 0.3137 - val_accuracy: 0.9129\n",
            "Epoch 22/70\n",
            "750/750 [==============================] - 1s 2ms/step - loss: 0.3318 - accuracy: 0.9084 - val_loss: 0.3118 - val_accuracy: 0.9132\n",
            "Epoch 23/70\n",
            "750/750 [==============================] - 1s 2ms/step - loss: 0.3261 - accuracy: 0.9086 - val_loss: 0.3102 - val_accuracy: 0.9137\n",
            "Epoch 24/70\n",
            "750/750 [==============================] - 1s 2ms/step - loss: 0.3229 - accuracy: 0.9097 - val_loss: 0.3087 - val_accuracy: 0.9143\n",
            "Epoch 25/70\n",
            "750/750 [==============================] - 1s 2ms/step - loss: 0.3226 - accuracy: 0.9113 - val_loss: 0.3072 - val_accuracy: 0.9148\n",
            "Epoch 26/70\n",
            "750/750 [==============================] - 1s 2ms/step - loss: 0.3190 - accuracy: 0.9112 - val_loss: 0.3063 - val_accuracy: 0.9151\n",
            "Epoch 27/70\n",
            "750/750 [==============================] - 1s 2ms/step - loss: 0.3218 - accuracy: 0.9107 - val_loss: 0.3050 - val_accuracy: 0.9162\n",
            "Epoch 28/70\n",
            "750/750 [==============================] - 1s 2ms/step - loss: 0.3144 - accuracy: 0.9115 - val_loss: 0.3038 - val_accuracy: 0.9162\n",
            "Epoch 29/70\n",
            "750/750 [==============================] - 1s 2ms/step - loss: 0.3141 - accuracy: 0.9136 - val_loss: 0.3025 - val_accuracy: 0.9150\n",
            "Epoch 30/70\n",
            "750/750 [==============================] - 1s 2ms/step - loss: 0.3187 - accuracy: 0.9114 - val_loss: 0.3016 - val_accuracy: 0.9156\n",
            "Epoch 31/70\n",
            "750/750 [==============================] - 1s 2ms/step - loss: 0.3120 - accuracy: 0.9132 - val_loss: 0.3004 - val_accuracy: 0.9162\n",
            "Epoch 32/70\n",
            "750/750 [==============================] - 1s 2ms/step - loss: 0.3097 - accuracy: 0.9146 - val_loss: 0.2997 - val_accuracy: 0.9169\n",
            "Epoch 33/70\n",
            "750/750 [==============================] - 1s 2ms/step - loss: 0.3136 - accuracy: 0.9126 - val_loss: 0.2988 - val_accuracy: 0.9168\n",
            "Epoch 34/70\n",
            "750/750 [==============================] - 1s 2ms/step - loss: 0.3116 - accuracy: 0.9155 - val_loss: 0.2978 - val_accuracy: 0.9172\n",
            "Epoch 35/70\n",
            "750/750 [==============================] - 1s 2ms/step - loss: 0.3051 - accuracy: 0.9161 - val_loss: 0.2972 - val_accuracy: 0.9168\n",
            "Epoch 36/70\n",
            "750/750 [==============================] - 1s 2ms/step - loss: 0.3102 - accuracy: 0.9131 - val_loss: 0.2962 - val_accuracy: 0.9173\n",
            "Epoch 37/70\n",
            "750/750 [==============================] - 1s 2ms/step - loss: 0.3177 - accuracy: 0.9108 - val_loss: 0.2956 - val_accuracy: 0.9173\n",
            "Epoch 38/70\n",
            "750/750 [==============================] - 1s 2ms/step - loss: 0.3067 - accuracy: 0.9153 - val_loss: 0.2950 - val_accuracy: 0.9168\n",
            "Epoch 39/70\n",
            "750/750 [==============================] - 1s 2ms/step - loss: 0.3062 - accuracy: 0.9157 - val_loss: 0.2941 - val_accuracy: 0.9183\n",
            "Epoch 40/70\n",
            "750/750 [==============================] - 1s 2ms/step - loss: 0.3016 - accuracy: 0.9174 - val_loss: 0.2933 - val_accuracy: 0.9184\n",
            "Epoch 41/70\n",
            "750/750 [==============================] - 1s 2ms/step - loss: 0.2976 - accuracy: 0.9173 - val_loss: 0.2928 - val_accuracy: 0.9187\n",
            "Epoch 42/70\n",
            "750/750 [==============================] - 1s 2ms/step - loss: 0.2960 - accuracy: 0.9176 - val_loss: 0.2923 - val_accuracy: 0.9182\n",
            "Epoch 43/70\n",
            "750/750 [==============================] - 1s 2ms/step - loss: 0.2992 - accuracy: 0.9180 - val_loss: 0.2916 - val_accuracy: 0.9192\n",
            "Epoch 44/70\n",
            "750/750 [==============================] - 1s 2ms/step - loss: 0.2949 - accuracy: 0.9180 - val_loss: 0.2912 - val_accuracy: 0.9190\n",
            "Epoch 45/70\n",
            "750/750 [==============================] - 1s 2ms/step - loss: 0.3012 - accuracy: 0.9177 - val_loss: 0.2904 - val_accuracy: 0.9194\n",
            "Epoch 46/70\n",
            "750/750 [==============================] - 1s 2ms/step - loss: 0.2972 - accuracy: 0.9179 - val_loss: 0.2900 - val_accuracy: 0.9187\n",
            "Epoch 47/70\n",
            "750/750 [==============================] - 1s 2ms/step - loss: 0.2906 - accuracy: 0.9192 - val_loss: 0.2895 - val_accuracy: 0.9188\n",
            "Epoch 48/70\n",
            "750/750 [==============================] - 1s 2ms/step - loss: 0.2936 - accuracy: 0.9193 - val_loss: 0.2889 - val_accuracy: 0.9193\n",
            "Epoch 49/70\n",
            "750/750 [==============================] - 1s 2ms/step - loss: 0.2982 - accuracy: 0.9167 - val_loss: 0.2887 - val_accuracy: 0.9190\n",
            "Epoch 50/70\n",
            "750/750 [==============================] - 1s 2ms/step - loss: 0.2947 - accuracy: 0.9173 - val_loss: 0.2882 - val_accuracy: 0.9191\n",
            "Epoch 51/70\n",
            "750/750 [==============================] - 1s 2ms/step - loss: 0.2948 - accuracy: 0.9185 - val_loss: 0.2878 - val_accuracy: 0.9204\n",
            "Epoch 52/70\n",
            "750/750 [==============================] - 1s 2ms/step - loss: 0.2976 - accuracy: 0.9168 - val_loss: 0.2872 - val_accuracy: 0.9202\n",
            "Epoch 53/70\n",
            "750/750 [==============================] - 1s 2ms/step - loss: 0.2915 - accuracy: 0.9189 - val_loss: 0.2869 - val_accuracy: 0.9200\n",
            "Epoch 54/70\n",
            "750/750 [==============================] - 1s 2ms/step - loss: 0.3017 - accuracy: 0.9151 - val_loss: 0.2864 - val_accuracy: 0.9200\n",
            "Epoch 55/70\n",
            "750/750 [==============================] - 1s 2ms/step - loss: 0.2912 - accuracy: 0.9182 - val_loss: 0.2861 - val_accuracy: 0.9198\n",
            "Epoch 56/70\n",
            "750/750 [==============================] - 1s 2ms/step - loss: 0.2867 - accuracy: 0.9185 - val_loss: 0.2857 - val_accuracy: 0.9210\n",
            "Epoch 57/70\n",
            "750/750 [==============================] - 1s 2ms/step - loss: 0.2859 - accuracy: 0.9201 - val_loss: 0.2853 - val_accuracy: 0.9204\n",
            "Epoch 58/70\n",
            "750/750 [==============================] - 1s 2ms/step - loss: 0.2921 - accuracy: 0.9200 - val_loss: 0.2849 - val_accuracy: 0.9207\n",
            "Epoch 59/70\n",
            "750/750 [==============================] - 1s 2ms/step - loss: 0.2893 - accuracy: 0.9192 - val_loss: 0.2846 - val_accuracy: 0.9204\n",
            "Epoch 60/70\n",
            "750/750 [==============================] - 1s 2ms/step - loss: 0.2946 - accuracy: 0.9182 - val_loss: 0.2843 - val_accuracy: 0.9199\n",
            "Epoch 61/70\n",
            "750/750 [==============================] - 1s 2ms/step - loss: 0.2928 - accuracy: 0.9180 - val_loss: 0.2841 - val_accuracy: 0.9211\n",
            "Epoch 62/70\n",
            "750/750 [==============================] - 1s 2ms/step - loss: 0.2865 - accuracy: 0.9217 - val_loss: 0.2834 - val_accuracy: 0.9211\n",
            "Epoch 63/70\n",
            "750/750 [==============================] - 1s 2ms/step - loss: 0.2903 - accuracy: 0.9200 - val_loss: 0.2833 - val_accuracy: 0.9208\n",
            "Epoch 64/70\n",
            "750/750 [==============================] - 1s 2ms/step - loss: 0.2855 - accuracy: 0.9207 - val_loss: 0.2830 - val_accuracy: 0.9209\n",
            "Epoch 65/70\n",
            "750/750 [==============================] - 1s 2ms/step - loss: 0.2888 - accuracy: 0.9194 - val_loss: 0.2827 - val_accuracy: 0.9207\n",
            "Epoch 66/70\n",
            "750/750 [==============================] - 1s 2ms/step - loss: 0.2901 - accuracy: 0.9189 - val_loss: 0.2823 - val_accuracy: 0.9210\n",
            "Epoch 67/70\n",
            "750/750 [==============================] - 1s 2ms/step - loss: 0.2816 - accuracy: 0.9215 - val_loss: 0.2820 - val_accuracy: 0.9208\n",
            "Epoch 68/70\n",
            "750/750 [==============================] - 1s 2ms/step - loss: 0.2914 - accuracy: 0.9188 - val_loss: 0.2820 - val_accuracy: 0.9212\n",
            "Epoch 69/70\n",
            "750/750 [==============================] - 1s 2ms/step - loss: 0.2815 - accuracy: 0.9209 - val_loss: 0.2816 - val_accuracy: 0.9218\n",
            "Epoch 70/70\n",
            "750/750 [==============================] - 1s 2ms/step - loss: 0.2797 - accuracy: 0.9212 - val_loss: 0.2814 - val_accuracy: 0.9205\n"
          ],
          "name": "stdout"
        }
      ]
    },
    {
      "cell_type": "code",
      "metadata": {
        "id": "hof2yoiDBCab",
        "colab": {
          "base_uri": "https://localhost:8080/",
          "height": 592
        },
        "outputId": "42360ca1-88ca-42ae-94f8-ec07834bb1e9"
      },
      "source": [
        "import matplotlib.pyplot as plt\n",
        "%matplotlib inline\n",
        "# list all data in training\n",
        "print(training.history.keys())\n",
        "# summarize training for accuracy\n",
        "plt.plot(training.history['accuracy'])\n",
        "plt.plot(training.history['val_accuracy'])\n",
        "plt.title('model accuracy')\n",
        "plt.ylabel('accuracy')\n",
        "plt.xlabel('epoch')\n",
        "plt.legend(['train', 'test'], loc='upper left')\n",
        "plt.show()\n",
        "# summarize traning for loss\n",
        "plt.plot(training.history['loss'])\n",
        "plt.plot(training.history['val_loss'])\n",
        "plt.title('model loss')\n",
        "plt.ylabel('loss')\n",
        "plt.xlabel('epoch')\n",
        "plt.legend(['train', 'test'], loc='upper left')\n",
        "plt.show()"
      ],
      "execution_count": 19,
      "outputs": [
        {
          "output_type": "stream",
          "text": [
            "dict_keys(['loss', 'accuracy', 'val_loss', 'val_accuracy'])\n"
          ],
          "name": "stdout"
        },
        {
          "output_type": "display_data",
          "data": {
            "image/png": "[encoded data removed]",
            "text/plain": [
              "<Figure size 432x288 with 1 Axes>"
            ]
          },
          "metadata": {
            "tags": [],
            "needs_background": "light"
          }
        },
        {
          "output_type": "display_data",
          "data": {
            "image/png": "[encoded data removed]",
            "text/plain": [
              "<Figure size 432x288 with 1 Axes>"
            ]
          },
          "metadata": {
            "tags": [],
            "needs_background": "light"
          }
        }
      ]
    },
    {
      "cell_type": "code",
      "metadata": {
        "id": "SzP_B7w7_1tj",
        "colab": {
          "base_uri": "https://localhost:8080/"
        },
        "outputId": "5349f2a0-5443-4460-93de-5090e2bf1446"
      },
      "source": [
        "#evaluate the model\n",
        "test_loss, test_acc = model_0.evaluate(X_test, Y_test)\n",
        "print('Test accuracy:', test_acc)"
      ],
      "execution_count": 20,
      "outputs": [
        {
          "output_type": "stream",
          "text": [
            "313/313 [==============================] - 0s 998us/step - loss: 0.2826 - accuracy: 0.9211\n",
            "Test accuracy: 0.9211000204086304\n"
          ],
          "name": "stdout"
        }
      ]
    },
    {
      "cell_type": "code",
      "metadata": {
        "id": "ZrHaOTYTaukM",
        "colab": {
          "base_uri": "https://localhost:8080/"
        },
        "outputId": "7c57631d-f197-413a-859d-18d611b3ae1b"
      },
      "source": [
        "model_0.summary()"
      ],
      "execution_count": 22,
      "outputs": [
        {
          "output_type": "stream",
          "text": [
            "Model: \"sequential\"\n",
            "_________________________________________________________________\n",
            "Layer (type)                 Output Shape              Param #   \n",
            "=================================================================\n",
            "dense_layer (Dense)          (None, 10)                7850      \n",
            "=================================================================\n",
            "Total params: 7,850\n",
            "Trainable params: 7,850\n",
            "Non-trainable params: 0\n",
            "_________________________________________________________________\n"
          ],
          "name": "stdout"
        }
      ]
    },
    {
      "cell_type": "code",
      "metadata": {
        "id": "SsL3O8UfartE",
        "colab": {
          "base_uri": "https://localhost:8080/",
          "height": 336
        },
        "outputId": "704b1c98-7c17-4f3b-c908-7b5f094e3d11"
      },
      "source": [
        "model_0.get_config()"
      ],
      "execution_count": null,
      "outputs": [
        {
          "output_type": "execute_result",
          "data": {
            "text/plain": [
              "{'build_input_shape': TensorShape([None, 784]),\n",
              " 'layers': [{'class_name': 'Dense',\n",
              "   'config': {'activation': 'softmax',\n",
              "    'activity_regularizer': None,\n",
              "    'batch_input_shape': (None, 784),\n",
              "    'bias_constraint': None,\n",
              "    'bias_initializer': {'class_name': 'Zeros', 'config': {}},\n",
              "    'bias_regularizer': None,\n",
              "    'dtype': 'float32',\n",
              "    'kernel_constraint': None,\n",
              "    'kernel_initializer': {'class_name': 'GlorotUniform',\n",
              "     'config': {'seed': None}},\n",
              "    'kernel_regularizer': None,\n",
              "    'name': 'dense_layer',\n",
              "    'trainable': True,\n",
              "    'units': 10,\n",
              "    'use_bias': True}}],\n",
              " 'name': 'sequential_8'}"
            ]
          },
          "metadata": {
            "tags": []
          },
          "execution_count": 78
        }
      ]
    },
    {
      "cell_type": "markdown",
      "metadata": {
        "id": "n8iGAu5OAO5Y"
      },
      "source": [
        "###Improved Model 1: Adding Hidden Layer - Multi Layer Perceptron "
      ]
    },
    {
      "cell_type": "code",
      "metadata": {
        "id": "uWzp534nCRy3"
      },
      "source": [
        "import tensorflow as tf\r\n",
        "from tensorflow.keras.layers import Dense\r\n",
        "from tensorflow.keras import Sequential\r\n",
        "model_0 = Sequential()\r\n",
        "# Now the model will take as input arrays of shape (*, 784)# and output arrays of shape (*, 10)\r\n",
        "model_0.add(Dense(10,input_shape=(784,),name='dense_layer', activation='softmax')) "
      ],
      "execution_count": null,
      "outputs": []
    },
    {
      "cell_type": "code",
      "metadata": {
        "id": "VVkZL5uiAhJB"
      },
      "source": [
        "import tensorflow as tf\n",
        "from tensorflow.keras.layers import Dense\n",
        "from tensorflow.keras import Sequential\n",
        "\n",
        "#Most common type of model is a stack of layers\n",
        "model_1 = tf.keras.Sequential()\n",
        "N_hidden = 64\n",
        "# Adds a densely-connected layer with 64 units to the model:\n",
        "model_1.add(Dense(N_hidden, name='dense_layer_1', input_shape=(784,), activation = 'relu'))\n",
        "# Now the model will take as input arrays of shape (*, 784)# and output arrays of shape (*, 64)\n",
        "\n",
        "# Adding another dense layer:\n",
        "#model_1.add(Dense(N_hidden, name='dense_layer_2', activation='relu'))\n",
        "# After the first layer, you don't need to specify\u000b# the size of the input anymore:\n",
        "# Add an output layer with 10 output units (10 different classes):\n",
        "model_1.add(Dense(10, name='dense_layer_3', activation = 'softmax'))"
      ],
      "execution_count": 23,
      "outputs": []
    },
    {
      "cell_type": "code",
      "metadata": {
        "id": "MiYit8ATfCXw"
      },
      "source": [
        "# Compiling the model.\n",
        "model_1.compile(optimizer='SGD', \n",
        "              loss='categorical_crossentropy',\n",
        "              metrics=['accuracy'])"
      ],
      "execution_count": 24,
      "outputs": []
    },
    {
      "cell_type": "code",
      "metadata": {
        "id": "qeWrSoxzfCYE",
        "colab": {
          "base_uri": "https://localhost:8080/"
        },
        "outputId": "51830dc4-24a0-42fa-eb8a-f277f5a2aaa6"
      },
      "source": [
        "# Training the model. \n",
        "training = model_1.fit(X_train, Y_train, batch_size=64, epochs=100, validation_split=0.2) "
      ],
      "execution_count": 25,
      "outputs": [
        {
          "output_type": "stream",
          "text": [
            "Epoch 1/100\n",
            "750/750 [==============================] - 2s 2ms/step - loss: 1.4453 - accuracy: 0.5990 - val_loss: 0.5090 - val_accuracy: 0.8742\n",
            "Epoch 2/100\n",
            "750/750 [==============================] - 2s 2ms/step - loss: 0.4991 - accuracy: 0.8718 - val_loss: 0.3842 - val_accuracy: 0.8982\n",
            "Epoch 3/100\n",
            "750/750 [==============================] - 2s 2ms/step - loss: 0.4049 - accuracy: 0.8899 - val_loss: 0.3394 - val_accuracy: 0.9082\n",
            "Epoch 4/100\n",
            "750/750 [==============================] - 2s 2ms/step - loss: 0.3562 - accuracy: 0.9009 - val_loss: 0.3135 - val_accuracy: 0.9133\n",
            "Epoch 5/100\n",
            "750/750 [==============================] - 2s 2ms/step - loss: 0.3207 - accuracy: 0.9118 - val_loss: 0.2954 - val_accuracy: 0.9174\n",
            "Epoch 6/100\n",
            "750/750 [==============================] - 2s 2ms/step - loss: 0.3154 - accuracy: 0.9113 - val_loss: 0.2809 - val_accuracy: 0.9207\n",
            "Epoch 7/100\n",
            "750/750 [==============================] - 2s 2ms/step - loss: 0.2965 - accuracy: 0.9160 - val_loss: 0.2701 - val_accuracy: 0.9236\n",
            "Epoch 8/100\n",
            "750/750 [==============================] - 2s 2ms/step - loss: 0.2791 - accuracy: 0.9209 - val_loss: 0.2601 - val_accuracy: 0.9270\n",
            "Epoch 9/100\n",
            "750/750 [==============================] - 2s 2ms/step - loss: 0.2699 - accuracy: 0.9230 - val_loss: 0.2513 - val_accuracy: 0.9293\n",
            "Epoch 10/100\n",
            "750/750 [==============================] - 2s 2ms/step - loss: 0.2539 - accuracy: 0.9273 - val_loss: 0.2443 - val_accuracy: 0.9308\n",
            "Epoch 11/100\n",
            "750/750 [==============================] - 2s 2ms/step - loss: 0.2494 - accuracy: 0.9292 - val_loss: 0.2369 - val_accuracy: 0.9334\n",
            "Epoch 12/100\n",
            "750/750 [==============================] - 2s 2ms/step - loss: 0.2468 - accuracy: 0.9304 - val_loss: 0.2302 - val_accuracy: 0.9351\n",
            "Epoch 13/100\n",
            "750/750 [==============================] - 2s 2ms/step - loss: 0.2386 - accuracy: 0.9321 - val_loss: 0.2237 - val_accuracy: 0.9372\n",
            "Epoch 14/100\n",
            "750/750 [==============================] - 2s 2ms/step - loss: 0.2237 - accuracy: 0.9366 - val_loss: 0.2189 - val_accuracy: 0.9373\n",
            "Epoch 15/100\n",
            "750/750 [==============================] - 2s 2ms/step - loss: 0.2219 - accuracy: 0.9368 - val_loss: 0.2134 - val_accuracy: 0.9402\n",
            "Epoch 16/100\n",
            "750/750 [==============================] - 2s 2ms/step - loss: 0.2139 - accuracy: 0.9396 - val_loss: 0.2085 - val_accuracy: 0.9407\n",
            "Epoch 17/100\n",
            "750/750 [==============================] - 2s 2ms/step - loss: 0.2082 - accuracy: 0.9412 - val_loss: 0.2036 - val_accuracy: 0.9426\n",
            "Epoch 18/100\n",
            "750/750 [==============================] - 2s 2ms/step - loss: 0.2014 - accuracy: 0.9424 - val_loss: 0.1993 - val_accuracy: 0.9447\n",
            "Epoch 19/100\n",
            "750/750 [==============================] - 2s 2ms/step - loss: 0.1948 - accuracy: 0.9441 - val_loss: 0.1955 - val_accuracy: 0.9462\n",
            "Epoch 20/100\n",
            "750/750 [==============================] - 2s 2ms/step - loss: 0.1906 - accuracy: 0.9473 - val_loss: 0.1919 - val_accuracy: 0.9469\n",
            "Epoch 21/100\n",
            "750/750 [==============================] - 2s 2ms/step - loss: 0.1863 - accuracy: 0.9474 - val_loss: 0.1877 - val_accuracy: 0.9490\n",
            "Epoch 22/100\n",
            "750/750 [==============================] - 2s 2ms/step - loss: 0.1860 - accuracy: 0.9486 - val_loss: 0.1841 - val_accuracy: 0.9499\n",
            "Epoch 23/100\n",
            "750/750 [==============================] - 2s 2ms/step - loss: 0.1746 - accuracy: 0.9512 - val_loss: 0.1824 - val_accuracy: 0.9502\n",
            "Epoch 24/100\n",
            "750/750 [==============================] - 2s 2ms/step - loss: 0.1729 - accuracy: 0.9508 - val_loss: 0.1793 - val_accuracy: 0.9509\n",
            "Epoch 25/100\n",
            "750/750 [==============================] - 2s 2ms/step - loss: 0.1700 - accuracy: 0.9511 - val_loss: 0.1756 - val_accuracy: 0.9526\n",
            "Epoch 26/100\n",
            "750/750 [==============================] - 2s 2ms/step - loss: 0.1667 - accuracy: 0.9536 - val_loss: 0.1724 - val_accuracy: 0.9537\n",
            "Epoch 27/100\n",
            "750/750 [==============================] - 2s 2ms/step - loss: 0.1655 - accuracy: 0.9532 - val_loss: 0.1693 - val_accuracy: 0.9544\n",
            "Epoch 28/100\n",
            "750/750 [==============================] - 2s 2ms/step - loss: 0.1594 - accuracy: 0.9544 - val_loss: 0.1670 - val_accuracy: 0.9547\n",
            "Epoch 29/100\n",
            "750/750 [==============================] - 2s 2ms/step - loss: 0.1577 - accuracy: 0.9543 - val_loss: 0.1652 - val_accuracy: 0.9553\n",
            "Epoch 30/100\n",
            "750/750 [==============================] - 2s 2ms/step - loss: 0.1557 - accuracy: 0.9559 - val_loss: 0.1624 - val_accuracy: 0.9563\n",
            "Epoch 31/100\n",
            "750/750 [==============================] - 2s 2ms/step - loss: 0.1511 - accuracy: 0.9560 - val_loss: 0.1599 - val_accuracy: 0.9567\n",
            "Epoch 32/100\n",
            "750/750 [==============================] - 2s 2ms/step - loss: 0.1490 - accuracy: 0.9572 - val_loss: 0.1577 - val_accuracy: 0.9563\n",
            "Epoch 33/100\n",
            "750/750 [==============================] - 2s 2ms/step - loss: 0.1482 - accuracy: 0.9580 - val_loss: 0.1560 - val_accuracy: 0.9575\n",
            "Epoch 34/100\n",
            "750/750 [==============================] - 2s 2ms/step - loss: 0.1417 - accuracy: 0.9604 - val_loss: 0.1545 - val_accuracy: 0.9579\n",
            "Epoch 35/100\n",
            "750/750 [==============================] - 2s 2ms/step - loss: 0.1368 - accuracy: 0.9613 - val_loss: 0.1520 - val_accuracy: 0.9588\n",
            "Epoch 36/100\n",
            "750/750 [==============================] - 2s 2ms/step - loss: 0.1353 - accuracy: 0.9625 - val_loss: 0.1503 - val_accuracy: 0.9582\n",
            "Epoch 37/100\n",
            "750/750 [==============================] - 2s 2ms/step - loss: 0.1360 - accuracy: 0.9628 - val_loss: 0.1487 - val_accuracy: 0.9591\n",
            "Epoch 38/100\n",
            "750/750 [==============================] - 2s 2ms/step - loss: 0.1282 - accuracy: 0.9641 - val_loss: 0.1474 - val_accuracy: 0.9592\n",
            "Epoch 39/100\n",
            "750/750 [==============================] - 2s 2ms/step - loss: 0.1368 - accuracy: 0.9615 - val_loss: 0.1460 - val_accuracy: 0.9597\n",
            "Epoch 40/100\n",
            "750/750 [==============================] - 2s 2ms/step - loss: 0.1349 - accuracy: 0.9633 - val_loss: 0.1439 - val_accuracy: 0.9604\n",
            "Epoch 41/100\n",
            "750/750 [==============================] - 2s 2ms/step - loss: 0.1274 - accuracy: 0.9644 - val_loss: 0.1428 - val_accuracy: 0.9607\n",
            "Epoch 42/100\n",
            "750/750 [==============================] - 2s 2ms/step - loss: 0.1229 - accuracy: 0.9656 - val_loss: 0.1411 - val_accuracy: 0.9612\n",
            "Epoch 43/100\n",
            "750/750 [==============================] - 2s 2ms/step - loss: 0.1237 - accuracy: 0.9656 - val_loss: 0.1401 - val_accuracy: 0.9620\n",
            "Epoch 44/100\n",
            "750/750 [==============================] - 2s 2ms/step - loss: 0.1216 - accuracy: 0.9668 - val_loss: 0.1386 - val_accuracy: 0.9620\n",
            "Epoch 45/100\n",
            "750/750 [==============================] - 2s 2ms/step - loss: 0.1214 - accuracy: 0.9665 - val_loss: 0.1377 - val_accuracy: 0.9620\n",
            "Epoch 46/100\n",
            "750/750 [==============================] - 2s 2ms/step - loss: 0.1175 - accuracy: 0.9674 - val_loss: 0.1367 - val_accuracy: 0.9624\n",
            "Epoch 47/100\n",
            "750/750 [==============================] - 2s 2ms/step - loss: 0.1170 - accuracy: 0.9683 - val_loss: 0.1355 - val_accuracy: 0.9622\n",
            "Epoch 48/100\n",
            "750/750 [==============================] - 2s 2ms/step - loss: 0.1175 - accuracy: 0.9675 - val_loss: 0.1343 - val_accuracy: 0.9629\n",
            "Epoch 49/100\n",
            "750/750 [==============================] - 2s 2ms/step - loss: 0.1138 - accuracy: 0.9688 - val_loss: 0.1336 - val_accuracy: 0.9622\n",
            "Epoch 50/100\n",
            "750/750 [==============================] - 2s 2ms/step - loss: 0.1107 - accuracy: 0.9698 - val_loss: 0.1326 - val_accuracy: 0.9628\n",
            "Epoch 51/100\n",
            "750/750 [==============================] - 2s 2ms/step - loss: 0.1121 - accuracy: 0.9699 - val_loss: 0.1313 - val_accuracy: 0.9641\n",
            "Epoch 52/100\n",
            "750/750 [==============================] - 2s 2ms/step - loss: 0.1106 - accuracy: 0.9699 - val_loss: 0.1304 - val_accuracy: 0.9642\n",
            "Epoch 53/100\n",
            "750/750 [==============================] - 2s 2ms/step - loss: 0.1086 - accuracy: 0.9713 - val_loss: 0.1296 - val_accuracy: 0.9644\n",
            "Epoch 54/100\n",
            "750/750 [==============================] - 2s 2ms/step - loss: 0.1078 - accuracy: 0.9709 - val_loss: 0.1285 - val_accuracy: 0.9649\n",
            "Epoch 55/100\n",
            "750/750 [==============================] - 2s 2ms/step - loss: 0.1040 - accuracy: 0.9708 - val_loss: 0.1276 - val_accuracy: 0.9652\n",
            "Epoch 56/100\n",
            "750/750 [==============================] - 2s 2ms/step - loss: 0.1050 - accuracy: 0.9705 - val_loss: 0.1268 - val_accuracy: 0.9652\n",
            "Epoch 57/100\n",
            "750/750 [==============================] - 2s 2ms/step - loss: 0.1011 - accuracy: 0.9716 - val_loss: 0.1258 - val_accuracy: 0.9654\n",
            "Epoch 58/100\n",
            "750/750 [==============================] - 2s 2ms/step - loss: 0.1045 - accuracy: 0.9713 - val_loss: 0.1250 - val_accuracy: 0.9657\n",
            "Epoch 59/100\n",
            "750/750 [==============================] - 2s 2ms/step - loss: 0.0968 - accuracy: 0.9736 - val_loss: 0.1244 - val_accuracy: 0.9653\n",
            "Epoch 60/100\n",
            "750/750 [==============================] - 2s 2ms/step - loss: 0.0963 - accuracy: 0.9738 - val_loss: 0.1233 - val_accuracy: 0.9660\n",
            "Epoch 61/100\n",
            "750/750 [==============================] - 2s 2ms/step - loss: 0.0960 - accuracy: 0.9742 - val_loss: 0.1226 - val_accuracy: 0.9657\n",
            "Epoch 62/100\n",
            "750/750 [==============================] - 2s 2ms/step - loss: 0.0978 - accuracy: 0.9736 - val_loss: 0.1217 - val_accuracy: 0.9663\n",
            "Epoch 63/100\n",
            "750/750 [==============================] - 2s 2ms/step - loss: 0.0953 - accuracy: 0.9737 - val_loss: 0.1211 - val_accuracy: 0.9662\n",
            "Epoch 64/100\n",
            "750/750 [==============================] - 2s 2ms/step - loss: 0.0933 - accuracy: 0.9743 - val_loss: 0.1209 - val_accuracy: 0.9666\n",
            "Epoch 65/100\n",
            "750/750 [==============================] - 2s 2ms/step - loss: 0.0947 - accuracy: 0.9738 - val_loss: 0.1199 - val_accuracy: 0.9668\n",
            "Epoch 66/100\n",
            "750/750 [==============================] - 2s 2ms/step - loss: 0.0930 - accuracy: 0.9764 - val_loss: 0.1189 - val_accuracy: 0.9670\n",
            "Epoch 67/100\n",
            "750/750 [==============================] - 2s 2ms/step - loss: 0.0910 - accuracy: 0.9756 - val_loss: 0.1189 - val_accuracy: 0.9675\n",
            "Epoch 68/100\n",
            "750/750 [==============================] - 2s 2ms/step - loss: 0.0905 - accuracy: 0.9757 - val_loss: 0.1180 - val_accuracy: 0.9672\n",
            "Epoch 69/100\n",
            "750/750 [==============================] - 2s 2ms/step - loss: 0.0892 - accuracy: 0.9760 - val_loss: 0.1174 - val_accuracy: 0.9673\n",
            "Epoch 70/100\n",
            "750/750 [==============================] - 2s 2ms/step - loss: 0.0881 - accuracy: 0.9763 - val_loss: 0.1170 - val_accuracy: 0.9671\n",
            "Epoch 71/100\n",
            "750/750 [==============================] - 2s 2ms/step - loss: 0.0860 - accuracy: 0.9780 - val_loss: 0.1164 - val_accuracy: 0.9674\n",
            "Epoch 72/100\n",
            "750/750 [==============================] - 2s 2ms/step - loss: 0.0900 - accuracy: 0.9752 - val_loss: 0.1155 - val_accuracy: 0.9670\n",
            "Epoch 73/100\n",
            "750/750 [==============================] - 2s 2ms/step - loss: 0.0855 - accuracy: 0.9769 - val_loss: 0.1161 - val_accuracy: 0.9669\n",
            "Epoch 74/100\n",
            "750/750 [==============================] - 2s 2ms/step - loss: 0.0855 - accuracy: 0.9771 - val_loss: 0.1153 - val_accuracy: 0.9680\n",
            "Epoch 75/100\n",
            "750/750 [==============================] - 2s 2ms/step - loss: 0.0817 - accuracy: 0.9772 - val_loss: 0.1152 - val_accuracy: 0.9669\n",
            "Epoch 76/100\n",
            "750/750 [==============================] - 2s 2ms/step - loss: 0.0818 - accuracy: 0.9785 - val_loss: 0.1140 - val_accuracy: 0.9682\n",
            "Epoch 77/100\n",
            "750/750 [==============================] - 2s 2ms/step - loss: 0.0805 - accuracy: 0.9785 - val_loss: 0.1140 - val_accuracy: 0.9683\n",
            "Epoch 78/100\n",
            "750/750 [==============================] - 2s 2ms/step - loss: 0.0763 - accuracy: 0.9796 - val_loss: 0.1134 - val_accuracy: 0.9678\n",
            "Epoch 79/100\n",
            "750/750 [==============================] - 2s 2ms/step - loss: 0.0814 - accuracy: 0.9786 - val_loss: 0.1122 - val_accuracy: 0.9686\n",
            "Epoch 80/100\n",
            "750/750 [==============================] - 2s 2ms/step - loss: 0.0803 - accuracy: 0.9785 - val_loss: 0.1123 - val_accuracy: 0.9681\n",
            "Epoch 81/100\n",
            "750/750 [==============================] - 2s 2ms/step - loss: 0.0786 - accuracy: 0.9785 - val_loss: 0.1114 - val_accuracy: 0.9681\n",
            "Epoch 82/100\n",
            "750/750 [==============================] - 2s 2ms/step - loss: 0.0780 - accuracy: 0.9794 - val_loss: 0.1111 - val_accuracy: 0.9688\n",
            "Epoch 83/100\n",
            "750/750 [==============================] - 2s 2ms/step - loss: 0.0763 - accuracy: 0.9793 - val_loss: 0.1119 - val_accuracy: 0.9676\n",
            "Epoch 84/100\n",
            "750/750 [==============================] - 2s 2ms/step - loss: 0.0752 - accuracy: 0.9806 - val_loss: 0.1110 - val_accuracy: 0.9688\n",
            "Epoch 85/100\n",
            "750/750 [==============================] - 2s 2ms/step - loss: 0.0749 - accuracy: 0.9801 - val_loss: 0.1102 - val_accuracy: 0.9682\n",
            "Epoch 86/100\n",
            "750/750 [==============================] - 2s 2ms/step - loss: 0.0732 - accuracy: 0.9808 - val_loss: 0.1094 - val_accuracy: 0.9689\n",
            "Epoch 87/100\n",
            "750/750 [==============================] - 2s 2ms/step - loss: 0.0766 - accuracy: 0.9804 - val_loss: 0.1088 - val_accuracy: 0.9684\n",
            "Epoch 88/100\n",
            "750/750 [==============================] - 2s 2ms/step - loss: 0.0741 - accuracy: 0.9811 - val_loss: 0.1092 - val_accuracy: 0.9686\n",
            "Epoch 89/100\n",
            "750/750 [==============================] - 2s 2ms/step - loss: 0.0729 - accuracy: 0.9813 - val_loss: 0.1083 - val_accuracy: 0.9689\n",
            "Epoch 90/100\n",
            "750/750 [==============================] - 2s 2ms/step - loss: 0.0740 - accuracy: 0.9799 - val_loss: 0.1081 - val_accuracy: 0.9697\n",
            "Epoch 91/100\n",
            "750/750 [==============================] - 2s 2ms/step - loss: 0.0701 - accuracy: 0.9819 - val_loss: 0.1089 - val_accuracy: 0.9684\n",
            "Epoch 92/100\n",
            "750/750 [==============================] - 2s 2ms/step - loss: 0.0713 - accuracy: 0.9812 - val_loss: 0.1076 - val_accuracy: 0.9694\n",
            "Epoch 93/100\n",
            "750/750 [==============================] - 2s 2ms/step - loss: 0.0705 - accuracy: 0.9813 - val_loss: 0.1071 - val_accuracy: 0.9695\n",
            "Epoch 94/100\n",
            "750/750 [==============================] - 2s 2ms/step - loss: 0.0695 - accuracy: 0.9822 - val_loss: 0.1065 - val_accuracy: 0.9699\n",
            "Epoch 95/100\n",
            "750/750 [==============================] - 2s 2ms/step - loss: 0.0708 - accuracy: 0.9813 - val_loss: 0.1059 - val_accuracy: 0.9701\n",
            "Epoch 96/100\n",
            "750/750 [==============================] - 2s 2ms/step - loss: 0.0702 - accuracy: 0.9816 - val_loss: 0.1063 - val_accuracy: 0.9695\n",
            "Epoch 97/100\n",
            "750/750 [==============================] - 2s 2ms/step - loss: 0.0710 - accuracy: 0.9811 - val_loss: 0.1056 - val_accuracy: 0.9700\n",
            "Epoch 98/100\n",
            "750/750 [==============================] - 2s 2ms/step - loss: 0.0642 - accuracy: 0.9832 - val_loss: 0.1058 - val_accuracy: 0.9697\n",
            "Epoch 99/100\n",
            "750/750 [==============================] - 2s 2ms/step - loss: 0.0685 - accuracy: 0.9825 - val_loss: 0.1049 - val_accuracy: 0.9700\n",
            "Epoch 100/100\n",
            "750/750 [==============================] - 2s 2ms/step - loss: 0.0656 - accuracy: 0.9819 - val_loss: 0.1048 - val_accuracy: 0.9702\n"
          ],
          "name": "stdout"
        }
      ]
    },
    {
      "cell_type": "code",
      "metadata": {
        "id": "0W6J4tagfCYR",
        "colab": {
          "base_uri": "https://localhost:8080/",
          "height": 592
        },
        "outputId": "5c011336-d403-4092-9b24-cf95b2deeebe"
      },
      "source": [
        "import matplotlib.pyplot as plt\n",
        "%matplotlib inline\n",
        "# list all data in training\n",
        "print(training.history.keys())\n",
        "# summarize training for accuracy\n",
        "plt.plot(training.history['accuracy'])\n",
        "plt.plot(training.history['val_accuracy'])\n",
        "plt.title('model accuracy')\n",
        "plt.ylabel('accuracy')\n",
        "plt.xlabel('epoch')\n",
        "plt.legend(['train', 'test'], loc='upper left')\n",
        "plt.show()\n",
        "# summarize traning for loss\n",
        "plt.plot(training.history['loss'])\n",
        "plt.plot(training.history['val_loss'])\n",
        "plt.title('model loss')\n",
        "plt.ylabel('loss')\n",
        "plt.xlabel('epoch')\n",
        "plt.legend(['train', 'test'], loc='upper left')\n",
        "plt.show()"
      ],
      "execution_count": 26,
      "outputs": [
        {
          "output_type": "stream",
          "text": [
            "dict_keys(['loss', 'accuracy', 'val_loss', 'val_accuracy'])\n"
          ],
          "name": "stdout"
        },
        {
          "output_type": "display_data",
          "data": {
            "image/png": "[encoded data removed]",
            "text/plain": [
              "<Figure size 432x288 with 1 Axes>"
            ]
          },
          "metadata": {
            "tags": [],
            "needs_background": "light"
          }
        },
        {
          "output_type": "display_data",
          "data": {
            "image/png": "[encoded data removed]",
            "text/plain": [
              "<Figure size 432x288 with 1 Axes>"
            ]
          },
          "metadata": {
            "tags": [],
            "needs_background": "light"
          }
        }
      ]
    },
    {
      "cell_type": "code",
      "metadata": {
        "id": "LG8UWh68fCYe",
        "colab": {
          "base_uri": "https://localhost:8080/"
        },
        "outputId": "8f55193c-4c37-43b6-b98b-a325efe1207a"
      },
      "source": [
        "#evaluate the model\n",
        "test_loss, test_acc = model_1.evaluate(X_test, Y_test)\n",
        "print('Test accuracy:', test_acc)"
      ],
      "execution_count": 27,
      "outputs": [
        {
          "output_type": "stream",
          "text": [
            "313/313 [==============================] - 0s 1ms/step - loss: 0.1024 - accuracy: 0.9701\n",
            "Test accuracy: 0.9700999855995178\n"
          ],
          "name": "stdout"
        }
      ]
    },
    {
      "cell_type": "code",
      "metadata": {
        "id": "iE5uSPRvfCYq",
        "colab": {
          "base_uri": "https://localhost:8080/"
        },
        "outputId": "8214a4bf-7c6d-45d5-8106-c5738da6cbc0"
      },
      "source": [
        "model_1.summary()"
      ],
      "execution_count": 28,
      "outputs": [
        {
          "output_type": "stream",
          "text": [
            "Model: \"sequential_1\"\n",
            "_________________________________________________________________\n",
            "Layer (type)                 Output Shape              Param #   \n",
            "=================================================================\n",
            "dense_layer_1 (Dense)        (None, 64)                50240     \n",
            "_________________________________________________________________\n",
            "dense_layer_3 (Dense)        (None, 10)                650       \n",
            "=================================================================\n",
            "Total params: 50,890\n",
            "Trainable params: 50,890\n",
            "Non-trainable params: 0\n",
            "_________________________________________________________________\n"
          ],
          "name": "stdout"
        }
      ]
    },
    {
      "cell_type": "code",
      "metadata": {
        "id": "p3TehZJnAlD6",
        "colab": {
          "base_uri": "https://localhost:8080/"
        },
        "outputId": "1830f88e-697b-4507-a005-969af6b995f3"
      },
      "source": [
        "model_1.weights"
      ],
      "execution_count": 29,
      "outputs": [
        {
          "output_type": "execute_result",
          "data": {
            "text/plain": [
              "[<tf.Variable 'dense_layer_1/kernel:0' shape=(784, 64) dtype=float32, numpy=\n",
              " array([[ 0.01904725,  0.07194532,  0.06299079, ...,  0.035997  ,\n",
              "          0.04665483, -0.0130634 ],\n",
              "        [ 0.01155344,  0.0660383 , -0.05517297, ..., -0.0279857 ,\n",
              "         -0.01925244, -0.08046918],\n",
              "        [-0.01960188, -0.00140365, -0.05206581, ..., -0.00844514,\n",
              "          0.03066137,  0.00409966],\n",
              "        ...,\n",
              "        [ 0.05827183,  0.03816845, -0.00919646, ...,  0.05954417,\n",
              "         -0.05020625, -0.00799128],\n",
              "        [ 0.02419444,  0.06714969,  0.05911805, ..., -0.02640077,\n",
              "         -0.02334801, -0.07278195],\n",
              "        [ 0.00799343,  0.06856898, -0.02192139, ...,  0.00045127,\n",
              "          0.0828298 ,  0.01705652]], dtype=float32)>,\n",
              " <tf.Variable 'dense_layer_1/bias:0' shape=(64,) dtype=float32, numpy=\n",
              " array([ 0.05790989,  0.06631468,  0.03682273,  0.04545351,  0.01399155,\n",
              "        -0.01858698,  0.02689691, -0.06085226, -0.16407168, -0.00839001,\n",
              "        -0.03198629,  0.16999754, -0.03916056,  0.07304989,  0.16595636,\n",
              "         0.2939429 ,  0.00513692,  0.0361494 ,  0.08090767,  0.15153849,\n",
              "         0.05648488,  0.142856  ,  0.13260199,  0.13567086, -0.14078043,\n",
              "         0.03820829, -0.10962655,  0.05384658, -0.10325404, -0.00609291,\n",
              "        -0.11081088, -0.00359085, -0.08828808,  0.03777596,  0.00957574,\n",
              "        -0.1355695 ,  0.11205202,  0.18003382,  0.12269945,  0.03939044,\n",
              "        -0.01040578, -0.04123966, -0.05758039,  0.0554565 ,  0.21594064,\n",
              "        -0.02090394, -0.04510776,  0.17602673, -0.04568129, -0.02904249,\n",
              "        -0.00200848, -0.06604682,  0.025153  ,  0.15332015, -0.10895143,\n",
              "        -0.11543291, -0.07507458,  0.06964781,  0.05093683,  0.03754269,\n",
              "         0.09984046,  0.10093005, -0.09462971,  0.01181971], dtype=float32)>,\n",
              " <tf.Variable 'dense_layer_3/kernel:0' shape=(64, 10) dtype=float32, numpy=\n",
              " array([[ 4.76164341e-01,  4.07746792e-01, -1.24453402e+00,\n",
              "         -4.54031855e-01, -2.74877727e-01,  5.24631500e-01,\n",
              "          5.17289281e-01,  7.08102524e-01, -2.18532234e-01,\n",
              "          3.74308288e-01],\n",
              "        [-8.60944912e-02,  3.00198853e-01,  1.06007136e-01,\n",
              "          3.60626489e-01, -1.25467345e-01, -9.06163514e-01,\n",
              "         -3.92637789e-01,  4.05302495e-01,  4.95259687e-02,\n",
              "          6.44001305e-01],\n",
              "        [-3.32303882e-01, -2.61888921e-01, -4.18000408e-02,\n",
              "         -2.84303635e-01,  5.70158698e-02,  2.12154418e-01,\n",
              "         -8.74543712e-02, -4.51798350e-01,  3.07308529e-02,\n",
              "          4.33516920e-01],\n",
              "        [ 2.50137031e-01,  2.35164851e-01,  1.81600690e-01,\n",
              "          4.27304894e-01, -1.04530171e-01,  3.08156252e-01,\n",
              "          5.13843894e-01, -7.68909097e-01,  4.22770590e-01,\n",
              "         -5.49381733e-01],\n",
              "        [-6.07126132e-02, -2.55656272e-01,  1.21093199e-01,\n",
              "          1.47928089e-01, -2.28140399e-01,  2.07872272e-01,\n",
              "         -2.45200366e-01, -1.36092782e-01,  3.07643652e-01,\n",
              "          4.46826816e-01],\n",
              "        [ 4.30380404e-01,  2.13574305e-01,  5.72169721e-01,\n",
              "          4.61306840e-01, -2.36882359e-01,  5.73824465e-01,\n",
              "         -6.54578805e-01,  2.45865192e-02, -8.58269632e-01,\n",
              "         -4.49095219e-01],\n",
              "        [-1.61911890e-01,  3.30566436e-01, -1.17832303e+00,\n",
              "          3.71819854e-01,  8.30700636e-01,  7.69217089e-02,\n",
              "         -5.23551583e-01, -3.21704149e-01, -8.90106335e-02,\n",
              "          7.06161737e-01],\n",
              "        [ 3.10196847e-01,  5.90961933e-01,  2.66063899e-01,\n",
              "          2.40591437e-01,  5.24888277e-01, -2.33343095e-01,\n",
              "         -5.49066700e-02,  1.40343830e-01, -7.60670543e-01,\n",
              "          1.50182575e-01],\n",
              "        [ 9.31874663e-02, -4.68705356e-01,  5.69664419e-01,\n",
              "          2.15239212e-01, -8.07013154e-01,  6.03663862e-01,\n",
              "         -4.59618628e-01, -5.04138291e-01,  4.59672064e-01,\n",
              "          2.91620106e-01],\n",
              "        [ 1.68162823e-01,  4.09601480e-02,  1.80925310e-01,\n",
              "         -4.60227787e-01,  4.69906628e-01,  2.86767259e-02,\n",
              "          4.34489667e-01, -2.95883954e-01, -4.23294067e-01,\n",
              "          6.22784257e-01],\n",
              "        [-2.44396433e-01, -3.71011227e-01, -9.54071060e-02,\n",
              "         -7.19462037e-02,  1.46737531e-01, -4.12588000e-01,\n",
              "          5.91925025e-01, -4.05942231e-01, -1.95169851e-01,\n",
              "          7.06562698e-02],\n",
              "        [-5.57795346e-01, -1.93074122e-01, -2.56999023e-03,\n",
              "         -7.20832031e-03,  4.76423025e-01,  4.95535314e-01,\n",
              "         -6.90201640e-01,  7.93766499e-01, -8.03537428e-01,\n",
              "         -9.67657790e-02],\n",
              "        [ 3.55256110e-01,  3.21222134e-02,  9.75460857e-02,\n",
              "          1.94948226e-01,  5.60386539e-01,  2.23337367e-01,\n",
              "          5.21657705e-01, -3.87320459e-01,  5.50560988e-02,\n",
              "         -7.43226111e-01],\n",
              "        [-9.29665267e-02,  5.32723367e-01,  4.03615534e-01,\n",
              "         -1.05424678e+00,  4.48782831e-01, -1.96653306e-01,\n",
              "          3.31566155e-01,  6.66652799e-01, -1.31612688e-01,\n",
              "         -2.80624419e-01],\n",
              "        [-3.57554823e-01, -3.93278718e-01,  1.04835343e+00,\n",
              "         -2.13177502e-01,  3.47880125e-02,  3.39798778e-01,\n",
              "          3.19126785e-01, -6.45142853e-01, -7.32983470e-01,\n",
              "          4.95937318e-01],\n",
              "        [-4.03189063e-01,  3.47610623e-01, -9.20197308e-01,\n",
              "         -8.92238022e-05, -2.53903657e-01,  1.06398034e+00,\n",
              "         -1.50815472e-01, -5.64590432e-02, -1.89335883e-01,\n",
              "         -3.61432284e-01],\n",
              "        [ 3.75129938e-01,  6.47442564e-02,  2.59587377e-01,\n",
              "          3.23823690e-01,  9.88654196e-02,  7.26121515e-02,\n",
              "          1.05951704e-01,  4.40878063e-01, -6.88111424e-01,\n",
              "         -8.20398033e-01],\n",
              "        [-2.00012192e-01,  1.81071475e-01,  4.56023589e-02,\n",
              "          3.17044050e-01, -1.82783455e-01,  3.72317404e-01,\n",
              "         -1.97130829e-01, -1.15284048e-01,  2.87435114e-01,\n",
              "          3.83364379e-01],\n",
              "        [-6.55053705e-02, -3.21505547e-01, -2.26572812e-01,\n",
              "         -5.13229609e-01,  1.80868488e-02,  3.77371401e-01,\n",
              "          6.15602434e-01, -5.26747406e-01,  3.79384965e-01,\n",
              "         -1.23359919e-01],\n",
              "        [ 1.84376184e-02,  2.92313010e-01, -6.25197589e-01,\n",
              "          2.31515303e-01, -1.24665491e-01, -1.65064439e-01,\n",
              "          3.14152837e-01,  8.68400514e-01, -2.52030879e-01,\n",
              "         -2.54786968e-01],\n",
              "        [-4.33590144e-01,  5.75241387e-01, -1.06890082e-01,\n",
              "          5.14728069e-01,  4.95570749e-01, -1.26034141e+00,\n",
              "         -1.67330280e-01, -1.65425643e-01, -3.94662142e-01,\n",
              "          3.63471478e-01],\n",
              "        [ 3.57846245e-02,  3.98323864e-01,  3.96817662e-02,\n",
              "         -1.41071051e-01, -5.16309202e-01,  3.74532014e-01,\n",
              "         -9.66985002e-02, -5.85449100e-01,  3.96525472e-01,\n",
              "         -4.48008180e-02],\n",
              "        [ 3.25644873e-02, -2.10787028e-01, -2.30291203e-01,\n",
              "          7.12015748e-01, -6.62709534e-01,  1.15250635e+00,\n",
              "          5.17460145e-02,  4.58571315e-01, -9.36330318e-01,\n",
              "         -3.20986748e-01],\n",
              "        [-1.51706934e-01,  7.62999281e-02, -4.13303882e-01,\n",
              "         -1.07086062e+00,  4.24593419e-01,  4.22651649e-01,\n",
              "          4.45720643e-01, -5.07570803e-01,  2.85403192e-01,\n",
              "          6.90740287e-01],\n",
              "        [ 6.42752349e-01, -4.59400803e-01,  4.33193564e-01,\n",
              "         -1.31342024e-01,  2.23383363e-02, -2.36239299e-01,\n",
              "          5.68731606e-01, -1.89163461e-01, -8.84807765e-01,\n",
              "          2.47792363e-01],\n",
              "        [-1.29981503e-01, -4.06029373e-01,  4.41954643e-01,\n",
              "          9.12344607e-04, -1.15833998e+00,  1.00561690e+00,\n",
              "         -3.53380591e-01,  5.87301970e-01,  9.65243205e-02,\n",
              "         -3.12258452e-01],\n",
              "        [-8.83971751e-02, -3.83121222e-01,  1.28710166e-01,\n",
              "          1.98176160e-01,  9.16028570e-04, -5.18335998e-01,\n",
              "          4.35922951e-01, -2.49120742e-01,  3.72823775e-01,\n",
              "         -1.71920538e-01],\n",
              "        [-1.72604918e-02,  2.83776969e-01,  3.80659193e-01,\n",
              "         -6.68283284e-01,  2.84652382e-01, -4.30320531e-01,\n",
              "          2.76825756e-01,  1.34501725e-01,  1.24269746e-01,\n",
              "          1.36977613e-01],\n",
              "        [-4.22004968e-01, -6.40019417e-01,  2.37220481e-01,\n",
              "          7.21046090e-01, -3.96413356e-01, -2.70308942e-01,\n",
              "         -6.80866688e-02, -3.28985691e-01, -2.51256209e-02,\n",
              "          7.06976056e-01],\n",
              "        [ 2.34045893e-01,  6.61267340e-01,  3.73873770e-01,\n",
              "          5.87509088e-02,  8.40606019e-02,  1.42674908e-01,\n",
              "          2.91800439e-01, -1.47965938e-01, -9.58091736e-01,\n",
              "          4.90790121e-02],\n",
              "        [-1.74146682e-01,  2.79658586e-01,  4.48045552e-01,\n",
              "          4.51633990e-01, -1.38177216e-01, -1.57913610e-01,\n",
              "         -4.84861255e-01,  8.74611974e-01, -3.60440016e-01,\n",
              "         -7.61954784e-01],\n",
              "        [-3.58045101e-01, -3.29589933e-01, -3.95020306e-01,\n",
              "          6.01157606e-01,  1.42264636e-02, -4.12275851e-01,\n",
              "          1.99299544e-01, -1.07041977e-01, -4.96023186e-02,\n",
              "          3.44602019e-01],\n",
              "        [-2.80736029e-01, -4.75414187e-01, -5.11222363e-01,\n",
              "          3.11671942e-01, -3.74252409e-01,  1.04613535e-01,\n",
              "         -9.17764828e-02, -3.64950299e-01,  4.72849518e-01,\n",
              "          1.26694426e-01],\n",
              "        [-6.84736669e-02, -1.18734665e-01,  7.96783030e-01,\n",
              "         -4.87711221e-01, -4.35945153e-01,  1.83345050e-01,\n",
              "          1.19366147e-01,  4.88368809e-01,  2.33108044e-01,\n",
              "         -7.40931511e-01],\n",
              "        [-9.07658115e-02,  1.88816443e-01, -2.57568300e-01,\n",
              "          1.96865454e-01,  4.03846860e-01, -2.85076141e-01,\n",
              "          8.12646747e-03, -2.70642072e-01,  3.86735767e-01,\n",
              "         -9.20337588e-02],\n",
              "        [-7.67959058e-02, -5.27559340e-01,  3.58347654e-01,\n",
              "          1.80479988e-01, -2.35313237e-01, -3.85091305e-01,\n",
              "         -3.73021252e-02, -1.80335432e-01,  1.50431901e-01,\n",
              "         -5.53064346e-01],\n",
              "        [ 8.76711234e-02,  4.67395008e-01, -2.76010782e-02,\n",
              "          3.18702370e-01,  5.57509542e-01, -3.68948966e-01,\n",
              "         -9.29538310e-02,  7.22983778e-01, -5.97468853e-01,\n",
              "         -8.72235537e-01],\n",
              "        [ 3.25499117e-01, -6.33390844e-02, -3.06686252e-01,\n",
              "         -3.76076967e-01,  3.25927794e-01,  4.23580468e-01,\n",
              "         -1.25497773e-01,  1.19129024e-01,  1.07700735e-01,\n",
              "          4.14427608e-01],\n",
              "        [ 2.48062700e-01, -4.13118869e-01, -5.69119453e-01,\n",
              "          1.67279858e-02, -3.83363366e-01,  2.57529557e-01,\n",
              "         -2.95070857e-01,  3.99193466e-01,  4.05633748e-01,\n",
              "          4.53859895e-01],\n",
              "        [ 3.12569998e-02,  1.28922656e-01,  8.19857642e-02,\n",
              "         -3.65016431e-01, -2.42844746e-01, -1.67240620e-01,\n",
              "          6.15018964e-01, -3.02092671e-01,  1.51177615e-01,\n",
              "         -7.89750874e-01],\n",
              "        [-1.77782118e-01, -1.58162639e-01, -1.98747903e-01,\n",
              "          2.97803104e-01, -3.46997619e-01, -9.11006257e-02,\n",
              "         -5.17945826e-01,  1.08887561e-01,  3.09427679e-01,\n",
              "          2.57424980e-01],\n",
              "        [ 8.89578015e-02, -4.73588482e-02,  2.34375149e-01,\n",
              "          1.71888769e-02,  7.13112295e-01, -6.51327431e-01,\n",
              "         -4.44556832e-01,  3.31056416e-01, -1.54644355e-01,\n",
              "         -3.10533077e-01],\n",
              "        [-9.26007807e-01,  4.95989740e-01,  3.02388985e-02,\n",
              "          3.75121444e-01, -3.37692559e-01,  1.05014980e+00,\n",
              "         -4.91049767e-01, -3.56847793e-01, -1.74471736e-01,\n",
              "          4.07235213e-02],\n",
              "        [ 1.78730533e-01,  3.85382026e-02,  2.99790382e-01,\n",
              "         -3.51853132e-01, -2.65213996e-01,  8.94480169e-01,\n",
              "         -2.23109901e-01, -2.36335676e-02, -6.17464125e-01,\n",
              "          6.60721436e-02],\n",
              "        [-2.32490435e-01, -5.03505349e-01, -2.26470470e-01,\n",
              "         -5.55583715e-01,  1.37833729e-01,  1.59189329e-01,\n",
              "          2.94650078e-01,  4.27714616e-01,  2.59491891e-01,\n",
              "         -2.93246787e-02],\n",
              "        [-1.67856902e-01,  8.57820332e-01, -1.82970330e-01,\n",
              "         -7.47661889e-02,  4.76474315e-01, -3.21358889e-01,\n",
              "          1.05031081e-01, -1.04775466e-01, -4.32207167e-01,\n",
              "         -5.94195426e-02],\n",
              "        [ 4.67085451e-01, -2.58532584e-01,  4.46042717e-01,\n",
              "         -8.48844409e-01, -1.78850606e-01, -6.64325118e-01,\n",
              "         -1.09766312e-02, -1.49915636e-01,  9.14808512e-01,\n",
              "         -1.92682549e-01],\n",
              "        [-6.54079854e-01, -8.41744617e-02, -1.84042975e-01,\n",
              "         -4.54794586e-01,  6.47578657e-01,  4.52720195e-01,\n",
              "         -4.42133099e-01,  7.81782866e-02,  7.99265921e-01,\n",
              "         -3.90694439e-01],\n",
              "        [ 1.06833756e-01, -7.08324313e-02,  3.53455961e-01,\n",
              "         -2.66072184e-01,  4.88893718e-01, -6.77232087e-01,\n",
              "         -3.77064198e-01,  7.36130238e-01, -9.94420409e-01,\n",
              "          5.46215653e-01],\n",
              "        [ 2.65621711e-02, -2.04823822e-01,  8.15281928e-01,\n",
              "          4.94507164e-01,  4.45220619e-01, -3.59492570e-01,\n",
              "          1.06022798e-01,  6.25835825e-03, -6.15862072e-01,\n",
              "         -1.25968230e+00],\n",
              "        [-3.78379762e-01,  4.31715220e-01,  1.39044851e-01,\n",
              "          1.86435238e-01,  6.54123247e-01, -6.07323587e-01,\n",
              "         -5.81982613e-01,  6.31804392e-02,  6.32193908e-02,\n",
              "          3.06422144e-01],\n",
              "        [ 7.35857636e-02,  4.30515617e-01,  5.58252156e-01,\n",
              "         -3.26610714e-01, -1.07362933e-01, -7.37418711e-01,\n",
              "         -2.71694809e-01,  4.28756595e-01, -9.36255753e-02,\n",
              "         -5.05181372e-01],\n",
              "        [-2.47189507e-01, -1.39845416e-01,  3.86679739e-01,\n",
              "          1.70986369e-01, -6.07977211e-01, -7.60930657e-01,\n",
              "          4.25049394e-01, -1.12663373e-01, -1.81180298e-01,\n",
              "          2.10323960e-01],\n",
              "        [-2.54894525e-01,  5.66606283e-01, -2.17935205e-01,\n",
              "          4.03099537e-01, -3.56400043e-01,  4.07189190e-01,\n",
              "         -9.64341313e-02, -7.45972514e-01,  6.16583884e-01,\n",
              "         -2.60767162e-01],\n",
              "        [ 2.01608762e-01, -3.07599664e-01,  3.67758542e-01,\n",
              "         -1.62338670e-02, -1.27977297e-01, -5.27737796e-01,\n",
              "         -8.10470581e-01,  2.75266945e-01,  5.49541295e-01,\n",
              "          1.32082969e-01],\n",
              "        [ 3.10005218e-01,  1.74708486e-01,  7.12466180e-01,\n",
              "          3.17126997e-02, -8.02667081e-01, -3.26665193e-01,\n",
              "         -7.57620111e-02,  1.59315512e-01,  1.13454089e-01,\n",
              "          5.79530708e-02],\n",
              "        [ 4.51509178e-01, -1.75476417e-01, -1.77374959e-01,\n",
              "         -2.50091821e-01, -1.32392660e-01, -5.15335202e-01,\n",
              "          4.08206373e-01, -2.53482938e-01,  2.90842682e-01,\n",
              "          6.76469803e-01],\n",
              "        [ 3.80234689e-01, -3.55072618e-01,  5.91047704e-01,\n",
              "          5.67857385e-01, -7.10700333e-01,  7.18915164e-02,\n",
              "         -3.52185041e-01,  5.52873433e-01, -2.92090535e-01,\n",
              "          2.98212945e-01],\n",
              "        [-7.60052025e-01, -9.74867180e-06,  6.45717010e-02,\n",
              "          3.06150764e-01,  5.26718497e-01,  2.95268744e-01,\n",
              "          8.58209804e-02, -2.08139315e-01,  6.68431401e-01,\n",
              "         -6.15631640e-01],\n",
              "        [ 1.78405136e-01, -1.54952575e-02,  5.30417621e-01,\n",
              "          2.40184456e-01,  2.33257458e-01, -5.33219278e-01,\n",
              "         -4.43598926e-01,  1.45022407e-01, -2.24210620e-01,\n",
              "         -4.02646482e-01],\n",
              "        [ 7.62573659e-01, -4.68712270e-01, -3.32855806e-02,\n",
              "         -4.70454961e-01,  5.31883180e-01, -1.77886393e-02,\n",
              "         -5.71278274e-01,  2.41814107e-01, -2.00981393e-01,\n",
              "         -3.72657925e-01],\n",
              "        [-6.26110792e-01,  3.97468716e-01,  4.26229358e-01,\n",
              "         -8.85435380e-04, -2.67999470e-01,  8.07478368e-01,\n",
              "          2.31465206e-01,  3.91801238e-01, -1.22342490e-01,\n",
              "         -6.07727945e-01],\n",
              "        [ 4.00600880e-01,  5.37315071e-01,  2.55820453e-01,\n",
              "          5.83764493e-01, -1.00142169e+00, -5.89497864e-01,\n",
              "         -5.72750151e-01,  2.26017401e-01, -1.05267309e-01,\n",
              "          5.93371093e-01],\n",
              "        [ 3.75353098e-01, -7.76680589e-01, -6.93938553e-01,\n",
              "          3.39855075e-01,  2.43368819e-01,  1.69357419e-01,\n",
              "          1.18556507e-01,  1.59685224e-01,  4.36711937e-01,\n",
              "          3.81258190e-01]], dtype=float32)>,\n",
              " <tf.Variable 'dense_layer_3/bias:0' shape=(10,) dtype=float32, numpy=\n",
              " array([-0.17227063,  0.2578823 , -0.12329619, -0.25801304, -0.00622753,\n",
              "         0.23400265,  0.05998436,  0.1590461 , -0.09057719, -0.06052443],\n",
              "       dtype=float32)>]"
            ]
          },
          "metadata": {
            "tags": []
          },
          "execution_count": 29
        }
      ]
    },
    {
      "cell_type": "code",
      "metadata": {
        "id": "x_no8rMBfCY6",
        "colab": {
          "base_uri": "https://localhost:8080/"
        },
        "outputId": "183ebf20-d509-492c-9eb8-548aac942e73"
      },
      "source": [
        "model_1.get_config()"
      ],
      "execution_count": 30,
      "outputs": [
        {
          "output_type": "execute_result",
          "data": {
            "text/plain": [
              "{'layers': [{'class_name': 'InputLayer',\n",
              "   'config': {'batch_input_shape': (None, 784),\n",
              "    'dtype': 'float32',\n",
              "    'name': 'dense_layer_1_input',\n",
              "    'ragged': False,\n",
              "    'sparse': False}},\n",
              "  {'class_name': 'Dense',\n",
              "   'config': {'activation': 'relu',\n",
              "    'activity_regularizer': None,\n",
              "    'batch_input_shape': (None, 784),\n",
              "    'bias_constraint': None,\n",
              "    'bias_initializer': {'class_name': 'Zeros', 'config': {}},\n",
              "    'bias_regularizer': None,\n",
              "    'dtype': 'float32',\n",
              "    'kernel_constraint': None,\n",
              "    'kernel_initializer': {'class_name': 'GlorotUniform',\n",
              "     'config': {'seed': None}},\n",
              "    'kernel_regularizer': None,\n",
              "    'name': 'dense_layer_1',\n",
              "    'trainable': True,\n",
              "    'units': 64,\n",
              "    'use_bias': True}},\n",
              "  {'class_name': 'Dense',\n",
              "   'config': {'activation': 'softmax',\n",
              "    'activity_regularizer': None,\n",
              "    'bias_constraint': None,\n",
              "    'bias_initializer': {'class_name': 'Zeros', 'config': {}},\n",
              "    'bias_regularizer': None,\n",
              "    'dtype': 'float32',\n",
              "    'kernel_constraint': None,\n",
              "    'kernel_initializer': {'class_name': 'GlorotUniform',\n",
              "     'config': {'seed': None}},\n",
              "    'kernel_regularizer': None,\n",
              "    'name': 'dense_layer_3',\n",
              "    'trainable': True,\n",
              "    'units': 10,\n",
              "    'use_bias': True}}],\n",
              " 'name': 'sequential_1'}"
            ]
          },
          "metadata": {
            "tags": []
          },
          "execution_count": 30
        }
      ]
    },
    {
      "cell_type": "markdown",
      "metadata": {
        "id": "Nw7DXcLYfZzp"
      },
      "source": [
        "###Improved Model 2 - Adding Dropout to Avoid Overfitting"
      ]
    },
    {
      "cell_type": "code",
      "metadata": {
        "id": "jY9ijLOfD1W8"
      },
      "source": [
        "import tensorflow as tf\r\n",
        "from tensorflow.keras.layers import Dense\r\n",
        "from tensorflow.keras import Sequential\r\n",
        "\r\n",
        "#Most common type of model is a stack of layers\r\n",
        "model_1 = tf.keras.Sequential()\r\n",
        "N_hidden = 64\r\n",
        "# Adds a densely-connected layer with 64 units to the model:\r\n",
        "model_1.add(Dense(N_hidden, name='dense_layer_1', input_shape=(784,), activation = 'relu'))\r\n",
        "# Now the model will take as input arrays of shape (*, 784)# and output arrays of shape (*, 64)\r\n",
        "\r\n",
        "# Adding another dense layer:\r\n",
        "#model_1.add(Dense(N_hidden, name='dense_layer_2', activation='relu'))\r\n",
        "# After the first layer, you don't need to specify\u000b# the size of the input anymore:\r\n",
        "# Add an output layer with 10 output units (10 different classes):\r\n",
        "model_1.add(Dense(10, name='dense_layer_3', activation = 'softmax'))"
      ],
      "execution_count": null,
      "outputs": []
    },
    {
      "cell_type": "code",
      "metadata": {
        "id": "AXUf6nhvBHnc"
      },
      "source": [
        "import tensorflow as tf\n",
        "from tensorflow.keras.layers import Dense\n",
        "from tensorflow.keras import Sequential\n",
        "from tensorflow.keras.layers import Dropout\n",
        "\n",
        "#Most common type of model is a stack of layers\n",
        "model_2 = tf.keras.Sequential()\n",
        "N_hidden = 64\n",
        "# Adds a densely-connected layer with 64 units to the model:\n",
        "model_2.add(Dense(N_hidden, name='dense_layer_1', input_shape=(784,), activation = 'relu'))\n",
        "# Now the model will take as input arrays of shape (*, 784)# and output arrays of shape (*, 64)\n",
        "model_2.add(Dropout(0.3))\n",
        "\n",
        "# Adding another dense layer:\n",
        "#model_2.add(Dense(N_hidden, name='dense_layer_2', activation='relu'))\n",
        "#model_2.add(Dropout(0.3))\n",
        "\n",
        "# Add an output layer with 10 output units (10 different classes):\n",
        "model_2.add(Dense(10, name='dense_layer_3', activation = 'softmax'))\n"
      ],
      "execution_count": 31,
      "outputs": []
    },
    {
      "cell_type": "code",
      "metadata": {
        "colab": {
          "base_uri": "https://localhost:8080/"
        },
        "id": "r42waXuxESYK",
        "outputId": "50886ea3-4e67-402e-b7fd-bd2061c0d889"
      },
      "source": [
        "model_2.summary()"
      ],
      "execution_count": 32,
      "outputs": [
        {
          "output_type": "stream",
          "text": [
            "Model: \"sequential_2\"\n",
            "_________________________________________________________________\n",
            "Layer (type)                 Output Shape              Param #   \n",
            "=================================================================\n",
            "dense_layer_1 (Dense)        (None, 64)                50240     \n",
            "_________________________________________________________________\n",
            "dropout (Dropout)            (None, 64)                0         \n",
            "_________________________________________________________________\n",
            "dense_layer_3 (Dense)        (None, 10)                650       \n",
            "=================================================================\n",
            "Total params: 50,890\n",
            "Trainable params: 50,890\n",
            "Non-trainable params: 0\n",
            "_________________________________________________________________\n"
          ],
          "name": "stdout"
        }
      ]
    },
    {
      "cell_type": "code",
      "metadata": {
        "id": "wo95PYlPgBe4"
      },
      "source": [
        "# Compiling the model.\n",
        "model_2.compile(optimizer='SGD', \n",
        "              loss='categorical_crossentropy',\n",
        "              metrics=['accuracy'])"
      ],
      "execution_count": 33,
      "outputs": []
    },
    {
      "cell_type": "code",
      "metadata": {
        "id": "VfargzxGgBfI",
        "colab": {
          "base_uri": "https://localhost:8080/"
        },
        "outputId": "47e1f45a-4f98-414b-bfca-b813ea2c30ec"
      },
      "source": [
        "# Training the model. \n",
        "training = model_2.fit(X_train, Y_train, batch_size=64, epochs=100, validation_split=0.2) "
      ],
      "execution_count": 37,
      "outputs": [
        {
          "output_type": "stream",
          "text": [
            "Epoch 1/100\n",
            "750/750 [==============================] - 2s 2ms/step - loss: 0.1884 - accuracy: 0.9450 - val_loss: 0.1335 - val_accuracy: 0.9621\n",
            "Epoch 2/100\n",
            "750/750 [==============================] - 2s 2ms/step - loss: 0.1854 - accuracy: 0.9456 - val_loss: 0.1328 - val_accuracy: 0.9623\n",
            "Epoch 3/100\n",
            "750/750 [==============================] - 2s 2ms/step - loss: 0.1841 - accuracy: 0.9459 - val_loss: 0.1321 - val_accuracy: 0.9622\n",
            "Epoch 4/100\n",
            "750/750 [==============================] - 2s 2ms/step - loss: 0.1828 - accuracy: 0.9464 - val_loss: 0.1312 - val_accuracy: 0.9625\n",
            "Epoch 5/100\n",
            "750/750 [==============================] - 2s 2ms/step - loss: 0.1827 - accuracy: 0.9460 - val_loss: 0.1304 - val_accuracy: 0.9628\n",
            "Epoch 6/100\n",
            "750/750 [==============================] - 2s 2ms/step - loss: 0.1799 - accuracy: 0.9470 - val_loss: 0.1292 - val_accuracy: 0.9627\n",
            "Epoch 7/100\n",
            "750/750 [==============================] - 2s 2ms/step - loss: 0.1784 - accuracy: 0.9469 - val_loss: 0.1290 - val_accuracy: 0.9632\n",
            "Epoch 8/100\n",
            "750/750 [==============================] - 2s 2ms/step - loss: 0.1743 - accuracy: 0.9490 - val_loss: 0.1279 - val_accuracy: 0.9630\n",
            "Epoch 9/100\n",
            "750/750 [==============================] - 2s 2ms/step - loss: 0.1773 - accuracy: 0.9477 - val_loss: 0.1275 - val_accuracy: 0.9635\n",
            "Epoch 10/100\n",
            "750/750 [==============================] - 2s 2ms/step - loss: 0.1742 - accuracy: 0.9497 - val_loss: 0.1271 - val_accuracy: 0.9633\n",
            "Epoch 11/100\n",
            "750/750 [==============================] - 2s 2ms/step - loss: 0.1735 - accuracy: 0.9486 - val_loss: 0.1267 - val_accuracy: 0.9632\n",
            "Epoch 12/100\n",
            "750/750 [==============================] - 2s 2ms/step - loss: 0.1744 - accuracy: 0.9485 - val_loss: 0.1259 - val_accuracy: 0.9644\n",
            "Epoch 13/100\n",
            "750/750 [==============================] - 2s 2ms/step - loss: 0.1701 - accuracy: 0.9497 - val_loss: 0.1245 - val_accuracy: 0.9643\n",
            "Epoch 14/100\n",
            "750/750 [==============================] - 2s 2ms/step - loss: 0.1700 - accuracy: 0.9498 - val_loss: 0.1237 - val_accuracy: 0.9643\n",
            "Epoch 15/100\n",
            "750/750 [==============================] - 2s 2ms/step - loss: 0.1701 - accuracy: 0.9496 - val_loss: 0.1234 - val_accuracy: 0.9647\n",
            "Epoch 16/100\n",
            "750/750 [==============================] - 2s 2ms/step - loss: 0.1691 - accuracy: 0.9498 - val_loss: 0.1228 - val_accuracy: 0.9639\n",
            "Epoch 17/100\n",
            "750/750 [==============================] - 2s 2ms/step - loss: 0.1671 - accuracy: 0.9497 - val_loss: 0.1219 - val_accuracy: 0.9648\n",
            "Epoch 18/100\n",
            "750/750 [==============================] - 2s 2ms/step - loss: 0.1681 - accuracy: 0.9494 - val_loss: 0.1212 - val_accuracy: 0.9649\n",
            "Epoch 19/100\n",
            "750/750 [==============================] - 2s 2ms/step - loss: 0.1659 - accuracy: 0.9509 - val_loss: 0.1208 - val_accuracy: 0.9653\n",
            "Epoch 20/100\n",
            "750/750 [==============================] - 2s 2ms/step - loss: 0.1655 - accuracy: 0.9514 - val_loss: 0.1204 - val_accuracy: 0.9649\n",
            "Epoch 21/100\n",
            "750/750 [==============================] - 2s 2ms/step - loss: 0.1642 - accuracy: 0.9510 - val_loss: 0.1198 - val_accuracy: 0.9651\n",
            "Epoch 22/100\n",
            "750/750 [==============================] - 2s 2ms/step - loss: 0.1619 - accuracy: 0.9521 - val_loss: 0.1196 - val_accuracy: 0.9648\n",
            "Epoch 23/100\n",
            "750/750 [==============================] - 2s 2ms/step - loss: 0.1607 - accuracy: 0.9526 - val_loss: 0.1190 - val_accuracy: 0.9659\n",
            "Epoch 24/100\n",
            "750/750 [==============================] - 2s 2ms/step - loss: 0.1619 - accuracy: 0.9537 - val_loss: 0.1183 - val_accuracy: 0.9654\n",
            "Epoch 25/100\n",
            "750/750 [==============================] - 2s 2ms/step - loss: 0.1605 - accuracy: 0.9525 - val_loss: 0.1179 - val_accuracy: 0.9660\n",
            "Epoch 26/100\n",
            "750/750 [==============================] - 2s 2ms/step - loss: 0.1607 - accuracy: 0.9524 - val_loss: 0.1178 - val_accuracy: 0.9657\n",
            "Epoch 27/100\n",
            "750/750 [==============================] - 2s 2ms/step - loss: 0.1579 - accuracy: 0.9520 - val_loss: 0.1172 - val_accuracy: 0.9658\n",
            "Epoch 28/100\n",
            "750/750 [==============================] - 2s 2ms/step - loss: 0.1556 - accuracy: 0.9545 - val_loss: 0.1169 - val_accuracy: 0.9661\n",
            "Epoch 29/100\n",
            "750/750 [==============================] - 2s 2ms/step - loss: 0.1571 - accuracy: 0.9538 - val_loss: 0.1164 - val_accuracy: 0.9659\n",
            "Epoch 30/100\n",
            "750/750 [==============================] - 2s 2ms/step - loss: 0.1550 - accuracy: 0.9533 - val_loss: 0.1157 - val_accuracy: 0.9660\n",
            "Epoch 31/100\n",
            "750/750 [==============================] - 2s 2ms/step - loss: 0.1552 - accuracy: 0.9550 - val_loss: 0.1155 - val_accuracy: 0.9667\n",
            "Epoch 32/100\n",
            "750/750 [==============================] - 2s 2ms/step - loss: 0.1550 - accuracy: 0.9548 - val_loss: 0.1149 - val_accuracy: 0.9668\n",
            "Epoch 33/100\n",
            "750/750 [==============================] - 2s 2ms/step - loss: 0.1522 - accuracy: 0.9547 - val_loss: 0.1147 - val_accuracy: 0.9664\n",
            "Epoch 34/100\n",
            "750/750 [==============================] - 2s 2ms/step - loss: 0.1528 - accuracy: 0.9545 - val_loss: 0.1144 - val_accuracy: 0.9669\n",
            "Epoch 35/100\n",
            "750/750 [==============================] - 2s 2ms/step - loss: 0.1523 - accuracy: 0.9548 - val_loss: 0.1141 - val_accuracy: 0.9666\n",
            "Epoch 36/100\n",
            "750/750 [==============================] - 2s 2ms/step - loss: 0.1513 - accuracy: 0.9559 - val_loss: 0.1136 - val_accuracy: 0.9666\n",
            "Epoch 37/100\n",
            "750/750 [==============================] - 2s 2ms/step - loss: 0.1476 - accuracy: 0.9567 - val_loss: 0.1132 - val_accuracy: 0.9671\n",
            "Epoch 38/100\n",
            "750/750 [==============================] - 2s 2ms/step - loss: 0.1499 - accuracy: 0.9561 - val_loss: 0.1124 - val_accuracy: 0.9672\n",
            "Epoch 39/100\n",
            "750/750 [==============================] - 2s 2ms/step - loss: 0.1511 - accuracy: 0.9554 - val_loss: 0.1120 - val_accuracy: 0.9672\n",
            "Epoch 40/100\n",
            "750/750 [==============================] - 2s 2ms/step - loss: 0.1506 - accuracy: 0.9561 - val_loss: 0.1119 - val_accuracy: 0.9670\n",
            "Epoch 41/100\n",
            "750/750 [==============================] - 2s 2ms/step - loss: 0.1482 - accuracy: 0.9568 - val_loss: 0.1120 - val_accuracy: 0.9667\n",
            "Epoch 42/100\n",
            "750/750 [==============================] - 2s 2ms/step - loss: 0.1502 - accuracy: 0.9557 - val_loss: 0.1116 - val_accuracy: 0.9670\n",
            "Epoch 43/100\n",
            "750/750 [==============================] - 2s 2ms/step - loss: 0.1474 - accuracy: 0.9566 - val_loss: 0.1110 - val_accuracy: 0.9672\n",
            "Epoch 44/100\n",
            "750/750 [==============================] - 2s 2ms/step - loss: 0.1456 - accuracy: 0.9563 - val_loss: 0.1109 - val_accuracy: 0.9670\n",
            "Epoch 45/100\n",
            "750/750 [==============================] - 2s 2ms/step - loss: 0.1461 - accuracy: 0.9569 - val_loss: 0.1104 - val_accuracy: 0.9679\n",
            "Epoch 46/100\n",
            "750/750 [==============================] - 2s 2ms/step - loss: 0.1482 - accuracy: 0.9554 - val_loss: 0.1108 - val_accuracy: 0.9672\n",
            "Epoch 47/100\n",
            "750/750 [==============================] - 2s 2ms/step - loss: 0.1437 - accuracy: 0.9575 - val_loss: 0.1097 - val_accuracy: 0.9678\n",
            "Epoch 48/100\n",
            "750/750 [==============================] - 2s 2ms/step - loss: 0.1447 - accuracy: 0.9563 - val_loss: 0.1092 - val_accuracy: 0.9678\n",
            "Epoch 49/100\n",
            "750/750 [==============================] - 2s 2ms/step - loss: 0.1420 - accuracy: 0.9578 - val_loss: 0.1094 - val_accuracy: 0.9678\n",
            "Epoch 50/100\n",
            "750/750 [==============================] - 2s 2ms/step - loss: 0.1424 - accuracy: 0.9575 - val_loss: 0.1085 - val_accuracy: 0.9678\n",
            "Epoch 51/100\n",
            "750/750 [==============================] - 2s 2ms/step - loss: 0.1410 - accuracy: 0.9578 - val_loss: 0.1084 - val_accuracy: 0.9681\n",
            "Epoch 52/100\n",
            "750/750 [==============================] - 2s 2ms/step - loss: 0.1414 - accuracy: 0.9570 - val_loss: 0.1081 - val_accuracy: 0.9680\n",
            "Epoch 53/100\n",
            "750/750 [==============================] - 2s 2ms/step - loss: 0.1417 - accuracy: 0.9571 - val_loss: 0.1084 - val_accuracy: 0.9681\n",
            "Epoch 54/100\n",
            "750/750 [==============================] - 2s 2ms/step - loss: 0.1412 - accuracy: 0.9588 - val_loss: 0.1078 - val_accuracy: 0.9687\n",
            "Epoch 55/100\n",
            "750/750 [==============================] - 2s 2ms/step - loss: 0.1397 - accuracy: 0.9591 - val_loss: 0.1081 - val_accuracy: 0.9679\n",
            "Epoch 56/100\n",
            "750/750 [==============================] - 2s 2ms/step - loss: 0.1384 - accuracy: 0.9575 - val_loss: 0.1080 - val_accuracy: 0.9681\n",
            "Epoch 57/100\n",
            "750/750 [==============================] - 2s 2ms/step - loss: 0.1384 - accuracy: 0.9586 - val_loss: 0.1077 - val_accuracy: 0.9685\n",
            "Epoch 58/100\n",
            "750/750 [==============================] - 2s 2ms/step - loss: 0.1371 - accuracy: 0.9586 - val_loss: 0.1073 - val_accuracy: 0.9680\n",
            "Epoch 59/100\n",
            "750/750 [==============================] - 2s 2ms/step - loss: 0.1360 - accuracy: 0.9592 - val_loss: 0.1067 - val_accuracy: 0.9685\n",
            "Epoch 60/100\n",
            "750/750 [==============================] - 2s 2ms/step - loss: 0.1397 - accuracy: 0.9587 - val_loss: 0.1066 - val_accuracy: 0.9684\n",
            "Epoch 61/100\n",
            "750/750 [==============================] - 2s 2ms/step - loss: 0.1358 - accuracy: 0.9601 - val_loss: 0.1061 - val_accuracy: 0.9688\n",
            "Epoch 62/100\n",
            "750/750 [==============================] - 2s 2ms/step - loss: 0.1370 - accuracy: 0.9586 - val_loss: 0.1058 - val_accuracy: 0.9687\n",
            "Epoch 63/100\n",
            "750/750 [==============================] - 2s 2ms/step - loss: 0.1356 - accuracy: 0.9600 - val_loss: 0.1053 - val_accuracy: 0.9687\n",
            "Epoch 64/100\n",
            "750/750 [==============================] - 2s 2ms/step - loss: 0.1353 - accuracy: 0.9587 - val_loss: 0.1054 - val_accuracy: 0.9690\n",
            "Epoch 65/100\n",
            "750/750 [==============================] - 2s 2ms/step - loss: 0.1359 - accuracy: 0.9596 - val_loss: 0.1054 - val_accuracy: 0.9690\n",
            "Epoch 66/100\n",
            "750/750 [==============================] - 2s 2ms/step - loss: 0.1354 - accuracy: 0.9597 - val_loss: 0.1049 - val_accuracy: 0.9695\n",
            "Epoch 67/100\n",
            "750/750 [==============================] - 2s 2ms/step - loss: 0.1342 - accuracy: 0.9588 - val_loss: 0.1050 - val_accuracy: 0.9692\n",
            "Epoch 68/100\n",
            "750/750 [==============================] - 2s 2ms/step - loss: 0.1317 - accuracy: 0.9609 - val_loss: 0.1038 - val_accuracy: 0.9698\n",
            "Epoch 69/100\n",
            "750/750 [==============================] - 2s 2ms/step - loss: 0.1345 - accuracy: 0.9595 - val_loss: 0.1047 - val_accuracy: 0.9693\n",
            "Epoch 70/100\n",
            "750/750 [==============================] - 2s 2ms/step - loss: 0.1332 - accuracy: 0.9602 - val_loss: 0.1039 - val_accuracy: 0.9695\n",
            "Epoch 71/100\n",
            "750/750 [==============================] - 2s 2ms/step - loss: 0.1342 - accuracy: 0.9603 - val_loss: 0.1047 - val_accuracy: 0.9693\n",
            "Epoch 72/100\n",
            "750/750 [==============================] - 2s 2ms/step - loss: 0.1317 - accuracy: 0.9606 - val_loss: 0.1038 - val_accuracy: 0.9699\n",
            "Epoch 73/100\n",
            "750/750 [==============================] - 2s 2ms/step - loss: 0.1289 - accuracy: 0.9614 - val_loss: 0.1040 - val_accuracy: 0.9692\n",
            "Epoch 74/100\n",
            "750/750 [==============================] - 2s 2ms/step - loss: 0.1288 - accuracy: 0.9605 - val_loss: 0.1035 - val_accuracy: 0.9692\n",
            "Epoch 75/100\n",
            "750/750 [==============================] - 2s 2ms/step - loss: 0.1298 - accuracy: 0.9609 - val_loss: 0.1029 - val_accuracy: 0.9700\n",
            "Epoch 76/100\n",
            "750/750 [==============================] - 2s 2ms/step - loss: 0.1286 - accuracy: 0.9606 - val_loss: 0.1026 - val_accuracy: 0.9699\n",
            "Epoch 77/100\n",
            "750/750 [==============================] - 2s 2ms/step - loss: 0.1288 - accuracy: 0.9621 - val_loss: 0.1027 - val_accuracy: 0.9698\n",
            "Epoch 78/100\n",
            "750/750 [==============================] - 2s 2ms/step - loss: 0.1290 - accuracy: 0.9611 - val_loss: 0.1028 - val_accuracy: 0.9698\n",
            "Epoch 79/100\n",
            "750/750 [==============================] - 2s 2ms/step - loss: 0.1277 - accuracy: 0.9616 - val_loss: 0.1022 - val_accuracy: 0.9704\n",
            "Epoch 80/100\n",
            "750/750 [==============================] - 2s 2ms/step - loss: 0.1269 - accuracy: 0.9618 - val_loss: 0.1023 - val_accuracy: 0.9697\n",
            "Epoch 81/100\n",
            "750/750 [==============================] - 2s 2ms/step - loss: 0.1275 - accuracy: 0.9613 - val_loss: 0.1021 - val_accuracy: 0.9707\n",
            "Epoch 82/100\n",
            "750/750 [==============================] - 2s 2ms/step - loss: 0.1259 - accuracy: 0.9619 - val_loss: 0.1021 - val_accuracy: 0.9704\n",
            "Epoch 83/100\n",
            "750/750 [==============================] - 2s 2ms/step - loss: 0.1248 - accuracy: 0.9621 - val_loss: 0.1020 - val_accuracy: 0.9699\n",
            "Epoch 84/100\n",
            "750/750 [==============================] - 2s 2ms/step - loss: 0.1253 - accuracy: 0.9621 - val_loss: 0.1023 - val_accuracy: 0.9697\n",
            "Epoch 85/100\n",
            "750/750 [==============================] - 2s 2ms/step - loss: 0.1275 - accuracy: 0.9603 - val_loss: 0.1018 - val_accuracy: 0.9700\n",
            "Epoch 86/100\n",
            "750/750 [==============================] - 2s 2ms/step - loss: 0.1253 - accuracy: 0.9621 - val_loss: 0.1013 - val_accuracy: 0.9700\n",
            "Epoch 87/100\n",
            "750/750 [==============================] - 2s 2ms/step - loss: 0.1267 - accuracy: 0.9619 - val_loss: 0.1015 - val_accuracy: 0.9700\n",
            "Epoch 88/100\n",
            "750/750 [==============================] - 2s 2ms/step - loss: 0.1251 - accuracy: 0.9619 - val_loss: 0.1012 - val_accuracy: 0.9705\n",
            "Epoch 89/100\n",
            "750/750 [==============================] - 2s 2ms/step - loss: 0.1229 - accuracy: 0.9632 - val_loss: 0.1015 - val_accuracy: 0.9695\n",
            "Epoch 90/100\n",
            "750/750 [==============================] - 2s 2ms/step - loss: 0.1241 - accuracy: 0.9620 - val_loss: 0.1012 - val_accuracy: 0.9703\n",
            "Epoch 91/100\n",
            "750/750 [==============================] - 2s 2ms/step - loss: 0.1224 - accuracy: 0.9639 - val_loss: 0.1007 - val_accuracy: 0.9700\n",
            "Epoch 92/100\n",
            "750/750 [==============================] - 2s 2ms/step - loss: 0.1246 - accuracy: 0.9621 - val_loss: 0.1005 - val_accuracy: 0.9699\n",
            "Epoch 93/100\n",
            "750/750 [==============================] - 2s 2ms/step - loss: 0.1237 - accuracy: 0.9628 - val_loss: 0.1004 - val_accuracy: 0.9707\n",
            "Epoch 94/100\n",
            "750/750 [==============================] - 2s 2ms/step - loss: 0.1231 - accuracy: 0.9624 - val_loss: 0.1014 - val_accuracy: 0.9703\n",
            "Epoch 95/100\n",
            "750/750 [==============================] - 2s 2ms/step - loss: 0.1224 - accuracy: 0.9628 - val_loss: 0.1002 - val_accuracy: 0.9703\n",
            "Epoch 96/100\n",
            "750/750 [==============================] - 2s 2ms/step - loss: 0.1213 - accuracy: 0.9630 - val_loss: 0.1002 - val_accuracy: 0.9703\n",
            "Epoch 97/100\n",
            "750/750 [==============================] - 2s 2ms/step - loss: 0.1214 - accuracy: 0.9640 - val_loss: 0.1002 - val_accuracy: 0.9700\n",
            "Epoch 98/100\n",
            "750/750 [==============================] - 2s 2ms/step - loss: 0.1219 - accuracy: 0.9633 - val_loss: 0.0997 - val_accuracy: 0.9703\n",
            "Epoch 99/100\n",
            "750/750 [==============================] - 2s 2ms/step - loss: 0.1206 - accuracy: 0.9631 - val_loss: 0.0995 - val_accuracy: 0.9702\n",
            "Epoch 100/100\n",
            "750/750 [==============================] - 2s 2ms/step - loss: 0.1216 - accuracy: 0.9628 - val_loss: 0.0994 - val_accuracy: 0.9697\n"
          ],
          "name": "stdout"
        }
      ]
    },
    {
      "cell_type": "code",
      "metadata": {
        "id": "9QfbwIhAgBfX",
        "colab": {
          "base_uri": "https://localhost:8080/",
          "height": 592
        },
        "outputId": "67d85b82-42a3-4845-958e-dc4f38fe482a"
      },
      "source": [
        "import matplotlib.pyplot as plt\n",
        "%matplotlib inline\n",
        "# list all data in training\n",
        "print(training.history.keys())\n",
        "# summarize training for accuracy\n",
        "plt.plot(training.history['accuracy'])\n",
        "plt.plot(training.history['val_accuracy'])\n",
        "plt.title('model accuracy')\n",
        "plt.ylabel('accuracy')\n",
        "plt.xlabel('epoch')\n",
        "plt.legend(['train', 'test'], loc='upper left')\n",
        "plt.show()\n",
        "# summarize traning for loss\n",
        "plt.plot(training.history['loss'])\n",
        "plt.plot(training.history['val_loss'])\n",
        "plt.title('model loss')\n",
        "plt.ylabel('loss')\n",
        "plt.xlabel('epoch')\n",
        "plt.legend(['train', 'test'], loc='upper left')\n",
        "plt.show()"
      ],
      "execution_count": 38,
      "outputs": [
        {
          "output_type": "stream",
          "text": [
            "dict_keys(['loss', 'accuracy', 'val_loss', 'val_accuracy'])\n"
          ],
          "name": "stdout"
        },
        {
          "output_type": "display_data",
          "data": {
            "image/png": "[encoded data removed]",
            "text/plain": [
              "<Figure size 432x288 with 1 Axes>"
            ]
          },
          "metadata": {
            "tags": [],
            "needs_background": "light"
          }
        },
        {
          "output_type": "display_data",
          "data": {
            "image/png": "[encoded data removed]",
            "text/plain": [
              "<Figure size 432x288 with 1 Axes>"
            ]
          },
          "metadata": {
            "tags": [],
            "needs_background": "light"
          }
        }
      ]
    },
    {
      "cell_type": "code",
      "metadata": {
        "id": "yT7LK87agBfq",
        "colab": {
          "base_uri": "https://localhost:8080/"
        },
        "outputId": "d815e95a-f4c1-49c8-f858-efc9a664bf10"
      },
      "source": [
        "#evaluate the model\n",
        "test_loss, test_acc = model_2.evaluate(X_test, Y_test)\n",
        "print('Test accuracy:', test_acc)"
      ],
      "execution_count": 39,
      "outputs": [
        {
          "output_type": "stream",
          "text": [
            "313/313 [==============================] - 0s 1ms/step - loss: 0.0939 - accuracy: 0.9718\n",
            "Test accuracy: 0.9718000292778015\n"
          ],
          "name": "stdout"
        }
      ]
    },
    {
      "cell_type": "code",
      "metadata": {
        "id": "jdOVuO0AgBf0",
        "colab": {
          "base_uri": "https://localhost:8080/",
          "height": 34
        },
        "outputId": "c2094b7a-66fd-4fd1-bc71-549f5b327101"
      },
      "source": [
        "model_2.summary"
      ],
      "execution_count": null,
      "outputs": [
        {
          "output_type": "execute_result",
          "data": {
            "text/plain": [
              "<bound method Network.summary of <tensorflow.python.keras.engine.sequential.Sequential object at 0x7ffa937b9390>>"
            ]
          },
          "metadata": {
            "tags": []
          },
          "execution_count": 92
        }
      ]
    },
    {
      "cell_type": "code",
      "metadata": {
        "id": "oykr_QswgBf_",
        "colab": {
          "base_uri": "https://localhost:8080/",
          "height": 1000
        },
        "outputId": "69796b99-80c4-4e09-fbbd-5ea59510d4db"
      },
      "source": [
        "model_2.weights"
      ],
      "execution_count": null,
      "outputs": [
        {
          "output_type": "execute_result",
          "data": {
            "text/plain": [
              "[<tf.Variable 'dense_layer_12/kernel:0' shape=(784, 128) dtype=float32, numpy=\n",
              " array([[ 0.01444346,  0.04693794,  0.06630043, ..., -0.02828327,\n",
              "          0.0066622 , -0.06228573],\n",
              "        [ 0.00188328, -0.02025648,  0.05147363, ..., -0.03649226,\n",
              "         -0.0791774 , -0.05140872],\n",
              "        [-0.01105335,  0.07909935,  0.02207538, ...,  0.03383812,\n",
              "          0.072002  ,  0.04676753],\n",
              "        ...,\n",
              "        [ 0.01433832,  0.02699536, -0.05973002, ..., -0.04994123,\n",
              "         -0.04667233,  0.0662267 ],\n",
              "        [ 0.06559644,  0.0527534 , -0.00482842, ..., -0.00990485,\n",
              "          0.03639621, -0.00409852],\n",
              "        [ 0.00392337, -0.05335764,  0.02810133, ...,  0.00947598,\n",
              "          0.0323821 ,  0.07919947]], dtype=float32)>,\n",
              " <tf.Variable 'dense_layer_12/bias:0' shape=(128,) dtype=float32, numpy=\n",
              " array([-0.02877636, -0.07104327,  0.05942596,  0.08215805,  0.05379437,\n",
              "         0.00714801, -0.13583727, -0.004012  ,  0.00470887, -0.06922098,\n",
              "         0.00214812,  0.08692232,  0.03747694, -0.03114075,  0.06144724,\n",
              "         0.14785595,  0.07607053, -0.02053232,  0.06155197, -0.07050047,\n",
              "        -0.0541112 ,  0.11400498,  0.00114334,  0.12720264, -0.03693721,\n",
              "         0.00477273, -0.00349331,  0.0072878 , -0.13456938, -0.09676044,\n",
              "         0.00260907, -0.09833517,  0.13416147,  0.08867429, -0.13117127,\n",
              "         0.01866534, -0.00371111, -0.03056345,  0.06655154,  0.03959076,\n",
              "         0.04562421,  0.02733948, -0.16237319, -0.16354007, -0.02255656,\n",
              "        -0.02639614,  0.02313606,  0.02718176,  0.07395849,  0.0511969 ,\n",
              "         0.01555406, -0.00741411,  0.06527894, -0.01026278, -0.01926191,\n",
              "         0.04462723,  0.10524398, -0.02403445,  0.04185601,  0.03949163,\n",
              "        -0.05825118, -0.01260519,  0.07372214, -0.13938053, -0.0180992 ,\n",
              "         0.01200106,  0.08882425,  0.06036529,  0.03726074,  0.00661988,\n",
              "         0.05787836,  0.03186904,  0.09591597,  0.08223096, -0.07048608,\n",
              "        -0.00049692, -0.1294783 , -0.01518415,  0.00950404, -0.13091327,\n",
              "         0.07545955,  0.05406509, -0.09931184,  0.05159295,  0.03379346,\n",
              "         0.00738401,  0.07800592,  0.06778191,  0.07424857, -0.01168437,\n",
              "         0.02777723, -0.00175831, -0.13598113,  0.04133111,  0.09417041,\n",
              "         0.08689251,  0.04190889, -0.02866324,  0.0159557 , -0.03189097,\n",
              "         0.03873344,  0.01114066, -0.03497846, -0.01602312,  0.00952222,\n",
              "         0.07935495,  0.10686418,  0.225075  , -0.08462793,  0.09702131,\n",
              "        -0.05481537, -0.00768737, -0.09635834,  0.03788364, -0.00322636,\n",
              "         0.08589197, -0.01269937,  0.04665656,  0.03912193,  0.01209254,\n",
              "         0.00857694,  0.03940452,  0.09231503,  0.00414517,  0.12021012,\n",
              "        -0.10767709,  0.03584299, -0.0464032 ], dtype=float32)>,\n",
              " <tf.Variable 'dense_layer_2_8/kernel:0' shape=(128, 128) dtype=float32, numpy=\n",
              " array([[ 0.19478428,  0.08317667, -0.03798995, ..., -0.10642312,\n",
              "          0.11924914,  0.22484215],\n",
              "        [-0.14108099,  0.05288642,  0.00722957, ..., -0.01475204,\n",
              "          0.00404656,  0.01058232],\n",
              "        [ 0.1734278 , -0.11564524, -0.18931077, ..., -0.08645193,\n",
              "         -0.02727111, -0.07055448],\n",
              "        ...,\n",
              "        [ 0.01739812,  0.06021567,  0.02726289, ...,  0.05995208,\n",
              "         -0.06855128,  0.02344668],\n",
              "        [-0.08257233,  0.00994349, -0.12417532, ..., -0.02275015,\n",
              "          0.12347832, -0.06130221],\n",
              "        [ 0.06871863, -0.05929931, -0.13694406, ...,  0.0395254 ,\n",
              "          0.08098332,  0.10748583]], dtype=float32)>,\n",
              " <tf.Variable 'dense_layer_2_8/bias:0' shape=(128,) dtype=float32, numpy=\n",
              " array([ 0.06191139,  0.02073162, -0.05564422,  0.02288523,  0.08317378,\n",
              "         0.08440974,  0.09257106,  0.01310345,  0.18761827, -0.00100546,\n",
              "        -0.00602303,  0.03944415,  0.16033489, -0.00382471, -0.02980802,\n",
              "         0.09528022,  0.04629477,  0.06704166,  0.05336222,  0.07556398,\n",
              "        -0.02677286,  0.10825773,  0.01058774, -0.0366268 , -0.08463479,\n",
              "         0.02073746,  0.10454447,  0.03424441,  0.00493264,  0.1063586 ,\n",
              "         0.02504018,  0.153794  ,  0.07377665,  0.10946038,  0.07230759,\n",
              "         0.08560749,  0.09716228,  0.06840774,  0.1084948 ,  0.00456718,\n",
              "        -0.00366159,  0.01662732, -0.01444609,  0.08061772,  0.09464324,\n",
              "         0.05380888,  0.06498432,  0.07049607,  0.04866734,  0.08189888,\n",
              "        -0.00065288,  0.02255974,  0.09134767,  0.0535931 , -0.05613177,\n",
              "        -0.04604971,  0.03941198,  0.0091348 ,  0.02993365,  0.15268028,\n",
              "         0.12056246,  0.04597705,  0.00436638,  0.11617344,  0.02712792,\n",
              "         0.05210017,  0.07759344,  0.01221988,  0.09623041,  0.01461033,\n",
              "         0.07884911,  0.00648188,  0.11068511,  0.05563339,  0.08527794,\n",
              "         0.02060116,  0.04286822,  0.01133763,  0.05900358,  0.08057498,\n",
              "         0.1244322 ,  0.0782126 ,  0.00806443,  0.09057003,  0.11262237,\n",
              "         0.02192003, -0.03928795,  0.02161743,  0.02274365,  0.15092947,\n",
              "         0.02538236,  0.06637398, -0.07886798,  0.1217361 ,  0.03307226,\n",
              "         0.1303837 ,  0.10699517,  0.06407622, -0.00995664,  0.0833397 ,\n",
              "         0.02638657,  0.0722146 ,  0.01128124,  0.06624299,  0.01606052,\n",
              "         0.06173932,  0.10479774,  0.04167372,  0.05190314,  0.03259744,\n",
              "         0.17822696,  0.02954655,  0.03410548,  0.03738323,  0.19847073,\n",
              "        -0.00721127,  0.06582275,  0.02790799,  0.03036456, -0.04141326,\n",
              "         0.10992623,  0.16073883, -0.00536336,  0.06240595,  0.03070711,\n",
              "         0.03232976,  0.10372212, -0.03206321], dtype=float32)>,\n",
              " <tf.Variable 'dense_layer_3_8/kernel:0' shape=(128, 10) dtype=float32, numpy=\n",
              " array([[-0.32980573, -0.26938033, -0.2651856 , ...,  0.32478383,\n",
              "         -0.23742616,  0.23128228],\n",
              "        [-0.15589131,  0.21686201,  0.2738799 , ...,  0.13613655,\n",
              "         -0.20500268, -0.27253425],\n",
              "        [ 0.36690283, -0.09718333,  0.2164123 , ..., -0.14546204,\n",
              "         -0.2045335 , -0.17431022],\n",
              "        ...,\n",
              "        [-0.11721462, -0.12111703, -0.10917443, ..., -0.18971789,\n",
              "         -0.40887946,  0.21405888],\n",
              "        [ 0.03216973, -0.21084763, -0.19979177, ...,  0.24986091,\n",
              "         -0.09475057,  0.21043438],\n",
              "        [ 0.05710952, -0.24144584,  0.16831319, ...,  0.30041084,\n",
              "         -0.450542  ,  0.2120236 ]], dtype=float32)>,\n",
              " <tf.Variable 'dense_layer_3_8/bias:0' shape=(10,) dtype=float32, numpy=\n",
              " array([-0.13523984,  0.23671286, -0.1886754 , -0.07109518,  0.0212437 ,\n",
              "         0.14265428, -0.13796999, -0.06860923,  0.03205828,  0.1689207 ],\n",
              "       dtype=float32)>]"
            ]
          },
          "metadata": {
            "tags": []
          },
          "execution_count": 93
        }
      ]
    },
    {
      "cell_type": "code",
      "metadata": {
        "id": "SPzS9VdLgBgK",
        "colab": {
          "base_uri": "https://localhost:8080/",
          "height": 1000
        },
        "outputId": "42b0ef38-0d26-4add-db60-5cc53b90f1b5"
      },
      "source": [
        "model_2.get_config()"
      ],
      "execution_count": null,
      "outputs": [
        {
          "output_type": "execute_result",
          "data": {
            "text/plain": [
              "{'build_input_shape': TensorShape([None, 784]),\n",
              " 'layers': [{'class_name': 'Dense',\n",
              "   'config': {'activation': 'relu',\n",
              "    'activity_regularizer': None,\n",
              "    'batch_input_shape': (None, 784),\n",
              "    'bias_constraint': None,\n",
              "    'bias_initializer': {'class_name': 'Zeros', 'config': {}},\n",
              "    'bias_regularizer': None,\n",
              "    'dtype': 'float32',\n",
              "    'kernel_constraint': None,\n",
              "    'kernel_initializer': {'class_name': 'GlorotUniform',\n",
              "     'config': {'seed': None}},\n",
              "    'kernel_regularizer': None,\n",
              "    'name': 'dense_layer',\n",
              "    'trainable': True,\n",
              "    'units': 128,\n",
              "    'use_bias': True}},\n",
              "  {'class_name': 'Dropout',\n",
              "   'config': {'dtype': 'float32',\n",
              "    'name': 'dropout_14',\n",
              "    'noise_shape': None,\n",
              "    'rate': 0.3,\n",
              "    'seed': None,\n",
              "    'trainable': True}},\n",
              "  {'class_name': 'Dense',\n",
              "   'config': {'activation': 'relu',\n",
              "    'activity_regularizer': None,\n",
              "    'bias_constraint': None,\n",
              "    'bias_initializer': {'class_name': 'Zeros', 'config': {}},\n",
              "    'bias_regularizer': None,\n",
              "    'dtype': 'float32',\n",
              "    'kernel_constraint': None,\n",
              "    'kernel_initializer': {'class_name': 'GlorotUniform',\n",
              "     'config': {'seed': None}},\n",
              "    'kernel_regularizer': None,\n",
              "    'name': 'dense_layer_2',\n",
              "    'trainable': True,\n",
              "    'units': 128,\n",
              "    'use_bias': True}},\n",
              "  {'class_name': 'Dropout',\n",
              "   'config': {'dtype': 'float32',\n",
              "    'name': 'dropout_15',\n",
              "    'noise_shape': None,\n",
              "    'rate': 0.3,\n",
              "    'seed': None,\n",
              "    'trainable': True}},\n",
              "  {'class_name': 'Dense',\n",
              "   'config': {'activation': 'softmax',\n",
              "    'activity_regularizer': None,\n",
              "    'bias_constraint': None,\n",
              "    'bias_initializer': {'class_name': 'Zeros', 'config': {}},\n",
              "    'bias_regularizer': None,\n",
              "    'dtype': 'float32',\n",
              "    'kernel_constraint': None,\n",
              "    'kernel_initializer': {'class_name': 'GlorotUniform',\n",
              "     'config': {'seed': None}},\n",
              "    'kernel_regularizer': None,\n",
              "    'name': 'dense_layer_3',\n",
              "    'trainable': True,\n",
              "    'units': 10,\n",
              "    'use_bias': True}}],\n",
              " 'name': 'sequential_10'}"
            ]
          },
          "metadata": {
            "tags": []
          },
          "execution_count": 94
        }
      ]
    },
    {
      "cell_type": "markdown",
      "metadata": {
        "id": "pjps75cBuR1Z"
      },
      "source": [
        "###Improved Model 3: Changing the Optimizer - Adam"
      ]
    },
    {
      "cell_type": "code",
      "metadata": {
        "id": "WmXFwU5puZIF"
      },
      "source": [
        "#Most common type of model is a stack of layers\n",
        "model_3 = tf.keras.Sequential()\n",
        "N_hidden = 64\n",
        "# Adds a densely-connected layer with 64 units to the model:\n",
        "model_3.add(Dense(N_hidden, name='dense_layer_1', input_shape=(784,), activation = 'relu'))\n",
        "# Now the model will take as input arrays of shape (*, 784)# and output arrays of shape (*, 64)\n",
        "model_3.add(Dropout(0.3))\n",
        "# Adding another dense layer:\n",
        "model_3.add(Dense(N_hidden, name='dense_layer_2', activation='relu'))\n",
        "model_3.add(Dropout(0.3))\n",
        "# After the first layer, you don't need to specify\u000b# the size of the input anymore:\n",
        "# Add an output layer with 10 output units (10 different classes):\n",
        "model_3.add(Dense(10, name='dense_layer_3', activation = 'softmax'))\n"
      ],
      "execution_count": 40,
      "outputs": []
    },
    {
      "cell_type": "code",
      "metadata": {
        "colab": {
          "base_uri": "https://localhost:8080/"
        },
        "id": "-EpQDKJnF4uZ",
        "outputId": "56e0c4f5-af1e-431d-c970-a2c0c6c194d0"
      },
      "source": [
        "model_3.summary()"
      ],
      "execution_count": 41,
      "outputs": [
        {
          "output_type": "stream",
          "text": [
            "Model: \"sequential_3\"\n",
            "_________________________________________________________________\n",
            "Layer (type)                 Output Shape              Param #   \n",
            "=================================================================\n",
            "dense_layer_1 (Dense)        (None, 64)                50240     \n",
            "_________________________________________________________________\n",
            "dropout_1 (Dropout)          (None, 64)                0         \n",
            "_________________________________________________________________\n",
            "dense_layer_2 (Dense)        (None, 64)                4160      \n",
            "_________________________________________________________________\n",
            "dropout_2 (Dropout)          (None, 64)                0         \n",
            "_________________________________________________________________\n",
            "dense_layer_3 (Dense)        (None, 10)                650       \n",
            "=================================================================\n",
            "Total params: 55,050\n",
            "Trainable params: 55,050\n",
            "Non-trainable params: 0\n",
            "_________________________________________________________________\n"
          ],
          "name": "stdout"
        }
      ]
    },
    {
      "cell_type": "code",
      "metadata": {
        "id": "71IzuyLBt3pQ"
      },
      "source": [
        "# Compiling the model.\n",
        "model_3.compile(optimizer='Adam', \n",
        "              loss='categorical_crossentropy',\n",
        "              metrics=['accuracy'])"
      ],
      "execution_count": 42,
      "outputs": []
    },
    {
      "cell_type": "code",
      "metadata": {
        "id": "KfP4B4Sat3pW",
        "colab": {
          "base_uri": "https://localhost:8080/"
        },
        "outputId": "9f9042bf-ba51-4828-cf65-350f70cfb0e4"
      },
      "source": [
        "# Training the model. \n",
        "training = model_3.fit(X_train, Y_train, batch_size=128, epochs=20, validation_split=0.2) \n"
      ],
      "execution_count": 43,
      "outputs": [
        {
          "output_type": "stream",
          "text": [
            "Epoch 1/20\n",
            "375/375 [==============================] - 2s 4ms/step - loss: 1.1240 - accuracy: 0.6296 - val_loss: 0.2271 - val_accuracy: 0.9323\n",
            "Epoch 2/20\n",
            "375/375 [==============================] - 1s 4ms/step - loss: 0.3524 - accuracy: 0.8938 - val_loss: 0.1760 - val_accuracy: 0.9489\n",
            "Epoch 3/20\n",
            "375/375 [==============================] - 1s 3ms/step - loss: 0.2812 - accuracy: 0.9188 - val_loss: 0.1530 - val_accuracy: 0.9554\n",
            "Epoch 4/20\n",
            "375/375 [==============================] - 1s 3ms/step - loss: 0.2431 - accuracy: 0.9277 - val_loss: 0.1459 - val_accuracy: 0.9575\n",
            "Epoch 5/20\n",
            "375/375 [==============================] - 1s 4ms/step - loss: 0.2108 - accuracy: 0.9379 - val_loss: 0.1312 - val_accuracy: 0.9617\n",
            "Epoch 6/20\n",
            "375/375 [==============================] - 1s 4ms/step - loss: 0.2048 - accuracy: 0.9391 - val_loss: 0.1223 - val_accuracy: 0.9647\n",
            "Epoch 7/20\n",
            "375/375 [==============================] - 1s 4ms/step - loss: 0.1905 - accuracy: 0.9440 - val_loss: 0.1183 - val_accuracy: 0.9664\n",
            "Epoch 8/20\n",
            "375/375 [==============================] - 1s 4ms/step - loss: 0.1715 - accuracy: 0.9484 - val_loss: 0.1123 - val_accuracy: 0.9673\n",
            "Epoch 9/20\n",
            "375/375 [==============================] - 1s 4ms/step - loss: 0.1688 - accuracy: 0.9474 - val_loss: 0.1145 - val_accuracy: 0.9663\n",
            "Epoch 10/20\n",
            "375/375 [==============================] - 1s 4ms/step - loss: 0.1601 - accuracy: 0.9523 - val_loss: 0.1084 - val_accuracy: 0.9687\n",
            "Epoch 11/20\n",
            "375/375 [==============================] - 1s 4ms/step - loss: 0.1475 - accuracy: 0.9536 - val_loss: 0.1104 - val_accuracy: 0.9682\n",
            "Epoch 12/20\n",
            "375/375 [==============================] - 1s 3ms/step - loss: 0.1448 - accuracy: 0.9540 - val_loss: 0.1055 - val_accuracy: 0.9693\n",
            "Epoch 13/20\n",
            "375/375 [==============================] - 1s 4ms/step - loss: 0.1408 - accuracy: 0.9555 - val_loss: 0.1138 - val_accuracy: 0.9684\n",
            "Epoch 14/20\n",
            "375/375 [==============================] - 1s 3ms/step - loss: 0.1392 - accuracy: 0.9573 - val_loss: 0.1015 - val_accuracy: 0.9725\n",
            "Epoch 15/20\n",
            "375/375 [==============================] - 1s 4ms/step - loss: 0.1296 - accuracy: 0.9607 - val_loss: 0.1071 - val_accuracy: 0.9697\n",
            "Epoch 16/20\n",
            "375/375 [==============================] - 1s 4ms/step - loss: 0.1273 - accuracy: 0.9613 - val_loss: 0.0985 - val_accuracy: 0.9712\n",
            "Epoch 17/20\n",
            "375/375 [==============================] - 1s 4ms/step - loss: 0.1298 - accuracy: 0.9620 - val_loss: 0.1039 - val_accuracy: 0.9712\n",
            "Epoch 18/20\n",
            "375/375 [==============================] - 1s 4ms/step - loss: 0.1230 - accuracy: 0.9615 - val_loss: 0.1004 - val_accuracy: 0.9718\n",
            "Epoch 19/20\n",
            "375/375 [==============================] - 1s 4ms/step - loss: 0.1156 - accuracy: 0.9632 - val_loss: 0.1002 - val_accuracy: 0.9722\n",
            "Epoch 20/20\n",
            "375/375 [==============================] - 1s 4ms/step - loss: 0.1154 - accuracy: 0.9649 - val_loss: 0.0982 - val_accuracy: 0.9730\n"
          ],
          "name": "stdout"
        }
      ]
    },
    {
      "cell_type": "code",
      "metadata": {
        "id": "uuwhbVkxj0iR",
        "colab": {
          "base_uri": "https://localhost:8080/",
          "height": 592
        },
        "outputId": "a1265f86-8fc8-4e19-fa7f-02fc679c17a3"
      },
      "source": [
        "import matplotlib.pyplot as plt\n",
        "%matplotlib inline\n",
        "# list all data in training\n",
        "print(training.history.keys())\n",
        "# summarize training for accuracy\n",
        "plt.plot(training.history['accuracy'])\n",
        "plt.plot(training.history['val_accuracy'])\n",
        "plt.title('model accuracy')\n",
        "plt.ylabel('accuracy')\n",
        "plt.xlabel('epoch')\n",
        "plt.legend(['train', 'test'], loc='upper left')\n",
        "plt.show()\n",
        "# summarize traning for loss\n",
        "plt.plot(training.history['loss'])\n",
        "plt.plot(training.history['val_loss'])\n",
        "plt.title('model loss')\n",
        "plt.ylabel('loss')\n",
        "plt.xlabel('epoch')\n",
        "plt.legend(['train', 'test'], loc='upper left')\n",
        "plt.show()"
      ],
      "execution_count": 44,
      "outputs": [
        {
          "output_type": "stream",
          "text": [
            "dict_keys(['loss', 'accuracy', 'val_loss', 'val_accuracy'])\n"
          ],
          "name": "stdout"
        },
        {
          "output_type": "display_data",
          "data": {
            "image/png": "[encoded data removed]",
            "text/plain": [
              "<Figure size 432x288 with 1 Axes>"
            ]
          },
          "metadata": {
            "tags": [],
            "needs_background": "light"
          }
        },
        {
          "output_type": "display_data",
          "data": {
            "image/png": "[encoded data removed]",
            "text/plain": [
              "<Figure size 432x288 with 1 Axes>"
            ]
          },
          "metadata": {
            "tags": [],
            "needs_background": "light"
          }
        }
      ]
    },
    {
      "cell_type": "code",
      "metadata": {
        "id": "En35EsWnuHmC",
        "colab": {
          "base_uri": "https://localhost:8080/"
        },
        "outputId": "975f3aa5-bf6a-4745-c7bd-3bce1738ad30"
      },
      "source": [
        "#evaluate the model\n",
        "test_loss, test_acc = model_3.evaluate(X_test, Y_test)\n",
        "print('Test accuracy:', test_acc)"
      ],
      "execution_count": 45,
      "outputs": [
        {
          "output_type": "stream",
          "text": [
            "313/313 [==============================] - 0s 1ms/step - loss: 0.1013 - accuracy: 0.9710\n",
            "Test accuracy: 0.9710000157356262\n"
          ],
          "name": "stdout"
        }
      ]
    },
    {
      "cell_type": "code",
      "metadata": {
        "id": "Vn7mv0zhj0i2",
        "colab": {
          "base_uri": "https://localhost:8080/",
          "height": 34
        },
        "outputId": "447a199b-d5ed-49f8-f89b-594175fbf89e"
      },
      "source": [
        "model_3.summary"
      ],
      "execution_count": null,
      "outputs": [
        {
          "output_type": "execute_result",
          "data": {
            "text/plain": [
              "<bound method Network.summary of <tensorflow.python.keras.engine.sequential.Sequential object at 0x7ffa9a49a630>>"
            ]
          },
          "metadata": {
            "tags": []
          },
          "execution_count": 100
        }
      ]
    },
    {
      "cell_type": "code",
      "metadata": {
        "id": "P5eSv_K5j0jK",
        "colab": {
          "base_uri": "https://localhost:8080/",
          "height": 1000
        },
        "outputId": "a021ef71-57e4-4f83-8d8f-a04c2e5b49aa"
      },
      "source": [
        "model_3.weights"
      ],
      "execution_count": null,
      "outputs": [
        {
          "output_type": "execute_result",
          "data": {
            "text/plain": [
              "[<tf.Variable 'dense_layer_13/kernel:0' shape=(784, 64) dtype=float32, numpy=\n",
              " array([[-0.0470706 , -0.0605566 ,  0.05311502, ..., -0.01239798,\n",
              "         -0.0326965 , -0.02283692],\n",
              "        [ 0.07164595,  0.02803487, -0.02333463, ...,  0.01268711,\n",
              "         -0.03852979,  0.02235638],\n",
              "        [ 0.05867215, -0.01342206,  0.06247915, ...,  0.01603825,\n",
              "         -0.03628643,  0.08254684],\n",
              "        ...,\n",
              "        [-0.01443823,  0.02990945, -0.03689074, ..., -0.03065324,\n",
              "         -0.08300345, -0.03869148],\n",
              "        [ 0.06107562,  0.07450309,  0.07854266, ..., -0.07303339,\n",
              "         -0.01769431,  0.02703007],\n",
              "        [ 0.04674842,  0.00284481, -0.06997869, ...,  0.04096612,\n",
              "          0.07909941, -0.07747878]], dtype=float32)>,\n",
              " <tf.Variable 'dense_layer_13/bias:0' shape=(64,) dtype=float32, numpy=\n",
              " array([ 0.10088244,  0.18129638,  0.12534155,  0.20884629, -0.1675351 ,\n",
              "         0.07976656,  0.12854438,  0.1139936 ,  0.114476  ,  0.03627298,\n",
              "         0.07132903, -0.01702681,  0.12008646, -0.21088558, -0.1324918 ,\n",
              "         0.11062928, -0.02381096,  0.05061848,  0.2108599 , -0.06089197,\n",
              "         0.14248879,  0.18774086,  0.01980659, -0.08696775,  0.01647558,\n",
              "         0.04214298, -0.13008761, -0.19700107,  0.1633848 ,  0.02320112,\n",
              "         0.04256311, -0.18670858,  0.09073232,  0.03259607,  0.138731  ,\n",
              "         0.14557911, -0.17825799,  0.11196923, -0.00412054, -0.01948399,\n",
              "         0.0097669 ,  0.01620232,  0.10847654, -0.30725443, -0.11319588,\n",
              "        -0.15700898,  0.02590508,  0.0579115 ,  0.03796792,  0.21784915,\n",
              "        -0.09549914, -0.06987676, -0.19919446, -0.09664752, -0.1258551 ,\n",
              "        -0.14236246,  0.22991958, -0.13837199, -0.07291663,  0.14777851,\n",
              "        -0.11686894,  0.15530914,  0.05171415, -0.09861977], dtype=float32)>,\n",
              " <tf.Variable 'dense_layer_2_9/kernel:0' shape=(64, 64) dtype=float32, numpy=\n",
              " array([[-4.0781382e-01, -6.8228334e-02,  4.0575877e-01, ...,\n",
              "         -7.2645722e-05, -2.5101976e-02,  1.5503132e-01],\n",
              "        [-2.5653794e-01, -4.6340537e-01,  3.8930133e-02, ...,\n",
              "          3.1169134e-01,  8.7202666e-03, -1.0850321e-01],\n",
              "        [ 7.3149897e-02, -1.1395136e-01, -9.5249362e-02, ...,\n",
              "          9.2661090e-02,  1.5565404e-02, -4.2817852e-01],\n",
              "        ...,\n",
              "        [ 9.6417643e-02, -2.5123453e-01, -1.9544794e-01, ...,\n",
              "          5.5191256e-02,  4.6664231e-02,  3.6760237e-02],\n",
              "        [-6.4554530e-01, -2.5379978e-02, -1.2536760e-01, ...,\n",
              "          1.5836065e-01, -2.2185858e-01,  1.1060374e-01],\n",
              "        [-2.0423849e-01,  5.2111739e-01,  6.8455376e-02, ...,\n",
              "         -4.2958722e-02, -7.7344991e-02,  2.8873888e-01]], dtype=float32)>,\n",
              " <tf.Variable 'dense_layer_2_9/bias:0' shape=(64,) dtype=float32, numpy=\n",
              " array([ 0.1755591 ,  0.46047127,  0.14018022, -0.05229123,  0.28742462,\n",
              "         0.2864333 ,  0.29529786,  0.05272812, -0.13269603,  0.4980384 ,\n",
              "         0.1444995 ,  0.18650608, -0.0848458 ,  0.17965637,  0.39334434,\n",
              "         0.20629558, -0.11217009,  0.37477803,  0.2647638 ,  0.16042486,\n",
              "         0.22444241, -0.04642924,  0.11544821,  0.3029032 ,  0.5770661 ,\n",
              "         0.23867013,  0.3206537 ,  0.3430054 ,  0.19473259,  0.018384  ,\n",
              "         0.10373057,  0.03308691, -0.02490985,  0.20072588,  0.17520691,\n",
              "         0.20531297,  0.33308673, -0.25081512, -0.01790644,  0.31960648,\n",
              "         0.20417666,  0.3296084 ,  0.00317623, -0.02972183,  0.15245304,\n",
              "         0.18554775,  0.09421682, -0.0669879 ,  0.05807612,  0.04690688,\n",
              "         0.34504554, -0.03155986,  0.41826814, -0.00698835,  0.00426959,\n",
              "         0.38986772, -0.01295717,  0.02660272, -0.08271722, -0.22099546,\n",
              "         0.12743472,  0.0175237 ,  0.16526353,  0.33311957], dtype=float32)>,\n",
              " <tf.Variable 'dense_layer_3_9/kernel:0' shape=(64, 10) dtype=float32, numpy=\n",
              " array([[ 0.21370365, -0.4821873 ,  0.09995935, -0.08871552, -0.2279562 ,\n",
              "         -0.23503259, -0.4855176 ,  0.23965117,  0.26352218, -0.13258646],\n",
              "        [-0.24014358,  0.24438071, -0.1106395 ,  0.06692962,  0.2668029 ,\n",
              "         -0.6459054 , -0.61187476,  0.1697124 ,  0.17991829,  0.25561517],\n",
              "        [-0.314797  ,  0.25031433,  0.23853713, -0.20425169,  0.14107478,\n",
              "          0.13548017,  0.2713912 , -0.35732383,  0.23714884, -0.24512722],\n",
              "        [ 0.22794868,  0.27703482,  0.2976778 ,  0.21336612,  0.2135935 ,\n",
              "          0.04617962, -0.36232692,  0.20018086, -0.2665472 , -0.6507202 ],\n",
              "        [ 0.03641258, -0.60497415, -0.6461229 ,  0.03093209,  0.25550592,\n",
              "          0.29778922,  0.3218019 , -0.47052926,  0.28940973,  0.22328512],\n",
              "        [-0.17798552, -0.2418651 , -0.18928072, -0.3885612 ,  0.46861273,\n",
              "         -0.335928  , -0.32590204, -0.50408465,  0.03097473,  0.42560852],\n",
              "        [ 0.27196735, -0.15742148, -0.2583754 , -0.36473435, -0.6536323 ,\n",
              "          0.20740241, -0.45559648,  0.24609008, -0.2402682 ,  0.12875335],\n",
              "        [-0.4029673 ,  0.27841824,  0.18639581,  0.16494481, -0.26743537,\n",
              "         -0.70598483, -0.22826858,  0.19763558, -0.210619  ,  0.19233827],\n",
              "        [ 0.27592328, -0.3121325 ,  0.26364818, -0.10816386,  0.1692552 ,\n",
              "         -0.16389337,  0.27770957,  0.08217525, -0.30225733, -0.258207  ],\n",
              "        [ 0.32099378, -0.34473482, -0.48329628,  0.18712515, -0.6077287 ,\n",
              "          0.2877816 , -0.266275  ,  0.10284257,  0.27267137,  0.18024519],\n",
              "        [-0.44068325,  0.10924719,  0.06661757,  0.03345614, -0.61613137,\n",
              "          0.11035155,  0.16673574, -0.00788756,  0.12066796, -0.74274105],\n",
              "        [ 0.3023181 , -0.54940146,  0.25527743, -0.13363954,  0.24115896,\n",
              "          0.24542116,  0.27913013, -0.42816508,  0.22650655,  0.09021869],\n",
              "        [-0.2713207 ,  0.18252599,  0.30174643, -0.10838459, -0.5737162 ,\n",
              "          0.26946008,  0.30212638,  0.01025194,  0.25249183, -0.31710425],\n",
              "        [-0.5007046 , -0.14305808, -0.22915827, -0.02279005,  0.32176644,\n",
              "         -0.24438682, -0.2077252 ,  0.2820241 , -0.33958083,  0.27681264],\n",
              "        [ 0.2989742 , -0.65562654, -0.17291352,  0.1351119 , -0.72995496,\n",
              "          0.15825993, -0.65972406,  0.24283485,  0.2914102 ,  0.2008285 ],\n",
              "        [-0.3222801 ,  0.40421292, -0.49580917, -0.33314466, -0.07250943,\n",
              "         -0.28722072, -0.6274078 ,  0.37050295, -0.2803774 ,  0.19740777],\n",
              "        [ 0.07460383, -0.244543  ,  0.29780567,  0.25502673, -0.54904866,\n",
              "         -0.05692095, -0.4195504 ,  0.16722362,  0.20099467, -0.41109672],\n",
              "        [-0.23764396,  0.32098952, -0.79457104, -0.5741067 ,  0.10813852,\n",
              "          0.26541775,  0.11190618, -0.0607031 ,  0.2847795 , -0.10508895],\n",
              "        [-0.13921228, -0.12298802, -0.04940356, -0.36679116, -0.2437951 ,\n",
              "          0.19442722, -0.18482316, -0.5288793 ,  0.3962083 , -0.5488445 ],\n",
              "        [ 0.34872308, -0.33515486, -0.08332206,  0.31633815, -0.6799036 ,\n",
              "          0.30856296,  0.08840486, -0.11473158, -0.49694175, -0.28682607],\n",
              "        [ 0.09874347, -0.76915234,  0.20446499,  0.20457222, -0.4090241 ,\n",
              "         -0.41106108, -0.7226522 ,  0.11558807,  0.11982436,  0.19256687],\n",
              "        [-0.24786094,  0.30760488,  0.23033582, -0.52179146,  0.2676183 ,\n",
              "          0.07933949,  0.31829923, -0.19990405, -0.0212066 ,  0.15461008],\n",
              "        [-0.14817731, -0.46631607, -0.38999397,  0.36533374, -0.05558748,\n",
              "          0.37901857, -0.20971362, -0.5391535 ,  0.14019184,  0.3590845 ],\n",
              "        [-0.45526966,  0.27698797, -0.05975458,  0.29477468, -0.3569993 ,\n",
              "         -0.39986882, -0.58842665,  0.26846245,  0.22648631,  0.28212148],\n",
              "        [ 0.34667546,  0.49007156, -0.37296563, -0.31330612, -0.19923346,\n",
              "         -0.38282672,  0.2917028 , -0.15996817,  0.5113589 , -0.34352982],\n",
              "        [ 0.3096252 , -0.6114181 , -0.56025636, -0.42241493,  0.21803072,\n",
              "          0.22581565,  0.1822692 ,  0.21520495, -0.13177344, -0.3157114 ],\n",
              "        [ 0.428892  , -0.5893937 , -0.03278527,  0.3330057 ,  0.40075055,\n",
              "          0.15405382, -0.308136  , -0.56309444,  0.06217959,  0.04233563],\n",
              "        [ 0.37159988, -0.2181733 , -0.00574952, -0.28783175, -0.38887113,\n",
              "         -0.31085017,  0.33899692, -0.7317295 ,  0.34329167, -0.60373217],\n",
              "        [-0.17146586, -0.45837975,  0.01621148, -0.3334288 ,  0.44238013,\n",
              "         -0.18411624, -0.47551146, -0.43796238, -0.11543346,  0.4124699 ],\n",
              "        [-0.42884737,  0.08129807,  0.21343723,  0.24512075,  0.17356028,\n",
              "         -0.43741223,  0.12176995,  0.03328931,  0.0428995 , -0.60140866],\n",
              "        [ 0.18723315, -0.50344586,  0.12984069, -0.20360114,  0.14365716,\n",
              "         -0.16686223,  0.1660154 ,  0.15950999, -0.6443348 ,  0.11307498],\n",
              "        [-0.11842545, -0.5792567 , -0.12396777, -0.30839345,  0.31739953,\n",
              "          0.28468516, -0.2520185 ,  0.36748052, -0.11545683,  0.03303384],\n",
              "        [ 0.13253689, -0.4111417 ,  0.14753479, -0.29760388, -0.54655   ,\n",
              "          0.03693283,  0.01675776,  0.0563292 , -0.41503757,  0.20598596],\n",
              "        [-0.45385864,  0.18458565,  0.16647078,  0.1805272 ,  0.21265304,\n",
              "          0.1373933 , -0.7719268 , -0.30630857,  0.20564106,  0.16269824],\n",
              "        [-0.64252114,  0.22122917, -0.6390982 ,  0.14596826,  0.23492204,\n",
              "         -0.10987929, -0.75505376,  0.25821322, -0.42252564,  0.25995478],\n",
              "        [ 0.32317686, -0.6252342 ,  0.1730689 ,  0.05671719,  0.02329782,\n",
              "         -0.5259492 , -0.07424413, -0.54304934,  0.14959094, -0.11679304],\n",
              "        [ 0.39615017, -0.44514808, -0.19223498, -0.36119488, -0.4212406 ,\n",
              "          0.15209982, -0.03847541, -0.4910034 ,  0.18925475,  0.38767532],\n",
              "        [ 0.12268135,  0.04928337,  0.15180346,  0.13417007, -0.66640663,\n",
              "          0.16017848, -0.03969402,  0.18299586, -0.5155229 , -0.1533129 ],\n",
              "        [-0.49117166, -0.5533216 , -0.46687305,  0.17313676, -0.06971823,\n",
              "          0.24691606, -0.61724305,  0.188824  , -0.37267494,  0.03896413],\n",
              "        [ 0.2712204 , -0.694637  , -0.3264002 ,  0.28882152,  0.04970665,\n",
              "          0.22789466,  0.32579124, -0.6283117 , -0.21982858, -0.40689716],\n",
              "        [ 0.01150626,  0.2059879 ,  0.18903655, -0.2986938 ,  0.22798294,\n",
              "         -0.33633184, -0.5044318 ,  0.08330148,  0.19843498, -0.08940884],\n",
              "        [-0.6882293 ,  0.0540971 , -0.55277544, -0.01360319, -0.15559913,\n",
              "          0.32877693,  0.2073235 , -0.5239112 ,  0.31714556,  0.4004381 ],\n",
              "        [-0.7457299 ,  0.15882455,  0.18859503,  0.09734698, -0.6267157 ,\n",
              "          0.10624105, -0.4045831 , -0.17881703,  0.05480117, -0.17721844],\n",
              "        [-0.5808471 ,  0.30451173,  0.32086805,  0.29929036, -0.528424  ,\n",
              "          0.04939485, -0.17313904,  0.29247743,  0.255709  , -0.6185541 ],\n",
              "        [-0.2962976 , -0.10245261, -0.08491356,  0.2942048 ,  0.08043777,\n",
              "          0.3221592 , -0.23515533, -0.8622369 ,  0.18574373,  0.19467565],\n",
              "        [-0.46945417, -0.60882974, -0.0128899 , -0.42704058,  0.13084427,\n",
              "          0.17240669,  0.23267786, -0.5924645 ,  0.19948027,  0.19127895],\n",
              "        [ 0.30386862, -0.6111507 ,  0.2800929 ,  0.27545196,  0.14884551,\n",
              "         -0.3465885 , -0.10855585,  0.22307679,  0.17261074,  0.22617514],\n",
              "        [-0.42878982,  0.2565101 ,  0.16895708, -0.1690192 ,  0.07255176,\n",
              "          0.2727414 , -0.19589838,  0.20166312, -0.34706196, -0.75948864],\n",
              "        [-0.807278  ,  0.14767523, -0.43792725,  0.03568921, -0.30212954,\n",
              "          0.09257218,  0.17449111, -0.55955845, -0.3288794 ,  0.10426355],\n",
              "        [ 0.21935724, -0.10598341, -0.617786  , -0.50339943, -0.02287374,\n",
              "         -0.32181585,  0.22620174,  0.18301417, -0.56131345, -0.2975914 ],\n",
              "        [-0.74959403,  0.26266414, -0.31276006,  0.281582  ,  0.25928554,\n",
              "          0.26490867, -0.5325263 , -0.26613927,  0.07424971,  0.25586492],\n",
              "        [-0.19667445,  0.23618357, -0.2167998 ,  0.2193336 ,  0.08509111,\n",
              "         -0.24707319, -0.08119424,  0.14375213, -0.63727546, -0.4700852 ],\n",
              "        [-0.11837143,  0.38037091, -0.22750367, -0.43412456,  0.1430964 ,\n",
              "         -0.41291025,  0.3125078 , -0.25942296,  0.4093803 , -0.43564382],\n",
              "        [-0.24398492, -0.33058664, -0.4117015 , -0.38844624,  0.09563109,\n",
              "          0.20382039,  0.27331096,  0.14312142, -0.11807151, -0.3220905 ],\n",
              "        [-0.07310602,  0.15416524,  0.11302956, -0.6123636 ,  0.30735096,\n",
              "         -0.5059039 ,  0.17820619,  0.0721107 , -0.45447958, -0.37374586],\n",
              "        [-0.30770284, -0.00359771, -0.22976738,  0.22625601, -0.6635102 ,\n",
              "         -0.3279724 , -0.84648764,  0.16123933,  0.3359848 ,  0.09132244],\n",
              "        [-0.0030071 ,  0.18070638, -0.38973555, -0.3971632 , -0.3683571 ,\n",
              "         -0.26403245,  0.5142373 ,  0.1019116 , -0.18222561, -0.3931493 ],\n",
              "        [-0.21841003, -0.42261064,  0.21833059, -0.30740815,  0.18993083,\n",
              "         -0.40580186,  0.19164442,  0.1500295 , -0.51544976,  0.1511909 ],\n",
              "        [-0.7666487 ,  0.10436942,  0.16885087,  0.25542125,  0.15984079,\n",
              "          0.289036  , -0.47540736,  0.26767096, -0.68472695,  0.21021278],\n",
              "        [-0.7532346 ,  0.19157767,  0.27336118,  0.21564128, -0.35698825,\n",
              "         -0.21665458, -0.47296944,  0.25313318, -0.11598594, -0.56031334],\n",
              "        [-0.23259348,  0.28870237, -0.62248266, -0.3733366 ,  0.18998204,\n",
              "         -0.384754  , -0.36345467,  0.23562494, -0.5234669 ,  0.13369891],\n",
              "        [ 0.19168451,  0.22975326,  0.12439388,  0.01325776, -0.4264903 ,\n",
              "          0.12655343,  0.21209592, -0.5923908 , -0.20632918, -0.23236379],\n",
              "        [-0.16485515, -0.6065631 , -0.07567848, -0.48055306,  0.21620922,\n",
              "         -0.5426247 ,  0.31675828,  0.17157267,  0.01705871,  0.11222655],\n",
              "        [-0.13005637, -0.05477382, -0.42866978, -0.22669253,  0.34600356,\n",
              "         -0.17782383, -0.47098714, -0.61779445, -0.1471275 ,  0.39183915]],\n",
              "       dtype=float32)>,\n",
              " <tf.Variable 'dense_layer_3_9/bias:0' shape=(10,) dtype=float32, numpy=\n",
              " array([ 0.22892731,  0.05918827, -0.24621633, -0.11734647, -0.02094047,\n",
              "        -0.06462077, -0.07601947, -0.2618203 ,  0.36780226,  0.07394043],\n",
              "       dtype=float32)>]"
            ]
          },
          "metadata": {
            "tags": []
          },
          "execution_count": 101
        }
      ]
    },
    {
      "cell_type": "code",
      "metadata": {
        "id": "OK9ct5w-j0jm",
        "colab": {
          "base_uri": "https://localhost:8080/",
          "height": 1000
        },
        "outputId": "6970f9ac-b538-412a-ac9f-c886a2895fcd"
      },
      "source": [
        "model_3.get_config()"
      ],
      "execution_count": null,
      "outputs": [
        {
          "output_type": "execute_result",
          "data": {
            "text/plain": [
              "{'build_input_shape': TensorShape([None, 784]),\n",
              " 'layers': [{'class_name': 'Dense',\n",
              "   'config': {'activation': 'relu',\n",
              "    'activity_regularizer': None,\n",
              "    'batch_input_shape': (None, 784),\n",
              "    'bias_constraint': None,\n",
              "    'bias_initializer': {'class_name': 'Zeros', 'config': {}},\n",
              "    'bias_regularizer': None,\n",
              "    'dtype': 'float32',\n",
              "    'kernel_constraint': None,\n",
              "    'kernel_initializer': {'class_name': 'GlorotUniform',\n",
              "     'config': {'seed': None}},\n",
              "    'kernel_regularizer': None,\n",
              "    'name': 'dense_layer',\n",
              "    'trainable': True,\n",
              "    'units': 64,\n",
              "    'use_bias': True}},\n",
              "  {'class_name': 'Dropout',\n",
              "   'config': {'dtype': 'float32',\n",
              "    'name': 'dropout_16',\n",
              "    'noise_shape': None,\n",
              "    'rate': 0.3,\n",
              "    'seed': None,\n",
              "    'trainable': True}},\n",
              "  {'class_name': 'Dense',\n",
              "   'config': {'activation': 'relu',\n",
              "    'activity_regularizer': None,\n",
              "    'bias_constraint': None,\n",
              "    'bias_initializer': {'class_name': 'Zeros', 'config': {}},\n",
              "    'bias_regularizer': None,\n",
              "    'dtype': 'float32',\n",
              "    'kernel_constraint': None,\n",
              "    'kernel_initializer': {'class_name': 'GlorotUniform',\n",
              "     'config': {'seed': None}},\n",
              "    'kernel_regularizer': None,\n",
              "    'name': 'dense_layer_2',\n",
              "    'trainable': True,\n",
              "    'units': 64,\n",
              "    'use_bias': True}},\n",
              "  {'class_name': 'Dropout',\n",
              "   'config': {'dtype': 'float32',\n",
              "    'name': 'dropout_17',\n",
              "    'noise_shape': None,\n",
              "    'rate': 0.3,\n",
              "    'seed': None,\n",
              "    'trainable': True}},\n",
              "  {'class_name': 'Dense',\n",
              "   'config': {'activation': 'softmax',\n",
              "    'activity_regularizer': None,\n",
              "    'bias_constraint': None,\n",
              "    'bias_initializer': {'class_name': 'Zeros', 'config': {}},\n",
              "    'bias_regularizer': None,\n",
              "    'dtype': 'float32',\n",
              "    'kernel_constraint': None,\n",
              "    'kernel_initializer': {'class_name': 'GlorotUniform',\n",
              "     'config': {'seed': None}},\n",
              "    'kernel_regularizer': None,\n",
              "    'name': 'dense_layer_3',\n",
              "    'trainable': True,\n",
              "    'units': 10,\n",
              "    'use_bias': True}}],\n",
              " 'name': 'sequential_11'}"
            ]
          },
          "metadata": {
            "tags": []
          },
          "execution_count": 102
        }
      ]
    },
    {
      "cell_type": "markdown",
      "metadata": {
        "id": "mBnxm6kkzUYm"
      },
      "source": [
        "###Improved Model 4: Increasing the number of Hidden Layer neuron "
      ]
    },
    {
      "cell_type": "code",
      "metadata": {
        "id": "1tV9x2SNzUYq"
      },
      "source": [
        "import tensorflow as tf\n",
        "from tensorflow.keras.layers import Dense\n",
        "from tensorflow.keras import Sequential\n",
        "from tensorflow.keras.layers import Dropout\n",
        "\n",
        "#Most common type of model is a stack of layers\n",
        "model_4 = tf.keras.Sequential()\n",
        "N_hidden = 512\n",
        "# Adds a densely-connected layer with 64 units to the model:\n",
        "model_4.add(Dense(N_hidden, name='dense_layer_1', input_shape=(784,), activation = 'relu'))\n",
        "# Now the model will take as input arrays of shape (*, 784)# and output arrays of shape (*, 64)\n",
        "model_4.add(Dropout(0.5))\n",
        "# Adding another dense layer:\n",
        "model_4.add(Dense(N_hidden, name='dense_layer_2', activation='relu'))\n",
        "model_4.add(Dropout(0.5))\n",
        "# After the first layer, you don't need to specify\u000b# the size of the input anymore:\n",
        "# Add an output layer with 10 output units (10 different classes):\n",
        "model_4.add(Dense(10, name='dense_layer_3', activation = 'softmax'))\n"
      ],
      "execution_count": 71,
      "outputs": []
    },
    {
      "cell_type": "code",
      "metadata": {
        "colab": {
          "base_uri": "https://localhost:8080/"
        },
        "id": "BQr6-tFlIgfE",
        "outputId": "91556001-cc68-47a0-93ae-dcd6c3d59eec"
      },
      "source": [
        "model_4.summary()"
      ],
      "execution_count": 72,
      "outputs": [
        {
          "output_type": "stream",
          "text": [
            "Model: \"sequential_9\"\n",
            "_________________________________________________________________\n",
            "Layer (type)                 Output Shape              Param #   \n",
            "=================================================================\n",
            "dense_layer_1 (Dense)        (None, 512)               401920    \n",
            "_________________________________________________________________\n",
            "dropout_11 (Dropout)         (None, 512)               0         \n",
            "_________________________________________________________________\n",
            "dense_layer_2 (Dense)        (None, 512)               262656    \n",
            "_________________________________________________________________\n",
            "dropout_12 (Dropout)         (None, 512)               0         \n",
            "_________________________________________________________________\n",
            "dense_layer_3 (Dense)        (None, 10)                5130      \n",
            "=================================================================\n",
            "Total params: 669,706\n",
            "Trainable params: 669,706\n",
            "Non-trainable params: 0\n",
            "_________________________________________________________________\n"
          ],
          "name": "stdout"
        }
      ]
    },
    {
      "cell_type": "code",
      "metadata": {
        "id": "ODypsK52zUY3"
      },
      "source": [
        "# Compiling the model.\n",
        "model_4.compile(optimizer='Adam', \n",
        "              loss='categorical_crossentropy',\n",
        "              metrics=['accuracy'])"
      ],
      "execution_count": 73,
      "outputs": []
    },
    {
      "cell_type": "code",
      "metadata": {
        "id": "wcbJiQdpzUY_",
        "colab": {
          "base_uri": "https://localhost:8080/"
        },
        "outputId": "c73f21f0-0c88-42e7-d152-605f70fe9fc9"
      },
      "source": [
        "# Training the model. \n",
        "training = model_4.fit(X_train, Y_train, batch_size=128, epochs=35, validation_split=0.2) \n"
      ],
      "execution_count": 74,
      "outputs": [
        {
          "output_type": "stream",
          "text": [
            "Epoch 1/35\n",
            "375/375 [==============================] - 6s 16ms/step - loss: 0.6684 - accuracy: 0.7866 - val_loss: 0.1383 - val_accuracy: 0.9591\n",
            "Epoch 2/35\n",
            "375/375 [==============================] - 6s 16ms/step - loss: 0.1848 - accuracy: 0.9443 - val_loss: 0.1087 - val_accuracy: 0.9678\n",
            "Epoch 3/35\n",
            "375/375 [==============================] - 6s 16ms/step - loss: 0.1379 - accuracy: 0.9586 - val_loss: 0.0912 - val_accuracy: 0.9732\n",
            "Epoch 4/35\n",
            "375/375 [==============================] - 6s 15ms/step - loss: 0.1162 - accuracy: 0.9633 - val_loss: 0.0866 - val_accuracy: 0.9723\n",
            "Epoch 5/35\n",
            "375/375 [==============================] - 6s 16ms/step - loss: 0.1002 - accuracy: 0.9690 - val_loss: 0.0790 - val_accuracy: 0.9768\n",
            "Epoch 6/35\n",
            "375/375 [==============================] - 6s 16ms/step - loss: 0.0868 - accuracy: 0.9731 - val_loss: 0.0787 - val_accuracy: 0.9777\n",
            "Epoch 7/35\n",
            "375/375 [==============================] - 6s 16ms/step - loss: 0.0762 - accuracy: 0.9747 - val_loss: 0.0758 - val_accuracy: 0.9778\n",
            "Epoch 8/35\n",
            "375/375 [==============================] - 6s 16ms/step - loss: 0.0798 - accuracy: 0.9745 - val_loss: 0.0800 - val_accuracy: 0.9765\n",
            "Epoch 9/35\n",
            "375/375 [==============================] - 6s 15ms/step - loss: 0.0713 - accuracy: 0.9759 - val_loss: 0.0762 - val_accuracy: 0.9792\n",
            "Epoch 10/35\n",
            "375/375 [==============================] - 6s 16ms/step - loss: 0.0655 - accuracy: 0.9790 - val_loss: 0.0777 - val_accuracy: 0.9786\n",
            "Epoch 11/35\n",
            "375/375 [==============================] - 6s 15ms/step - loss: 0.0597 - accuracy: 0.9814 - val_loss: 0.0779 - val_accuracy: 0.9793\n",
            "Epoch 12/35\n",
            "375/375 [==============================] - 6s 16ms/step - loss: 0.0577 - accuracy: 0.9814 - val_loss: 0.0728 - val_accuracy: 0.9794\n",
            "Epoch 13/35\n",
            "375/375 [==============================] - 6s 16ms/step - loss: 0.0550 - accuracy: 0.9820 - val_loss: 0.0773 - val_accuracy: 0.9796\n",
            "Epoch 14/35\n",
            "375/375 [==============================] - 6s 16ms/step - loss: 0.0525 - accuracy: 0.9837 - val_loss: 0.0727 - val_accuracy: 0.9803\n",
            "Epoch 15/35\n",
            "375/375 [==============================] - 6s 16ms/step - loss: 0.0499 - accuracy: 0.9839 - val_loss: 0.0730 - val_accuracy: 0.9808\n",
            "Epoch 16/35\n",
            "375/375 [==============================] - 6s 16ms/step - loss: 0.0455 - accuracy: 0.9845 - val_loss: 0.0786 - val_accuracy: 0.9801\n",
            "Epoch 17/35\n",
            "375/375 [==============================] - 6s 16ms/step - loss: 0.0482 - accuracy: 0.9842 - val_loss: 0.0742 - val_accuracy: 0.9811\n",
            "Epoch 18/35\n",
            "375/375 [==============================] - 6s 16ms/step - loss: 0.0468 - accuracy: 0.9854 - val_loss: 0.0752 - val_accuracy: 0.9812\n",
            "Epoch 19/35\n",
            "375/375 [==============================] - 6s 16ms/step - loss: 0.0421 - accuracy: 0.9858 - val_loss: 0.0714 - val_accuracy: 0.9811\n",
            "Epoch 20/35\n",
            "375/375 [==============================] - 6s 16ms/step - loss: 0.0415 - accuracy: 0.9866 - val_loss: 0.0731 - val_accuracy: 0.9800\n",
            "Epoch 21/35\n",
            "375/375 [==============================] - 6s 16ms/step - loss: 0.0446 - accuracy: 0.9854 - val_loss: 0.0761 - val_accuracy: 0.9812\n",
            "Epoch 22/35\n",
            "375/375 [==============================] - 6s 16ms/step - loss: 0.0423 - accuracy: 0.9862 - val_loss: 0.0736 - val_accuracy: 0.9820\n",
            "Epoch 23/35\n",
            "375/375 [==============================] - 6s 16ms/step - loss: 0.0421 - accuracy: 0.9869 - val_loss: 0.0800 - val_accuracy: 0.9809\n",
            "Epoch 24/35\n",
            "375/375 [==============================] - 6s 16ms/step - loss: 0.0404 - accuracy: 0.9871 - val_loss: 0.0802 - val_accuracy: 0.9815\n",
            "Epoch 25/35\n",
            "375/375 [==============================] - 6s 16ms/step - loss: 0.0410 - accuracy: 0.9872 - val_loss: 0.0743 - val_accuracy: 0.9816\n",
            "Epoch 26/35\n",
            "375/375 [==============================] - 6s 16ms/step - loss: 0.0386 - accuracy: 0.9870 - val_loss: 0.0723 - val_accuracy: 0.9818\n",
            "Epoch 27/35\n",
            "375/375 [==============================] - 6s 16ms/step - loss: 0.0363 - accuracy: 0.9883 - val_loss: 0.0793 - val_accuracy: 0.9808\n",
            "Epoch 28/35\n",
            "375/375 [==============================] - 6s 16ms/step - loss: 0.0352 - accuracy: 0.9887 - val_loss: 0.0807 - val_accuracy: 0.9805\n",
            "Epoch 29/35\n",
            "375/375 [==============================] - 6s 16ms/step - loss: 0.0373 - accuracy: 0.9878 - val_loss: 0.0776 - val_accuracy: 0.9824\n",
            "Epoch 30/35\n",
            "375/375 [==============================] - 6s 16ms/step - loss: 0.0371 - accuracy: 0.9876 - val_loss: 0.0825 - val_accuracy: 0.9807\n",
            "Epoch 31/35\n",
            "375/375 [==============================] - 6s 16ms/step - loss: 0.0324 - accuracy: 0.9888 - val_loss: 0.0832 - val_accuracy: 0.9808\n",
            "Epoch 32/35\n",
            "375/375 [==============================] - 6s 16ms/step - loss: 0.0344 - accuracy: 0.9896 - val_loss: 0.0762 - val_accuracy: 0.9827\n",
            "Epoch 33/35\n",
            "375/375 [==============================] - 6s 16ms/step - loss: 0.0321 - accuracy: 0.9905 - val_loss: 0.0801 - val_accuracy: 0.9808\n",
            "Epoch 34/35\n",
            "375/375 [==============================] - 6s 16ms/step - loss: 0.0338 - accuracy: 0.9883 - val_loss: 0.0847 - val_accuracy: 0.9813\n",
            "Epoch 35/35\n",
            "375/375 [==============================] - 6s 16ms/step - loss: 0.0326 - accuracy: 0.9896 - val_loss: 0.0821 - val_accuracy: 0.9818\n"
          ],
          "name": "stdout"
        }
      ]
    },
    {
      "cell_type": "code",
      "metadata": {
        "id": "wIywzScFzUZJ",
        "colab": {
          "base_uri": "https://localhost:8080/"
        },
        "outputId": "3ed5382a-34cc-4e16-af8d-c3502e2115cb"
      },
      "source": [
        "#evaluate the model_4\n",
        "test_loss, test_acc = model_4.evaluate(X_test, Y_test)\n",
        "print('Test accuracy:', test_acc)\n",
        "\n",
        "# Test accuracy: 0.9843999743461609"
      ],
      "execution_count": 76,
      "outputs": [
        {
          "output_type": "stream",
          "text": [
            "313/313 [==============================] - 1s 3ms/step - loss: 0.0748 - accuracy: 0.9832\n",
            "Test accuracy: 0.9832000136375427\n"
          ],
          "name": "stdout"
        }
      ]
    },
    {
      "cell_type": "code",
      "metadata": {
        "id": "L3tLcpsc3tKz",
        "colab": {
          "base_uri": "https://localhost:8080/",
          "height": 592
        },
        "outputId": "a7c1268f-7147-417f-f127-1fbeb96a1c14"
      },
      "source": [
        "import matplotlib.pyplot as plt\n",
        "%matplotlib inline\n",
        "# list all data in training\n",
        "print(training.history.keys())\n",
        "# summarize training for accuracy\n",
        "plt.plot(training.history['accuracy'])\n",
        "plt.plot(training.history['val_accuracy'])\n",
        "plt.title('model accuracy')\n",
        "plt.ylabel('accuracy')\n",
        "plt.xlabel('epoch')\n",
        "plt.legend(['train', 'test'], loc='upper left')\n",
        "plt.show()\n",
        "# summarize traning for loss\n",
        "plt.plot(training.history['loss'])\n",
        "plt.plot(training.history['val_loss'])\n",
        "plt.title('model loss')\n",
        "plt.ylabel('loss')\n",
        "plt.xlabel('epoch')\n",
        "plt.legend(['train', 'test'], loc='upper left')\n",
        "plt.show()"
      ],
      "execution_count": 77,
      "outputs": [
        {
          "output_type": "stream",
          "text": [
            "dict_keys(['loss', 'accuracy', 'val_loss', 'val_accuracy'])\n"
          ],
          "name": "stdout"
        },
        {
          "output_type": "display_data",
          "data": {
            "image/png": "[encoded data removed]",
            "text/plain": [
              "<Figure size 432x288 with 1 Axes>"
            ]
          },
          "metadata": {
            "tags": [],
            "needs_background": "light"
          }
        },
        {
          "output_type": "display_data",
          "data": {
            "image/png": "[encoded data removed]",
            "text/plain": [
              "<Figure size 432x288 with 1 Axes>"
            ]
          },
          "metadata": {
            "tags": [],
            "needs_background": "light"
          }
        }
      ]
    },
    {
      "cell_type": "code",
      "metadata": {
        "id": "FmDi5zHOkQTK",
        "colab": {
          "base_uri": "https://localhost:8080/",
          "height": 34
        },
        "outputId": "68c795bb-2e78-4d3f-fa24-7e467ecaf938"
      },
      "source": [
        "model_4.summary"
      ],
      "execution_count": null,
      "outputs": [
        {
          "output_type": "execute_result",
          "data": {
            "text/plain": [
              "<bound method Network.summary of <tensorflow.python.keras.engine.sequential.Sequential object at 0x7ffa93c5a438>>"
            ]
          },
          "metadata": {
            "tags": []
          },
          "execution_count": 108
        }
      ]
    },
    {
      "cell_type": "code",
      "metadata": {
        "id": "ogODS59VkQTO",
        "colab": {
          "base_uri": "https://localhost:8080/",
          "height": 1000
        },
        "outputId": "da6f1149-784e-4313-c2fe-5ec85caaa0dc"
      },
      "source": [
        "model_4.weights"
      ],
      "execution_count": null,
      "outputs": [
        {
          "output_type": "execute_result",
          "data": {
            "text/plain": [
              "[<tf.Variable 'dense_layer_14/kernel:0' shape=(784, 512) dtype=float32, numpy=\n",
              " array([[-0.00725385, -0.02951345, -0.01022476, ...,  0.01873028,\n",
              "         -0.00124576, -0.05969054],\n",
              "        [-0.04041503,  0.02794901, -0.01813392, ...,  0.04797897,\n",
              "         -0.05881925, -0.03724694],\n",
              "        [-0.0272625 , -0.06646182,  0.01914355, ..., -0.03670435,\n",
              "          0.0431502 ,  0.02895156],\n",
              "        ...,\n",
              "        [-0.04489559,  0.0036691 ,  0.04210217, ...,  0.04587034,\n",
              "         -0.06233099,  0.03648092],\n",
              "        [-0.06230009,  0.04979425, -0.0585332 , ...,  0.04988471,\n",
              "          0.03459144,  0.02808205],\n",
              "        [ 0.01668332,  0.05018409,  0.02200481, ...,  0.05354574,\n",
              "          0.02471522, -0.03529755]], dtype=float32)>,\n",
              " <tf.Variable 'dense_layer_14/bias:0' shape=(512,) dtype=float32, numpy=\n",
              " array([-4.91322987e-02, -3.47907729e-02,  4.97164354e-02, -4.24265079e-02,\n",
              "        -6.70888126e-02, -1.49358064e-02, -7.46583641e-02, -2.26146132e-02,\n",
              "         2.47198083e-02, -5.43470122e-02, -1.13672033e-01, -1.45252526e-01,\n",
              "        -3.26306000e-02, -1.21760666e-01, -5.92065305e-02, -5.02119884e-02,\n",
              "        -9.12411436e-02, -9.06861946e-02, -6.79436252e-02,  4.57214415e-02,\n",
              "        -1.93578023e-02, -6.16790131e-02, -5.15476279e-02, -1.20414242e-01,\n",
              "        -2.03245506e-03, -3.79460156e-02, -8.36612135e-02,  2.00305283e-02,\n",
              "        -3.72988507e-02,  4.57633473e-03, -8.62257332e-02,  6.76602349e-02,\n",
              "         3.52018438e-02,  1.93933360e-02, -1.54488916e-02, -7.58163184e-02,\n",
              "        -7.98931532e-03,  2.48427968e-02, -3.10169086e-02, -3.20485272e-02,\n",
              "        -1.04693033e-01, -2.90185120e-02, -5.65711744e-02,  1.36305531e-02,\n",
              "        -1.12695508e-01, -6.03545737e-03,  8.93139001e-03,  7.81548098e-02,\n",
              "        -6.75982013e-02, -1.21226251e-01, -5.14323711e-02,  8.15885607e-03,\n",
              "         1.13624409e-02, -9.05572847e-02, -2.06271615e-02, -6.39119223e-02,\n",
              "         8.04952579e-04, -1.33775592e-01, -1.95047501e-02,  1.07070021e-02,\n",
              "        -7.86071718e-02,  4.89044935e-03, -1.32540083e-02, -3.33501808e-02,\n",
              "         5.71406335e-02, -5.28527349e-02, -1.12009034e-01, -4.40492071e-02,\n",
              "        -4.25128527e-02, -8.34808871e-02,  3.87509316e-02, -9.42008570e-02,\n",
              "        -1.97254755e-02,  7.85134435e-02,  5.33292629e-02,  7.00876415e-02,\n",
              "        -7.11017549e-02, -4.43240628e-02,  1.60795392e-03,  4.78425100e-02,\n",
              "         2.81755701e-02, -2.45993976e-02, -2.35337038e-02, -1.03575870e-01,\n",
              "         5.89530952e-02, -8.77596959e-02, -5.98048568e-02, -1.14255123e-01,\n",
              "         9.04716700e-02, -5.07178232e-02, -7.82230273e-02,  6.00346625e-02,\n",
              "         2.30625682e-02, -1.20867908e-01, -6.61040470e-02,  1.91354274e-03,\n",
              "         4.92841229e-02,  1.60602108e-02, -7.58077502e-02, -4.94275019e-02,\n",
              "         8.23176652e-03, -1.09318659e-01, -1.65833727e-01,  5.81094343e-03,\n",
              "        -2.87283082e-02, -2.89774369e-02,  2.48017255e-02,  3.18207629e-02,\n",
              "        -2.02448368e-02, -6.51208833e-02,  7.70263299e-02, -2.75517665e-02,\n",
              "        -8.53389353e-02, -3.14819962e-02, -8.74272138e-02, -9.86498073e-02,\n",
              "        -4.32936661e-02,  1.55871017e-02,  2.01356169e-02, -1.51113356e-02,\n",
              "        -1.15649467e-02, -1.32846966e-01, -8.37702304e-02,  1.00740539e-02,\n",
              "        -3.09606586e-02, -7.27819325e-03,  1.98970437e-02, -1.71500035e-02,\n",
              "        -1.05147451e-01, -5.18173464e-02, -7.64982998e-02,  1.53249949e-01,\n",
              "        -3.77653949e-02, -6.27499074e-02,  9.87534523e-02, -8.36541429e-02,\n",
              "         4.14358601e-02,  1.22025851e-02, -6.23171730e-03, -6.46670312e-02,\n",
              "         2.21578055e-03,  5.42854629e-02, -8.29875395e-02,  4.63726334e-02,\n",
              "         4.90578823e-02,  5.05959652e-02, -4.39765900e-02,  3.19825783e-02,\n",
              "        -4.34613042e-02, -2.26122141e-02, -1.94109920e-02, -1.54068684e-02,\n",
              "        -1.00740850e-01, -3.94573584e-02, -2.23333791e-01, -2.97400523e-02,\n",
              "        -1.41117990e-01,  8.21218491e-02, -1.09948538e-01, -8.61581117e-02,\n",
              "        -3.71144600e-02, -1.15976945e-01, -9.76620149e-03, -2.27010604e-02,\n",
              "         5.53941214e-03, -1.15239583e-01, -2.46757772e-02,  1.02569886e-01,\n",
              "        -5.48562519e-02, -1.48567120e-02, -1.26411751e-01, -4.49232049e-02,\n",
              "        -3.65801319e-03, -3.67350094e-02, -1.05642349e-01, -6.71315100e-03,\n",
              "        -1.30320331e-02,  9.09307040e-03, -3.23060453e-02, -6.95461929e-02,\n",
              "         5.66678867e-02, -5.63579798e-02, -5.43133654e-02, -1.03085093e-01,\n",
              "        -7.85246640e-02, -5.03946990e-02, -2.51699481e-02, -9.25223753e-02,\n",
              "         1.10965513e-01,  1.18403975e-02, -3.67729403e-02,  1.04172677e-01,\n",
              "        -1.47017300e-01, -3.92450653e-02, -6.16339445e-02, -3.58076803e-02,\n",
              "         4.89128614e-03, -7.21839294e-02, -9.75437090e-03, -1.16910040e-02,\n",
              "        -3.98584362e-03, -1.37688825e-03, -2.47789621e-02, -1.97664965e-02,\n",
              "        -6.62307143e-02,  4.28886525e-02,  5.40906042e-02,  1.53504685e-01,\n",
              "        -1.06149465e-01,  3.92211042e-03,  1.15258154e-02, -2.41506677e-02,\n",
              "         8.59676078e-02, -2.03076694e-02, -1.02019832e-02, -6.93583190e-02,\n",
              "        -4.10718657e-02, -7.95283094e-02, -4.91657816e-02,  4.34088223e-02,\n",
              "        -2.46754996e-02,  6.78676441e-02,  7.66223622e-03, -4.57327515e-02,\n",
              "         2.82046143e-02, -4.74224128e-02, -1.18933365e-01, -1.92330871e-02,\n",
              "         6.87530786e-02, -9.06893909e-02, -1.47983711e-03,  2.80771144e-02,\n",
              "        -7.42053688e-02,  1.00238740e-01, -1.38306066e-01, -8.44288841e-02,\n",
              "         8.65707733e-03,  7.61070102e-03, -3.57452743e-02, -1.43243568e-02,\n",
              "        -8.31696242e-02, -1.82772931e-02, -2.76670177e-02, -6.23117685e-02,\n",
              "        -1.29424734e-02,  9.90033224e-02, -2.61037075e-03, -6.31007999e-02,\n",
              "        -6.29351959e-02, -4.52504084e-02, -4.24243771e-02, -9.15483944e-03,\n",
              "        -3.81132588e-02, -1.16576381e-01,  2.68511847e-03, -3.97727340e-02,\n",
              "        -1.01926595e-01, -1.22251213e-01,  5.31114563e-02, -3.73075008e-02,\n",
              "        -5.58531508e-02,  3.15744802e-02, -1.69966742e-02,  3.11970469e-02,\n",
              "        -1.36527400e-02,  1.16717583e-02, -9.94357988e-02, -8.10146779e-02,\n",
              "        -6.30239844e-02,  6.67375475e-02, -8.28441605e-03, -7.56985620e-02,\n",
              "        -1.29763141e-01,  6.98409602e-02, -7.91128278e-02, -1.35889882e-02,\n",
              "         9.04882420e-03, -4.29565571e-02,  1.51082790e-02, -6.23914227e-03,\n",
              "         5.52482642e-02, -7.33149126e-02, -3.85841914e-02, -8.60070661e-02,\n",
              "         2.64699571e-03,  1.90995485e-02, -3.09608392e-02, -2.40726516e-01,\n",
              "         4.22540270e-02, -1.17975786e-01, -1.08788766e-01, -5.63354231e-02,\n",
              "        -6.45227451e-03,  5.60096093e-03, -6.14131019e-02,  3.75228971e-02,\n",
              "        -1.60494179e-01, -1.30656242e-01, -8.87212250e-03,  8.44202489e-02,\n",
              "        -9.20462459e-02, -1.69380177e-02,  4.01743278e-02, -6.93979561e-02,\n",
              "        -3.45267579e-02, -3.98819819e-02, -4.68315482e-02, -8.57604370e-02,\n",
              "        -2.91864593e-02, -9.42513719e-02,  1.04670800e-01, -4.29921485e-02,\n",
              "         3.21328081e-02,  2.69641485e-02,  1.37916461e-01, -6.13398850e-02,\n",
              "         5.49247526e-02, -7.65648410e-02,  5.80083653e-02, -8.96765366e-02,\n",
              "        -2.35415678e-02, -3.52490619e-02, -4.73480523e-02, -1.26910478e-01,\n",
              "        -3.58489039e-03, -2.37466171e-02, -3.80742736e-02,  2.13641748e-02,\n",
              "        -3.08304038e-02, -5.56284264e-02,  4.21275198e-03,  5.07135168e-02,\n",
              "        -1.09850191e-01, -6.47220877e-04,  8.55665654e-02, -5.07469140e-02,\n",
              "        -2.98889559e-02, -1.18929513e-01, -8.08268264e-02,  5.50406463e-02,\n",
              "        -9.74701419e-02, -4.05599773e-02,  2.87008528e-02, -4.65103909e-02,\n",
              "         3.95443141e-02, -1.09356865e-01,  1.85322594e-02, -9.95672867e-03,\n",
              "        -3.18767428e-02,  3.30814086e-02,  7.01566562e-02, -2.95016402e-03,\n",
              "        -1.40822155e-03, -6.87819943e-02, -1.50665473e-02, -9.48308706e-02,\n",
              "        -6.93340674e-02, -1.67797819e-01, -7.73517638e-02, -2.18969081e-02,\n",
              "        -8.06237236e-02, -4.06240672e-02, -4.03959863e-02, -2.07873639e-02,\n",
              "         6.75210655e-02,  6.24231175e-02, -4.09420319e-02, -1.19474821e-01,\n",
              "        -6.43365607e-02, -1.50080144e-01,  2.50106901e-02, -1.76605210e-01,\n",
              "        -6.80899099e-02, -5.53847328e-02, -3.13247330e-02, -3.67170689e-03,\n",
              "        -1.25702806e-02,  2.01397352e-02, -3.13666202e-02, -4.47720885e-02,\n",
              "        -6.33771345e-02,  5.97557798e-03,  9.09153521e-02, -2.67382860e-02,\n",
              "        -8.06342661e-02, -2.37227627e-03,  1.31881395e-02, -8.17821473e-02,\n",
              "        -2.14763302e-02, -1.34572223e-01, -5.57932891e-02,  4.12973054e-02,\n",
              "         2.67053116e-02, -6.80862442e-02, -9.72951725e-02,  4.19376753e-02,\n",
              "        -2.42654607e-02, -4.24061120e-02,  5.41416928e-03, -6.12522513e-02,\n",
              "        -6.69626966e-02,  5.26158474e-02,  3.72980461e-02, -1.20586008e-01,\n",
              "        -1.15755098e-02, -1.16155982e-01, -6.10663593e-02, -6.21176884e-02,\n",
              "         9.02632624e-03,  3.41265053e-02, -7.38237193e-03, -1.59334853e-01,\n",
              "        -6.29521608e-02, -3.87828723e-02,  7.12089315e-02, -1.91163365e-02,\n",
              "         3.89117119e-03,  2.02457129e-04, -8.88646673e-03, -2.46879049e-02,\n",
              "        -9.31096822e-03, -6.08369932e-02, -9.56697091e-02, -1.39457989e-03,\n",
              "        -4.46015038e-03, -1.44414917e-01,  1.45239197e-03, -1.96947530e-01,\n",
              "        -9.49317440e-02, -7.51956329e-02, -4.98775207e-02,  1.89200742e-03,\n",
              "         2.32684929e-02,  2.39594486e-02, -6.43613264e-02, -1.06466293e-01,\n",
              "        -9.50489342e-02,  2.38688625e-02, -5.41071482e-02,  3.77142169e-02,\n",
              "        -1.39467604e-02, -4.88612726e-02, -7.47151002e-02,  1.47776790e-02,\n",
              "        -3.35644968e-02, -8.35747719e-02, -8.16661566e-02, -1.45596583e-04,\n",
              "        -8.69197249e-02, -5.93341291e-02, -5.42411283e-02,  4.68829274e-03,\n",
              "        -4.76774871e-02, -2.20040549e-02, -1.08665731e-02, -6.55770376e-02,\n",
              "         5.31721823e-02,  3.98294032e-02,  5.04664369e-02, -3.24298777e-02,\n",
              "        -9.94838551e-02, -6.61952188e-03, -5.31046232e-03, -1.18939810e-01,\n",
              "        -2.98889801e-02, -5.28814597e-03, -3.01252138e-02, -6.54510735e-03,\n",
              "        -2.77468637e-02, -1.09103592e-02, -1.37452437e-02,  8.37992355e-02,\n",
              "        -8.00722167e-02, -1.21519342e-01, -1.54086296e-03, -5.18867671e-02,\n",
              "         5.12331277e-02, -4.75868583e-02, -1.56825967e-02, -1.19686805e-01,\n",
              "        -1.52005702e-01,  2.53379121e-02, -8.53947774e-02,  9.15481432e-05,\n",
              "         5.09414487e-02,  3.07387635e-02,  1.74886696e-02, -2.74150390e-02,\n",
              "        -1.82151888e-02, -2.26295087e-02, -6.43091947e-02, -1.71807315e-02,\n",
              "        -1.41365886e-01, -9.89308953e-03, -3.89002077e-02, -9.74909514e-02,\n",
              "        -1.20676504e-02, -1.33859038e-01, -6.37789071e-02,  9.59583595e-02,\n",
              "        -4.38886471e-02, -2.30560750e-01, -3.96285243e-02,  5.33491410e-02,\n",
              "        -5.47557324e-02,  5.85437380e-03,  6.74688071e-02,  8.72761235e-02,\n",
              "        -5.83723262e-02,  9.52271149e-02, -3.74739170e-02, -2.69775223e-02],\n",
              "       dtype=float32)>,\n",
              " <tf.Variable 'dense_layer_2_10/kernel:0' shape=(512, 512) dtype=float32, numpy=\n",
              " array([[ 0.0681522 ,  0.02122125, -0.24976467, ..., -0.01787063,\n",
              "          0.07771329, -0.00251382],\n",
              "        [ 0.03016249,  0.11341631, -0.04721821, ...,  0.20483561,\n",
              "         -0.12314614,  0.02035169],\n",
              "        [-0.16018909, -0.23932889, -0.21206664, ...,  0.14491034,\n",
              "          0.07697181,  0.12571977],\n",
              "        ...,\n",
              "        [-0.07230929,  0.02588729, -0.33049357, ..., -0.02970716,\n",
              "          0.01742526,  0.15109235],\n",
              "        [-0.09650924, -0.14271694,  0.06686517, ..., -0.00367011,\n",
              "          0.15996614, -0.36245233],\n",
              "        [-0.06874353,  0.21847415, -0.06288397, ...,  0.13104852,\n",
              "          0.13813698,  0.18900691]], dtype=float32)>,\n",
              " <tf.Variable 'dense_layer_2_10/bias:0' shape=(512,) dtype=float32, numpy=\n",
              " array([ 0.05155274, -0.13855726,  0.10465521,  0.02670027,  0.11439581,\n",
              "        -0.02011274,  0.07838003,  0.0478818 ,  0.00912476,  0.12685765,\n",
              "        -0.07335339, -0.08283046, -0.043242  ,  0.0779888 , -0.09881222,\n",
              "         0.03099133,  0.02715242, -0.04936464, -0.15000767,  0.17398915,\n",
              "         0.11186056,  0.00288103, -0.00644577, -0.00680888,  0.14444791,\n",
              "        -0.04534135,  0.17417741,  0.17598261, -0.15388191, -0.04822326,\n",
              "        -0.2557756 , -0.1303634 , -0.04455226,  0.23444803, -0.03632825,\n",
              "        -0.0880115 , -0.15533437,  0.09316765, -0.04869794, -0.06365375,\n",
              "         0.03374417,  0.06972726, -0.2764685 ,  0.13489035, -0.06746821,\n",
              "         0.04610343, -0.08049477, -0.03531253,  0.064732  , -0.03285593,\n",
              "        -0.11104852, -0.02467192, -0.19111584,  0.15380242, -0.11635257,\n",
              "        -0.11147323,  0.0699153 , -0.10828853, -0.17320351,  0.19349258,\n",
              "        -0.08894549, -0.15772189, -0.05395303,  0.2129652 ,  0.05277872,\n",
              "         0.00437857,  0.07544348, -0.07768118, -0.09679359, -0.05745332,\n",
              "        -0.01790554, -0.18854706,  0.00748002, -0.0465327 , -0.04105015,\n",
              "         0.06527408,  0.19954301, -0.0379657 ,  0.07336275, -0.05286431,\n",
              "        -0.05702521, -0.05639237, -0.20981029,  0.11762223, -0.0625314 ,\n",
              "         0.09739494,  0.11669665, -0.0776808 ,  0.1668696 ,  0.18738846,\n",
              "         0.11189254,  0.07144447, -0.01628149,  0.11712516,  0.06664751,\n",
              "        -0.0252523 , -0.13792095,  0.01342851, -0.01197561,  0.13906239,\n",
              "        -0.03716569,  0.13814658,  0.04008215,  0.18557149,  0.10109859,\n",
              "        -0.16120096,  0.03877387, -0.1785542 , -0.00724898, -0.2513322 ,\n",
              "        -0.08366741,  0.06723878, -0.04768597, -0.04378555,  0.00638023,\n",
              "        -0.10990272, -0.12306292,  0.10197958, -0.08168124,  0.04785038,\n",
              "        -0.06178644, -0.1976638 , -0.05673595,  0.14015178, -0.02439243,\n",
              "        -0.13219899, -0.00074938, -0.01854006, -0.11782125,  0.02173167,\n",
              "         0.12835567,  0.07876552, -0.10167217, -0.10678365,  0.02967161,\n",
              "        -0.13959318,  0.13460284, -0.21429497,  0.15826556, -0.07794596,\n",
              "         0.25670847, -0.00310205, -0.13282566, -0.17233883, -0.04807435,\n",
              "         0.01557298, -0.0913068 ,  0.03430215, -0.07371122,  0.03409629,\n",
              "        -0.10963186, -0.18310027, -0.1687893 , -0.20791626,  0.03225296,\n",
              "        -0.03778145, -0.15639575,  0.01217096,  0.13752396, -0.18234232,\n",
              "        -0.02020841, -0.00847742, -0.17782366,  0.3296568 ,  0.16311046,\n",
              "         0.06077142, -0.13119736,  0.05230335, -0.12772548,  0.087185  ,\n",
              "        -0.08779043,  0.18787876,  0.16658273, -0.00095347, -0.0931232 ,\n",
              "        -0.04116512, -0.14662285, -0.01442777, -0.09368855,  0.29629174,\n",
              "        -0.22122331,  0.20795071, -0.06647933,  0.06652211, -0.09484833,\n",
              "         0.01584726,  0.02706938, -0.14589508,  0.24501754,  0.18673508,\n",
              "        -0.02205139, -0.05953412,  0.03818793, -0.02733135, -0.0607724 ,\n",
              "         0.1435802 , -0.04815255, -0.10383686,  0.09719133, -0.111361  ,\n",
              "        -0.07823637,  0.12324639, -0.09536429,  0.02393205, -0.04139873,\n",
              "         0.1493382 ,  0.09126203, -0.14975497, -0.02866185, -0.01619291,\n",
              "         0.13263884, -0.10963091,  0.02620621,  0.02047674,  0.05209037,\n",
              "         0.12555961, -0.08479834, -0.15713933,  0.13752387, -0.27556223,\n",
              "         0.20875067, -0.11986475, -0.11847684,  0.15420976, -0.14253126,\n",
              "        -0.24662532, -0.05627796,  0.14048979, -0.05948168,  0.19981907,\n",
              "        -0.06436484, -0.11095632, -0.13626397,  0.03774466, -0.18327732,\n",
              "         0.10809273,  0.20547542, -0.17580113, -0.11244983,  0.18806058,\n",
              "         0.15352432,  0.1866534 , -0.05753777, -0.07757606, -0.06220374,\n",
              "        -0.04798401, -0.15504627, -0.17945419,  0.2389375 , -0.14539522,\n",
              "         0.05645036,  0.06388366, -0.17686711, -0.10208079, -0.1522652 ,\n",
              "         0.10531788,  0.001941  , -0.10178257, -0.10486747,  0.06401667,\n",
              "        -0.05181401, -0.00282905, -0.0796454 ,  0.0907347 , -0.25599685,\n",
              "         0.15260886, -0.08287445, -0.11755733,  0.01276629, -0.13335572,\n",
              "        -0.11102052, -0.08573267,  0.16553165, -0.09769434,  0.13322817,\n",
              "        -0.16061895, -0.21138042, -0.1098834 , -0.09846383,  0.01461732,\n",
              "        -0.1563861 , -0.05266489,  0.1439247 , -0.17027073, -0.10104755,\n",
              "        -0.09877971, -0.05545812, -0.02119885, -0.11518043, -0.1232848 ,\n",
              "         0.23955029,  0.18187286,  0.09852066, -0.09577613,  0.13495219,\n",
              "        -0.18278518, -0.11250746, -0.21037064, -0.12833534, -0.10163251,\n",
              "        -0.05568529,  0.17815375,  0.01609826, -0.06416382,  0.19686987,\n",
              "         0.15743582, -0.05727124,  0.10514317,  0.00661162,  0.05375567,\n",
              "         0.06878015,  0.1127496 , -0.1624589 , -0.03095387,  0.18020308,\n",
              "        -0.10207631, -0.06985713, -0.08683572, -0.04424246, -0.16054715,\n",
              "         0.00383299,  0.09950943,  0.034295  ,  0.17088127, -0.08598948,\n",
              "         0.09112598, -0.12149205,  0.09700548,  0.01639948, -0.1300241 ,\n",
              "         0.09861155,  0.02100104,  0.12100247, -0.10028481, -0.08644087,\n",
              "        -0.05269666, -0.09863554,  0.09395526,  0.18918945, -0.1751102 ,\n",
              "         0.02555454,  0.04942343,  0.05589169,  0.0820414 ,  0.17109635,\n",
              "        -0.02839284, -0.07680371, -0.13885954, -0.168754  ,  0.01715015,\n",
              "        -0.19732133,  0.17358625, -0.02521418,  0.07971481,  0.02497055,\n",
              "         0.13393757,  0.18325977, -0.07040884,  0.09913582, -0.12542506,\n",
              "        -0.09432805, -0.03645575,  0.0077097 ,  0.05552198, -0.10599896,\n",
              "         0.12805294,  0.12740393,  0.14040579, -0.13948433,  0.11437527,\n",
              "        -0.02674244, -0.07521135, -0.05505145,  0.06584411,  0.03576607,\n",
              "         0.18600044, -0.0657336 , -0.13507071, -0.13060273, -0.03143065,\n",
              "        -0.15542221,  0.03039426, -0.08552802, -0.09716017,  0.12789387,\n",
              "        -0.16896161,  0.01287628, -0.12875259,  0.04780323,  0.01144571,\n",
              "         0.04250818,  0.13106406,  0.00361153,  0.03810191, -0.17143798,\n",
              "        -0.00507865, -0.1689539 ,  0.12067782,  0.04253923,  0.13903613,\n",
              "         0.08036759,  0.06439565,  0.20498103, -0.07394421,  0.06120225,\n",
              "        -0.12802991, -0.12385898, -0.24542241, -0.146275  , -0.13927697,\n",
              "        -0.07810508, -0.1305435 , -0.25581908, -0.10218205,  0.01542327,\n",
              "        -0.125963  , -0.15538214,  0.22595409,  0.07265086, -0.1031801 ,\n",
              "         0.04464089, -0.06675517, -0.07723887, -0.12748396, -0.18010321,\n",
              "         0.0485016 ,  0.15423046, -0.05712985,  0.04797713,  0.06967203,\n",
              "        -0.12258662, -0.1769427 ,  0.11967592, -0.10753564,  0.21027651,\n",
              "        -0.15368369, -0.10512691,  0.05336199,  0.10303625,  0.08355244,\n",
              "        -0.113711  , -0.0784786 ,  0.12290706, -0.24281594,  0.08754005,\n",
              "        -0.08693556, -0.05344407, -0.1765268 , -0.22425249, -0.10351332,\n",
              "         0.16614404, -0.09541263, -0.06516157,  0.05486932, -0.18227579,\n",
              "        -0.03481381, -0.07322717, -0.0265459 ,  0.0418017 , -0.17504089,\n",
              "        -0.23311867,  0.0054615 , -0.31834742, -0.09023581, -0.22425224,\n",
              "        -0.13847253,  0.06171113, -0.12649962, -0.09703694, -0.1332278 ,\n",
              "         0.29003707, -0.0586199 , -0.03373131, -0.08938327, -0.01720699,\n",
              "        -0.09009439, -0.01659427, -0.05199739, -0.12374873,  0.12845035,\n",
              "        -0.11626741,  0.0992388 , -0.11653355, -0.12478785,  0.18145059,\n",
              "        -0.17601186, -0.13055786,  0.03992286, -0.0188641 ,  0.22759992,\n",
              "         0.06175035, -0.14629705, -0.13826896, -0.02528442, -0.17172842,\n",
              "        -0.17535965, -0.07244882, -0.08102465,  0.1431139 , -0.29003456,\n",
              "         0.0225786 ,  0.24995258, -0.12526722, -0.07571547,  0.18777286,\n",
              "        -0.03466861,  0.0795971 ,  0.03322953, -0.08802775, -0.2647813 ,\n",
              "        -0.05598499,  0.0081279 ], dtype=float32)>,\n",
              " <tf.Variable 'dense_layer_3_10/kernel:0' shape=(512, 10) dtype=float32, numpy=\n",
              " array([[ 0.07343385, -0.20936683, -0.13564128, ..., -0.04645929,\n",
              "          0.06373471,  0.0542744 ],\n",
              "        [ 0.14876957, -0.10673559,  0.03296777, ...,  0.0580303 ,\n",
              "         -0.2007752 , -0.14936125],\n",
              "        [ 0.11876978, -0.0456386 ,  0.12712537, ..., -0.17168553,\n",
              "          0.1190458 ,  0.01770383],\n",
              "        ...,\n",
              "        [ 0.0621538 ,  0.0908372 ,  0.09651135, ...,  0.0671711 ,\n",
              "         -0.11632586, -0.17248602],\n",
              "        [ 0.12575887, -0.13972175, -0.01502579, ...,  0.0884417 ,\n",
              "          0.08259977, -0.0957098 ],\n",
              "        [-0.05974828, -0.11584469, -0.11759046, ...,  0.12847964,\n",
              "         -0.04542731,  0.14559543]], dtype=float32)>,\n",
              " <tf.Variable 'dense_layer_3_10/bias:0' shape=(10,) dtype=float32, numpy=\n",
              " array([ 0.05232091, -0.13797596, -0.10062569, -0.04454173, -0.03266415,\n",
              "        -0.08204305, -0.12131526, -0.13926977,  0.39521766,  0.0778896 ],\n",
              "       dtype=float32)>]"
            ]
          },
          "metadata": {
            "tags": []
          },
          "execution_count": 109
        }
      ]
    },
    {
      "cell_type": "code",
      "metadata": {
        "id": "MnrRfeyJkQTS",
        "colab": {
          "base_uri": "https://localhost:8080/",
          "height": 1000
        },
        "outputId": "baf974c0-7cfd-4f68-8417-bf84cfb662db"
      },
      "source": [
        "model_4.get_config()"
      ],
      "execution_count": null,
      "outputs": [
        {
          "output_type": "execute_result",
          "data": {
            "text/plain": [
              "{'build_input_shape': TensorShape([None, 784]),\n",
              " 'layers': [{'class_name': 'Dense',\n",
              "   'config': {'activation': 'relu',\n",
              "    'activity_regularizer': None,\n",
              "    'batch_input_shape': (None, 784),\n",
              "    'bias_constraint': None,\n",
              "    'bias_initializer': {'class_name': 'Zeros', 'config': {}},\n",
              "    'bias_regularizer': None,\n",
              "    'dtype': 'float32',\n",
              "    'kernel_constraint': None,\n",
              "    'kernel_initializer': {'class_name': 'GlorotUniform',\n",
              "     'config': {'seed': None}},\n",
              "    'kernel_regularizer': None,\n",
              "    'name': 'dense_layer',\n",
              "    'trainable': True,\n",
              "    'units': 512,\n",
              "    'use_bias': True}},\n",
              "  {'class_name': 'Dropout',\n",
              "   'config': {'dtype': 'float32',\n",
              "    'name': 'dropout_18',\n",
              "    'noise_shape': None,\n",
              "    'rate': 0.3,\n",
              "    'seed': None,\n",
              "    'trainable': True}},\n",
              "  {'class_name': 'Dense',\n",
              "   'config': {'activation': 'relu',\n",
              "    'activity_regularizer': None,\n",
              "    'bias_constraint': None,\n",
              "    'bias_initializer': {'class_name': 'Zeros', 'config': {}},\n",
              "    'bias_regularizer': None,\n",
              "    'dtype': 'float32',\n",
              "    'kernel_constraint': None,\n",
              "    'kernel_initializer': {'class_name': 'GlorotUniform',\n",
              "     'config': {'seed': None}},\n",
              "    'kernel_regularizer': None,\n",
              "    'name': 'dense_layer_2',\n",
              "    'trainable': True,\n",
              "    'units': 512,\n",
              "    'use_bias': True}},\n",
              "  {'class_name': 'Dropout',\n",
              "   'config': {'dtype': 'float32',\n",
              "    'name': 'dropout_19',\n",
              "    'noise_shape': None,\n",
              "    'rate': 0.3,\n",
              "    'seed': None,\n",
              "    'trainable': True}},\n",
              "  {'class_name': 'Dense',\n",
              "   'config': {'activation': 'softmax',\n",
              "    'activity_regularizer': None,\n",
              "    'bias_constraint': None,\n",
              "    'bias_initializer': {'class_name': 'Zeros', 'config': {}},\n",
              "    'bias_regularizer': None,\n",
              "    'dtype': 'float32',\n",
              "    'kernel_constraint': None,\n",
              "    'kernel_initializer': {'class_name': 'GlorotUniform',\n",
              "     'config': {'seed': None}},\n",
              "    'kernel_regularizer': None,\n",
              "    'name': 'dense_layer_3',\n",
              "    'trainable': True,\n",
              "    'units': 10,\n",
              "    'use_bias': True}}],\n",
              " 'name': 'sequential_12'}"
            ]
          },
          "metadata": {
            "tags": []
          },
          "execution_count": 110
        }
      ]
    },
    {
      "cell_type": "markdown",
      "metadata": {
        "id": "AFbx6XHI0KyQ"
      },
      "source": [
        "###Improved Model 5: Manipulating the batch size"
      ]
    },
    {
      "cell_type": "code",
      "metadata": {
        "id": "WPaQm2XY0KyV"
      },
      "source": [
        "#Most common type of model is a stack of layers\n",
        "model_5 = tf.keras.Sequential()\n",
        "N_hidden = 512\n",
        "# Adds a densely-connected layer with 64 units to the model:\n",
        "model_5.add(Dense(N_hidden, name='dense_layer', input_shape=(784,), activation = 'relu'))\n",
        "# Now the model will take as input arrays of shape (*, 784)# and output arrays of shape (*, 64)\n",
        "model_5.add(Dropout(0.3))\n",
        "# Adding another dense layer:\n",
        "model_5.add(Dense(N_hidden, name='dense_layer_2', activation='relu'))\n",
        "model_5.add(Dropout(0.3))\n",
        "# After the first layer, you don't need to specify\u000b# the size of the input anymore:\n",
        "# Add an output layer with 10 output units (10 different classes):\n",
        "model_5.add(Dense(10, name='dense_layer_3', activation = 'softmax'))\n"
      ],
      "execution_count": null,
      "outputs": []
    },
    {
      "cell_type": "code",
      "metadata": {
        "id": "UWFjgHFj0Kyg"
      },
      "source": [
        "# Compiling the model.\n",
        "model_5.compile(optimizer='Adam', \n",
        "              loss='categorical_crossentropy',\n",
        "              metrics=['accuracy'])"
      ],
      "execution_count": null,
      "outputs": []
    },
    {
      "cell_type": "code",
      "metadata": {
        "id": "opXV9TbQ0Kyl",
        "colab": {
          "base_uri": "https://localhost:8080/",
          "height": 1000
        },
        "outputId": "6636b46f-3e4a-4a1a-b32d-0fca28e95f8d"
      },
      "source": [
        "# Training the model. \n",
        "training = model_5.fit(X_train, Y_train, batch_size=64, epochs=30, validation_split=0.2) \n"
      ],
      "execution_count": null,
      "outputs": [
        {
          "output_type": "stream",
          "text": [
            "Epoch 1/200\n",
            "750/750 [==============================] - 8s 11ms/step - loss: 0.2736 - accuracy: 0.9153 - val_loss: 0.1122 - val_accuracy: 0.9662\n",
            "Epoch 2/200\n",
            "750/750 [==============================] - 8s 11ms/step - loss: 0.1261 - accuracy: 0.9613 - val_loss: 0.0934 - val_accuracy: 0.9716\n",
            "Epoch 3/200\n",
            "750/750 [==============================] - 8s 11ms/step - loss: 0.0911 - accuracy: 0.9719 - val_loss: 0.0854 - val_accuracy: 0.9732\n",
            "Epoch 4/200\n",
            "750/750 [==============================] - 8s 11ms/step - loss: 0.0772 - accuracy: 0.9754 - val_loss: 0.0914 - val_accuracy: 0.9728\n",
            "Epoch 5/200\n",
            "750/750 [==============================] - 8s 11ms/step - loss: 0.0634 - accuracy: 0.9795 - val_loss: 0.0883 - val_accuracy: 0.9760\n",
            "Epoch 6/200\n",
            "750/750 [==============================] - 8s 10ms/step - loss: 0.0585 - accuracy: 0.9820 - val_loss: 0.0775 - val_accuracy: 0.9784\n",
            "Epoch 7/200\n",
            "750/750 [==============================] - 8s 10ms/step - loss: 0.0499 - accuracy: 0.9833 - val_loss: 0.0864 - val_accuracy: 0.9772\n",
            "Epoch 8/200\n",
            "750/750 [==============================] - 8s 10ms/step - loss: 0.0488 - accuracy: 0.9846 - val_loss: 0.0915 - val_accuracy: 0.9757\n",
            "Epoch 9/200\n",
            "750/750 [==============================] - 8s 10ms/step - loss: 0.0437 - accuracy: 0.9862 - val_loss: 0.0761 - val_accuracy: 0.9807\n",
            "Epoch 10/200\n",
            "750/750 [==============================] - 8s 10ms/step - loss: 0.0381 - accuracy: 0.9878 - val_loss: 0.0811 - val_accuracy: 0.9797\n",
            "Epoch 11/200\n",
            "750/750 [==============================] - 8s 10ms/step - loss: 0.0423 - accuracy: 0.9866 - val_loss: 0.0797 - val_accuracy: 0.9803\n",
            "Epoch 12/200\n",
            "750/750 [==============================] - 8s 11ms/step - loss: 0.0338 - accuracy: 0.9890 - val_loss: 0.0792 - val_accuracy: 0.9812\n",
            "Epoch 13/200\n",
            "750/750 [==============================] - 8s 10ms/step - loss: 0.0347 - accuracy: 0.9887 - val_loss: 0.0829 - val_accuracy: 0.9806\n",
            "Epoch 14/200\n",
            "750/750 [==============================] - 8s 10ms/step - loss: 0.0326 - accuracy: 0.9893 - val_loss: 0.0860 - val_accuracy: 0.9784\n",
            "Epoch 15/200\n",
            "750/750 [==============================] - 8s 10ms/step - loss: 0.0318 - accuracy: 0.9900 - val_loss: 0.0793 - val_accuracy: 0.9820\n",
            "Epoch 16/200\n",
            "750/750 [==============================] - 8s 10ms/step - loss: 0.0298 - accuracy: 0.9907 - val_loss: 0.0963 - val_accuracy: 0.9796\n",
            "Epoch 17/200\n",
            "750/750 [==============================] - 8s 10ms/step - loss: 0.0276 - accuracy: 0.9909 - val_loss: 0.1066 - val_accuracy: 0.9773\n",
            "Epoch 18/200\n",
            "750/750 [==============================] - 8s 11ms/step - loss: 0.0287 - accuracy: 0.9908 - val_loss: 0.0980 - val_accuracy: 0.9809\n",
            "Epoch 19/200\n",
            "750/750 [==============================] - 8s 10ms/step - loss: 0.0272 - accuracy: 0.9912 - val_loss: 0.1061 - val_accuracy: 0.9795\n",
            "Epoch 20/200\n",
            "750/750 [==============================] - 8s 10ms/step - loss: 0.0288 - accuracy: 0.9911 - val_loss: 0.0965 - val_accuracy: 0.9802\n",
            "Epoch 21/200\n",
            "750/750 [==============================] - 8s 10ms/step - loss: 0.0275 - accuracy: 0.9912 - val_loss: 0.0941 - val_accuracy: 0.9817\n",
            "Epoch 22/200\n",
            "750/750 [==============================] - 8s 10ms/step - loss: 0.0262 - accuracy: 0.9921 - val_loss: 0.1000 - val_accuracy: 0.9818\n",
            "Epoch 23/200\n",
            "750/750 [==============================] - 8s 10ms/step - loss: 0.0275 - accuracy: 0.9917 - val_loss: 0.1091 - val_accuracy: 0.9790\n",
            "Epoch 24/200\n",
            "750/750 [==============================] - 8s 10ms/step - loss: 0.0233 - accuracy: 0.9929 - val_loss: 0.1014 - val_accuracy: 0.9825\n",
            "Epoch 25/200\n",
            "750/750 [==============================] - 8s 10ms/step - loss: 0.0241 - accuracy: 0.9926 - val_loss: 0.1038 - val_accuracy: 0.9814\n",
            "Epoch 26/200\n",
            "750/750 [==============================] - 8s 10ms/step - loss: 0.0242 - accuracy: 0.9926 - val_loss: 0.1022 - val_accuracy: 0.9814\n",
            "Epoch 27/200\n",
            "750/750 [==============================] - 8s 11ms/step - loss: 0.0243 - accuracy: 0.9926 - val_loss: 0.1025 - val_accuracy: 0.9815\n",
            "Epoch 28/200\n",
            "750/750 [==============================] - 8s 11ms/step - loss: 0.0229 - accuracy: 0.9932 - val_loss: 0.1018 - val_accuracy: 0.9808\n",
            "Epoch 29/200\n",
            "750/750 [==============================] - 8s 11ms/step - loss: 0.0213 - accuracy: 0.9939 - val_loss: 0.1196 - val_accuracy: 0.9802\n",
            "Epoch 30/200\n",
            "750/750 [==============================] - 8s 11ms/step - loss: 0.0216 - accuracy: 0.9938 - val_loss: 0.1134 - val_accuracy: 0.9798\n",
            "Epoch 31/200\n",
            "750/750 [==============================] - 8s 11ms/step - loss: 0.0244 - accuracy: 0.9926 - val_loss: 0.1141 - val_accuracy: 0.9803\n",
            "Epoch 32/200\n",
            "750/750 [==============================] - 8s 10ms/step - loss: 0.0222 - accuracy: 0.9936 - val_loss: 0.1082 - val_accuracy: 0.9814\n",
            "Epoch 33/200\n",
            "750/750 [==============================] - 8s 10ms/step - loss: 0.0196 - accuracy: 0.9945 - val_loss: 0.1236 - val_accuracy: 0.9803\n",
            "Epoch 34/200\n",
            "750/750 [==============================] - 8s 11ms/step - loss: 0.0199 - accuracy: 0.9941 - val_loss: 0.1072 - val_accuracy: 0.9821\n",
            "Epoch 35/200\n",
            "750/750 [==============================] - 8s 10ms/step - loss: 0.0227 - accuracy: 0.9931 - val_loss: 0.1168 - val_accuracy: 0.9803\n",
            "Epoch 36/200\n",
            "750/750 [==============================] - 9s 12ms/step - loss: 0.0216 - accuracy: 0.9943 - val_loss: 0.1046 - val_accuracy: 0.9822\n",
            "Epoch 37/200\n",
            "750/750 [==============================] - 10s 13ms/step - loss: 0.0199 - accuracy: 0.9944 - val_loss: 0.1011 - val_accuracy: 0.9830\n",
            "Epoch 38/200\n",
            "750/750 [==============================] - 8s 11ms/step - loss: 0.0202 - accuracy: 0.9945 - val_loss: 0.1068 - val_accuracy: 0.9820\n",
            "Epoch 39/200\n",
            "750/750 [==============================] - 8s 11ms/step - loss: 0.0238 - accuracy: 0.9940 - val_loss: 0.0968 - val_accuracy: 0.9824\n",
            "Epoch 40/200\n",
            "750/750 [==============================] - 8s 10ms/step - loss: 0.0179 - accuracy: 0.9949 - val_loss: 0.1143 - val_accuracy: 0.9812\n",
            "Epoch 41/200\n",
            "750/750 [==============================] - 8s 10ms/step - loss: 0.0214 - accuracy: 0.9938 - val_loss: 0.1125 - val_accuracy: 0.9827\n",
            "Epoch 42/200\n",
            "750/750 [==============================] - 8s 11ms/step - loss: 0.0147 - accuracy: 0.9957 - val_loss: 0.1276 - val_accuracy: 0.9815\n",
            "Epoch 43/200\n",
            "750/750 [==============================] - 8s 10ms/step - loss: 0.0184 - accuracy: 0.9947 - val_loss: 0.1349 - val_accuracy: 0.9798\n",
            "Epoch 44/200\n",
            "750/750 [==============================] - 8s 11ms/step - loss: 0.0226 - accuracy: 0.9939 - val_loss: 0.1291 - val_accuracy: 0.9814\n",
            "Epoch 45/200\n",
            "750/750 [==============================] - 8s 11ms/step - loss: 0.0218 - accuracy: 0.9941 - val_loss: 0.1242 - val_accuracy: 0.9830\n",
            "Epoch 46/200\n",
            "750/750 [==============================] - 8s 11ms/step - loss: 0.0178 - accuracy: 0.9951 - val_loss: 0.1082 - val_accuracy: 0.9832\n",
            "Epoch 47/200\n",
            "750/750 [==============================] - 8s 11ms/step - loss: 0.0164 - accuracy: 0.9955 - val_loss: 0.1257 - val_accuracy: 0.9828\n",
            "Epoch 48/200\n",
            "750/750 [==============================] - 8s 11ms/step - loss: 0.0179 - accuracy: 0.9952 - val_loss: 0.1193 - val_accuracy: 0.9827\n",
            "Epoch 49/200\n",
            "750/750 [==============================] - 8s 11ms/step - loss: 0.0179 - accuracy: 0.9951 - val_loss: 0.1168 - val_accuracy: 0.9834\n",
            "Epoch 50/200\n",
            "750/750 [==============================] - 8s 11ms/step - loss: 0.0128 - accuracy: 0.9963 - val_loss: 0.1443 - val_accuracy: 0.9828\n",
            "Epoch 51/200\n",
            "750/750 [==============================] - 8s 11ms/step - loss: 0.0248 - accuracy: 0.9939 - val_loss: 0.1478 - val_accuracy: 0.9808\n",
            "Epoch 52/200\n",
            "750/750 [==============================] - 8s 11ms/step - loss: 0.0153 - accuracy: 0.9960 - val_loss: 0.1275 - val_accuracy: 0.9835\n",
            "Epoch 53/200\n",
            "750/750 [==============================] - 8s 11ms/step - loss: 0.0199 - accuracy: 0.9949 - val_loss: 0.1346 - val_accuracy: 0.9838\n",
            "Epoch 54/200\n",
            "750/750 [==============================] - 8s 11ms/step - loss: 0.0151 - accuracy: 0.9959 - val_loss: 0.1307 - val_accuracy: 0.9822\n",
            "Epoch 55/200\n",
            "750/750 [==============================] - 8s 11ms/step - loss: 0.0141 - accuracy: 0.9963 - val_loss: 0.1383 - val_accuracy: 0.9819\n",
            "Epoch 56/200\n",
            "750/750 [==============================] - 8s 11ms/step - loss: 0.0167 - accuracy: 0.9956 - val_loss: 0.1352 - val_accuracy: 0.9832\n",
            "Epoch 57/200\n",
            "750/750 [==============================] - 8s 11ms/step - loss: 0.0215 - accuracy: 0.9946 - val_loss: 0.1427 - val_accuracy: 0.9827\n",
            "Epoch 58/200\n",
            "750/750 [==============================] - 8s 11ms/step - loss: 0.0216 - accuracy: 0.9947 - val_loss: 0.1307 - val_accuracy: 0.9845\n",
            "Epoch 59/200\n",
            "750/750 [==============================] - 8s 11ms/step - loss: 0.0170 - accuracy: 0.9955 - val_loss: 0.1326 - val_accuracy: 0.9830\n",
            "Epoch 60/200\n",
            "750/750 [==============================] - 8s 11ms/step - loss: 0.0160 - accuracy: 0.9957 - val_loss: 0.1392 - val_accuracy: 0.9818\n",
            "Epoch 61/200\n",
            "750/750 [==============================] - 8s 11ms/step - loss: 0.0161 - accuracy: 0.9960 - val_loss: 0.1309 - val_accuracy: 0.9836\n",
            "Epoch 62/200\n",
            "750/750 [==============================] - 8s 11ms/step - loss: 0.0222 - accuracy: 0.9950 - val_loss: 0.1582 - val_accuracy: 0.9810\n",
            "Epoch 63/200\n",
            "750/750 [==============================] - 8s 11ms/step - loss: 0.0208 - accuracy: 0.9951 - val_loss: 0.1359 - val_accuracy: 0.9834\n",
            "Epoch 64/200\n",
            "750/750 [==============================] - 8s 11ms/step - loss: 0.0137 - accuracy: 0.9964 - val_loss: 0.1297 - val_accuracy: 0.9837\n",
            "Epoch 65/200\n",
            "750/750 [==============================] - 8s 11ms/step - loss: 0.0178 - accuracy: 0.9959 - val_loss: 0.1399 - val_accuracy: 0.9835\n",
            "Epoch 66/200\n",
            "750/750 [==============================] - 8s 11ms/step - loss: 0.0144 - accuracy: 0.9963 - val_loss: 0.1698 - val_accuracy: 0.9796\n",
            "Epoch 67/200\n",
            "750/750 [==============================] - 8s 11ms/step - loss: 0.0194 - accuracy: 0.9955 - val_loss: 0.1250 - val_accuracy: 0.9841\n",
            "Epoch 68/200\n",
            "750/750 [==============================] - 8s 11ms/step - loss: 0.0128 - accuracy: 0.9967 - val_loss: 0.1524 - val_accuracy: 0.9816\n",
            "Epoch 69/200\n",
            "750/750 [==============================] - 8s 11ms/step - loss: 0.0192 - accuracy: 0.9952 - val_loss: 0.1586 - val_accuracy: 0.9812\n",
            "Epoch 70/200\n",
            "750/750 [==============================] - 8s 11ms/step - loss: 0.0165 - accuracy: 0.9961 - val_loss: 0.1540 - val_accuracy: 0.9821\n",
            "Epoch 71/200\n",
            "750/750 [==============================] - 9s 12ms/step - loss: 0.0158 - accuracy: 0.9960 - val_loss: 0.1597 - val_accuracy: 0.9828\n",
            "Epoch 72/200\n",
            "750/750 [==============================] - 8s 11ms/step - loss: 0.0159 - accuracy: 0.9960 - val_loss: 0.1520 - val_accuracy: 0.9835\n",
            "Epoch 73/200\n",
            "750/750 [==============================] - 8s 11ms/step - loss: 0.0190 - accuracy: 0.9956 - val_loss: 0.1495 - val_accuracy: 0.9840\n",
            "Epoch 74/200\n",
            "750/750 [==============================] - 8s 11ms/step - loss: 0.0163 - accuracy: 0.9964 - val_loss: 0.1490 - val_accuracy: 0.9836\n",
            "Epoch 75/200\n",
            "750/750 [==============================] - 8s 11ms/step - loss: 0.0212 - accuracy: 0.9954 - val_loss: 0.1422 - val_accuracy: 0.9835\n",
            "Epoch 76/200\n",
            "750/750 [==============================] - 8s 10ms/step - loss: 0.0142 - accuracy: 0.9962 - val_loss: 0.1595 - val_accuracy: 0.9830\n",
            "Epoch 77/200\n",
            "750/750 [==============================] - 8s 11ms/step - loss: 0.0179 - accuracy: 0.9960 - val_loss: 0.1531 - val_accuracy: 0.9833\n",
            "Epoch 78/200\n",
            "750/750 [==============================] - 8s 11ms/step - loss: 0.0118 - accuracy: 0.9969 - val_loss: 0.1578 - val_accuracy: 0.9840\n",
            "Epoch 79/200\n",
            "750/750 [==============================] - 8s 10ms/step - loss: 0.0170 - accuracy: 0.9961 - val_loss: 0.1551 - val_accuracy: 0.9832\n",
            "Epoch 80/200\n",
            "750/750 [==============================] - 8s 11ms/step - loss: 0.0143 - accuracy: 0.9966 - val_loss: 0.1562 - val_accuracy: 0.9838\n",
            "Epoch 81/200\n",
            "750/750 [==============================] - 8s 11ms/step - loss: 0.0137 - accuracy: 0.9965 - val_loss: 0.1504 - val_accuracy: 0.9834\n",
            "Epoch 82/200\n",
            "750/750 [==============================] - 8s 10ms/step - loss: 0.0174 - accuracy: 0.9964 - val_loss: 0.1671 - val_accuracy: 0.9815\n",
            "Epoch 83/200\n",
            "750/750 [==============================] - 8s 11ms/step - loss: 0.0199 - accuracy: 0.9961 - val_loss: 0.1760 - val_accuracy: 0.9821\n",
            "Epoch 84/200\n",
            "750/750 [==============================] - 8s 11ms/step - loss: 0.0201 - accuracy: 0.9958 - val_loss: 0.1571 - val_accuracy: 0.9841\n",
            "Epoch 85/200\n",
            "750/750 [==============================] - 8s 11ms/step - loss: 0.0130 - accuracy: 0.9970 - val_loss: 0.1616 - val_accuracy: 0.9833\n",
            "Epoch 86/200\n",
            "750/750 [==============================] - 8s 11ms/step - loss: 0.0172 - accuracy: 0.9963 - val_loss: 0.1698 - val_accuracy: 0.9845\n",
            "Epoch 87/200\n",
            "750/750 [==============================] - 8s 11ms/step - loss: 0.0147 - accuracy: 0.9965 - val_loss: 0.1630 - val_accuracy: 0.9848\n",
            "Epoch 88/200\n",
            "750/750 [==============================] - 8s 10ms/step - loss: 0.0154 - accuracy: 0.9966 - val_loss: 0.1531 - val_accuracy: 0.9842\n",
            "Epoch 89/200\n",
            "750/750 [==============================] - 8s 11ms/step - loss: 0.0162 - accuracy: 0.9962 - val_loss: 0.1713 - val_accuracy: 0.9829\n",
            "Epoch 90/200\n",
            "750/750 [==============================] - 8s 11ms/step - loss: 0.0168 - accuracy: 0.9964 - val_loss: 0.1641 - val_accuracy: 0.9826\n",
            "Epoch 91/200\n",
            "750/750 [==============================] - 8s 10ms/step - loss: 0.0165 - accuracy: 0.9966 - val_loss: 0.1748 - val_accuracy: 0.9840\n",
            "Epoch 92/200\n",
            "750/750 [==============================] - 8s 10ms/step - loss: 0.0162 - accuracy: 0.9967 - val_loss: 0.1528 - val_accuracy: 0.9837\n",
            "Epoch 93/200\n",
            "750/750 [==============================] - 8s 10ms/step - loss: 0.0146 - accuracy: 0.9969 - val_loss: 0.1706 - val_accuracy: 0.9824\n",
            "Epoch 94/200\n",
            "750/750 [==============================] - 8s 11ms/step - loss: 0.0176 - accuracy: 0.9963 - val_loss: 0.1712 - val_accuracy: 0.9826\n",
            "Epoch 95/200\n",
            "750/750 [==============================] - 8s 11ms/step - loss: 0.0142 - accuracy: 0.9969 - val_loss: 0.1606 - val_accuracy: 0.9843\n",
            "Epoch 96/200\n",
            "750/750 [==============================] - 8s 11ms/step - loss: 0.0168 - accuracy: 0.9963 - val_loss: 0.1673 - val_accuracy: 0.9825\n",
            "Epoch 97/200\n",
            "750/750 [==============================] - 8s 10ms/step - loss: 0.0169 - accuracy: 0.9965 - val_loss: 0.1710 - val_accuracy: 0.9845\n",
            "Epoch 98/200\n",
            "750/750 [==============================] - 8s 10ms/step - loss: 0.0139 - accuracy: 0.9965 - val_loss: 0.1763 - val_accuracy: 0.9839\n",
            "Epoch 99/200\n",
            "750/750 [==============================] - 8s 10ms/step - loss: 0.0147 - accuracy: 0.9971 - val_loss: 0.1791 - val_accuracy: 0.9843\n",
            "Epoch 100/200\n",
            "750/750 [==============================] - 8s 10ms/step - loss: 0.0171 - accuracy: 0.9968 - val_loss: 0.1604 - val_accuracy: 0.9851\n",
            "Epoch 101/200\n",
            "750/750 [==============================] - 8s 10ms/step - loss: 0.0157 - accuracy: 0.9967 - val_loss: 0.1504 - val_accuracy: 0.9835\n",
            "Epoch 102/200\n",
            "750/750 [==============================] - 8s 10ms/step - loss: 0.0149 - accuracy: 0.9968 - val_loss: 0.1704 - val_accuracy: 0.9821\n",
            "Epoch 103/200\n",
            "750/750 [==============================] - 8s 11ms/step - loss: 0.0166 - accuracy: 0.9965 - val_loss: 0.1773 - val_accuracy: 0.9838\n",
            "Epoch 104/200\n",
            "750/750 [==============================] - 8s 10ms/step - loss: 0.0172 - accuracy: 0.9967 - val_loss: 0.1721 - val_accuracy: 0.9827\n",
            "Epoch 105/200\n",
            "750/750 [==============================] - 8s 11ms/step - loss: 0.0159 - accuracy: 0.9970 - val_loss: 0.1778 - val_accuracy: 0.9832\n",
            "Epoch 106/200\n",
            "750/750 [==============================] - 8s 11ms/step - loss: 0.0143 - accuracy: 0.9967 - val_loss: 0.1689 - val_accuracy: 0.9830\n",
            "Epoch 107/200\n",
            "750/750 [==============================] - 8s 11ms/step - loss: 0.0191 - accuracy: 0.9968 - val_loss: 0.1709 - val_accuracy: 0.9818\n",
            "Epoch 108/200\n",
            "750/750 [==============================] - 8s 11ms/step - loss: 0.0161 - accuracy: 0.9965 - val_loss: 0.1811 - val_accuracy: 0.9825\n",
            "Epoch 109/200\n",
            "750/750 [==============================] - 8s 10ms/step - loss: 0.0149 - accuracy: 0.9969 - val_loss: 0.1772 - val_accuracy: 0.9838\n",
            "Epoch 110/200\n",
            "750/750 [==============================] - 8s 10ms/step - loss: 0.0177 - accuracy: 0.9962 - val_loss: 0.1761 - val_accuracy: 0.9821\n",
            "Epoch 111/200\n",
            "750/750 [==============================] - 8s 10ms/step - loss: 0.0186 - accuracy: 0.9962 - val_loss: 0.1831 - val_accuracy: 0.9821\n",
            "Epoch 112/200\n",
            "750/750 [==============================] - 11s 14ms/step - loss: 0.0163 - accuracy: 0.9965 - val_loss: 0.1574 - val_accuracy: 0.9840\n",
            "Epoch 113/200\n",
            "750/750 [==============================] - 8s 11ms/step - loss: 0.0130 - accuracy: 0.9972 - val_loss: 0.1810 - val_accuracy: 0.9830\n",
            "Epoch 114/200\n",
            "750/750 [==============================] - 8s 10ms/step - loss: 0.0151 - accuracy: 0.9971 - val_loss: 0.1686 - val_accuracy: 0.9840\n",
            "Epoch 115/200\n",
            "750/750 [==============================] - 8s 10ms/step - loss: 0.0146 - accuracy: 0.9965 - val_loss: 0.1709 - val_accuracy: 0.9839\n",
            "Epoch 116/200\n",
            "750/750 [==============================] - 8s 10ms/step - loss: 0.0123 - accuracy: 0.9976 - val_loss: 0.1562 - val_accuracy: 0.9850\n",
            "Epoch 117/200\n",
            "750/750 [==============================] - 8s 10ms/step - loss: 0.0163 - accuracy: 0.9968 - val_loss: 0.1838 - val_accuracy: 0.9836\n",
            "Epoch 118/200\n",
            "750/750 [==============================] - 8s 10ms/step - loss: 0.0169 - accuracy: 0.9970 - val_loss: 0.1597 - val_accuracy: 0.9837\n",
            "Epoch 119/200\n",
            "750/750 [==============================] - 8s 10ms/step - loss: 0.0154 - accuracy: 0.9969 - val_loss: 0.1668 - val_accuracy: 0.9835\n",
            "Epoch 120/200\n",
            "750/750 [==============================] - 8s 10ms/step - loss: 0.0107 - accuracy: 0.9976 - val_loss: 0.1723 - val_accuracy: 0.9841\n",
            "Epoch 121/200\n",
            "750/750 [==============================] - 8s 10ms/step - loss: 0.0161 - accuracy: 0.9966 - val_loss: 0.1814 - val_accuracy: 0.9850\n",
            "Epoch 122/200\n",
            "750/750 [==============================] - 8s 10ms/step - loss: 0.0123 - accuracy: 0.9975 - val_loss: 0.1998 - val_accuracy: 0.9843\n",
            "Epoch 123/200\n",
            "750/750 [==============================] - 8s 10ms/step - loss: 0.0188 - accuracy: 0.9964 - val_loss: 0.1808 - val_accuracy: 0.9845\n",
            "Epoch 124/200\n",
            "750/750 [==============================] - 8s 10ms/step - loss: 0.0120 - accuracy: 0.9976 - val_loss: 0.2016 - val_accuracy: 0.9823\n",
            "Epoch 125/200\n",
            "750/750 [==============================] - 8s 10ms/step - loss: 0.0141 - accuracy: 0.9971 - val_loss: 0.1791 - val_accuracy: 0.9841\n",
            "Epoch 126/200\n",
            "750/750 [==============================] - 8s 10ms/step - loss: 0.0174 - accuracy: 0.9970 - val_loss: 0.1685 - val_accuracy: 0.9842\n",
            "Epoch 127/200\n",
            "750/750 [==============================] - 8s 10ms/step - loss: 0.0164 - accuracy: 0.9966 - val_loss: 0.1876 - val_accuracy: 0.9842\n",
            "Epoch 128/200\n",
            "750/750 [==============================] - 8s 10ms/step - loss: 0.0139 - accuracy: 0.9971 - val_loss: 0.1844 - val_accuracy: 0.9851\n",
            "Epoch 129/200\n",
            "750/750 [==============================] - 8s 10ms/step - loss: 0.0142 - accuracy: 0.9974 - val_loss: 0.1848 - val_accuracy: 0.9839\n",
            "Epoch 130/200\n",
            "750/750 [==============================] - 8s 10ms/step - loss: 0.0161 - accuracy: 0.9973 - val_loss: 0.1897 - val_accuracy: 0.9851\n",
            "Epoch 131/200\n",
            "750/750 [==============================] - 8s 11ms/step - loss: 0.0194 - accuracy: 0.9970 - val_loss: 0.1907 - val_accuracy: 0.9837\n",
            "Epoch 132/200\n",
            "750/750 [==============================] - 8s 10ms/step - loss: 0.0137 - accuracy: 0.9976 - val_loss: 0.2052 - val_accuracy: 0.9836\n",
            "Epoch 133/200\n",
            "750/750 [==============================] - 8s 10ms/step - loss: 0.0175 - accuracy: 0.9965 - val_loss: 0.2166 - val_accuracy: 0.9843\n",
            "Epoch 134/200\n",
            "750/750 [==============================] - 8s 10ms/step - loss: 0.0123 - accuracy: 0.9975 - val_loss: 0.1749 - val_accuracy: 0.9855\n",
            "Epoch 135/200\n",
            "750/750 [==============================] - 8s 10ms/step - loss: 0.0194 - accuracy: 0.9968 - val_loss: 0.2057 - val_accuracy: 0.9840\n",
            "Epoch 136/200\n",
            "750/750 [==============================] - 8s 10ms/step - loss: 0.0209 - accuracy: 0.9966 - val_loss: 0.2082 - val_accuracy: 0.9830\n",
            "Epoch 137/200\n",
            "750/750 [==============================] - 7s 10ms/step - loss: 0.0173 - accuracy: 0.9967 - val_loss: 0.2107 - val_accuracy: 0.9841\n",
            "Epoch 138/200\n",
            "750/750 [==============================] - 8s 10ms/step - loss: 0.0166 - accuracy: 0.9973 - val_loss: 0.2193 - val_accuracy: 0.9841\n",
            "Epoch 139/200\n",
            "750/750 [==============================] - 8s 10ms/step - loss: 0.0136 - accuracy: 0.9975 - val_loss: 0.2084 - val_accuracy: 0.9850\n",
            "Epoch 140/200\n",
            "750/750 [==============================] - 8s 10ms/step - loss: 0.0172 - accuracy: 0.9973 - val_loss: 0.1896 - val_accuracy: 0.9841\n",
            "Epoch 141/200\n",
            "750/750 [==============================] - 8s 10ms/step - loss: 0.0148 - accuracy: 0.9971 - val_loss: 0.1778 - val_accuracy: 0.9848\n",
            "Epoch 142/200\n",
            "750/750 [==============================] - 8s 10ms/step - loss: 0.0166 - accuracy: 0.9969 - val_loss: 0.1664 - val_accuracy: 0.9845\n",
            "Epoch 143/200\n",
            "750/750 [==============================] - 8s 10ms/step - loss: 0.0137 - accuracy: 0.9973 - val_loss: 0.1807 - val_accuracy: 0.9840\n",
            "Epoch 144/200\n",
            "750/750 [==============================] - 8s 10ms/step - loss: 0.0153 - accuracy: 0.9970 - val_loss: 0.2060 - val_accuracy: 0.9831\n",
            "Epoch 145/200\n",
            "750/750 [==============================] - 8s 10ms/step - loss: 0.0172 - accuracy: 0.9972 - val_loss: 0.1806 - val_accuracy: 0.9848\n",
            "Epoch 146/200\n",
            "750/750 [==============================] - 8s 10ms/step - loss: 0.0119 - accuracy: 0.9974 - val_loss: 0.1903 - val_accuracy: 0.9848\n",
            "Epoch 147/200\n",
            "750/750 [==============================] - 8s 11ms/step - loss: 0.0154 - accuracy: 0.9973 - val_loss: 0.2306 - val_accuracy: 0.9829\n",
            "Epoch 148/200\n",
            "750/750 [==============================] - 8s 10ms/step - loss: 0.0220 - accuracy: 0.9967 - val_loss: 0.2033 - val_accuracy: 0.9826\n",
            "Epoch 149/200\n",
            "750/750 [==============================] - 8s 11ms/step - loss: 0.0153 - accuracy: 0.9973 - val_loss: 0.2094 - val_accuracy: 0.9827\n",
            "Epoch 150/200\n",
            "750/750 [==============================] - 8s 10ms/step - loss: 0.0134 - accuracy: 0.9975 - val_loss: 0.1980 - val_accuracy: 0.9847\n",
            "Epoch 151/200\n",
            "750/750 [==============================] - 8s 10ms/step - loss: 0.0152 - accuracy: 0.9973 - val_loss: 0.2001 - val_accuracy: 0.9841\n",
            "Epoch 152/200\n",
            "750/750 [==============================] - 8s 10ms/step - loss: 0.0154 - accuracy: 0.9973 - val_loss: 0.1980 - val_accuracy: 0.9838\n",
            "Epoch 153/200\n",
            "750/750 [==============================] - 7s 10ms/step - loss: 0.0199 - accuracy: 0.9967 - val_loss: 0.2075 - val_accuracy: 0.9841\n",
            "Epoch 154/200\n",
            "750/750 [==============================] - 8s 10ms/step - loss: 0.0145 - accuracy: 0.9969 - val_loss: 0.2149 - val_accuracy: 0.9840\n",
            "Epoch 155/200\n",
            "750/750 [==============================] - 8s 10ms/step - loss: 0.0118 - accuracy: 0.9980 - val_loss: 0.1985 - val_accuracy: 0.9852\n",
            "Epoch 156/200\n",
            "750/750 [==============================] - 8s 10ms/step - loss: 0.0116 - accuracy: 0.9974 - val_loss: 0.1976 - val_accuracy: 0.9843\n",
            "Epoch 157/200\n",
            "750/750 [==============================] - 8s 10ms/step - loss: 0.0184 - accuracy: 0.9969 - val_loss: 0.2043 - val_accuracy: 0.9833\n",
            "Epoch 158/200\n",
            "750/750 [==============================] - 8s 10ms/step - loss: 0.0164 - accuracy: 0.9973 - val_loss: 0.2006 - val_accuracy: 0.9843\n",
            "Epoch 159/200\n",
            "750/750 [==============================] - 8s 10ms/step - loss: 0.0193 - accuracy: 0.9970 - val_loss: 0.1830 - val_accuracy: 0.9841\n",
            "Epoch 160/200\n",
            "750/750 [==============================] - 8s 10ms/step - loss: 0.0120 - accuracy: 0.9977 - val_loss: 0.2160 - val_accuracy: 0.9843\n",
            "Epoch 161/200\n",
            "750/750 [==============================] - 8s 10ms/step - loss: 0.0161 - accuracy: 0.9971 - val_loss: 0.2093 - val_accuracy: 0.9846\n",
            "Epoch 162/200\n",
            "750/750 [==============================] - 8s 10ms/step - loss: 0.0161 - accuracy: 0.9973 - val_loss: 0.2268 - val_accuracy: 0.9837\n",
            "Epoch 163/200\n",
            "750/750 [==============================] - 8s 10ms/step - loss: 0.0201 - accuracy: 0.9970 - val_loss: 0.2332 - val_accuracy: 0.9823\n",
            "Epoch 164/200\n",
            "750/750 [==============================] - 8s 11ms/step - loss: 0.0205 - accuracy: 0.9967 - val_loss: 0.2077 - val_accuracy: 0.9840\n",
            "Epoch 165/200\n",
            "750/750 [==============================] - 8s 10ms/step - loss: 0.0113 - accuracy: 0.9978 - val_loss: 0.2154 - val_accuracy: 0.9828\n",
            "Epoch 166/200\n",
            "750/750 [==============================] - 8s 10ms/step - loss: 0.0136 - accuracy: 0.9976 - val_loss: 0.2084 - val_accuracy: 0.9837\n",
            "Epoch 167/200\n",
            "750/750 [==============================] - 8s 10ms/step - loss: 0.0187 - accuracy: 0.9971 - val_loss: 0.1940 - val_accuracy: 0.9828\n",
            "Epoch 168/200\n",
            "750/750 [==============================] - 7s 10ms/step - loss: 0.0155 - accuracy: 0.9968 - val_loss: 0.2011 - val_accuracy: 0.9846\n",
            "Epoch 169/200\n",
            "750/750 [==============================] - 7s 10ms/step - loss: 0.0146 - accuracy: 0.9976 - val_loss: 0.2469 - val_accuracy: 0.9837\n",
            "Epoch 170/200\n",
            "750/750 [==============================] - 8s 10ms/step - loss: 0.0131 - accuracy: 0.9977 - val_loss: 0.2465 - val_accuracy: 0.9837\n",
            "Epoch 171/200\n",
            "750/750 [==============================] - 8s 10ms/step - loss: 0.0164 - accuracy: 0.9971 - val_loss: 0.2041 - val_accuracy: 0.9847\n",
            "Epoch 172/200\n",
            "750/750 [==============================] - 7s 10ms/step - loss: 0.0160 - accuracy: 0.9974 - val_loss: 0.2172 - val_accuracy: 0.9847\n",
            "Epoch 173/200\n",
            "750/750 [==============================] - 7s 10ms/step - loss: 0.0134 - accuracy: 0.9977 - val_loss: 0.2132 - val_accuracy: 0.9847\n",
            "Epoch 174/200\n",
            "750/750 [==============================] - 7s 10ms/step - loss: 0.0169 - accuracy: 0.9971 - val_loss: 0.1994 - val_accuracy: 0.9851\n",
            "Epoch 175/200\n",
            "750/750 [==============================] - 7s 10ms/step - loss: 0.0158 - accuracy: 0.9972 - val_loss: 0.2153 - val_accuracy: 0.9839\n",
            "Epoch 176/200\n",
            "750/750 [==============================] - 8s 10ms/step - loss: 0.0127 - accuracy: 0.9977 - val_loss: 0.2121 - val_accuracy: 0.9834\n",
            "Epoch 177/200\n",
            "750/750 [==============================] - 8s 10ms/step - loss: 0.0142 - accuracy: 0.9975 - val_loss: 0.2101 - val_accuracy: 0.9842\n",
            "Epoch 178/200\n",
            "750/750 [==============================] - 8s 10ms/step - loss: 0.0161 - accuracy: 0.9970 - val_loss: 0.2208 - val_accuracy: 0.9836\n",
            "Epoch 179/200\n",
            "750/750 [==============================] - 8s 10ms/step - loss: 0.0169 - accuracy: 0.9972 - val_loss: 0.2343 - val_accuracy: 0.9847\n",
            "Epoch 180/200\n",
            "750/750 [==============================] - 8s 10ms/step - loss: 0.0148 - accuracy: 0.9979 - val_loss: 0.2449 - val_accuracy: 0.9840\n",
            "Epoch 181/200\n",
            "750/750 [==============================] - 7s 10ms/step - loss: 0.0166 - accuracy: 0.9975 - val_loss: 0.2287 - val_accuracy: 0.9843\n",
            "Epoch 182/200\n",
            "750/750 [==============================] - 7s 10ms/step - loss: 0.0148 - accuracy: 0.9974 - val_loss: 0.2197 - val_accuracy: 0.9854\n",
            "Epoch 183/200\n",
            "750/750 [==============================] - 8s 10ms/step - loss: 0.0207 - accuracy: 0.9968 - val_loss: 0.2543 - val_accuracy: 0.9838\n",
            "Epoch 184/200\n",
            "750/750 [==============================] - 7s 10ms/step - loss: 0.0155 - accuracy: 0.9976 - val_loss: 0.2611 - val_accuracy: 0.9842\n",
            "Epoch 185/200\n",
            "750/750 [==============================] - 8s 10ms/step - loss: 0.0144 - accuracy: 0.9977 - val_loss: 0.2393 - val_accuracy: 0.9841\n",
            "Epoch 186/200\n",
            "750/750 [==============================] - 8s 10ms/step - loss: 0.0128 - accuracy: 0.9976 - val_loss: 0.2308 - val_accuracy: 0.9837\n",
            "Epoch 187/200\n",
            "750/750 [==============================] - 8s 10ms/step - loss: 0.0106 - accuracy: 0.9982 - val_loss: 0.2277 - val_accuracy: 0.9837\n",
            "Epoch 188/200\n",
            "750/750 [==============================] - 8s 11ms/step - loss: 0.0155 - accuracy: 0.9973 - val_loss: 0.2345 - val_accuracy: 0.9846\n",
            "Epoch 189/200\n",
            "750/750 [==============================] - 8s 11ms/step - loss: 0.0118 - accuracy: 0.9981 - val_loss: 0.2168 - val_accuracy: 0.9841\n",
            "Epoch 190/200\n",
            "750/750 [==============================] - 8s 10ms/step - loss: 0.0164 - accuracy: 0.9971 - val_loss: 0.2305 - val_accuracy: 0.9851\n",
            "Epoch 191/200\n",
            "750/750 [==============================] - 10s 13ms/step - loss: 0.0121 - accuracy: 0.9982 - val_loss: 0.2292 - val_accuracy: 0.9847\n",
            "Epoch 192/200\n",
            "750/750 [==============================] - 9s 12ms/step - loss: 0.0085 - accuracy: 0.9984 - val_loss: 0.2393 - val_accuracy: 0.9852\n",
            "Epoch 193/200\n",
            "750/750 [==============================] - 8s 10ms/step - loss: 0.0143 - accuracy: 0.9977 - val_loss: 0.2634 - val_accuracy: 0.9843\n",
            "Epoch 194/200\n",
            "750/750 [==============================] - 8s 10ms/step - loss: 0.0148 - accuracy: 0.9974 - val_loss: 0.2661 - val_accuracy: 0.9849\n",
            "Epoch 195/200\n",
            "750/750 [==============================] - 8s 11ms/step - loss: 0.0143 - accuracy: 0.9978 - val_loss: 0.2751 - val_accuracy: 0.9845\n",
            "Epoch 196/200\n",
            "750/750 [==============================] - 8s 10ms/step - loss: 0.0171 - accuracy: 0.9976 - val_loss: 0.2818 - val_accuracy: 0.9837\n",
            "Epoch 197/200\n",
            "750/750 [==============================] - 8s 10ms/step - loss: 0.0146 - accuracy: 0.9977 - val_loss: 0.2747 - val_accuracy: 0.9850\n",
            "Epoch 198/200\n",
            "750/750 [==============================] - 8s 10ms/step - loss: 0.0142 - accuracy: 0.9977 - val_loss: 0.2924 - val_accuracy: 0.9843\n",
            "Epoch 199/200\n",
            "403/750 [===============>..............] - ETA: 3s - loss: 0.0165 - accuracy: 0.9976"
          ],
          "name": "stdout"
        }
      ]
    },
    {
      "cell_type": "code",
      "metadata": {
        "id": "UHMf1HAskp9n",
        "colab": {
          "base_uri": "https://localhost:8080/",
          "height": 591
        },
        "outputId": "689d9d41-ee82-4da6-afec-210320467c15"
      },
      "source": [
        "import matplotlib.pyplot as plt\n",
        "%matplotlib inline\n",
        "# list all data in training\n",
        "print(training.history.keys())\n",
        "# summarize training for accuracy\n",
        "plt.plot(training.history['accuracy'])\n",
        "plt.plot(training.history['val_accuracy'])\n",
        "plt.title('model accuracy')\n",
        "plt.ylabel('accuracy')\n",
        "plt.xlabel('epoch')\n",
        "plt.legend(['train', 'test'], loc='upper left')\n",
        "plt.show()\n",
        "# summarize traning for loss\n",
        "plt.plot(training.history['loss'])\n",
        "plt.plot(training.history['val_loss'])\n",
        "plt.title('model loss')\n",
        "plt.ylabel('loss')\n",
        "plt.xlabel('epoch')\n",
        "plt.legend(['train', 'test'], loc='upper left')\n",
        "plt.show()"
      ],
      "execution_count": null,
      "outputs": [
        {
          "output_type": "stream",
          "text": [
            "dict_keys(['loss', 'accuracy', 'val_loss', 'val_accuracy'])\n"
          ],
          "name": "stdout"
        },
        {
          "output_type": "display_data",
          "data": {
            "image/png": "[encoded data removed]",
            "text/plain": [
              "<Figure size 432x288 with 1 Axes>"
            ]
          },
          "metadata": {
            "tags": [],
            "needs_background": "light"
          }
        },
        {
          "output_type": "display_data",
          "data": {
            "image/png": "[encoded data removed]",
            "text/plain": [
              "<Figure size 432x288 with 1 Axes>"
            ]
          },
          "metadata": {
            "tags": [],
            "needs_background": "light"
          }
        }
      ]
    },
    {
      "cell_type": "code",
      "metadata": {
        "id": "e4kmSKEn0Kyv",
        "colab": {
          "base_uri": "https://localhost:8080/",
          "height": 52
        },
        "outputId": "d7650e0c-15df-4415-aaea-7b04ad8f1c95"
      },
      "source": [
        "#evaluate the model\n",
        "test_loss, test_acc = model_5.evaluate(X_test, Y_test)\n",
        "print('Test accuracy:', test_acc)"
      ],
      "execution_count": null,
      "outputs": [
        {
          "output_type": "stream",
          "text": [
            "313/313 [==============================] - 1s 3ms/step - loss: 0.2712 - accuracy: 0.9846\n",
            "Test accuracy: 0.9846000075340271\n"
          ],
          "name": "stdout"
        }
      ]
    },
    {
      "cell_type": "code",
      "metadata": {
        "id": "LVr1ZMvnkp92",
        "colab": {
          "base_uri": "https://localhost:8080/",
          "height": 34
        },
        "outputId": "3772b6ff-f1e9-4af9-fdbc-6b6db48861ba"
      },
      "source": [
        "model_5.summary"
      ],
      "execution_count": null,
      "outputs": [
        {
          "output_type": "execute_result",
          "data": {
            "text/plain": [
              "<bound method Network.summary of <tensorflow.python.keras.engine.sequential.Sequential object at 0x7ffa9bc2f320>>"
            ]
          },
          "metadata": {
            "tags": []
          },
          "execution_count": 51
        }
      ]
    },
    {
      "cell_type": "code",
      "metadata": {
        "id": "j76rvRmxkp-C",
        "colab": {
          "base_uri": "https://localhost:8080/",
          "height": 1000
        },
        "outputId": "6e615209-d1fe-4582-86e0-d7a68d866a01"
      },
      "source": [
        "model_5.weights"
      ],
      "execution_count": null,
      "outputs": [
        {
          "output_type": "execute_result",
          "data": {
            "text/plain": [
              "[<tf.Variable 'dense_layer_7/kernel:0' shape=(784, 512) dtype=float32, numpy=\n",
              " array([[-0.0634052 ,  0.05583071, -0.02546262, ...,  0.00274961,\n",
              "          0.00298132, -0.06102526],\n",
              "        [ 0.02100741,  0.0560446 , -0.06592333, ...,  0.02014928,\n",
              "         -0.06059694, -0.00232304],\n",
              "        [-0.0110484 , -0.05735963, -0.04017337, ...,  0.04094408,\n",
              "         -0.05134601, -0.05450907],\n",
              "        ...,\n",
              "        [-0.05346987,  0.05107909, -0.04738276, ..., -0.01198199,\n",
              "          0.01172557,  0.00727127],\n",
              "        [ 0.04084275, -0.05939313, -0.03691344, ...,  0.04278713,\n",
              "          0.04301028, -0.03635497],\n",
              "        [-0.03174385,  0.02921092,  0.02147333, ...,  0.01470637,\n",
              "          0.03640424, -0.04842476]], dtype=float32)>,\n",
              " <tf.Variable 'dense_layer_7/bias:0' shape=(512,) dtype=float32, numpy=\n",
              " array([-4.83083785e-01,  1.08741231e-01, -2.22454026e-01, -4.15814281e-01,\n",
              "        -1.87059343e-01, -1.19175941e-01, -2.90526420e-01, -2.54414618e-01,\n",
              "        -1.71343103e-01,  2.85642684e-01, -7.67641887e-02, -1.02716617e-01,\n",
              "         6.88035600e-03, -2.02073976e-01, -3.69045615e-01, -2.48833716e-01,\n",
              "        -1.05139114e-01, -2.29244500e-01, -4.37476546e-01, -6.11795560e-02,\n",
              "        -2.44988471e-01, -2.58536816e-01, -2.84922510e-01, -4.30280328e-01,\n",
              "        -3.25668544e-01, -9.87468939e-03,  2.75561418e-02,  1.50783509e-01,\n",
              "        -4.33745444e-01, -4.67394553e-02, -3.46135408e-01,  6.78295419e-02,\n",
              "         7.60544697e-03, -2.13563114e-01, -5.48810661e-02, -6.12312555e-02,\n",
              "         1.05165113e-02, -3.25962275e-01,  6.58852533e-02, -2.10133016e-01,\n",
              "        -5.11553049e-01,  3.01801898e-02, -3.54850739e-02, -2.61461228e-01,\n",
              "        -1.69398457e-01,  3.39182988e-02, -1.47435978e-01, -1.73643723e-01,\n",
              "         1.84060037e-01, -1.53207794e-01, -1.11177288e-01, -1.69310957e-01,\n",
              "        -6.94785938e-02, -4.36441958e-01, -2.69596875e-02, -1.56217515e-01,\n",
              "         1.42125040e-01,  1.82338819e-01, -5.48501834e-02, -3.31208050e-01,\n",
              "        -5.32370269e-01, -2.29587406e-01, -1.65764526e-01, -4.13856000e-01,\n",
              "        -1.80167481e-01, -6.22050953e-04, -3.94806951e-01, -2.83275582e-02,\n",
              "        -4.85750705e-01, -3.11173946e-01, -2.84164816e-01, -1.32366493e-01,\n",
              "         2.43791595e-01,  6.17930852e-02, -5.42833388e-01, -6.73320293e-01,\n",
              "        -7.02828825e-01, -1.25610128e-01, -2.23357737e-01, -9.27048028e-02,\n",
              "        -2.22542435e-01, -6.04371190e-01,  6.00263625e-02,  1.00456037e-01,\n",
              "        -4.02862310e-01, -1.65781956e-02, -3.25249583e-01, -1.92723155e-01,\n",
              "         3.32407095e-02, -1.30280092e-01,  1.68044895e-01, -1.48749843e-01,\n",
              "        -3.34831119e-01, -1.05607599e-01, -4.09331024e-01, -4.13390964e-01,\n",
              "        -4.58270937e-01, -2.00851187e-01, -7.30147436e-02,  5.80824167e-02,\n",
              "        -2.83721626e-01,  1.91824902e-02,  8.85518640e-02, -2.45935260e-03,\n",
              "        -5.12741208e-02, -5.79737388e-02,  9.91182402e-02, -6.48879074e-03,\n",
              "        -2.89874554e-01, -2.62317955e-01, -1.04558676e-01, -4.53138381e-01,\n",
              "        -3.49777311e-01,  1.10910147e-01, -6.61643082e-03, -8.31265450e-02,\n",
              "        -4.62574780e-01, -2.19862580e-01, -2.12296844e-01, -2.36987025e-01,\n",
              "        -1.53196678e-01, -2.14748204e-01,  3.95009577e-01, -2.84830749e-01,\n",
              "        -3.95299852e-01,  1.13343168e-02, -2.20832318e-01,  2.01516673e-01,\n",
              "         3.20931524e-01, -1.57515541e-01,  4.44574982e-01, -6.11134350e-01,\n",
              "        -2.06987709e-01,  6.69633746e-02, -3.74755383e-01, -6.07687831e-01,\n",
              "        -2.15776965e-01, -4.53644007e-01, -7.45265782e-01, -5.41035891e-01,\n",
              "         2.44415343e-01,  7.53769577e-02, -2.48184741e-01, -2.36076191e-01,\n",
              "        -6.28737628e-01, -1.27128705e-01, -2.35986561e-01, -2.10452408e-01,\n",
              "        -5.92015088e-01, -2.23636508e-01, -8.19678828e-02, -2.42109716e-01,\n",
              "         5.14618643e-02,  1.72731414e-01,  9.99754965e-02, -2.86544651e-01,\n",
              "        -9.66233760e-02, -5.23915112e-01, -3.27712089e-01, -3.00025553e-01,\n",
              "         2.02042401e-01, -2.45137095e-01, -2.80441731e-01, -4.70178872e-01,\n",
              "        -3.47019851e-01, -9.96309817e-02, -2.31977418e-01, -1.23924814e-01,\n",
              "         3.50509077e-01,  8.80593061e-02, -4.41534184e-02, -5.76235652e-01,\n",
              "        -1.53065324e-01, -5.41150749e-01,  1.07748233e-01,  4.12410609e-02,\n",
              "        -4.96960014e-01, -7.81216919e-02, -4.36911643e-01, -1.05323792e-01,\n",
              "         2.15570498e-02, -4.36772197e-01, -1.40495196e-01, -1.81358129e-01,\n",
              "         1.22533642e-01,  2.38192379e-01, -1.86450109e-01,  1.54904842e-01,\n",
              "        -1.81236073e-01, -8.01832154e-02,  1.63424775e-01, -2.74857134e-01,\n",
              "        -6.08324446e-02, -3.10800523e-01, -3.66908282e-01,  1.35904580e-01,\n",
              "        -2.15052381e-01, -4.14256990e-01, -1.86103076e-01,  3.41053233e-02,\n",
              "        -4.71776664e-01, -1.58275262e-01, -4.88504879e-02, -1.36853084e-01,\n",
              "        -3.15693289e-01,  3.36798280e-02,  2.80614555e-01, -4.52679507e-02,\n",
              "         1.76760122e-01, -1.08376607e-01, -1.59214556e-01, -3.04384232e-01,\n",
              "        -5.58161922e-02, -6.24907911e-02, -1.71284363e-01, -3.11203450e-01,\n",
              "        -1.57258511e-01,  2.37902910e-01, -1.26031697e-01, -3.71960431e-01,\n",
              "        -5.55627458e-02, -3.97233576e-01, -1.08115174e-01, -2.40925029e-01,\n",
              "        -2.52245396e-01, -4.01739806e-01, -8.24751556e-02, -5.22386909e-01,\n",
              "        -1.82169259e-01, -6.69121146e-01, -2.01597378e-01, -4.41456884e-01,\n",
              "        -1.25201836e-01, -3.77411872e-01, -1.52617335e-01,  4.57549959e-01,\n",
              "        -3.55523407e-01, -1.47738501e-01, -3.67607713e-01, -3.09775829e-01,\n",
              "         5.61637059e-03, -2.18218416e-01, -3.39918554e-01, -1.99052125e-01,\n",
              "        -1.87575221e-01, -4.53610159e-03, -1.05634019e-01, -2.80405790e-01,\n",
              "        -1.11814618e-01, -1.38864636e-01, -1.11155003e-01, -4.50214684e-01,\n",
              "         8.91244039e-02,  7.08653927e-02, -3.30015451e-01,  7.32012615e-02,\n",
              "        -1.02834091e-01, -3.22230488e-01, -2.74978369e-01, -1.37204409e-01,\n",
              "        -1.58120289e-01, -9.68007073e-02, -3.06229085e-01, -6.78023472e-02,\n",
              "        -2.89585352e-01, -2.37170458e-02, -5.58500439e-02, -2.51083404e-01,\n",
              "        -1.57411590e-01, -4.85596627e-01,  6.47662953e-02, -2.12897539e-01,\n",
              "        -2.64007837e-01,  1.49410889e-01,  8.99417624e-02, -4.73942250e-01,\n",
              "         2.06311117e-03,  2.59092008e-03,  8.11675638e-02, -2.96992391e-01,\n",
              "         2.02463970e-01, -2.45001078e-01, -2.55516648e-01, -2.11531118e-01,\n",
              "        -2.48786174e-02, -2.24263877e-01, -2.62639284e-01, -8.90562236e-02,\n",
              "        -4.66608137e-01, -1.76512703e-01, -4.90585417e-01, -3.34309265e-02,\n",
              "        -4.85875905e-02, -2.69209474e-01,  1.43838152e-02,  1.49085850e-01,\n",
              "        -8.86320844e-02,  8.97917077e-02, -1.94009125e-01,  1.85353503e-01,\n",
              "        -2.04995900e-01, -1.69755742e-01, -5.04604280e-01,  2.33298495e-01,\n",
              "        -5.66743076e-01, -7.44068801e-01,  1.97315589e-01, -3.29336196e-01,\n",
              "         1.14091197e-02, -3.27782005e-01, -3.55993122e-01, -3.42002749e-01,\n",
              "        -7.34862452e-03, -6.69578433e-01, -1.85360061e-03, -8.26121271e-02,\n",
              "        -2.29415521e-01, -4.22381699e-01, -2.40533426e-01, -1.80698246e-01,\n",
              "        -2.45293081e-01, -7.99591467e-02, -5.50907612e-01, -4.16319817e-01,\n",
              "        -2.80896258e-02, -5.21519743e-02,  7.35479444e-02,  6.20069019e-02,\n",
              "        -1.19907461e-01, -4.56563644e-02,  4.71697450e-02,  1.79034863e-02,\n",
              "        -1.74281120e-01, -3.69987488e-01, -9.43800285e-02, -8.67823213e-02,\n",
              "        -1.29157826e-01, -1.75315201e-01,  3.20679247e-02,  5.18086962e-02,\n",
              "        -1.04225084e-01, -1.90929711e-01, -1.09612763e-01, -3.37114662e-01,\n",
              "        -3.45047712e-01, -1.50266722e-01, -3.22054714e-01, -5.21784499e-02,\n",
              "         7.18941493e-03, -2.12016761e-01,  2.71819770e-01, -7.80737028e-03,\n",
              "        -8.54766816e-02,  6.46874458e-02, -2.55967945e-01, -2.37664968e-01,\n",
              "        -8.67518336e-02, -1.86918199e-01, -2.87973940e-01, -1.21376455e-01,\n",
              "         6.35967776e-02, -3.50080520e-01, -7.72058964e-02, -2.00015575e-01,\n",
              "        -2.91673511e-01,  1.24827877e-01,  1.18145868e-02, -4.13771346e-02,\n",
              "        -5.40694818e-02,  3.15169752e-01, -3.73777151e-01, -2.10727051e-01,\n",
              "        -1.19648001e-04,  1.89111292e-01, -3.90434474e-01,  1.47822145e-02,\n",
              "        -7.90979415e-02,  5.72058670e-02, -4.17174995e-02,  2.87162978e-02,\n",
              "        -3.61980200e-01, -9.28452387e-02, -1.86450575e-02,  2.00256065e-01,\n",
              "         2.62835383e-01, -6.99986041e-01, -1.03351511e-01, -3.54764074e-01,\n",
              "        -2.95053199e-02,  2.46944457e-01, -9.54640210e-02,  1.74665421e-01,\n",
              "        -1.17475420e-01, -3.11416816e-02, -2.35764712e-01, -2.09522039e-01,\n",
              "         5.78924231e-02,  3.08448851e-01, -3.73591065e-01, -3.53193104e-01,\n",
              "        -7.46048689e-02,  4.53582499e-03,  2.16791406e-02, -1.99255854e-01,\n",
              "        -1.26092866e-01, -2.10155010e-01, -2.69268118e-02, -1.17643319e-01,\n",
              "        -4.18782562e-01, -1.46646872e-01, -4.66862798e-01, -3.96350771e-01,\n",
              "        -3.95540386e-01, -1.49131611e-01, -3.88203412e-01, -1.72835916e-01,\n",
              "        -6.00180626e-02,  7.21760541e-02, -3.63681972e-01,  1.90892175e-01,\n",
              "         3.19086105e-01, -1.69870015e-02, -2.15279177e-01, -5.39279699e-01,\n",
              "        -1.55050188e-01, -3.19499284e-01, -2.67777920e-01,  1.65889785e-01,\n",
              "        -1.85110644e-01, -2.39145577e-01, -1.56694382e-01,  4.69305106e-02,\n",
              "        -1.87349916e-02, -6.29340470e-01, -6.36980116e-01, -4.30944655e-03,\n",
              "         1.14860144e-02, -1.95131060e-02,  3.83723199e-01,  1.50772566e-02,\n",
              "        -3.01059633e-01, -1.96551196e-02, -1.24743253e-01, -1.04441896e-01,\n",
              "        -2.45038599e-01, -2.97326416e-01, -4.27177310e-01, -2.08253130e-01,\n",
              "         8.28548297e-02, -1.06196269e-01, -6.06902659e-01, -1.30796775e-01,\n",
              "         1.46823466e-01, -1.35162354e-01, -2.98897743e-01, -2.69672990e-01,\n",
              "        -3.64230067e-01, -2.22529948e-01, -4.83523160e-01, -1.89722031e-01,\n",
              "        -2.41851062e-01, -3.42870802e-01,  2.00236097e-01, -3.27888995e-01,\n",
              "        -4.80451792e-01, -6.50118589e-02, -7.78405666e-02,  3.21521312e-02,\n",
              "        -2.04698473e-01,  1.27014220e-01, -6.87643528e-01,  1.83349848e-01,\n",
              "        -3.44314426e-01, -1.98751226e-01, -1.82940869e-03, -1.53957352e-01,\n",
              "         1.32761477e-02,  4.42763455e-02,  1.01452224e-01,  3.13936658e-02,\n",
              "        -1.62637815e-01, -1.19279966e-01,  3.71696979e-01, -2.09429130e-01,\n",
              "         5.30039780e-02, -2.75735501e-02, -2.42185555e-02, -1.48084298e-01,\n",
              "        -2.02918068e-01, -3.00274819e-01, -3.47284712e-02, -1.55702651e-01,\n",
              "        -3.44202310e-01, -2.22400054e-01, -4.20193702e-01, -4.42775458e-01,\n",
              "        -4.36516076e-01,  1.40147105e-01, -1.88347593e-01,  1.94705233e-01,\n",
              "        -3.38797241e-01, -1.71663240e-01, -1.61047250e-01, -3.70424569e-01,\n",
              "        -1.46624446e-01, -3.91346544e-01, -2.57065266e-01, -1.85118377e-01,\n",
              "        -4.54720676e-01, -3.48417133e-01, -3.93607914e-01, -4.69944358e-01],\n",
              "       dtype=float32)>,\n",
              " <tf.Variable 'dense_layer_2_4/kernel:0' shape=(512, 512) dtype=float32, numpy=\n",
              " array([[ 0.02578   ,  0.08359049, -0.40839478, ..., -0.17724368,\n",
              "         -0.05818791, -0.42734197],\n",
              "        [-0.3948478 , -0.16254742,  0.48939693, ..., -0.44548878,\n",
              "          0.09655936, -0.34903157],\n",
              "        [ 0.09842577, -0.08043219, -0.01554997, ..., -0.16987295,\n",
              "         -0.00569859,  0.05149646],\n",
              "        ...,\n",
              "        [-0.68100315, -0.17175348, -0.11756092, ...,  0.41271982,\n",
              "          0.19663475,  0.11194671],\n",
              "        [-0.40637174, -0.55569893, -0.26640883, ..., -0.14585236,\n",
              "          0.22172715, -0.18641388],\n",
              "        [ 0.11996674,  0.06908616, -0.07769354, ..., -0.14561912,\n",
              "         -0.10870869, -0.22679117]], dtype=float32)>,\n",
              " <tf.Variable 'dense_layer_2_4/bias:0' shape=(512,) dtype=float32, numpy=\n",
              " array([-8.57976139e-01, -7.60705829e-01, -5.34114659e-01, -8.13397169e-01,\n",
              "        -9.34440672e-01, -3.42571884e-02, -1.57534719e-01, -9.96053219e-01,\n",
              "        -2.56873399e-01, -1.00753999e+00,  4.46893051e-02, -7.37551391e-01,\n",
              "        -9.97986972e-01, -2.58067012e-04, -7.11192071e-01, -9.98735309e-01,\n",
              "        -5.76532900e-01, -1.16395772e+00, -6.29704297e-01, -4.82508928e-01,\n",
              "        -2.92316556e-01, -2.06214279e-01, -2.64129877e-01, -3.62949550e-01,\n",
              "        -9.22950864e-01, -3.26784700e-01,  1.02029957e-01, -4.08730775e-01,\n",
              "        -4.28321064e-01, -2.93510020e-01, -3.58981282e-01, -1.60507262e+00,\n",
              "        -6.75100267e-01, -3.95144701e-01, -5.77072024e-01, -4.62641001e-01,\n",
              "        -6.98362947e-01, -3.18458617e-01, -3.50140452e-01, -2.93468058e-01,\n",
              "        -1.25361907e+00, -3.47059995e-01, -3.69057506e-01, -6.60351887e-02,\n",
              "        -1.13201523e+00, -5.69611430e-01, -4.31786716e-01, -7.73068309e-01,\n",
              "        -3.24171752e-01, -4.20531392e-01, -4.40524220e-01, -3.49577963e-01,\n",
              "        -3.50744762e-02, -1.48814392e+00, -5.54392099e-01, -5.09380341e-01,\n",
              "        -7.72905469e-01, -4.41873133e-01, -6.28739238e-01, -8.43377233e-01,\n",
              "        -1.60440933e-02, -7.64191747e-01, -6.41659796e-01,  2.34857183e-02,\n",
              "        -1.13672805e+00, -5.97641766e-01, -3.47190313e-02, -4.50197160e-01,\n",
              "        -6.64335251e-01, -3.10602695e-01, -1.19153774e+00, -8.30126107e-02,\n",
              "        -6.26248419e-01, -2.57166531e-02, -1.10600436e+00,  5.45888364e-01,\n",
              "        -7.38396645e-01, -6.20563984e-01, -4.75394636e-01, -3.52959365e-01,\n",
              "        -1.86853901e-01, -1.21056056e+00, -6.21229887e-01, -7.40708828e-01,\n",
              "        -4.76395339e-01, -5.47639787e-01, -1.14795983e+00, -8.69922280e-01,\n",
              "        -1.19501770e+00,  2.24735346e-02, -4.78594035e-01, -4.64280874e-01,\n",
              "        -9.89154994e-01, -1.06319892e+00, -1.37615517e-01, -8.45650911e-01,\n",
              "        -1.41438201e-01, -7.26237535e-01, -3.46928388e-01, -1.00439620e+00,\n",
              "        -1.29348576e+00, -1.00532675e+00, -1.21526551e+00, -9.71831799e-01,\n",
              "        -1.52439579e-01, -9.88974154e-01, -3.96495312e-01, -1.40025580e+00,\n",
              "        -1.96587041e-01, -6.81729734e-01, -6.46888614e-01,  1.90509204e-02,\n",
              "        -5.03196120e-01, -4.95156974e-01, -8.30125213e-01, -7.55357504e-01,\n",
              "        -4.03353125e-01, -8.09722364e-01, -1.04375007e-02, -7.67881930e-01,\n",
              "        -3.11222106e-01, -1.20699510e-01, -9.00429606e-01, -3.74417275e-01,\n",
              "        -9.62424040e-01, -1.18346763e+00, -5.60302019e-01, -2.69134939e-02,\n",
              "        -4.14745361e-01, -3.70680153e-01, -1.36785841e+00, -5.37698328e-01,\n",
              "        -7.95656443e-01, -4.81666833e-01, -7.29682028e-01, -5.36517575e-02,\n",
              "        -2.74791926e-01, -3.03727835e-01, -9.13931206e-02, -4.88392889e-01,\n",
              "        -8.43984544e-01, -4.18776900e-01,  2.09755898e-01, -9.73881930e-02,\n",
              "        -8.57692242e-01, -3.32329571e-01, -5.96789479e-01, -4.98142064e-01,\n",
              "        -7.77019680e-01, -9.23629105e-01, -1.37470424e+00, -6.04103327e-01,\n",
              "        -1.17476046e+00, -7.35343814e-01, -1.55824274e-01,  1.72114387e-01,\n",
              "        -2.25415528e-01, -5.29466942e-02, -6.78897381e-01, -9.21548307e-01,\n",
              "        -7.17589796e-01, -9.37238216e-01, -7.26160228e-01, -1.01658666e+00,\n",
              "        -3.96561950e-01, -1.66338515e+00,  5.10828793e-01,  1.06795184e-01,\n",
              "        -9.00991082e-01, -1.12099552e+00, -8.46547127e-01,  7.63183013e-02,\n",
              "        -6.12166822e-01, -1.46919981e-01, -1.30230248e+00, -5.45160234e-01,\n",
              "        -4.27658647e-01, -6.65182590e-01, -7.20847607e-01, -1.22854567e+00,\n",
              "        -1.57806098e+00, -1.57385898e+00, -1.04809499e+00, -6.78878486e-01,\n",
              "        -6.85089886e-01, -5.02626300e-01, -6.78729296e-01, -8.76413465e-01,\n",
              "        -1.14197515e-01, -6.43942416e-01, -8.66736293e-01, -3.56567889e-01,\n",
              "        -4.59576190e-01, -3.53675812e-01, -9.57536340e-01,  1.09121472e-01,\n",
              "        -1.20966375e+00, -7.28651106e-01, -9.34824169e-01, -5.04560292e-01,\n",
              "        -1.08779371e+00, -6.43622577e-02, -9.21348512e-01, -8.40526819e-01,\n",
              "        -1.19364619e+00, -2.57766068e-01, -5.24997652e-01, -2.78976023e-01,\n",
              "        -9.23707426e-01, -1.83000594e-01, -6.39228344e-01, -7.23113537e-01,\n",
              "        -9.67695892e-01, -9.09191430e-01, -9.48545635e-02, -8.17468464e-01,\n",
              "        -3.64279032e-01, -3.88323843e-01, -6.52475059e-01, -1.02510738e+00,\n",
              "        -3.98110986e-01, -4.09694552e-01, -1.17053890e+00, -1.19247663e+00,\n",
              "         2.50633769e-02,  5.57823837e-01, -5.67059398e-01, -8.99825618e-02,\n",
              "        -8.88400733e-01, -9.00778949e-01, -3.97582799e-01, -8.55253041e-01,\n",
              "         1.39999971e-01, -7.76082277e-01, -1.87392086e-01, -8.92088950e-01,\n",
              "        -9.12749112e-01, -5.30499481e-02, -9.55083191e-01, -2.14373350e-01,\n",
              "        -3.70075494e-01, -6.28391743e-01,  6.69991136e-01, -1.00801623e+00,\n",
              "        -1.45767426e+00, -6.98903382e-01, -1.22933447e+00, -1.30050808e-01,\n",
              "        -6.65355563e-01, -5.27487397e-01, -1.23668134e+00, -9.11211789e-01,\n",
              "         5.91497160e-02, -5.66019893e-01, -6.19113088e-01, -1.21705003e-01,\n",
              "        -8.58023822e-01, -9.74831164e-01, -1.55047154e+00, -1.07087088e+00,\n",
              "        -3.14039975e-01, -8.77554119e-01, -8.86075675e-01, -2.00524136e-01,\n",
              "        -6.88778758e-01, -7.05452383e-01, -1.23662889e+00, -6.25554144e-01,\n",
              "        -7.65183568e-01, -4.39241141e-01, -1.04394662e+00, -7.42931306e-01,\n",
              "        -1.22988379e+00, -6.50668740e-01, -2.47984082e-01, -1.04838920e+00,\n",
              "        -2.33571544e-01, -8.97952020e-01, -7.81394958e-01, -9.95347500e-01,\n",
              "         7.87454695e-02, -4.64264989e-01, -8.42995405e-01, -3.35584432e-01,\n",
              "        -4.01537806e-01, -1.07615896e-01, -1.13716328e+00, -1.33619025e-01,\n",
              "        -9.23972845e-01, -8.16337883e-01, -5.97061813e-01, -2.43397519e-01,\n",
              "        -8.53799522e-01, -1.33264303e+00,  6.87585399e-02, -3.95778596e-01,\n",
              "        -3.64106089e-01, -5.78514814e-01, -9.79946375e-01, -7.70657301e-01,\n",
              "        -9.21598017e-01, -7.46901333e-01,  8.22804403e-03, -4.59048331e-01,\n",
              "        -3.81850272e-01, -8.21832836e-01, -8.37929845e-01, -5.36166131e-01,\n",
              "        -2.63462573e-01,  2.37527922e-01, -8.71796310e-01, -3.70679140e-01,\n",
              "        -4.83544201e-01, -4.78760414e-02, -8.31655324e-01, -1.43067348e+00,\n",
              "        -3.73564839e-01,  1.66584149e-01, -5.94346702e-01, -7.69130290e-01,\n",
              "        -8.75861704e-01, -1.22385681e+00, -1.30520714e-02, -7.37678647e-01,\n",
              "        -7.20858946e-02, -8.22028100e-01, -6.69901729e-01, -6.62650689e-02,\n",
              "        -1.17179203e+00, -3.15461367e-01, -4.53236848e-01, -1.13187516e+00,\n",
              "        -8.50546062e-01, -1.41007388e+00, -6.73219979e-01,  3.56695235e-01,\n",
              "        -2.42381513e-01, -1.21213126e+00, -1.82569161e-01, -6.83421254e-01,\n",
              "        -1.06702960e+00, -8.21172774e-01, -1.83118033e+00, -9.69750822e-01,\n",
              "        -1.91013947e-01, -1.39219928e+00, -1.24863923e+00, -5.21255076e-01,\n",
              "        -9.62942660e-01, -8.68042231e-01, -8.80556285e-01, -9.92241263e-01,\n",
              "        -3.09190780e-01, -9.27135170e-01, -5.10124922e-01, -5.72540224e-01,\n",
              "        -9.51252580e-01, -7.04864979e-01, -1.13401198e+00, -7.80769825e-01,\n",
              "        -4.08159852e-01, -7.25179166e-02, -6.36537075e-01, -2.36443326e-01,\n",
              "        -8.60238791e-01, -4.71730679e-01, -2.74218619e-01, -1.08119428e+00,\n",
              "        -5.07347643e-01,  1.14653394e-01, -1.04622030e+00, -1.26248431e+00,\n",
              "        -8.68595064e-01, -2.74030417e-01, -5.31276882e-01, -5.59735894e-01,\n",
              "        -7.62392223e-01, -1.81354761e-01, -4.79900926e-01, -1.01106501e+00,\n",
              "        -7.39279091e-01, -7.70269513e-01, -1.15632796e+00, -8.53103936e-01,\n",
              "        -1.01675022e+00, -7.26225376e-01, -3.22599441e-01, -9.17895615e-01,\n",
              "        -8.76874626e-01, -5.39736748e-01, -1.02653265e+00, -9.48519111e-02,\n",
              "         3.49878073e-02, -2.79406160e-01, -5.28815866e-01, -2.35482246e-01,\n",
              "        -6.08958006e-01, -5.35087645e-01, -2.76143581e-01, -9.00417387e-01,\n",
              "        -1.46229672e+00, -1.10502017e+00, -8.93530130e-01, -5.41613519e-01,\n",
              "        -7.05889285e-01, -1.37579769e-01, -7.07762063e-01, -1.51976514e+00,\n",
              "        -8.45964551e-01, -1.72493446e+00, -9.09625351e-01, -8.29841018e-01,\n",
              "        -2.23340243e-01, -8.77360761e-01, -2.19709828e-01, -6.69477820e-01,\n",
              "        -1.39238846e+00,  1.67009830e-01, -7.92661726e-01, -7.45624661e-01,\n",
              "        -5.29123783e-01, -5.37553847e-01, -5.84329784e-01,  3.72304060e-02,\n",
              "        -6.96147799e-01, -8.13128471e-01, -9.29515958e-01, -1.31509018e+00,\n",
              "        -7.69696116e-01, -1.16886556e+00, -1.05423570e+00, -4.90970939e-01,\n",
              "        -4.62978244e-01, -6.96966410e-01, -4.72118646e-01, -6.25267744e-01,\n",
              "        -5.50646901e-01, -4.70498890e-01, -6.13482654e-01, -4.32966828e-01,\n",
              "        -1.22508931e+00, -6.57085419e-01, -5.66086233e-01, -7.85320938e-01,\n",
              "        -7.62648404e-01, -8.94665480e-01, -1.17999800e-01, -9.58767235e-01,\n",
              "         5.13957925e-02, -9.54611123e-01, -1.02843738e+00, -5.05268574e-01,\n",
              "         3.52483064e-01, -1.82790816e-01, -9.97808516e-01, -1.49311662e-01,\n",
              "        -6.01854861e-01, -6.16555393e-01, -5.33083260e-01, -7.04925776e-01,\n",
              "        -8.34363699e-01, -1.38072288e+00, -6.35704473e-02, -5.58937907e-01,\n",
              "         1.39422370e-02, -7.32383907e-01, -7.06868052e-01, -7.85485506e-01,\n",
              "        -7.80952632e-01, -1.24580890e-01, -3.98513347e-01, -1.83531195e-01,\n",
              "         6.76468089e-02, -1.61979832e-02, -2.05699831e-01, -4.97364759e-01,\n",
              "        -2.34277382e-01, -5.12573123e-01, -7.09344387e-01, -6.95212543e-01,\n",
              "        -8.75144541e-01, -1.09855080e+00, -4.25891101e-01, -8.91719639e-01,\n",
              "        -5.97302914e-01, -5.01270354e-01, -2.36348435e-01, -1.81526348e-01,\n",
              "        -3.43816668e-01, -9.17025208e-01, -6.81681838e-03, -1.11501527e+00,\n",
              "        -1.60902455e-01, -4.86144394e-01, -8.40451717e-01, -4.64944929e-01,\n",
              "        -4.85336371e-02, -7.15761542e-01, -3.79554838e-01, -1.35200739e+00,\n",
              "        -7.54832149e-01, -8.84371579e-01, -5.66412568e-01, -1.02557540e+00,\n",
              "        -4.39451367e-01, -1.34773898e+00, -1.02503848e+00, -3.06224190e-02,\n",
              "        -1.53560564e-01,  1.50352836e-01,  1.62738413e-01, -1.56545773e-01],\n",
              "       dtype=float32)>,\n",
              " <tf.Variable 'dense_layer_3_4/kernel:0' shape=(512, 10) dtype=float32, numpy=\n",
              " array([[-0.13985112,  0.00122922, -0.07616872, ..., -0.23376004,\n",
              "         -0.37671244, -0.29816502],\n",
              "        [-0.42951357,  0.01537316,  0.08571235, ..., -0.30867392,\n",
              "         -0.24497183, -0.16225688],\n",
              "        [-0.18906866, -0.32791376, -0.37464648, ..., -0.37872595,\n",
              "          0.02715754, -0.01804762],\n",
              "        ...,\n",
              "        [-0.09279831, -0.2874732 , -0.05666128, ...,  0.04255608,\n",
              "         -0.07206198,  0.02343285],\n",
              "        [-0.04278925,  0.11563686, -0.06336118, ..., -0.58264583,\n",
              "         -0.04261717, -0.33295602],\n",
              "        [ 0.00335853, -0.24290101,  0.19995666, ..., -0.25518647,\n",
              "          0.0923695 , -0.25105885]], dtype=float32)>,\n",
              " <tf.Variable 'dense_layer_3_4/bias:0' shape=(10,) dtype=float32, numpy=\n",
              " array([-0.43120274, -0.29987964, -0.75113565, -0.2130044 , -0.47229403,\n",
              "        -0.41827515, -0.6724727 , -0.2916847 ,  1.8096834 ,  0.76228595],\n",
              "       dtype=float32)>]"
            ]
          },
          "metadata": {
            "tags": []
          },
          "execution_count": 52
        }
      ]
    },
    {
      "cell_type": "code",
      "metadata": {
        "id": "0cV3gfkLkp-M",
        "colab": {
          "base_uri": "https://localhost:8080/",
          "height": 1000
        },
        "outputId": "647365d3-7365-46a2-9031-346b20397c33"
      },
      "source": [
        "model_5.get_config()"
      ],
      "execution_count": null,
      "outputs": [
        {
          "output_type": "execute_result",
          "data": {
            "text/plain": [
              "{'build_input_shape': TensorShape([None, 784]),\n",
              " 'layers': [{'class_name': 'Dense',\n",
              "   'config': {'activation': 'relu',\n",
              "    'activity_regularizer': None,\n",
              "    'batch_input_shape': (None, 784),\n",
              "    'bias_constraint': None,\n",
              "    'bias_initializer': {'class_name': 'Zeros', 'config': {}},\n",
              "    'bias_regularizer': None,\n",
              "    'dtype': 'float32',\n",
              "    'kernel_constraint': None,\n",
              "    'kernel_initializer': {'class_name': 'GlorotUniform',\n",
              "     'config': {'seed': None}},\n",
              "    'kernel_regularizer': None,\n",
              "    'name': 'dense_layer',\n",
              "    'trainable': True,\n",
              "    'units': 512,\n",
              "    'use_bias': True}},\n",
              "  {'class_name': 'Dropout',\n",
              "   'config': {'dtype': 'float32',\n",
              "    'name': 'dropout_6',\n",
              "    'noise_shape': None,\n",
              "    'rate': 0.3,\n",
              "    'seed': None,\n",
              "    'trainable': True}},\n",
              "  {'class_name': 'Dense',\n",
              "   'config': {'activation': 'relu',\n",
              "    'activity_regularizer': None,\n",
              "    'bias_constraint': None,\n",
              "    'bias_initializer': {'class_name': 'Zeros', 'config': {}},\n",
              "    'bias_regularizer': None,\n",
              "    'dtype': 'float32',\n",
              "    'kernel_constraint': None,\n",
              "    'kernel_initializer': {'class_name': 'GlorotUniform',\n",
              "     'config': {'seed': None}},\n",
              "    'kernel_regularizer': None,\n",
              "    'name': 'dense_layer_2',\n",
              "    'trainable': True,\n",
              "    'units': 512,\n",
              "    'use_bias': True}},\n",
              "  {'class_name': 'Dropout',\n",
              "   'config': {'dtype': 'float32',\n",
              "    'name': 'dropout_7',\n",
              "    'noise_shape': None,\n",
              "    'rate': 0.3,\n",
              "    'seed': None,\n",
              "    'trainable': True}},\n",
              "  {'class_name': 'Dense',\n",
              "   'config': {'activation': 'softmax',\n",
              "    'activity_regularizer': None,\n",
              "    'bias_constraint': None,\n",
              "    'bias_initializer': {'class_name': 'Zeros', 'config': {}},\n",
              "    'bias_regularizer': None,\n",
              "    'dtype': 'float32',\n",
              "    'kernel_constraint': None,\n",
              "    'kernel_initializer': {'class_name': 'GlorotUniform',\n",
              "     'config': {'seed': None}},\n",
              "    'kernel_regularizer': None,\n",
              "    'name': 'dense_layer_3',\n",
              "    'trainable': True,\n",
              "    'units': 10,\n",
              "    'use_bias': True}}],\n",
              " 'name': 'sequential_5'}"
            ]
          },
          "metadata": {
            "tags": []
          },
          "execution_count": 53
        }
      ]
    },
    {
      "cell_type": "markdown",
      "metadata": {
        "id": "jX8DXi1jiFYS"
      },
      "source": [
        "###Improved Model 6: Adding Another Hidden Layer to the Model"
      ]
    },
    {
      "cell_type": "code",
      "metadata": {
        "id": "5Ad_vKSRiNq0"
      },
      "source": [
        "import tensorflow as tf\n",
        "\n",
        "#In Keras, layers are assembled to build models \n",
        "from tensorflow.keras.layers import Dense\n",
        "from tensorflow.keras.layers import Dropout\n",
        "\n",
        "#Most common type of model is a stack of layers\n",
        "model_6 = tf.keras.Sequential()\n",
        "N_hidden = 512\n",
        "\n",
        "# Adds a densely-connected layer with 64 units to the model:\n",
        "model_6.add(Dense(N_hidden, name='dense_layer', input_shape=(784,), activation = 'relu'))\n",
        "# Now the model will take as input arrays of shape (*, 784)# and output arrays of shape (*, 64)\n",
        "model_6.add(Dropout(0.3))\n",
        "\n",
        "# Adding another dense layer:\n",
        "model_6.add(Dense(N_hidden, name='dense_layer_2', activation='relu'))\n",
        "model_6.add(Dropout(0.3))\n",
        "\n",
        "# Adding another dense layer:\n",
        "model_6.add(Dense(N_hidden, name='dense_layer_3', activation='relu'))\n",
        "model_6.add(Dropout(0.3))\n",
        "\n",
        "# Add an output layer with 10 output units (10 different classes):\n",
        "model_6.add(Dense(10, name='dense_layer_4', activation = 'softmax'))\n"
      ],
      "execution_count": null,
      "outputs": []
    },
    {
      "cell_type": "code",
      "metadata": {
        "id": "OgTz-7_Ai03r"
      },
      "source": [
        "# Compiling the model.\n",
        "model_6.compile(optimizer='Adam', \n",
        "              loss='categorical_crossentropy',\n",
        "              metrics=['accuracy'])"
      ],
      "execution_count": null,
      "outputs": []
    },
    {
      "cell_type": "code",
      "metadata": {
        "id": "8wlsmatji03-",
        "colab": {
          "base_uri": "https://localhost:8080/",
          "height": 1000
        },
        "outputId": "ade9f5a4-6de1-4410-9060-001af4422d9d"
      },
      "source": [
        "# Training the model. \n",
        "training = model_6.fit(X_train, Y_train, batch_size=64, epochs=30, validation_split=0.2) "
      ],
      "execution_count": null,
      "outputs": [
        {
          "output_type": "stream",
          "text": [
            "Epoch 1/200\n",
            "750/750 [==============================] - 11s 15ms/step - loss: 0.2993 - accuracy: 0.9073 - val_loss: 0.1269 - val_accuracy: 0.9621\n",
            "Epoch 2/200\n",
            "750/750 [==============================] - 11s 15ms/step - loss: 0.1409 - accuracy: 0.9575 - val_loss: 0.1024 - val_accuracy: 0.9690\n",
            "Epoch 3/200\n",
            "750/750 [==============================] - 11s 15ms/step - loss: 0.1100 - accuracy: 0.9669 - val_loss: 0.0996 - val_accuracy: 0.9705\n",
            "Epoch 4/200\n",
            "750/750 [==============================] - 11s 15ms/step - loss: 0.0940 - accuracy: 0.9718 - val_loss: 0.0896 - val_accuracy: 0.9753\n",
            "Epoch 5/200\n",
            "750/750 [==============================] - 11s 15ms/step - loss: 0.0816 - accuracy: 0.9754 - val_loss: 0.0962 - val_accuracy: 0.9727\n",
            "Epoch 6/200\n",
            "750/750 [==============================] - 11s 15ms/step - loss: 0.0705 - accuracy: 0.9789 - val_loss: 0.0877 - val_accuracy: 0.9761\n",
            "Epoch 7/200\n",
            "750/750 [==============================] - 11s 15ms/step - loss: 0.0681 - accuracy: 0.9795 - val_loss: 0.0927 - val_accuracy: 0.9753\n",
            "Epoch 8/200\n",
            "750/750 [==============================] - 11s 15ms/step - loss: 0.0607 - accuracy: 0.9815 - val_loss: 0.0799 - val_accuracy: 0.9789\n",
            "Epoch 9/200\n",
            "750/750 [==============================] - 11s 15ms/step - loss: 0.0576 - accuracy: 0.9826 - val_loss: 0.0873 - val_accuracy: 0.9786\n",
            "Epoch 10/200\n",
            "750/750 [==============================] - 11s 15ms/step - loss: 0.0563 - accuracy: 0.9834 - val_loss: 0.0838 - val_accuracy: 0.9787\n",
            "Epoch 11/200\n",
            "750/750 [==============================] - 11s 15ms/step - loss: 0.0500 - accuracy: 0.9850 - val_loss: 0.0889 - val_accuracy: 0.9781\n",
            "Epoch 12/200\n",
            "750/750 [==============================] - 11s 14ms/step - loss: 0.0476 - accuracy: 0.9856 - val_loss: 0.0892 - val_accuracy: 0.9772\n",
            "Epoch 13/200\n",
            "750/750 [==============================] - 11s 14ms/step - loss: 0.0451 - accuracy: 0.9862 - val_loss: 0.0933 - val_accuracy: 0.9791\n",
            "Epoch 14/200\n",
            "750/750 [==============================] - 11s 14ms/step - loss: 0.0441 - accuracy: 0.9865 - val_loss: 0.0881 - val_accuracy: 0.9796\n",
            "Epoch 15/200\n",
            "750/750 [==============================] - 11s 15ms/step - loss: 0.0455 - accuracy: 0.9869 - val_loss: 0.0819 - val_accuracy: 0.9798\n",
            "Epoch 16/200\n",
            "750/750 [==============================] - 11s 15ms/step - loss: 0.0407 - accuracy: 0.9880 - val_loss: 0.0848 - val_accuracy: 0.9800\n",
            "Epoch 17/200\n",
            "750/750 [==============================] - 11s 15ms/step - loss: 0.0382 - accuracy: 0.9883 - val_loss: 0.0919 - val_accuracy: 0.9787\n",
            "Epoch 18/200\n",
            "750/750 [==============================] - 11s 15ms/step - loss: 0.0381 - accuracy: 0.9892 - val_loss: 0.0891 - val_accuracy: 0.9804\n",
            "Epoch 19/200\n",
            "750/750 [==============================] - 11s 15ms/step - loss: 0.0366 - accuracy: 0.9891 - val_loss: 0.0943 - val_accuracy: 0.9788\n",
            "Epoch 20/200\n",
            "750/750 [==============================] - 11s 15ms/step - loss: 0.0344 - accuracy: 0.9897 - val_loss: 0.0931 - val_accuracy: 0.9810\n",
            "Epoch 21/200\n",
            "750/750 [==============================] - 11s 15ms/step - loss: 0.0358 - accuracy: 0.9894 - val_loss: 0.0975 - val_accuracy: 0.9793\n",
            "Epoch 22/200\n",
            "750/750 [==============================] - 11s 15ms/step - loss: 0.0348 - accuracy: 0.9904 - val_loss: 0.0878 - val_accuracy: 0.9808\n",
            "Epoch 23/200\n",
            "750/750 [==============================] - 11s 15ms/step - loss: 0.0311 - accuracy: 0.9910 - val_loss: 0.0946 - val_accuracy: 0.9808\n",
            "Epoch 24/200\n",
            "750/750 [==============================] - 11s 15ms/step - loss: 0.0347 - accuracy: 0.9903 - val_loss: 0.1015 - val_accuracy: 0.9778\n",
            "Epoch 25/200\n",
            "750/750 [==============================] - 11s 15ms/step - loss: 0.0323 - accuracy: 0.9907 - val_loss: 0.1009 - val_accuracy: 0.9806\n",
            "Epoch 26/200\n",
            "750/750 [==============================] - 11s 15ms/step - loss: 0.0306 - accuracy: 0.9911 - val_loss: 0.1018 - val_accuracy: 0.9802\n",
            "Epoch 27/200\n",
            "750/750 [==============================] - 11s 15ms/step - loss: 0.0317 - accuracy: 0.9911 - val_loss: 0.0989 - val_accuracy: 0.9803\n",
            "Epoch 28/200\n",
            "750/750 [==============================] - 11s 15ms/step - loss: 0.0265 - accuracy: 0.9922 - val_loss: 0.0954 - val_accuracy: 0.9816\n",
            "Epoch 29/200\n",
            "750/750 [==============================] - 11s 15ms/step - loss: 0.0297 - accuracy: 0.9917 - val_loss: 0.0984 - val_accuracy: 0.9820\n",
            "Epoch 30/200\n",
            "750/750 [==============================] - 11s 15ms/step - loss: 0.0298 - accuracy: 0.9918 - val_loss: 0.0957 - val_accuracy: 0.9823\n",
            "Epoch 31/200\n",
            "750/750 [==============================] - 11s 15ms/step - loss: 0.0267 - accuracy: 0.9925 - val_loss: 0.1084 - val_accuracy: 0.9804\n",
            "Epoch 32/200\n",
            "750/750 [==============================] - 11s 15ms/step - loss: 0.0308 - accuracy: 0.9916 - val_loss: 0.1093 - val_accuracy: 0.9796\n",
            "Epoch 33/200\n",
            "750/750 [==============================] - 11s 15ms/step - loss: 0.0296 - accuracy: 0.9915 - val_loss: 0.1082 - val_accuracy: 0.9802\n",
            "Epoch 34/200\n",
            "750/750 [==============================] - 11s 15ms/step - loss: 0.0267 - accuracy: 0.9921 - val_loss: 0.1192 - val_accuracy: 0.9811\n",
            "Epoch 35/200\n",
            "750/750 [==============================] - 11s 15ms/step - loss: 0.0283 - accuracy: 0.9926 - val_loss: 0.0972 - val_accuracy: 0.9816\n",
            "Epoch 36/200\n",
            "750/750 [==============================] - 11s 15ms/step - loss: 0.0274 - accuracy: 0.9925 - val_loss: 0.0982 - val_accuracy: 0.9825\n",
            "Epoch 37/200\n",
            "750/750 [==============================] - 11s 15ms/step - loss: 0.0259 - accuracy: 0.9935 - val_loss: 0.1067 - val_accuracy: 0.9803\n",
            "Epoch 38/200\n",
            "750/750 [==============================] - 11s 15ms/step - loss: 0.0308 - accuracy: 0.9921 - val_loss: 0.0979 - val_accuracy: 0.9821\n",
            "Epoch 39/200\n",
            "750/750 [==============================] - 11s 15ms/step - loss: 0.0239 - accuracy: 0.9937 - val_loss: 0.1044 - val_accuracy: 0.9818\n",
            "Epoch 40/200\n",
            "750/750 [==============================] - 11s 14ms/step - loss: 0.0236 - accuracy: 0.9937 - val_loss: 0.1181 - val_accuracy: 0.9823\n",
            "Epoch 41/200\n",
            "750/750 [==============================] - 11s 14ms/step - loss: 0.0286 - accuracy: 0.9929 - val_loss: 0.1158 - val_accuracy: 0.9817\n",
            "Epoch 42/200\n",
            "750/750 [==============================] - 11s 15ms/step - loss: 0.0250 - accuracy: 0.9934 - val_loss: 0.1250 - val_accuracy: 0.9805\n",
            "Epoch 43/200\n",
            "750/750 [==============================] - 11s 14ms/step - loss: 0.0281 - accuracy: 0.9929 - val_loss: 0.1105 - val_accuracy: 0.9821\n",
            "Epoch 44/200\n",
            "750/750 [==============================] - 11s 14ms/step - loss: 0.0257 - accuracy: 0.9933 - val_loss: 0.1155 - val_accuracy: 0.9821\n",
            "Epoch 45/200\n",
            "750/750 [==============================] - 14s 19ms/step - loss: 0.0261 - accuracy: 0.9933 - val_loss: 0.1127 - val_accuracy: 0.9814\n",
            "Epoch 46/200\n",
            "750/750 [==============================] - 11s 14ms/step - loss: 0.0259 - accuracy: 0.9928 - val_loss: 0.1309 - val_accuracy: 0.9810\n",
            "Epoch 47/200\n",
            "750/750 [==============================] - 11s 15ms/step - loss: 0.0258 - accuracy: 0.9932 - val_loss: 0.1225 - val_accuracy: 0.9819\n",
            "Epoch 48/200\n",
            "750/750 [==============================] - 11s 15ms/step - loss: 0.0254 - accuracy: 0.9933 - val_loss: 0.1130 - val_accuracy: 0.9826\n",
            "Epoch 49/200\n",
            "750/750 [==============================] - 11s 14ms/step - loss: 0.0260 - accuracy: 0.9934 - val_loss: 0.1197 - val_accuracy: 0.9818\n",
            "Epoch 50/200\n",
            "750/750 [==============================] - 11s 14ms/step - loss: 0.0239 - accuracy: 0.9936 - val_loss: 0.1325 - val_accuracy: 0.9831\n",
            "Epoch 51/200\n",
            "750/750 [==============================] - 11s 14ms/step - loss: 0.0277 - accuracy: 0.9936 - val_loss: 0.1150 - val_accuracy: 0.9808\n",
            "Epoch 52/200\n",
            "750/750 [==============================] - 11s 15ms/step - loss: 0.0274 - accuracy: 0.9934 - val_loss: 0.1316 - val_accuracy: 0.9814\n",
            "Epoch 53/200\n",
            "750/750 [==============================] - 11s 15ms/step - loss: 0.0220 - accuracy: 0.9943 - val_loss: 0.1428 - val_accuracy: 0.9803\n",
            "Epoch 54/200\n",
            "750/750 [==============================] - 11s 15ms/step - loss: 0.0264 - accuracy: 0.9941 - val_loss: 0.1414 - val_accuracy: 0.9815\n",
            "Epoch 55/200\n",
            "750/750 [==============================] - 11s 15ms/step - loss: 0.0255 - accuracy: 0.9932 - val_loss: 0.1301 - val_accuracy: 0.9810\n",
            "Epoch 56/200\n",
            "750/750 [==============================] - 11s 15ms/step - loss: 0.0240 - accuracy: 0.9948 - val_loss: 0.1126 - val_accuracy: 0.9831\n",
            "Epoch 57/200\n",
            "750/750 [==============================] - 11s 15ms/step - loss: 0.0248 - accuracy: 0.9944 - val_loss: 0.1285 - val_accuracy: 0.9808\n",
            "Epoch 58/200\n",
            "750/750 [==============================] - 11s 15ms/step - loss: 0.0265 - accuracy: 0.9939 - val_loss: 0.1256 - val_accuracy: 0.9826\n",
            "Epoch 59/200\n",
            "750/750 [==============================] - 11s 15ms/step - loss: 0.0242 - accuracy: 0.9942 - val_loss: 0.1295 - val_accuracy: 0.9828\n",
            "Epoch 60/200\n",
            "750/750 [==============================] - 11s 15ms/step - loss: 0.0218 - accuracy: 0.9949 - val_loss: 0.1257 - val_accuracy: 0.9833\n",
            "Epoch 61/200\n",
            "750/750 [==============================] - 11s 15ms/step - loss: 0.0227 - accuracy: 0.9946 - val_loss: 0.1273 - val_accuracy: 0.9828\n",
            "Epoch 62/200\n",
            "750/750 [==============================] - 11s 15ms/step - loss: 0.0237 - accuracy: 0.9945 - val_loss: 0.1392 - val_accuracy: 0.9825\n",
            "Epoch 63/200\n",
            "750/750 [==============================] - 11s 15ms/step - loss: 0.0236 - accuracy: 0.9950 - val_loss: 0.1251 - val_accuracy: 0.9829\n",
            "Epoch 64/200\n",
            "750/750 [==============================] - 11s 14ms/step - loss: 0.0211 - accuracy: 0.9950 - val_loss: 0.1264 - val_accuracy: 0.9834\n",
            "Epoch 65/200\n",
            "750/750 [==============================] - 11s 15ms/step - loss: 0.0266 - accuracy: 0.9944 - val_loss: 0.1207 - val_accuracy: 0.9822\n",
            "Epoch 66/200\n",
            "750/750 [==============================] - 12s 16ms/step - loss: 0.0231 - accuracy: 0.9944 - val_loss: 0.1299 - val_accuracy: 0.9819\n",
            "Epoch 67/200\n",
            "750/750 [==============================] - 11s 15ms/step - loss: 0.0227 - accuracy: 0.9947 - val_loss: 0.1171 - val_accuracy: 0.9824\n",
            "Epoch 68/200\n",
            "750/750 [==============================] - 11s 15ms/step - loss: 0.0244 - accuracy: 0.9948 - val_loss: 0.1154 - val_accuracy: 0.9814\n",
            "Epoch 69/200\n",
            "750/750 [==============================] - 11s 15ms/step - loss: 0.0242 - accuracy: 0.9945 - val_loss: 0.1572 - val_accuracy: 0.9812\n",
            "Epoch 70/200\n",
            "750/750 [==============================] - 11s 15ms/step - loss: 0.0279 - accuracy: 0.9938 - val_loss: 0.1384 - val_accuracy: 0.9818\n",
            "Epoch 71/200\n",
            "750/750 [==============================] - 11s 15ms/step - loss: 0.0217 - accuracy: 0.9949 - val_loss: 0.1296 - val_accuracy: 0.9829\n",
            "Epoch 72/200\n",
            "750/750 [==============================] - 11s 15ms/step - loss: 0.0229 - accuracy: 0.9948 - val_loss: 0.1442 - val_accuracy: 0.9821\n",
            "Epoch 73/200\n",
            "750/750 [==============================] - 11s 15ms/step - loss: 0.0239 - accuracy: 0.9950 - val_loss: 0.1466 - val_accuracy: 0.9812\n",
            "Epoch 74/200\n",
            "750/750 [==============================] - 11s 15ms/step - loss: 0.0195 - accuracy: 0.9956 - val_loss: 0.1499 - val_accuracy: 0.9838\n",
            "Epoch 75/200\n",
            "750/750 [==============================] - 11s 15ms/step - loss: 0.0248 - accuracy: 0.9948 - val_loss: 0.1474 - val_accuracy: 0.9818\n",
            "Epoch 76/200\n",
            "750/750 [==============================] - 11s 15ms/step - loss: 0.0161 - accuracy: 0.9961 - val_loss: 0.1635 - val_accuracy: 0.9816\n",
            "Epoch 77/200\n",
            "750/750 [==============================] - 11s 15ms/step - loss: 0.0304 - accuracy: 0.9936 - val_loss: 0.1417 - val_accuracy: 0.9839\n",
            "Epoch 78/200\n",
            "750/750 [==============================] - 11s 14ms/step - loss: 0.0213 - accuracy: 0.9954 - val_loss: 0.1595 - val_accuracy: 0.9828\n",
            "Epoch 79/200\n",
            "750/750 [==============================] - 11s 15ms/step - loss: 0.0229 - accuracy: 0.9955 - val_loss: 0.1457 - val_accuracy: 0.9836\n",
            "Epoch 80/200\n",
            "750/750 [==============================] - 11s 15ms/step - loss: 0.0207 - accuracy: 0.9955 - val_loss: 0.1617 - val_accuracy: 0.9821\n",
            "Epoch 81/200\n",
            "750/750 [==============================] - 11s 15ms/step - loss: 0.0205 - accuracy: 0.9954 - val_loss: 0.1669 - val_accuracy: 0.9834\n",
            "Epoch 82/200\n",
            "750/750 [==============================] - 11s 15ms/step - loss: 0.0285 - accuracy: 0.9942 - val_loss: 0.1436 - val_accuracy: 0.9831\n",
            "Epoch 83/200\n",
            "750/750 [==============================] - 11s 15ms/step - loss: 0.0220 - accuracy: 0.9952 - val_loss: 0.1555 - val_accuracy: 0.9833\n",
            "Epoch 84/200\n",
            "750/750 [==============================] - 11s 15ms/step - loss: 0.0226 - accuracy: 0.9954 - val_loss: 0.1504 - val_accuracy: 0.9828\n",
            "Epoch 85/200\n",
            "750/750 [==============================] - 12s 16ms/step - loss: 0.0228 - accuracy: 0.9950 - val_loss: 0.1443 - val_accuracy: 0.9827\n",
            "Epoch 86/200\n",
            "750/750 [==============================] - 12s 16ms/step - loss: 0.0225 - accuracy: 0.9952 - val_loss: 0.1506 - val_accuracy: 0.9820\n",
            "Epoch 87/200\n",
            "750/750 [==============================] - 12s 16ms/step - loss: 0.0261 - accuracy: 0.9955 - val_loss: 0.1711 - val_accuracy: 0.9828\n",
            "Epoch 88/200\n",
            "750/750 [==============================] - 12s 15ms/step - loss: 0.0222 - accuracy: 0.9949 - val_loss: 0.1856 - val_accuracy: 0.9819\n",
            "Epoch 89/200\n",
            "750/750 [==============================] - 11s 15ms/step - loss: 0.0269 - accuracy: 0.9950 - val_loss: 0.1532 - val_accuracy: 0.9829\n",
            "Epoch 90/200\n",
            "750/750 [==============================] - 12s 16ms/step - loss: 0.0200 - accuracy: 0.9958 - val_loss: 0.1445 - val_accuracy: 0.9822\n",
            "Epoch 91/200\n",
            "750/750 [==============================] - 12s 16ms/step - loss: 0.0245 - accuracy: 0.9953 - val_loss: 0.1533 - val_accuracy: 0.9827\n",
            "Epoch 92/200\n",
            "750/750 [==============================] - 11s 15ms/step - loss: 0.0201 - accuracy: 0.9958 - val_loss: 0.1556 - val_accuracy: 0.9833\n",
            "Epoch 93/200\n",
            "750/750 [==============================] - 11s 15ms/step - loss: 0.0237 - accuracy: 0.9950 - val_loss: 0.1630 - val_accuracy: 0.9835\n",
            "Epoch 94/200\n",
            "750/750 [==============================] - 11s 15ms/step - loss: 0.0267 - accuracy: 0.9951 - val_loss: 0.1648 - val_accuracy: 0.9831\n",
            "Epoch 95/200\n",
            "750/750 [==============================] - 11s 15ms/step - loss: 0.0200 - accuracy: 0.9960 - val_loss: 0.1494 - val_accuracy: 0.9837\n",
            "Epoch 96/200\n",
            "750/750 [==============================] - 11s 15ms/step - loss: 0.0167 - accuracy: 0.9959 - val_loss: 0.1505 - val_accuracy: 0.9838\n",
            "Epoch 97/200\n",
            "750/750 [==============================] - 12s 15ms/step - loss: 0.0267 - accuracy: 0.9948 - val_loss: 0.1660 - val_accuracy: 0.9818\n",
            "Epoch 98/200\n",
            "750/750 [==============================] - 12s 15ms/step - loss: 0.0201 - accuracy: 0.9956 - val_loss: 0.1770 - val_accuracy: 0.9825\n",
            "Epoch 99/200\n",
            "750/750 [==============================] - 15s 20ms/step - loss: 0.0250 - accuracy: 0.9954 - val_loss: 0.1607 - val_accuracy: 0.9816\n",
            "Epoch 100/200\n",
            "750/750 [==============================] - 11s 15ms/step - loss: 0.0201 - accuracy: 0.9955 - val_loss: 0.1574 - val_accuracy: 0.9828\n",
            "Epoch 101/200\n",
            "750/750 [==============================] - 12s 15ms/step - loss: 0.0252 - accuracy: 0.9951 - val_loss: 0.1669 - val_accuracy: 0.9825\n",
            "Epoch 102/200\n",
            "750/750 [==============================] - 11s 15ms/step - loss: 0.0250 - accuracy: 0.9954 - val_loss: 0.1839 - val_accuracy: 0.9811\n",
            "Epoch 103/200\n",
            "750/750 [==============================] - 11s 15ms/step - loss: 0.0245 - accuracy: 0.9952 - val_loss: 0.1623 - val_accuracy: 0.9830\n",
            "Epoch 104/200\n",
            "750/750 [==============================] - 11s 15ms/step - loss: 0.0178 - accuracy: 0.9963 - val_loss: 0.1621 - val_accuracy: 0.9833\n",
            "Epoch 105/200\n",
            "750/750 [==============================] - 11s 15ms/step - loss: 0.0217 - accuracy: 0.9957 - val_loss: 0.1583 - val_accuracy: 0.9834\n",
            "Epoch 106/200\n",
            "750/750 [==============================] - 12s 15ms/step - loss: 0.0243 - accuracy: 0.9955 - val_loss: 0.1614 - val_accuracy: 0.9813\n",
            "Epoch 107/200\n",
            "750/750 [==============================] - 11s 15ms/step - loss: 0.0228 - accuracy: 0.9953 - val_loss: 0.1620 - val_accuracy: 0.9831\n",
            "Epoch 108/200\n",
            "750/750 [==============================] - 11s 15ms/step - loss: 0.0233 - accuracy: 0.9956 - val_loss: 0.1940 - val_accuracy: 0.9833\n",
            "Epoch 109/200\n",
            "750/750 [==============================] - 11s 15ms/step - loss: 0.0236 - accuracy: 0.9959 - val_loss: 0.1850 - val_accuracy: 0.9836\n",
            "Epoch 110/200\n",
            "750/750 [==============================] - 11s 15ms/step - loss: 0.0235 - accuracy: 0.9957 - val_loss: 0.1679 - val_accuracy: 0.9816\n",
            "Epoch 111/200\n",
            "750/750 [==============================] - 11s 15ms/step - loss: 0.0204 - accuracy: 0.9962 - val_loss: 0.1742 - val_accuracy: 0.9819\n",
            "Epoch 112/200\n",
            "750/750 [==============================] - 11s 15ms/step - loss: 0.0277 - accuracy: 0.9952 - val_loss: 0.1669 - val_accuracy: 0.9827\n",
            "Epoch 113/200\n",
            "750/750 [==============================] - 11s 15ms/step - loss: 0.0214 - accuracy: 0.9961 - val_loss: 0.1913 - val_accuracy: 0.9839\n",
            "Epoch 114/200\n",
            "750/750 [==============================] - 11s 15ms/step - loss: 0.0232 - accuracy: 0.9957 - val_loss: 0.1805 - val_accuracy: 0.9818\n",
            "Epoch 115/200\n",
            "750/750 [==============================] - 11s 15ms/step - loss: 0.0242 - accuracy: 0.9954 - val_loss: 0.1873 - val_accuracy: 0.9830\n",
            "Epoch 116/200\n",
            "750/750 [==============================] - 11s 15ms/step - loss: 0.0227 - accuracy: 0.9955 - val_loss: 0.1912 - val_accuracy: 0.9827\n",
            "Epoch 117/200\n",
            "750/750 [==============================] - 11s 15ms/step - loss: 0.0209 - accuracy: 0.9954 - val_loss: 0.2191 - val_accuracy: 0.9820\n",
            "Epoch 118/200\n",
            "750/750 [==============================] - 11s 15ms/step - loss: 0.0235 - accuracy: 0.9955 - val_loss: 0.1996 - val_accuracy: 0.9811\n",
            "Epoch 119/200\n",
            "750/750 [==============================] - 11s 15ms/step - loss: 0.0207 - accuracy: 0.9959 - val_loss: 0.2387 - val_accuracy: 0.9821\n",
            "Epoch 120/200\n",
            "750/750 [==============================] - 11s 15ms/step - loss: 0.0229 - accuracy: 0.9960 - val_loss: 0.2350 - val_accuracy: 0.9818\n",
            "Epoch 121/200\n",
            "750/750 [==============================] - 11s 15ms/step - loss: 0.0268 - accuracy: 0.9956 - val_loss: 0.2107 - val_accuracy: 0.9816\n",
            "Epoch 122/200\n",
            "750/750 [==============================] - 11s 15ms/step - loss: 0.0197 - accuracy: 0.9961 - val_loss: 0.1771 - val_accuracy: 0.9829\n",
            "Epoch 123/200\n",
            "750/750 [==============================] - 12s 15ms/step - loss: 0.0177 - accuracy: 0.9967 - val_loss: 0.1840 - val_accuracy: 0.9818\n",
            "Epoch 124/200\n",
            "750/750 [==============================] - 11s 15ms/step - loss: 0.0247 - accuracy: 0.9959 - val_loss: 0.2103 - val_accuracy: 0.9821\n",
            "Epoch 125/200\n",
            "750/750 [==============================] - 11s 15ms/step - loss: 0.0183 - accuracy: 0.9966 - val_loss: 0.2126 - val_accuracy: 0.9821\n",
            "Epoch 126/200\n",
            "750/750 [==============================] - 11s 15ms/step - loss: 0.0222 - accuracy: 0.9961 - val_loss: 0.2216 - val_accuracy: 0.9825\n",
            "Epoch 127/200\n",
            "750/750 [==============================] - 11s 15ms/step - loss: 0.0231 - accuracy: 0.9964 - val_loss: 0.2174 - val_accuracy: 0.9818\n",
            "Epoch 128/200\n",
            "750/750 [==============================] - 11s 15ms/step - loss: 0.0212 - accuracy: 0.9961 - val_loss: 0.1829 - val_accuracy: 0.9818\n",
            "Epoch 129/200\n",
            "750/750 [==============================] - 11s 15ms/step - loss: 0.0215 - accuracy: 0.9962 - val_loss: 0.2125 - val_accuracy: 0.9818\n",
            "Epoch 130/200\n",
            "750/750 [==============================] - 11s 15ms/step - loss: 0.0233 - accuracy: 0.9963 - val_loss: 0.2235 - val_accuracy: 0.9823\n",
            "Epoch 131/200\n",
            "750/750 [==============================] - 11s 15ms/step - loss: 0.0270 - accuracy: 0.9955 - val_loss: 0.2508 - val_accuracy: 0.9810\n",
            "Epoch 132/200\n",
            "750/750 [==============================] - 11s 15ms/step - loss: 0.0269 - accuracy: 0.9956 - val_loss: 0.2051 - val_accuracy: 0.9825\n",
            "Epoch 133/200\n",
            "750/750 [==============================] - 11s 15ms/step - loss: 0.0241 - accuracy: 0.9959 - val_loss: 0.1661 - val_accuracy: 0.9805\n",
            "Epoch 134/200\n",
            "750/750 [==============================] - 11s 15ms/step - loss: 0.0193 - accuracy: 0.9965 - val_loss: 0.1926 - val_accuracy: 0.9841\n",
            "Epoch 135/200\n",
            "750/750 [==============================] - 11s 15ms/step - loss: 0.0247 - accuracy: 0.9956 - val_loss: 0.2062 - val_accuracy: 0.9822\n",
            "Epoch 136/200\n",
            "750/750 [==============================] - 11s 15ms/step - loss: 0.0217 - accuracy: 0.9959 - val_loss: 0.1809 - val_accuracy: 0.9842\n",
            "Epoch 137/200\n",
            "750/750 [==============================] - 11s 15ms/step - loss: 0.0253 - accuracy: 0.9957 - val_loss: 0.1767 - val_accuracy: 0.9828\n",
            "Epoch 138/200\n",
            "750/750 [==============================] - 11s 15ms/step - loss: 0.0234 - accuracy: 0.9957 - val_loss: 0.1921 - val_accuracy: 0.9829\n",
            "Epoch 139/200\n",
            "750/750 [==============================] - 11s 15ms/step - loss: 0.0229 - accuracy: 0.9959 - val_loss: 0.2283 - val_accuracy: 0.9812\n",
            "Epoch 140/200\n",
            "750/750 [==============================] - 11s 15ms/step - loss: 0.0193 - accuracy: 0.9962 - val_loss: 0.2230 - val_accuracy: 0.9808\n",
            "Epoch 141/200\n",
            "750/750 [==============================] - 11s 15ms/step - loss: 0.0252 - accuracy: 0.9960 - val_loss: 0.2181 - val_accuracy: 0.9828\n",
            "Epoch 142/200\n",
            "750/750 [==============================] - 11s 15ms/step - loss: 0.0260 - accuracy: 0.9953 - val_loss: 0.1966 - val_accuracy: 0.9820\n",
            "Epoch 143/200\n",
            "750/750 [==============================] - 11s 15ms/step - loss: 0.0162 - accuracy: 0.9966 - val_loss: 0.2122 - val_accuracy: 0.9831\n",
            "Epoch 144/200\n",
            "750/750 [==============================] - 11s 15ms/step - loss: 0.0213 - accuracy: 0.9957 - val_loss: 0.2049 - val_accuracy: 0.9821\n",
            "Epoch 145/200\n",
            "750/750 [==============================] - 12s 16ms/step - loss: 0.0242 - accuracy: 0.9961 - val_loss: 0.2292 - val_accuracy: 0.9811\n",
            "Epoch 146/200\n",
            "750/750 [==============================] - 11s 15ms/step - loss: 0.0194 - accuracy: 0.9964 - val_loss: 0.2350 - val_accuracy: 0.9829\n",
            "Epoch 147/200\n",
            "750/750 [==============================] - 11s 15ms/step - loss: 0.0198 - accuracy: 0.9969 - val_loss: 0.2204 - val_accuracy: 0.9834\n",
            "Epoch 148/200\n",
            "750/750 [==============================] - 12s 15ms/step - loss: 0.0189 - accuracy: 0.9969 - val_loss: 0.2613 - val_accuracy: 0.9827\n",
            "Epoch 149/200\n",
            "750/750 [==============================] - 11s 15ms/step - loss: 0.0313 - accuracy: 0.9952 - val_loss: 0.2128 - val_accuracy: 0.9827\n",
            "Epoch 150/200\n",
            "750/750 [==============================] - 12s 15ms/step - loss: 0.0178 - accuracy: 0.9966 - val_loss: 0.2269 - val_accuracy: 0.9823\n",
            "Epoch 151/200\n",
            "750/750 [==============================] - 11s 15ms/step - loss: 0.0203 - accuracy: 0.9966 - val_loss: 0.2175 - val_accuracy: 0.9817\n",
            "Epoch 152/200\n",
            "750/750 [==============================] - 13s 18ms/step - loss: 0.0267 - accuracy: 0.9956 - val_loss: 0.2343 - val_accuracy: 0.9832\n",
            "Epoch 153/200\n",
            "750/750 [==============================] - 14s 19ms/step - loss: 0.0191 - accuracy: 0.9965 - val_loss: 0.2148 - val_accuracy: 0.9824\n",
            "Epoch 154/200\n",
            "750/750 [==============================] - 11s 15ms/step - loss: 0.0225 - accuracy: 0.9963 - val_loss: 0.2058 - val_accuracy: 0.9831\n",
            "Epoch 155/200\n",
            "750/750 [==============================] - 11s 15ms/step - loss: 0.0214 - accuracy: 0.9966 - val_loss: 0.1989 - val_accuracy: 0.9833\n",
            "Epoch 156/200\n",
            "750/750 [==============================] - 11s 15ms/step - loss: 0.0192 - accuracy: 0.9968 - val_loss: 0.2602 - val_accuracy: 0.9813\n",
            "Epoch 157/200\n",
            "750/750 [==============================] - 11s 15ms/step - loss: 0.0211 - accuracy: 0.9964 - val_loss: 0.2375 - val_accuracy: 0.9825\n",
            "Epoch 158/200\n",
            "750/750 [==============================] - 11s 15ms/step - loss: 0.0259 - accuracy: 0.9962 - val_loss: 0.2372 - val_accuracy: 0.9832\n",
            "Epoch 159/200\n",
            "750/750 [==============================] - 11s 15ms/step - loss: 0.0246 - accuracy: 0.9959 - val_loss: 0.1975 - val_accuracy: 0.9829\n",
            "Epoch 160/200\n",
            "750/750 [==============================] - 11s 15ms/step - loss: 0.0163 - accuracy: 0.9970 - val_loss: 0.2542 - val_accuracy: 0.9824\n",
            "Epoch 161/200\n",
            "750/750 [==============================] - 11s 15ms/step - loss: 0.0237 - accuracy: 0.9961 - val_loss: 0.2294 - val_accuracy: 0.9834\n",
            "Epoch 162/200\n",
            "750/750 [==============================] - 11s 15ms/step - loss: 0.0245 - accuracy: 0.9964 - val_loss: 0.2518 - val_accuracy: 0.9830\n",
            "Epoch 163/200\n",
            "750/750 [==============================] - 11s 15ms/step - loss: 0.0252 - accuracy: 0.9965 - val_loss: 0.2628 - val_accuracy: 0.9817\n",
            "Epoch 164/200\n",
            "750/750 [==============================] - 11s 15ms/step - loss: 0.0252 - accuracy: 0.9966 - val_loss: 0.2374 - val_accuracy: 0.9831\n",
            "Epoch 165/200\n",
            "750/750 [==============================] - 11s 15ms/step - loss: 0.0232 - accuracy: 0.9965 - val_loss: 0.2376 - val_accuracy: 0.9813\n",
            "Epoch 166/200\n",
            "750/750 [==============================] - 11s 15ms/step - loss: 0.0269 - accuracy: 0.9964 - val_loss: 0.2132 - val_accuracy: 0.9818\n",
            "Epoch 167/200\n",
            "750/750 [==============================] - 11s 15ms/step - loss: 0.0174 - accuracy: 0.9970 - val_loss: 0.2366 - val_accuracy: 0.9834\n",
            "Epoch 168/200\n",
            "750/750 [==============================] - 11s 15ms/step - loss: 0.0197 - accuracy: 0.9967 - val_loss: 0.2422 - val_accuracy: 0.9827\n",
            "Epoch 169/200\n",
            "750/750 [==============================] - 11s 15ms/step - loss: 0.0233 - accuracy: 0.9962 - val_loss: 0.2024 - val_accuracy: 0.9834\n",
            "Epoch 170/200\n",
            "750/750 [==============================] - 11s 15ms/step - loss: 0.0206 - accuracy: 0.9966 - val_loss: 0.2475 - val_accuracy: 0.9822\n",
            "Epoch 171/200\n",
            "750/750 [==============================] - 11s 15ms/step - loss: 0.0223 - accuracy: 0.9967 - val_loss: 0.2424 - val_accuracy: 0.9826\n",
            "Epoch 172/200\n",
            "750/750 [==============================] - 12s 15ms/step - loss: 0.0225 - accuracy: 0.9964 - val_loss: 0.2397 - val_accuracy: 0.9835\n",
            "Epoch 173/200\n",
            "750/750 [==============================] - 11s 15ms/step - loss: 0.0197 - accuracy: 0.9970 - val_loss: 0.2883 - val_accuracy: 0.9818\n",
            "Epoch 174/200\n",
            "750/750 [==============================] - 11s 15ms/step - loss: 0.0223 - accuracy: 0.9967 - val_loss: 0.2910 - val_accuracy: 0.9817\n",
            "Epoch 175/200\n",
            "750/750 [==============================] - 11s 15ms/step - loss: 0.0219 - accuracy: 0.9967 - val_loss: 0.2594 - val_accuracy: 0.9821\n",
            "Epoch 176/200\n",
            "750/750 [==============================] - 11s 15ms/step - loss: 0.0240 - accuracy: 0.9961 - val_loss: 0.2268 - val_accuracy: 0.9825\n",
            "Epoch 177/200\n",
            "750/750 [==============================] - 11s 15ms/step - loss: 0.0201 - accuracy: 0.9965 - val_loss: 0.2357 - val_accuracy: 0.9825\n",
            "Epoch 178/200\n",
            "750/750 [==============================] - 11s 15ms/step - loss: 0.0228 - accuracy: 0.9962 - val_loss: 0.2180 - val_accuracy: 0.9818\n",
            "Epoch 179/200\n",
            "750/750 [==============================] - 11s 14ms/step - loss: 0.0196 - accuracy: 0.9968 - val_loss: 0.2680 - val_accuracy: 0.9839\n",
            "Epoch 180/200\n",
            "750/750 [==============================] - 11s 15ms/step - loss: 0.0232 - accuracy: 0.9964 - val_loss: 0.2386 - val_accuracy: 0.9821\n",
            "Epoch 181/200\n",
            "750/750 [==============================] - 11s 15ms/step - loss: 0.0181 - accuracy: 0.9969 - val_loss: 0.2827 - val_accuracy: 0.9812\n",
            "Epoch 182/200\n",
            "750/750 [==============================] - 11s 15ms/step - loss: 0.0244 - accuracy: 0.9963 - val_loss: 0.2404 - val_accuracy: 0.9831\n",
            "Epoch 183/200\n",
            "750/750 [==============================] - 11s 15ms/step - loss: 0.0157 - accuracy: 0.9970 - val_loss: 0.2637 - val_accuracy: 0.9840\n",
            "Epoch 184/200\n",
            "750/750 [==============================] - 11s 15ms/step - loss: 0.0263 - accuracy: 0.9967 - val_loss: 0.2832 - val_accuracy: 0.9842\n",
            "Epoch 185/200\n",
            "750/750 [==============================] - 11s 15ms/step - loss: 0.0252 - accuracy: 0.9961 - val_loss: 0.2280 - val_accuracy: 0.9827\n",
            "Epoch 186/200\n",
            "750/750 [==============================] - 11s 15ms/step - loss: 0.0222 - accuracy: 0.9962 - val_loss: 0.2252 - val_accuracy: 0.9833\n",
            "Epoch 187/200\n",
            "750/750 [==============================] - 11s 15ms/step - loss: 0.0215 - accuracy: 0.9969 - val_loss: 0.2530 - val_accuracy: 0.9824\n",
            "Epoch 188/200\n",
            "750/750 [==============================] - 11s 15ms/step - loss: 0.0252 - accuracy: 0.9960 - val_loss: 0.2482 - val_accuracy: 0.9828\n",
            "Epoch 189/200\n",
            "750/750 [==============================] - 11s 15ms/step - loss: 0.0258 - accuracy: 0.9967 - val_loss: 0.2212 - val_accuracy: 0.9816\n",
            "Epoch 190/200\n",
            "750/750 [==============================] - 11s 15ms/step - loss: 0.0168 - accuracy: 0.9970 - val_loss: 0.2452 - val_accuracy: 0.9839\n",
            "Epoch 191/200\n",
            "750/750 [==============================] - 11s 15ms/step - loss: 0.0210 - accuracy: 0.9970 - val_loss: 0.2331 - val_accuracy: 0.9843\n",
            "Epoch 192/200\n",
            "750/750 [==============================] - 11s 14ms/step - loss: 0.0201 - accuracy: 0.9973 - val_loss: 0.2320 - val_accuracy: 0.9833\n",
            "Epoch 193/200\n",
            "750/750 [==============================] - 11s 15ms/step - loss: 0.0205 - accuracy: 0.9970 - val_loss: 0.2858 - val_accuracy: 0.9822\n",
            "Epoch 194/200\n",
            "750/750 [==============================] - 11s 15ms/step - loss: 0.0232 - accuracy: 0.9966 - val_loss: 0.2298 - val_accuracy: 0.9837\n",
            "Epoch 195/200\n",
            "750/750 [==============================] - 11s 15ms/step - loss: 0.0191 - accuracy: 0.9967 - val_loss: 0.2674 - val_accuracy: 0.9845\n",
            "Epoch 196/200\n",
            "750/750 [==============================] - 11s 15ms/step - loss: 0.0153 - accuracy: 0.9971 - val_loss: 0.3262 - val_accuracy: 0.9843\n",
            "Epoch 197/200\n",
            "750/750 [==============================] - 11s 15ms/step - loss: 0.0185 - accuracy: 0.9972 - val_loss: 0.3171 - val_accuracy: 0.9830\n",
            "Epoch 198/200\n",
            "750/750 [==============================] - 11s 15ms/step - loss: 0.0251 - accuracy: 0.9966 - val_loss: 0.3040 - val_accuracy: 0.9829\n",
            "Epoch 199/200\n",
            "750/750 [==============================] - 11s 15ms/step - loss: 0.0209 - accuracy: 0.9966 - val_loss: 0.3098 - val_accuracy: 0.9812\n",
            "Epoch 200/200\n",
            "750/750 [==============================] - 12s 15ms/step - loss: 0.0209 - accuracy: 0.9973 - val_loss: 0.3174 - val_accuracy: 0.9831\n"
          ],
          "name": "stdout"
        }
      ]
    },
    {
      "cell_type": "code",
      "metadata": {
        "id": "we2ZBwRui04X",
        "colab": {
          "base_uri": "https://localhost:8080/",
          "height": 591
        },
        "outputId": "80ad45bf-5f35-4df6-f3eb-9b92bf9b341d"
      },
      "source": [
        "import matplotlib.pyplot as plt\n",
        "%matplotlib inline\n",
        "# list all data in training\n",
        "print(training.history.keys())\n",
        "# summarize training for accuracy\n",
        "plt.plot(training.history['accuracy'])\n",
        "plt.plot(training.history['val_accuracy'])\n",
        "plt.title('model accuracy')\n",
        "plt.ylabel('accuracy')\n",
        "plt.xlabel('epoch')\n",
        "plt.legend(['train', 'test'], loc='upper left')\n",
        "plt.show()\n",
        "# summarize traning for loss\n",
        "plt.plot(training.history['loss'])\n",
        "plt.plot(training.history['val_loss'])\n",
        "plt.title('model loss')\n",
        "plt.ylabel('loss')\n",
        "plt.xlabel('epoch')\n",
        "plt.legend(['train', 'test'], loc='upper left')\n",
        "plt.show()"
      ],
      "execution_count": null,
      "outputs": [
        {
          "output_type": "stream",
          "text": [
            "dict_keys(['loss', 'accuracy', 'val_loss', 'val_accuracy'])\n"
          ],
          "name": "stdout"
        },
        {
          "output_type": "display_data",
          "data": {
            "image/png": "[encoded data removed]",
            "text/plain": [
              "<Figure size 432x288 with 1 Axes>"
            ]
          },
          "metadata": {
            "tags": [],
            "needs_background": "light"
          }
        },
        {
          "output_type": "display_data",
          "data": {
            "image/png": "[encoded data removed]",
            "text/plain": [
              "<Figure size 432x288 with 1 Axes>"
            ]
          },
          "metadata": {
            "tags": [],
            "needs_background": "light"
          }
        }
      ]
    },
    {
      "cell_type": "code",
      "metadata": {
        "id": "rW_yiiBci04l",
        "colab": {
          "base_uri": "https://localhost:8080/",
          "height": 52
        },
        "outputId": "da42046e-de5c-4193-ae78-40503e958d69"
      },
      "source": [
        "#evaluate the model\n",
        "test_loss, test_acc = model_6.evaluate(X_test, Y_test)\n",
        "print('Test accuracy:', test_acc)"
      ],
      "execution_count": null,
      "outputs": [
        {
          "output_type": "stream",
          "text": [
            "313/313 [==============================] - 1s 3ms/step - loss: 0.2484 - accuracy: 0.9834\n",
            "Test accuracy: 0.9833999872207642\n"
          ],
          "name": "stdout"
        }
      ]
    },
    {
      "cell_type": "code",
      "metadata": {
        "id": "-st6PFxmi04q",
        "colab": {
          "base_uri": "https://localhost:8080/",
          "height": 34
        },
        "outputId": "a25ac2f8-6526-454e-b17a-2a967778ba37"
      },
      "source": [
        "model_6.summary"
      ],
      "execution_count": null,
      "outputs": [
        {
          "output_type": "execute_result",
          "data": {
            "text/plain": [
              "<bound method Network.summary of <tensorflow.python.keras.engine.sequential.Sequential object at 0x7ffa9a1c0b00>>"
            ]
          },
          "metadata": {
            "tags": []
          },
          "execution_count": 59
        }
      ]
    },
    {
      "cell_type": "code",
      "metadata": {
        "id": "VVS-TuqDi04v",
        "colab": {
          "base_uri": "https://localhost:8080/",
          "height": 1000
        },
        "outputId": "494cb512-ba9b-4e95-eead-c3af6affe6d7"
      },
      "source": [
        "model_6.weights"
      ],
      "execution_count": null,
      "outputs": [
        {
          "output_type": "execute_result",
          "data": {
            "text/plain": [
              "[<tf.Variable 'dense_layer_8/kernel:0' shape=(784, 512) dtype=float32, numpy=\n",
              " array([[-0.02043436, -0.03052251, -0.04867187, ..., -0.00341104,\n",
              "          0.0646666 ,  0.06193061],\n",
              "        [ 0.00580537, -0.03989251,  0.02505963, ...,  0.00726219,\n",
              "         -0.03476311, -0.04609244],\n",
              "        [ 0.02528511, -0.0624702 ,  0.02157883, ...,  0.02244397,\n",
              "         -0.00719848,  0.04892342],\n",
              "        ...,\n",
              "        [ 0.03892381,  0.06000207,  0.02830688, ..., -0.03362466,\n",
              "         -0.06500859, -0.02711738],\n",
              "        [-0.062404  ,  0.04495282,  0.00313219, ...,  0.05914421,\n",
              "         -0.0092866 , -0.01132109],\n",
              "        [-0.04838803, -0.00661732,  0.05316094, ...,  0.05458824,\n",
              "         -0.0405038 ,  0.02893919]], dtype=float32)>,\n",
              " <tf.Variable 'dense_layer_8/bias:0' shape=(512,) dtype=float32, numpy=\n",
              " array([-0.2696233 , -0.21055523, -0.33684137, -0.42744735,  0.18318221,\n",
              "        -0.27374473, -0.4295545 , -0.4989392 , -0.40381438, -0.0173907 ,\n",
              "        -0.02753447, -0.14542247, -0.69777596, -0.59039474, -0.27526793,\n",
              "        -0.4565259 , -0.19103886, -0.03038125, -0.14431506, -0.44546953,\n",
              "        -0.4384869 , -0.22670168, -0.12920149, -0.3529104 ,  0.01874708,\n",
              "         0.03865247, -0.09942317, -0.37635398,  0.05034769, -0.5097547 ,\n",
              "         0.08612788, -0.19895247, -0.09185734,  0.18310507, -0.32752576,\n",
              "        -0.02264479,  0.01025114, -0.15946889, -0.38689563, -0.34469634,\n",
              "        -0.36817837,  0.12921374, -0.11992764, -0.01881557, -0.3884351 ,\n",
              "        -0.00718244, -0.31887013, -0.52107877,  0.12082034, -0.19646251,\n",
              "        -0.22191986, -0.1437224 , -0.29777363, -0.53086865, -0.12631057,\n",
              "         0.13094419, -0.13917129,  0.00583606, -0.16718774,  0.03018015,\n",
              "        -0.58638734, -0.02188976, -0.4473377 , -0.04404052, -0.16019145,\n",
              "        -0.14673918,  0.01173183,  0.09187844, -0.01668436,  0.12805556,\n",
              "        -0.16952692, -0.607649  , -0.40257218, -0.03683537, -0.7947761 ,\n",
              "        -0.28343934, -0.57222146, -0.2707892 , -0.18641129, -0.07556085,\n",
              "        -0.08062723, -0.3644887 , -0.54991335, -0.2002851 , -0.5600216 ,\n",
              "        -0.40424347, -0.21844392, -0.16454019,  0.02891395,  0.12312049,\n",
              "        -0.30026382, -0.3627983 , -0.17188379,  0.01734723, -0.29349625,\n",
              "        -0.26071537, -0.38225314, -0.03323523, -0.17537077, -0.441885  ,\n",
              "        -0.09777397, -0.18430358,  0.09732835, -0.03439459,  0.15488645,\n",
              "        -0.28570494,  0.00417195, -0.54466563, -0.47075158, -0.69965667,\n",
              "        -0.22724637, -0.47913924, -0.01870635, -0.22890826, -0.06281532,\n",
              "        -0.71873   , -0.13300101, -0.13784057, -0.48036802, -0.24672139,\n",
              "         0.05949189, -0.13928486, -0.3953031 , -0.31828818, -0.0839654 ,\n",
              "        -0.23584065, -0.21653795, -0.20123477, -0.3937147 , -0.16197862,\n",
              "        -0.92149967, -0.03392668, -0.22747813, -0.4104444 , -0.29569617,\n",
              "        -0.35044834, -0.34732348, -0.14372009, -0.29292223, -0.21738692,\n",
              "        -0.52905613, -0.3450462 ,  0.16480425, -0.03414582, -0.10628978,\n",
              "        -0.27911526, -0.2083701 , -0.06697109, -0.17012432, -0.50735015,\n",
              "        -0.06452555, -0.49289736, -0.42184952,  0.00881977, -0.26190704,\n",
              "        -0.1537478 , -0.37149155, -0.13380708, -0.45335138, -0.30430567,\n",
              "        -0.26924622, -0.36665708, -0.6085542 , -0.10758677, -0.03512141,\n",
              "         0.01186022,  0.00505938, -0.10092407, -0.09170897,  0.05898591,\n",
              "         0.067136  ,  0.00938657, -0.00600094, -0.18202594, -0.25668278,\n",
              "         0.2309898 , -0.26955432, -0.17514804, -0.38176596, -0.3553004 ,\n",
              "        -0.23361991, -0.2979614 , -0.25536564, -0.33286262, -0.15431745,\n",
              "        -0.24253343, -0.09628185, -0.29247952, -0.01097796, -0.31394276,\n",
              "        -0.6662563 ,  0.16397506,  0.32289138, -0.27665627, -0.3913615 ,\n",
              "         0.25286132, -0.1246611 , -0.03693834, -0.31339404, -0.32478696,\n",
              "        -0.17795783, -0.6421901 , -0.25299466, -0.02144221, -0.16489227,\n",
              "         0.13300562, -0.15642543, -0.1099498 , -0.03995977, -0.5069289 ,\n",
              "        -0.18727073, -0.23603149, -0.28105575, -0.27661386, -0.337104  ,\n",
              "        -0.07837322, -0.17777477, -0.32150966,  0.03210541, -0.40579638,\n",
              "        -0.4404787 , -0.19481236, -0.21178351, -0.5810828 , -0.43712327,\n",
              "        -0.73686093, -0.47085842, -0.28466633,  0.03144144, -0.56787217,\n",
              "        -0.14624263, -0.20184365, -0.23991668, -0.18999131, -0.36354816,\n",
              "        -0.2857371 ,  0.07118796, -0.16984595, -0.25582024, -0.19779249,\n",
              "        -0.19449149, -0.17772178, -0.0158757 , -0.61694527, -0.44698957,\n",
              "         0.05527673, -0.05759416, -0.11423653, -0.51053125, -0.37863708,\n",
              "        -0.17570409,  0.08945898,  0.02739712, -0.36063945, -0.4308034 ,\n",
              "        -0.17203261, -0.16994484, -0.20994629, -0.18219425, -0.19212613,\n",
              "        -0.03048081,  0.02987648, -0.53590727,  0.02363749, -0.25157776,\n",
              "        -0.291716  , -0.11998188, -0.08307215, -0.26601776, -0.47802582,\n",
              "        -0.23956335, -0.05240866, -0.45372567, -0.1917211 , -0.04963914,\n",
              "        -0.25976416, -0.4559752 , -0.422362  , -0.30344194, -0.25408193,\n",
              "        -0.37525412, -0.4620375 ,  0.02101701, -0.40512285, -0.36818326,\n",
              "        -0.09237959, -0.1341872 , -0.5137707 , -0.6031753 , -0.12332745,\n",
              "         0.08364153, -0.06272127, -0.49000153, -0.28939503, -0.3084176 ,\n",
              "        -0.69817895, -0.02564907, -0.42432424, -0.26996675,  0.05392009,\n",
              "         0.14806002,  0.04884285, -0.23323989, -0.14799803, -0.05732735,\n",
              "        -0.19667597,  0.20462413, -0.03246721, -0.12511227, -0.07271943,\n",
              "        -0.39755863, -0.06195214, -0.26317418, -0.19539754, -0.49757048,\n",
              "        -0.01245722, -0.3604564 , -0.09649093, -0.20428418, -0.33626205,\n",
              "         0.23393664, -0.1268835 ,  0.08728244,  0.12389429, -0.23385076,\n",
              "        -0.22964492, -0.02930309, -0.17697999, -0.11112972, -0.2553529 ,\n",
              "        -0.34331092,  0.02823567,  0.17985946, -0.26964682,  0.11702529,\n",
              "        -0.4939382 , -0.13730083,  0.06791068,  0.27215633, -0.34416676,\n",
              "         0.00473885, -0.04341743,  0.10614222, -0.06123485, -0.0990551 ,\n",
              "         0.19862166,  0.09108048, -0.20261574, -0.06709547, -0.18506475,\n",
              "        -0.03284829, -0.4014016 , -0.19971503,  0.08533444, -0.45590803,\n",
              "        -0.18259707, -0.22731334, -0.3533481 , -0.15132391, -0.04689423,\n",
              "        -0.41710454, -0.2276736 ,  0.01853679, -0.16237736, -0.5176968 ,\n",
              "        -0.3898137 , -0.5058089 ,  0.03047854, -0.1807336 , -0.05003184,\n",
              "         0.0065933 , -0.25060648, -0.2503102 ,  0.12828723, -0.60870755,\n",
              "        -0.25974667, -0.29079655, -0.32036665, -0.6914658 , -0.6382996 ,\n",
              "         0.10248274,  0.15497299, -0.22279367, -0.44842225, -0.20044848,\n",
              "        -0.26829386, -0.46701038, -0.02301912, -0.22469227, -0.4052091 ,\n",
              "        -0.45218182, -0.32259455, -0.19550417, -0.21909153, -0.27853864,\n",
              "        -0.4405603 , -0.09006552, -0.17720135,  0.02760173, -0.21334021,\n",
              "         0.11099483, -0.04707084, -0.5503532 ,  0.23122033, -0.17021382,\n",
              "         0.15474261, -0.02252994,  0.12281571, -0.11179549, -0.05886948,\n",
              "        -0.14441329, -0.01090423, -0.42050385, -0.02933597, -0.09983373,\n",
              "        -0.3681018 , -0.20683399, -0.5355109 , -0.0464318 , -0.19561288,\n",
              "         0.08495087, -0.11086687, -0.07394721,  0.02250678, -0.20211917,\n",
              "        -0.31972215, -0.15853697, -0.21581222,  0.16825831, -0.21617159,\n",
              "        -0.48592985, -0.23364028, -0.13722137, -0.04469431, -0.1355897 ,\n",
              "        -0.10819568, -0.2219548 , -0.10088089, -0.13666353,  0.1145459 ,\n",
              "        -0.2602746 , -0.24390417, -0.14585629, -0.16982166, -0.03354973,\n",
              "        -0.1882672 , -0.47209433, -0.23154792, -0.2852839 ,  0.00447701,\n",
              "        -0.2466137 ,  0.01513781, -0.35772336, -0.47153482, -0.16192749,\n",
              "        -0.18880709,  0.02534606, -0.21622372, -0.16643879,  0.13549176,\n",
              "        -0.36174542,  0.00318471, -0.00846594, -0.34606802, -0.17864048,\n",
              "        -0.50079393,  0.15257677, -0.13326643, -0.03427297, -0.13887885,\n",
              "        -0.10833173, -0.42906177,  0.07073282, -0.8272588 , -0.34088227,\n",
              "        -0.19610593, -0.12080865,  0.04765316, -0.10128038, -0.34742182,\n",
              "        -0.14102283, -0.19830221, -0.5170853 , -0.26167715,  0.08200791,\n",
              "        -0.0350775 , -0.8242871 , -0.1458042 , -0.57211834, -0.3030035 ,\n",
              "        -0.07657946, -0.01900173,  0.02733069, -0.17630917, -0.5489323 ,\n",
              "        -0.4436115 , -0.24990772, -0.4653536 , -0.12367339, -0.02347991,\n",
              "        -0.5163176 , -0.31180143, -0.02765441, -0.20840229, -0.02387062,\n",
              "        -0.39871982, -0.04175514, -0.4467921 , -0.10026515, -0.59768313,\n",
              "        -0.46691343, -0.28173923], dtype=float32)>,\n",
              " <tf.Variable 'dense_layer_2_5/kernel:0' shape=(512, 512) dtype=float32, numpy=\n",
              " array([[-0.44035417, -0.08319122, -0.07522572, ...,  0.07430229,\n",
              "         -0.02726143,  0.12732434],\n",
              "        [-0.01406842,  0.12247626, -0.43497545, ...,  0.00618181,\n",
              "          0.06629271,  0.47217116],\n",
              "        [ 0.4767634 ,  0.44265702,  0.11117949, ..., -0.20954657,\n",
              "          0.1171995 ,  0.00962094],\n",
              "        ...,\n",
              "        [ 0.19733089,  0.07500589,  0.21224241, ..., -0.38945597,\n",
              "          0.04087703,  0.03677493],\n",
              "        [-0.19920942,  0.29997236, -0.4244362 , ...,  0.35777205,\n",
              "          0.03635927, -0.00325797],\n",
              "        [-0.00409521,  0.20231165, -0.22174703, ..., -0.5272831 ,\n",
              "         -0.13503195, -0.3593861 ]], dtype=float32)>,\n",
              " <tf.Variable 'dense_layer_2_5/bias:0' shape=(512,) dtype=float32, numpy=\n",
              " array([-5.13993859e-01, -6.00391090e-01, -1.02565205e+00,  1.96603984e-02,\n",
              "        -9.64286447e-01, -3.02042425e-01, -2.79223353e-01, -7.91683316e-01,\n",
              "        -1.25697148e+00, -6.34749413e-01, -6.42875314e-01, -8.38303924e-01,\n",
              "         3.75048369e-01,  1.22826135e+00,  4.10792455e-02, -3.48823369e-01,\n",
              "        -8.37945402e-01, -5.57077825e-01, -1.92337680e+00, -6.88903630e-01,\n",
              "        -1.42878699e+00, -1.74578571e+00, -6.96560562e-01, -6.23477757e-01,\n",
              "        -9.93947685e-01, -1.40119100e+00,  7.48132765e-02,  5.23510695e-01,\n",
              "        -1.05909204e+00, -1.05678938e-01, -8.51926327e-01, -1.13171136e+00,\n",
              "        -8.36204886e-01,  3.30297112e-01, -1.12232172e+00, -4.22348201e-01,\n",
              "         3.22610825e-01, -8.03642333e-01, -1.11286557e+00,  1.96023822e-01,\n",
              "        -4.54311579e-01, -2.12987915e-01, -3.06256473e-01, -8.04532349e-01,\n",
              "        -5.48995323e-02, -1.13650477e+00, -1.86033383e-01, -9.95462835e-01,\n",
              "        -4.03522074e-01, -1.08907378e+00, -8.13603401e-01, -9.99267757e-01,\n",
              "         5.36068916e-01, -6.78450227e-01, -7.46327698e-01, -1.99973002e-01,\n",
              "         7.15477407e-01, -1.36275184e+00, -8.76522958e-01, -1.02583504e+00,\n",
              "        -9.96108770e-01, -4.05463755e-01, -8.10392559e-01,  1.37380624e+00,\n",
              "        -2.95545578e-01, -9.79546234e-02, -6.87758207e-01,  1.37252361e-01,\n",
              "        -1.00489795e+00, -7.31188238e-01, -1.23231530e+00, -7.89228559e-01,\n",
              "        -7.27989614e-01, -1.33074176e+00,  1.49906680e-01, -1.05883646e+00,\n",
              "        -5.39433658e-01, -1.45379090e+00, -1.29124737e+00, -4.15208399e-01,\n",
              "        -8.63828897e-01, -9.65946019e-02, -8.06198716e-01,  7.72223234e-01,\n",
              "        -5.28183877e-01, -8.11358690e-01, -1.29313731e+00, -2.81887174e-01,\n",
              "        -2.34232470e-01,  2.72289991e-01, -4.95405912e-01, -1.16225076e+00,\n",
              "        -5.89152217e-01, -1.40832210e+00, -6.53198481e-01, -1.64954972e+00,\n",
              "        -1.73463035e+00, -6.83469832e-01, -1.08742547e+00, -4.15921718e-01,\n",
              "        -5.64897597e-01, -5.75317085e-01, -3.57972383e-01, -7.70333111e-02,\n",
              "         5.02940774e-01, -3.48621428e-01, -1.67420805e+00,  4.32348907e-01,\n",
              "        -1.09945118e+00, -1.02830088e+00,  1.01219761e+00, -1.87412828e-01,\n",
              "        -7.77675569e-01, -5.06599367e-01, -4.45302278e-02, -1.74747241e+00,\n",
              "        -7.70861804e-01, -1.05901241e+00, -6.58254802e-01, -4.50766087e-01,\n",
              "        -2.78983831e-01, -7.41755545e-01, -1.05651760e+00, -1.38073552e+00,\n",
              "        -1.38550818e+00, -1.53669310e+00, -1.61619540e-02,  8.02636564e-01,\n",
              "         6.76285267e-01, -7.58338749e-01, -1.20348024e+00, -1.11127841e+00,\n",
              "        -1.28241324e+00, -5.53993940e-01,  4.75458503e-01, -5.81060231e-01,\n",
              "         1.11498185e-01,  2.34780073e-01, -1.54807985e-01, -1.31210756e+00,\n",
              "        -1.01029563e+00, -7.78311253e-01, -1.35789561e+00, -9.19717014e-01,\n",
              "        -1.25609207e+00, -1.13194034e-01,  4.00508881e-01, -7.22618163e-01,\n",
              "        -1.05772948e+00,  8.85079741e-01,  2.38701358e-01, -1.20700800e+00,\n",
              "        -9.45724249e-01, -2.56541193e-01, -1.04020667e+00, -4.46437269e-01,\n",
              "        -1.27823102e+00,  4.19540219e-02, -1.09785640e+00, -6.76395416e-01,\n",
              "        -1.42547119e+00, -7.81508744e-01,  2.02204455e-02, -4.60170597e-01,\n",
              "        -1.12832502e-01, -3.05958148e-02, -8.34242404e-01, -6.01991117e-01,\n",
              "        -1.35451603e+00,  5.91995418e-01, -1.92008555e-01, -1.08873390e-01,\n",
              "        -1.77869666e+00, -6.13185048e-01, -7.10151672e-01, -1.09448314e+00,\n",
              "        -6.54223919e-01, -6.84696555e-01,  4.48063940e-01,  4.58558649e-01,\n",
              "        -5.46245396e-01, -1.15159893e+00, -1.02293718e+00, -1.77409399e+00,\n",
              "         7.78888345e-01,  7.69424319e-01,  9.80672419e-01, -8.34414840e-01,\n",
              "        -1.65368617e+00,  1.82723805e-01, -3.48805815e-01,  1.24507211e-01,\n",
              "         2.37278119e-01, -5.60807735e-02, -5.00301957e-01, -2.18070909e-01,\n",
              "        -1.61055732e+00, -2.26019114e-01,  7.75548041e-01, -6.70987248e-01,\n",
              "         1.98382604e+00, -1.04046023e+00, -5.54885507e-01, -2.90101588e-01,\n",
              "        -1.12315583e+00, -1.18832004e+00, -1.22823548e+00, -1.74251258e-01,\n",
              "        -9.14054513e-01, -2.63018757e-01, -7.74992168e-01, -1.27801156e+00,\n",
              "        -9.33559060e-01,  2.05987796e-01, -1.59480453e-01, -1.09042811e+00,\n",
              "        -1.09509528e+00, -6.64956212e-01,  1.22047389e+00, -2.79797286e-01,\n",
              "        -3.29573601e-01, -1.16599846e+00, -3.21700424e-01, -1.57216862e-01,\n",
              "         5.63583374e-01, -1.25729418e+00,  1.17708288e-01, -5.57234645e-01,\n",
              "        -4.79370236e-01, -5.70572734e-01, -4.61992890e-01, -1.08069491e+00,\n",
              "        -6.53409421e-01, -7.16538906e-01, -2.41746426e-01, -5.07942021e-01,\n",
              "        -4.68171716e-01, -2.47752979e-01, -9.04691517e-01, -6.67369962e-01,\n",
              "        -1.34503663e+00,  1.85226537e-02, -3.79310936e-01, -1.39572001e+00,\n",
              "         4.64081764e-01, -9.38338637e-01, -1.11537993e+00, -1.31472063e+00,\n",
              "        -7.87087977e-01, -1.05997586e+00,  9.56119969e-03, -9.43344533e-01,\n",
              "        -9.82930541e-01, -8.45232189e-01, -1.16556644e+00, -2.73454964e-01,\n",
              "        -9.34464395e-01, -1.48634553e+00, -6.12162650e-01, -4.49973404e-01,\n",
              "        -1.10974312e+00, -4.35393810e-01,  2.73395449e-01, -1.15229201e+00,\n",
              "        -1.38232112e-01, -1.01961672e+00, -5.12036324e-01, -1.65319180e+00,\n",
              "         1.95128575e-01, -7.52609253e-01, -9.01265621e-01, -4.79678452e-01,\n",
              "        -3.37921605e-02, -4.91553545e-01, -5.19144177e-01,  1.30168962e+00,\n",
              "         1.46624491e-01, -3.12240571e-01, -1.01353788e+00,  7.93070719e-02,\n",
              "        -8.85418057e-01, -1.12976515e+00,  4.87937182e-02, -1.06495357e+00,\n",
              "        -1.15780950e+00, -3.01599354e-01, -1.44103014e+00, -1.28499758e+00,\n",
              "        -3.30908209e-01, -1.28941488e+00, -1.18278933e+00, -5.54402173e-01,\n",
              "        -2.85615593e-01, -4.49711978e-02, -9.42202330e-01, -2.66867995e-01,\n",
              "        -7.69118011e-01,  7.64079571e-01, -1.17536232e-01, -8.64830196e-01,\n",
              "        -1.19897142e-01,  7.06472516e-01, -1.38264489e+00, -1.40981483e+00,\n",
              "        -1.15140748e+00, -6.27923369e-01, -1.20787334e+00, -1.40465343e+00,\n",
              "         3.05553563e-02, -5.49145460e-01, -4.04190302e-01,  1.19988441e-01,\n",
              "         1.10349052e-01, -3.18197012e-01, -1.16373801e+00, -8.13742816e-01,\n",
              "        -3.84455979e-01,  1.29048789e+00,  1.63350940e-01,  4.87377234e-02,\n",
              "         1.03423977e+00, -1.28455147e-01, -7.60217071e-01, -8.02872598e-01,\n",
              "        -2.04705209e-01, -1.05168617e+00, -2.26982296e-01, -1.33699095e+00,\n",
              "        -6.94345534e-01, -9.97800231e-01,  9.47174788e-01,  1.55735433e+00,\n",
              "        -1.68504179e+00, -6.99089170e-01,  3.24006855e-01,  4.19574261e-01,\n",
              "        -2.51091629e-01, -8.90560508e-01,  1.01554610e-01, -1.73334777e+00,\n",
              "         5.45299172e-01, -7.27448225e-01, -6.43097103e-01, -6.85685575e-01,\n",
              "        -1.06288576e+00, -1.18928814e+00, -1.22173868e-01, -4.76252109e-01,\n",
              "         1.59050155e+00, -8.25810254e-01,  1.83092833e-01, -4.69368696e-01,\n",
              "        -7.31222332e-01,  2.34381258e-01, -6.28112793e-01, -8.21995676e-01,\n",
              "         1.31180930e+00,  1.58326164e-01, -6.27635598e-01, -5.77869058e-01,\n",
              "         5.17966270e-01, -6.39632881e-01, -1.97725087e-01, -6.88482940e-01,\n",
              "        -4.93213832e-01,  2.35682219e-01, -2.33186573e-01,  1.16268411e-01,\n",
              "        -4.31978464e-01, -1.03097367e+00,  3.57852578e-01, -9.90536809e-01,\n",
              "        -3.81958514e-01, -3.36107910e-01, -3.96031022e-01,  2.74617344e-01,\n",
              "        -5.73949933e-01, -3.98032337e-01,  4.74945784e-01,  7.25420415e-01,\n",
              "        -7.19808042e-01, -1.19499588e+00, -7.47749865e-01,  9.54723656e-01,\n",
              "        -7.12248385e-02,  1.89240709e-01, -6.12605393e-01, -6.64402962e-01,\n",
              "        -4.51597214e-01, -3.88169229e-01, -1.39560950e+00, -1.21942353e+00,\n",
              "        -5.59358299e-01, -1.46660352e+00, -6.25434041e-01, -4.28992689e-01,\n",
              "         3.48823607e-01, -1.67483222e+00, -5.01311004e-01, -6.81041479e-01,\n",
              "        -5.03798246e-01, -4.97232139e-01, -6.03999376e-01, -7.78506219e-01,\n",
              "        -7.03479171e-01, -3.80188107e-01, -1.02675462e+00, -9.96801496e-01,\n",
              "        -5.53062141e-01, -1.52935497e-02, -4.29160714e-01, -9.34096158e-01,\n",
              "        -6.02862332e-04, -4.71756995e-01,  2.69963086e-01, -1.41654205e+00,\n",
              "        -2.24975586e-01, -1.02273989e+00,  1.20645128e-02, -1.55409193e+00,\n",
              "        -1.76030123e+00, -1.11711633e+00, -6.51259780e-01, -2.23467618e-01,\n",
              "        -8.10638845e-01, -9.60752904e-01, -1.36539257e+00, -9.10105228e-01,\n",
              "        -1.48305082e+00, -1.68019056e-01, -5.60022712e-01, -4.33587888e-03,\n",
              "        -4.15617436e-01, -2.00661325e+00, -1.53646934e+00, -1.05210733e+00,\n",
              "        -6.56461716e-01, -1.27272201e+00, -7.24964976e-01, -1.15101790e+00,\n",
              "        -1.66066498e-01, -4.08188343e-01, -3.60998690e-01, -1.04052734e+00,\n",
              "        -5.98054051e-01,  3.84903282e-01, -7.63664663e-01, -8.65060031e-01,\n",
              "        -7.69958317e-01, -7.77396977e-01, -6.18239880e-01, -1.17311716e+00,\n",
              "        -9.23062682e-01, -8.87576699e-01, -2.41828725e-01,  3.45028818e-01,\n",
              "         5.76221168e-01, -6.81725323e-01, -9.19991791e-01, -1.09187603e+00,\n",
              "        -4.42823976e-01, -7.30655491e-02, -2.20693082e-01, -5.12944698e-01,\n",
              "        -9.33151543e-01, -2.99604893e-01, -9.13692236e-01, -1.00229609e+00,\n",
              "        -5.91773510e-01, -2.98719168e-01, -6.92933798e-01, -9.50371444e-01,\n",
              "        -5.73854625e-01,  6.10569596e-01, -6.84277594e-01,  1.38407037e-01,\n",
              "        -1.00095713e+00, -2.75662571e-01,  6.52880430e-01, -9.36283290e-01,\n",
              "        -1.66488600e+00, -8.92647684e-01, -9.92556512e-02,  1.11648214e+00,\n",
              "        -1.01740646e+00, -1.19313347e+00, -1.92739964e-01, -5.85202992e-01,\n",
              "        -4.96495217e-01, -1.08517420e+00, -9.39378321e-01, -8.05199504e-01,\n",
              "        -9.13305223e-01, -1.77148864e-01,  4.10916299e-01, -7.05146611e-01,\n",
              "         1.77325368e+00,  7.84417272e-01, -1.85980582e+00, -1.42040646e+00,\n",
              "         7.58153796e-01, -9.91205871e-01, -1.08365393e+00,  5.04517376e-01,\n",
              "        -8.74965370e-01,  3.77183259e-01, -5.83088815e-01, -1.23768067e+00,\n",
              "         6.33844495e-01, -4.58534807e-01, -9.40453053e-01, -1.36342514e+00],\n",
              "       dtype=float32)>,\n",
              " <tf.Variable 'dense_layer_3_5/kernel:0' shape=(512, 512) dtype=float32, numpy=\n",
              " array([[ 0.18611118, -0.19383721, -0.50466704, ...,  0.15832447,\n",
              "         -0.22649865, -0.18223947],\n",
              "        [-0.3003918 ,  0.06276278, -0.01877323, ..., -0.03724123,\n",
              "         -0.22941291, -0.24485902],\n",
              "        [-0.12177542,  0.09897343,  0.04078612, ..., -0.17337352,\n",
              "         -0.1430232 , -0.06145266],\n",
              "        ...,\n",
              "        [-0.14638147, -0.16636848, -0.23927179, ..., -0.0186762 ,\n",
              "         -0.1765334 ,  0.14642686],\n",
              "        [ 0.05269847,  0.20927593,  0.05150254, ...,  0.11848488,\n",
              "          0.07681153, -0.0859415 ],\n",
              "        [-0.20123975,  0.14314917, -0.32045376, ..., -0.02859597,\n",
              "          0.20120038, -0.17695075]], dtype=float32)>,\n",
              " <tf.Variable 'dense_layer_3_5/bias:0' shape=(512,) dtype=float32, numpy=\n",
              " array([-1.0062634 , -0.6798678 , -0.72317207, -0.7866308 , -0.87084115,\n",
              "        -0.8408435 , -1.0654339 , -0.948204  , -0.84516823, -0.5893209 ,\n",
              "        -0.6942598 , -0.6271085 , -0.97328496, -0.9154043 , -0.7976199 ,\n",
              "        -0.77897245, -0.6938282 , -1.1434863 , -0.8073318 , -0.48979288,\n",
              "        -0.92079127, -0.8113516 , -0.45187646, -0.8155408 , -0.5984913 ,\n",
              "        -0.7168748 , -0.905786  , -0.66941166, -0.4613903 , -0.72540545,\n",
              "        -0.6220611 , -0.8541153 , -0.7365284 , -0.6223517 , -0.5412959 ,\n",
              "        -0.7411032 , -0.7689171 , -0.7968402 , -0.75489575, -0.71123785,\n",
              "        -0.71877116, -0.31203088, -1.0126634 , -0.6827104 , -1.1628327 ,\n",
              "        -0.47750184, -1.0873864 , -0.7576321 , -0.9778263 , -0.7593377 ,\n",
              "        -0.9057787 , -0.84406066, -0.96321076, -0.8104089 , -1.0336996 ,\n",
              "        -0.2296144 , -0.6729928 , -0.5156294 , -0.57416487, -0.73320013,\n",
              "        -0.82658553, -1.0187305 , -0.7649182 , -0.7520017 , -1.0833211 ,\n",
              "        -0.20817956, -0.9731998 , -0.79823947, -0.85748786,  0.048072  ,\n",
              "        -0.15858278, -0.4367053 , -0.85373944, -1.0870684 , -0.31460348,\n",
              "        -1.0415232 , -0.48766443, -0.69375753, -0.22836734, -0.68779635,\n",
              "        -0.58665144, -0.7297727 , -0.79413277, -0.7861993 , -0.95585364,\n",
              "        -0.60391015, -0.9465874 , -0.60670006, -0.4399705 , -0.5377412 ,\n",
              "        -1.0288782 , -0.5810415 , -0.79219985, -0.58170253, -0.54736334,\n",
              "        -0.8764467 , -0.9655326 , -0.70532495, -0.588143  , -0.85187316,\n",
              "        -0.66847026, -0.6121687 , -0.8665182 , -0.36163744, -0.7178133 ,\n",
              "        -0.49264994, -1.1255641 , -0.22981928, -0.95019794, -0.91873693,\n",
              "        -0.6240258 , -0.86049986, -0.86565924, -0.8531966 , -0.18484254,\n",
              "        -0.7021266 , -0.51949173, -0.70348865, -1.1067518 , -1.2936584 ,\n",
              "         0.07854186, -0.839392  , -0.7121911 , -0.7004871 , -0.15000954,\n",
              "        -0.18104567, -0.95428777, -0.8971758 , -0.9562184 , -0.591648  ,\n",
              "        -0.48650676, -0.65950805, -1.0524215 , -0.45353857, -0.938585  ,\n",
              "        -0.66908365, -1.1357177 , -0.9644425 , -1.4211128 , -0.91758627,\n",
              "        -1.0313491 , -0.5328197 , -0.6369358 , -0.8100263 , -0.30138087,\n",
              "        -0.5472418 , -0.925562  , -0.8282746 , -0.8195398 , -0.62726194,\n",
              "        -0.77606946, -0.9458622 , -0.86645406, -0.52859056, -0.49687022,\n",
              "        -0.90320927, -0.8220788 , -0.45998296, -1.0910898 , -0.7667234 ,\n",
              "        -0.84906846, -0.66477805, -0.95537347, -0.81817025, -0.7082717 ,\n",
              "        -0.44126666, -0.81905085, -0.7545922 , -0.78417075, -0.7020788 ,\n",
              "        -0.29222977, -0.7248468 , -1.0615196 , -0.68877745, -0.9429862 ,\n",
              "        -0.5749579 , -1.0654929 , -0.94413215, -1.1149988 , -0.87359685,\n",
              "        -0.74774444, -0.47917303, -0.855298  , -0.82175446, -0.5085722 ,\n",
              "        -0.8708938 , -0.7080334 , -0.73585886, -0.30546102, -0.79563016,\n",
              "        -0.8143318 , -0.60298115, -1.1688929 , -0.7592518 , -0.50551015,\n",
              "        -0.42435753, -1.0388726 , -0.6389326 , -0.4947527 , -0.32281926,\n",
              "        -0.86019254, -0.715451  , -0.44836795, -0.6745256 , -0.7148247 ,\n",
              "        -0.6941388 , -0.744022  , -0.48187968, -0.6823203 , -0.94184893,\n",
              "        -1.0720016 , -0.92321044, -0.9217684 , -0.53263664, -0.36520267,\n",
              "        -0.5919072 , -0.9577809 , -0.5292064 , -0.44178987, -0.48624378,\n",
              "        -0.8401942 , -0.5163445 , -0.79818714, -0.8297769 , -0.36861557,\n",
              "        -0.8345171 , -0.8345908 , -0.72925353, -1.0079309 , -0.23860143,\n",
              "        -0.8110469 , -0.3815502 , -0.8033986 , -0.54512817, -0.9296068 ,\n",
              "        -1.0765791 , -0.09666684, -0.6186371 , -0.75645304, -0.39989933,\n",
              "        -0.83807206, -0.6991779 , -0.2268238 , -0.7646076 , -0.7329471 ,\n",
              "        -0.70573264, -0.8874484 , -0.55998003, -0.9133968 , -0.7130984 ,\n",
              "        -0.9231696 , -0.47170684, -0.85673875, -1.0349579 , -0.59033006,\n",
              "        -0.97842306, -0.7463513 , -0.7308897 , -0.48771033, -0.55484617,\n",
              "        -0.7866825 , -0.6789063 , -0.9229129 , -1.3049116 , -0.6015771 ,\n",
              "        -0.91685796, -0.8770778 , -0.7441809 , -0.8318752 , -0.4461999 ,\n",
              "        -0.74138   , -0.86065316, -0.5208054 , -0.76829857, -0.6948509 ,\n",
              "        -0.75791335, -0.24610348, -0.22480203, -0.7857186 , -0.99154186,\n",
              "        -0.7536548 , -0.34038514, -0.7950539 , -0.75063014, -1.0280491 ,\n",
              "        -0.6290381 , -0.690685  , -0.36635765, -0.67253375, -0.5390768 ,\n",
              "        -0.7766789 , -0.8458305 , -0.8049631 , -0.9315908 , -0.83485866,\n",
              "        -0.71423656, -1.0550649 , -0.5744383 , -0.5776482 , -0.6141404 ,\n",
              "        -0.9158669 , -0.8695732 , -0.94498515, -0.89030606, -0.7495628 ,\n",
              "        -0.58031857, -0.7151839 , -1.2892148 , -0.786654  , -0.21456191,\n",
              "        -0.5209136 , -0.69797486, -0.87532836, -0.34074223, -0.81454617,\n",
              "        -0.75576705, -0.7863748 , -0.8350926 , -0.32317674, -0.6853701 ,\n",
              "        -0.9892173 , -0.78728145, -0.79978216, -0.8396424 , -0.5519047 ,\n",
              "        -1.1569804 , -0.73068994, -0.86060166, -0.36525682, -0.9772056 ,\n",
              "        -0.29671603, -0.7970688 , -0.6030568 , -0.59733254, -0.55914944,\n",
              "        -0.83550835, -0.74234605, -0.7458986 , -0.5922046 , -0.8535487 ,\n",
              "        -1.0255033 , -1.0354588 ,  0.35653135, -0.9787557 , -0.99942833,\n",
              "        -0.77299756, -0.53189605, -0.59203565, -0.33414146, -0.9568651 ,\n",
              "        -0.5646779 , -0.75187844, -1.0480083 , -0.6918022 , -0.6971248 ,\n",
              "        -0.77046806, -1.0703388 , -0.9754308 , -0.42257497, -0.9897199 ,\n",
              "        -0.7560951 , -0.75867444, -0.28247172, -0.93997425, -0.5843143 ,\n",
              "        -0.6626432 , -0.74912983, -0.86097735, -0.6715876 , -0.6770028 ,\n",
              "        -0.89218265, -0.79881173, -0.41192973, -0.59154534, -0.26065254,\n",
              "        -0.8931376 , -0.61567426, -0.87069535, -0.9916513 , -0.71123135,\n",
              "        -0.4921528 , -0.70993316, -0.8117828 , -0.33142328, -0.39336818,\n",
              "        -0.8508605 , -0.48204544, -0.7497612 , -0.46079987, -0.51960146,\n",
              "        -0.92929244, -0.74291617, -0.82730293, -0.7379736 , -0.7438417 ,\n",
              "        -0.6304524 , -0.72744995, -0.85007536, -0.3512579 , -1.0211724 ,\n",
              "        -0.43688208, -0.6308645 , -0.6062578 , -0.6528515 , -0.6378453 ,\n",
              "        -0.9443096 , -0.9971505 , -0.796638  , -0.6713223 , -0.5184089 ,\n",
              "        -0.94528973, -0.35082376, -0.96980876, -0.5575063 , -0.6737092 ,\n",
              "        -0.91184974, -0.6038707 , -0.9159912 , -0.65361965, -0.8729367 ,\n",
              "        -1.0598643 , -0.85768664, -1.0366546 , -0.73627865, -0.3719077 ,\n",
              "        -0.34646297, -0.43880236, -0.908039  , -0.653311  , -0.25472358,\n",
              "        -0.89909196, -0.5886765 , -0.91153   , -0.6176268 , -0.7882113 ,\n",
              "        -0.81999606, -0.84992784, -1.001833  , -0.01858433, -0.5863945 ,\n",
              "        -0.27841642, -0.5945769 , -0.8551585 , -0.65736043, -0.7051062 ,\n",
              "        -0.93297654, -0.8371272 , -0.91195405, -1.000361  , -0.728948  ,\n",
              "        -0.53774315, -0.595103  , -1.1484402 , -1.0177116 , -0.37030175,\n",
              "        -0.63050276, -0.7695749 , -0.7157384 , -0.8673552 , -0.6994162 ,\n",
              "        -0.8843584 , -0.65736026, -0.90061456, -1.0373873 , -0.696217  ,\n",
              "        -0.9208063 , -0.7743207 , -0.4780876 , -0.8416628 , -0.92621976,\n",
              "        -0.5823429 , -0.76579005, -0.29873392, -0.7330647 , -0.74131984,\n",
              "        -0.78695595, -0.8346436 , -0.9612899 , -1.1711692 , -1.0320503 ,\n",
              "        -0.6593316 , -0.5513593 , -0.68055296, -0.58192664, -0.6796016 ,\n",
              "        -0.6706442 , -0.70287544, -0.8010943 , -1.0854157 , -0.49702495,\n",
              "        -0.6721347 , -0.4487459 , -0.8838427 , -0.9843363 , -0.804993  ,\n",
              "        -0.92997855, -0.6845463 , -0.9893227 , -1.1956239 , -0.8130097 ,\n",
              "        -0.4849313 , -0.4347491 , -0.57402503, -0.4652761 , -1.0957    ,\n",
              "        -1.0322578 , -0.5291855 , -0.35328877, -0.63943446, -0.37503016,\n",
              "        -0.9531655 , -0.58760864], dtype=float32)>,\n",
              " <tf.Variable 'dense_layer_4_1/kernel:0' shape=(512, 10) dtype=float32, numpy=\n",
              " array([[-0.66375923, -0.20214018, -0.15328205, ..., -0.11945322,\n",
              "         -0.21704675, -0.5998185 ],\n",
              "        [-0.87697846, -0.03075726, -0.08376382, ..., -0.04918905,\n",
              "         -0.4294732 , -0.2142615 ],\n",
              "        [-0.60211354, -0.16142409, -0.3027122 , ..., -0.28254467,\n",
              "         -0.39632118, -0.2879008 ],\n",
              "        ...,\n",
              "        [-0.37189138, -0.23510095, -0.1307017 , ..., -0.3008866 ,\n",
              "         -0.15480375, -0.3829885 ],\n",
              "        [-0.32665512, -0.2520203 , -0.371443  , ..., -0.20058699,\n",
              "         -0.4451676 , -0.32839733],\n",
              "        [-0.16473784, -0.31014487, -0.4785778 , ..., -0.10363201,\n",
              "         -0.11509958, -0.04660525]], dtype=float32)>,\n",
              " <tf.Variable 'dense_layer_4_1/bias:0' shape=(10,) dtype=float32, numpy=\n",
              " array([ 1.189597  , -0.7949364 , -0.92511517, -0.4785647 , -0.33940768,\n",
              "        -0.8825297 , -0.33439437, -0.95009017,  1.6654049 ,  0.93292344],\n",
              "       dtype=float32)>]"
            ]
          },
          "metadata": {
            "tags": []
          },
          "execution_count": 60
        }
      ]
    },
    {
      "cell_type": "code",
      "metadata": {
        "id": "V5lg_PNsi041",
        "colab": {
          "base_uri": "https://localhost:8080/",
          "height": 1000
        },
        "outputId": "02c75016-802a-4897-f8e8-02a6ba4d234e"
      },
      "source": [
        "model_6.get_config()"
      ],
      "execution_count": null,
      "outputs": [
        {
          "output_type": "execute_result",
          "data": {
            "text/plain": [
              "{'build_input_shape': TensorShape([None, 784]),\n",
              " 'layers': [{'class_name': 'Dense',\n",
              "   'config': {'activation': 'relu',\n",
              "    'activity_regularizer': None,\n",
              "    'batch_input_shape': (None, 784),\n",
              "    'bias_constraint': None,\n",
              "    'bias_initializer': {'class_name': 'Zeros', 'config': {}},\n",
              "    'bias_regularizer': None,\n",
              "    'dtype': 'float32',\n",
              "    'kernel_constraint': None,\n",
              "    'kernel_initializer': {'class_name': 'GlorotUniform',\n",
              "     'config': {'seed': None}},\n",
              "    'kernel_regularizer': None,\n",
              "    'name': 'dense_layer',\n",
              "    'trainable': True,\n",
              "    'units': 512,\n",
              "    'use_bias': True}},\n",
              "  {'class_name': 'Dropout',\n",
              "   'config': {'dtype': 'float32',\n",
              "    'name': 'dropout_8',\n",
              "    'noise_shape': None,\n",
              "    'rate': 0.3,\n",
              "    'seed': None,\n",
              "    'trainable': True}},\n",
              "  {'class_name': 'Dense',\n",
              "   'config': {'activation': 'relu',\n",
              "    'activity_regularizer': None,\n",
              "    'bias_constraint': None,\n",
              "    'bias_initializer': {'class_name': 'Zeros', 'config': {}},\n",
              "    'bias_regularizer': None,\n",
              "    'dtype': 'float32',\n",
              "    'kernel_constraint': None,\n",
              "    'kernel_initializer': {'class_name': 'GlorotUniform',\n",
              "     'config': {'seed': None}},\n",
              "    'kernel_regularizer': None,\n",
              "    'name': 'dense_layer_2',\n",
              "    'trainable': True,\n",
              "    'units': 512,\n",
              "    'use_bias': True}},\n",
              "  {'class_name': 'Dropout',\n",
              "   'config': {'dtype': 'float32',\n",
              "    'name': 'dropout_9',\n",
              "    'noise_shape': None,\n",
              "    'rate': 0.3,\n",
              "    'seed': None,\n",
              "    'trainable': True}},\n",
              "  {'class_name': 'Dense',\n",
              "   'config': {'activation': 'relu',\n",
              "    'activity_regularizer': None,\n",
              "    'bias_constraint': None,\n",
              "    'bias_initializer': {'class_name': 'Zeros', 'config': {}},\n",
              "    'bias_regularizer': None,\n",
              "    'dtype': 'float32',\n",
              "    'kernel_constraint': None,\n",
              "    'kernel_initializer': {'class_name': 'GlorotUniform',\n",
              "     'config': {'seed': None}},\n",
              "    'kernel_regularizer': None,\n",
              "    'name': 'dense_layer_3',\n",
              "    'trainable': True,\n",
              "    'units': 512,\n",
              "    'use_bias': True}},\n",
              "  {'class_name': 'Dropout',\n",
              "   'config': {'dtype': 'float32',\n",
              "    'name': 'dropout_10',\n",
              "    'noise_shape': None,\n",
              "    'rate': 0.3,\n",
              "    'seed': None,\n",
              "    'trainable': True}},\n",
              "  {'class_name': 'Dense',\n",
              "   'config': {'activation': 'softmax',\n",
              "    'activity_regularizer': None,\n",
              "    'bias_constraint': None,\n",
              "    'bias_initializer': {'class_name': 'Zeros', 'config': {}},\n",
              "    'bias_regularizer': None,\n",
              "    'dtype': 'float32',\n",
              "    'kernel_constraint': None,\n",
              "    'kernel_initializer': {'class_name': 'GlorotUniform',\n",
              "     'config': {'seed': None}},\n",
              "    'kernel_regularizer': None,\n",
              "    'name': 'dense_layer_4',\n",
              "    'trainable': True,\n",
              "    'units': 10,\n",
              "    'use_bias': True}}],\n",
              " 'name': 'sequential_6'}"
            ]
          },
          "metadata": {
            "tags": []
          },
          "execution_count": 61
        }
      ]
    },
    {
      "cell_type": "markdown",
      "metadata": {
        "id": "X6UHyrSERqid"
      },
      "source": [
        "# DIY: Assignment"
      ]
    },
    {
      "cell_type": "markdown",
      "metadata": {
        "id": "kYZ5DXBNLQAn"
      },
      "source": [
        "####**Total Marks: 50**\n",
        "**Duration: 6 days**\n",
        "\n",
        "As a part of this assignment following are the list of task that may help  improve your skills with TensorFlow. It is important to get hands-on experience with TensorFlow in order to learn how to use it properly.\n",
        "\n",
        "You may want to backup this Notebook before making any changes."
      ]
    },
    {
      "cell_type": "markdown",
      "metadata": {
        "id": "hQTkURqTLcAy"
      },
      "source": [
        "\n",
        "###**`.ipynb file 1`** "
      ]
    },
    {
      "cell_type": "markdown",
      "metadata": {
        "id": "BgqFWLmeRvsr"
      },
      "source": [
        "\n",
        "**Marks: 10**\n",
        "> - Do you get the exact same results if you run the Notebook multiple times without changing any parameters?\n",
        "- What is the effect of adding more neurons to each hidden layer?\n",
        "- What happens if we manipulate the value of dropout?\n",
        "- What is the effect of adding more hidden layer to the network?\n",
        "- What is the accuracy score if we use RMSprop for model 6?\n",
        "- Does manipulating the learning rate affect the model? Justify your answer.\n",
        "- What is the best parameter configuration for this project?\n"
      ]
    },
    {
      "cell_type": "markdown",
      "metadata": {
        "id": "LFY6t7nLLukS"
      },
      "source": [
        "###**`.ipynb file 2`** \n"
      ]
    },
    {
      "cell_type": "markdown",
      "metadata": {
        "id": "8obuwIs3LzKM"
      },
      "source": [
        "**Marks: 15**\n",
        ">- Try improving the model and re-code the program from scratch without looking too much at this source-code.\n",
        "- Write up a summary explaining how your program works.\n"
      ]
    },
    {
      "cell_type": "markdown",
      "metadata": {
        "id": "OFeLvye1L3uN"
      },
      "source": [
        "###**`.ipynb file 3`**\n",
        "\n"
      ]
    },
    {
      "cell_type": "markdown",
      "metadata": {
        "id": "hrekQjasL8-w"
      },
      "source": [
        "**Marks: 25**\n",
        ">**Problem Statement**<br>\n",
        "The dataset is similar to MNIST, but includes images of certain clothing and accessory. The objective is to classify images into specific classes using single layer perceptron and multilayer perceptron.<br>\n",
        "<br>\n",
        "**Dataset Description**\n",
        "- Total Images: 70,000 \n",
        "- Train Images: 60,000 \n",
        "- Test Images: 10,000 \n",
        "- Image Size: 28 X 28 \n",
        "- Classes: 'T-shirt/top', 'Trouser', 'Pullover', 'Dress', 'Coat', 'Sandal', 'Shirt', 'Sneaker', 'Bag', 'Ankle Boot' \n",
        "\n",
        ">**Tasks to be Performed:**\n",
        "As a part of this assignment you will be performing the following tasks:\n",
        "- Prepare a detailed python notebook(similar to this one) using muli-layer perceptron for classifing the images from [MNIST Fashion Dataset ](https://github.com/zalandoresearch/fashion-mnist) with best accuracy\n",
        "- Prepare the dataset for the model\n",
        "- Develop Single Layer Perceptron model for classifying the handwritten digits\n",
        "- Plot the change in accuracy per epochs\n",
        "- Evaluate the model on the testing data\n",
        "- Analyse the model summary\n",
        "- Add hidden layer to the model to make it Multi-Layer Perceptron\n",
        "- Add Dropout to prevent overfitting and check its effect on accuracy\n",
        "- Increasing the number of Hidden Layer neuron and check its effect on accuracy\n",
        "- Use different optimizers and check its effect on accuracy\n",
        "- Increase the hidden layers and check its effect on accuracy\n",
        "- Manipulate the batch_size and epochs and check its effect on accuracy\n",
        "\n",
        "**Answer:** What parameters should be choosen to get best accuracy on classifying the images into various categories?\n",
        " "
      ]
    }
  ]
}