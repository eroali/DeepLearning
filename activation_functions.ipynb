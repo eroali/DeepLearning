{
  "nbformat": 4,
  "nbformat_minor": 0,
  "metadata": {
    "colab": {
      "name": "activation_functions.ipynb",
      "provenance": [],
      "collapsed_sections": [],
      "authorship_tag": "ABX9TyMLwFyp3ghN5XavpDzN7+2k",
      "include_colab_link": true
    },
    "kernelspec": {
      "name": "python3",
      "display_name": "Python 3"
    }
  },
  "cells": [
    {
      "cell_type": "markdown",
      "metadata": {
        "id": "view-in-github",
        "colab_type": "text"
      },
      "source": [
        "<a href=\"https://colab.research.google.com/github/eroali/DeepLearning/blob/main/activation_functions.ipynb\" target=\"_parent\"><img src=\"https://colab.research.google.com/assets/colab-badge.svg\" alt=\"Open In Colab\"/></a>"
      ]
    },
    {
      "cell_type": "markdown",
      "metadata": {
        "id": "IzMRE2h5wAjm"
      },
      "source": [
        "# **Activation Functions**"
      ]
    },
    {
      "cell_type": "markdown",
      "metadata": {
        "id": "xVvhXSH2wHvN"
      },
      "source": [
        "# Sigmoid Function"
      ]
    },
    {
      "cell_type": "code",
      "metadata": {
        "id": "oYFZFzEwwLlh"
      },
      "source": [
        "# Sigmoid Function\r\n",
        "import math\r\n",
        "\r\n",
        "def sigmoid(x):\r\n",
        "  return 1 / (1 + math.exp(-x))"
      ],
      "execution_count": null,
      "outputs": []
    },
    {
      "cell_type": "code",
      "metadata": {
        "colab": {
          "base_uri": "https://localhost:8080/"
        },
        "id": "WQnOPFs3wcYJ",
        "outputId": "eaa6de35-7210-45d3-e39f-2d55c7ed8160"
      },
      "source": [
        "sigmoid(-5)"
      ],
      "execution_count": null,
      "outputs": [
        {
          "output_type": "execute_result",
          "data": {
            "text/plain": [
              "0.0066928509242848554"
            ]
          },
          "metadata": {
            "tags": []
          },
          "execution_count": 2
        }
      ]
    },
    {
      "cell_type": "code",
      "metadata": {
        "colab": {
          "base_uri": "https://localhost:8080/"
        },
        "id": "nA-LJnBDwhu7",
        "outputId": "c244ae1d-7776-41b5-9c1c-bd650247290e"
      },
      "source": [
        "sigmoid(0.5)"
      ],
      "execution_count": null,
      "outputs": [
        {
          "output_type": "execute_result",
          "data": {
            "text/plain": [
              "0.6224593312018546"
            ]
          },
          "metadata": {
            "tags": []
          },
          "execution_count": 3
        }
      ]
    },
    {
      "cell_type": "markdown",
      "metadata": {
        "id": "1qiGxZEFwyRn"
      },
      "source": [
        "# Tanh Function"
      ]
    },
    {
      "cell_type": "code",
      "metadata": {
        "id": "Il8hXsqZw13e"
      },
      "source": [
        "def tanh(x):\r\n",
        "  return (math.exp(x) - math.exp(-x)) / (math.exp(x) + math.exp(-x))"
      ],
      "execution_count": null,
      "outputs": []
    },
    {
      "cell_type": "code",
      "metadata": {
        "id": "2XrC8FL_w9fC"
      },
      "source": [
        "def tanh(x):\r\n",
        "  return (1 - math.exp(-2*x)) / (1 + math.exp(-2*x))"
      ],
      "execution_count": null,
      "outputs": []
    },
    {
      "cell_type": "code",
      "metadata": {
        "colab": {
          "base_uri": "https://localhost:8080/"
        },
        "id": "Qut_h1cAxCLu",
        "outputId": "8d8645f9-79ea-4136-f408-639ca81900d5"
      },
      "source": [
        "tanh(-56)"
      ],
      "execution_count": null,
      "outputs": [
        {
          "output_type": "execute_result",
          "data": {
            "text/plain": [
              "-1.0"
            ]
          },
          "metadata": {
            "tags": []
          },
          "execution_count": 7
        }
      ]
    },
    {
      "cell_type": "markdown",
      "metadata": {
        "id": "e6fQI_NJxM2G"
      },
      "source": [
        "# ReLU"
      ]
    },
    {
      "cell_type": "code",
      "metadata": {
        "id": "CD7gfc7HxPWQ"
      },
      "source": [
        "def relu(x):\r\n",
        "    return max(0,x)"
      ],
      "execution_count": null,
      "outputs": []
    },
    {
      "cell_type": "code",
      "metadata": {
        "colab": {
          "base_uri": "https://localhost:8080/"
        },
        "id": "Dw_zXWpKxTXU",
        "outputId": "1a259e2a-d7a2-475c-cb36-f65e12f872c7"
      },
      "source": [
        "relu(-100)"
      ],
      "execution_count": null,
      "outputs": [
        {
          "output_type": "execute_result",
          "data": {
            "text/plain": [
              "0"
            ]
          },
          "metadata": {
            "tags": []
          },
          "execution_count": 9
        }
      ]
    },
    {
      "cell_type": "code",
      "metadata": {
        "colab": {
          "base_uri": "https://localhost:8080/"
        },
        "id": "doBw_-WyxW-7",
        "outputId": "b339b5b1-4845-440c-ad13-28ef86f24581"
      },
      "source": [
        "relu(100)"
      ],
      "execution_count": null,
      "outputs": [
        {
          "output_type": "execute_result",
          "data": {
            "text/plain": [
              "100"
            ]
          },
          "metadata": {
            "tags": []
          },
          "execution_count": 10
        }
      ]
    },
    {
      "cell_type": "markdown",
      "metadata": {
        "id": "JMqVgfMkxcP-"
      },
      "source": [
        "# Leaky ReLU"
      ]
    },
    {
      "cell_type": "code",
      "metadata": {
        "id": "nKQaIbBYxeSW"
      },
      "source": [
        "def leaky_relu(x):\r\n",
        "    return max(0.1*x,x)"
      ],
      "execution_count": null,
      "outputs": []
    },
    {
      "cell_type": "code",
      "metadata": {
        "colab": {
          "base_uri": "https://localhost:8080/"
        },
        "id": "9OFUVtzvxj42",
        "outputId": "a9a70fc8-7a04-4412-c3e3-502f44d9a631"
      },
      "source": [
        "leaky_relu(-100)"
      ],
      "execution_count": null,
      "outputs": [
        {
          "output_type": "execute_result",
          "data": {
            "text/plain": [
              "-10.0"
            ]
          },
          "metadata": {
            "tags": []
          },
          "execution_count": 12
        }
      ]
    },
    {
      "cell_type": "markdown",
      "metadata": {
        "id": "WNcpPggiyObu"
      },
      "source": [
        "# Softmax"
      ]
    },
    {
      "cell_type": "code",
      "metadata": {
        "colab": {
          "base_uri": "https://localhost:8080/"
        },
        "id": "Kx9sqvTiyQy7",
        "outputId": "aef2b93c-a0f0-4325-dede-7d442743cc17"
      },
      "source": [
        "# example of a function for calculating softmax for a list of numbers\r\n",
        "from numpy import exp\r\n",
        " \r\n",
        "# calculate the softmax of a vector\r\n",
        "def softmax(vector):\r\n",
        "\te = exp(vector)\r\n",
        "\treturn e / e.sum()\r\n",
        " \r\n",
        "# define data\r\n",
        "data = [1, 3, 2]\r\n",
        "# convert list of numbers to a list of probabilities\r\n",
        "result = softmax(data)\r\n",
        "# report the probabilities\r\n",
        "print(result)\r\n",
        "# report the sum of the probabilities\r\n",
        "print(sum(result))"
      ],
      "execution_count": null,
      "outputs": [
        {
          "output_type": "stream",
          "text": [
            "[0.09003057 0.66524096 0.24472847]\n",
            "1.0\n"
          ],
          "name": "stdout"
        }
      ]
    },
    {
      "cell_type": "code",
      "metadata": {
        "colab": {
          "base_uri": "https://localhost:8080/"
        },
        "id": "8WGUU-iuyWSG",
        "outputId": "4e827716-037a-4975-9926-29baf71b3a43"
      },
      "source": [
        "softmax([3,4,1,4])"
      ],
      "execution_count": null,
      "outputs": [
        {
          "output_type": "execute_result",
          "data": {
            "text/plain": [
              "array([0.15216302, 0.41362198, 0.02059303, 0.41362198])"
            ]
          },
          "metadata": {
            "tags": []
          },
          "execution_count": 15
        }
      ]
    },
    {
      "cell_type": "code",
      "metadata": {
        "colab": {
          "base_uri": "https://localhost:8080/"
        },
        "id": "01dbCLIMylMU",
        "outputId": "49241820-0d2b-4ab7-df70-40c71e8d0d5e"
      },
      "source": [
        "softmax(2)"
      ],
      "execution_count": null,
      "outputs": [
        {
          "output_type": "execute_result",
          "data": {
            "text/plain": [
              "1.0"
            ]
          },
          "metadata": {
            "tags": []
          },
          "execution_count": 16
        }
      ]
    },
    {
      "cell_type": "markdown",
      "metadata": {
        "id": "E1j92FLE0cMh"
      },
      "source": [
        "# Unit Step Function"
      ]
    },
    {
      "cell_type": "code",
      "metadata": {
        "id": "ve2GgWOd0f_-"
      },
      "source": [
        "def unit_step_function(x):\r\n",
        "        if  x <= 0:\r\n",
        "            return 0\r\n",
        "        else:\r\n",
        "            return 1"
      ],
      "execution_count": null,
      "outputs": []
    },
    {
      "cell_type": "code",
      "metadata": {
        "colab": {
          "base_uri": "https://localhost:8080/"
        },
        "id": "CcLqrSkQ0kkI",
        "outputId": "c481e78e-5eeb-4044-e25c-5d0cef3c55a2"
      },
      "source": [
        "unit_step_function(-10)"
      ],
      "execution_count": null,
      "outputs": [
        {
          "output_type": "execute_result",
          "data": {
            "text/plain": [
              "0"
            ]
          },
          "metadata": {
            "tags": []
          },
          "execution_count": 19
        }
      ]
    },
    {
      "cell_type": "markdown",
      "metadata": {
        "id": "bch4ka2N1VG1"
      },
      "source": [
        "# Mean Absolute Error"
      ]
    },
    {
      "cell_type": "code",
      "metadata": {
        "colab": {
          "base_uri": "https://localhost:8080/"
        },
        "id": "Ojq_UiKo1ckc",
        "outputId": "96160fab-c8cd-4231-e5bb-cc99e7bcb28f"
      },
      "source": [
        "import numpy as np\r\n",
        "import pandas as pd\r\n",
        "import math\r\n",
        "\r\n",
        "def mae(y_pred, y_true):\r\n",
        "    return np.mean(np.abs(y_pred - y_true))\r\n",
        "\r\n",
        "y_predicted = np.array([1,1,0,0,1])\r\n",
        "y_true = np.array([0.30,0.7,1,0,0.5])\r\n",
        "mae(y_predicted,y_true)\r\n"
      ],
      "execution_count": null,
      "outputs": [
        {
          "output_type": "execute_result",
          "data": {
            "text/plain": [
              "0.5"
            ]
          },
          "metadata": {
            "tags": []
          },
          "execution_count": 29
        }
      ]
    },
    {
      "cell_type": "markdown",
      "metadata": {
        "id": "QIvR9W1qFGXC"
      },
      "source": [
        "# Mean Absolute Error, or L1 loss."
      ]
    },
    {
      "cell_type": "code",
      "metadata": {
        "id": "vVKGOBNPFD3S"
      },
      "source": [
        "def L1(yHat, y):\r\n",
        "    return np.sum(np.absolute(yHat - y)) / y.size"
      ],
      "execution_count": null,
      "outputs": []
    },
    {
      "cell_type": "markdown",
      "metadata": {
        "id": "W1p1A3QMFMXQ"
      },
      "source": [
        "# Mean Squared Error, or L2 loss. "
      ]
    },
    {
      "cell_type": "code",
      "metadata": {
        "id": "e_RUv16aFXYw"
      },
      "source": [
        "def MSE(yHat, y):\r\n",
        "    return np.sum((yHat - y)**2) / y.size"
      ],
      "execution_count": null,
      "outputs": []
    },
    {
      "cell_type": "markdown",
      "metadata": {
        "id": "i5u9va_523vg"
      },
      "source": [
        "# Mean Squared Error"
      ]
    },
    {
      "cell_type": "code",
      "metadata": {
        "colab": {
          "base_uri": "https://localhost:8080/"
        },
        "id": "7GVXeig21fuZ",
        "outputId": "939bd70d-61ad-4fd2-af6f-5ea61098e86a"
      },
      "source": [
        "import numpy as np\r\n",
        "import pandas as pd\r\n",
        "import math\r\n",
        "\r\n",
        "def mse(y_pred, Y_true):\r\n",
        "    return np.mean( pow(np.abs(y_pred - Y_true),2) )\r\n",
        "\r\n",
        "y_predicted = np.array([1,1,0,0,1])\r\n",
        "y_true = np.array([0.30,0.7,1,0,0.5])\r\n",
        "\r\n",
        "print(\"Mean sq error is: \", mse(y_predicted, y_true))"
      ],
      "execution_count": null,
      "outputs": [
        {
          "output_type": "stream",
          "text": [
            "Mean sq error is:  0.366\n"
          ],
          "name": "stdout"
        }
      ]
    },
    {
      "cell_type": "markdown",
      "metadata": {
        "id": "4SS7e4N74552"
      },
      "source": [
        "# Squared Error"
      ]
    },
    {
      "cell_type": "code",
      "metadata": {
        "colab": {
          "base_uri": "https://localhost:8080/"
        },
        "id": "CainqnDA47sZ",
        "outputId": "c4ce4b5b-4919-4624-f123-dd68a729b8a4"
      },
      "source": [
        "import numpy as np\r\n",
        "import pandas as pd\r\n",
        "import math\r\n",
        "\r\n",
        "def se(y_predicted, y_true):\r\n",
        "    SE = 0\r\n",
        "    for yp, yt in zip(y_predicted, y_true):\r\n",
        "        SE += pow((yp - yt),2)\r\n",
        "    return SE\r\n",
        "\r\n",
        "\r\n",
        "y_predicted = np.array([1,1,0,0,1])\r\n",
        "y_true = np.array([0.30,0.7,1,0,0.5])\r\n",
        "\r\n",
        "\r\n",
        "SE = se(y_predicted, y_true)\r\n",
        "MSE = np.mean(SE)\r\n",
        "print(\"SE is: \", SE )"
      ],
      "execution_count": null,
      "outputs": [
        {
          "output_type": "stream",
          "text": [
            "SE is:  1.83\n"
          ],
          "name": "stdout"
        }
      ]
    },
    {
      "cell_type": "code",
      "metadata": {
        "colab": {
          "base_uri": "https://localhost:8080/"
        },
        "id": "Qj-94idj5rSD",
        "outputId": "c6ce47c6-6891-4986-fdde-74fa4a0041a6"
      },
      "source": [
        "import numpy as np\r\n",
        "import pandas as pd\r\n",
        "import math\r\n",
        "\r\n",
        "def se(yp, yt):\r\n",
        "  SE = sum(pow((yp - yt),2))\r\n",
        "  return SE\r\n",
        "\r\n",
        "\r\n",
        "y_predicted = np.array([1,1,0,0,1])\r\n",
        "y_true = np.array([0.30,0.7,1,0,0.5])\r\n",
        "\r\n",
        "\r\n",
        "SE = se(y_predicted, y_true)\r\n",
        "MSE = np.mean(SE)\r\n",
        "print(\"SE is: \", SE )"
      ],
      "execution_count": null,
      "outputs": [
        {
          "output_type": "stream",
          "text": [
            "SE is:  1.83\n"
          ],
          "name": "stdout"
        }
      ]
    },
    {
      "cell_type": "markdown",
      "metadata": {
        "id": "Ou_CVgk1-L1b"
      },
      "source": [
        "# Log Loss"
      ]
    },
    {
      "cell_type": "markdown",
      "metadata": {
        "id": "3noJxYeH_ou5"
      },
      "source": [
        "# Also called Binary Cross Entropy"
      ]
    },
    {
      "cell_type": "code",
      "metadata": {
        "colab": {
          "base_uri": "https://localhost:8080/"
        },
        "id": "2oKbrZQ1-OlS",
        "outputId": "7b382f17-61b0-454a-e574-01e9ea592853"
      },
      "source": [
        "import numpy as np\r\n",
        "import pandas as pd\r\n",
        "import math\r\n",
        "\r\n",
        "def log_loss(y_true, y_predicted):\r\n",
        "    y_predicted_new = [max(i,epsilon) for i in y_predicted]\r\n",
        "    y_predicted_new = [min(i,1-epsilon) for i in y_predicted_new]\r\n",
        "    y_predicted_new = np.array(y_predicted_new)\r\n",
        "    \r\n",
        "    log_loss = -np.mean(y_true*np.log(y_predicted_new)+(1-y_true)*np.log(1-y_predicted_new))\r\n",
        "    \r\n",
        "    return log_loss\r\n",
        "\r\n",
        "y_predicted = np.array([1,1,0,0,1])\r\n",
        "y_true = np.array([0.30,0.7,1,0,0.5])\r\n",
        "epsilon = 1e-5\r\n",
        "\r\n",
        "logloss = log_loss(y_true, y_predicted)\r\n",
        "print(logloss)"
      ],
      "execution_count": null,
      "outputs": [
        {
          "output_type": "stream",
          "text": [
            "5.75646773251148\n"
          ],
          "name": "stdout"
        }
      ]
    },
    {
      "cell_type": "markdown",
      "metadata": {
        "id": "hblyuw5TBSPQ"
      },
      "source": [
        "# Cross Entropy"
      ]
    },
    {
      "cell_type": "markdown",
      "metadata": {
        "id": "-J2bexouBpo7"
      },
      "source": [
        "https://ml-cheatsheet.readthedocs.io/en/latest/loss_functions.html"
      ]
    },
    {
      "cell_type": "code",
      "metadata": {
        "id": "ydZfG0Q7BVqm"
      },
      "source": [
        "def CrossEntropy(yHat, y):\r\n",
        "    if y == 1:\r\n",
        "      return -log(yHat)\r\n",
        "    else:\r\n",
        "      return -log(1 - yHat)"
      ],
      "execution_count": null,
      "outputs": []
    },
    {
      "cell_type": "code",
      "metadata": {
        "id": "n-RRcs4XBMNf"
      },
      "source": [
        ""
      ],
      "execution_count": null,
      "outputs": []
    }
  ]
}